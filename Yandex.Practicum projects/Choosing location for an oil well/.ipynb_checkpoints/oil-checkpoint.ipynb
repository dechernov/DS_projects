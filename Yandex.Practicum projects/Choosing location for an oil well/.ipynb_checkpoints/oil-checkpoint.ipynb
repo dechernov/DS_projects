{
 "cells": [
  {
   "cell_type": "markdown",
   "metadata": {
    "toc": true
   },
   "source": [
    "<h1>Table of contents<span class=\"tocSkip\"></span></h1>\n",
    "<div class=\"toc\"><ul class=\"toc-item\"><li><span><a href=\"#Project-description\" data-toc-modified-id=\"Project-description-1\"><span class=\"toc-item-num\">1&nbsp;&nbsp;</span>Project description</a></span></li><li><span><a href=\"#Data-description\" data-toc-modified-id=\"Data-description-2\"><span class=\"toc-item-num\">2&nbsp;&nbsp;</span>Data description</a></span></li><li><span><a href=\"#Data-pre-processing\" data-toc-modified-id=\"Data-pre-processing-3\"><span class=\"toc-item-num\">3&nbsp;&nbsp;</span>Data pre-processing</a></span><ul class=\"toc-item\"><li><span><a href=\"#Conclusions\" data-toc-modified-id=\"Conclusions-3.1\"><span class=\"toc-item-num\">3.1&nbsp;&nbsp;</span>Conclusions</a></span></li></ul></li><li><span><a href=\"#Model-fitting-and-testing\" data-toc-modified-id=\"Model-fitting-and-testing-4\"><span class=\"toc-item-num\">4&nbsp;&nbsp;</span>Model fitting and testing</a></span><ul class=\"toc-item\"><li><span><a href=\"#Model-fitting-for-region-0\" data-toc-modified-id=\"Model-fitting-for-region-0-4.1\"><span class=\"toc-item-num\">4.1&nbsp;&nbsp;</span>Model fitting for region 0</a></span></li><li><span><a href=\"#Model-fitting-for-region-1\" data-toc-modified-id=\"Model-fitting-for-region-1-4.2\"><span class=\"toc-item-num\">4.2&nbsp;&nbsp;</span>Model fitting for region 1</a></span></li><li><span><a href=\"#Model-fitting-for-region-2\" data-toc-modified-id=\"Model-fitting-for-region-2-4.3\"><span class=\"toc-item-num\">4.3&nbsp;&nbsp;</span>Model fitting for region 2</a></span></li><li><span><a href=\"#Pivoting-quality-metrics\" data-toc-modified-id=\"Pivoting-quality-metrics-4.4\"><span class=\"toc-item-num\">4.4&nbsp;&nbsp;</span>Pivoting quality metrics</a></span></li><li><span><a href=\"#Conclusions\" data-toc-modified-id=\"Conclusions-4.5\"><span class=\"toc-item-num\">4.5&nbsp;&nbsp;</span>Conclusions</a></span></li></ul></li><li><span><a href=\"#Evaluating-profits\" data-toc-modified-id=\"Evaluating-profits-5\"><span class=\"toc-item-num\">5&nbsp;&nbsp;</span>Evaluating profits</a></span><ul class=\"toc-item\"><li><span><a href=\"#Conclusions\" data-toc-modified-id=\"Conclusions-5.1\"><span class=\"toc-item-num\">5.1&nbsp;&nbsp;</span>Conclusions</a></span></li></ul></li><li><span><a href=\"#Calculating-profits-and-risks\" data-toc-modified-id=\"Calculating-profits-and-risks-6\"><span class=\"toc-item-num\">6&nbsp;&nbsp;</span>Calculating profits and risks</a></span><ul class=\"toc-item\"><li><span><a href=\"#Region-0-profit\" data-toc-modified-id=\"Region-0-profit-6.1\"><span class=\"toc-item-num\">6.1&nbsp;&nbsp;</span>Region 0 profit</a></span></li><li><span><a href=\"#Region-1-profit\" data-toc-modified-id=\"Region-1-profit-6.2\"><span class=\"toc-item-num\">6.2&nbsp;&nbsp;</span>Region 1 profit</a></span></li><li><span><a href=\"#Region-2-profit\" data-toc-modified-id=\"Region-2-profit-6.3\"><span class=\"toc-item-num\">6.3&nbsp;&nbsp;</span>Region 2 profit</a></span></li></ul></li><li><span><a href=\"#Summary\" data-toc-modified-id=\"Summary-7\"><span class=\"toc-item-num\">7&nbsp;&nbsp;</span>Summary</a></span></li></ul></div>"
   ]
  },
  {
   "cell_type": "markdown",
   "metadata": {},
   "source": [
    "# Choosing location for an oil-well"
   ]
  },
  {
   "cell_type": "markdown",
   "metadata": {},
   "source": [
    "## Project description "
   ]
  },
  {
   "cell_type": "markdown",
   "metadata": {},
   "source": [
    "**Background:** an oil-producing company plans to develop a new oil well. It is essential to determine the location of a new field.\n",
    "\n",
    "**Goal:** determine the most potentially productive and profitable region.\n",
    "\n",
    "**Tasks:** build a linear regression that predicts production volumes for each region. Select the top 200 oil wells with the highest estimated values. Determine the region with the maximum total profit of selected oil wells.\n",
    "\n",
    "**Business environment:** oil well development in the region costs 10 billion rubles. At current prices, one barrel of raw materials brings 450 rubles of income. The income from each unit of the product is 450 thousand rubles (the volume is indicated in thousands of barrels).\n"
   ]
  },
  {
   "cell_type": "markdown",
   "metadata": {},
   "source": [
    "## Data description"
   ]
  },
  {
   "cell_type": "markdown",
   "metadata": {},
   "source": [
    "THe dataset contains 3 tables (one per each region) with the following columns:\n",
    "* `id` — unique id of wellsite;\n",
    "* `f0` — 1st feature, which characterizes oil well;\n",
    "* `f1` — 2nd feature, which characterizes oil well;\n",
    "* `f2` — 3rd feature, which characterizes oil well;\n",
    "* `product` — oil reserves volume in the oil well (thousand barrels)."
   ]
  },
  {
   "cell_type": "markdown",
   "metadata": {},
   "source": [
    "## Data pre-processing"
   ]
  },
  {
   "cell_type": "code",
   "execution_count": 1,
   "metadata": {},
   "outputs": [],
   "source": [
    "# importing libraries\n",
    "import pandas as pd\n",
    "import numpy as np\n",
    "import matplotlib.pyplot as plt\n",
    "import plotly.express as px\n",
    "import seaborn as sns\n",
    "\n",
    "from sklearn.linear_model import LinearRegression\n",
    "from sklearn.model_selection import train_test_split \n",
    "from sklearn.pipeline import make_pipeline, Pipeline\n",
    "from sklearn.preprocessing import StandardScaler\n",
    "from sklearn.compose import make_column_transformer, make_column_selector, ColumnTransformer\n",
    "from sklearn.metrics import mean_squared_error, r2_score"
   ]
  },
  {
   "cell_type": "code",
   "execution_count": 2,
   "metadata": {},
   "outputs": [],
   "source": [
    "#reading files\n",
    "region_0 = pd.read_csv('https://code.s3.yandex.net/datasets/geo_data_0.csv')\n",
    "region_0.name = 'region_0'\n",
    "region_1 = pd.read_csv('https://code.s3.yandex.net/datasets/geo_data_1.csv')\n",
    "region_1.name = 'region_1'\n",
    "region_2 = pd.read_csv('https://code.s3.yandex.net/datasets/geo_data_2.csv')\n",
    "region_2.name = 'region_2'"
   ]
  },
  {
   "cell_type": "code",
   "execution_count": 3,
   "metadata": {},
   "outputs": [
    {
     "name": "stdout",
     "output_type": "stream",
     "text": [
      "<class 'pandas.core.frame.DataFrame'>\n",
      "RangeIndex: 100000 entries, 0 to 99999\n",
      "Data columns (total 5 columns):\n",
      " #   Column   Non-Null Count   Dtype  \n",
      "---  ------   --------------   -----  \n",
      " 0   id       100000 non-null  object \n",
      " 1   f0       100000 non-null  float64\n",
      " 2   f1       100000 non-null  float64\n",
      " 3   f2       100000 non-null  float64\n",
      " 4   product  100000 non-null  float64\n",
      "dtypes: float64(4), object(1)\n",
      "memory usage: 3.8+ MB\n",
      "None\n",
      "\n",
      "\n",
      "<class 'pandas.core.frame.DataFrame'>\n",
      "RangeIndex: 100000 entries, 0 to 99999\n",
      "Data columns (total 5 columns):\n",
      " #   Column   Non-Null Count   Dtype  \n",
      "---  ------   --------------   -----  \n",
      " 0   id       100000 non-null  object \n",
      " 1   f0       100000 non-null  float64\n",
      " 2   f1       100000 non-null  float64\n",
      " 3   f2       100000 non-null  float64\n",
      " 4   product  100000 non-null  float64\n",
      "dtypes: float64(4), object(1)\n",
      "memory usage: 3.8+ MB\n",
      "None\n",
      "\n",
      "\n",
      "<class 'pandas.core.frame.DataFrame'>\n",
      "RangeIndex: 100000 entries, 0 to 99999\n",
      "Data columns (total 5 columns):\n",
      " #   Column   Non-Null Count   Dtype  \n",
      "---  ------   --------------   -----  \n",
      " 0   id       100000 non-null  object \n",
      " 1   f0       100000 non-null  float64\n",
      " 2   f1       100000 non-null  float64\n",
      " 3   f2       100000 non-null  float64\n",
      " 4   product  100000 non-null  float64\n",
      "dtypes: float64(4), object(1)\n",
      "memory usage: 3.8+ MB\n",
      "None\n",
      "\n",
      "\n"
     ]
    }
   ],
   "source": [
    "#list with tables\n",
    "tables = [region_0, region_1, region_2]\n",
    "#tables info\n",
    "for table in tables:\n",
    "    print(table.info())\n",
    "    print('\\n')"
   ]
  },
  {
   "cell_type": "code",
   "execution_count": 4,
   "metadata": {},
   "outputs": [
    {
     "name": "stdout",
     "output_type": "stream",
     "text": [
      "Unique observations for region: region_0\n",
      "id          99990\n",
      "f0         100000\n",
      "f1         100000\n",
      "f2         100000\n",
      "product    100000\n",
      "dtype: int64\n",
      "\n",
      "\n",
      "Unique observations for region: region_1\n",
      "id          99996\n",
      "f0         100000\n",
      "f1         100000\n",
      "f2         100000\n",
      "product        12\n",
      "dtype: int64\n",
      "\n",
      "\n",
      "Unique observations for region: region_2\n",
      "id          99996\n",
      "f0         100000\n",
      "f1         100000\n",
      "f2         100000\n",
      "product    100000\n",
      "dtype: int64\n",
      "\n",
      "\n"
     ]
    }
   ],
   "source": [
    "for table in tables:\n",
    "    print(f'Unique observations for region: {table.name}')\n",
    "    print(table.nunique())\n",
    "    print('\\n')"
   ]
  },
  {
   "cell_type": "code",
   "execution_count": 5,
   "metadata": {},
   "outputs": [
    {
     "name": "stdout",
     "output_type": "stream",
     "text": [
      "Number of duplicates for: region_0\n",
      "0\n",
      "\n",
      "\n",
      "Number of duplicates for: region_1\n",
      "0\n",
      "\n",
      "\n",
      "Number of duplicates for: region_2\n",
      "0\n",
      "\n",
      "\n"
     ]
    }
   ],
   "source": [
    "for table in tables:\n",
    "    print(f'Number of duplicates for: {table.name}')\n",
    "    print(table.duplicated().sum())\n",
    "    print('\\n')"
   ]
  },
  {
   "cell_type": "markdown",
   "metadata": {},
   "source": [
    "There are no missing values in the dataset. However, it should be noted that there are duplicate values for oil wells' ids. Perhaps, samples were taken for some oil wells several times. Also, there are only 12 unique values of oil volume in the 1st region, while there are no completely identical rows. This fact should be reported to the customer and the models should be corrected in the future.\n",
    "\n",
    "At this stage, we will remove the column with the oil well's ids, since the model may be overfitting with this feature."
   ]
  },
  {
   "cell_type": "code",
   "execution_count": 6,
   "metadata": {},
   "outputs": [],
   "source": [
    "#deleting ids\n",
    "for region in tables:\n",
    "    region.drop(['id'], axis=1, inplace=True)"
   ]
  },
  {
   "cell_type": "code",
   "execution_count": 7,
   "metadata": {},
   "outputs": [
    {
     "data": {
      "image/png": "[encoded data removed]",
      "text/plain": [
       "<Figure size 388.8x388.8 with 20 Axes>"
      ]
     },
     "metadata": {
      "needs_background": "light"
     },
     "output_type": "display_data"
    },
    {
     "data": {
      "image/png": "[encoded data removed]",
      "text/plain": [
       "<Figure size 388.8x388.8 with 20 Axes>"
      ]
     },
     "metadata": {
      "needs_background": "light"
     },
     "output_type": "display_data"
    },
    {
     "data": {
      "image/png": "[encoded data removed]",
      "text/plain": [
       "<Figure size 388.8x388.8 with 20 Axes>"
      ]
     },
     "metadata": {
      "needs_background": "light"
     },
     "output_type": "display_data"
    }
   ],
   "source": [
    "for region in tables:\n",
    "    g = sns.pairplot(region, height=1.35)\n",
    "    g.fig.suptitle(f'Scatterplot for {region.name}', y=1.05)"
   ]
  },
  {
   "cell_type": "code",
   "execution_count": 8,
   "metadata": {},
   "outputs": [
    {
     "data": {
      "image/png": "[encoded data removed]",
      "text/plain": [
       "<Figure size 720x360 with 2 Axes>"
      ]
     },
     "metadata": {
      "needs_background": "light"
     },
     "output_type": "display_data"
    }
   ],
   "source": [
    "#correlation matrix for the 1st region\n",
    "plt.figure(figsize=(10,5))\n",
    "sns.heatmap(region_1.corr());"
   ]
  },
  {
   "cell_type": "markdown",
   "metadata": {},
   "source": [
    "The graph shows a high correlation between the reserve volume and f2 feature in the first region."
   ]
  },
  {
   "cell_type": "markdown",
   "metadata": {},
   "source": [
    "### Conclusions"
   ]
  },
  {
   "cell_type": "markdown",
   "metadata": {},
   "source": [
    "* **To minimize overfitting of linear regression models, the columns with unique wells' ids were removed;**\n",
    "* **It is worth mentioning that there were duplicate values for the wells' ids. This fact may be related to repeated sampling. It should also be noted that there are only 12 unique values of reserves for wells in region number 1, while there are no completely identical rows. This should be reported to the customer and the models should be corrected in the future;**\n",
    "* **At the next stage, we will train linear regression models, but firstly, divide the dataset into training and validation sets with obersvations scaling.**"
   ]
  },
  {
   "cell_type": "markdown",
   "metadata": {},
   "source": [
    "## Model fitting and testing"
   ]
  },
  {
   "cell_type": "code",
   "execution_count": 9,
   "metadata": {},
   "outputs": [],
   "source": [
    "#linear regression model function, which includes dataset splitting, scaling, pipeline and metrics \n",
    "def regr_model(dataset):\n",
    "    features = dataset.drop('product', axis = 1)\n",
    "    target = dataset['product']\n",
    "    #splitting\n",
    "    features_train, features_valid, target_train, target_valid = train_test_split(features, \n",
    "                                                                            target, \n",
    "                                                                            test_size = 0.25, \n",
    "                                                                            random_state = 42)\n",
    "    \n",
    "    #scaling observations for linear regression\n",
    "    scaler = make_column_transformer(\n",
    "        (StandardScaler(),\n",
    "        make_column_selector(dtype_include=np.number)\n",
    "        )\n",
    "    )\n",
    "    \n",
    "    #pipeline with scaling\n",
    "    regr_pipe = Pipeline(steps=[('preprocessor', scaler), \n",
    "                               ('regr', LinearRegression(n_jobs=-1))])\n",
    "    \n",
    "    #linear regression model\n",
    "    regr_pipe.fit(features_train,target_train) \n",
    "    predicted_valid = regr_pipe.predict(features_valid) #predicted values\n",
    "    predicted_mean_barrels = predicted_valid.mean() #average predicted volume of oil \n",
    "    target_mean = target_valid.mean() #average volume of oil for validation set\n",
    "    rmse = (mean_squared_error(target_valid, predicted_valid) ** 0.5)\n",
    "    r2 = r2_score(target_valid, predicted_valid)\n",
    "    \n",
    "    #info dict with the model, predicted and actual values, and metrics \n",
    "    info = {'model': regr_pipe,\n",
    "            'predicted_valid': predicted_valid,\n",
    "            'target_valid': target_valid.reset_index(drop = True), \n",
    "            'predicted_mean_barrels': predicted_mean_barrels,\n",
    "            'target_mean_barrels': target_mean,\n",
    "            'rmse': rmse,\n",
    "            'r2': r2             \n",
    "            }\n",
    "    \n",
    "    return info"
   ]
  },
  {
   "cell_type": "markdown",
   "metadata": {},
   "source": [
    "### Model fitting for region 0"
   ]
  },
  {
   "cell_type": "code",
   "execution_count": 10,
   "metadata": {},
   "outputs": [],
   "source": [
    "model_reg_0 = regr_model(region_0)"
   ]
  },
  {
   "cell_type": "code",
   "execution_count": 11,
   "metadata": {},
   "outputs": [
    {
     "name": "stdout",
     "output_type": "stream",
     "text": [
      "Average predicted oil volume, thousands of barrels: 92.4\n",
      "Average actual oil volume, thousands of barrels: 92.33\n",
      "RMSE value, thousands of barrels: 37.76\n",
      "R2 coefficient: 0.27\n"
     ]
    }
   ],
   "source": [
    "print('Average predicted oil volume, thousands of barrels:', round(model_reg_0['predicted_mean_barrels'], 2))\n",
    "print('Average actual oil volume, thousands of barrels:', round(model_reg_0['target_mean_barrels'], 2))\n",
    "print('RMSE value, thousands of barrels:', round(model_reg_0['rmse'], 2))\n",
    "print('R2 coefficient:', round(model_reg_0['r2'], 2))"
   ]
  },
  {
   "cell_type": "markdown",
   "metadata": {},
   "source": [
    "### Model fitting for region 1"
   ]
  },
  {
   "cell_type": "code",
   "execution_count": 12,
   "metadata": {},
   "outputs": [],
   "source": [
    "model_reg_1 = regr_model(region_1)"
   ]
  },
  {
   "cell_type": "code",
   "execution_count": 13,
   "metadata": {},
   "outputs": [
    {
     "name": "stdout",
     "output_type": "stream",
     "text": [
      "Average predicted oil volume, thousands of barrels: 68.71\n",
      "Average actual oil volume, thousands of barrels: 68.73\n",
      "RMSE value, thousands of barrels: 0.89\n",
      "R2 coefficient: 1.0\n"
     ]
    }
   ],
   "source": [
    "print('Average predicted oil volume, thousands of barrels:', round(model_reg_1['predicted_mean_barrels'], 2))\n",
    "print('Average actual oil volume, thousands of barrels:', round(model_reg_1['target_mean_barrels'], 2))\n",
    "print('RMSE value, thousands of barrels:', round(model_reg_1['rmse'], 2))\n",
    "print('R2 coefficient:', round(model_reg_1['r2'], 2))"
   ]
  },
  {
   "cell_type": "markdown",
   "metadata": {},
   "source": [
    "### Model fitting for region 2"
   ]
  },
  {
   "cell_type": "code",
   "execution_count": 14,
   "metadata": {},
   "outputs": [],
   "source": [
    "model_reg_2 = regr_model(region_2)"
   ]
  },
  {
   "cell_type": "code",
   "execution_count": 15,
   "metadata": {},
   "outputs": [
    {
     "name": "stdout",
     "output_type": "stream",
     "text": [
      "Average predicted oil volume, thousands of barrels: 94.77\n",
      "Average actual oil volume, thousands of barrels: 95.15\n",
      "RMSE value, thousands of barrels: 40.15\n",
      "R2 coefficient: 0.2\n"
     ]
    }
   ],
   "source": [
    "print('Average predicted oil volume, thousands of barrels:', round(model_reg_2['predicted_mean_barrels'], 2))\n",
    "print('Average actual oil volume, thousands of barrels:', round(model_reg_2['target_mean_barrels'], 2))\n",
    "print('RMSE value, thousands of barrels:', round(model_reg_2['rmse'], 2))\n",
    "print('R2 coefficient:', round(model_reg_2['r2'], 2))"
   ]
  },
  {
   "cell_type": "markdown",
   "metadata": {},
   "source": [
    "### Pivoting quality metrics"
   ]
  },
  {
   "cell_type": "code",
   "execution_count": 16,
   "metadata": {},
   "outputs": [
    {
     "data": {
      "text/html": [
       "<div>\n",
       "<style scoped>\n",
       "    .dataframe tbody tr th:only-of-type {\n",
       "        vertical-align: middle;\n",
       "    }\n",
       "\n",
       "    .dataframe tbody tr th {\n",
       "        vertical-align: top;\n",
       "    }\n",
       "\n",
       "    .dataframe thead th {\n",
       "        text-align: right;\n",
       "    }\n",
       "</style>\n",
       "<table border=\"1\" class=\"dataframe\">\n",
       "  <thead>\n",
       "    <tr style=\"text-align: right;\">\n",
       "      <th></th>\n",
       "      <th>region 0</th>\n",
       "      <th>region 1</th>\n",
       "      <th>region 2</th>\n",
       "    </tr>\n",
       "  </thead>\n",
       "  <tbody>\n",
       "    <tr>\n",
       "      <th>Average predicted oil volume</th>\n",
       "      <td>92.398800</td>\n",
       "      <td>68.712878</td>\n",
       "      <td>94.771024</td>\n",
       "    </tr>\n",
       "    <tr>\n",
       "      <th>Average actual oil volume</th>\n",
       "      <td>92.325956</td>\n",
       "      <td>68.725381</td>\n",
       "      <td>95.150999</td>\n",
       "    </tr>\n",
       "    <tr>\n",
       "      <th>RMSE</th>\n",
       "      <td>37.756600</td>\n",
       "      <td>0.890280</td>\n",
       "      <td>40.145872</td>\n",
       "    </tr>\n",
       "    <tr>\n",
       "      <th>R2</th>\n",
       "      <td>0.272829</td>\n",
       "      <td>0.999625</td>\n",
       "      <td>0.196347</td>\n",
       "    </tr>\n",
       "  </tbody>\n",
       "</table>\n",
       "</div>"
      ],
      "text/plain": [
       "                               region 0   region 1   region 2\n",
       "Average predicted oil volume  92.398800  68.712878  94.771024\n",
       "Average actual oil volume     92.325956  68.725381  95.150999\n",
       "RMSE                          37.756600   0.890280  40.145872\n",
       "R2                             0.272829   0.999625   0.196347"
      ]
     },
     "metadata": {},
     "output_type": "display_data"
    }
   ],
   "source": [
    "#metrics list\n",
    "models_pred_bar = [model_reg_0['predicted_mean_barrels'],\n",
    "                   model_reg_1['predicted_mean_barrels'], \n",
    "                   model_reg_2['predicted_mean_barrels']]\n",
    "\n",
    "models_act_bar = [model_reg_0['target_mean_barrels'], \n",
    "                  model_reg_1['target_mean_barrels'], \n",
    "                  model_reg_2['target_mean_barrels']]\n",
    "\n",
    "models_rmse = [model_reg_0['rmse'], model_reg_1['rmse'], model_reg_2['rmse']]\n",
    "\n",
    "models_r2 = [model_reg_0['r2'], model_reg_1['r2'], model_reg_2['r2']]\n",
    "\n",
    "#metrics dataframe\n",
    "scorings = pd.DataFrame(\n",
    "    data=[models_pred_bar, models_act_bar, models_rmse, models_r2], \n",
    "    index=['Average predicted oil volume',\n",
    "           'Average actual oil volume',\n",
    "           'RMSE', \n",
    "           'R2'], \n",
    "    columns=['region 0','region 1','region 2'])\n",
    "\n",
    "display(scorings)"
   ]
  },
  {
   "cell_type": "markdown",
   "metadata": {},
   "source": [
    "### Conclusions"
   ]
  },
  {
   "cell_type": "markdown",
   "metadata": {},
   "source": [
    "* **The linear regression model demonstrates the best forecasting quality for region №1. There are a high coefficient of determination and a small root-mean-square error;**\n",
    "* **The predicted average volumes are almost identical to the average actual volumes.**\n"
   ]
  },
  {
   "cell_type": "markdown",
   "metadata": {},
   "source": [
    "## Evaluating profits"
   ]
  },
  {
   "cell_type": "markdown",
   "metadata": {},
   "source": [
    "Based on choosing 200 potentially profitable wells, we'll estimate enough oil volume for the oil well break-even development."
   ]
  },
  {
   "cell_type": "code",
   "execution_count": 17,
   "metadata": {},
   "outputs": [],
   "source": [
    "TOP_NUMBER = 200 #number of profitable oil wells\n",
    "INVESTMENTS = 10*(10**9) #investment volume in a region, 10 bln rubles\n",
    "BARREL_PRICE = 450000 #доход за тыс. баррелей"
   ]
  },
  {
   "cell_type": "code",
   "execution_count": 18,
   "metadata": {},
   "outputs": [
    {
     "name": "stdout",
     "output_type": "stream",
     "text": [
      "The oil volume enough for break-even development, thousands of barrels: 111.11\n"
     ]
    }
   ],
   "source": [
    "lossless_barrels = round(INVESTMENTS/TOP_NUMBER/BARREL_PRICE, 2)\n",
    "print('The oil volume enough for break-even development, thousands of barrels:', lossless_barrels)"
   ]
  },
  {
   "cell_type": "markdown",
   "metadata": {},
   "source": [
    "### Conclusions"
   ]
  },
  {
   "cell_type": "markdown",
   "metadata": {},
   "source": [
    "* **The minimum required oil volume for break-even production in the well should be 111.11 thousand barrels.**"
   ]
  },
  {
   "cell_type": "markdown",
   "metadata": {},
   "source": [
    "## Calculating profits and risks"
   ]
  },
  {
   "cell_type": "code",
   "execution_count": 19,
   "metadata": {},
   "outputs": [],
   "source": [
    "#profit calcaulating function for top 200 wells based on volumes\n",
    "def profit(target_valid, predicted_valid):\n",
    "    probabilities = pd.Series(predicted_valid).sort_values(ascending=False)\n",
    "    chosen = target_valid[probabilities.index][:top_number]\n",
    "    return (chosen.sum() * barrel_price - investments)"
   ]
  },
  {
   "cell_type": "markdown",
   "metadata": {},
   "source": [
    "### Region 0 profit"
   ]
  },
  {
   "cell_type": "code",
   "execution_count": 20,
   "metadata": {},
   "outputs": [
    {
     "ename": "NameError",
     "evalue": "name 'top_number' is not defined",
     "output_type": "error",
     "traceback": [
      "\u001b[1;31m---------------------------------------------------------------------------\u001b[0m",
      "\u001b[1;31mNameError\u001b[0m                                 Traceback (most recent call last)",
      "\u001b[1;32mc:\\Users\\Denis\\Documents\\GitHub\\DS_projects\\Yandex.Practicum projects\\Oil\\oil.ipynb Cell 44\u001b[0m in \u001b[0;36m<cell line: 1>\u001b[1;34m()\u001b[0m\n\u001b[0;32m      <a href='vscode-notebook-cell:/c%3A/Users/Denis/Documents/GitHub/DS_projects/Yandex.Practicum%20projects/Oil/oil.ipynb#X62sZmlsZQ%3D%3D?line=0'>1</a>\u001b[0m \u001b[39mprint\u001b[39m(\u001b[39m'\u001b[39m\u001b[39mTop 200 wells profit for region 0, bln rubles:\u001b[39m\u001b[39m'\u001b[39m, \n\u001b[1;32m----> <a href='vscode-notebook-cell:/c%3A/Users/Denis/Documents/GitHub/DS_projects/Yandex.Practicum%20projects/Oil/oil.ipynb#X62sZmlsZQ%3D%3D?line=1'>2</a>\u001b[0m       \u001b[39mround\u001b[39m(profit(model_reg_0[\u001b[39m'\u001b[39;49m\u001b[39mtarget_valid\u001b[39;49m\u001b[39m'\u001b[39;49m], model_reg_0[\u001b[39m'\u001b[39;49m\u001b[39mpredicted_valid\u001b[39;49m\u001b[39m'\u001b[39;49m]) \u001b[39m/\u001b[39m \u001b[39m10\u001b[39m\u001b[39m*\u001b[39m\u001b[39m*\u001b[39m\u001b[39m9\u001b[39m, \u001b[39m2\u001b[39m))\n",
      "\u001b[1;32mc:\\Users\\Denis\\Documents\\GitHub\\DS_projects\\Yandex.Practicum projects\\Oil\\oil.ipynb Cell 44\u001b[0m in \u001b[0;36mprofit\u001b[1;34m(target_valid, predicted_valid)\u001b[0m\n\u001b[0;32m      <a href='vscode-notebook-cell:/c%3A/Users/Denis/Documents/GitHub/DS_projects/Yandex.Practicum%20projects/Oil/oil.ipynb#X62sZmlsZQ%3D%3D?line=1'>2</a>\u001b[0m \u001b[39mdef\u001b[39;00m \u001b[39mprofit\u001b[39m(target_valid, predicted_valid):\n\u001b[0;32m      <a href='vscode-notebook-cell:/c%3A/Users/Denis/Documents/GitHub/DS_projects/Yandex.Practicum%20projects/Oil/oil.ipynb#X62sZmlsZQ%3D%3D?line=2'>3</a>\u001b[0m     probabilities \u001b[39m=\u001b[39m pd\u001b[39m.\u001b[39mSeries(predicted_valid)\u001b[39m.\u001b[39msort_values(ascending\u001b[39m=\u001b[39m\u001b[39mFalse\u001b[39;00m)\n\u001b[1;32m----> <a href='vscode-notebook-cell:/c%3A/Users/Denis/Documents/GitHub/DS_projects/Yandex.Practicum%20projects/Oil/oil.ipynb#X62sZmlsZQ%3D%3D?line=3'>4</a>\u001b[0m     chosen \u001b[39m=\u001b[39m target_valid[probabilities\u001b[39m.\u001b[39mindex][:top_number]\n\u001b[0;32m      <a href='vscode-notebook-cell:/c%3A/Users/Denis/Documents/GitHub/DS_projects/Yandex.Practicum%20projects/Oil/oil.ipynb#X62sZmlsZQ%3D%3D?line=4'>5</a>\u001b[0m     \u001b[39mreturn\u001b[39;00m (chosen\u001b[39m.\u001b[39msum() \u001b[39m*\u001b[39m barrel_price \u001b[39m-\u001b[39m investments)\n",
      "\u001b[1;31mNameError\u001b[0m: name 'top_number' is not defined"
     ]
    }
   ],
   "source": [
    "print('Top 200 wells profit for region 0, bln rubles:', \n",
    "      round(profit(model_reg_0['target_valid'], model_reg_0['predicted_valid']) / 10**9, 2))"
   ]
  },
  {
   "cell_type": "markdown",
   "metadata": {},
   "source": [
    "Using a bootstrap, we'll estimate the average profit for each region, the confidence interval, and the risks."
   ]
  },
  {
   "cell_type": "code",
   "execution_count": null,
   "metadata": {},
   "outputs": [],
   "source": [
    "#evaluating confidence interval function, model as an argument\n",
    "def conf_interval(model):\n",
    "    state = np.random.RandomState(42)\n",
    "    profits = []\n",
    "    #bootstrap    \n",
    "    for i in range(1000):\n",
    "        target_subsample = model['target_valid'].sample(n = 500, replace=True, random_state=state) #sampling actual values\n",
    "        probs_subsample = pd.Series(model['predicted_valid'])[target_subsample.index] #sampling predictions with the same index\n",
    "        profits.append(profit(target_subsample, probs_subsample)) #calculating profit for the sample\n",
    "    \n",
    "    profits = pd.Series(profits)\n",
    "    lower = round(profits.quantile(0.025) / 10**9, 3) #confidence interval lower bounds, bln\n",
    "    upper = round(profits.quantile(0.975) / 10**9, 3) #confidence interval upper bounds, bln\n",
    "    \n",
    "    print('Average profit, bln rubles:', round(profits.mean() / 10**9, 3))\n",
    "    print('Loss probability, %:', round((profits < 0).mean() * 100, 3)) #доля значений, составляющих меньше 0\n",
    "    print('Confidence limits, bln rubles:', lower, upper)"
   ]
  },
  {
   "cell_type": "code",
   "execution_count": null,
   "metadata": {},
   "outputs": [
    {
     "name": "stdout",
     "output_type": "stream",
     "text": [
      "Средняя прибыль, млрд руб.: 0.428\n",
      "Вероятность убытков, %: 5.5\n",
      "Границы доверительного интервала, млрд руб.: -0.097 0.954\n"
     ]
    }
   ],
   "source": [
    "conf_interval(model_reg_0)"
   ]
  },
  {
   "cell_type": "markdown",
   "metadata": {},
   "source": [
    "### Region 1 profit"
   ]
  },
  {
   "cell_type": "code",
   "execution_count": null,
   "metadata": {},
   "outputs": [
    {
     "name": "stdout",
     "output_type": "stream",
     "text": [
      "Прибыль топ 200 скважин для региона 1, млрд руб.: 2.42\n"
     ]
    }
   ],
   "source": [
    "print('Top 200 wells profit for region 0, bln rubles:', \n",
    "      round(profit(model_reg_1['target_valid'], model_reg_1['predicted_valid']) / 10**9, 2))"
   ]
  },
  {
   "cell_type": "code",
   "execution_count": null,
   "metadata": {},
   "outputs": [
    {
     "name": "stdout",
     "output_type": "stream",
     "text": [
      "Средняя прибыль, млрд руб.: 0.511\n",
      "Вероятность убытков, %: 0.9\n",
      "Границы доверительного интервала, млрд руб.: 0.099 0.941\n"
     ]
    }
   ],
   "source": [
    "conf_interval(model_reg_1)"
   ]
  },
  {
   "cell_type": "markdown",
   "metadata": {},
   "source": [
    "### Region 2 profit"
   ]
  },
  {
   "cell_type": "code",
   "execution_count": null,
   "metadata": {},
   "outputs": [
    {
     "name": "stdout",
     "output_type": "stream",
     "text": [
      "Прибыль топ 200 скважин для региона 2, млрд руб.: 2.6\n"
     ]
    }
   ],
   "source": [
    "print('Top 200 wells profit for region 0, bln rubles:', \n",
    "      round(profit(model_reg_2['target_valid'], model_reg_2['predicted_valid']) / 10**9, 2))"
   ]
  },
  {
   "cell_type": "code",
   "execution_count": null,
   "metadata": {},
   "outputs": [
    {
     "name": "stdout",
     "output_type": "stream",
     "text": [
      "Средняя прибыль, млрд руб.: 0.403\n",
      "Вероятность убытков, %: 7.4\n",
      "Границы доверительного интервала, млрд руб.: -0.137 0.93\n"
     ]
    }
   ],
   "source": [
    "conf_interval(model_reg_2)"
   ]
  },
  {
   "cell_type": "markdown",
   "metadata": {},
   "source": [
    "## Summary"
   ]
  },
  {
   "cell_type": "markdown",
   "metadata": {},
   "source": [
    "* **By the developed logistic regression models and investments risk assessment in the development of new oil wells, the most preferable region is region #1. Despite the high profitability of the 200 best wells for regions 0 and 2 (3.36 and 2.6 billion rubles), region 1 is characterized by the least risk (the probability of losses is 0.9%). This is evidenced by the boundaries of the confidence interval (0.099-0.941 billion rubles), which do not go into negative values, and the average profitability of wells (0.511 billion rubles).**\n",
    "* **However, the model may require further adjustment because there are duplicates for oil wells' ids in the observations and there are only 12 unique values for oil wells in region number 1, where there are no completely identical rows.**"
   ]
  }
 ],
 "metadata": {
  "ExecuteTimeLog": [
   {
    "duration": 1465,
    "start_time": "2022-09-18T12:03:44.848Z"
   },
   {
    "duration": 4,
    "start_time": "2022-09-18T12:03:50.774Z"
   },
   {
    "duration": 900,
    "start_time": "2022-09-18T12:03:58.757Z"
   },
   {
    "duration": 34,
    "start_time": "2022-09-18T12:29:31.511Z"
   },
   {
    "duration": 11,
    "start_time": "2022-09-18T12:29:42.261Z"
   },
   {
    "duration": 4353,
    "start_time": "2022-09-18T12:29:54.697Z"
   },
   {
    "duration": 221,
    "start_time": "2022-09-18T12:33:04.120Z"
   },
   {
    "duration": 189,
    "start_time": "2022-09-18T12:33:10.302Z"
   },
   {
    "duration": 227,
    "start_time": "2022-09-18T12:33:20.497Z"
   },
   {
    "duration": 219,
    "start_time": "2022-09-18T12:33:25.702Z"
   },
   {
    "duration": 231,
    "start_time": "2022-09-18T12:33:31.612Z"
   },
   {
    "duration": 6978,
    "start_time": "2022-09-18T12:35:45.177Z"
   },
   {
    "duration": 6760,
    "start_time": "2022-09-18T12:36:19.713Z"
   },
   {
    "duration": 4634,
    "start_time": "2022-09-18T12:40:40.015Z"
   },
   {
    "duration": 4414,
    "start_time": "2022-09-18T12:41:08.911Z"
   },
   {
    "duration": 395,
    "start_time": "2022-09-18T12:46:55.154Z"
   },
   {
    "duration": 4688,
    "start_time": "2022-09-18T12:48:04.815Z"
   },
   {
    "duration": 4151,
    "start_time": "2022-09-18T12:48:21.819Z"
   },
   {
    "duration": 4410,
    "start_time": "2022-09-18T12:48:31.075Z"
   },
   {
    "duration": 10,
    "start_time": "2022-09-18T12:49:06.005Z"
   },
   {
    "duration": 5570,
    "start_time": "2022-09-18T12:50:02.080Z"
   },
   {
    "duration": 4406,
    "start_time": "2022-09-18T12:50:21.106Z"
   },
   {
    "duration": 4344,
    "start_time": "2022-09-18T12:50:32.299Z"
   },
   {
    "duration": 4032,
    "start_time": "2022-09-18T12:50:44.914Z"
   },
   {
    "duration": 4446,
    "start_time": "2022-09-18T12:50:58.370Z"
   },
   {
    "duration": 4013,
    "start_time": "2022-09-18T12:54:58.966Z"
   },
   {
    "duration": 4181,
    "start_time": "2022-09-18T12:55:10.512Z"
   },
   {
    "duration": 13961,
    "start_time": "2022-09-18T14:38:23.691Z"
   },
   {
    "duration": 1661,
    "start_time": "2022-09-18T14:39:53.023Z"
   },
   {
    "duration": 13883,
    "start_time": "2022-09-18T14:42:06.912Z"
   },
   {
    "duration": 15364,
    "start_time": "2022-09-18T14:43:50.390Z"
   },
   {
    "duration": 15291,
    "start_time": "2022-09-18T14:46:38.652Z"
   },
   {
    "duration": 4781,
    "start_time": "2022-09-18T14:46:58.371Z"
   },
   {
    "duration": 15420,
    "start_time": "2022-09-18T14:49:09.751Z"
   },
   {
    "duration": 16125,
    "start_time": "2022-09-18T14:49:36.014Z"
   },
   {
    "duration": 14731,
    "start_time": "2022-09-18T14:50:36.113Z"
   },
   {
    "duration": 15038,
    "start_time": "2022-09-18T14:53:25.558Z"
   },
   {
    "duration": 14397,
    "start_time": "2022-09-18T15:09:29.260Z"
   },
   {
    "duration": 3,
    "start_time": "2022-09-18T16:35:13.381Z"
   },
   {
    "duration": 4,
    "start_time": "2022-09-18T16:36:33.392Z"
   },
   {
    "duration": 11,
    "start_time": "2022-09-18T16:36:41.922Z"
   },
   {
    "duration": 5,
    "start_time": "2022-09-18T16:36:52.538Z"
   },
   {
    "duration": 6,
    "start_time": "2022-09-18T16:50:05.873Z"
   },
   {
    "duration": 3,
    "start_time": "2022-09-18T17:00:21.282Z"
   },
   {
    "duration": 1631,
    "start_time": "2022-09-19T10:27:04.607Z"
   },
   {
    "duration": 842,
    "start_time": "2022-09-19T10:27:21.504Z"
   },
   {
    "duration": 36,
    "start_time": "2022-09-19T10:27:22.421Z"
   },
   {
    "duration": 14,
    "start_time": "2022-09-19T10:27:26.619Z"
   },
   {
    "duration": 12686,
    "start_time": "2022-09-19T10:27:28.151Z"
   },
   {
    "duration": 4,
    "start_time": "2022-09-19T11:29:10.898Z"
   },
   {
    "duration": 5,
    "start_time": "2022-09-19T11:31:13.060Z"
   },
   {
    "duration": 2,
    "start_time": "2022-09-19T11:31:34.882Z"
   },
   {
    "duration": 2,
    "start_time": "2022-09-19T11:31:35.281Z"
   },
   {
    "duration": 2,
    "start_time": "2022-09-19T11:31:35.486Z"
   },
   {
    "duration": 5,
    "start_time": "2022-09-19T11:31:37.334Z"
   },
   {
    "duration": 6,
    "start_time": "2022-09-19T11:32:01.924Z"
   },
   {
    "duration": 126,
    "start_time": "2022-09-19T11:32:12.043Z"
   },
   {
    "duration": 6,
    "start_time": "2022-09-19T11:32:42.149Z"
   },
   {
    "duration": 76,
    "start_time": "2022-09-19T11:32:43.173Z"
   },
   {
    "duration": 28,
    "start_time": "2022-09-19T11:33:49.840Z"
   },
   {
    "duration": 28,
    "start_time": "2022-09-19T11:34:02.842Z"
   },
   {
    "duration": 4,
    "start_time": "2022-09-19T11:34:47.082Z"
   },
   {
    "duration": 5,
    "start_time": "2022-09-19T11:36:37.164Z"
   },
   {
    "duration": 4,
    "start_time": "2022-09-19T11:36:48.940Z"
   },
   {
    "duration": 4,
    "start_time": "2022-09-19T11:36:49.555Z"
   },
   {
    "duration": 4,
    "start_time": "2022-09-19T11:36:59.178Z"
   },
   {
    "duration": 2,
    "start_time": "2022-09-19T11:37:54.068Z"
   },
   {
    "duration": 3,
    "start_time": "2022-09-19T11:38:06.561Z"
   },
   {
    "duration": 5,
    "start_time": "2022-09-19T11:39:40.870Z"
   },
   {
    "duration": 36,
    "start_time": "2022-09-19T11:39:42.612Z"
   },
   {
    "duration": 36,
    "start_time": "2022-09-19T11:39:42.922Z"
   },
   {
    "duration": 49,
    "start_time": "2022-09-19T11:39:43.338Z"
   },
   {
    "duration": 4,
    "start_time": "2022-09-19T11:39:43.741Z"
   },
   {
    "duration": 4,
    "start_time": "2022-09-19T11:39:44.761Z"
   },
   {
    "duration": 5,
    "start_time": "2022-09-19T11:39:45.478Z"
   },
   {
    "duration": 3,
    "start_time": "2022-09-19T12:27:20.106Z"
   },
   {
    "duration": 981,
    "start_time": "2022-09-19T12:27:21.903Z"
   },
   {
    "duration": 37,
    "start_time": "2022-09-19T12:27:25.862Z"
   },
   {
    "duration": 17,
    "start_time": "2022-09-19T12:27:28.519Z"
   },
   {
    "duration": 12919,
    "start_time": "2022-09-19T12:27:29.605Z"
   },
   {
    "duration": 13,
    "start_time": "2022-09-19T12:29:38.633Z"
   },
   {
    "duration": 31,
    "start_time": "2022-09-19T12:29:39.902Z"
   },
   {
    "duration": 30,
    "start_time": "2022-09-19T12:29:40.226Z"
   },
   {
    "duration": 29,
    "start_time": "2022-09-19T12:29:40.561Z"
   },
   {
    "duration": 4,
    "start_time": "2022-09-19T12:29:40.929Z"
   },
   {
    "duration": 5,
    "start_time": "2022-09-19T12:29:41.596Z"
   },
   {
    "duration": 5,
    "start_time": "2022-09-19T12:29:41.993Z"
   },
   {
    "duration": 6,
    "start_time": "2022-09-19T12:29:52.518Z"
   },
   {
    "duration": 29,
    "start_time": "2022-09-19T12:29:53.506Z"
   },
   {
    "duration": 28,
    "start_time": "2022-09-19T12:29:53.810Z"
   },
   {
    "duration": 29,
    "start_time": "2022-09-19T12:29:54.210Z"
   },
   {
    "duration": 5,
    "start_time": "2022-09-19T12:29:54.600Z"
   },
   {
    "duration": 5,
    "start_time": "2022-09-19T12:29:55.133Z"
   },
   {
    "duration": 5,
    "start_time": "2022-09-19T12:29:55.536Z"
   },
   {
    "duration": 6,
    "start_time": "2022-09-19T12:48:54.565Z"
   },
   {
    "duration": 6,
    "start_time": "2022-09-19T12:57:46.597Z"
   },
   {
    "duration": 8,
    "start_time": "2022-09-19T13:00:16.334Z"
   },
   {
    "duration": 5,
    "start_time": "2022-09-19T13:00:46.999Z"
   },
   {
    "duration": 9,
    "start_time": "2022-09-19T13:01:04.096Z"
   },
   {
    "duration": 17,
    "start_time": "2022-09-19T13:01:04.990Z"
   },
   {
    "duration": 7,
    "start_time": "2022-09-19T13:01:15.254Z"
   },
   {
    "duration": 62,
    "start_time": "2022-09-19T13:01:16.198Z"
   },
   {
    "duration": 34,
    "start_time": "2022-09-19T13:01:16.611Z"
   },
   {
    "duration": 44,
    "start_time": "2022-09-19T13:01:16.934Z"
   },
   {
    "duration": 10,
    "start_time": "2022-09-19T13:01:17.328Z"
   },
   {
    "duration": 10,
    "start_time": "2022-09-19T13:01:18.692Z"
   },
   {
    "duration": 9,
    "start_time": "2022-09-19T13:01:19.101Z"
   },
   {
    "duration": 6,
    "start_time": "2022-09-19T13:01:45.035Z"
   },
   {
    "duration": 30,
    "start_time": "2022-09-19T13:01:46.658Z"
   },
   {
    "duration": 33,
    "start_time": "2022-09-19T13:01:46.933Z"
   },
   {
    "duration": 30,
    "start_time": "2022-09-19T13:01:47.199Z"
   },
   {
    "duration": 9,
    "start_time": "2022-09-19T13:01:47.467Z"
   },
   {
    "duration": 10,
    "start_time": "2022-09-19T13:01:49.029Z"
   },
   {
    "duration": 10,
    "start_time": "2022-09-19T13:01:49.297Z"
   },
   {
    "duration": 6,
    "start_time": "2022-09-19T13:02:05.804Z"
   },
   {
    "duration": 27,
    "start_time": "2022-09-19T13:02:07.013Z"
   },
   {
    "duration": 33,
    "start_time": "2022-09-19T13:02:07.230Z"
   },
   {
    "duration": 30,
    "start_time": "2022-09-19T13:02:07.464Z"
   },
   {
    "duration": 4,
    "start_time": "2022-09-19T13:02:07.790Z"
   },
   {
    "duration": 4,
    "start_time": "2022-09-19T13:02:08.497Z"
   },
   {
    "duration": 5,
    "start_time": "2022-09-19T13:02:08.838Z"
   },
   {
    "duration": 91,
    "start_time": "2022-09-19T13:07:35.464Z"
   },
   {
    "duration": 5,
    "start_time": "2022-09-19T13:07:40.491Z"
   },
   {
    "duration": 5,
    "start_time": "2022-09-19T13:11:28.836Z"
   },
   {
    "duration": 33,
    "start_time": "2022-09-19T13:11:49.307Z"
   },
   {
    "duration": 3,
    "start_time": "2022-09-19T13:11:49.562Z"
   },
   {
    "duration": 3,
    "start_time": "2022-09-19T13:13:57.997Z"
   },
   {
    "duration": 3,
    "start_time": "2022-09-19T13:15:19.107Z"
   },
   {
    "duration": 6,
    "start_time": "2022-09-19T13:20:33.700Z"
   },
   {
    "duration": 27,
    "start_time": "2022-09-19T13:20:35.362Z"
   },
   {
    "duration": 4,
    "start_time": "2022-09-19T13:20:35.962Z"
   },
   {
    "duration": 28,
    "start_time": "2022-09-19T13:20:37.325Z"
   },
   {
    "duration": 4,
    "start_time": "2022-09-19T13:20:37.587Z"
   },
   {
    "duration": 28,
    "start_time": "2022-09-19T13:20:38.319Z"
   },
   {
    "duration": 4,
    "start_time": "2022-09-19T13:20:38.591Z"
   },
   {
    "duration": 3,
    "start_time": "2022-09-19T13:21:52.770Z"
   },
   {
    "duration": 1500,
    "start_time": "2022-09-19T13:24:30.460Z"
   },
   {
    "duration": 36,
    "start_time": "2022-09-19T13:24:49.573Z"
   },
   {
    "duration": 15,
    "start_time": "2022-09-19T13:25:01.608Z"
   },
   {
    "duration": 12626,
    "start_time": "2022-09-19T13:25:07.145Z"
   },
   {
    "duration": 5,
    "start_time": "2022-09-19T13:25:26.692Z"
   },
   {
    "duration": 215,
    "start_time": "2022-09-19T13:25:32.680Z"
   },
   {
    "duration": 4,
    "start_time": "2022-09-19T13:25:33.730Z"
   },
   {
    "duration": 32,
    "start_time": "2022-09-19T13:25:35.146Z"
   },
   {
    "duration": 4,
    "start_time": "2022-09-19T13:25:35.889Z"
   },
   {
    "duration": 27,
    "start_time": "2022-09-19T13:25:36.517Z"
   },
   {
    "duration": 4,
    "start_time": "2022-09-19T13:25:36.823Z"
   },
   {
    "duration": 3,
    "start_time": "2022-09-19T13:25:38.714Z"
   },
   {
    "duration": 3,
    "start_time": "2022-09-19T13:25:39.112Z"
   },
   {
    "duration": 1658,
    "start_time": "2022-09-19T20:04:23.594Z"
   },
   {
    "duration": 1258,
    "start_time": "2022-09-19T20:04:26.909Z"
   },
   {
    "duration": 33,
    "start_time": "2022-09-19T20:04:29.578Z"
   },
   {
    "duration": 12,
    "start_time": "2022-09-19T20:04:33.519Z"
   },
   {
    "duration": 12766,
    "start_time": "2022-09-19T20:04:35.316Z"
   },
   {
    "duration": 6,
    "start_time": "2022-09-19T20:05:20.139Z"
   },
   {
    "duration": 29,
    "start_time": "2022-09-19T20:05:21.194Z"
   },
   {
    "duration": 4,
    "start_time": "2022-09-19T20:05:21.446Z"
   },
   {
    "duration": 26,
    "start_time": "2022-09-19T20:05:22.109Z"
   },
   {
    "duration": 4,
    "start_time": "2022-09-19T20:05:22.378Z"
   },
   {
    "duration": 32,
    "start_time": "2022-09-19T20:05:23.025Z"
   },
   {
    "duration": 4,
    "start_time": "2022-09-19T20:05:23.280Z"
   },
   {
    "duration": 1586,
    "start_time": "2022-09-20T11:39:58.183Z"
   },
   {
    "duration": 756,
    "start_time": "2022-09-20T11:40:02.057Z"
   },
   {
    "duration": 38,
    "start_time": "2022-09-20T11:40:03.613Z"
   },
   {
    "duration": 13,
    "start_time": "2022-09-20T11:40:06.113Z"
   },
   {
    "duration": 61,
    "start_time": "2022-09-20T11:49:08.799Z"
   },
   {
    "duration": 105,
    "start_time": "2022-09-20T11:50:06.724Z"
   },
   {
    "duration": 79,
    "start_time": "2022-09-20T11:50:12.311Z"
   },
   {
    "duration": 57,
    "start_time": "2022-09-20T11:50:19.144Z"
   },
   {
    "duration": 4,
    "start_time": "2022-09-20T11:50:34.405Z"
   },
   {
    "duration": 673,
    "start_time": "2022-09-20T11:50:34.410Z"
   },
   {
    "duration": 36,
    "start_time": "2022-09-20T11:50:35.085Z"
   },
   {
    "duration": 99,
    "start_time": "2022-09-20T11:50:42.718Z"
   },
   {
    "duration": 15,
    "start_time": "2022-09-20T11:55:25.978Z"
   },
   {
    "duration": 13308,
    "start_time": "2022-09-20T11:55:26.780Z"
   },
   {
    "duration": 13505,
    "start_time": "2022-09-20T11:55:59.734Z"
   },
   {
    "duration": 13420,
    "start_time": "2022-09-20T11:57:10.781Z"
   },
   {
    "duration": 13795,
    "start_time": "2022-09-20T11:57:26.934Z"
   },
   {
    "duration": 712,
    "start_time": "2022-09-20T11:58:27.263Z"
   },
   {
    "duration": 265,
    "start_time": "2022-09-20T11:59:15.343Z"
   },
   {
    "duration": 291,
    "start_time": "2022-09-20T12:00:26.879Z"
   },
   {
    "duration": 252,
    "start_time": "2022-09-20T12:00:30.050Z"
   },
   {
    "duration": 515,
    "start_time": "2022-09-20T12:00:49.941Z"
   },
   {
    "duration": 68,
    "start_time": "2022-09-20T12:05:14.728Z"
   },
   {
    "duration": 69,
    "start_time": "2022-09-20T12:05:34.753Z"
   },
   {
    "duration": 6,
    "start_time": "2022-09-20T12:08:32.489Z"
   },
   {
    "duration": 6,
    "start_time": "2022-09-20T12:08:57.490Z"
   },
   {
    "duration": 7,
    "start_time": "2022-09-20T12:11:02.692Z"
   },
   {
    "duration": 33,
    "start_time": "2022-09-20T12:11:04.592Z"
   },
   {
    "duration": 126,
    "start_time": "2022-09-20T12:14:59.447Z"
   },
   {
    "duration": 5,
    "start_time": "2022-09-20T12:15:04.633Z"
   },
   {
    "duration": 30,
    "start_time": "2022-09-20T12:15:18.801Z"
   },
   {
    "duration": 4,
    "start_time": "2022-09-20T12:15:31.404Z"
   },
   {
    "duration": 5,
    "start_time": "2022-09-20T12:15:39.616Z"
   },
   {
    "duration": 88,
    "start_time": "2022-09-20T12:15:40.646Z"
   },
   {
    "duration": 4,
    "start_time": "2022-09-20T12:15:41.248Z"
   },
   {
    "duration": 31,
    "start_time": "2022-09-20T12:15:42.714Z"
   },
   {
    "duration": 5,
    "start_time": "2022-09-20T12:15:53.207Z"
   },
   {
    "duration": 107,
    "start_time": "2022-09-20T12:17:56.548Z"
   },
   {
    "duration": 11,
    "start_time": "2022-09-20T12:26:32.898Z"
   },
   {
    "duration": 11,
    "start_time": "2022-09-20T12:29:47.913Z"
   },
   {
    "duration": 4,
    "start_time": "2022-09-20T12:43:00.555Z"
   },
   {
    "duration": 5,
    "start_time": "2022-09-20T12:43:03.815Z"
   },
   {
    "duration": 3,
    "start_time": "2022-09-20T12:50:28.349Z"
   },
   {
    "duration": 4,
    "start_time": "2022-09-20T13:02:38.953Z"
   },
   {
    "duration": 5,
    "start_time": "2022-09-20T13:02:48.202Z"
   },
   {
    "duration": 5,
    "start_time": "2022-09-20T13:02:55.797Z"
   },
   {
    "duration": 4,
    "start_time": "2022-09-20T13:03:07.987Z"
   },
   {
    "duration": 3,
    "start_time": "2022-09-20T13:03:40.751Z"
   },
   {
    "duration": 12,
    "start_time": "2022-09-20T13:04:23.250Z"
   },
   {
    "duration": 3,
    "start_time": "2022-09-20T13:06:39.729Z"
   },
   {
    "duration": 8,
    "start_time": "2022-09-20T13:08:38.107Z"
   },
   {
    "duration": 10,
    "start_time": "2022-09-20T13:09:13.390Z"
   },
   {
    "duration": 77,
    "start_time": "2022-09-20T13:09:42.878Z"
   },
   {
    "duration": 10,
    "start_time": "2022-09-20T13:09:47.415Z"
   },
   {
    "duration": 9,
    "start_time": "2022-09-20T13:09:55.718Z"
   },
   {
    "duration": 11,
    "start_time": "2022-09-20T13:10:07.184Z"
   },
   {
    "duration": 11,
    "start_time": "2022-09-20T13:10:33.976Z"
   },
   {
    "duration": 10,
    "start_time": "2022-09-20T13:10:44.895Z"
   },
   {
    "duration": 10,
    "start_time": "2022-09-20T13:11:17.180Z"
   },
   {
    "duration": 10,
    "start_time": "2022-09-20T13:11:20.008Z"
   },
   {
    "duration": 10,
    "start_time": "2022-09-20T13:11:27.009Z"
   },
   {
    "duration": 6,
    "start_time": "2022-09-20T13:16:04.861Z"
   },
   {
    "duration": 4,
    "start_time": "2022-09-20T13:19:24.082Z"
   },
   {
    "duration": 1861,
    "start_time": "2022-09-20T13:19:40.480Z"
   },
   {
    "duration": 4,
    "start_time": "2022-09-20T13:20:03.061Z"
   },
   {
    "duration": 1806,
    "start_time": "2022-09-20T13:20:04.236Z"
   },
   {
    "duration": 4,
    "start_time": "2022-09-20T13:20:30.376Z"
   },
   {
    "duration": 1820,
    "start_time": "2022-09-20T13:20:30.916Z"
   },
   {
    "duration": 1736,
    "start_time": "2022-09-20T13:36:05.835Z"
   },
   {
    "duration": 994,
    "start_time": "2022-09-20T13:36:07.574Z"
   },
   {
    "duration": 37,
    "start_time": "2022-09-20T13:36:08.569Z"
   },
   {
    "duration": 151,
    "start_time": "2022-09-20T13:36:08.609Z"
   },
   {
    "duration": 143,
    "start_time": "2022-09-20T13:36:08.762Z"
   },
   {
    "duration": 12,
    "start_time": "2022-09-20T13:36:08.907Z"
   },
   {
    "duration": 14780,
    "start_time": "2022-09-20T13:36:08.921Z"
   },
   {
    "duration": 318,
    "start_time": "2022-09-20T13:36:23.703Z"
   },
   {
    "duration": 21,
    "start_time": "2022-09-20T13:36:24.022Z"
   },
   {
    "duration": 90,
    "start_time": "2022-09-20T13:36:24.051Z"
   },
   {
    "duration": 7,
    "start_time": "2022-09-20T13:36:24.143Z"
   },
   {
    "duration": 189,
    "start_time": "2022-09-20T13:36:24.153Z"
   },
   {
    "duration": 97,
    "start_time": "2022-09-20T13:36:24.349Z"
   },
   {
    "duration": 94,
    "start_time": "2022-09-20T13:36:24.447Z"
   },
   {
    "duration": 10,
    "start_time": "2022-09-20T13:36:24.543Z"
   },
   {
    "duration": 125,
    "start_time": "2022-09-20T13:36:24.557Z"
   },
   {
    "duration": 17,
    "start_time": "2022-09-20T13:36:24.684Z"
   },
   {
    "duration": 13,
    "start_time": "2022-09-20T13:36:24.703Z"
   },
   {
    "duration": 8,
    "start_time": "2022-09-20T13:36:24.718Z"
   },
   {
    "duration": 44,
    "start_time": "2022-09-20T13:36:24.727Z"
   },
   {
    "duration": 10,
    "start_time": "2022-09-20T13:36:24.773Z"
   },
   {
    "duration": 1990,
    "start_time": "2022-09-20T13:36:24.785Z"
   },
   {
    "duration": 11,
    "start_time": "2022-09-20T13:36:26.777Z"
   },
   {
    "duration": 7,
    "start_time": "2022-09-20T13:36:26.790Z"
   },
   {
    "duration": 5,
    "start_time": "2022-09-20T13:38:03.379Z"
   },
   {
    "duration": 1865,
    "start_time": "2022-09-20T13:38:04.014Z"
   },
   {
    "duration": 7,
    "start_time": "2022-09-20T13:38:10.321Z"
   },
   {
    "duration": 1940,
    "start_time": "2022-09-20T13:38:15.257Z"
   },
   {
    "duration": 7,
    "start_time": "2022-09-20T13:39:16.819Z"
   },
   {
    "duration": 6,
    "start_time": "2022-09-20T13:39:42.695Z"
   },
   {
    "duration": 9,
    "start_time": "2022-09-20T13:39:43.245Z"
   },
   {
    "duration": 1924,
    "start_time": "2022-09-20T13:39:44.526Z"
   },
   {
    "duration": 5,
    "start_time": "2022-09-20T13:39:52.767Z"
   },
   {
    "duration": 6,
    "start_time": "2022-09-20T13:39:53.450Z"
   },
   {
    "duration": 1936,
    "start_time": "2022-09-20T13:39:53.828Z"
   },
   {
    "duration": 7,
    "start_time": "2022-09-20T13:45:15.994Z"
   },
   {
    "duration": 6,
    "start_time": "2022-09-20T13:45:31.806Z"
   },
   {
    "duration": 8,
    "start_time": "2022-09-20T13:45:32.451Z"
   },
   {
    "duration": 130,
    "start_time": "2022-09-20T13:45:33.457Z"
   },
   {
    "duration": 5,
    "start_time": "2022-09-20T13:45:39.004Z"
   },
   {
    "duration": 6,
    "start_time": "2022-09-20T13:45:39.417Z"
   },
   {
    "duration": 1865,
    "start_time": "2022-09-20T13:45:40.358Z"
   },
   {
    "duration": 4,
    "start_time": "2022-09-20T13:57:44.722Z"
   },
   {
    "duration": 5,
    "start_time": "2022-09-20T13:57:48.678Z"
   },
   {
    "duration": 8,
    "start_time": "2022-09-20T13:58:10.983Z"
   },
   {
    "duration": 4,
    "start_time": "2022-09-20T13:58:20.015Z"
   },
   {
    "duration": 6,
    "start_time": "2022-09-20T13:58:25.852Z"
   },
   {
    "duration": 6,
    "start_time": "2022-09-20T13:58:29.864Z"
   },
   {
    "duration": 4,
    "start_time": "2022-09-20T14:28:35.360Z"
   },
   {
    "duration": 5,
    "start_time": "2022-09-20T14:28:36.326Z"
   },
   {
    "duration": 8,
    "start_time": "2022-09-20T14:28:37.131Z"
   },
   {
    "duration": 5,
    "start_time": "2022-09-20T14:28:37.416Z"
   },
   {
    "duration": 6,
    "start_time": "2022-09-20T14:28:38.446Z"
   },
   {
    "duration": 1489,
    "start_time": "2022-09-20T14:28:38.818Z"
   },
   {
    "duration": 6,
    "start_time": "2022-09-20T14:35:50.117Z"
   },
   {
    "duration": 1597,
    "start_time": "2022-09-20T14:35:51.834Z"
   },
   {
    "duration": 5,
    "start_time": "2022-09-20T14:36:06.923Z"
   },
   {
    "duration": 1610,
    "start_time": "2022-09-20T14:36:09.100Z"
   },
   {
    "duration": 4,
    "start_time": "2022-09-20T14:49:26.850Z"
   },
   {
    "duration": 1507,
    "start_time": "2022-09-20T14:49:27.452Z"
   },
   {
    "duration": 8,
    "start_time": "2022-09-20T14:52:59.028Z"
   },
   {
    "duration": 1511,
    "start_time": "2022-09-20T14:53:00.388Z"
   },
   {
    "duration": 6,
    "start_time": "2022-09-20T14:53:24.279Z"
   },
   {
    "duration": 1658,
    "start_time": "2022-09-20T14:53:25.050Z"
   },
   {
    "duration": 6,
    "start_time": "2022-09-20T14:53:42.494Z"
   },
   {
    "duration": 1520,
    "start_time": "2022-09-20T14:53:43.380Z"
   },
   {
    "duration": 5,
    "start_time": "2022-09-20T14:53:48.121Z"
   },
   {
    "duration": 1568,
    "start_time": "2022-09-20T14:53:48.821Z"
   },
   {
    "duration": 1608,
    "start_time": "2022-09-20T14:54:30.611Z"
   },
   {
    "duration": 11,
    "start_time": "2022-09-20T14:54:35.828Z"
   },
   {
    "duration": 1529,
    "start_time": "2022-09-20T14:54:39.542Z"
   },
   {
    "duration": 1532,
    "start_time": "2022-09-20T14:55:27.234Z"
   },
   {
    "duration": 7,
    "start_time": "2022-09-20T14:58:08.158Z"
   },
   {
    "duration": 14,
    "start_time": "2022-09-20T14:58:15.662Z"
   },
   {
    "duration": 8,
    "start_time": "2022-09-20T14:58:16.853Z"
   },
   {
    "duration": 1492,
    "start_time": "2022-09-20T14:58:17.148Z"
   },
   {
    "duration": 8,
    "start_time": "2022-09-20T14:58:19.464Z"
   },
   {
    "duration": 1508,
    "start_time": "2022-09-20T14:58:20.903Z"
   },
   {
    "duration": 11,
    "start_time": "2022-09-20T14:58:24.680Z"
   },
   {
    "duration": 1752,
    "start_time": "2022-09-20T14:58:25.297Z"
   },
   {
    "duration": 6,
    "start_time": "2022-09-20T14:58:54.287Z"
   },
   {
    "duration": 1573,
    "start_time": "2022-09-20T14:58:55.954Z"
   },
   {
    "duration": 8,
    "start_time": "2022-09-20T14:58:59.884Z"
   },
   {
    "duration": 1525,
    "start_time": "2022-09-20T14:59:01.170Z"
   },
   {
    "duration": 8,
    "start_time": "2022-09-20T14:59:04.692Z"
   },
   {
    "duration": 1569,
    "start_time": "2022-09-20T14:59:05.257Z"
   },
   {
    "duration": 1790,
    "start_time": "2022-09-20T15:11:32.905Z"
   },
   {
    "duration": 1189,
    "start_time": "2022-09-20T15:11:34.697Z"
   },
   {
    "duration": 49,
    "start_time": "2022-09-20T15:11:35.888Z"
   },
   {
    "duration": 118,
    "start_time": "2022-09-20T15:11:35.939Z"
   },
   {
    "duration": 133,
    "start_time": "2022-09-20T15:11:36.059Z"
   },
   {
    "duration": 15,
    "start_time": "2022-09-20T15:11:36.194Z"
   },
   {
    "duration": 14373,
    "start_time": "2022-09-20T15:11:36.210Z"
   },
   {
    "duration": 326,
    "start_time": "2022-09-20T15:11:50.585Z"
   },
   {
    "duration": 6,
    "start_time": "2022-09-20T15:11:50.912Z"
   },
   {
    "duration": 45,
    "start_time": "2022-09-20T15:11:50.935Z"
   },
   {
    "duration": 160,
    "start_time": "2022-09-20T15:11:50.982Z"
   },
   {
    "duration": 94,
    "start_time": "2022-09-20T15:11:51.143Z"
   },
   {
    "duration": 12,
    "start_time": "2022-09-20T15:11:51.244Z"
   },
   {
    "duration": 129,
    "start_time": "2022-09-20T15:11:51.258Z"
   },
   {
    "duration": 45,
    "start_time": "2022-09-20T15:11:51.389Z"
   },
   {
    "duration": 131,
    "start_time": "2022-09-20T15:11:51.435Z"
   },
   {
    "duration": 8,
    "start_time": "2022-09-20T15:11:51.568Z"
   },
   {
    "duration": 12,
    "start_time": "2022-09-20T15:11:51.578Z"
   },
   {
    "duration": 6,
    "start_time": "2022-09-20T15:11:51.592Z"
   },
   {
    "duration": 19,
    "start_time": "2022-09-20T15:11:51.600Z"
   },
   {
    "duration": 5,
    "start_time": "2022-09-20T15:11:51.621Z"
   },
   {
    "duration": 1579,
    "start_time": "2022-09-20T15:11:51.628Z"
   },
   {
    "duration": 8,
    "start_time": "2022-09-20T15:11:53.209Z"
   },
   {
    "duration": 1533,
    "start_time": "2022-09-20T15:11:53.218Z"
   },
   {
    "duration": 8,
    "start_time": "2022-09-20T15:11:54.753Z"
   },
   {
    "duration": 1689,
    "start_time": "2022-09-20T15:11:54.763Z"
   },
   {
    "duration": 3,
    "start_time": "2022-09-20T15:14:43.494Z"
   },
   {
    "duration": 5,
    "start_time": "2022-09-20T15:15:58.370Z"
   },
   {
    "duration": 5,
    "start_time": "2022-09-20T15:16:38.416Z"
   },
   {
    "duration": 5,
    "start_time": "2022-09-20T15:17:17.911Z"
   },
   {
    "duration": 634,
    "start_time": "2022-09-20T15:17:29.961Z"
   },
   {
    "duration": 8,
    "start_time": "2022-09-20T15:17:56.230Z"
   },
   {
    "duration": 5,
    "start_time": "2022-09-20T15:18:11.247Z"
   },
   {
    "duration": 5,
    "start_time": "2022-09-20T15:18:20.319Z"
   },
   {
    "duration": 4,
    "start_time": "2022-09-20T15:18:29.207Z"
   },
   {
    "duration": 5,
    "start_time": "2022-09-20T15:19:13.762Z"
   },
   {
    "duration": 5,
    "start_time": "2022-09-20T15:19:16.822Z"
   },
   {
    "duration": 6,
    "start_time": "2022-09-20T15:19:25.272Z"
   },
   {
    "duration": 3439,
    "start_time": "2022-09-20T15:19:42.451Z"
   },
   {
    "duration": 1075,
    "start_time": "2022-09-20T15:19:45.892Z"
   },
   {
    "duration": 37,
    "start_time": "2022-09-20T15:19:46.968Z"
   },
   {
    "duration": 130,
    "start_time": "2022-09-20T15:19:47.007Z"
   },
   {
    "duration": 135,
    "start_time": "2022-09-20T15:19:47.140Z"
   },
   {
    "duration": 14,
    "start_time": "2022-09-20T15:19:47.277Z"
   },
   {
    "duration": 13951,
    "start_time": "2022-09-20T15:19:47.292Z"
   },
   {
    "duration": 275,
    "start_time": "2022-09-20T15:20:01.244Z"
   },
   {
    "duration": 25,
    "start_time": "2022-09-20T15:20:01.521Z"
   },
   {
    "duration": 63,
    "start_time": "2022-09-20T15:20:01.550Z"
   },
   {
    "duration": 104,
    "start_time": "2022-09-20T15:20:01.633Z"
   },
   {
    "duration": 47,
    "start_time": "2022-09-20T15:20:01.738Z"
   },
   {
    "duration": 153,
    "start_time": "2022-09-20T15:20:01.787Z"
   },
   {
    "duration": 92,
    "start_time": "2022-09-20T15:20:01.948Z"
   },
   {
    "duration": 9,
    "start_time": "2022-09-20T15:20:02.043Z"
   },
   {
    "duration": 127,
    "start_time": "2022-09-20T15:20:02.054Z"
   },
   {
    "duration": 38,
    "start_time": "2022-09-20T15:20:02.183Z"
   },
   {
    "duration": 28,
    "start_time": "2022-09-20T15:20:02.222Z"
   },
   {
    "duration": 18,
    "start_time": "2022-09-20T15:20:02.251Z"
   },
   {
    "duration": 31,
    "start_time": "2022-09-20T15:20:02.270Z"
   },
   {
    "duration": 16,
    "start_time": "2022-09-20T15:20:02.303Z"
   },
   {
    "duration": 1522,
    "start_time": "2022-09-20T15:20:02.321Z"
   },
   {
    "duration": 10,
    "start_time": "2022-09-20T15:20:03.844Z"
   },
   {
    "duration": 1495,
    "start_time": "2022-09-20T15:20:03.855Z"
   },
   {
    "duration": 7,
    "start_time": "2022-09-20T15:20:05.353Z"
   },
   {
    "duration": 1578,
    "start_time": "2022-09-20T15:20:05.361Z"
   },
   {
    "duration": 5,
    "start_time": "2022-09-20T15:21:51.186Z"
   },
   {
    "duration": 91,
    "start_time": "2022-09-20T15:21:55.745Z"
   },
   {
    "duration": 4,
    "start_time": "2022-09-20T15:21:56.080Z"
   },
   {
    "duration": 6,
    "start_time": "2022-09-20T15:22:03.823Z"
   },
   {
    "duration": 2417,
    "start_time": "2022-09-20T15:22:25.929Z"
   },
   {
    "duration": 1025,
    "start_time": "2022-09-20T15:22:28.351Z"
   },
   {
    "duration": 37,
    "start_time": "2022-09-20T15:22:29.380Z"
   },
   {
    "duration": 119,
    "start_time": "2022-09-20T15:22:29.434Z"
   },
   {
    "duration": 133,
    "start_time": "2022-09-20T15:22:29.555Z"
   },
   {
    "duration": 14,
    "start_time": "2022-09-20T15:22:29.690Z"
   },
   {
    "duration": 13753,
    "start_time": "2022-09-20T15:22:29.705Z"
   },
   {
    "duration": 257,
    "start_time": "2022-09-20T15:22:43.460Z"
   },
   {
    "duration": 18,
    "start_time": "2022-09-20T15:22:43.719Z"
   },
   {
    "duration": 70,
    "start_time": "2022-09-20T15:22:43.741Z"
   },
   {
    "duration": 29,
    "start_time": "2022-09-20T15:22:43.814Z"
   },
   {
    "duration": 127,
    "start_time": "2022-09-20T15:22:43.848Z"
   },
   {
    "duration": 172,
    "start_time": "2022-09-20T15:22:43.980Z"
   },
   {
    "duration": 89,
    "start_time": "2022-09-20T15:22:44.154Z"
   },
   {
    "duration": 87,
    "start_time": "2022-09-20T15:22:44.249Z"
   },
   {
    "duration": 48,
    "start_time": "2022-09-20T15:22:44.338Z"
   },
   {
    "duration": 35,
    "start_time": "2022-09-20T15:22:44.388Z"
   },
   {
    "duration": 31,
    "start_time": "2022-09-20T15:22:44.425Z"
   },
   {
    "duration": 39,
    "start_time": "2022-09-20T15:22:44.457Z"
   },
   {
    "duration": 48,
    "start_time": "2022-09-20T15:22:44.498Z"
   },
   {
    "duration": 25,
    "start_time": "2022-09-20T15:22:44.548Z"
   },
   {
    "duration": 1508,
    "start_time": "2022-09-20T15:22:44.574Z"
   },
   {
    "duration": 7,
    "start_time": "2022-09-20T15:22:46.084Z"
   },
   {
    "duration": 1573,
    "start_time": "2022-09-20T15:22:46.093Z"
   },
   {
    "duration": 8,
    "start_time": "2022-09-20T15:22:47.667Z"
   },
   {
    "duration": 1561,
    "start_time": "2022-09-20T15:22:47.677Z"
   }
  ],
  "kernelspec": {
   "display_name": "Python 3 (ipykernel)",
   "language": "python",
   "name": "python3"
  },
  "language_info": {
   "codemirror_mode": {
    "name": "ipython",
    "version": 3
   },
   "file_extension": ".py",
   "mimetype": "text/x-python",
   "name": "python",
   "nbconvert_exporter": "python",
   "pygments_lexer": "ipython3",
   "version": "3.9.12"
  },
  "toc": {
   "base_numbering": 1,
   "nav_menu": {},
   "number_sections": true,
   "sideBar": true,
   "skip_h1_title": true,
   "title_cell": "Table of contents",
   "title_sidebar": "Contents",
   "toc_cell": true,
   "toc_position": {},
   "toc_section_display": true,
   "toc_window_display": true
  },
  "vscode": {
   "interpreter": {
    "hash": "e42901d9492c612649bfe5bc45fcd722e20e946cf8622850b2a92552b6453078"
   }
  }
 },
 "nbformat": 4,
 "nbformat_minor": 2
}
