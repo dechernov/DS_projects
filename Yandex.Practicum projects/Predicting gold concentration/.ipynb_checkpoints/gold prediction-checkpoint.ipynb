{
 "cells": [
  {
   "cell_type": "markdown",
   "metadata": {
    "toc": true
   },
   "source": [
    "<h1>Table of Contents<span class=\"tocSkip\"></span></h1>\n",
    "<div class=\"toc\"><ul class=\"toc-item\"><li><span><a href=\"#Project-description\" data-toc-modified-id=\"Project-description-1\"><span class=\"toc-item-num\">1&nbsp;&nbsp;</span>Project description</a></span></li><li><span><a href=\"#Data-preparation\" data-toc-modified-id=\"Data-preparation-2\"><span class=\"toc-item-num\">2&nbsp;&nbsp;</span>Data preparation</a></span><ul class=\"toc-item\"><li><span><a href=\"#Verification-of-the-treatment-efficiency-calculation\" data-toc-modified-id=\"Verification-of-the-treatment-efficiency-calculation-2.1\"><span class=\"toc-item-num\">2.1&nbsp;&nbsp;</span>Verification of the treatment efficiency calculation</a></span></li><li><span><a href=\"#Analysis-of-features-that-are-not-available-in-the-test-set\" data-toc-modified-id=\"Analysis-of-features-that-are-not-available-in-the-test-set-2.2\"><span class=\"toc-item-num\">2.2&nbsp;&nbsp;</span>Analysis of features that are not available in the test set</a></span></li><li><span><a href=\"#Data-preprocessing\" data-toc-modified-id=\"Data-preprocessing-2.3\"><span class=\"toc-item-num\">2.3&nbsp;&nbsp;</span>Data preprocessing</a></span></li><li><span><a href=\"#Conclusions\" data-toc-modified-id=\"Conclusions-2.4\"><span class=\"toc-item-num\">2.4&nbsp;&nbsp;</span>Conclusions</a></span></li></ul></li><li><span><a href=\"#EDA\" data-toc-modified-id=\"EDA-3\"><span class=\"toc-item-num\">3&nbsp;&nbsp;</span>EDA</a></span><ul class=\"toc-item\"><li><span><a href=\"#Changes-in-the-concentration-of-metals-at-different-stages-of-the-cleaning-process\" data-toc-modified-id=\"Changes-in-the-concentration-of-metals-at-different-stages-of-the-cleaning-process-3.1\"><span class=\"toc-item-num\">3.1&nbsp;&nbsp;</span>Changes in the concentration of metals at different stages of the cleaning process</a></span></li><li><span><a href=\"#Training-and-test-set-raw-material-pellet-size-distribution-analysis\" data-toc-modified-id=\"Training-and-test-set-raw-material-pellet-size-distribution-analysis-3.2\"><span class=\"toc-item-num\">3.2&nbsp;&nbsp;</span>Training and test set raw material pellet size distribution analysis</a></span></li><li><span><a href=\"#Analysis-of-the-total-concentration-of-all-substances-at-different-stages-of-the-process\" data-toc-modified-id=\"Analysis-of-the-total-concentration-of-all-substances-at-different-stages-of-the-process-3.3\"><span class=\"toc-item-num\">3.3&nbsp;&nbsp;</span>Analysis of the total concentration of all substances at different stages of the process</a></span></li><li><span><a href=\"#Conclusions\" data-toc-modified-id=\"Conclusions-3.4\"><span class=\"toc-item-num\">3.4&nbsp;&nbsp;</span>Conclusions</a></span></li></ul></li><li><span><a href=\"#Building-models\" data-toc-modified-id=\"Building-models-4\"><span class=\"toc-item-num\">4&nbsp;&nbsp;</span>Building models</a></span><ul class=\"toc-item\"><li><span><a href=\"#Function-for-sMAPE-metric\" data-toc-modified-id=\"Function-for-sMAPE-metric-4.1\"><span class=\"toc-item-num\">4.1&nbsp;&nbsp;</span>Function for sMAPE metric</a></span></li><li><span><a href=\"#Features-and-target-values-extraction\" data-toc-modified-id=\"Features-and-target-values-extraction-4.2\"><span class=\"toc-item-num\">4.2&nbsp;&nbsp;</span>Features and target values extraction</a></span></li><li><span><a href=\"#Random-forest-model\" data-toc-modified-id=\"Random-forest-model-4.3\"><span class=\"toc-item-num\">4.3&nbsp;&nbsp;</span>Random forest model</a></span><ul class=\"toc-item\"><li><span><a href=\"#Rough-concentrate\" data-toc-modified-id=\"Rough-concentrate-4.3.1\"><span class=\"toc-item-num\">4.3.1&nbsp;&nbsp;</span>Rough concentrate</a></span></li><li><span><a href=\"#Final-concentrate\" data-toc-modified-id=\"Final-concentrate-4.3.2\"><span class=\"toc-item-num\">4.3.2&nbsp;&nbsp;</span>Final concentrate</a></span></li><li><span><a href=\"#Total-sMAPE-for-random-forest\" data-toc-modified-id=\"Total-sMAPE-for-random-forest-4.3.3\"><span class=\"toc-item-num\">4.3.3&nbsp;&nbsp;</span>Total sMAPE for random forest</a></span></li></ul></li><li><span><a href=\"#Decision-tree-model\" data-toc-modified-id=\"Decision-tree-model-4.4\"><span class=\"toc-item-num\">4.4&nbsp;&nbsp;</span>Decision tree model</a></span><ul class=\"toc-item\"><li><span><a href=\"#Rough-concentrate\" data-toc-modified-id=\"Rough-concentrate-4.4.1\"><span class=\"toc-item-num\">4.4.1&nbsp;&nbsp;</span>Rough concentrate</a></span></li><li><span><a href=\"#Final-concentrate\" data-toc-modified-id=\"Final-concentrate-4.4.2\"><span class=\"toc-item-num\">4.4.2&nbsp;&nbsp;</span>Final concentrate</a></span></li><li><span><a href=\"#Total-sMAPE-for-decision-tree\" data-toc-modified-id=\"Total-sMAPE-for-decision-tree-4.4.3\"><span class=\"toc-item-num\">4.4.3&nbsp;&nbsp;</span>Total sMAPE for decision tree</a></span></li></ul></li><li><span><a href=\"#Linear-regression-model\" data-toc-modified-id=\"Linear-regression-model-4.5\"><span class=\"toc-item-num\">4.5&nbsp;&nbsp;</span>Linear regression model</a></span><ul class=\"toc-item\"><li><span><a href=\"#Rough-concentrate\" data-toc-modified-id=\"Rough-concentrate-4.5.1\"><span class=\"toc-item-num\">4.5.1&nbsp;&nbsp;</span>Rough concentrate</a></span></li><li><span><a href=\"#Final-concentrate\" data-toc-modified-id=\"Final-concentrate-4.5.2\"><span class=\"toc-item-num\">4.5.2&nbsp;&nbsp;</span>Final concentrate</a></span></li><li><span><a href=\"#Total-sMAPE-for-linear-regression\" data-toc-modified-id=\"Total-sMAPE-for-linear-regression-4.5.3\"><span class=\"toc-item-num\">4.5.3&nbsp;&nbsp;</span>Total sMAPE for linear regression</a></span></li></ul></li><li><span><a href=\"#Conclusion\" data-toc-modified-id=\"Conclusion-4.6\"><span class=\"toc-item-num\">4.6&nbsp;&nbsp;</span>Conclusion</a></span></li></ul></li><li><span><a href=\"#Checking-model-on-the-test-set\" data-toc-modified-id=\"Checking-model-on-the-test-set-5\"><span class=\"toc-item-num\">5&nbsp;&nbsp;</span>Checking model on the test set</a></span></li><li><span><a href=\"#Summary\" data-toc-modified-id=\"Summary-6\"><span class=\"toc-item-num\">6&nbsp;&nbsp;</span>Summary</a></span></li></ul></div>"
   ]
  },
  {
   "cell_type": "markdown",
   "metadata": {},
   "source": [
    "# Predicting gold recovery rate from gold-bearing ore"
   ]
  },
  {
   "cell_type": "markdown",
   "metadata": {},
   "source": [
    "## Project description"
   ]
  },
  {
   "cell_type": "markdown",
   "metadata": {},
   "source": [
    "**Brief information:** The company \"Cifra\" develops various solutions for the efficient operation of industrial enterprises.\n",
    "\n",
    "**Objective:** develop a machine learning model that predicts the recovery rate of gold from gold-bearing ore.\n",
    "\n",
    "**Tasks:** consider and investigate the quality of different models that predict the recovery rate of gold from gold-bearing ore according to the smallest sMAPE."
   ]
  },
  {
   "cell_type": "markdown",
   "metadata": {},
   "source": [
    "## Data preparation"
   ]
  },
  {
   "cell_type": "code",
   "execution_count": 1,
   "metadata": {},
   "outputs": [
    {
     "name": "stdout",
     "output_type": "stream",
     "text": [
      "Requirement already satisfied: optuna in c:\\users\\denis\\anaconda3\\envs\\practicum\\lib\\site-packages (3.0.2)\n",
      "Requirement already satisfied: cliff in c:\\users\\denis\\anaconda3\\envs\\practicum\\lib\\site-packages (from optuna) (4.0.0)\n",
      "Requirement already satisfied: numpy in c:\\users\\denis\\anaconda3\\envs\\practicum\\lib\\site-packages (from optuna) (1.23.4)\n",
      "Requirement already satisfied: scipy<1.9.0,>=1.7.0 in c:\\users\\denis\\anaconda3\\envs\\practicum\\lib\\site-packages (from optuna) (1.8.0)\n",
      "Requirement already satisfied: sqlalchemy>=1.3.0 in c:\\users\\denis\\anaconda3\\envs\\practicum\\lib\\site-packages (from optuna) (1.4.15)\n",
      "Requirement already satisfied: cmaes>=0.8.2 in c:\\users\\denis\\anaconda3\\envs\\practicum\\lib\\site-packages (from optuna) (0.8.2)\n",
      "Requirement already satisfied: PyYAML in c:\\users\\denis\\anaconda3\\envs\\practicum\\lib\\site-packages (from optuna) (6.0)\n",
      "Requirement already satisfied: tqdm in c:\\users\\denis\\anaconda3\\envs\\practicum\\lib\\site-packages (from optuna) (4.64.0)\n",
      "Requirement already satisfied: alembic>=1.5.0 in c:\\users\\denis\\anaconda3\\envs\\practicum\\lib\\site-packages (from optuna) (1.8.1)\n",
      "Requirement already satisfied: packaging>=20.0 in c:\\users\\denis\\anaconda3\\envs\\practicum\\lib\\site-packages (from optuna) (21.3)\n",
      "Requirement already satisfied: colorlog in c:\\users\\denis\\anaconda3\\envs\\practicum\\lib\\site-packages (from optuna) (6.7.0)\n",
      "Requirement already satisfied: Mako in c:\\users\\denis\\anaconda3\\envs\\practicum\\lib\\site-packages (from alembic>=1.5.0->optuna) (1.2.3)\n",
      "Requirement already satisfied: pyparsing!=3.0.5,>=2.0.2 in c:\\users\\denis\\anaconda3\\envs\\practicum\\lib\\site-packages (from packaging>=20.0->optuna) (3.0.8)\n",
      "Requirement already satisfied: greenlet!=0.4.17 in c:\\users\\denis\\anaconda3\\envs\\practicum\\lib\\site-packages (from sqlalchemy>=1.3.0->optuna) (1.1.2)\n",
      "Requirement already satisfied: autopage>=0.4.0 in c:\\users\\denis\\anaconda3\\envs\\practicum\\lib\\site-packages (from cliff->optuna) (0.5.1)\n",
      "Requirement already satisfied: PrettyTable>=0.7.2 in c:\\users\\denis\\anaconda3\\envs\\practicum\\lib\\site-packages (from cliff->optuna) (3.4.1)\n",
      "Requirement already satisfied: cmd2>=1.0.0 in c:\\users\\denis\\anaconda3\\envs\\practicum\\lib\\site-packages (from cliff->optuna) (2.4.2)\n",
      "Requirement already satisfied: stevedore>=2.0.1 in c:\\users\\denis\\anaconda3\\envs\\practicum\\lib\\site-packages (from cliff->optuna) (4.0.0)\n",
      "Requirement already satisfied: importlib-metadata>=4.4 in c:\\users\\denis\\anaconda3\\envs\\practicum\\lib\\site-packages (from cliff->optuna) (4.11.3)\n",
      "Requirement already satisfied: colorama in c:\\users\\denis\\anaconda3\\envs\\practicum\\lib\\site-packages (from colorlog->optuna) (0.4.4)\n",
      "Requirement already satisfied: attrs>=16.3.0 in c:\\users\\denis\\anaconda3\\envs\\practicum\\lib\\site-packages (from cmd2>=1.0.0->cliff->optuna) (21.4.0)\n",
      "Requirement already satisfied: pyreadline3 in c:\\users\\denis\\anaconda3\\envs\\practicum\\lib\\site-packages (from cmd2>=1.0.0->cliff->optuna) (3.4.1)\n",
      "Requirement already satisfied: wcwidth>=0.1.7 in c:\\users\\denis\\anaconda3\\envs\\practicum\\lib\\site-packages (from cmd2>=1.0.0->cliff->optuna) (0.2.5)\n",
      "Requirement already satisfied: pyperclip>=1.6 in c:\\users\\denis\\anaconda3\\envs\\practicum\\lib\\site-packages (from cmd2>=1.0.0->cliff->optuna) (1.8.2)\n",
      "Requirement already satisfied: zipp>=0.5 in c:\\users\\denis\\anaconda3\\envs\\practicum\\lib\\site-packages (from importlib-metadata>=4.4->cliff->optuna) (3.8.0)\n",
      "Requirement already satisfied: pbr!=2.1.0,>=2.0.0 in c:\\users\\denis\\anaconda3\\envs\\practicum\\lib\\site-packages (from stevedore>=2.0.1->cliff->optuna) (5.10.0)\n",
      "Requirement already satisfied: MarkupSafe>=0.9.2 in c:\\users\\denis\\anaconda3\\envs\\practicum\\lib\\site-packages (from Mako->alembic>=1.5.0->optuna) (2.1.1)\n"
     ]
    }
   ],
   "source": [
    "!pip install optuna"
   ]
  },
  {
   "cell_type": "code",
   "execution_count": 2,
   "metadata": {},
   "outputs": [],
   "source": [
    "#importing libraries\n",
    "import pandas as pd\n",
    "import matplotlib.pyplot as plt\n",
    "import numpy as np\n",
    "import seaborn as sns\n",
    "import optuna\n",
    "\n",
    "from scipy import stats as st\n",
    "from sklearn.metrics import mean_absolute_error, make_scorer\n",
    "from sklearn.preprocessing import StandardScaler\n",
    "from sklearn.model_selection import train_test_split, cross_val_score, GridSearchCV, RandomizedSearchCV\n",
    "from sklearn.compose import make_column_transformer, make_column_selector, ColumnTransformer\n",
    "from sklearn.pipeline import make_pipeline, Pipeline\n",
    "from sklearn.linear_model import LinearRegression\n",
    "from sklearn.tree import DecisionTreeRegressor\n",
    "from sklearn.ensemble import RandomForestRegressor\n",
    "from sklearn.dummy import DummyRegressor\n",
    "from optuna.samplers import TPESampler"
   ]
  },
  {
   "cell_type": "code",
   "execution_count": 3,
   "metadata": {},
   "outputs": [],
   "source": [
    "#reading files\n",
    "gold_train = pd.read_csv('https://code.s3.yandex.net/datasets/gold_recovery_train_new.csv')\n",
    "gold_train.name = 'gold_train'\n",
    "gold_test = pd.read_csv('https://code.s3.yandex.net/datasets/gold_recovery_test_new.csv')\n",
    "gold_test.name = 'gold_test'\n",
    "gold_full_df = pd.read_csv('https://code.s3.yandex.net/datasets/gold_recovery_full_new.csv')\n",
    "gold_full_df.name = 'gold_full_df'"
   ]
  },
  {
   "cell_type": "code",
   "execution_count": 4,
   "metadata": {},
   "outputs": [
    {
     "name": "stdout",
     "output_type": "stream",
     "text": [
      "Info about table: gold_train\n",
      "\n",
      "\n",
      "<class 'pandas.core.frame.DataFrame'>\n",
      "RangeIndex: 14149 entries, 0 to 14148\n",
      "Data columns (total 87 columns):\n",
      " #   Column                                              Non-Null Count  Dtype  \n",
      "---  ------                                              --------------  -----  \n",
      " 0   date                                                14149 non-null  object \n",
      " 1   final.output.concentrate_ag                         14148 non-null  float64\n",
      " 2   final.output.concentrate_pb                         14148 non-null  float64\n",
      " 3   final.output.concentrate_sol                        13938 non-null  float64\n",
      " 4   final.output.concentrate_au                         14149 non-null  float64\n",
      " 5   final.output.recovery                               14149 non-null  float64\n",
      " 6   final.output.tail_ag                                14149 non-null  float64\n",
      " 7   final.output.tail_pb                                14049 non-null  float64\n",
      " 8   final.output.tail_sol                               14144 non-null  float64\n",
      " 9   final.output.tail_au                                14149 non-null  float64\n",
      " 10  primary_cleaner.input.sulfate                       14129 non-null  float64\n",
      " 11  primary_cleaner.input.depressant                    14117 non-null  float64\n",
      " 12  primary_cleaner.input.feed_size                     14149 non-null  float64\n",
      " 13  primary_cleaner.input.xanthate                      14049 non-null  float64\n",
      " 14  primary_cleaner.output.concentrate_ag               14149 non-null  float64\n",
      " 15  primary_cleaner.output.concentrate_pb               14063 non-null  float64\n",
      " 16  primary_cleaner.output.concentrate_sol              13863 non-null  float64\n",
      " 17  primary_cleaner.output.concentrate_au               14149 non-null  float64\n",
      " 18  primary_cleaner.output.tail_ag                      14148 non-null  float64\n",
      " 19  primary_cleaner.output.tail_pb                      14134 non-null  float64\n",
      " 20  primary_cleaner.output.tail_sol                     14103 non-null  float64\n",
      " 21  primary_cleaner.output.tail_au                      14149 non-null  float64\n",
      " 22  primary_cleaner.state.floatbank8_a_air              14145 non-null  float64\n",
      " 23  primary_cleaner.state.floatbank8_a_level            14148 non-null  float64\n",
      " 24  primary_cleaner.state.floatbank8_b_air              14145 non-null  float64\n",
      " 25  primary_cleaner.state.floatbank8_b_level            14148 non-null  float64\n",
      " 26  primary_cleaner.state.floatbank8_c_air              14147 non-null  float64\n",
      " 27  primary_cleaner.state.floatbank8_c_level            14148 non-null  float64\n",
      " 28  primary_cleaner.state.floatbank8_d_air              14146 non-null  float64\n",
      " 29  primary_cleaner.state.floatbank8_d_level            14148 non-null  float64\n",
      " 30  rougher.calculation.sulfate_to_au_concentrate       14148 non-null  float64\n",
      " 31  rougher.calculation.floatbank10_sulfate_to_au_feed  14148 non-null  float64\n",
      " 32  rougher.calculation.floatbank11_sulfate_to_au_feed  14148 non-null  float64\n",
      " 33  rougher.calculation.au_pb_ratio                     14149 non-null  float64\n",
      " 34  rougher.input.feed_ag                               14149 non-null  float64\n",
      " 35  rougher.input.feed_pb                               14049 non-null  float64\n",
      " 36  rougher.input.feed_rate                             14141 non-null  float64\n",
      " 37  rougher.input.feed_size                             14005 non-null  float64\n",
      " 38  rougher.input.feed_sol                              14071 non-null  float64\n",
      " 39  rougher.input.feed_au                               14149 non-null  float64\n",
      " 40  rougher.input.floatbank10_sulfate                   14120 non-null  float64\n",
      " 41  rougher.input.floatbank10_xanthate                  14141 non-null  float64\n",
      " 42  rougher.input.floatbank11_sulfate                   14113 non-null  float64\n",
      " 43  rougher.input.floatbank11_xanthate                  13721 non-null  float64\n",
      " 44  rougher.output.concentrate_ag                       14149 non-null  float64\n",
      " 45  rougher.output.concentrate_pb                       14149 non-null  float64\n",
      " 46  rougher.output.concentrate_sol                      14127 non-null  float64\n",
      " 47  rougher.output.concentrate_au                       14149 non-null  float64\n",
      " 48  rougher.output.recovery                             14149 non-null  float64\n",
      " 49  rougher.output.tail_ag                              14148 non-null  float64\n",
      " 50  rougher.output.tail_pb                              14149 non-null  float64\n",
      " 51  rougher.output.tail_sol                             14149 non-null  float64\n",
      " 52  rougher.output.tail_au                              14149 non-null  float64\n",
      " 53  rougher.state.floatbank10_a_air                     14148 non-null  float64\n",
      " 54  rougher.state.floatbank10_a_level                   14148 non-null  float64\n",
      " 55  rougher.state.floatbank10_b_air                     14148 non-null  float64\n",
      " 56  rougher.state.floatbank10_b_level                   14148 non-null  float64\n",
      " 57  rougher.state.floatbank10_c_air                     14148 non-null  float64\n",
      " 58  rougher.state.floatbank10_c_level                   14148 non-null  float64\n",
      " 59  rougher.state.floatbank10_d_air                     14149 non-null  float64\n",
      " 60  rougher.state.floatbank10_d_level                   14149 non-null  float64\n",
      " 61  rougher.state.floatbank10_e_air                     13713 non-null  float64\n",
      " 62  rougher.state.floatbank10_e_level                   14149 non-null  float64\n",
      " 63  rougher.state.floatbank10_f_air                     14149 non-null  float64\n",
      " 64  rougher.state.floatbank10_f_level                   14149 non-null  float64\n",
      " 65  secondary_cleaner.output.tail_ag                    14147 non-null  float64\n",
      " 66  secondary_cleaner.output.tail_pb                    14139 non-null  float64\n",
      " 67  secondary_cleaner.output.tail_sol                   12544 non-null  float64\n",
      " 68  secondary_cleaner.output.tail_au                    14149 non-null  float64\n",
      " 69  secondary_cleaner.state.floatbank2_a_air            13932 non-null  float64\n",
      " 70  secondary_cleaner.state.floatbank2_a_level          14148 non-null  float64\n",
      " 71  secondary_cleaner.state.floatbank2_b_air            14128 non-null  float64\n",
      " 72  secondary_cleaner.state.floatbank2_b_level          14148 non-null  float64\n",
      " 73  secondary_cleaner.state.floatbank3_a_air            14145 non-null  float64\n",
      " 74  secondary_cleaner.state.floatbank3_a_level          14148 non-null  float64\n",
      " 75  secondary_cleaner.state.floatbank3_b_air            14148 non-null  float64\n",
      " 76  secondary_cleaner.state.floatbank3_b_level          14148 non-null  float64\n",
      " 77  secondary_cleaner.state.floatbank4_a_air            14143 non-null  float64\n",
      " 78  secondary_cleaner.state.floatbank4_a_level          14148 non-null  float64\n",
      " 79  secondary_cleaner.state.floatbank4_b_air            14148 non-null  float64\n",
      " 80  secondary_cleaner.state.floatbank4_b_level          14148 non-null  float64\n",
      " 81  secondary_cleaner.state.floatbank5_a_air            14148 non-null  float64\n",
      " 82  secondary_cleaner.state.floatbank5_a_level          14148 non-null  float64\n",
      " 83  secondary_cleaner.state.floatbank5_b_air            14148 non-null  float64\n",
      " 84  secondary_cleaner.state.floatbank5_b_level          14148 non-null  float64\n",
      " 85  secondary_cleaner.state.floatbank6_a_air            14147 non-null  float64\n",
      " 86  secondary_cleaner.state.floatbank6_a_level          14148 non-null  float64\n",
      "dtypes: float64(86), object(1)\n",
      "memory usage: 9.4+ MB\n",
      "None\n",
      "\n",
      "\n",
      "Info about table: gold_test\n",
      "\n",
      "\n",
      "<class 'pandas.core.frame.DataFrame'>\n",
      "RangeIndex: 5290 entries, 0 to 5289\n",
      "Data columns (total 53 columns):\n",
      " #   Column                                      Non-Null Count  Dtype  \n",
      "---  ------                                      --------------  -----  \n",
      " 0   date                                        5290 non-null   object \n",
      " 1   primary_cleaner.input.sulfate               5286 non-null   float64\n",
      " 2   primary_cleaner.input.depressant            5285 non-null   float64\n",
      " 3   primary_cleaner.input.feed_size             5290 non-null   float64\n",
      " 4   primary_cleaner.input.xanthate              5286 non-null   float64\n",
      " 5   primary_cleaner.state.floatbank8_a_air      5290 non-null   float64\n",
      " 6   primary_cleaner.state.floatbank8_a_level    5290 non-null   float64\n",
      " 7   primary_cleaner.state.floatbank8_b_air      5290 non-null   float64\n",
      " 8   primary_cleaner.state.floatbank8_b_level    5290 non-null   float64\n",
      " 9   primary_cleaner.state.floatbank8_c_air      5290 non-null   float64\n",
      " 10  primary_cleaner.state.floatbank8_c_level    5290 non-null   float64\n",
      " 11  primary_cleaner.state.floatbank8_d_air      5290 non-null   float64\n",
      " 12  primary_cleaner.state.floatbank8_d_level    5290 non-null   float64\n",
      " 13  rougher.input.feed_ag                       5290 non-null   float64\n",
      " 14  rougher.input.feed_pb                       5290 non-null   float64\n",
      " 15  rougher.input.feed_rate                     5287 non-null   float64\n",
      " 16  rougher.input.feed_size                     5289 non-null   float64\n",
      " 17  rougher.input.feed_sol                      5269 non-null   float64\n",
      " 18  rougher.input.feed_au                       5290 non-null   float64\n",
      " 19  rougher.input.floatbank10_sulfate           5285 non-null   float64\n",
      " 20  rougher.input.floatbank10_xanthate          5290 non-null   float64\n",
      " 21  rougher.input.floatbank11_sulfate           5282 non-null   float64\n",
      " 22  rougher.input.floatbank11_xanthate          5265 non-null   float64\n",
      " 23  rougher.state.floatbank10_a_air             5290 non-null   float64\n",
      " 24  rougher.state.floatbank10_a_level           5290 non-null   float64\n",
      " 25  rougher.state.floatbank10_b_air             5290 non-null   float64\n",
      " 26  rougher.state.floatbank10_b_level           5290 non-null   float64\n",
      " 27  rougher.state.floatbank10_c_air             5290 non-null   float64\n",
      " 28  rougher.state.floatbank10_c_level           5290 non-null   float64\n",
      " 29  rougher.state.floatbank10_d_air             5290 non-null   float64\n",
      " 30  rougher.state.floatbank10_d_level           5290 non-null   float64\n",
      " 31  rougher.state.floatbank10_e_air             5290 non-null   float64\n",
      " 32  rougher.state.floatbank10_e_level           5290 non-null   float64\n",
      " 33  rougher.state.floatbank10_f_air             5290 non-null   float64\n",
      " 34  rougher.state.floatbank10_f_level           5290 non-null   float64\n",
      " 35  secondary_cleaner.state.floatbank2_a_air    5287 non-null   float64\n",
      " 36  secondary_cleaner.state.floatbank2_a_level  5290 non-null   float64\n",
      " 37  secondary_cleaner.state.floatbank2_b_air    5288 non-null   float64\n",
      " 38  secondary_cleaner.state.floatbank2_b_level  5290 non-null   float64\n",
      " 39  secondary_cleaner.state.floatbank3_a_air    5281 non-null   float64\n",
      " 40  secondary_cleaner.state.floatbank3_a_level  5290 non-null   float64\n",
      " 41  secondary_cleaner.state.floatbank3_b_air    5290 non-null   float64\n",
      " 42  secondary_cleaner.state.floatbank3_b_level  5290 non-null   float64\n",
      " 43  secondary_cleaner.state.floatbank4_a_air    5290 non-null   float64\n",
      " 44  secondary_cleaner.state.floatbank4_a_level  5290 non-null   float64\n",
      " 45  secondary_cleaner.state.floatbank4_b_air    5290 non-null   float64\n",
      " 46  secondary_cleaner.state.floatbank4_b_level  5290 non-null   float64\n",
      " 47  secondary_cleaner.state.floatbank5_a_air    5290 non-null   float64\n",
      " 48  secondary_cleaner.state.floatbank5_a_level  5290 non-null   float64\n",
      " 49  secondary_cleaner.state.floatbank5_b_air    5290 non-null   float64\n",
      " 50  secondary_cleaner.state.floatbank5_b_level  5290 non-null   float64\n",
      " 51  secondary_cleaner.state.floatbank6_a_air    5290 non-null   float64\n",
      " 52  secondary_cleaner.state.floatbank6_a_level  5290 non-null   float64\n",
      "dtypes: float64(52), object(1)\n",
      "memory usage: 2.1+ MB\n",
      "None\n",
      "\n",
      "\n",
      "Info about table: gold_full_df\n",
      "\n",
      "\n",
      "<class 'pandas.core.frame.DataFrame'>\n",
      "RangeIndex: 19439 entries, 0 to 19438\n",
      "Data columns (total 87 columns):\n",
      " #   Column                                              Non-Null Count  Dtype  \n",
      "---  ------                                              --------------  -----  \n",
      " 0   date                                                19439 non-null  object \n",
      " 1   final.output.concentrate_ag                         19438 non-null  float64\n",
      " 2   final.output.concentrate_pb                         19438 non-null  float64\n",
      " 3   final.output.concentrate_sol                        19228 non-null  float64\n",
      " 4   final.output.concentrate_au                         19439 non-null  float64\n",
      " 5   final.output.recovery                               19439 non-null  float64\n",
      " 6   final.output.tail_ag                                19438 non-null  float64\n",
      " 7   final.output.tail_pb                                19338 non-null  float64\n",
      " 8   final.output.tail_sol                               19433 non-null  float64\n",
      " 9   final.output.tail_au                                19439 non-null  float64\n",
      " 10  primary_cleaner.input.sulfate                       19415 non-null  float64\n",
      " 11  primary_cleaner.input.depressant                    19402 non-null  float64\n",
      " 12  primary_cleaner.input.feed_size                     19439 non-null  float64\n",
      " 13  primary_cleaner.input.xanthate                      19335 non-null  float64\n",
      " 14  primary_cleaner.output.concentrate_ag               19439 non-null  float64\n",
      " 15  primary_cleaner.output.concentrate_pb               19323 non-null  float64\n",
      " 16  primary_cleaner.output.concentrate_sol              19069 non-null  float64\n",
      " 17  primary_cleaner.output.concentrate_au               19439 non-null  float64\n",
      " 18  primary_cleaner.output.tail_ag                      19435 non-null  float64\n",
      " 19  primary_cleaner.output.tail_pb                      19418 non-null  float64\n",
      " 20  primary_cleaner.output.tail_sol                     19377 non-null  float64\n",
      " 21  primary_cleaner.output.tail_au                      19439 non-null  float64\n",
      " 22  primary_cleaner.state.floatbank8_a_air              19435 non-null  float64\n",
      " 23  primary_cleaner.state.floatbank8_a_level            19438 non-null  float64\n",
      " 24  primary_cleaner.state.floatbank8_b_air              19435 non-null  float64\n",
      " 25  primary_cleaner.state.floatbank8_b_level            19438 non-null  float64\n",
      " 26  primary_cleaner.state.floatbank8_c_air              19437 non-null  float64\n",
      " 27  primary_cleaner.state.floatbank8_c_level            19438 non-null  float64\n",
      " 28  primary_cleaner.state.floatbank8_d_air              19436 non-null  float64\n",
      " 29  primary_cleaner.state.floatbank8_d_level            19438 non-null  float64\n",
      " 30  rougher.calculation.sulfate_to_au_concentrate       19437 non-null  float64\n",
      " 31  rougher.calculation.floatbank10_sulfate_to_au_feed  19437 non-null  float64\n",
      " 32  rougher.calculation.floatbank11_sulfate_to_au_feed  19437 non-null  float64\n",
      " 33  rougher.calculation.au_pb_ratio                     19439 non-null  float64\n",
      " 34  rougher.input.feed_ag                               19439 non-null  float64\n",
      " 35  rougher.input.feed_pb                               19339 non-null  float64\n",
      " 36  rougher.input.feed_rate                             19428 non-null  float64\n",
      " 37  rougher.input.feed_size                             19294 non-null  float64\n",
      " 38  rougher.input.feed_sol                              19340 non-null  float64\n",
      " 39  rougher.input.feed_au                               19439 non-null  float64\n",
      " 40  rougher.input.floatbank10_sulfate                   19405 non-null  float64\n",
      " 41  rougher.input.floatbank10_xanthate                  19431 non-null  float64\n",
      " 42  rougher.input.floatbank11_sulfate                   19395 non-null  float64\n",
      " 43  rougher.input.floatbank11_xanthate                  18986 non-null  float64\n",
      " 44  rougher.output.concentrate_ag                       19439 non-null  float64\n",
      " 45  rougher.output.concentrate_pb                       19439 non-null  float64\n",
      " 46  rougher.output.concentrate_sol                      19416 non-null  float64\n",
      " 47  rougher.output.concentrate_au                       19439 non-null  float64\n",
      " 48  rougher.output.recovery                             19439 non-null  float64\n",
      " 49  rougher.output.tail_ag                              19438 non-null  float64\n",
      " 50  rougher.output.tail_pb                              19439 non-null  float64\n",
      " 51  rougher.output.tail_sol                             19439 non-null  float64\n",
      " 52  rougher.output.tail_au                              19439 non-null  float64\n",
      " 53  rougher.state.floatbank10_a_air                     19438 non-null  float64\n",
      " 54  rougher.state.floatbank10_a_level                   19438 non-null  float64\n",
      " 55  rougher.state.floatbank10_b_air                     19438 non-null  float64\n",
      " 56  rougher.state.floatbank10_b_level                   19438 non-null  float64\n",
      " 57  rougher.state.floatbank10_c_air                     19438 non-null  float64\n",
      " 58  rougher.state.floatbank10_c_level                   19438 non-null  float64\n",
      " 59  rougher.state.floatbank10_d_air                     19439 non-null  float64\n",
      " 60  rougher.state.floatbank10_d_level                   19439 non-null  float64\n",
      " 61  rougher.state.floatbank10_e_air                     19003 non-null  float64\n",
      " 62  rougher.state.floatbank10_e_level                   19439 non-null  float64\n",
      " 63  rougher.state.floatbank10_f_air                     19439 non-null  float64\n",
      " 64  rougher.state.floatbank10_f_level                   19439 non-null  float64\n",
      " 65  secondary_cleaner.output.tail_ag                    19437 non-null  float64\n",
      " 66  secondary_cleaner.output.tail_pb                    19427 non-null  float64\n",
      " 67  secondary_cleaner.output.tail_sol                   17691 non-null  float64\n",
      " 68  secondary_cleaner.output.tail_au                    19439 non-null  float64\n",
      " 69  secondary_cleaner.state.floatbank2_a_air            19219 non-null  float64\n",
      " 70  secondary_cleaner.state.floatbank2_a_level          19438 non-null  float64\n",
      " 71  secondary_cleaner.state.floatbank2_b_air            19416 non-null  float64\n",
      " 72  secondary_cleaner.state.floatbank2_b_level          19438 non-null  float64\n",
      " 73  secondary_cleaner.state.floatbank3_a_air            19426 non-null  float64\n",
      " 74  secondary_cleaner.state.floatbank3_a_level          19438 non-null  float64\n",
      " 75  secondary_cleaner.state.floatbank3_b_air            19438 non-null  float64\n",
      " 76  secondary_cleaner.state.floatbank3_b_level          19438 non-null  float64\n",
      " 77  secondary_cleaner.state.floatbank4_a_air            19433 non-null  float64\n",
      " 78  secondary_cleaner.state.floatbank4_a_level          19438 non-null  float64\n",
      " 79  secondary_cleaner.state.floatbank4_b_air            19438 non-null  float64\n",
      " 80  secondary_cleaner.state.floatbank4_b_level          19438 non-null  float64\n",
      " 81  secondary_cleaner.state.floatbank5_a_air            19438 non-null  float64\n",
      " 82  secondary_cleaner.state.floatbank5_a_level          19438 non-null  float64\n",
      " 83  secondary_cleaner.state.floatbank5_b_air            19438 non-null  float64\n",
      " 84  secondary_cleaner.state.floatbank5_b_level          19438 non-null  float64\n",
      " 85  secondary_cleaner.state.floatbank6_a_air            19437 non-null  float64\n",
      " 86  secondary_cleaner.state.floatbank6_a_level          19438 non-null  float64\n",
      "dtypes: float64(86), object(1)\n",
      "memory usage: 12.9+ MB\n",
      "None\n",
      "\n",
      "\n"
     ]
    }
   ],
   "source": [
    "#list with the tables\n",
    "tables = [gold_train, gold_test, gold_full_df]\n",
    "#tables info\n",
    "for table in tables:\n",
    "    print(f'Info about table: {table.name}')\n",
    "    print('\\n')\n",
    "    print(table.info())\n",
    "    print('\\n')"
   ]
  },
  {
   "cell_type": "code",
   "execution_count": 5,
   "metadata": {},
   "outputs": [
    {
     "name": "stdout",
     "output_type": "stream",
     "text": [
      "Shape of the table: (14149, 87)\n",
      "Share of missing values in the top-15 columns for table: gold_train\n",
      "secondary_cleaner.output.tail_sol           0.113436\n",
      "rougher.state.floatbank10_e_air             0.030815\n",
      "rougher.input.floatbank11_xanthate          0.030249\n",
      "primary_cleaner.output.concentrate_sol      0.020213\n",
      "secondary_cleaner.state.floatbank2_a_air    0.015337\n",
      "final.output.concentrate_sol                0.014913\n",
      "rougher.input.feed_size                     0.010177\n",
      "primary_cleaner.input.xanthate              0.007068\n",
      "rougher.input.feed_pb                       0.007068\n",
      "final.output.tail_pb                        0.007068\n",
      "primary_cleaner.output.concentrate_pb       0.006078\n",
      "rougher.input.feed_sol                      0.005513\n",
      "primary_cleaner.output.tail_sol             0.003251\n",
      "rougher.input.floatbank11_sulfate           0.002544\n",
      "primary_cleaner.input.depressant            0.002262\n",
      "dtype: float64\n",
      "\n",
      "\n",
      "Shape of the table: (5290, 53)\n",
      "Share of missing values in the top-15 columns for table: gold_test\n",
      "rougher.input.floatbank11_xanthate          0.004726\n",
      "rougher.input.feed_sol                      0.003970\n",
      "secondary_cleaner.state.floatbank3_a_air    0.001701\n",
      "rougher.input.floatbank11_sulfate           0.001512\n",
      "primary_cleaner.input.depressant            0.000945\n",
      "rougher.input.floatbank10_sulfate           0.000945\n",
      "primary_cleaner.input.xanthate              0.000756\n",
      "primary_cleaner.input.sulfate               0.000756\n",
      "rougher.input.feed_rate                     0.000567\n",
      "secondary_cleaner.state.floatbank2_a_air    0.000567\n",
      "secondary_cleaner.state.floatbank2_b_air    0.000378\n",
      "rougher.input.feed_size                     0.000189\n",
      "dtype: float64\n",
      "\n",
      "\n",
      "Shape of the table: (19439, 87)\n",
      "Share of missing values in the top-15 columns for table: gold_full_df\n",
      "secondary_cleaner.output.tail_sol           0.089922\n",
      "rougher.input.floatbank11_xanthate          0.023304\n",
      "rougher.state.floatbank10_e_air             0.022429\n",
      "primary_cleaner.output.concentrate_sol      0.019034\n",
      "secondary_cleaner.state.floatbank2_a_air    0.011317\n",
      "final.output.concentrate_sol                0.010854\n",
      "rougher.input.feed_size                     0.007459\n",
      "primary_cleaner.output.concentrate_pb       0.005967\n",
      "primary_cleaner.input.xanthate              0.005350\n",
      "final.output.tail_pb                        0.005196\n",
      "rougher.input.feed_pb                       0.005144\n",
      "rougher.input.feed_sol                      0.005093\n",
      "primary_cleaner.output.tail_sol             0.003189\n",
      "rougher.input.floatbank11_sulfate           0.002263\n",
      "primary_cleaner.input.depressant            0.001903\n",
      "dtype: float64\n",
      "\n",
      "\n"
     ]
    }
   ],
   "source": [
    "for table in tables:\n",
    "    print(f'Shape of the table: {table.shape}')\n",
    "    print(f'Share of missing values in the top-15 columns for table: {table.name}')\n",
    "    print(table.isna().mean().sort_values(ascending=False).loc[lambda x: x>0].head(15))\n",
    "    print('\\n')"
   ]
  },
  {
   "cell_type": "markdown",
   "metadata": {},
   "source": [
    "It should be noted that the complete dataset consists of 19439 rows and 87 columns. There are columns with missing values for more than 10% of the training set. Some features are not available in the dataset, because they are measured and/or computed much later in the process. Therefore. some of these features are missing in the test sample. At the same time, there are fewer columns in the test sample than in all other datasets.  "
   ]
  },
  {
   "cell_type": "code",
   "execution_count": 6,
   "metadata": {},
   "outputs": [
    {
     "data": {
      "text/html": [
       "<div>\n",
       "<style scoped>\n",
       "    .dataframe tbody tr th:only-of-type {\n",
       "        vertical-align: middle;\n",
       "    }\n",
       "\n",
       "    .dataframe tbody tr th {\n",
       "        vertical-align: top;\n",
       "    }\n",
       "\n",
       "    .dataframe thead th {\n",
       "        text-align: right;\n",
       "    }\n",
       "</style>\n",
       "<table border=\"1\" class=\"dataframe\">\n",
       "  <thead>\n",
       "    <tr style=\"text-align: right;\">\n",
       "      <th></th>\n",
       "      <th>date</th>\n",
       "      <th>final.output.concentrate_ag</th>\n",
       "      <th>final.output.concentrate_pb</th>\n",
       "      <th>final.output.concentrate_sol</th>\n",
       "      <th>final.output.concentrate_au</th>\n",
       "      <th>final.output.recovery</th>\n",
       "      <th>final.output.tail_ag</th>\n",
       "      <th>final.output.tail_pb</th>\n",
       "      <th>final.output.tail_sol</th>\n",
       "      <th>final.output.tail_au</th>\n",
       "      <th>...</th>\n",
       "      <th>secondary_cleaner.state.floatbank4_a_air</th>\n",
       "      <th>secondary_cleaner.state.floatbank4_a_level</th>\n",
       "      <th>secondary_cleaner.state.floatbank4_b_air</th>\n",
       "      <th>secondary_cleaner.state.floatbank4_b_level</th>\n",
       "      <th>secondary_cleaner.state.floatbank5_a_air</th>\n",
       "      <th>secondary_cleaner.state.floatbank5_a_level</th>\n",
       "      <th>secondary_cleaner.state.floatbank5_b_air</th>\n",
       "      <th>secondary_cleaner.state.floatbank5_b_level</th>\n",
       "      <th>secondary_cleaner.state.floatbank6_a_air</th>\n",
       "      <th>secondary_cleaner.state.floatbank6_a_level</th>\n",
       "    </tr>\n",
       "  </thead>\n",
       "  <tbody>\n",
       "    <tr>\n",
       "      <th>0</th>\n",
       "      <td>2016-01-15 00:00:00</td>\n",
       "      <td>6.055403</td>\n",
       "      <td>9.889648</td>\n",
       "      <td>5.507324</td>\n",
       "      <td>42.192020</td>\n",
       "      <td>70.541216</td>\n",
       "      <td>10.411962</td>\n",
       "      <td>0.895447</td>\n",
       "      <td>16.904297</td>\n",
       "      <td>2.143149</td>\n",
       "      <td>...</td>\n",
       "      <td>14.016835</td>\n",
       "      <td>-502.488007</td>\n",
       "      <td>12.099931</td>\n",
       "      <td>-504.715942</td>\n",
       "      <td>9.925633</td>\n",
       "      <td>-498.310211</td>\n",
       "      <td>8.079666</td>\n",
       "      <td>-500.470978</td>\n",
       "      <td>14.151341</td>\n",
       "      <td>-605.841980</td>\n",
       "    </tr>\n",
       "    <tr>\n",
       "      <th>1</th>\n",
       "      <td>2016-01-15 01:00:00</td>\n",
       "      <td>6.029369</td>\n",
       "      <td>9.968944</td>\n",
       "      <td>5.257781</td>\n",
       "      <td>42.701629</td>\n",
       "      <td>69.266198</td>\n",
       "      <td>10.462676</td>\n",
       "      <td>0.927452</td>\n",
       "      <td>16.634514</td>\n",
       "      <td>2.224930</td>\n",
       "      <td>...</td>\n",
       "      <td>13.992281</td>\n",
       "      <td>-505.503262</td>\n",
       "      <td>11.950531</td>\n",
       "      <td>-501.331529</td>\n",
       "      <td>10.039245</td>\n",
       "      <td>-500.169983</td>\n",
       "      <td>7.984757</td>\n",
       "      <td>-500.582168</td>\n",
       "      <td>13.998353</td>\n",
       "      <td>-599.787184</td>\n",
       "    </tr>\n",
       "    <tr>\n",
       "      <th>2</th>\n",
       "      <td>2016-01-15 02:00:00</td>\n",
       "      <td>6.055926</td>\n",
       "      <td>10.213995</td>\n",
       "      <td>5.383759</td>\n",
       "      <td>42.657501</td>\n",
       "      <td>68.116445</td>\n",
       "      <td>10.507046</td>\n",
       "      <td>0.953716</td>\n",
       "      <td>16.208849</td>\n",
       "      <td>2.257889</td>\n",
       "      <td>...</td>\n",
       "      <td>14.015015</td>\n",
       "      <td>-502.520901</td>\n",
       "      <td>11.912783</td>\n",
       "      <td>-501.133383</td>\n",
       "      <td>10.070913</td>\n",
       "      <td>-500.129135</td>\n",
       "      <td>8.013877</td>\n",
       "      <td>-500.517572</td>\n",
       "      <td>14.028663</td>\n",
       "      <td>-601.427363</td>\n",
       "    </tr>\n",
       "    <tr>\n",
       "      <th>3</th>\n",
       "      <td>2016-01-15 03:00:00</td>\n",
       "      <td>6.047977</td>\n",
       "      <td>9.977019</td>\n",
       "      <td>4.858634</td>\n",
       "      <td>42.689819</td>\n",
       "      <td>68.347543</td>\n",
       "      <td>10.422762</td>\n",
       "      <td>0.883763</td>\n",
       "      <td>16.532835</td>\n",
       "      <td>2.146849</td>\n",
       "      <td>...</td>\n",
       "      <td>14.036510</td>\n",
       "      <td>-500.857308</td>\n",
       "      <td>11.999550</td>\n",
       "      <td>-501.193686</td>\n",
       "      <td>9.970366</td>\n",
       "      <td>-499.201640</td>\n",
       "      <td>7.977324</td>\n",
       "      <td>-500.255908</td>\n",
       "      <td>14.005551</td>\n",
       "      <td>-599.996129</td>\n",
       "    </tr>\n",
       "    <tr>\n",
       "      <th>4</th>\n",
       "      <td>2016-01-15 04:00:00</td>\n",
       "      <td>6.148599</td>\n",
       "      <td>10.142511</td>\n",
       "      <td>4.939416</td>\n",
       "      <td>42.774141</td>\n",
       "      <td>66.927016</td>\n",
       "      <td>10.360302</td>\n",
       "      <td>0.792826</td>\n",
       "      <td>16.525686</td>\n",
       "      <td>2.055292</td>\n",
       "      <td>...</td>\n",
       "      <td>14.027298</td>\n",
       "      <td>-499.838632</td>\n",
       "      <td>11.953070</td>\n",
       "      <td>-501.053894</td>\n",
       "      <td>9.925709</td>\n",
       "      <td>-501.686727</td>\n",
       "      <td>7.894242</td>\n",
       "      <td>-500.356035</td>\n",
       "      <td>13.996647</td>\n",
       "      <td>-601.496691</td>\n",
       "    </tr>\n",
       "  </tbody>\n",
       "</table>\n",
       "<p>5 rows × 87 columns</p>\n",
       "</div>"
      ],
      "text/plain": [
       "                  date  final.output.concentrate_ag  \\\n",
       "0  2016-01-15 00:00:00                     6.055403   \n",
       "1  2016-01-15 01:00:00                     6.029369   \n",
       "2  2016-01-15 02:00:00                     6.055926   \n",
       "3  2016-01-15 03:00:00                     6.047977   \n",
       "4  2016-01-15 04:00:00                     6.148599   \n",
       "\n",
       "   final.output.concentrate_pb  final.output.concentrate_sol  \\\n",
       "0                     9.889648                      5.507324   \n",
       "1                     9.968944                      5.257781   \n",
       "2                    10.213995                      5.383759   \n",
       "3                     9.977019                      4.858634   \n",
       "4                    10.142511                      4.939416   \n",
       "\n",
       "   final.output.concentrate_au  final.output.recovery  final.output.tail_ag  \\\n",
       "0                    42.192020              70.541216             10.411962   \n",
       "1                    42.701629              69.266198             10.462676   \n",
       "2                    42.657501              68.116445             10.507046   \n",
       "3                    42.689819              68.347543             10.422762   \n",
       "4                    42.774141              66.927016             10.360302   \n",
       "\n",
       "   final.output.tail_pb  final.output.tail_sol  final.output.tail_au  ...  \\\n",
       "0              0.895447              16.904297              2.143149  ...   \n",
       "1              0.927452              16.634514              2.224930  ...   \n",
       "2              0.953716              16.208849              2.257889  ...   \n",
       "3              0.883763              16.532835              2.146849  ...   \n",
       "4              0.792826              16.525686              2.055292  ...   \n",
       "\n",
       "   secondary_cleaner.state.floatbank4_a_air  \\\n",
       "0                                 14.016835   \n",
       "1                                 13.992281   \n",
       "2                                 14.015015   \n",
       "3                                 14.036510   \n",
       "4                                 14.027298   \n",
       "\n",
       "   secondary_cleaner.state.floatbank4_a_level  \\\n",
       "0                                 -502.488007   \n",
       "1                                 -505.503262   \n",
       "2                                 -502.520901   \n",
       "3                                 -500.857308   \n",
       "4                                 -499.838632   \n",
       "\n",
       "   secondary_cleaner.state.floatbank4_b_air  \\\n",
       "0                                 12.099931   \n",
       "1                                 11.950531   \n",
       "2                                 11.912783   \n",
       "3                                 11.999550   \n",
       "4                                 11.953070   \n",
       "\n",
       "   secondary_cleaner.state.floatbank4_b_level  \\\n",
       "0                                 -504.715942   \n",
       "1                                 -501.331529   \n",
       "2                                 -501.133383   \n",
       "3                                 -501.193686   \n",
       "4                                 -501.053894   \n",
       "\n",
       "   secondary_cleaner.state.floatbank5_a_air  \\\n",
       "0                                  9.925633   \n",
       "1                                 10.039245   \n",
       "2                                 10.070913   \n",
       "3                                  9.970366   \n",
       "4                                  9.925709   \n",
       "\n",
       "   secondary_cleaner.state.floatbank5_a_level  \\\n",
       "0                                 -498.310211   \n",
       "1                                 -500.169983   \n",
       "2                                 -500.129135   \n",
       "3                                 -499.201640   \n",
       "4                                 -501.686727   \n",
       "\n",
       "   secondary_cleaner.state.floatbank5_b_air  \\\n",
       "0                                  8.079666   \n",
       "1                                  7.984757   \n",
       "2                                  8.013877   \n",
       "3                                  7.977324   \n",
       "4                                  7.894242   \n",
       "\n",
       "   secondary_cleaner.state.floatbank5_b_level  \\\n",
       "0                                 -500.470978   \n",
       "1                                 -500.582168   \n",
       "2                                 -500.517572   \n",
       "3                                 -500.255908   \n",
       "4                                 -500.356035   \n",
       "\n",
       "   secondary_cleaner.state.floatbank6_a_air  \\\n",
       "0                                 14.151341   \n",
       "1                                 13.998353   \n",
       "2                                 14.028663   \n",
       "3                                 14.005551   \n",
       "4                                 13.996647   \n",
       "\n",
       "   secondary_cleaner.state.floatbank6_a_level  \n",
       "0                                 -605.841980  \n",
       "1                                 -599.787184  \n",
       "2                                 -601.427363  \n",
       "3                                 -599.996129  \n",
       "4                                 -601.496691  \n",
       "\n",
       "[5 rows x 87 columns]"
      ]
     },
     "execution_count": 6,
     "metadata": {},
     "output_type": "execute_result"
    }
   ],
   "source": [
    "gold_full_df.head()"
   ]
  },
  {
   "cell_type": "code",
   "execution_count": 7,
   "metadata": {},
   "outputs": [
    {
     "data": {
      "text/html": [
       "<div>\n",
       "<style scoped>\n",
       "    .dataframe tbody tr th:only-of-type {\n",
       "        vertical-align: middle;\n",
       "    }\n",
       "\n",
       "    .dataframe tbody tr th {\n",
       "        vertical-align: top;\n",
       "    }\n",
       "\n",
       "    .dataframe thead th {\n",
       "        text-align: right;\n",
       "    }\n",
       "</style>\n",
       "<table border=\"1\" class=\"dataframe\">\n",
       "  <thead>\n",
       "    <tr style=\"text-align: right;\">\n",
       "      <th></th>\n",
       "      <th>final.output.concentrate_ag</th>\n",
       "      <th>final.output.concentrate_pb</th>\n",
       "      <th>final.output.concentrate_sol</th>\n",
       "      <th>final.output.concentrate_au</th>\n",
       "      <th>final.output.recovery</th>\n",
       "      <th>final.output.tail_ag</th>\n",
       "      <th>final.output.tail_pb</th>\n",
       "      <th>final.output.tail_sol</th>\n",
       "      <th>final.output.tail_au</th>\n",
       "      <th>primary_cleaner.input.sulfate</th>\n",
       "      <th>...</th>\n",
       "      <th>secondary_cleaner.state.floatbank4_a_air</th>\n",
       "      <th>secondary_cleaner.state.floatbank4_a_level</th>\n",
       "      <th>secondary_cleaner.state.floatbank4_b_air</th>\n",
       "      <th>secondary_cleaner.state.floatbank4_b_level</th>\n",
       "      <th>secondary_cleaner.state.floatbank5_a_air</th>\n",
       "      <th>secondary_cleaner.state.floatbank5_a_level</th>\n",
       "      <th>secondary_cleaner.state.floatbank5_b_air</th>\n",
       "      <th>secondary_cleaner.state.floatbank5_b_level</th>\n",
       "      <th>secondary_cleaner.state.floatbank6_a_air</th>\n",
       "      <th>secondary_cleaner.state.floatbank6_a_level</th>\n",
       "    </tr>\n",
       "  </thead>\n",
       "  <tbody>\n",
       "    <tr>\n",
       "      <th>count</th>\n",
       "      <td>19438.000000</td>\n",
       "      <td>19438.000000</td>\n",
       "      <td>19228.000000</td>\n",
       "      <td>19439.000000</td>\n",
       "      <td>19439.000000</td>\n",
       "      <td>19438.000000</td>\n",
       "      <td>19338.000000</td>\n",
       "      <td>19433.000000</td>\n",
       "      <td>19439.000000</td>\n",
       "      <td>19415.000000</td>\n",
       "      <td>...</td>\n",
       "      <td>19433.000000</td>\n",
       "      <td>19438.000000</td>\n",
       "      <td>19438.000000</td>\n",
       "      <td>19438.000000</td>\n",
       "      <td>19438.000000</td>\n",
       "      <td>19438.000000</td>\n",
       "      <td>19438.000000</td>\n",
       "      <td>19438.000000</td>\n",
       "      <td>19437.000000</td>\n",
       "      <td>19438.000000</td>\n",
       "    </tr>\n",
       "    <tr>\n",
       "      <th>mean</th>\n",
       "      <td>5.168470</td>\n",
       "      <td>9.978895</td>\n",
       "      <td>9.501224</td>\n",
       "      <td>44.076513</td>\n",
       "      <td>67.050208</td>\n",
       "      <td>9.688589</td>\n",
       "      <td>2.705795</td>\n",
       "      <td>10.583728</td>\n",
       "      <td>3.042467</td>\n",
       "      <td>144.624774</td>\n",
       "      <td>...</td>\n",
       "      <td>18.987674</td>\n",
       "      <td>-485.894516</td>\n",
       "      <td>15.010366</td>\n",
       "      <td>-461.078636</td>\n",
       "      <td>15.694452</td>\n",
       "      <td>-488.684065</td>\n",
       "      <td>12.198224</td>\n",
       "      <td>-487.149827</td>\n",
       "      <td>18.959024</td>\n",
       "      <td>-505.436305</td>\n",
       "    </tr>\n",
       "    <tr>\n",
       "      <th>std</th>\n",
       "      <td>1.372348</td>\n",
       "      <td>1.669240</td>\n",
       "      <td>2.787537</td>\n",
       "      <td>5.129784</td>\n",
       "      <td>10.125840</td>\n",
       "      <td>2.328642</td>\n",
       "      <td>0.949077</td>\n",
       "      <td>2.868782</td>\n",
       "      <td>0.922808</td>\n",
       "      <td>44.464071</td>\n",
       "      <td>...</td>\n",
       "      <td>5.411058</td>\n",
       "      <td>47.758570</td>\n",
       "      <td>4.890228</td>\n",
       "      <td>67.405524</td>\n",
       "      <td>5.510974</td>\n",
       "      <td>34.533396</td>\n",
       "      <td>5.333024</td>\n",
       "      <td>38.347312</td>\n",
       "      <td>5.550498</td>\n",
       "      <td>37.689057</td>\n",
       "    </tr>\n",
       "    <tr>\n",
       "      <th>min</th>\n",
       "      <td>0.000000</td>\n",
       "      <td>0.000000</td>\n",
       "      <td>0.000000</td>\n",
       "      <td>0.000000</td>\n",
       "      <td>0.000000</td>\n",
       "      <td>0.000000</td>\n",
       "      <td>0.000000</td>\n",
       "      <td>0.000000</td>\n",
       "      <td>0.000000</td>\n",
       "      <td>0.003112</td>\n",
       "      <td>...</td>\n",
       "      <td>0.000000</td>\n",
       "      <td>-799.798523</td>\n",
       "      <td>0.000000</td>\n",
       "      <td>-800.836914</td>\n",
       "      <td>-0.372054</td>\n",
       "      <td>-797.323986</td>\n",
       "      <td>0.528083</td>\n",
       "      <td>-800.220337</td>\n",
       "      <td>-0.079426</td>\n",
       "      <td>-809.741464</td>\n",
       "    </tr>\n",
       "    <tr>\n",
       "      <th>25%</th>\n",
       "      <td>4.251240</td>\n",
       "      <td>9.137262</td>\n",
       "      <td>7.722820</td>\n",
       "      <td>43.402215</td>\n",
       "      <td>63.299712</td>\n",
       "      <td>8.062878</td>\n",
       "      <td>2.040119</td>\n",
       "      <td>8.938947</td>\n",
       "      <td>2.461138</td>\n",
       "      <td>114.107029</td>\n",
       "      <td>...</td>\n",
       "      <td>14.975734</td>\n",
       "      <td>-500.704892</td>\n",
       "      <td>11.940294</td>\n",
       "      <td>-500.187742</td>\n",
       "      <td>10.988606</td>\n",
       "      <td>-500.458467</td>\n",
       "      <td>8.971105</td>\n",
       "      <td>-500.129462</td>\n",
       "      <td>14.983037</td>\n",
       "      <td>-500.728067</td>\n",
       "    </tr>\n",
       "    <tr>\n",
       "      <th>50%</th>\n",
       "      <td>5.066094</td>\n",
       "      <td>10.102433</td>\n",
       "      <td>9.218961</td>\n",
       "      <td>45.011244</td>\n",
       "      <td>68.172738</td>\n",
       "      <td>9.743623</td>\n",
       "      <td>2.748730</td>\n",
       "      <td>10.622456</td>\n",
       "      <td>2.984909</td>\n",
       "      <td>143.232103</td>\n",
       "      <td>...</td>\n",
       "      <td>18.017481</td>\n",
       "      <td>-499.837793</td>\n",
       "      <td>14.971014</td>\n",
       "      <td>-499.459786</td>\n",
       "      <td>15.000036</td>\n",
       "      <td>-499.802605</td>\n",
       "      <td>11.019433</td>\n",
       "      <td>-499.935317</td>\n",
       "      <td>19.960541</td>\n",
       "      <td>-500.048400</td>\n",
       "    </tr>\n",
       "    <tr>\n",
       "      <th>75%</th>\n",
       "      <td>5.895527</td>\n",
       "      <td>11.035769</td>\n",
       "      <td>10.947813</td>\n",
       "      <td>46.275313</td>\n",
       "      <td>72.686642</td>\n",
       "      <td>11.134294</td>\n",
       "      <td>3.333216</td>\n",
       "      <td>12.104271</td>\n",
       "      <td>3.571351</td>\n",
       "      <td>175.075656</td>\n",
       "      <td>...</td>\n",
       "      <td>23.012470</td>\n",
       "      <td>-498.249730</td>\n",
       "      <td>19.034162</td>\n",
       "      <td>-400.118106</td>\n",
       "      <td>18.026190</td>\n",
       "      <td>-498.384187</td>\n",
       "      <td>14.019088</td>\n",
       "      <td>-499.436708</td>\n",
       "      <td>24.003170</td>\n",
       "      <td>-499.495378</td>\n",
       "    </tr>\n",
       "    <tr>\n",
       "      <th>max</th>\n",
       "      <td>16.001945</td>\n",
       "      <td>17.031899</td>\n",
       "      <td>19.615720</td>\n",
       "      <td>52.756638</td>\n",
       "      <td>100.000000</td>\n",
       "      <td>19.552149</td>\n",
       "      <td>5.804178</td>\n",
       "      <td>22.317730</td>\n",
       "      <td>8.245022</td>\n",
       "      <td>265.983123</td>\n",
       "      <td>...</td>\n",
       "      <td>30.115735</td>\n",
       "      <td>-245.239184</td>\n",
       "      <td>31.269706</td>\n",
       "      <td>-6.506986</td>\n",
       "      <td>43.709931</td>\n",
       "      <td>-244.483566</td>\n",
       "      <td>27.926001</td>\n",
       "      <td>-137.740004</td>\n",
       "      <td>32.188906</td>\n",
       "      <td>-104.427459</td>\n",
       "    </tr>\n",
       "  </tbody>\n",
       "</table>\n",
       "<p>8 rows × 86 columns</p>\n",
       "</div>"
      ],
      "text/plain": [
       "       final.output.concentrate_ag  final.output.concentrate_pb  \\\n",
       "count                 19438.000000                 19438.000000   \n",
       "mean                      5.168470                     9.978895   \n",
       "std                       1.372348                     1.669240   \n",
       "min                       0.000000                     0.000000   \n",
       "25%                       4.251240                     9.137262   \n",
       "50%                       5.066094                    10.102433   \n",
       "75%                       5.895527                    11.035769   \n",
       "max                      16.001945                    17.031899   \n",
       "\n",
       "       final.output.concentrate_sol  final.output.concentrate_au  \\\n",
       "count                  19228.000000                 19439.000000   \n",
       "mean                       9.501224                    44.076513   \n",
       "std                        2.787537                     5.129784   \n",
       "min                        0.000000                     0.000000   \n",
       "25%                        7.722820                    43.402215   \n",
       "50%                        9.218961                    45.011244   \n",
       "75%                       10.947813                    46.275313   \n",
       "max                       19.615720                    52.756638   \n",
       "\n",
       "       final.output.recovery  final.output.tail_ag  final.output.tail_pb  \\\n",
       "count           19439.000000          19438.000000          19338.000000   \n",
       "mean               67.050208              9.688589              2.705795   \n",
       "std                10.125840              2.328642              0.949077   \n",
       "min                 0.000000              0.000000              0.000000   \n",
       "25%                63.299712              8.062878              2.040119   \n",
       "50%                68.172738              9.743623              2.748730   \n",
       "75%                72.686642             11.134294              3.333216   \n",
       "max               100.000000             19.552149              5.804178   \n",
       "\n",
       "       final.output.tail_sol  final.output.tail_au  \\\n",
       "count           19433.000000          19439.000000   \n",
       "mean               10.583728              3.042467   \n",
       "std                 2.868782              0.922808   \n",
       "min                 0.000000              0.000000   \n",
       "25%                 8.938947              2.461138   \n",
       "50%                10.622456              2.984909   \n",
       "75%                12.104271              3.571351   \n",
       "max                22.317730              8.245022   \n",
       "\n",
       "       primary_cleaner.input.sulfate  ...  \\\n",
       "count                   19415.000000  ...   \n",
       "mean                      144.624774  ...   \n",
       "std                        44.464071  ...   \n",
       "min                         0.003112  ...   \n",
       "25%                       114.107029  ...   \n",
       "50%                       143.232103  ...   \n",
       "75%                       175.075656  ...   \n",
       "max                       265.983123  ...   \n",
       "\n",
       "       secondary_cleaner.state.floatbank4_a_air  \\\n",
       "count                              19433.000000   \n",
       "mean                                  18.987674   \n",
       "std                                    5.411058   \n",
       "min                                    0.000000   \n",
       "25%                                   14.975734   \n",
       "50%                                   18.017481   \n",
       "75%                                   23.012470   \n",
       "max                                   30.115735   \n",
       "\n",
       "       secondary_cleaner.state.floatbank4_a_level  \\\n",
       "count                                19438.000000   \n",
       "mean                                  -485.894516   \n",
       "std                                     47.758570   \n",
       "min                                   -799.798523   \n",
       "25%                                   -500.704892   \n",
       "50%                                   -499.837793   \n",
       "75%                                   -498.249730   \n",
       "max                                   -245.239184   \n",
       "\n",
       "       secondary_cleaner.state.floatbank4_b_air  \\\n",
       "count                              19438.000000   \n",
       "mean                                  15.010366   \n",
       "std                                    4.890228   \n",
       "min                                    0.000000   \n",
       "25%                                   11.940294   \n",
       "50%                                   14.971014   \n",
       "75%                                   19.034162   \n",
       "max                                   31.269706   \n",
       "\n",
       "       secondary_cleaner.state.floatbank4_b_level  \\\n",
       "count                                19438.000000   \n",
       "mean                                  -461.078636   \n",
       "std                                     67.405524   \n",
       "min                                   -800.836914   \n",
       "25%                                   -500.187742   \n",
       "50%                                   -499.459786   \n",
       "75%                                   -400.118106   \n",
       "max                                     -6.506986   \n",
       "\n",
       "       secondary_cleaner.state.floatbank5_a_air  \\\n",
       "count                              19438.000000   \n",
       "mean                                  15.694452   \n",
       "std                                    5.510974   \n",
       "min                                   -0.372054   \n",
       "25%                                   10.988606   \n",
       "50%                                   15.000036   \n",
       "75%                                   18.026190   \n",
       "max                                   43.709931   \n",
       "\n",
       "       secondary_cleaner.state.floatbank5_a_level  \\\n",
       "count                                19438.000000   \n",
       "mean                                  -488.684065   \n",
       "std                                     34.533396   \n",
       "min                                   -797.323986   \n",
       "25%                                   -500.458467   \n",
       "50%                                   -499.802605   \n",
       "75%                                   -498.384187   \n",
       "max                                   -244.483566   \n",
       "\n",
       "       secondary_cleaner.state.floatbank5_b_air  \\\n",
       "count                              19438.000000   \n",
       "mean                                  12.198224   \n",
       "std                                    5.333024   \n",
       "min                                    0.528083   \n",
       "25%                                    8.971105   \n",
       "50%                                   11.019433   \n",
       "75%                                   14.019088   \n",
       "max                                   27.926001   \n",
       "\n",
       "       secondary_cleaner.state.floatbank5_b_level  \\\n",
       "count                                19438.000000   \n",
       "mean                                  -487.149827   \n",
       "std                                     38.347312   \n",
       "min                                   -800.220337   \n",
       "25%                                   -500.129462   \n",
       "50%                                   -499.935317   \n",
       "75%                                   -499.436708   \n",
       "max                                   -137.740004   \n",
       "\n",
       "       secondary_cleaner.state.floatbank6_a_air  \\\n",
       "count                              19437.000000   \n",
       "mean                                  18.959024   \n",
       "std                                    5.550498   \n",
       "min                                   -0.079426   \n",
       "25%                                   14.983037   \n",
       "50%                                   19.960541   \n",
       "75%                                   24.003170   \n",
       "max                                   32.188906   \n",
       "\n",
       "       secondary_cleaner.state.floatbank6_a_level  \n",
       "count                                19438.000000  \n",
       "mean                                  -505.436305  \n",
       "std                                     37.689057  \n",
       "min                                   -809.741464  \n",
       "25%                                   -500.728067  \n",
       "50%                                   -500.048400  \n",
       "75%                                   -499.495378  \n",
       "max                                   -104.427459  \n",
       "\n",
       "[8 rows x 86 columns]"
      ]
     },
     "execution_count": 7,
     "metadata": {},
     "output_type": "execute_result"
    }
   ],
   "source": [
    "gold_full_df.describe()"
   ]
  },
  {
   "cell_type": "markdown",
   "metadata": {},
   "source": [
    "Also note the negative and zero values of some features."
   ]
  },
  {
   "cell_type": "markdown",
   "metadata": {},
   "source": [
    "### Verification of the treatment efficiency calculation"
   ]
  },
  {
   "cell_type": "markdown",
   "metadata": {},
   "source": [
    "To verify the accuracy of the treatment efficiency calculation, let's create a copy of the training set."
   ]
  },
  {
   "cell_type": "code",
   "execution_count": 8,
   "metadata": {},
   "outputs": [],
   "source": [
    "#training set copy\n",
    "gold_train_check = gold_train.copy()"
   ]
  },
  {
   "cell_type": "markdown",
   "metadata": {},
   "source": [
    "The next step is to create a column with a manual calculation of the treatment efficiency."
   ]
  },
  {
   "cell_type": "code",
   "execution_count": 9,
   "metadata": {},
   "outputs": [],
   "source": [
    "#adding a column with manual calculations\n",
    "gold_train_check['rougher.output.recovery_2'] = (\n",
    "    (gold_train_check['rougher.output.concentrate_au'] * (gold_train_check['rougher.input.feed_au'] - \n",
    "                                                       gold_train_check['rougher.output.tail_au'])) /\n",
    "    (gold_train_check['rougher.input.feed_au'] * (gold_train_check['rougher.output.concentrate_au'] - \n",
    "                                               gold_train_check['rougher.output.tail_au'])) * 100\n",
    ")"
   ]
  },
  {
   "cell_type": "code",
   "execution_count": 10,
   "metadata": {},
   "outputs": [
    {
     "data": {
      "text/plain": [
       "0.0"
      ]
     },
     "execution_count": 10,
     "metadata": {},
     "output_type": "execute_result"
    }
   ],
   "source": [
    "#given and calculated variables\n",
    "output_recovery_given = gold_train_check['rougher.output.recovery']\n",
    "output_recovery_calc = gold_train_check['rougher.output.recovery_2']\n",
    "#MAE between two variables\n",
    "mean_absolute_error(output_recovery_given, output_recovery_calc).round(2)"
   ]
  },
  {
   "cell_type": "markdown",
   "metadata": {},
   "source": [
    "The mean absolute error is 0. This means that the samples have the correct values."
   ]
  },
  {
   "cell_type": "markdown",
   "metadata": {},
   "source": [
    "### Analysis of features that are not available in the test set"
   ]
  },
  {
   "cell_type": "code",
   "execution_count": 11,
   "metadata": {},
   "outputs": [
    {
     "data": {
      "text/plain": [
       "['final.output.concentrate_ag',\n",
       " 'final.output.concentrate_pb',\n",
       " 'final.output.concentrate_sol',\n",
       " 'final.output.concentrate_au',\n",
       " 'final.output.recovery',\n",
       " 'final.output.tail_ag',\n",
       " 'final.output.tail_pb',\n",
       " 'final.output.tail_sol',\n",
       " 'final.output.tail_au',\n",
       " 'primary_cleaner.output.concentrate_ag',\n",
       " 'primary_cleaner.output.concentrate_pb',\n",
       " 'primary_cleaner.output.concentrate_sol',\n",
       " 'primary_cleaner.output.concentrate_au',\n",
       " 'primary_cleaner.output.tail_ag',\n",
       " 'primary_cleaner.output.tail_pb',\n",
       " 'primary_cleaner.output.tail_sol',\n",
       " 'primary_cleaner.output.tail_au',\n",
       " 'rougher.calculation.sulfate_to_au_concentrate',\n",
       " 'rougher.calculation.floatbank10_sulfate_to_au_feed',\n",
       " 'rougher.calculation.floatbank11_sulfate_to_au_feed',\n",
       " 'rougher.calculation.au_pb_ratio',\n",
       " 'rougher.output.concentrate_ag',\n",
       " 'rougher.output.concentrate_pb',\n",
       " 'rougher.output.concentrate_sol',\n",
       " 'rougher.output.concentrate_au',\n",
       " 'rougher.output.recovery',\n",
       " 'rougher.output.tail_ag',\n",
       " 'rougher.output.tail_pb',\n",
       " 'rougher.output.tail_sol',\n",
       " 'rougher.output.tail_au',\n",
       " 'secondary_cleaner.output.tail_ag',\n",
       " 'secondary_cleaner.output.tail_pb',\n",
       " 'secondary_cleaner.output.tail_sol',\n",
       " 'secondary_cleaner.output.tail_au']"
      ]
     },
     "metadata": {},
     "output_type": "display_data"
    }
   ],
   "source": [
    "#lists of columns in the training and test sets\n",
    "train_cols = gold_train.columns\n",
    "test_cols = gold_test.columns\n",
    "\n",
    "#list with missing columns\n",
    "missing = []\n",
    "#looping through missing columns\n",
    "for col in train_cols:\n",
    "    if col not in test_cols:\n",
    "        missing.append(col)\n",
    "\n",
    "display(missing)"
   ]
  },
  {
   "cell_type": "markdown",
   "metadata": {},
   "source": [
    "The analysis of the missing columns revealed that the test sample does not contain any features that are determined only after all stages of ore processing have been completed. Thus, the following features are not available in the test sample:\n",
    "* Product parameters:    \n",
    "    * concentrations of gold, silver, lead and lime in concentrate and tailings after each stage of production;\n",
    "    * estimated concentrations of various additives;\n",
    "    * production efficiency ratios.    \n",
    "* Target values: \n",
    "    * rougher.output.recovery;\n",
    "    * final.output.recovery.   "
   ]
  },
  {
   "cell_type": "markdown",
   "metadata": {},
   "source": [
    "### Data preprocessing"
   ]
  },
  {
   "cell_type": "markdown",
   "metadata": {},
   "source": [
    "Let's process the columns containing dates and convert them to datetime format. Then we'll add the target values from the full dataset to the test set."
   ]
  },
  {
   "cell_type": "code",
   "execution_count": 12,
   "metadata": {},
   "outputs": [],
   "source": [
    "#converting to datetime format\n",
    "for table in tables:\n",
    "    table['date'] = pd.to_datetime(table['date'])"
   ]
  },
  {
   "cell_type": "code",
   "execution_count": 13,
   "metadata": {},
   "outputs": [],
   "source": [
    "#adding features from the full dataset to the test set\n",
    "gold_test_full = gold_test.merge(\n",
    "    gold_full_df.loc[:, ['date', 'rougher.output.recovery', 'final.output.recovery']], \n",
    "    on = 'date', how = 'left')"
   ]
  },
  {
   "cell_type": "markdown",
   "metadata": {},
   "source": [
    "Next, we fill in the nans except for the target values by selecting a value from the closest cell after the gap, since the time-neighboring features are often similar. Before we do this, however, we will remove the missing values in the target values, since filling them in can affect the model's prediction performance."
   ]
  },
  {
   "cell_type": "code",
   "execution_count": 14,
   "metadata": {},
   "outputs": [],
   "source": [
    "#filling missing values\n",
    "gold_train = gold_train.fillna(method='ffill')\n",
    "gold_full_df = gold_full_df.fillna(method='ffill')\n",
    "gold_test_full = gold_test_full.fillna(method='ffill')"
   ]
  },
  {
   "cell_type": "markdown",
   "metadata": {},
   "source": [
    "### Conclusions"
   ]
  },
  {
   "cell_type": "markdown",
   "metadata": {},
   "source": [
    "* **Verification of enrichment efficiency calculation showed that the average absolute error is 0, in connection with this, in the training sample the correct values of ore enrichment are given;**\n",
    "* **Analysis of features not available in the test sample showed that in this sample there are no features that are determined only after passing through all stages of ore processing, as well as target features. Target feature in the test sample from the full dataset using date as key;**.\n",
    "* **Missing values for target feature were removed, and missing values for other features were filled with the closest values after the nans, as adjacent time characteristics are often similar;**.\n",
    "* **The columns containing dates have been converted to datetime format..**"
   ]
  },
  {
   "cell_type": "markdown",
   "metadata": {},
   "source": [
    "## EDA"
   ]
  },
  {
   "cell_type": "markdown",
   "metadata": {},
   "source": [
    "### Changes in the concentration of metals at different stages of the cleaning process"
   ]
  },
  {
   "cell_type": "code",
   "execution_count": 15,
   "metadata": {},
   "outputs": [
    {
     "data": {
      "text/plain": [
       "['final.output.concentrate_ag',\n",
       " 'final.output.concentrate_pb',\n",
       " 'final.output.concentrate_sol',\n",
       " 'final.output.concentrate_au',\n",
       " 'primary_cleaner.output.concentrate_ag',\n",
       " 'primary_cleaner.output.concentrate_pb',\n",
       " 'primary_cleaner.output.concentrate_sol',\n",
       " 'primary_cleaner.output.concentrate_au',\n",
       " 'rougher.calculation.sulfate_to_au_concentrate',\n",
       " 'rougher.output.concentrate_ag',\n",
       " 'rougher.output.concentrate_pb',\n",
       " 'rougher.output.concentrate_sol',\n",
       " 'rougher.output.concentrate_au']"
      ]
     },
     "execution_count": 15,
     "metadata": {},
     "output_type": "execute_result"
    }
   ],
   "source": [
    "#list of columns which contains 'concentrate' in their names\n",
    "cols_with_conc = [name for name in gold_full_df.columns if 'concentrate' in name]\n",
    "cols_with_conc"
   ]
  },
  {
   "cell_type": "markdown",
   "metadata": {},
   "source": [
    "In the list of columns there is an extra column with the calculated characteristic of sulfate to gold concentrate. For further analysis we will remove it and add to the list columns with the concentration of the starting raw material."
   ]
  },
  {
   "cell_type": "code",
   "execution_count": 16,
   "metadata": {},
   "outputs": [],
   "source": [
    "#deleting unnecessary and adding necessary columns\n",
    "cols_with_conc.remove('rougher.calculation.sulfate_to_au_concentrate')\n",
    "cols_with_conc.extend(['rougher.input.feed_ag', 'rougher.input.feed_au', 'rougher.input.feed_pb'])"
   ]
  },
  {
   "cell_type": "markdown",
   "metadata": {},
   "source": [
    "The next step is to create a dataframe for analyzing the concentration of substances. We'll create the necessary columns."
   ]
  },
  {
   "cell_type": "code",
   "execution_count": 17,
   "metadata": {},
   "outputs": [
    {
     "data": {
      "text/html": [
       "<div>\n",
       "<style scoped>\n",
       "    .dataframe tbody tr th:only-of-type {\n",
       "        vertical-align: middle;\n",
       "    }\n",
       "\n",
       "    .dataframe tbody tr th {\n",
       "        vertical-align: top;\n",
       "    }\n",
       "\n",
       "    .dataframe thead th {\n",
       "        text-align: right;\n",
       "    }\n",
       "</style>\n",
       "<table border=\"1\" class=\"dataframe\">\n",
       "  <thead>\n",
       "    <tr style=\"text-align: right;\">\n",
       "      <th></th>\n",
       "      <th>final.output.concentrate_ag</th>\n",
       "      <th>final.output.concentrate_pb</th>\n",
       "      <th>final.output.concentrate_sol</th>\n",
       "      <th>final.output.concentrate_au</th>\n",
       "      <th>primary_cleaner.output.concentrate_ag</th>\n",
       "      <th>primary_cleaner.output.concentrate_pb</th>\n",
       "      <th>primary_cleaner.output.concentrate_sol</th>\n",
       "      <th>primary_cleaner.output.concentrate_au</th>\n",
       "      <th>rougher.output.concentrate_ag</th>\n",
       "      <th>rougher.output.concentrate_pb</th>\n",
       "      <th>rougher.output.concentrate_sol</th>\n",
       "      <th>rougher.output.concentrate_au</th>\n",
       "      <th>rougher.input.feed_ag</th>\n",
       "      <th>rougher.input.feed_au</th>\n",
       "      <th>rougher.input.feed_pb</th>\n",
       "    </tr>\n",
       "  </thead>\n",
       "  <tbody>\n",
       "    <tr>\n",
       "      <th>0</th>\n",
       "      <td>6.055403</td>\n",
       "      <td>9.889648</td>\n",
       "      <td>5.507324</td>\n",
       "      <td>42.192020</td>\n",
       "      <td>8.547551</td>\n",
       "      <td>10.389648</td>\n",
       "      <td>19.529297</td>\n",
       "      <td>34.174427</td>\n",
       "      <td>11.500771</td>\n",
       "      <td>7.101074</td>\n",
       "      <td>28.029297</td>\n",
       "      <td>19.793808</td>\n",
       "      <td>6.100378</td>\n",
       "      <td>6.486150</td>\n",
       "      <td>2.284912</td>\n",
       "    </tr>\n",
       "    <tr>\n",
       "      <th>1</th>\n",
       "      <td>6.029369</td>\n",
       "      <td>9.968944</td>\n",
       "      <td>5.257781</td>\n",
       "      <td>42.701629</td>\n",
       "      <td>8.558743</td>\n",
       "      <td>10.497069</td>\n",
       "      <td>19.369147</td>\n",
       "      <td>34.118526</td>\n",
       "      <td>11.615865</td>\n",
       "      <td>7.278807</td>\n",
       "      <td>28.067063</td>\n",
       "      <td>20.050975</td>\n",
       "      <td>6.161113</td>\n",
       "      <td>6.478583</td>\n",
       "      <td>2.266033</td>\n",
       "    </tr>\n",
       "    <tr>\n",
       "      <th>2</th>\n",
       "      <td>6.055926</td>\n",
       "      <td>10.213995</td>\n",
       "      <td>5.383759</td>\n",
       "      <td>42.657501</td>\n",
       "      <td>8.603505</td>\n",
       "      <td>10.354494</td>\n",
       "      <td>19.167579</td>\n",
       "      <td>33.969464</td>\n",
       "      <td>11.695753</td>\n",
       "      <td>7.216833</td>\n",
       "      <td>27.454037</td>\n",
       "      <td>19.737170</td>\n",
       "      <td>6.116455</td>\n",
       "      <td>6.362222</td>\n",
       "      <td>2.159622</td>\n",
       "    </tr>\n",
       "    <tr>\n",
       "      <th>3</th>\n",
       "      <td>6.047977</td>\n",
       "      <td>9.977019</td>\n",
       "      <td>4.858634</td>\n",
       "      <td>42.689819</td>\n",
       "      <td>7.221879</td>\n",
       "      <td>8.496563</td>\n",
       "      <td>15.978538</td>\n",
       "      <td>28.260743</td>\n",
       "      <td>11.915047</td>\n",
       "      <td>7.175616</td>\n",
       "      <td>27.341277</td>\n",
       "      <td>19.320810</td>\n",
       "      <td>6.043309</td>\n",
       "      <td>6.118189</td>\n",
       "      <td>2.037807</td>\n",
       "    </tr>\n",
       "    <tr>\n",
       "      <th>4</th>\n",
       "      <td>6.148599</td>\n",
       "      <td>10.142511</td>\n",
       "      <td>4.939416</td>\n",
       "      <td>42.774141</td>\n",
       "      <td>9.089428</td>\n",
       "      <td>9.986786</td>\n",
       "      <td>19.199864</td>\n",
       "      <td>33.044932</td>\n",
       "      <td>12.411054</td>\n",
       "      <td>7.240205</td>\n",
       "      <td>27.041023</td>\n",
       "      <td>19.216101</td>\n",
       "      <td>6.060915</td>\n",
       "      <td>5.663707</td>\n",
       "      <td>1.786875</td>\n",
       "    </tr>\n",
       "  </tbody>\n",
       "</table>\n",
       "</div>"
      ],
      "text/plain": [
       "   final.output.concentrate_ag  final.output.concentrate_pb  \\\n",
       "0                     6.055403                     9.889648   \n",
       "1                     6.029369                     9.968944   \n",
       "2                     6.055926                    10.213995   \n",
       "3                     6.047977                     9.977019   \n",
       "4                     6.148599                    10.142511   \n",
       "\n",
       "   final.output.concentrate_sol  final.output.concentrate_au  \\\n",
       "0                      5.507324                    42.192020   \n",
       "1                      5.257781                    42.701629   \n",
       "2                      5.383759                    42.657501   \n",
       "3                      4.858634                    42.689819   \n",
       "4                      4.939416                    42.774141   \n",
       "\n",
       "   primary_cleaner.output.concentrate_ag  \\\n",
       "0                               8.547551   \n",
       "1                               8.558743   \n",
       "2                               8.603505   \n",
       "3                               7.221879   \n",
       "4                               9.089428   \n",
       "\n",
       "   primary_cleaner.output.concentrate_pb  \\\n",
       "0                              10.389648   \n",
       "1                              10.497069   \n",
       "2                              10.354494   \n",
       "3                               8.496563   \n",
       "4                               9.986786   \n",
       "\n",
       "   primary_cleaner.output.concentrate_sol  \\\n",
       "0                               19.529297   \n",
       "1                               19.369147   \n",
       "2                               19.167579   \n",
       "3                               15.978538   \n",
       "4                               19.199864   \n",
       "\n",
       "   primary_cleaner.output.concentrate_au  rougher.output.concentrate_ag  \\\n",
       "0                              34.174427                      11.500771   \n",
       "1                              34.118526                      11.615865   \n",
       "2                              33.969464                      11.695753   \n",
       "3                              28.260743                      11.915047   \n",
       "4                              33.044932                      12.411054   \n",
       "\n",
       "   rougher.output.concentrate_pb  rougher.output.concentrate_sol  \\\n",
       "0                       7.101074                       28.029297   \n",
       "1                       7.278807                       28.067063   \n",
       "2                       7.216833                       27.454037   \n",
       "3                       7.175616                       27.341277   \n",
       "4                       7.240205                       27.041023   \n",
       "\n",
       "   rougher.output.concentrate_au  rougher.input.feed_ag  \\\n",
       "0                      19.793808               6.100378   \n",
       "1                      20.050975               6.161113   \n",
       "2                      19.737170               6.116455   \n",
       "3                      19.320810               6.043309   \n",
       "4                      19.216101               6.060915   \n",
       "\n",
       "   rougher.input.feed_au  rougher.input.feed_pb  \n",
       "0               6.486150               2.284912  \n",
       "1               6.478583               2.266033  \n",
       "2               6.362222               2.159622  \n",
       "3               6.118189               2.037807  \n",
       "4               5.663707               1.786875  "
      ]
     },
     "metadata": {},
     "output_type": "display_data"
    }
   ],
   "source": [
    "#df with the concentrates\n",
    "conc_analysis = gold_full_df[cols_with_conc]\n",
    "display(conc_analysis.head())"
   ]
  },
  {
   "cell_type": "code",
   "execution_count": 18,
   "metadata": {},
   "outputs": [],
   "source": [
    "#boxplot function \n",
    "sns.set(style=\"whitegrid\", palette=\"pastel\", color_codes=True)\n",
    "\n",
    "def boxplots(metall):\n",
    "    conc_name = [x for x in cols_with_conc if metall in x] #choosing columns with the metall concentration\n",
    "    df = conc_analysis[conc_name] #filtering df for requested metall\n",
    "    df.columns = ['final', 'primary', 'rougher', 'feed'] #renaming columns in order with purification stages\n",
    "    plt.figure(figsize=(15, 5))\n",
    "    plt.title('Concentration of metall ' + metall + ' on purification stages, %')\n",
    "    sns.boxplot(data=df, order=['feed', 'rougher', 'primary', 'final'])\n",
    "    plt.show()\n",
    "    return df"
   ]
  },
  {
   "cell_type": "code",
   "execution_count": 19,
   "metadata": {},
   "outputs": [
    {
     "data": {
      "image/png": "[encoded data removed]",
      "text/plain": [
       "<Figure size 1080x360 with 1 Axes>"
      ]
     },
     "metadata": {},
     "output_type": "display_data"
    },
    {
     "data": {
      "image/png": "[encoded data removed]",
      "text/plain": [
       "<Figure size 1080x360 with 1 Axes>"
      ]
     },
     "metadata": {},
     "output_type": "display_data"
    },
    {
     "data": {
      "image/png": "[encoded data removed]",
      "text/plain": [
       "<Figure size 1080x360 with 1 Axes>"
      ]
     },
     "metadata": {},
     "output_type": "display_data"
    }
   ],
   "source": [
    "#list with metalls and boxplots for each of them\n",
    "for metall in ['ag', 'au', 'pb']:\n",
    "    boxplots(metall)"
   ]
  },
  {
   "cell_type": "markdown",
   "metadata": {},
   "source": [
    "The graphs show that the percentage of silver in the ore after treatment is lower than before treatment. \n",
    "\n",
    "The median gold content in the initial raw material is less than 10%. At the same time, the gold content increases linearly after each stage of ore cleaning, and at the last stage of cleaning its concentration is about 45%.\n",
    "\n",
    "It is worth noting that the concentration of lead also increases, but its share in the final concentrate is the same as the share after the first cleaning."
   ]
  },
  {
   "cell_type": "markdown",
   "metadata": {},
   "source": [
    "### Training and test set raw material pellet size distribution analysis"
   ]
  },
  {
   "cell_type": "markdown",
   "metadata": {},
   "source": [
    "We create distribution graphs and box plots to evaluate the distribution of raw material pellet sizes across the training and test sets."
   ]
  },
  {
   "cell_type": "code",
   "execution_count": 20,
   "metadata": {},
   "outputs": [
    {
     "name": "stderr",
     "output_type": "stream",
     "text": [
      "C:\\Users\\Denis\\anaconda3\\envs\\practicum\\lib\\site-packages\\seaborn\\distributions.py:2557: FutureWarning: `distplot` is a deprecated function and will be removed in a future version. Please adapt your code to use either `displot` (a figure-level function with similar flexibility) or `histplot` (an axes-level function for histograms).\n",
      "  warnings.warn(msg, FutureWarning)\n",
      "C:\\Users\\Denis\\anaconda3\\envs\\practicum\\lib\\site-packages\\seaborn\\distributions.py:2557: FutureWarning: `distplot` is a deprecated function and will be removed in a future version. Please adapt your code to use either `displot` (a figure-level function with similar flexibility) or `histplot` (an axes-level function for histograms).\n",
      "  warnings.warn(msg, FutureWarning)\n"
     ]
    },
    {
     "data": {
      "image/png": "[encoded data removed]",
      "text/plain": [
       "<Figure size 1080x648 with 3 Axes>"
      ]
     },
     "metadata": {},
     "output_type": "display_data"
    }
   ],
   "source": [
    "#vertical boxplots of raw material pellet size in the training and test sets\n",
    "fig, axes = plt.subplots(1, 3, figsize=(15, 9))\n",
    "\n",
    "#boxplot for training set\n",
    "sns.boxplot(data=gold_train, y='rougher.input.feed_size', showfliers=False, ax=axes[0])\n",
    "axes[0].set_ylim(0,100)\n",
    "axes[0].set_title('Boxplot of raw material pellet size')\n",
    "axes[0].set(ylabel='Pellet size', xlabel='Training set')\n",
    "\n",
    "#boxplot for test set\n",
    "sns.boxplot(data=gold_test_full, y='rougher.input.feed_size', showfliers=False, ax=axes[1])\n",
    "axes[1].set_ylim(0,100)\n",
    "axes[1].set_title('Boxplot of raw material pellet size')\n",
    "axes[1].set(ylabel='Pellet size', xlabel='Test set')\n",
    "\n",
    "#distplot for training and test sets\n",
    "sns.distplot(gold_test_full['rougher.input.feed_size'], bins=100, label=\"test_sample\", ax=axes[2])\n",
    "sns.distplot(gold_train['rougher.input.feed_size'], bins=100, label=\"train_sample\", ax=axes[2])\n",
    "axes[2].set(xlabel='Pellet size', ylabel='PDF')\n",
    "axes[2].set_title('Pellet size in the training and test sets')\n",
    "axes[2].set_xlim(0,200)\n",
    "axes[2].legend()\n",
    "plt.tight_layout()\n",
    "plt.show();"
   ]
  },
  {
   "cell_type": "markdown",
   "metadata": {},
   "source": [
    "The test set shows a slight skew to the left, but the distributions can be classified as normal and are generally similar. Next, we calculate the confidence interval of the average size of the raw material pellets to estimate the size of the pellets."
   ]
  },
  {
   "cell_type": "code",
   "execution_count": 21,
   "metadata": {},
   "outputs": [],
   "source": [
    "#confidence interval function\n",
    "def interval(column):\n",
    "    conf_int = st.t.interval(0.99, len(column) - 1, \n",
    "                                    column.mean(), \n",
    "                                    column.sem())\n",
    "    print(\"Average:\", column.mean())\n",
    "    print(\"99% confidence interval:\", conf_int)"
   ]
  },
  {
   "cell_type": "code",
   "execution_count": 22,
   "metadata": {},
   "outputs": [
    {
     "name": "stdout",
     "output_type": "stream",
     "text": [
      "Average: 55.952754028895136\n",
      "99% confidence interval: (55.27677694373798, 56.62873111405229)\n"
     ]
    }
   ],
   "source": [
    "interval(gold_test_full['rougher.input.feed_size'])"
   ]
  },
  {
   "cell_type": "code",
   "execution_count": 23,
   "metadata": {},
   "outputs": [
    {
     "name": "stdout",
     "output_type": "stream",
     "text": [
      "Average: 60.23985599255732\n",
      "99% confidence interval: (59.74161336255205, 60.73809862256258)\n"
     ]
    }
   ],
   "source": [
    "interval(gold_train['rougher.input.feed_size'])"
   ]
  },
  {
   "cell_type": "markdown",
   "metadata": {},
   "source": [
    "Note that the confidence intervals do not overlap despite the proximity of the means. At the same time, the plotted density distribution plots and whisker boxes indicate that the distributions are nearly identical. In this respect, the data presented can be used for further development of the machine learning model."
   ]
  },
  {
   "cell_type": "markdown",
   "metadata": {},
   "source": [
    "### Analysis of the total concentration of all substances at different stages of the process"
   ]
  },
  {
   "cell_type": "code",
   "execution_count": 24,
   "metadata": {},
   "outputs": [],
   "source": [
    "#total concentration calculation\n",
    "def conc_total(table):\n",
    "    table['rougher.input.feed_total'] = (\n",
    "    table['rougher.input.feed_ag'] + table['rougher.input.feed_au'] + table['rougher.input.feed_sol'] \n",
    "        + table['rougher.input.feed_pb']\n",
    ")   \n",
    "    \n",
    "    table['rougher.output.concentrate_total'] = (\n",
    "    table['rougher.output.concentrate_ag'] + table['rougher.output.concentrate_au'] + table['rougher.output.concentrate_sol']\n",
    "        + table['rougher.output.concentrate_pb']\n",
    ") \n",
    "    \n",
    "    table['final.output.concentrate_total'] = (\n",
    "    table['final.output.concentrate_ag'] + table['final.output.concentrate_au'] + table['final.output.concentrate_sol'] \n",
    "        + table['final.output.concentrate_pb']\n",
    ")"
   ]
  },
  {
   "cell_type": "code",
   "execution_count": 25,
   "metadata": {},
   "outputs": [
    {
     "data": {
      "text/html": [
       "<div>\n",
       "<style scoped>\n",
       "    .dataframe tbody tr th:only-of-type {\n",
       "        vertical-align: middle;\n",
       "    }\n",
       "\n",
       "    .dataframe tbody tr th {\n",
       "        vertical-align: top;\n",
       "    }\n",
       "\n",
       "    .dataframe thead th {\n",
       "        text-align: right;\n",
       "    }\n",
       "</style>\n",
       "<table border=\"1\" class=\"dataframe\">\n",
       "  <thead>\n",
       "    <tr style=\"text-align: right;\">\n",
       "      <th></th>\n",
       "      <th>date</th>\n",
       "      <th>final.output.concentrate_ag</th>\n",
       "      <th>final.output.concentrate_pb</th>\n",
       "      <th>final.output.concentrate_sol</th>\n",
       "      <th>final.output.concentrate_au</th>\n",
       "      <th>final.output.recovery</th>\n",
       "      <th>final.output.tail_ag</th>\n",
       "      <th>final.output.tail_pb</th>\n",
       "      <th>final.output.tail_sol</th>\n",
       "      <th>final.output.tail_au</th>\n",
       "      <th>...</th>\n",
       "      <th>secondary_cleaner.state.floatbank4_b_level</th>\n",
       "      <th>secondary_cleaner.state.floatbank5_a_air</th>\n",
       "      <th>secondary_cleaner.state.floatbank5_a_level</th>\n",
       "      <th>secondary_cleaner.state.floatbank5_b_air</th>\n",
       "      <th>secondary_cleaner.state.floatbank5_b_level</th>\n",
       "      <th>secondary_cleaner.state.floatbank6_a_air</th>\n",
       "      <th>secondary_cleaner.state.floatbank6_a_level</th>\n",
       "      <th>rougher.input.feed_total</th>\n",
       "      <th>rougher.output.concentrate_total</th>\n",
       "      <th>final.output.concentrate_total</th>\n",
       "    </tr>\n",
       "  </thead>\n",
       "  <tbody>\n",
       "    <tr>\n",
       "      <th>0</th>\n",
       "      <td>2016-01-15 00:00:00</td>\n",
       "      <td>6.055403</td>\n",
       "      <td>9.889648</td>\n",
       "      <td>5.507324</td>\n",
       "      <td>42.192020</td>\n",
       "      <td>70.541216</td>\n",
       "      <td>10.411962</td>\n",
       "      <td>0.895447</td>\n",
       "      <td>16.904297</td>\n",
       "      <td>2.143149</td>\n",
       "      <td>...</td>\n",
       "      <td>-504.715942</td>\n",
       "      <td>9.925633</td>\n",
       "      <td>-498.310211</td>\n",
       "      <td>8.079666</td>\n",
       "      <td>-500.470978</td>\n",
       "      <td>14.151341</td>\n",
       "      <td>-605.841980</td>\n",
       "      <td>51.680034</td>\n",
       "      <td>66.424950</td>\n",
       "      <td>63.644396</td>\n",
       "    </tr>\n",
       "    <tr>\n",
       "      <th>1</th>\n",
       "      <td>2016-01-15 01:00:00</td>\n",
       "      <td>6.029369</td>\n",
       "      <td>9.968944</td>\n",
       "      <td>5.257781</td>\n",
       "      <td>42.701629</td>\n",
       "      <td>69.266198</td>\n",
       "      <td>10.462676</td>\n",
       "      <td>0.927452</td>\n",
       "      <td>16.634514</td>\n",
       "      <td>2.224930</td>\n",
       "      <td>...</td>\n",
       "      <td>-501.331529</td>\n",
       "      <td>10.039245</td>\n",
       "      <td>-500.169983</td>\n",
       "      <td>7.984757</td>\n",
       "      <td>-500.582168</td>\n",
       "      <td>13.998353</td>\n",
       "      <td>-599.787184</td>\n",
       "      <td>50.659114</td>\n",
       "      <td>67.012710</td>\n",
       "      <td>63.957723</td>\n",
       "    </tr>\n",
       "    <tr>\n",
       "      <th>2</th>\n",
       "      <td>2016-01-15 02:00:00</td>\n",
       "      <td>6.055926</td>\n",
       "      <td>10.213995</td>\n",
       "      <td>5.383759</td>\n",
       "      <td>42.657501</td>\n",
       "      <td>68.116445</td>\n",
       "      <td>10.507046</td>\n",
       "      <td>0.953716</td>\n",
       "      <td>16.208849</td>\n",
       "      <td>2.257889</td>\n",
       "      <td>...</td>\n",
       "      <td>-501.133383</td>\n",
       "      <td>10.070913</td>\n",
       "      <td>-500.129135</td>\n",
       "      <td>8.013877</td>\n",
       "      <td>-500.517572</td>\n",
       "      <td>14.028663</td>\n",
       "      <td>-601.427363</td>\n",
       "      <td>50.609929</td>\n",
       "      <td>66.103793</td>\n",
       "      <td>64.311180</td>\n",
       "    </tr>\n",
       "    <tr>\n",
       "      <th>3</th>\n",
       "      <td>2016-01-15 03:00:00</td>\n",
       "      <td>6.047977</td>\n",
       "      <td>9.977019</td>\n",
       "      <td>4.858634</td>\n",
       "      <td>42.689819</td>\n",
       "      <td>68.347543</td>\n",
       "      <td>10.422762</td>\n",
       "      <td>0.883763</td>\n",
       "      <td>16.532835</td>\n",
       "      <td>2.146849</td>\n",
       "      <td>...</td>\n",
       "      <td>-501.193686</td>\n",
       "      <td>9.970366</td>\n",
       "      <td>-499.201640</td>\n",
       "      <td>7.977324</td>\n",
       "      <td>-500.255908</td>\n",
       "      <td>14.005551</td>\n",
       "      <td>-599.996129</td>\n",
       "      <td>51.061546</td>\n",
       "      <td>65.752751</td>\n",
       "      <td>63.573449</td>\n",
       "    </tr>\n",
       "    <tr>\n",
       "      <th>4</th>\n",
       "      <td>2016-01-15 04:00:00</td>\n",
       "      <td>6.148599</td>\n",
       "      <td>10.142511</td>\n",
       "      <td>4.939416</td>\n",
       "      <td>42.774141</td>\n",
       "      <td>66.927016</td>\n",
       "      <td>10.360302</td>\n",
       "      <td>0.792826</td>\n",
       "      <td>16.525686</td>\n",
       "      <td>2.055292</td>\n",
       "      <td>...</td>\n",
       "      <td>-501.053894</td>\n",
       "      <td>9.925709</td>\n",
       "      <td>-501.686727</td>\n",
       "      <td>7.894242</td>\n",
       "      <td>-500.356035</td>\n",
       "      <td>13.996647</td>\n",
       "      <td>-601.496691</td>\n",
       "      <td>47.859163</td>\n",
       "      <td>65.908382</td>\n",
       "      <td>64.004667</td>\n",
       "    </tr>\n",
       "  </tbody>\n",
       "</table>\n",
       "<p>5 rows × 90 columns</p>\n",
       "</div>"
      ],
      "text/plain": [
       "                 date  final.output.concentrate_ag  \\\n",
       "0 2016-01-15 00:00:00                     6.055403   \n",
       "1 2016-01-15 01:00:00                     6.029369   \n",
       "2 2016-01-15 02:00:00                     6.055926   \n",
       "3 2016-01-15 03:00:00                     6.047977   \n",
       "4 2016-01-15 04:00:00                     6.148599   \n",
       "\n",
       "   final.output.concentrate_pb  final.output.concentrate_sol  \\\n",
       "0                     9.889648                      5.507324   \n",
       "1                     9.968944                      5.257781   \n",
       "2                    10.213995                      5.383759   \n",
       "3                     9.977019                      4.858634   \n",
       "4                    10.142511                      4.939416   \n",
       "\n",
       "   final.output.concentrate_au  final.output.recovery  final.output.tail_ag  \\\n",
       "0                    42.192020              70.541216             10.411962   \n",
       "1                    42.701629              69.266198             10.462676   \n",
       "2                    42.657501              68.116445             10.507046   \n",
       "3                    42.689819              68.347543             10.422762   \n",
       "4                    42.774141              66.927016             10.360302   \n",
       "\n",
       "   final.output.tail_pb  final.output.tail_sol  final.output.tail_au  ...  \\\n",
       "0              0.895447              16.904297              2.143149  ...   \n",
       "1              0.927452              16.634514              2.224930  ...   \n",
       "2              0.953716              16.208849              2.257889  ...   \n",
       "3              0.883763              16.532835              2.146849  ...   \n",
       "4              0.792826              16.525686              2.055292  ...   \n",
       "\n",
       "   secondary_cleaner.state.floatbank4_b_level  \\\n",
       "0                                 -504.715942   \n",
       "1                                 -501.331529   \n",
       "2                                 -501.133383   \n",
       "3                                 -501.193686   \n",
       "4                                 -501.053894   \n",
       "\n",
       "   secondary_cleaner.state.floatbank5_a_air  \\\n",
       "0                                  9.925633   \n",
       "1                                 10.039245   \n",
       "2                                 10.070913   \n",
       "3                                  9.970366   \n",
       "4                                  9.925709   \n",
       "\n",
       "   secondary_cleaner.state.floatbank5_a_level  \\\n",
       "0                                 -498.310211   \n",
       "1                                 -500.169983   \n",
       "2                                 -500.129135   \n",
       "3                                 -499.201640   \n",
       "4                                 -501.686727   \n",
       "\n",
       "   secondary_cleaner.state.floatbank5_b_air  \\\n",
       "0                                  8.079666   \n",
       "1                                  7.984757   \n",
       "2                                  8.013877   \n",
       "3                                  7.977324   \n",
       "4                                  7.894242   \n",
       "\n",
       "   secondary_cleaner.state.floatbank5_b_level  \\\n",
       "0                                 -500.470978   \n",
       "1                                 -500.582168   \n",
       "2                                 -500.517572   \n",
       "3                                 -500.255908   \n",
       "4                                 -500.356035   \n",
       "\n",
       "   secondary_cleaner.state.floatbank6_a_air  \\\n",
       "0                                 14.151341   \n",
       "1                                 13.998353   \n",
       "2                                 14.028663   \n",
       "3                                 14.005551   \n",
       "4                                 13.996647   \n",
       "\n",
       "   secondary_cleaner.state.floatbank6_a_level  rougher.input.feed_total  \\\n",
       "0                                 -605.841980                 51.680034   \n",
       "1                                 -599.787184                 50.659114   \n",
       "2                                 -601.427363                 50.609929   \n",
       "3                                 -599.996129                 51.061546   \n",
       "4                                 -601.496691                 47.859163   \n",
       "\n",
       "   rougher.output.concentrate_total  final.output.concentrate_total  \n",
       "0                         66.424950                       63.644396  \n",
       "1                         67.012710                       63.957723  \n",
       "2                         66.103793                       64.311180  \n",
       "3                         65.752751                       63.573449  \n",
       "4                         65.908382                       64.004667  \n",
       "\n",
       "[5 rows x 90 columns]"
      ]
     },
     "execution_count": 25,
     "metadata": {},
     "output_type": "execute_result"
    }
   ],
   "source": [
    "conc_total(gold_full_df)\n",
    "gold_full_df.head()"
   ]
  },
  {
   "cell_type": "code",
   "execution_count": 26,
   "metadata": {},
   "outputs": [],
   "source": [
    "#boxplot for total concentration\n",
    "def total_conc_box(table):\n",
    "    fig, axes = plt.subplots(1, 3, figsize=(18, 12))\n",
    "    \n",
    "    sns.boxplot(y = 'rougher.input.feed_total', data=table, ax=axes[0])\n",
    "    axes[0].set_ylim(0,100)\n",
    "    axes[0].set_title('Initial ore')\n",
    "    axes[0].set_ylabel('Concentration of all substances')\n",
    "    \n",
    "    sns.boxplot(y = 'rougher.output.concentrate_total', data=table, ax=axes[1])\n",
    "    axes[1].set_ylim(0,100)\n",
    "    axes[1].set_title('Rough concentrate')\n",
    "    axes[1].set_ylabel('Concentration of all substances')\n",
    "    \n",
    "    sns.boxplot(y = 'final.output.concentrate_total', data=table, ax=axes[2])\n",
    "    axes[2].set_ylim(0,100)\n",
    "    axes[2].set_title('Final concentrate')\n",
    "    axes[2].set_ylabel('Concentration of all substances')\n",
    "    \n",
    "    plt.show()"
   ]
  },
  {
   "cell_type": "code",
   "execution_count": 27,
   "metadata": {},
   "outputs": [
    {
     "data": {
      "image/png": "[encoded data removed]",
      "text/plain": [
       "<Figure size 1296x864 with 3 Axes>"
      ]
     },
     "metadata": {},
     "output_type": "display_data"
    }
   ],
   "source": [
    "total_conc_box(gold_full_df)"
   ]
  },
  {
   "cell_type": "markdown",
   "metadata": {},
   "source": [
    "The total concentration of substances is characterized by a large number of outliers at all stages of production. At the same time, outliers are concentrated below the lower whisker. Next, we'll remove the displayed outliers. Based on the fact that all dates are unique, the outliers are removed from the training and test samples based on dates."
   ]
  },
  {
   "cell_type": "code",
   "execution_count": 28,
   "metadata": {},
   "outputs": [],
   "source": [
    "#removing outliers with IQR\n",
    "lower_rougher_input_feed_total = (gold_full_df['rougher.input.feed_total'].quantile(0.25) - \n",
    "                          1.5* (gold_full_df['rougher.input.feed_total'].quantile(0.75) \n",
    "                                - gold_full_df['rougher.input.feed_total'].quantile(0.25)))\n",
    "lower_rougher_output_concentrate_total = (gold_full_df['rougher.output.concentrate_total'].quantile(0.25) - \n",
    "                          1.5* (gold_full_df['rougher.output.concentrate_total'].quantile(0.75) \n",
    "                                - gold_full_df['rougher.output.concentrate_total'].quantile(0.25)))\n",
    "\n",
    "lower_final_output_concentrate_total = (gold_full_df['final.output.concentrate_total'].quantile(0.25) - \n",
    "                          1.5* (gold_full_df['final.output.concentrate_total'].quantile(0.75) \n",
    "                                - gold_full_df['final.output.concentrate_total'].quantile(0.25)))\n",
    "\n",
    "gold_full_cleaned = (\n",
    "    gold_full_df[(gold_full_df['rougher.input.feed_total'] > \n",
    "                  lower_rougher_input_feed_total) &\n",
    "           (gold_full_df['rougher.output.concentrate_total'] > \n",
    "            lower_rougher_output_concentrate_total) &\n",
    "           (gold_full_df['final.output.concentrate_total'] > \n",
    "            lower_final_output_concentrate_total)]\n",
    ")"
   ]
  },
  {
   "cell_type": "code",
   "execution_count": 29,
   "metadata": {},
   "outputs": [
    {
     "name": "stdout",
     "output_type": "stream",
     "text": [
      "(12447, 88)\n",
      "(4884, 56)\n"
     ]
    }
   ],
   "source": [
    "#list of dates with cleaned data\n",
    "good_dates = list(gold_full_cleaned['date'])\n",
    "#creating columns with the cleaned indexes\n",
    "gold_train.loc[gold_train['date'].isin(good_dates), 'index'] = 1\n",
    "gold_train.loc[~gold_train['date'].isin(good_dates), 'index'] = 0\n",
    "gold_test_full.loc[gold_test_full['date'].isin(good_dates), 'index'] = 1\n",
    "gold_test_full.loc[~gold_test_full['date'].isin(good_dates), 'index'] = 0\n",
    "\n",
    "#cleaning train and test sets\n",
    "gold_train_cleaned = gold_train[gold_train['index'] == 1]\n",
    "gold_test_cleaned = gold_test_full[gold_test_full['index'] == 1]\n",
    "\n",
    "print(gold_train_cleaned.shape)\n",
    "print(gold_test_cleaned.shape)"
   ]
  },
  {
   "cell_type": "markdown",
   "metadata": {},
   "source": [
    "### Conclusions"
   ]
  },
  {
   "cell_type": "markdown",
   "metadata": {},
   "source": [
    "* **The concentration of metals behaves slightly differently at each stage of production. For example, the percentage of silver in the ore after processing is lower than before processing. The median gold content in the initial raw material is less than 10%. At the same time, the gold content increases linearly after each stage of ore cleaning, and at the last stage of cleaning its concentration is about 45%. It is worth noting that the concentration of lead also increases, but its proportion in the final concentrate is the same as that after the first stage of purification;**\n",
    "* **Despite the fact that the confidence intervals of the mean values of the pellet sizes do not overlap, the plotted density distribution graphs and whisker boxes show that the distributions are almost identical to each other. In this respect, the data presented can be used for further development of machine learning;**\n",
    "* **The total concentration of substances is characterized by a large number of emissions at all stages of production. At the same time, most of the emissions are concentrated below the bottom whisker. Such values were removed from the training and test samples.**"
   ]
  },
  {
   "cell_type": "markdown",
   "metadata": {},
   "source": [
    "## Building models"
   ]
  },
  {
   "cell_type": "markdown",
   "metadata": {},
   "source": [
    "### Function for sMAPE metric"
   ]
  },
  {
   "cell_type": "code",
   "execution_count": 30,
   "metadata": {},
   "outputs": [],
   "source": [
    "#calculating model quality function\n",
    "def smape(target, predict):\n",
    "    target = pd.Series(target)\n",
    "    predict = pd.Series(predict)\n",
    "    return ((abs(target - predict) / ((abs(target) + abs(predict)) / 2)).sum(skipna=True) / target.shape[0] * 100)\n",
    "\n",
    "smape_scorer = make_scorer(smape, greater_is_better=False)"
   ]
  },
  {
   "cell_type": "markdown",
   "metadata": {},
   "source": [
    "### Features and target values extraction"
   ]
  },
  {
   "cell_type": "markdown",
   "metadata": {},
   "source": [
    "In order to predict the value of the gold concentration, we remove information about the time and date of processing because the model is prone to overfitting. We will also remove the columns from the training sample that are not present in the test sample. "
   ]
  },
  {
   "cell_type": "code",
   "execution_count": 31,
   "metadata": {},
   "outputs": [],
   "source": [
    "#Removing missing columns from the training sample\n",
    "features_train_all = gold_train_cleaned.drop(['date', 'index'], axis=1) \n",
    "\n",
    "features_train = features_train_all.drop(missing, axis=1)\n",
    "target_train_rougher = gold_train_cleaned['rougher.output.recovery']\n",
    "target_train_final = gold_train_cleaned['final.output.recovery']\n",
    "\n",
    "features_test = gold_test_cleaned.drop(['date', 'rougher.output.recovery', 'final.output.recovery', 'index'], axis=1)\n",
    "target_test_rougher = gold_test_cleaned['rougher.output.recovery']\n",
    "target_test_final = gold_test_cleaned['final.output.recovery']"
   ]
  },
  {
   "cell_type": "markdown",
   "metadata": {},
   "source": [
    "### Random forest model"
   ]
  },
  {
   "cell_type": "markdown",
   "metadata": {},
   "source": [
    "#### Rough concentrate"
   ]
  },
  {
   "cell_type": "code",
   "execution_count": 32,
   "metadata": {
    "scrolled": true
   },
   "outputs": [
    {
     "name": "stderr",
     "output_type": "stream",
     "text": [
      "\u001b[32m[I 2023-02-10 14:34:03,097]\u001b[0m A new study created in memory with name: no-name-a3975053-5aae-47ef-b4d1-22c435a401be\u001b[0m\n",
      "\u001b[32m[I 2023-02-10 14:34:10,059]\u001b[0m Trial 0 finished with value: -2.4249638644566196 and parameters: {'max_depth': 5, 'max_features': 'auto', 'n_estimators': 87}. Best is trial 0 with value: -2.4249638644566196.\u001b[0m\n",
      "\u001b[32m[I 2023-02-10 14:34:12,066]\u001b[0m Trial 1 finished with value: -2.438192401574369 and parameters: {'max_depth': 4, 'max_features': 'sqrt', 'n_estimators': 292}. Best is trial 0 with value: -2.4249638644566196.\u001b[0m\n",
      "\u001b[32m[I 2023-02-10 14:34:14,774]\u001b[0m Trial 2 finished with value: -2.5254789099037827 and parameters: {'max_depth': 3, 'max_features': 'auto', 'n_estimators': 97}. Best is trial 0 with value: -2.4249638644566196.\u001b[0m\n",
      "\u001b[32m[I 2023-02-10 14:34:15,952]\u001b[0m Trial 3 finished with value: -2.430512411779814 and parameters: {'max_depth': 4, 'max_features': 'sqrt', 'n_estimators': 138}. Best is trial 0 with value: -2.4249638644566196.\u001b[0m\n",
      "\u001b[32m[I 2023-02-10 14:34:17,622]\u001b[0m Trial 4 finished with value: -2.347087574202492 and parameters: {'max_depth': 7, 'max_features': 'log2', 'n_estimators': 199}. Best is trial 4 with value: -2.347087574202492.\u001b[0m\n",
      "\u001b[32m[I 2023-02-10 14:34:18,382]\u001b[0m Trial 5 finished with value: -2.3092453932060306 and parameters: {'max_depth': 9, 'max_features': 'log2', 'n_estimators': 47}. Best is trial 5 with value: -2.3092453932060306.\u001b[0m\n",
      "\u001b[32m[I 2023-02-10 14:34:21,120]\u001b[0m Trial 6 finished with value: -2.3634139985174003 and parameters: {'max_depth': 7, 'max_features': 'log2', 'n_estimators': 388}. Best is trial 5 with value: -2.3092453932060306.\u001b[0m\n",
      "\u001b[32m[I 2023-02-10 14:34:22,992]\u001b[0m Trial 7 finished with value: -2.3651085071460343 and parameters: {'max_depth': 9, 'max_features': 'log2', 'n_estimators': 193}. Best is trial 5 with value: -2.3092453932060306.\u001b[0m\n",
      "\u001b[32m[I 2023-02-10 14:34:23,974]\u001b[0m Trial 8 finished with value: -2.5021472625248213 and parameters: {'max_depth': 3, 'max_features': 'log2', 'n_estimators': 126}. Best is trial 5 with value: -2.3092453932060306.\u001b[0m\n",
      "\u001b[32m[I 2023-02-10 14:34:25,145]\u001b[0m Trial 9 finished with value: -2.331144276511958 and parameters: {'max_depth': 8, 'max_features': 'log2', 'n_estimators': 98}. Best is trial 5 with value: -2.3092453932060306.\u001b[0m\n",
      "\u001b[32m[I 2023-02-10 14:34:27,575]\u001b[0m Trial 10 finished with value: -2.2354586831309313 and parameters: {'max_depth': 10, 'max_features': 'auto', 'n_estimators': 32}. Best is trial 10 with value: -2.2354586831309313.\u001b[0m\n",
      "\u001b[32m[I 2023-02-10 14:34:30,671]\u001b[0m Trial 11 finished with value: -2.2308591658640906 and parameters: {'max_depth': 10, 'max_features': 'auto', 'n_estimators': 44}. Best is trial 11 with value: -2.2308591658640906.\u001b[0m\n",
      "\u001b[32m[I 2023-02-10 14:34:33,705]\u001b[0m Trial 12 finished with value: -2.2267915064023276 and parameters: {'max_depth': 10, 'max_features': 'auto', 'n_estimators': 36}. Best is trial 12 with value: -2.2267915064023276.\u001b[0m\n",
      "\u001b[32m[I 2023-02-10 14:34:51,487]\u001b[0m Trial 13 finished with value: -2.275096563498932 and parameters: {'max_depth': 10, 'max_features': 'auto', 'n_estimators': 288}. Best is trial 12 with value: -2.2267915064023276.\u001b[0m\n",
      "\u001b[32m[I 2023-02-10 14:34:54,134]\u001b[0m Trial 14 finished with value: -2.244174271414906 and parameters: {'max_depth': 9, 'max_features': 'auto', 'n_estimators': 36}. Best is trial 12 with value: -2.2267915064023276.\u001b[0m\n",
      "\u001b[32m[I 2023-02-10 14:35:09,445]\u001b[0m Trial 15 finished with value: -2.2788908178022367 and parameters: {'max_depth': 10, 'max_features': 'auto', 'n_estimators': 249}. Best is trial 12 with value: -2.2267915064023276.\u001b[0m\n",
      "\u001b[32m[I 2023-02-10 14:35:16,106]\u001b[0m Trial 16 finished with value: -2.4123151567543144 and parameters: {'max_depth': 6, 'max_features': 'auto', 'n_estimators': 157}. Best is trial 12 with value: -2.2267915064023276.\u001b[0m\n",
      "\u001b[32m[I 2023-02-10 14:35:20,401]\u001b[0m Trial 17 finished with value: -2.3206776842198944 and parameters: {'max_depth': 8, 'max_features': 'auto', 'n_estimators': 78}. Best is trial 12 with value: -2.2267915064023276.\u001b[0m\n",
      "\u001b[32m[I 2023-02-10 14:35:24,290]\u001b[0m Trial 18 finished with value: -2.345623846585663 and parameters: {'max_depth': 8, 'max_features': 'sqrt', 'n_estimators': 378}. Best is trial 12 with value: -2.2267915064023276.\u001b[0m\n",
      "\u001b[32m[I 2023-02-10 14:35:35,098]\u001b[0m Trial 19 finished with value: -2.2828446488186858 and parameters: {'max_depth': 10, 'max_features': 'auto', 'n_estimators': 173}. Best is trial 12 with value: -2.2267915064023276.\u001b[0m\n",
      "\u001b[32m[I 2023-02-10 14:35:44,880]\u001b[0m Trial 20 finished with value: -2.42167632429069 and parameters: {'max_depth': 6, 'max_features': 'auto', 'n_estimators': 235}. Best is trial 12 with value: -2.2267915064023276.\u001b[0m\n",
      "\u001b[32m[I 2023-02-10 14:35:47,657]\u001b[0m Trial 21 finished with value: -2.23129960338756 and parameters: {'max_depth': 10, 'max_features': 'auto', 'n_estimators': 35}. Best is trial 12 with value: -2.2267915064023276.\u001b[0m\n",
      "\u001b[32m[I 2023-02-10 14:35:51,300]\u001b[0m Trial 22 finished with value: -2.249275289352084 and parameters: {'max_depth': 9, 'max_features': 'auto', 'n_estimators': 55}. Best is trial 12 with value: -2.2267915064023276.\u001b[0m\n",
      "\u001b[32m[I 2023-02-10 14:35:56,761]\u001b[0m Trial 23 finished with value: -2.2523257490196706 and parameters: {'max_depth': 10, 'max_features': 'auto', 'n_estimators': 76}. Best is trial 12 with value: -2.2267915064023276.\u001b[0m\n",
      "\u001b[32m[I 2023-02-10 14:36:04,582]\u001b[0m Trial 24 finished with value: -2.2977549916613405 and parameters: {'max_depth': 9, 'max_features': 'auto', 'n_estimators': 132}. Best is trial 12 with value: -2.2267915064023276.\u001b[0m\n",
      "\u001b[32m[I 2023-02-10 14:36:05,542]\u001b[0m Trial 25 finished with value: -2.3622999418328545 and parameters: {'max_depth': 8, 'max_features': 'sqrt', 'n_estimators': 63}. Best is trial 12 with value: -2.2267915064023276.\u001b[0m\n",
      "\u001b[32m[I 2023-02-10 14:36:12,427]\u001b[0m Trial 26 finished with value: -2.2485708692620743 and parameters: {'max_depth': 10, 'max_features': 'auto', 'n_estimators': 106}. Best is trial 12 with value: -2.2267915064023276.\u001b[0m\n",
      "\u001b[32m[I 2023-02-10 14:36:16,192]\u001b[0m Trial 27 finished with value: -2.2628776891879485 and parameters: {'max_depth': 9, 'max_features': 'auto', 'n_estimators': 62}. Best is trial 12 with value: -2.2267915064023276.\u001b[0m\n",
      "\u001b[32m[I 2023-02-10 14:36:18,381]\u001b[0m Trial 28 finished with value: -2.2376753093171247 and parameters: {'max_depth': 10, 'max_features': 'auto', 'n_estimators': 30}. Best is trial 12 with value: -2.2267915064023276.\u001b[0m\n",
      "\u001b[32m[I 2023-02-10 14:36:23,922]\u001b[0m Trial 29 finished with value: -2.3495347352909155 and parameters: {'max_depth': 7, 'max_features': 'auto', 'n_estimators': 108}. Best is trial 12 with value: -2.2267915064023276.\u001b[0m\n"
     ]
    },
    {
     "name": "stdout",
     "output_type": "stream",
     "text": [
      "CPU times: total: 30.8 s\n",
      "Wall time: 2min 22s\n"
     ]
    },
    {
     "data": {
      "text/plain": [
       "RandomForestRegressor(max_depth=10, n_estimators=36, n_jobs=-1, random_state=42)"
      ]
     },
     "execution_count": 32,
     "metadata": {},
     "output_type": "execute_result"
    }
   ],
   "source": [
    "%%time\n",
    "#hyperparameter optimization with optuna and smape scorer\n",
    "def rf_rougher(trial):\n",
    "    max_depth = trial.suggest_int('max_depth', 3, 10)\n",
    "    max_features = trial.suggest_categorical('max_features', ['auto', 'sqrt','log2'])\n",
    "    n_estimators =  trial.suggest_int('n_estimators', 30, 400)\n",
    "    \n",
    "    regr = RandomForestRegressor(max_depth = max_depth, max_features = max_features, \n",
    "                                n_estimators = n_estimators, n_jobs=-1, random_state=42)\n",
    "    \n",
    "    score = cross_val_score(regr, features_train, target_train_rougher, cv=3, scoring=smape_scorer)\n",
    "    smapes = score.mean()\n",
    "\n",
    "    return smapes\n",
    "#launching optuna study\n",
    "sampler = TPESampler(seed=42) #fixed optuna seed\n",
    "study_rf_rougher = optuna.create_study(direction='maximize', sampler=sampler) #maximizing score due to negative sign in the formula\n",
    "study_rf_rougher.optimize(rf_rougher, n_trials=30)\n",
    "\n",
    "#best model\n",
    "optimised_rf_rougher = RandomForestRegressor(max_depth=study_rf_rougher.best_params['max_depth'], max_features=study_rf_rougher.best_params['max_features'],\n",
    "                                     n_estimators = study_rf_rougher.best_params['n_estimators'], random_state=42, n_jobs=-1)\n",
    "#fitting\n",
    "optimised_rf_rougher.fit(features_train, target_train_rougher)"
   ]
  },
  {
   "cell_type": "code",
   "execution_count": 33,
   "metadata": {},
   "outputs": [
    {
     "name": "stdout",
     "output_type": "stream",
     "text": [
      "Model sMAPE for rough concentrate: -2.2267915064023276\n",
      "Best hyperparameters: {'max_depth': 10, 'max_features': 'auto', 'n_estimators': 36}\n"
     ]
    }
   ],
   "source": [
    "print(f'Model sMAPE for rough concentrate: {study_rf_rougher.best_value}')\n",
    "print(f'Best hyperparameters: {study_rf_rougher.best_params}')"
   ]
  },
  {
   "cell_type": "markdown",
   "metadata": {},
   "source": [
    "#### Final concentrate"
   ]
  },
  {
   "cell_type": "code",
   "execution_count": 34,
   "metadata": {
    "scrolled": true
   },
   "outputs": [
    {
     "name": "stderr",
     "output_type": "stream",
     "text": [
      "\u001b[32m[I 2023-02-10 14:36:25,494]\u001b[0m A new study created in memory with name: no-name-7d4f79ad-fbea-4942-a00b-3e2b111e5ee0\u001b[0m\n",
      "\u001b[32m[I 2023-02-10 14:36:29,044]\u001b[0m Trial 0 finished with value: -2.65468919103613 and parameters: {'max_depth': 5, 'max_features': 'auto', 'n_estimators': 87}. Best is trial 0 with value: -2.65468919103613.\u001b[0m\n",
      "\u001b[32m[I 2023-02-10 14:36:31,027]\u001b[0m Trial 1 finished with value: -2.527263033382782 and parameters: {'max_depth': 4, 'max_features': 'sqrt', 'n_estimators': 292}. Best is trial 1 with value: -2.527263033382782.\u001b[0m\n",
      "\u001b[32m[I 2023-02-10 14:36:33,654]\u001b[0m Trial 2 finished with value: -2.500572763311925 and parameters: {'max_depth': 3, 'max_features': 'auto', 'n_estimators': 97}. Best is trial 2 with value: -2.500572763311925.\u001b[0m\n",
      "\u001b[32m[I 2023-02-10 14:36:34,922]\u001b[0m Trial 3 finished with value: -2.521871747950382 and parameters: {'max_depth': 4, 'max_features': 'sqrt', 'n_estimators': 138}. Best is trial 2 with value: -2.500572763311925.\u001b[0m\n",
      "\u001b[32m[I 2023-02-10 14:36:36,507]\u001b[0m Trial 4 finished with value: -2.7407003753951518 and parameters: {'max_depth': 7, 'max_features': 'log2', 'n_estimators': 199}. Best is trial 2 with value: -2.500572763311925.\u001b[0m\n",
      "\u001b[32m[I 2023-02-10 14:36:37,289]\u001b[0m Trial 5 finished with value: -2.7847736268046326 and parameters: {'max_depth': 9, 'max_features': 'log2', 'n_estimators': 47}. Best is trial 2 with value: -2.500572763311925.\u001b[0m\n",
      "\u001b[32m[I 2023-02-10 14:36:39,989]\u001b[0m Trial 6 finished with value: -2.723285557103574 and parameters: {'max_depth': 7, 'max_features': 'log2', 'n_estimators': 388}. Best is trial 2 with value: -2.500572763311925.\u001b[0m\n",
      "\u001b[32m[I 2023-02-10 14:36:41,824]\u001b[0m Trial 7 finished with value: -2.890939877274704 and parameters: {'max_depth': 9, 'max_features': 'log2', 'n_estimators': 193}. Best is trial 2 with value: -2.500572763311925.\u001b[0m\n",
      "\u001b[32m[I 2023-02-10 14:36:42,757]\u001b[0m Trial 8 finished with value: -2.3867040132589383 and parameters: {'max_depth': 3, 'max_features': 'log2', 'n_estimators': 126}. Best is trial 8 with value: -2.3867040132589383.\u001b[0m\n",
      "\u001b[32m[I 2023-02-10 14:36:43,781]\u001b[0m Trial 9 finished with value: -2.7633312438010105 and parameters: {'max_depth': 8, 'max_features': 'log2', 'n_estimators': 98}. Best is trial 8 with value: -2.3867040132589383.\u001b[0m\n",
      "\u001b[32m[I 2023-02-10 14:36:54,309]\u001b[0m Trial 10 finished with value: -2.6678729113092245 and parameters: {'max_depth': 5, 'max_features': 'auto', 'n_estimators': 288}. Best is trial 8 with value: -2.3867040132589383.\u001b[0m\n",
      "\u001b[32m[I 2023-02-10 14:36:58,101]\u001b[0m Trial 11 finished with value: -2.4986390452886833 and parameters: {'max_depth': 3, 'max_features': 'auto', 'n_estimators': 141}. Best is trial 8 with value: -2.3867040132589383.\u001b[0m\n",
      "\u001b[32m[I 2023-02-10 14:37:01,958]\u001b[0m Trial 12 finished with value: -2.4986320926777763 and parameters: {'max_depth': 3, 'max_features': 'auto', 'n_estimators': 154}. Best is trial 8 with value: -2.3867040132589383.\u001b[0m\n",
      "\u001b[32m[I 2023-02-10 14:37:11,311]\u001b[0m Trial 13 finished with value: -2.6629028263130956 and parameters: {'max_depth': 5, 'max_features': 'auto', 'n_estimators': 258}. Best is trial 8 with value: -2.3867040132589383.\u001b[0m\n",
      "\u001b[32m[I 2023-02-10 14:37:12,499]\u001b[0m Trial 14 finished with value: -2.423053134242364 and parameters: {'max_depth': 3, 'max_features': 'sqrt', 'n_estimators': 157}. Best is trial 8 with value: -2.3867040132589383.\u001b[0m\n",
      "\u001b[32m[I 2023-02-10 14:37:13,186]\u001b[0m Trial 15 finished with value: -2.788409515317701 and parameters: {'max_depth': 6, 'max_features': 'sqrt', 'n_estimators': 36}. Best is trial 8 with value: -2.3867040132589383.\u001b[0m\n",
      "\u001b[32m[I 2023-02-10 14:37:14,891]\u001b[0m Trial 16 finished with value: -2.541528471174763 and parameters: {'max_depth': 4, 'max_features': 'sqrt', 'n_estimators': 242}. Best is trial 8 with value: -2.3867040132589383.\u001b[0m\n",
      "\u001b[32m[I 2023-02-10 14:37:16,961]\u001b[0m Trial 17 finished with value: -3.0023684854794186 and parameters: {'max_depth': 10, 'max_features': 'sqrt', 'n_estimators': 170}. Best is trial 8 with value: -2.3867040132589383.\u001b[0m\n",
      "\u001b[32m[I 2023-02-10 14:37:19,713]\u001b[0m Trial 18 finished with value: -2.675450506585827 and parameters: {'max_depth': 6, 'max_features': 'sqrt', 'n_estimators': 333}. Best is trial 8 with value: -2.3867040132589383.\u001b[0m\n",
      "\u001b[32m[I 2023-02-10 14:37:21,014]\u001b[0m Trial 19 finished with value: -2.3972672123476797 and parameters: {'max_depth': 3, 'max_features': 'log2', 'n_estimators': 221}. Best is trial 8 with value: -2.3867040132589383.\u001b[0m\n",
      "\u001b[32m[I 2023-02-10 14:37:22,603]\u001b[0m Trial 20 finished with value: -2.5225638092532745 and parameters: {'max_depth': 4, 'max_features': 'log2', 'n_estimators': 246}. Best is trial 8 with value: -2.3867040132589383.\u001b[0m\n",
      "\u001b[32m[I 2023-02-10 14:37:23,882]\u001b[0m Trial 21 finished with value: -2.403074362280642 and parameters: {'max_depth': 3, 'max_features': 'log2', 'n_estimators': 201}. Best is trial 8 with value: -2.3867040132589383.\u001b[0m\n",
      "\u001b[32m[I 2023-02-10 14:37:25,302]\u001b[0m Trial 22 finished with value: -2.3961785418966564 and parameters: {'max_depth': 3, 'max_features': 'log2', 'n_estimators': 229}. Best is trial 8 with value: -2.3867040132589383.\u001b[0m\n",
      "\u001b[32m[I 2023-02-10 14:37:26,750]\u001b[0m Trial 23 finished with value: -2.509318128416876 and parameters: {'max_depth': 4, 'max_features': 'log2', 'n_estimators': 227}. Best is trial 8 with value: -2.3867040132589383.\u001b[0m\n",
      "\u001b[32m[I 2023-02-10 14:37:28,619]\u001b[0m Trial 24 finished with value: -2.5825213762897037 and parameters: {'max_depth': 5, 'max_features': 'log2', 'n_estimators': 287}. Best is trial 8 with value: -2.3867040132589383.\u001b[0m\n",
      "\u001b[32m[I 2023-02-10 14:37:29,752]\u001b[0m Trial 25 finished with value: -2.401972214056144 and parameters: {'max_depth': 3, 'max_features': 'log2', 'n_estimators': 180}. Best is trial 8 with value: -2.3867040132589383.\u001b[0m\n",
      "\u001b[32m[I 2023-02-10 14:37:31,747]\u001b[0m Trial 26 finished with value: -2.4780624357889134 and parameters: {'max_depth': 4, 'max_features': 'log2', 'n_estimators': 342}. Best is trial 8 with value: -2.3867040132589383.\u001b[0m\n",
      "\u001b[32m[I 2023-02-10 14:37:32,662]\u001b[0m Trial 27 finished with value: -2.3886925465272477 and parameters: {'max_depth': 3, 'max_features': 'log2', 'n_estimators': 123}. Best is trial 8 with value: -2.3867040132589383.\u001b[0m\n",
      "\u001b[32m[I 2023-02-10 14:37:33,720]\u001b[0m Trial 28 finished with value: -2.6459694297583787 and parameters: {'max_depth': 6, 'max_features': 'log2', 'n_estimators': 116}. Best is trial 8 with value: -2.3867040132589383.\u001b[0m\n",
      "\u001b[32m[I 2023-02-10 14:37:34,545]\u001b[0m Trial 29 finished with value: -2.6446176686190594 and parameters: {'max_depth': 5, 'max_features': 'log2', 'n_estimators': 78}. Best is trial 8 with value: -2.3867040132589383.\u001b[0m\n"
     ]
    },
    {
     "name": "stdout",
     "output_type": "stream",
     "text": [
      "CPU times: total: 12 s\n",
      "Wall time: 1min 9s\n"
     ]
    },
    {
     "data": {
      "text/plain": [
       "RandomForestRegressor(max_depth=3, max_features='log2', n_estimators=126,\n",
       "                      n_jobs=-1, random_state=42)"
      ]
     },
     "execution_count": 34,
     "metadata": {},
     "output_type": "execute_result"
    }
   ],
   "source": [
    "%%time\n",
    "#hyperparameter optimization with optuna and smape scorer\n",
    "def rf_final(trial):\n",
    "    max_depth = trial.suggest_int('max_depth', 3, 10)\n",
    "    max_features = trial.suggest_categorical('max_features', ['auto', 'sqrt','log2'])\n",
    "    n_estimators =  trial.suggest_int('n_estimators', 30, 400)\n",
    "    \n",
    "    regr = RandomForestRegressor(max_depth = max_depth, max_features = max_features, \n",
    "                                n_estimators = n_estimators, n_jobs=-1, random_state=42)\n",
    "    \n",
    "    score = cross_val_score(regr, features_train, target_train_final, cv=3, scoring=smape_scorer)\n",
    "    smapes = score.mean()\n",
    "\n",
    "    return smapes\n",
    "#launching optuna study\n",
    "sampler = TPESampler(seed=42) #fixed optuna seed\n",
    "study_rf_final = optuna.create_study(direction='maximize', sampler=sampler)\n",
    "study_rf_final.optimize(rf_final, n_trials=30)\n",
    "\n",
    "#best model\n",
    "optimised_rf_final = RandomForestRegressor(max_depth=study_rf_final.best_params['max_depth'], max_features=study_rf_final.best_params['max_features'],\n",
    "                                     n_estimators = study_rf_final.best_params['n_estimators'], random_state=42, n_jobs=-1)\n",
    "#fitting\n",
    "optimised_rf_final.fit(features_train, target_train_final)"
   ]
  },
  {
   "cell_type": "code",
   "execution_count": 35,
   "metadata": {},
   "outputs": [
    {
     "name": "stdout",
     "output_type": "stream",
     "text": [
      "Model sMAPE for final concentrate: -2.3867040132589383\n",
      "Best hyperparameters: {'max_depth': 3, 'max_features': 'log2', 'n_estimators': 126}\n"
     ]
    }
   ],
   "source": [
    "print(f'Model sMAPE for final concentrate: {study_rf_final.best_value}')\n",
    "print(f'Best hyperparameters: {study_rf_final.best_params}')"
   ]
  },
  {
   "cell_type": "markdown",
   "metadata": {},
   "source": [
    "#### Total sMAPE for random forest"
   ]
  },
  {
   "cell_type": "code",
   "execution_count": 36,
   "metadata": {
    "scrolled": true
   },
   "outputs": [
    {
     "name": "stdout",
     "output_type": "stream",
     "text": [
      "Total sMAPE for random forest: -2.3467258865447853\n"
     ]
    }
   ],
   "source": [
    "print(f'Total sMAPE for random forest: {0.25 * study_rf_rougher.best_value + 0.75 * study_rf_final.best_value}')"
   ]
  },
  {
   "cell_type": "markdown",
   "metadata": {},
   "source": [
    "### Decision tree model"
   ]
  },
  {
   "cell_type": "markdown",
   "metadata": {},
   "source": [
    "#### Rough concentrate"
   ]
  },
  {
   "cell_type": "code",
   "execution_count": 37,
   "metadata": {
    "scrolled": true
   },
   "outputs": [
    {
     "name": "stderr",
     "output_type": "stream",
     "text": [
      "\u001b[32m[I 2023-02-10 14:37:34,795]\u001b[0m A new study created in memory with name: no-name-3f35c6e7-80dd-40a5-816f-9033abdcb553\u001b[0m\n",
      "\u001b[32m[I 2023-02-10 14:37:35,285]\u001b[0m Trial 0 finished with value: -2.6228051543891033 and parameters: {'max_depth': 5, 'min_samples_leaf': 11, 'min_samples_split': 9}. Best is trial 0 with value: -2.6228051543891033.\u001b[0m\n",
      "\u001b[32m[I 2023-02-10 14:37:35,910]\u001b[0m Trial 1 finished with value: -2.637940356677073 and parameters: {'max_depth': 7, 'min_samples_leaf': 3, 'min_samples_split': 3}. Best is trial 0 with value: -2.6228051543891033.\u001b[0m\n",
      "\u001b[32m[I 2023-02-10 14:37:36,228]\u001b[0m Trial 2 finished with value: -2.4175283703540216 and parameters: {'max_depth': 3, 'min_samples_leaf': 10, 'min_samples_split': 8}. Best is trial 2 with value: -2.4175283703540216.\u001b[0m\n",
      "\u001b[32m[I 2023-02-10 14:37:36,945]\u001b[0m Trial 3 finished with value: -2.5244652891443775 and parameters: {'max_depth': 8, 'min_samples_leaf': 2, 'min_samples_split': 11}. Best is trial 2 with value: -2.4175283703540216.\u001b[0m\n",
      "\u001b[32m[I 2023-02-10 14:37:37,705]\u001b[0m Trial 4 finished with value: -2.5413773374910718 and parameters: {'max_depth': 9, 'min_samples_leaf': 4, 'min_samples_split': 3}. Best is trial 2 with value: -2.4175283703540216.\u001b[0m\n",
      "\u001b[32m[I 2023-02-10 14:37:38,124]\u001b[0m Trial 5 finished with value: -2.4916118296202163 and parameters: {'max_depth': 4, 'min_samples_leaf': 5, 'min_samples_split': 7}. Best is trial 2 with value: -2.4175283703540216.\u001b[0m\n",
      "\u001b[32m[I 2023-02-10 14:37:38,686]\u001b[0m Trial 6 finished with value: -2.6127557747589054 and parameters: {'max_depth': 6, 'min_samples_leaf': 4, 'min_samples_split': 8}. Best is trial 2 with value: -2.4175283703540216.\u001b[0m\n",
      "\u001b[32m[I 2023-02-10 14:37:39,095]\u001b[0m Trial 7 finished with value: -2.4916118296202163 and parameters: {'max_depth': 4, 'min_samples_leaf': 4, 'min_samples_split': 5}. Best is trial 2 with value: -2.4175283703540216.\u001b[0m\n",
      "\u001b[32m[I 2023-02-10 14:37:39,653]\u001b[0m Trial 8 finished with value: -2.6082109494219137 and parameters: {'max_depth': 6, 'min_samples_leaf': 9, 'min_samples_split': 3}. Best is trial 2 with value: -2.4175283703540216.\u001b[0m\n",
      "\u001b[32m[I 2023-02-10 14:37:40,279]\u001b[0m Trial 9 finished with value: -2.580648789620665 and parameters: {'max_depth': 7, 'min_samples_leaf': 7, 'min_samples_split': 2}. Best is trial 2 with value: -2.4175283703540216.\u001b[0m\n",
      "\u001b[32m[I 2023-02-10 14:37:40,613]\u001b[0m Trial 10 finished with value: -2.4175283703540216 and parameters: {'max_depth': 3, 'min_samples_leaf': 11, 'min_samples_split': 11}. Best is trial 2 with value: -2.4175283703540216.\u001b[0m\n",
      "\u001b[32m[I 2023-02-10 14:37:40,943]\u001b[0m Trial 11 finished with value: -2.4175283703540216 and parameters: {'max_depth': 3, 'min_samples_leaf': 11, 'min_samples_split': 11}. Best is trial 2 with value: -2.4175283703540216.\u001b[0m\n",
      "\u001b[32m[I 2023-02-10 14:37:41,266]\u001b[0m Trial 12 finished with value: -2.4175283703540216 and parameters: {'max_depth': 3, 'min_samples_leaf': 9, 'min_samples_split': 9}. Best is trial 2 with value: -2.4175283703540216.\u001b[0m\n",
      "\u001b[32m[I 2023-02-10 14:37:42,064]\u001b[0m Trial 13 finished with value: -2.42782830835487 and parameters: {'max_depth': 10, 'min_samples_leaf': 9, 'min_samples_split': 6}. Best is trial 2 with value: -2.4175283703540216.\u001b[0m\n",
      "\u001b[32m[I 2023-02-10 14:37:42,475]\u001b[0m Trial 14 finished with value: -2.4916118296202163 and parameters: {'max_depth': 4, 'min_samples_leaf': 7, 'min_samples_split': 10}. Best is trial 2 with value: -2.4175283703540216.\u001b[0m\n",
      "\u001b[32m[I 2023-02-10 14:37:42,803]\u001b[0m Trial 15 finished with value: -2.4175283703540216 and parameters: {'max_depth': 3, 'min_samples_leaf': 10, 'min_samples_split': 9}. Best is trial 2 with value: -2.4175283703540216.\u001b[0m\n",
      "\u001b[32m[I 2023-02-10 14:37:43,298]\u001b[0m Trial 16 finished with value: -2.6228051543891024 and parameters: {'max_depth': 5, 'min_samples_leaf': 8, 'min_samples_split': 7}. Best is trial 2 with value: -2.4175283703540216.\u001b[0m\n",
      "\u001b[32m[I 2023-02-10 14:37:43,788]\u001b[0m Trial 17 finished with value: -2.6228051543891033 and parameters: {'max_depth': 5, 'min_samples_leaf': 10, 'min_samples_split': 9}. Best is trial 2 with value: -2.4175283703540216.\u001b[0m\n",
      "\u001b[32m[I 2023-02-10 14:37:44,119]\u001b[0m Trial 18 finished with value: -2.4175283703540216 and parameters: {'max_depth': 3, 'min_samples_leaf': 6, 'min_samples_split': 5}. Best is trial 2 with value: -2.4175283703540216.\u001b[0m\n",
      "\u001b[32m[I 2023-02-10 14:37:44,548]\u001b[0m Trial 19 finished with value: -2.4916118296202163 and parameters: {'max_depth': 4, 'min_samples_leaf': 6, 'min_samples_split': 5}. Best is trial 2 with value: -2.4175283703540216.\u001b[0m\n",
      "\u001b[32m[I 2023-02-10 14:37:45,045]\u001b[0m Trial 20 finished with value: -2.6228051543891033 and parameters: {'max_depth': 5, 'min_samples_leaf': 10, 'min_samples_split': 8}. Best is trial 2 with value: -2.4175283703540216.\u001b[0m\n",
      "\u001b[32m[I 2023-02-10 14:37:45,369]\u001b[0m Trial 21 finished with value: -2.4175283703540216 and parameters: {'max_depth': 3, 'min_samples_leaf': 6, 'min_samples_split': 5}. Best is trial 2 with value: -2.4175283703540216.\u001b[0m\n",
      "\u001b[32m[I 2023-02-10 14:37:45,701]\u001b[0m Trial 22 finished with value: -2.4175283703540216 and parameters: {'max_depth': 3, 'min_samples_leaf': 8, 'min_samples_split': 10}. Best is trial 2 with value: -2.4175283703540216.\u001b[0m\n",
      "\u001b[32m[I 2023-02-10 14:37:46,119]\u001b[0m Trial 23 finished with value: -2.4916118296202163 and parameters: {'max_depth': 4, 'min_samples_leaf': 11, 'min_samples_split': 11}. Best is trial 2 with value: -2.4175283703540216.\u001b[0m\n",
      "\u001b[32m[I 2023-02-10 14:37:46,451]\u001b[0m Trial 24 finished with value: -2.4175283703540216 and parameters: {'max_depth': 3, 'min_samples_leaf': 8, 'min_samples_split': 6}. Best is trial 2 with value: -2.4175283703540216.\u001b[0m\n",
      "\u001b[32m[I 2023-02-10 14:37:46,869]\u001b[0m Trial 25 finished with value: -2.4916118296202163 and parameters: {'max_depth': 4, 'min_samples_leaf': 8, 'min_samples_split': 10}. Best is trial 2 with value: -2.4175283703540216.\u001b[0m\n",
      "\u001b[32m[I 2023-02-10 14:37:47,193]\u001b[0m Trial 26 finished with value: -2.4175283703540216 and parameters: {'max_depth': 3, 'min_samples_leaf': 9, 'min_samples_split': 8}. Best is trial 2 with value: -2.4175283703540216.\u001b[0m\n",
      "\u001b[32m[I 2023-02-10 14:37:47,754]\u001b[0m Trial 27 finished with value: -2.6082109494219137 and parameters: {'max_depth': 6, 'min_samples_leaf': 9, 'min_samples_split': 6}. Best is trial 2 with value: -2.4175283703540216.\u001b[0m\n",
      "\u001b[32m[I 2023-02-10 14:37:48,251]\u001b[0m Trial 28 finished with value: -2.6228051543891024 and parameters: {'max_depth': 5, 'min_samples_leaf': 7, 'min_samples_split': 4}. Best is trial 2 with value: -2.4175283703540216.\u001b[0m\n",
      "\u001b[32m[I 2023-02-10 14:37:48,744]\u001b[0m Trial 29 finished with value: -2.623932523628508 and parameters: {'max_depth': 5, 'min_samples_leaf': 5, 'min_samples_split': 4}. Best is trial 2 with value: -2.4175283703540216.\u001b[0m\n"
     ]
    },
    {
     "name": "stdout",
     "output_type": "stream",
     "text": [
      "CPU times: total: 13.7 s\n",
      "Wall time: 14.1 s\n"
     ]
    },
    {
     "data": {
      "text/plain": [
       "DecisionTreeRegressor(max_depth=3, min_samples_leaf=10, min_samples_split=8,\n",
       "                      random_state=42)"
      ]
     },
     "execution_count": 37,
     "metadata": {},
     "output_type": "execute_result"
    }
   ],
   "source": [
    "%%time\n",
    "#hyperparameter optimization with optuna and smape scorer\n",
    "def dt_rougher(trial):\n",
    "    max_depth = trial.suggest_int('max_depth', 3, 10)\n",
    "    min_samples_leaf = trial.suggest_int('min_samples_leaf', 2, 11)\n",
    "    min_samples_split =  trial.suggest_int('min_samples_split', 2, 11)\n",
    "    \n",
    "    regr = DecisionTreeRegressor(max_depth = max_depth, min_samples_leaf = min_samples_leaf, \n",
    "                                min_samples_split = min_samples_split, random_state=42)\n",
    "    \n",
    "    score = cross_val_score(regr, features_train, target_train_rougher, cv=3, scoring=smape_scorer)\n",
    "    smapes = score.mean()\n",
    "\n",
    "    return smapes\n",
    "#launching optuna study\n",
    "sampler = TPESampler(seed=42) #fixed optuna seed\n",
    "study_dt_rougher = optuna.create_study(direction='maximize', sampler=sampler) #maximizing score due to negative sign in the formula\n",
    "study_dt_rougher.optimize(dt_rougher, n_trials=30)\n",
    "\n",
    "#best model\n",
    "optimised_dt_rougher = DecisionTreeRegressor(max_depth=study_dt_rougher.best_params['max_depth'], min_samples_leaf=study_dt_rougher.best_params['min_samples_leaf'],\n",
    "                                     min_samples_split=study_dt_rougher.best_params['min_samples_split'], random_state=42)\n",
    "#fitting\n",
    "optimised_dt_rougher.fit(features_train, target_train_rougher)"
   ]
  },
  {
   "cell_type": "code",
   "execution_count": 38,
   "metadata": {},
   "outputs": [
    {
     "name": "stdout",
     "output_type": "stream",
     "text": [
      "Model sMAPE for rough concentrate: -2.4175283703540216\n",
      "Best hyperparameters: {'max_depth': 3, 'min_samples_leaf': 10, 'min_samples_split': 8}\n"
     ]
    }
   ],
   "source": [
    "print(f'Model sMAPE for rough concentrate: {study_dt_rougher.best_value}')\n",
    "print(f'Best hyperparameters: {study_dt_rougher.best_params}')"
   ]
  },
  {
   "cell_type": "markdown",
   "metadata": {},
   "source": [
    "#### Final concentrate"
   ]
  },
  {
   "cell_type": "code",
   "execution_count": 39,
   "metadata": {
    "scrolled": true
   },
   "outputs": [
    {
     "name": "stderr",
     "output_type": "stream",
     "text": [
      "\u001b[32m[I 2023-02-10 14:37:48,929]\u001b[0m A new study created in memory with name: no-name-a8b18549-a754-4232-bb6d-a813bff0c455\u001b[0m\n",
      "\u001b[32m[I 2023-02-10 14:37:49,426]\u001b[0m Trial 0 finished with value: -2.6170739405462697 and parameters: {'max_depth': 5, 'min_samples_leaf': 11, 'min_samples_split': 9}. Best is trial 0 with value: -2.6170739405462697.\u001b[0m\n",
      "\u001b[32m[I 2023-02-10 14:37:50,076]\u001b[0m Trial 1 finished with value: -3.053551531907127 and parameters: {'max_depth': 7, 'min_samples_leaf': 3, 'min_samples_split': 3}. Best is trial 0 with value: -2.6170739405462697.\u001b[0m\n",
      "\u001b[32m[I 2023-02-10 14:37:50,397]\u001b[0m Trial 2 finished with value: -2.909080673690111 and parameters: {'max_depth': 3, 'min_samples_leaf': 10, 'min_samples_split': 8}. Best is trial 0 with value: -2.6170739405462697.\u001b[0m\n",
      "\u001b[32m[I 2023-02-10 14:37:51,109]\u001b[0m Trial 3 finished with value: -3.163811651305427 and parameters: {'max_depth': 8, 'min_samples_leaf': 2, 'min_samples_split': 11}. Best is trial 0 with value: -2.6170739405462697.\u001b[0m\n",
      "\u001b[32m[I 2023-02-10 14:37:51,892]\u001b[0m Trial 4 finished with value: -3.632783132590984 and parameters: {'max_depth': 9, 'min_samples_leaf': 4, 'min_samples_split': 3}. Best is trial 0 with value: -2.6170739405462697.\u001b[0m\n",
      "\u001b[32m[I 2023-02-10 14:37:52,292]\u001b[0m Trial 5 finished with value: -2.6966770619693823 and parameters: {'max_depth': 4, 'min_samples_leaf': 5, 'min_samples_split': 7}. Best is trial 0 with value: -2.6170739405462697.\u001b[0m\n",
      "\u001b[32m[I 2023-02-10 14:37:52,859]\u001b[0m Trial 6 finished with value: -2.822089290276663 and parameters: {'max_depth': 6, 'min_samples_leaf': 4, 'min_samples_split': 8}. Best is trial 0 with value: -2.6170739405462697.\u001b[0m\n",
      "\u001b[32m[I 2023-02-10 14:37:53,268]\u001b[0m Trial 7 finished with value: -2.6966770619693823 and parameters: {'max_depth': 4, 'min_samples_leaf': 4, 'min_samples_split': 5}. Best is trial 0 with value: -2.6170739405462697.\u001b[0m\n",
      "\u001b[32m[I 2023-02-10 14:37:53,835]\u001b[0m Trial 8 finished with value: -2.8176122605383633 and parameters: {'max_depth': 6, 'min_samples_leaf': 9, 'min_samples_split': 3}. Best is trial 0 with value: -2.6170739405462697.\u001b[0m\n",
      "\u001b[32m[I 2023-02-10 14:37:54,491]\u001b[0m Trial 9 finished with value: -3.7174325756799433 and parameters: {'max_depth': 7, 'min_samples_leaf': 7, 'min_samples_split': 2}. Best is trial 0 with value: -2.6170739405462697.\u001b[0m\n",
      "\u001b[32m[I 2023-02-10 14:37:55,325]\u001b[0m Trial 10 finished with value: -3.574676497145893 and parameters: {'max_depth': 10, 'min_samples_leaf': 11, 'min_samples_split': 11}. Best is trial 0 with value: -2.6170739405462697.\u001b[0m\n",
      "\u001b[32m[I 2023-02-10 14:37:55,744]\u001b[0m Trial 11 finished with value: -2.7301376872467955 and parameters: {'max_depth': 4, 'min_samples_leaf': 7, 'min_samples_split': 8}. Best is trial 0 with value: -2.6170739405462697.\u001b[0m\n",
      "\u001b[32m[I 2023-02-10 14:37:56,343]\u001b[0m Trial 12 finished with value: -2.589636255924588 and parameters: {'max_depth': 5, 'min_samples_leaf': 6, 'min_samples_split': 6}. Best is trial 12 with value: -2.589636255924588.\u001b[0m\n",
      "\u001b[32m[I 2023-02-10 14:37:56,835]\u001b[0m Trial 13 finished with value: -2.6185473173210263 and parameters: {'max_depth': 5, 'min_samples_leaf': 8, 'min_samples_split': 5}. Best is trial 12 with value: -2.589636255924588.\u001b[0m\n",
      "\u001b[32m[I 2023-02-10 14:37:57,335]\u001b[0m Trial 14 finished with value: -2.589636255924588 and parameters: {'max_depth': 5, 'min_samples_leaf': 6, 'min_samples_split': 10}. Best is trial 12 with value: -2.589636255924588.\u001b[0m\n",
      "\u001b[32m[I 2023-02-10 14:37:57,829]\u001b[0m Trial 15 finished with value: -2.589636255924588 and parameters: {'max_depth': 5, 'min_samples_leaf': 6, 'min_samples_split': 5}. Best is trial 12 with value: -2.589636255924588.\u001b[0m\n",
      "\u001b[32m[I 2023-02-10 14:37:58,160]\u001b[0m Trial 16 finished with value: -2.909080673690111 and parameters: {'max_depth': 3, 'min_samples_leaf': 6, 'min_samples_split': 10}. Best is trial 12 with value: -2.589636255924588.\u001b[0m\n",
      "\u001b[32m[I 2023-02-10 14:37:58,731]\u001b[0m Trial 17 finished with value: -2.8198531253206838 and parameters: {'max_depth': 6, 'min_samples_leaf': 8, 'min_samples_split': 6}. Best is trial 12 with value: -2.589636255924588.\u001b[0m\n",
      "\u001b[32m[I 2023-02-10 14:37:59,448]\u001b[0m Trial 18 finished with value: -4.007871980784607 and parameters: {'max_depth': 8, 'min_samples_leaf': 5, 'min_samples_split': 5}. Best is trial 12 with value: -2.589636255924588.\u001b[0m\n",
      "\u001b[32m[I 2023-02-10 14:37:59,942]\u001b[0m Trial 19 finished with value: -2.6185473173210263 and parameters: {'max_depth': 5, 'min_samples_leaf': 8, 'min_samples_split': 7}. Best is trial 12 with value: -2.589636255924588.\u001b[0m\n",
      "\u001b[32m[I 2023-02-10 14:38:00,366]\u001b[0m Trial 20 finished with value: -2.6966770619693823 and parameters: {'max_depth': 4, 'min_samples_leaf': 5, 'min_samples_split': 10}. Best is trial 12 with value: -2.589636255924588.\u001b[0m\n",
      "\u001b[32m[I 2023-02-10 14:38:00,867]\u001b[0m Trial 21 finished with value: -2.589636255924588 and parameters: {'max_depth': 5, 'min_samples_leaf': 6, 'min_samples_split': 6}. Best is trial 12 with value: -2.589636255924588.\u001b[0m\n",
      "\u001b[32m[I 2023-02-10 14:38:01,366]\u001b[0m Trial 22 finished with value: -2.616663984076942 and parameters: {'max_depth': 5, 'min_samples_leaf': 7, 'min_samples_split': 4}. Best is trial 12 with value: -2.589636255924588.\u001b[0m\n",
      "\u001b[32m[I 2023-02-10 14:38:01,935]\u001b[0m Trial 23 finished with value: -2.8470574023663295 and parameters: {'max_depth': 6, 'min_samples_leaf': 6, 'min_samples_split': 6}. Best is trial 12 with value: -2.589636255924588.\u001b[0m\n",
      "\u001b[32m[I 2023-02-10 14:38:02,584]\u001b[0m Trial 24 finished with value: -3.801974231071046 and parameters: {'max_depth': 7, 'min_samples_leaf': 5, 'min_samples_split': 4}. Best is trial 12 with value: -2.589636255924588.\u001b[0m\n",
      "\u001b[32m[I 2023-02-10 14:38:02,916]\u001b[0m Trial 25 finished with value: -2.909080673690111 and parameters: {'max_depth': 3, 'min_samples_leaf': 6, 'min_samples_split': 6}. Best is trial 12 with value: -2.589636255924588.\u001b[0m\n",
      "\u001b[32m[I 2023-02-10 14:38:03,342]\u001b[0m Trial 26 finished with value: -2.730196404904658 and parameters: {'max_depth': 4, 'min_samples_leaf': 9, 'min_samples_split': 7}. Best is trial 12 with value: -2.589636255924588.\u001b[0m\n",
      "\u001b[32m[I 2023-02-10 14:38:03,843]\u001b[0m Trial 27 finished with value: -2.587840956644128 and parameters: {'max_depth': 5, 'min_samples_leaf': 3, 'min_samples_split': 9}. Best is trial 27 with value: -2.587840956644128.\u001b[0m\n",
      "\u001b[32m[I 2023-02-10 14:38:04,425]\u001b[0m Trial 28 finished with value: -2.828830582215969 and parameters: {'max_depth': 6, 'min_samples_leaf': 2, 'min_samples_split': 9}. Best is trial 27 with value: -2.587840956644128.\u001b[0m\n",
      "\u001b[32m[I 2023-02-10 14:38:04,843]\u001b[0m Trial 29 finished with value: -2.6966770619693823 and parameters: {'max_depth': 4, 'min_samples_leaf': 3, 'min_samples_split': 9}. Best is trial 27 with value: -2.587840956644128.\u001b[0m\n"
     ]
    },
    {
     "name": "stdout",
     "output_type": "stream",
     "text": [
      "CPU times: total: 15.9 s\n",
      "Wall time: 16.2 s\n"
     ]
    },
    {
     "data": {
      "text/plain": [
       "DecisionTreeRegressor(max_depth=5, min_samples_leaf=3, min_samples_split=9,\n",
       "                      random_state=42)"
      ]
     },
     "execution_count": 39,
     "metadata": {},
     "output_type": "execute_result"
    }
   ],
   "source": [
    "%%time\n",
    "#hyperparameter optimization with optuna and smape scorer\n",
    "def dt_final(trial):\n",
    "    max_depth = trial.suggest_int('max_depth', 3, 10)\n",
    "    min_samples_leaf = trial.suggest_int('min_samples_leaf', 2, 11)\n",
    "    min_samples_split =  trial.suggest_int('min_samples_split', 2, 11)\n",
    "    \n",
    "    regr = DecisionTreeRegressor(max_depth = max_depth, min_samples_leaf = min_samples_leaf, \n",
    "                                min_samples_split = min_samples_split, random_state=42)\n",
    "    \n",
    "    score = cross_val_score(regr, features_train, target_train_final, cv=3, scoring=smape_scorer)\n",
    "    smapes = score.mean()\n",
    "\n",
    "    return smapes\n",
    "#launching optuna study\n",
    "sampler = TPESampler(seed=42) #fixed optuna seed\n",
    "study_dt_final = optuna.create_study(direction='maximize', sampler=sampler) #maximizing score due to negative sign in the formula\n",
    "study_dt_final.optimize(dt_final, n_trials=30)\n",
    "\n",
    "#best model\n",
    "optimised_dt_final = DecisionTreeRegressor(max_depth=study_dt_final.best_params['max_depth'], min_samples_leaf=study_dt_final.best_params['min_samples_leaf'],\n",
    "                                     min_samples_split=study_dt_final.best_params['min_samples_split'], random_state=42)\n",
    "#fitting\n",
    "optimised_dt_final.fit(features_train, target_train_final)"
   ]
  },
  {
   "cell_type": "code",
   "execution_count": 40,
   "metadata": {},
   "outputs": [
    {
     "name": "stdout",
     "output_type": "stream",
     "text": [
      "Model sMAPE for final concentrate: -2.587840956644128\n",
      "Best hyperparameters: {'max_depth': 5, 'min_samples_leaf': 3, 'min_samples_split': 9}\n"
     ]
    }
   ],
   "source": [
    "print(f'Model sMAPE for final concentrate: {study_dt_final.best_value}')\n",
    "print(f'Best hyperparameters: {study_dt_final.best_params}')"
   ]
  },
  {
   "cell_type": "markdown",
   "metadata": {},
   "source": [
    "#### Total sMAPE for decision tree"
   ]
  },
  {
   "cell_type": "code",
   "execution_count": 41,
   "metadata": {},
   "outputs": [
    {
     "name": "stdout",
     "output_type": "stream",
     "text": [
      "Total sMAPE for decision tree: -2.5452628100716015\n"
     ]
    }
   ],
   "source": [
    "print(f'Total sMAPE for decision tree: {0.25 * study_dt_rougher.best_value + 0.75 * study_dt_final.best_value}')"
   ]
  },
  {
   "cell_type": "markdown",
   "metadata": {},
   "source": [
    "### Linear regression model"
   ]
  },
  {
   "cell_type": "markdown",
   "metadata": {},
   "source": [
    "#### Rough concentrate"
   ]
  },
  {
   "cell_type": "code",
   "execution_count": 42,
   "metadata": {},
   "outputs": [
    {
     "name": "stdout",
     "output_type": "stream",
     "text": [
      "Linear regression sMAPE: 5.812812113083946\n",
      "CPU times: total: 0 ns\n",
      "Wall time: 48 ms\n"
     ]
    }
   ],
   "source": [
    "%%time\n",
    "#features scaler\n",
    "scaler = make_column_transformer(\n",
    "        (StandardScaler(),\n",
    "        make_column_selector(dtype_include=np.number)\n",
    "        )\n",
    "          )\n",
    "\n",
    "#linear regression pipe: scaling features and model creation\n",
    "lin_pipe = Pipeline(steps=[('preprocessor', scaler), ('lin', LinearRegression(n_jobs=-1))])\n",
    "\n",
    "#model fitting\n",
    "lin_pipe.fit(features_train, target_train_rougher)\n",
    "predictions_rough = lin_pipe.predict(features_train)\n",
    "print(f'Linear regression sMAPE: {smape(target_train_rougher, predictions_rough)}')"
   ]
  },
  {
   "cell_type": "markdown",
   "metadata": {},
   "source": [
    "#### Final concentrate"
   ]
  },
  {
   "cell_type": "code",
   "execution_count": 43,
   "metadata": {},
   "outputs": [
    {
     "name": "stdout",
     "output_type": "stream",
     "text": [
      "Linear regression sMAPE: 8.884443277876452\n",
      "CPU times: total: 31.2 ms\n",
      "Wall time: 41.3 ms\n"
     ]
    }
   ],
   "source": [
    "%%time\n",
    "lin_pipe.fit(features_train, target_train_final)\n",
    "predictions_fin = lin_pipe.predict(features_train)\n",
    "print(f'Linear regression sMAPE: {smape(target_train_final, predictions_fin)}')"
   ]
  },
  {
   "cell_type": "markdown",
   "metadata": {},
   "source": [
    "#### Total sMAPE for linear regression"
   ]
  },
  {
   "cell_type": "code",
   "execution_count": 44,
   "metadata": {},
   "outputs": [
    {
     "name": "stdout",
     "output_type": "stream",
     "text": [
      "Total sMAPE for linear regression: 8.116535486678325\n"
     ]
    }
   ],
   "source": [
    "print(f'Total sMAPE for linear regression: {0.25 * smape(target_train_rougher, predictions_rough) + 0.75 * smape(target_train_final, predictions_fin)}')"
   ]
  },
  {
   "cell_type": "markdown",
   "metadata": {},
   "source": [
    "### Conclusion"
   ]
  },
  {
   "cell_type": "markdown",
   "metadata": {},
   "source": [
    "* **The best model is a random forest model with the following hyperparameters for the rough concentrate: maximum depth: 10, maximum number of features: 'auto', number of trees: 36. For the final concentrate, the best model is also a random forest model with the following hyperparameters: maximum depth: 3, maximal number of features: 'log2', number of trees: 126. The final sMAPE was ~2.35.**"
   ]
  },
  {
   "cell_type": "markdown",
   "metadata": {},
   "source": [
    "## Checking model on the test set"
   ]
  },
  {
   "cell_type": "code",
   "execution_count": 45,
   "metadata": {},
   "outputs": [
    {
     "name": "stdout",
     "output_type": "stream",
     "text": [
      "smape_total = 6.076851016575755\n"
     ]
    }
   ],
   "source": [
    "predictions_rougher = optimised_rf_rougher.predict(features_test)\n",
    "predictions_final = optimised_rf_final.predict(features_test)\n",
    "\n",
    "smape_rougher = smape(target_test_rougher, predictions_rougher)\n",
    "smape_final = smape(target_test_final, predictions_final)\n",
    "\n",
    "smape_total = 0.25*smape_rougher + 0.75*smape_final\n",
    "\n",
    "print('smape_total =', smape_total)"
   ]
  },
  {
   "cell_type": "markdown",
   "metadata": {},
   "source": [
    "Let's make a sanity check."
   ]
  },
  {
   "cell_type": "code",
   "execution_count": 46,
   "metadata": {
    "scrolled": true
   },
   "outputs": [
    {
     "data": {
      "text/plain": [
       "6.243121747007725"
      ]
     },
     "execution_count": 46,
     "metadata": {},
     "output_type": "execute_result"
    }
   ],
   "source": [
    "#dummies for rough and final concentrates\n",
    "dummy_rough = DummyRegressor(strategy=\"mean\").fit(features_train, target_train_rougher).predict(target_test_rougher)\n",
    "dummy_final = DummyRegressor(strategy=\"mean\").fit(features_train, target_train_final).predict(target_test_final)\n",
    "\n",
    "smape_rougher_dummy = smape(dummy_rough, target_test_rougher)\n",
    "smape_final_dummy = smape(dummy_final, target_test_final)\n",
    "\n",
    "smape_dummy = 0.25*smape_rougher_dummy + 0.75*smape_final_dummy\n",
    "smape_dummy"
   ]
  },
  {
   "cell_type": "markdown",
   "metadata": {},
   "source": [
    "The model has been tested for adequacy and is ready for production. It may need to be adjusted as new data becomes available."
   ]
  },
  {
   "cell_type": "markdown",
   "metadata": {},
   "source": [
    "## Summary"
   ]
  },
  {
   "cell_type": "markdown",
   "metadata": {},
   "source": [
    "* **The concentration of metals behaves slightly differently at each stage of production. For example, the percentage of silver in the ore after processing is lower than before processing. The median gold content in the initial raw material is less than 10%. At the same time, the gold content increases linearly after each stage of ore cleaning, and at the last stage of cleaning its concentration is about 45%. It is worth noting that the concentration of lead also increases, but its proportion in the final concentrate is the same as that after the first stage of purification;**\n",
    "* **Despite the fact that the confidence intervals of the mean values of the pellet sizes do not overlap, the plotted density distribution graphs and whisker boxes show that the distributions are almost identical to each other. In this respect, the data presented can be used for further development of machine learning;**\n",
    "* **The total concentration of substances is characterized by a large number of emissions at all stages of production. At the same time, most of the emissions are concentrated below the bottom whisker. Such values were removed from the training and test samples.**\n",
    "* **The best model is a random forest model with hyperparameters for rough concentrate: maximum depth: 10, maximum number of features: 'auto', number of trees: 36. For the final concentrate the best model is also a random forest model with hyperparameters: maximum depth: 3, maximum number of features: 'log2', number of trees: 126. The final sMAPE on the test sample was ~6.08;**\n",
    "* **After the model is run in production and new data is received, the model may require parameter adjustment.**"
   ]
  }
 ],
 "metadata": {
  "ExecuteTimeLog": [
   {
    "duration": 1742,
    "start_time": "2022-09-23T13:01:08.651Z"
   },
   {
    "duration": 916,
    "start_time": "2022-09-23T13:11:11.350Z"
   },
   {
    "duration": 2219,
    "start_time": "2022-09-23T13:11:20.288Z"
   },
   {
    "duration": 7,
    "start_time": "2022-09-23T13:14:57.313Z"
   },
   {
    "duration": 1319,
    "start_time": "2022-09-23T13:18:59.008Z"
   },
   {
    "duration": 45,
    "start_time": "2022-09-23T13:21:57.695Z"
   },
   {
    "duration": 42,
    "start_time": "2022-09-23T13:22:10.222Z"
   },
   {
    "duration": 36,
    "start_time": "2022-09-23T13:22:53.067Z"
   },
   {
    "duration": 89,
    "start_time": "2022-09-23T13:27:20.620Z"
   },
   {
    "duration": 86,
    "start_time": "2022-09-23T13:27:32.086Z"
   },
   {
    "duration": 10,
    "start_time": "2022-09-23T13:28:09.186Z"
   },
   {
    "duration": 20,
    "start_time": "2022-09-23T13:28:17.615Z"
   },
   {
    "duration": 11,
    "start_time": "2022-09-23T13:29:07.165Z"
   },
   {
    "duration": 10,
    "start_time": "2022-09-23T13:33:27.138Z"
   },
   {
    "duration": 11,
    "start_time": "2022-09-23T13:33:31.708Z"
   },
   {
    "duration": 13,
    "start_time": "2022-09-23T13:33:34.113Z"
   },
   {
    "duration": 10,
    "start_time": "2022-09-23T13:33:46.629Z"
   },
   {
    "duration": 17,
    "start_time": "2022-09-23T13:33:53.874Z"
   },
   {
    "duration": 16,
    "start_time": "2022-09-23T13:33:57.946Z"
   },
   {
    "duration": 11,
    "start_time": "2022-09-23T13:34:06.661Z"
   },
   {
    "duration": 11,
    "start_time": "2022-09-23T13:34:34.942Z"
   },
   {
    "duration": 57,
    "start_time": "2022-09-23T13:35:40.371Z"
   },
   {
    "duration": 11,
    "start_time": "2022-09-23T13:36:37.268Z"
   },
   {
    "duration": 10,
    "start_time": "2022-09-23T13:36:54.414Z"
   },
   {
    "duration": 11,
    "start_time": "2022-09-23T13:38:53.139Z"
   },
   {
    "duration": 18,
    "start_time": "2022-09-23T13:40:21.636Z"
   },
   {
    "duration": 20,
    "start_time": "2022-09-23T13:40:34.134Z"
   },
   {
    "duration": 4,
    "start_time": "2022-09-23T13:41:44.342Z"
   },
   {
    "duration": 9,
    "start_time": "2022-09-23T13:41:57.770Z"
   },
   {
    "duration": 20,
    "start_time": "2022-09-23T13:44:03.269Z"
   },
   {
    "duration": 21,
    "start_time": "2022-09-23T13:46:08.982Z"
   },
   {
    "duration": 1488,
    "start_time": "2022-09-23T13:58:01.940Z"
   },
   {
    "duration": 1534,
    "start_time": "2022-09-23T13:58:03.430Z"
   },
   {
    "duration": 46,
    "start_time": "2022-09-23T13:58:04.965Z"
   },
   {
    "duration": 22,
    "start_time": "2022-09-23T13:58:05.021Z"
   },
   {
    "duration": 14,
    "start_time": "2022-09-23T13:58:05.045Z"
   },
   {
    "duration": 29,
    "start_time": "2022-09-23T14:34:58.639Z"
   },
   {
    "duration": 264,
    "start_time": "2022-09-23T14:35:14.924Z"
   },
   {
    "duration": 115,
    "start_time": "2022-09-23T17:49:55.631Z"
   },
   {
    "duration": 5,
    "start_time": "2022-09-23T17:50:04.696Z"
   },
   {
    "duration": 61,
    "start_time": "2022-09-30T17:35:56.090Z"
   },
   {
    "duration": 1466,
    "start_time": "2022-09-30T17:35:58.343Z"
   },
   {
    "duration": 1863,
    "start_time": "2022-09-30T17:35:59.811Z"
   },
   {
    "duration": 41,
    "start_time": "2022-09-30T17:36:02.888Z"
   },
   {
    "duration": 1393,
    "start_time": "2022-10-01T11:25:04.544Z"
   },
   {
    "duration": 1114,
    "start_time": "2022-10-01T11:31:35.215Z"
   },
   {
    "duration": 52,
    "start_time": "2022-10-01T11:31:38.582Z"
   },
   {
    "duration": 1287,
    "start_time": "2022-10-01T11:37:32.135Z"
   },
   {
    "duration": 1119,
    "start_time": "2022-10-01T11:37:33.424Z"
   },
   {
    "duration": 56,
    "start_time": "2022-10-01T11:37:34.545Z"
   },
   {
    "duration": 23,
    "start_time": "2022-10-01T11:37:34.603Z"
   },
   {
    "duration": 21,
    "start_time": "2022-10-01T11:37:34.628Z"
   },
   {
    "duration": 255,
    "start_time": "2022-10-01T11:37:34.651Z"
   },
   {
    "duration": 13,
    "start_time": "2022-10-01T11:37:34.907Z"
   },
   {
    "duration": 6,
    "start_time": "2022-10-01T11:37:34.922Z"
   },
   {
    "duration": 16,
    "start_time": "2022-10-01T11:41:17.347Z"
   },
   {
    "duration": 71,
    "start_time": "2022-10-01T11:54:40.787Z"
   },
   {
    "duration": 5,
    "start_time": "2022-10-01T12:15:12.032Z"
   },
   {
    "duration": 9,
    "start_time": "2022-10-01T12:21:12.302Z"
   },
   {
    "duration": 5,
    "start_time": "2022-10-01T12:23:03.401Z"
   },
   {
    "duration": 6,
    "start_time": "2022-10-01T12:27:25.871Z"
   },
   {
    "duration": 6,
    "start_time": "2022-10-01T12:31:36.731Z"
   },
   {
    "duration": 6,
    "start_time": "2022-10-01T12:31:48.167Z"
   },
   {
    "duration": 6,
    "start_time": "2022-10-01T12:31:57.850Z"
   },
   {
    "duration": 5,
    "start_time": "2022-10-01T12:32:02.696Z"
   },
   {
    "duration": 5,
    "start_time": "2022-10-01T12:32:08.635Z"
   },
   {
    "duration": 4,
    "start_time": "2022-10-01T12:35:38.337Z"
   },
   {
    "duration": 5,
    "start_time": "2022-10-01T12:35:39.308Z"
   },
   {
    "duration": 5,
    "start_time": "2022-10-01T12:35:40.522Z"
   },
   {
    "duration": 5,
    "start_time": "2022-10-01T12:35:51.901Z"
   },
   {
    "duration": 5,
    "start_time": "2022-10-01T12:35:52.845Z"
   },
   {
    "duration": 5,
    "start_time": "2022-10-01T12:35:53.701Z"
   },
   {
    "duration": 4,
    "start_time": "2022-10-01T12:46:32.608Z"
   },
   {
    "duration": 6,
    "start_time": "2022-10-01T12:48:43.573Z"
   },
   {
    "duration": 5,
    "start_time": "2022-10-01T12:56:21.289Z"
   },
   {
    "duration": 5,
    "start_time": "2022-10-01T12:56:24.788Z"
   },
   {
    "duration": 5,
    "start_time": "2022-10-01T12:56:28.424Z"
   },
   {
    "duration": 4,
    "start_time": "2022-10-01T12:56:46.001Z"
   },
   {
    "duration": 5,
    "start_time": "2022-10-01T12:56:52.610Z"
   },
   {
    "duration": 6,
    "start_time": "2022-10-01T12:56:56.985Z"
   },
   {
    "duration": 5,
    "start_time": "2022-10-01T12:57:05.833Z"
   },
   {
    "duration": 6,
    "start_time": "2022-10-01T12:58:00.968Z"
   },
   {
    "duration": 4,
    "start_time": "2022-10-01T13:26:45.620Z"
   },
   {
    "duration": 4,
    "start_time": "2022-10-01T13:27:00.890Z"
   },
   {
    "duration": 3,
    "start_time": "2022-10-01T13:27:15.194Z"
   },
   {
    "duration": 5,
    "start_time": "2022-10-01T13:27:22.240Z"
   },
   {
    "duration": 4,
    "start_time": "2022-10-01T13:27:49.144Z"
   },
   {
    "duration": 5,
    "start_time": "2022-10-01T13:28:15.964Z"
   },
   {
    "duration": 4,
    "start_time": "2022-10-01T13:32:39.167Z"
   },
   {
    "duration": 10,
    "start_time": "2022-10-01T13:49:37.689Z"
   },
   {
    "duration": 42,
    "start_time": "2022-10-01T13:55:30.309Z"
   },
   {
    "duration": 70,
    "start_time": "2022-10-01T14:04:23.823Z"
   },
   {
    "duration": 20,
    "start_time": "2022-10-01T14:07:03.049Z"
   },
   {
    "duration": 75,
    "start_time": "2022-10-01T14:07:17.252Z"
   },
   {
    "duration": 10,
    "start_time": "2022-10-01T14:08:30.759Z"
   },
   {
    "duration": 9,
    "start_time": "2022-10-01T14:08:53.799Z"
   },
   {
    "duration": 9,
    "start_time": "2022-10-01T14:09:13.403Z"
   },
   {
    "duration": 18,
    "start_time": "2022-10-01T14:11:00.361Z"
   },
   {
    "duration": 23,
    "start_time": "2022-10-01T14:11:24.156Z"
   },
   {
    "duration": 16,
    "start_time": "2022-10-01T14:13:23.264Z"
   },
   {
    "duration": 16,
    "start_time": "2022-10-01T14:13:34.089Z"
   },
   {
    "duration": 18,
    "start_time": "2022-10-01T14:14:30.422Z"
   },
   {
    "duration": 15,
    "start_time": "2022-10-01T14:14:31.011Z"
   },
   {
    "duration": 26,
    "start_time": "2022-10-01T14:14:46.690Z"
   },
   {
    "duration": 124,
    "start_time": "2022-10-01T14:16:03.343Z"
   },
   {
    "duration": 16,
    "start_time": "2022-10-01T14:16:26.304Z"
   },
   {
    "duration": 10,
    "start_time": "2022-10-01T14:35:10.926Z"
   },
   {
    "duration": 17,
    "start_time": "2022-10-01T14:35:25.203Z"
   },
   {
    "duration": 5,
    "start_time": "2022-10-01T14:35:41.214Z"
   },
   {
    "duration": 502,
    "start_time": "2022-10-01T14:35:54.053Z"
   },
   {
    "duration": 3,
    "start_time": "2022-10-01T14:41:32.754Z"
   },
   {
    "duration": 6,
    "start_time": "2022-10-01T14:41:51.858Z"
   },
   {
    "duration": 9,
    "start_time": "2022-10-01T14:42:06.186Z"
   },
   {
    "duration": 5,
    "start_time": "2022-10-01T14:42:10.204Z"
   },
   {
    "duration": 757,
    "start_time": "2022-10-01T14:43:04.996Z"
   },
   {
    "duration": 211,
    "start_time": "2022-10-01T14:43:25.239Z"
   },
   {
    "duration": 48,
    "start_time": "2022-10-01T14:45:08.207Z"
   },
   {
    "duration": 5,
    "start_time": "2022-10-01T14:45:26.210Z"
   },
   {
    "duration": 9,
    "start_time": "2022-10-01T14:45:35.716Z"
   },
   {
    "duration": 26,
    "start_time": "2022-10-01T14:45:49.414Z"
   },
   {
    "duration": 131,
    "start_time": "2022-10-01T14:46:08.602Z"
   },
   {
    "duration": 6,
    "start_time": "2022-10-01T14:46:23.993Z"
   },
   {
    "duration": 754,
    "start_time": "2022-10-01T14:46:40.252Z"
   },
   {
    "duration": 24,
    "start_time": "2022-10-01T14:48:17.513Z"
   },
   {
    "duration": 9,
    "start_time": "2022-10-01T14:48:36.204Z"
   },
   {
    "duration": 13,
    "start_time": "2022-10-01T14:48:42.006Z"
   },
   {
    "duration": 808,
    "start_time": "2022-10-01T14:48:43.540Z"
   },
   {
    "duration": 832,
    "start_time": "2022-10-01T14:49:09.632Z"
   },
   {
    "duration": 184,
    "start_time": "2022-10-01T14:51:21.015Z"
   },
   {
    "duration": 184,
    "start_time": "2022-10-01T14:51:35.011Z"
   },
   {
    "duration": 165,
    "start_time": "2022-10-01T14:51:59.517Z"
   },
   {
    "duration": 4,
    "start_time": "2022-10-01T14:53:27.352Z"
   },
   {
    "duration": 12597,
    "start_time": "2022-10-01T14:54:27.004Z"
   },
   {
    "duration": 296,
    "start_time": "2022-10-01T14:54:52.363Z"
   },
   {
    "duration": 6,
    "start_time": "2022-10-01T15:08:09.710Z"
   },
   {
    "duration": 12982,
    "start_time": "2022-10-02T07:20:07.370Z"
   },
   {
    "duration": 1969,
    "start_time": "2022-10-02T07:20:43.591Z"
   },
   {
    "duration": 1727,
    "start_time": "2022-10-02T07:20:46.974Z"
   },
   {
    "duration": 48,
    "start_time": "2022-10-02T07:20:50.096Z"
   },
   {
    "duration": 23,
    "start_time": "2022-10-02T07:20:51.916Z"
   },
   {
    "duration": 25,
    "start_time": "2022-10-02T07:20:54.158Z"
   },
   {
    "duration": 262,
    "start_time": "2022-10-02T07:20:55.921Z"
   },
   {
    "duration": 5,
    "start_time": "2022-10-02T07:20:58.867Z"
   },
   {
    "duration": 6,
    "start_time": "2022-10-02T07:20:59.644Z"
   },
   {
    "duration": 6,
    "start_time": "2022-10-02T07:20:59.972Z"
   },
   {
    "duration": 5,
    "start_time": "2022-10-02T07:21:01.800Z"
   },
   {
    "duration": 13,
    "start_time": "2022-10-02T07:21:06.148Z"
   },
   {
    "duration": 11,
    "start_time": "2022-10-02T07:21:06.435Z"
   },
   {
    "duration": 21,
    "start_time": "2022-10-02T07:21:07.016Z"
   },
   {
    "duration": 25,
    "start_time": "2022-10-02T07:21:07.954Z"
   },
   {
    "duration": 141,
    "start_time": "2022-10-02T07:29:16.700Z"
   },
   {
    "duration": 11,
    "start_time": "2022-10-02T07:29:36.159Z"
   },
   {
    "duration": 11,
    "start_time": "2022-10-02T07:29:43.316Z"
   },
   {
    "duration": 20,
    "start_time": "2022-10-02T07:29:53.951Z"
   },
   {
    "duration": 4,
    "start_time": "2022-10-02T07:30:07.257Z"
   },
   {
    "duration": 6,
    "start_time": "2022-10-02T07:30:41.932Z"
   },
   {
    "duration": 3,
    "start_time": "2022-10-02T07:30:42.653Z"
   },
   {
    "duration": 3,
    "start_time": "2022-10-02T07:32:47.739Z"
   },
   {
    "duration": 4,
    "start_time": "2022-10-02T07:32:48.363Z"
   },
   {
    "duration": 3,
    "start_time": "2022-10-02T07:33:01.948Z"
   },
   {
    "duration": 5,
    "start_time": "2022-10-02T07:33:02.639Z"
   },
   {
    "duration": 5,
    "start_time": "2022-10-02T07:33:42.606Z"
   },
   {
    "duration": 12,
    "start_time": "2022-10-02T07:39:21.501Z"
   },
   {
    "duration": 10,
    "start_time": "2022-10-02T07:39:32.544Z"
   },
   {
    "duration": 5,
    "start_time": "2022-10-02T07:39:39.879Z"
   },
   {
    "duration": 3,
    "start_time": "2022-10-02T07:39:41.386Z"
   },
   {
    "duration": 4,
    "start_time": "2022-10-02T07:39:51.910Z"
   },
   {
    "duration": 14,
    "start_time": "2022-10-02T07:42:29.441Z"
   },
   {
    "duration": 4,
    "start_time": "2022-10-02T07:42:31.966Z"
   },
   {
    "duration": 3,
    "start_time": "2022-10-02T07:42:33.092Z"
   },
   {
    "duration": 4,
    "start_time": "2022-10-02T07:42:34.377Z"
   },
   {
    "duration": 6,
    "start_time": "2022-10-02T07:53:04.027Z"
   },
   {
    "duration": 6,
    "start_time": "2022-10-02T07:53:46.728Z"
   },
   {
    "duration": 29,
    "start_time": "2022-10-02T07:54:03.611Z"
   },
   {
    "duration": 24,
    "start_time": "2022-10-02T07:54:13.931Z"
   },
   {
    "duration": 6,
    "start_time": "2022-10-02T07:54:56.764Z"
   },
   {
    "duration": 3,
    "start_time": "2022-10-02T07:54:58.457Z"
   },
   {
    "duration": 26,
    "start_time": "2022-10-02T07:54:59.846Z"
   },
   {
    "duration": 4,
    "start_time": "2022-10-02T08:01:56.001Z"
   },
   {
    "duration": 5,
    "start_time": "2022-10-02T08:02:41.166Z"
   },
   {
    "duration": 10,
    "start_time": "2022-10-02T08:02:42.500Z"
   },
   {
    "duration": 15,
    "start_time": "2022-10-02T08:02:51.157Z"
   },
   {
    "duration": 4,
    "start_time": "2022-10-02T08:03:12.521Z"
   },
   {
    "duration": 19,
    "start_time": "2022-10-02T08:03:13.217Z"
   },
   {
    "duration": 5,
    "start_time": "2022-10-02T08:03:41.366Z"
   },
   {
    "duration": 19,
    "start_time": "2022-10-02T08:03:41.970Z"
   },
   {
    "duration": 4,
    "start_time": "2022-10-02T08:04:27.723Z"
   },
   {
    "duration": 17,
    "start_time": "2022-10-02T08:04:28.250Z"
   },
   {
    "duration": 5,
    "start_time": "2022-10-02T08:04:44.528Z"
   },
   {
    "duration": 169,
    "start_time": "2022-10-02T08:04:45.301Z"
   },
   {
    "duration": 4,
    "start_time": "2022-10-02T08:04:54.138Z"
   },
   {
    "duration": 167,
    "start_time": "2022-10-02T08:04:54.668Z"
   },
   {
    "duration": 5,
    "start_time": "2022-10-02T08:05:10.355Z"
   },
   {
    "duration": 498,
    "start_time": "2022-10-02T08:05:10.927Z"
   },
   {
    "duration": 5,
    "start_time": "2022-10-02T08:06:07.443Z"
   },
   {
    "duration": 537,
    "start_time": "2022-10-02T08:06:08.094Z"
   },
   {
    "duration": 4,
    "start_time": "2022-10-02T08:06:31.518Z"
   },
   {
    "duration": 583,
    "start_time": "2022-10-02T08:06:31.894Z"
   },
   {
    "duration": 4,
    "start_time": "2022-10-02T08:07:12.283Z"
   },
   {
    "duration": 475,
    "start_time": "2022-10-02T08:07:12.820Z"
   },
   {
    "duration": 473,
    "start_time": "2022-10-02T08:07:27.800Z"
   },
   {
    "duration": 591,
    "start_time": "2022-10-02T08:11:30.446Z"
   },
   {
    "duration": 517,
    "start_time": "2022-10-02T08:13:54.092Z"
   },
   {
    "duration": 4,
    "start_time": "2022-10-02T08:15:20.236Z"
   },
   {
    "duration": 510,
    "start_time": "2022-10-02T08:15:20.637Z"
   },
   {
    "duration": 6,
    "start_time": "2022-10-02T08:15:49.833Z"
   },
   {
    "duration": 504,
    "start_time": "2022-10-02T08:15:50.297Z"
   },
   {
    "duration": 1016,
    "start_time": "2022-10-02T08:35:31.134Z"
   },
   {
    "duration": 3,
    "start_time": "2022-10-02T08:36:21.176Z"
   },
   {
    "duration": 4,
    "start_time": "2022-10-02T08:36:26.169Z"
   },
   {
    "duration": 7,
    "start_time": "2022-10-02T08:37:05.163Z"
   },
   {
    "duration": 3,
    "start_time": "2022-10-02T08:37:35.001Z"
   },
   {
    "duration": 4,
    "start_time": "2022-10-02T08:37:40.114Z"
   },
   {
    "duration": 5,
    "start_time": "2022-10-02T08:38:16.338Z"
   },
   {
    "duration": 14,
    "start_time": "2022-10-02T08:38:45.276Z"
   },
   {
    "duration": 4,
    "start_time": "2022-10-02T08:39:40.747Z"
   },
   {
    "duration": 5,
    "start_time": "2022-10-02T08:40:03.493Z"
   },
   {
    "duration": 14,
    "start_time": "2022-10-02T08:40:08.409Z"
   },
   {
    "duration": 6,
    "start_time": "2022-10-02T08:43:22.043Z"
   },
   {
    "duration": 16,
    "start_time": "2022-10-02T08:43:22.713Z"
   },
   {
    "duration": 653,
    "start_time": "2022-10-02T08:43:29.336Z"
   },
   {
    "duration": 15,
    "start_time": "2022-10-02T08:44:23.845Z"
   },
   {
    "duration": 14,
    "start_time": "2022-10-02T08:44:45.658Z"
   },
   {
    "duration": 4,
    "start_time": "2022-10-02T08:47:05.314Z"
   },
   {
    "duration": 13,
    "start_time": "2022-10-02T08:47:11.063Z"
   },
   {
    "duration": 5,
    "start_time": "2022-10-02T08:49:26.236Z"
   },
   {
    "duration": 494,
    "start_time": "2022-10-02T08:49:31.185Z"
   },
   {
    "duration": 5,
    "start_time": "2022-10-02T08:57:31.917Z"
   },
   {
    "duration": 544,
    "start_time": "2022-10-02T08:57:33.497Z"
   },
   {
    "duration": 4,
    "start_time": "2022-10-02T08:57:49.700Z"
   },
   {
    "duration": 536,
    "start_time": "2022-10-02T08:57:51.186Z"
   },
   {
    "duration": 944,
    "start_time": "2022-10-02T09:07:16.355Z"
   },
   {
    "duration": 838,
    "start_time": "2022-10-02T09:07:29.865Z"
   },
   {
    "duration": 564,
    "start_time": "2022-10-02T09:07:46.457Z"
   },
   {
    "duration": 1028,
    "start_time": "2022-10-02T09:08:13.687Z"
   },
   {
    "duration": 887,
    "start_time": "2022-10-02T09:08:41.528Z"
   },
   {
    "duration": 1104,
    "start_time": "2022-10-02T09:09:31.268Z"
   },
   {
    "duration": 885,
    "start_time": "2022-10-02T09:09:46.819Z"
   },
   {
    "duration": 959,
    "start_time": "2022-10-02T09:10:23.529Z"
   },
   {
    "duration": 7,
    "start_time": "2022-10-02T09:11:27.980Z"
   },
   {
    "duration": 625,
    "start_time": "2022-10-02T09:11:28.959Z"
   },
   {
    "duration": 5,
    "start_time": "2022-10-02T09:12:27.866Z"
   },
   {
    "duration": 679,
    "start_time": "2022-10-02T09:12:28.584Z"
   },
   {
    "duration": 6,
    "start_time": "2022-10-02T09:12:41.603Z"
   },
   {
    "duration": 701,
    "start_time": "2022-10-02T09:12:42.131Z"
   },
   {
    "duration": 918,
    "start_time": "2022-10-02T09:12:50.409Z"
   },
   {
    "duration": 964,
    "start_time": "2022-10-02T09:13:34.643Z"
   },
   {
    "duration": 792,
    "start_time": "2022-10-02T09:14:50.432Z"
   },
   {
    "duration": 1053,
    "start_time": "2022-10-02T09:16:17.188Z"
   },
   {
    "duration": 867,
    "start_time": "2022-10-02T09:16:54.771Z"
   },
   {
    "duration": 985,
    "start_time": "2022-10-02T09:17:16.199Z"
   },
   {
    "duration": 50,
    "start_time": "2022-10-02T09:18:42.563Z"
   },
   {
    "duration": 5,
    "start_time": "2022-10-02T09:19:56.635Z"
   },
   {
    "duration": 6,
    "start_time": "2022-10-02T09:21:40.822Z"
   },
   {
    "duration": 7,
    "start_time": "2022-10-02T09:21:41.843Z"
   },
   {
    "duration": 754,
    "start_time": "2022-10-02T09:22:36.407Z"
   },
   {
    "duration": 4,
    "start_time": "2022-10-02T09:23:14.765Z"
   },
   {
    "duration": 7,
    "start_time": "2022-10-02T09:23:15.508Z"
   },
   {
    "duration": 6,
    "start_time": "2022-10-02T09:23:16.226Z"
   },
   {
    "duration": 2238,
    "start_time": "2022-10-02T09:23:51.861Z"
   },
   {
    "duration": 1737,
    "start_time": "2022-10-02T09:23:54.101Z"
   },
   {
    "duration": 1712,
    "start_time": "2022-10-02T09:23:55.840Z"
   },
   {
    "duration": 45,
    "start_time": "2022-10-02T09:23:57.554Z"
   },
   {
    "duration": 36,
    "start_time": "2022-10-02T09:23:57.601Z"
   },
   {
    "duration": 26,
    "start_time": "2022-10-02T09:23:57.639Z"
   },
   {
    "duration": 294,
    "start_time": "2022-10-02T09:23:57.667Z"
   },
   {
    "duration": 6,
    "start_time": "2022-10-02T09:23:57.963Z"
   },
   {
    "duration": 21,
    "start_time": "2022-10-02T09:23:57.970Z"
   },
   {
    "duration": 28,
    "start_time": "2022-10-02T09:23:57.994Z"
   },
   {
    "duration": 8,
    "start_time": "2022-10-02T09:23:58.024Z"
   },
   {
    "duration": 33,
    "start_time": "2022-10-02T09:23:58.034Z"
   },
   {
    "duration": 16,
    "start_time": "2022-10-02T09:23:58.070Z"
   },
   {
    "duration": 21,
    "start_time": "2022-10-02T09:23:58.088Z"
   },
   {
    "duration": 26,
    "start_time": "2022-10-02T09:23:58.111Z"
   },
   {
    "duration": 4,
    "start_time": "2022-10-02T09:23:58.139Z"
   },
   {
    "duration": 13,
    "start_time": "2022-10-02T09:23:58.144Z"
   },
   {
    "duration": 28,
    "start_time": "2022-10-02T09:23:58.158Z"
   },
   {
    "duration": 6,
    "start_time": "2022-10-02T09:23:58.188Z"
   },
   {
    "duration": 581,
    "start_time": "2022-10-02T09:23:58.196Z"
   },
   {
    "duration": 889,
    "start_time": "2022-10-02T09:23:58.779Z"
   },
   {
    "duration": 3,
    "start_time": "2022-10-02T09:23:59.670Z"
   },
   {
    "duration": 9,
    "start_time": "2022-10-02T09:23:59.675Z"
   },
   {
    "duration": 14,
    "start_time": "2022-10-02T09:23:59.685Z"
   },
   {
    "duration": 279,
    "start_time": "2022-10-02T09:23:59.701Z"
   },
   {
    "duration": 4,
    "start_time": "2022-10-02T09:23:59.982Z"
   },
   {
    "duration": 41,
    "start_time": "2022-10-02T09:23:59.987Z"
   },
   {
    "duration": 9,
    "start_time": "2022-10-02T09:24:00.031Z"
   },
   {
    "duration": 1039,
    "start_time": "2022-10-02T09:24:00.042Z"
   },
   {
    "duration": 24,
    "start_time": "2022-10-02T09:24:01.083Z"
   },
   {
    "duration": 1026,
    "start_time": "2022-10-02T09:24:01.109Z"
   },
   {
    "duration": 230,
    "start_time": "2022-10-02T09:24:02.137Z"
   },
   {
    "duration": 5,
    "start_time": "2022-10-02T09:24:02.369Z"
   },
   {
    "duration": 20,
    "start_time": "2022-10-02T09:24:02.376Z"
   },
   {
    "duration": 7,
    "start_time": "2022-10-02T09:25:06.765Z"
   },
   {
    "duration": 6,
    "start_time": "2022-10-02T09:25:14.267Z"
   },
   {
    "duration": 5,
    "start_time": "2022-10-02T09:25:40.640Z"
   },
   {
    "duration": 5,
    "start_time": "2022-10-02T09:25:43.669Z"
   },
   {
    "duration": 5,
    "start_time": "2022-10-02T09:26:46.283Z"
   },
   {
    "duration": 7,
    "start_time": "2022-10-02T09:26:49.892Z"
   },
   {
    "duration": 6,
    "start_time": "2022-10-02T09:26:53.638Z"
   },
   {
    "duration": 245,
    "start_time": "2022-10-02T09:29:43.326Z"
   },
   {
    "duration": 398,
    "start_time": "2022-10-02T09:29:51.186Z"
   },
   {
    "duration": 372,
    "start_time": "2022-10-02T09:30:06.164Z"
   },
   {
    "duration": 4,
    "start_time": "2022-10-02T09:30:55.764Z"
   },
   {
    "duration": 248,
    "start_time": "2022-10-02T09:31:57.955Z"
   },
   {
    "duration": 19,
    "start_time": "2022-10-02T09:32:31.287Z"
   },
   {
    "duration": 139,
    "start_time": "2022-10-02T09:32:47.326Z"
   },
   {
    "duration": 248,
    "start_time": "2022-10-02T09:33:09.199Z"
   },
   {
    "duration": 247,
    "start_time": "2022-10-02T09:33:20.541Z"
   },
   {
    "duration": 260,
    "start_time": "2022-10-02T09:33:44.377Z"
   },
   {
    "duration": 264,
    "start_time": "2022-10-02T09:33:51.581Z"
   },
   {
    "duration": 268,
    "start_time": "2022-10-02T09:34:44.640Z"
   },
   {
    "duration": 291,
    "start_time": "2022-10-02T09:36:04.955Z"
   },
   {
    "duration": 290,
    "start_time": "2022-10-02T09:37:17.449Z"
   },
   {
    "duration": 301,
    "start_time": "2022-10-02T09:38:17.541Z"
   },
   {
    "duration": 409,
    "start_time": "2022-10-02T09:40:32.119Z"
   },
   {
    "duration": 4,
    "start_time": "2022-10-02T09:40:38.150Z"
   },
   {
    "duration": 3,
    "start_time": "2022-10-02T09:40:38.211Z"
   },
   {
    "duration": 306,
    "start_time": "2022-10-02T09:40:51.004Z"
   },
   {
    "duration": 4,
    "start_time": "2022-10-02T09:40:55.653Z"
   },
   {
    "duration": 279,
    "start_time": "2022-10-02T09:41:01.560Z"
   },
   {
    "duration": 4,
    "start_time": "2022-10-02T09:41:10.434Z"
   },
   {
    "duration": 5,
    "start_time": "2022-10-02T09:41:12.671Z"
   },
   {
    "duration": 255,
    "start_time": "2022-10-02T09:41:30.715Z"
   },
   {
    "duration": 307,
    "start_time": "2022-10-02T09:41:59.052Z"
   },
   {
    "duration": 261,
    "start_time": "2022-10-02T09:42:16.803Z"
   },
   {
    "duration": 385,
    "start_time": "2022-10-02T09:47:38.914Z"
   },
   {
    "duration": 258,
    "start_time": "2022-10-02T09:48:42.412Z"
   },
   {
    "duration": 287,
    "start_time": "2022-10-02T09:49:29.362Z"
   },
   {
    "duration": 5,
    "start_time": "2022-10-02T09:53:42.149Z"
   },
   {
    "duration": 664,
    "start_time": "2022-10-02T09:53:42.972Z"
   },
   {
    "duration": 4,
    "start_time": "2022-10-02T09:53:53.462Z"
   },
   {
    "duration": 561,
    "start_time": "2022-10-02T09:53:54.132Z"
   },
   {
    "duration": 219,
    "start_time": "2022-10-02T09:55:13.902Z"
   },
   {
    "duration": 277,
    "start_time": "2022-10-02T09:55:27.767Z"
   },
   {
    "duration": 290,
    "start_time": "2022-10-02T09:55:56.561Z"
   },
   {
    "duration": 280,
    "start_time": "2022-10-02T09:56:01.763Z"
   },
   {
    "duration": 223,
    "start_time": "2022-10-02T10:00:25.100Z"
   },
   {
    "duration": 218,
    "start_time": "2022-10-02T10:00:36.565Z"
   },
   {
    "duration": 207,
    "start_time": "2022-10-02T10:00:41.109Z"
   },
   {
    "duration": 368,
    "start_time": "2022-10-02T10:01:17.874Z"
   },
   {
    "duration": 234,
    "start_time": "2022-10-02T10:01:23.612Z"
   },
   {
    "duration": 212,
    "start_time": "2022-10-02T10:01:33.311Z"
   },
   {
    "duration": 215,
    "start_time": "2022-10-02T10:01:46.884Z"
   },
   {
    "duration": 241,
    "start_time": "2022-10-02T10:03:16.050Z"
   },
   {
    "duration": 263,
    "start_time": "2022-10-02T10:03:27.803Z"
   },
   {
    "duration": 203,
    "start_time": "2022-10-02T10:03:31.034Z"
   },
   {
    "duration": 192,
    "start_time": "2022-10-02T10:03:47.410Z"
   },
   {
    "duration": 210,
    "start_time": "2022-10-02T10:03:58.114Z"
   },
   {
    "duration": 212,
    "start_time": "2022-10-02T10:04:18.207Z"
   },
   {
    "duration": 198,
    "start_time": "2022-10-02T10:04:33.241Z"
   },
   {
    "duration": 346,
    "start_time": "2022-10-02T10:05:01.082Z"
   },
   {
    "duration": 204,
    "start_time": "2022-10-02T10:05:38.443Z"
   },
   {
    "duration": 201,
    "start_time": "2022-10-02T10:06:29.842Z"
   },
   {
    "duration": 211,
    "start_time": "2022-10-02T10:06:44.318Z"
   },
   {
    "duration": 880,
    "start_time": "2022-10-02T10:07:37.102Z"
   },
   {
    "duration": 700,
    "start_time": "2022-10-02T10:07:57.507Z"
   },
   {
    "duration": 1007,
    "start_time": "2022-10-02T10:08:03.887Z"
   },
   {
    "duration": 210,
    "start_time": "2022-10-02T10:08:25.971Z"
   },
   {
    "duration": 568,
    "start_time": "2022-10-02T10:09:22.573Z"
   },
   {
    "duration": 597,
    "start_time": "2022-10-02T10:09:29.236Z"
   },
   {
    "duration": 6,
    "start_time": "2022-10-02T10:17:20.727Z"
   },
   {
    "duration": 736,
    "start_time": "2022-10-02T10:17:21.707Z"
   },
   {
    "duration": 502,
    "start_time": "2022-10-02T10:21:43.432Z"
   },
   {
    "duration": 493,
    "start_time": "2022-10-02T10:21:52.956Z"
   },
   {
    "duration": 443,
    "start_time": "2022-10-02T10:22:23.427Z"
   },
   {
    "duration": 1075,
    "start_time": "2022-10-02T10:23:47.033Z"
   },
   {
    "duration": 1219,
    "start_time": "2022-10-02T10:28:01.753Z"
   },
   {
    "duration": 1026,
    "start_time": "2022-10-02T10:29:25.382Z"
   },
   {
    "duration": 1324,
    "start_time": "2022-10-02T10:29:59.076Z"
   },
   {
    "duration": 1046,
    "start_time": "2022-10-02T10:30:12.168Z"
   },
   {
    "duration": 1227,
    "start_time": "2022-10-02T10:33:12.251Z"
   },
   {
    "duration": 1164,
    "start_time": "2022-10-02T10:37:24.862Z"
   },
   {
    "duration": 1023,
    "start_time": "2022-10-02T10:37:49.308Z"
   },
   {
    "duration": 931,
    "start_time": "2022-10-02T10:38:08.267Z"
   },
   {
    "duration": 1318,
    "start_time": "2022-10-02T10:39:15.790Z"
   },
   {
    "duration": 1112,
    "start_time": "2022-10-02T10:39:21.054Z"
   },
   {
    "duration": 1132,
    "start_time": "2022-10-02T10:41:18.982Z"
   },
   {
    "duration": 165,
    "start_time": "2022-10-02T10:47:41.502Z"
   },
   {
    "duration": 1226,
    "start_time": "2022-10-02T10:49:22.150Z"
   },
   {
    "duration": 29,
    "start_time": "2022-10-02T10:49:38.858Z"
   },
   {
    "duration": 1066,
    "start_time": "2022-10-02T10:51:08.143Z"
   },
   {
    "duration": 1223,
    "start_time": "2022-10-02T10:51:30.315Z"
   },
   {
    "duration": 1018,
    "start_time": "2022-10-02T10:56:31.580Z"
   },
   {
    "duration": 1004,
    "start_time": "2022-10-02T10:57:03.686Z"
   },
   {
    "duration": 1196,
    "start_time": "2022-10-02T10:57:30.200Z"
   },
   {
    "duration": 976,
    "start_time": "2022-10-02T10:57:42.829Z"
   },
   {
    "duration": 995,
    "start_time": "2022-10-02T10:57:52.100Z"
   },
   {
    "duration": 1124,
    "start_time": "2022-10-02T10:58:01.096Z"
   },
   {
    "duration": 974,
    "start_time": "2022-10-02T10:58:13.328Z"
   },
   {
    "duration": 1063,
    "start_time": "2022-10-02T10:59:57.045Z"
   },
   {
    "duration": 1197,
    "start_time": "2022-10-02T11:00:33.725Z"
   },
   {
    "duration": 298,
    "start_time": "2022-10-02T11:01:42.737Z"
   },
   {
    "duration": 400,
    "start_time": "2022-10-02T11:02:17.373Z"
   },
   {
    "duration": 200,
    "start_time": "2022-10-02T11:04:20.944Z"
   },
   {
    "duration": 193,
    "start_time": "2022-10-02T11:05:03.759Z"
   },
   {
    "duration": 495,
    "start_time": "2022-10-02T11:05:39.495Z"
   },
   {
    "duration": 462,
    "start_time": "2022-10-02T11:06:14.651Z"
   },
   {
    "duration": 47,
    "start_time": "2022-10-02T11:06:56.704Z"
   },
   {
    "duration": 1232,
    "start_time": "2022-10-02T11:09:25.869Z"
   },
   {
    "duration": 295,
    "start_time": "2022-10-02T11:10:34.184Z"
   },
   {
    "duration": 52,
    "start_time": "2022-10-02T11:10:40.760Z"
   },
   {
    "duration": 600,
    "start_time": "2022-10-02T11:10:45.205Z"
   },
   {
    "duration": 1030,
    "start_time": "2022-10-02T11:10:55.269Z"
   },
   {
    "duration": 1099,
    "start_time": "2022-10-02T11:12:40.099Z"
   },
   {
    "duration": 1042,
    "start_time": "2022-10-02T11:16:00.786Z"
   },
   {
    "duration": 937,
    "start_time": "2022-10-02T11:16:14.359Z"
   },
   {
    "duration": 1222,
    "start_time": "2022-10-02T11:16:33.971Z"
   },
   {
    "duration": 1179,
    "start_time": "2022-10-02T11:19:45.399Z"
   },
   {
    "duration": 86,
    "start_time": "2022-10-02T11:20:11.782Z"
   },
   {
    "duration": 1400,
    "start_time": "2022-10-02T11:20:14.049Z"
   },
   {
    "duration": 82,
    "start_time": "2022-10-02T11:20:34.075Z"
   },
   {
    "duration": 1134,
    "start_time": "2022-10-02T11:20:42.579Z"
   },
   {
    "duration": 1246,
    "start_time": "2022-10-02T11:20:59.322Z"
   },
   {
    "duration": 1293,
    "start_time": "2022-10-02T11:21:21.904Z"
   },
   {
    "duration": 1189,
    "start_time": "2022-10-02T11:21:39.051Z"
   },
   {
    "duration": 1177,
    "start_time": "2022-10-02T11:21:46.588Z"
   },
   {
    "duration": 1221,
    "start_time": "2022-10-02T11:24:07.295Z"
   },
   {
    "duration": 949,
    "start_time": "2022-10-02T11:24:42.402Z"
   },
   {
    "duration": 958,
    "start_time": "2022-10-02T11:29:00.387Z"
   },
   {
    "duration": 243,
    "start_time": "2022-10-02T11:29:11.486Z"
   },
   {
    "duration": 1080,
    "start_time": "2022-10-02T11:29:19.025Z"
   },
   {
    "duration": 1228,
    "start_time": "2022-10-02T11:34:12.532Z"
   },
   {
    "duration": 19,
    "start_time": "2022-10-02T11:35:53.614Z"
   },
   {
    "duration": 1274,
    "start_time": "2022-10-02T11:36:04.844Z"
   },
   {
    "duration": 1540,
    "start_time": "2022-10-02T11:36:13.191Z"
   },
   {
    "duration": 1205,
    "start_time": "2022-10-02T11:39:55.469Z"
   },
   {
    "duration": 1398,
    "start_time": "2022-10-02T11:42:25.943Z"
   },
   {
    "duration": 291,
    "start_time": "2022-10-02T11:42:38.299Z"
   },
   {
    "duration": 1211,
    "start_time": "2022-10-02T11:42:53.526Z"
   },
   {
    "duration": 23,
    "start_time": "2022-10-02T11:43:13.693Z"
   },
   {
    "duration": 1149,
    "start_time": "2022-10-02T11:43:34.033Z"
   },
   {
    "duration": 27,
    "start_time": "2022-10-02T11:44:02.057Z"
   },
   {
    "duration": 1005,
    "start_time": "2022-10-02T11:44:06.440Z"
   },
   {
    "duration": 934,
    "start_time": "2022-10-02T11:44:15.254Z"
   },
   {
    "duration": 1174,
    "start_time": "2022-10-02T11:44:21.622Z"
   },
   {
    "duration": 1086,
    "start_time": "2022-10-02T11:44:58.352Z"
   },
   {
    "duration": 1055,
    "start_time": "2022-10-02T11:45:11.133Z"
   },
   {
    "duration": 1225,
    "start_time": "2022-10-02T11:45:23.712Z"
   },
   {
    "duration": 1083,
    "start_time": "2022-10-02T11:46:46.566Z"
   },
   {
    "duration": 411,
    "start_time": "2022-10-02T11:47:27.368Z"
   },
   {
    "duration": 1212,
    "start_time": "2022-10-02T11:48:20.404Z"
   },
   {
    "duration": 1108,
    "start_time": "2022-10-02T11:48:43.412Z"
   },
   {
    "duration": 977,
    "start_time": "2022-10-02T11:49:26.155Z"
   },
   {
    "duration": 1259,
    "start_time": "2022-10-02T11:49:35.465Z"
   },
   {
    "duration": 955,
    "start_time": "2022-10-02T11:49:49.751Z"
   },
   {
    "duration": 57,
    "start_time": "2022-10-02T11:50:41.380Z"
   },
   {
    "duration": 361,
    "start_time": "2022-10-02T11:51:02.746Z"
   },
   {
    "duration": 1218,
    "start_time": "2022-10-02T11:51:28.644Z"
   },
   {
    "duration": 1242,
    "start_time": "2022-10-02T11:52:07.445Z"
   },
   {
    "duration": 1534,
    "start_time": "2022-10-02T11:54:18.166Z"
   },
   {
    "duration": 1435,
    "start_time": "2022-10-02T11:54:24.833Z"
   },
   {
    "duration": 1360,
    "start_time": "2022-10-02T11:56:11.614Z"
   },
   {
    "duration": 1301,
    "start_time": "2022-10-02T11:57:16.341Z"
   },
   {
    "duration": 5,
    "start_time": "2022-10-02T11:58:20.373Z"
   },
   {
    "duration": 7,
    "start_time": "2022-10-02T11:58:21.200Z"
   },
   {
    "duration": 7,
    "start_time": "2022-10-02T11:58:21.750Z"
   },
   {
    "duration": 1421,
    "start_time": "2022-10-02T11:59:15.635Z"
   },
   {
    "duration": 1243,
    "start_time": "2022-10-02T12:03:45.142Z"
   },
   {
    "duration": 4,
    "start_time": "2022-10-02T12:06:52.649Z"
   },
   {
    "duration": 29,
    "start_time": "2022-10-02T12:07:00.327Z"
   },
   {
    "duration": 2394,
    "start_time": "2022-10-02T12:07:18.555Z"
   },
   {
    "duration": 1787,
    "start_time": "2022-10-02T12:07:20.951Z"
   },
   {
    "duration": 1950,
    "start_time": "2022-10-02T12:07:22.740Z"
   },
   {
    "duration": 54,
    "start_time": "2022-10-02T12:07:24.693Z"
   },
   {
    "duration": 28,
    "start_time": "2022-10-02T12:07:24.750Z"
   },
   {
    "duration": 55,
    "start_time": "2022-10-02T12:07:24.780Z"
   },
   {
    "duration": 276,
    "start_time": "2022-10-02T12:07:24.837Z"
   },
   {
    "duration": 7,
    "start_time": "2022-10-02T12:07:25.115Z"
   },
   {
    "duration": 8,
    "start_time": "2022-10-02T12:07:25.124Z"
   },
   {
    "duration": 7,
    "start_time": "2022-10-02T12:07:25.134Z"
   },
   {
    "duration": 7,
    "start_time": "2022-10-02T12:07:25.142Z"
   },
   {
    "duration": 23,
    "start_time": "2022-10-02T12:07:25.150Z"
   },
   {
    "duration": 45,
    "start_time": "2022-10-02T12:07:25.176Z"
   },
   {
    "duration": 26,
    "start_time": "2022-10-02T12:07:25.223Z"
   },
   {
    "duration": 29,
    "start_time": "2022-10-02T12:07:25.252Z"
   },
   {
    "duration": 5,
    "start_time": "2022-10-02T12:07:25.283Z"
   },
   {
    "duration": 6,
    "start_time": "2022-10-02T12:07:25.290Z"
   },
   {
    "duration": 20,
    "start_time": "2022-10-02T12:07:25.320Z"
   },
   {
    "duration": 18,
    "start_time": "2022-10-02T12:07:25.341Z"
   },
   {
    "duration": 600,
    "start_time": "2022-10-02T12:07:25.361Z"
   },
   {
    "duration": 1263,
    "start_time": "2022-10-02T12:07:25.962Z"
   },
   {
    "duration": 3,
    "start_time": "2022-10-02T12:07:27.227Z"
   },
   {
    "duration": 147,
    "start_time": "2022-10-02T12:07:27.232Z"
   },
   {
    "duration": 0,
    "start_time": "2022-10-02T12:07:27.381Z"
   },
   {
    "duration": 0,
    "start_time": "2022-10-02T12:07:27.382Z"
   },
   {
    "duration": 0,
    "start_time": "2022-10-02T12:07:27.384Z"
   },
   {
    "duration": 0,
    "start_time": "2022-10-02T12:07:27.386Z"
   },
   {
    "duration": 0,
    "start_time": "2022-10-02T12:07:27.387Z"
   },
   {
    "duration": 0,
    "start_time": "2022-10-02T12:07:27.389Z"
   },
   {
    "duration": 0,
    "start_time": "2022-10-02T12:07:27.391Z"
   },
   {
    "duration": 0,
    "start_time": "2022-10-02T12:07:27.392Z"
   },
   {
    "duration": 0,
    "start_time": "2022-10-02T12:07:27.420Z"
   },
   {
    "duration": 0,
    "start_time": "2022-10-02T12:07:27.422Z"
   },
   {
    "duration": 5,
    "start_time": "2022-10-02T12:07:49.027Z"
   },
   {
    "duration": 6,
    "start_time": "2022-10-02T12:07:49.617Z"
   },
   {
    "duration": 6,
    "start_time": "2022-10-02T12:07:50.203Z"
   },
   {
    "duration": 4,
    "start_time": "2022-10-02T12:07:54.757Z"
   },
   {
    "duration": 29,
    "start_time": "2022-10-02T12:07:56.073Z"
   },
   {
    "duration": 9,
    "start_time": "2022-10-02T12:10:00.597Z"
   },
   {
    "duration": 870,
    "start_time": "2022-10-02T12:10:01.952Z"
   },
   {
    "duration": 7,
    "start_time": "2022-10-02T12:10:40.091Z"
   },
   {
    "duration": 889,
    "start_time": "2022-10-02T12:10:41.656Z"
   },
   {
    "duration": 6,
    "start_time": "2022-10-02T12:13:39.555Z"
   },
   {
    "duration": 293,
    "start_time": "2022-10-02T12:13:40.296Z"
   },
   {
    "duration": 740,
    "start_time": "2022-10-02T12:15:57.624Z"
   },
   {
    "duration": 7,
    "start_time": "2022-10-02T12:16:07.309Z"
   },
   {
    "duration": 9,
    "start_time": "2022-10-02T12:17:36.803Z"
   },
   {
    "duration": 6,
    "start_time": "2022-10-02T12:21:45.762Z"
   },
   {
    "duration": 323,
    "start_time": "2022-10-02T12:21:46.280Z"
   },
   {
    "duration": 6,
    "start_time": "2022-10-02T12:22:20.419Z"
   },
   {
    "duration": 311,
    "start_time": "2022-10-02T12:22:21.246Z"
   },
   {
    "duration": 8,
    "start_time": "2022-10-02T12:24:06.340Z"
   },
   {
    "duration": 483,
    "start_time": "2022-10-02T12:24:08.432Z"
   },
   {
    "duration": 170,
    "start_time": "2022-10-02T12:25:34.916Z"
   },
   {
    "duration": 8,
    "start_time": "2022-10-02T12:26:06.861Z"
   },
   {
    "duration": 4,
    "start_time": "2022-10-02T12:26:25.248Z"
   },
   {
    "duration": 20,
    "start_time": "2022-10-02T12:27:39.542Z"
   },
   {
    "duration": 16,
    "start_time": "2022-10-02T14:04:49.110Z"
   },
   {
    "duration": 8,
    "start_time": "2022-10-02T14:05:02.645Z"
   },
   {
    "duration": 24,
    "start_time": "2022-10-02T14:05:12.743Z"
   },
   {
    "duration": 18,
    "start_time": "2022-10-02T14:12:30.573Z"
   },
   {
    "duration": 18,
    "start_time": "2022-10-02T14:13:03.455Z"
   },
   {
    "duration": 23,
    "start_time": "2022-10-02T14:15:31.748Z"
   },
   {
    "duration": 5,
    "start_time": "2022-10-02T14:15:42.456Z"
   },
   {
    "duration": 5,
    "start_time": "2022-10-02T14:15:48.610Z"
   },
   {
    "duration": 14,
    "start_time": "2022-10-02T14:16:02.272Z"
   },
   {
    "duration": 16,
    "start_time": "2022-10-02T14:16:04.816Z"
   },
   {
    "duration": 6,
    "start_time": "2022-10-02T14:16:08.290Z"
   },
   {
    "duration": 36,
    "start_time": "2022-10-02T14:18:48.116Z"
   },
   {
    "duration": 266,
    "start_time": "2022-10-02T14:19:08.988Z"
   },
   {
    "duration": 28,
    "start_time": "2022-10-02T14:34:43.746Z"
   },
   {
    "duration": 2372,
    "start_time": "2022-10-02T14:35:31.926Z"
   },
   {
    "duration": 1785,
    "start_time": "2022-10-02T14:35:34.301Z"
   },
   {
    "duration": 1988,
    "start_time": "2022-10-02T14:35:36.088Z"
   },
   {
    "duration": 69,
    "start_time": "2022-10-02T14:35:38.079Z"
   },
   {
    "duration": 28,
    "start_time": "2022-10-02T14:35:38.150Z"
   },
   {
    "duration": 52,
    "start_time": "2022-10-02T14:35:38.180Z"
   },
   {
    "duration": 288,
    "start_time": "2022-10-02T14:35:38.233Z"
   },
   {
    "duration": 5,
    "start_time": "2022-10-02T14:35:38.524Z"
   },
   {
    "duration": 8,
    "start_time": "2022-10-02T14:35:38.531Z"
   },
   {
    "duration": 7,
    "start_time": "2022-10-02T14:35:38.542Z"
   },
   {
    "duration": 6,
    "start_time": "2022-10-02T14:35:38.551Z"
   },
   {
    "duration": 24,
    "start_time": "2022-10-02T14:35:38.559Z"
   },
   {
    "duration": 41,
    "start_time": "2022-10-02T14:35:38.585Z"
   },
   {
    "duration": 26,
    "start_time": "2022-10-02T14:35:38.628Z"
   },
   {
    "duration": 26,
    "start_time": "2022-10-02T14:35:38.656Z"
   },
   {
    "duration": 4,
    "start_time": "2022-10-02T14:35:38.684Z"
   },
   {
    "duration": 7,
    "start_time": "2022-10-02T14:35:38.725Z"
   },
   {
    "duration": 31,
    "start_time": "2022-10-02T14:35:38.735Z"
   },
   {
    "duration": 10,
    "start_time": "2022-10-02T14:35:38.768Z"
   },
   {
    "duration": 677,
    "start_time": "2022-10-02T14:35:38.779Z"
   },
   {
    "duration": 1249,
    "start_time": "2022-10-02T14:35:39.458Z"
   },
   {
    "duration": 10,
    "start_time": "2022-10-02T14:35:40.710Z"
   },
   {
    "duration": 7,
    "start_time": "2022-10-02T14:35:40.722Z"
   },
   {
    "duration": 15,
    "start_time": "2022-10-02T14:35:40.730Z"
   },
   {
    "duration": 5,
    "start_time": "2022-10-02T14:35:40.747Z"
   },
   {
    "duration": 29,
    "start_time": "2022-10-02T14:35:40.753Z"
   },
   {
    "duration": 5,
    "start_time": "2022-10-02T14:35:40.784Z"
   },
   {
    "duration": 412,
    "start_time": "2022-10-02T14:35:40.820Z"
   },
   {
    "duration": 40,
    "start_time": "2022-10-02T14:35:41.234Z"
   },
   {
    "duration": 277,
    "start_time": "2022-10-02T14:35:41.276Z"
   },
   {
    "duration": 4,
    "start_time": "2022-10-02T14:35:41.555Z"
   },
   {
    "duration": 11,
    "start_time": "2022-10-02T14:35:41.561Z"
   },
   {
    "duration": 15,
    "start_time": "2022-10-02T14:36:04.713Z"
   },
   {
    "duration": 16,
    "start_time": "2022-10-02T14:36:24.990Z"
   },
   {
    "duration": 2274,
    "start_time": "2022-10-02T14:36:42.386Z"
   },
   {
    "duration": 2183,
    "start_time": "2022-10-02T14:36:44.663Z"
   },
   {
    "duration": 1364,
    "start_time": "2022-10-02T14:36:46.848Z"
   },
   {
    "duration": 50,
    "start_time": "2022-10-02T14:36:48.215Z"
   },
   {
    "duration": 25,
    "start_time": "2022-10-02T14:36:48.267Z"
   },
   {
    "duration": 40,
    "start_time": "2022-10-02T14:36:48.320Z"
   },
   {
    "duration": 285,
    "start_time": "2022-10-02T14:36:48.362Z"
   },
   {
    "duration": 4,
    "start_time": "2022-10-02T14:36:48.649Z"
   },
   {
    "duration": 7,
    "start_time": "2022-10-02T14:36:48.656Z"
   },
   {
    "duration": 19,
    "start_time": "2022-10-02T14:36:48.665Z"
   },
   {
    "duration": 7,
    "start_time": "2022-10-02T14:36:48.685Z"
   },
   {
    "duration": 33,
    "start_time": "2022-10-02T14:36:48.694Z"
   },
   {
    "duration": 21,
    "start_time": "2022-10-02T14:36:48.729Z"
   },
   {
    "duration": 21,
    "start_time": "2022-10-02T14:36:48.752Z"
   },
   {
    "duration": 36,
    "start_time": "2022-10-02T14:36:48.775Z"
   },
   {
    "duration": 7,
    "start_time": "2022-10-02T14:36:48.815Z"
   },
   {
    "duration": 9,
    "start_time": "2022-10-02T14:36:48.824Z"
   },
   {
    "duration": 41,
    "start_time": "2022-10-02T14:36:48.835Z"
   },
   {
    "duration": 12,
    "start_time": "2022-10-02T14:36:48.878Z"
   },
   {
    "duration": 712,
    "start_time": "2022-10-02T14:36:48.892Z"
   },
   {
    "duration": 1332,
    "start_time": "2022-10-02T14:36:49.606Z"
   },
   {
    "duration": 3,
    "start_time": "2022-10-02T14:36:50.941Z"
   },
   {
    "duration": 13,
    "start_time": "2022-10-02T14:36:50.946Z"
   },
   {
    "duration": 14,
    "start_time": "2022-10-02T14:36:50.961Z"
   },
   {
    "duration": 11,
    "start_time": "2022-10-02T14:36:50.976Z"
   },
   {
    "duration": 50,
    "start_time": "2022-10-02T14:36:50.989Z"
   },
   {
    "duration": 7,
    "start_time": "2022-10-02T14:36:51.042Z"
   },
   {
    "duration": 425,
    "start_time": "2022-10-02T14:36:51.053Z"
   },
   {
    "duration": 43,
    "start_time": "2022-10-02T14:36:51.479Z"
   },
   {
    "duration": 197,
    "start_time": "2022-10-02T14:36:51.524Z"
   },
   {
    "duration": 4,
    "start_time": "2022-10-02T14:36:51.723Z"
   },
   {
    "duration": 7,
    "start_time": "2022-10-02T14:36:51.729Z"
   },
   {
    "duration": 5,
    "start_time": "2022-10-02T14:47:03.822Z"
   },
   {
    "duration": 136,
    "start_time": "2022-10-02T15:38:46.622Z"
   },
   {
    "duration": 424,
    "start_time": "2022-10-02T15:38:58.530Z"
   },
   {
    "duration": 15,
    "start_time": "2022-10-02T15:40:14.363Z"
   },
   {
    "duration": 38,
    "start_time": "2022-10-02T15:40:43.257Z"
   },
   {
    "duration": 2384,
    "start_time": "2022-10-02T15:41:03.219Z"
   },
   {
    "duration": 1801,
    "start_time": "2022-10-02T15:41:05.605Z"
   },
   {
    "duration": 1391,
    "start_time": "2022-10-02T15:41:07.409Z"
   },
   {
    "duration": 68,
    "start_time": "2022-10-02T15:41:08.802Z"
   },
   {
    "duration": 33,
    "start_time": "2022-10-02T15:41:08.875Z"
   },
   {
    "duration": 51,
    "start_time": "2022-10-02T15:41:08.910Z"
   },
   {
    "duration": 368,
    "start_time": "2022-10-02T15:41:08.963Z"
   },
   {
    "duration": 4,
    "start_time": "2022-10-02T15:41:09.333Z"
   },
   {
    "duration": 14,
    "start_time": "2022-10-02T15:41:09.339Z"
   },
   {
    "duration": 18,
    "start_time": "2022-10-02T15:41:09.355Z"
   },
   {
    "duration": 9,
    "start_time": "2022-10-02T15:41:09.375Z"
   },
   {
    "duration": 15,
    "start_time": "2022-10-02T15:41:09.386Z"
   },
   {
    "duration": 28,
    "start_time": "2022-10-02T15:41:09.403Z"
   },
   {
    "duration": 22,
    "start_time": "2022-10-02T15:41:09.434Z"
   },
   {
    "duration": 24,
    "start_time": "2022-10-02T15:41:09.458Z"
   },
   {
    "duration": 4,
    "start_time": "2022-10-02T15:41:09.484Z"
   },
   {
    "duration": 7,
    "start_time": "2022-10-02T15:41:09.490Z"
   },
   {
    "duration": 20,
    "start_time": "2022-10-02T15:41:09.520Z"
   },
   {
    "duration": 8,
    "start_time": "2022-10-02T15:41:09.542Z"
   },
   {
    "duration": 598,
    "start_time": "2022-10-02T15:41:09.552Z"
   },
   {
    "duration": 1337,
    "start_time": "2022-10-02T15:41:10.152Z"
   },
   {
    "duration": 5,
    "start_time": "2022-10-02T15:41:11.492Z"
   },
   {
    "duration": 37,
    "start_time": "2022-10-02T15:41:11.500Z"
   },
   {
    "duration": 41,
    "start_time": "2022-10-02T15:41:11.539Z"
   },
   {
    "duration": 35,
    "start_time": "2022-10-02T15:41:11.583Z"
   },
   {
    "duration": 61,
    "start_time": "2022-10-02T15:41:11.620Z"
   },
   {
    "duration": 32,
    "start_time": "2022-10-02T15:41:11.684Z"
   },
   {
    "duration": 511,
    "start_time": "2022-10-02T15:41:11.718Z"
   },
   {
    "duration": 35,
    "start_time": "2022-10-02T15:41:12.231Z"
   },
   {
    "duration": 270,
    "start_time": "2022-10-02T15:41:12.268Z"
   },
   {
    "duration": 3,
    "start_time": "2022-10-02T15:41:12.541Z"
   },
   {
    "duration": 43,
    "start_time": "2022-10-02T15:41:12.547Z"
   },
   {
    "duration": 269,
    "start_time": "2022-10-02T15:41:12.592Z"
   },
   {
    "duration": 0,
    "start_time": "2022-10-02T15:41:12.864Z"
   },
   {
    "duration": 5,
    "start_time": "2022-10-02T15:41:27.449Z"
   },
   {
    "duration": 18,
    "start_time": "2022-10-02T15:41:29.441Z"
   },
   {
    "duration": 4,
    "start_time": "2022-10-02T15:41:48.553Z"
   },
   {
    "duration": 5,
    "start_time": "2022-10-02T15:41:58.822Z"
   },
   {
    "duration": 14,
    "start_time": "2022-10-02T15:43:24.436Z"
   },
   {
    "duration": 4,
    "start_time": "2022-10-02T15:51:42.789Z"
   },
   {
    "duration": 4,
    "start_time": "2022-10-02T15:51:49.050Z"
   },
   {
    "duration": 20,
    "start_time": "2022-10-02T15:52:34.986Z"
   },
   {
    "duration": 50,
    "start_time": "2022-10-02T16:02:43.567Z"
   },
   {
    "duration": 12,
    "start_time": "2022-10-02T16:03:08.697Z"
   },
   {
    "duration": 0,
    "start_time": "2022-10-02T16:04:21.226Z"
   },
   {
    "duration": 13761,
    "start_time": "2022-10-03T19:06:17.258Z"
   },
   {
    "duration": 2155,
    "start_time": "2022-10-03T19:06:31.021Z"
   },
   {
    "duration": 2049,
    "start_time": "2022-10-03T19:06:33.177Z"
   },
   {
    "duration": 37,
    "start_time": "2022-10-03T19:06:35.228Z"
   },
   {
    "duration": 17,
    "start_time": "2022-10-03T19:06:35.267Z"
   },
   {
    "duration": 41,
    "start_time": "2022-10-03T19:06:35.285Z"
   },
   {
    "duration": 225,
    "start_time": "2022-10-03T19:06:35.327Z"
   },
   {
    "duration": 4,
    "start_time": "2022-10-03T19:06:35.554Z"
   },
   {
    "duration": 7,
    "start_time": "2022-10-03T19:06:35.559Z"
   },
   {
    "duration": 12,
    "start_time": "2022-10-03T19:06:35.568Z"
   },
   {
    "duration": 5,
    "start_time": "2022-10-03T19:06:35.581Z"
   },
   {
    "duration": 2014,
    "start_time": "2022-10-03T19:24:01.810Z"
   },
   {
    "duration": 2115,
    "start_time": "2022-10-03T19:24:03.826Z"
   },
   {
    "duration": 2159,
    "start_time": "2022-10-03T19:24:05.942Z"
   },
   {
    "duration": 47,
    "start_time": "2022-10-03T19:24:08.103Z"
   },
   {
    "duration": 18,
    "start_time": "2022-10-03T19:24:08.151Z"
   },
   {
    "duration": 21,
    "start_time": "2022-10-03T19:24:08.170Z"
   },
   {
    "duration": 233,
    "start_time": "2022-10-03T19:24:08.193Z"
   },
   {
    "duration": 5,
    "start_time": "2022-10-03T19:24:08.428Z"
   },
   {
    "duration": 5,
    "start_time": "2022-10-03T19:24:08.434Z"
   },
   {
    "duration": 8,
    "start_time": "2022-10-03T19:24:08.441Z"
   },
   {
    "duration": 7,
    "start_time": "2022-10-03T19:24:08.451Z"
   },
   {
    "duration": 13,
    "start_time": "2022-10-03T19:24:08.459Z"
   },
   {
    "duration": 10,
    "start_time": "2022-10-03T19:24:08.473Z"
   },
   {
    "duration": 39,
    "start_time": "2022-10-03T19:24:08.485Z"
   },
   {
    "duration": 19,
    "start_time": "2022-10-03T19:24:08.525Z"
   },
   {
    "duration": 3,
    "start_time": "2022-10-03T19:24:08.546Z"
   },
   {
    "duration": 6,
    "start_time": "2022-10-03T19:24:08.550Z"
   },
   {
    "duration": 26,
    "start_time": "2022-10-03T19:24:08.557Z"
   },
   {
    "duration": 6,
    "start_time": "2022-10-03T19:24:08.584Z"
   },
   {
    "duration": 462,
    "start_time": "2022-10-03T19:24:08.591Z"
   },
   {
    "duration": 1021,
    "start_time": "2022-10-03T19:24:09.054Z"
   },
   {
    "duration": 3,
    "start_time": "2022-10-03T19:24:10.077Z"
   },
   {
    "duration": 21,
    "start_time": "2022-10-03T19:24:10.081Z"
   },
   {
    "duration": 20,
    "start_time": "2022-10-03T19:24:10.104Z"
   },
   {
    "duration": 3,
    "start_time": "2022-10-03T19:24:10.126Z"
   },
   {
    "duration": 30,
    "start_time": "2022-10-03T19:24:10.131Z"
   },
   {
    "duration": 4,
    "start_time": "2022-10-03T19:24:10.163Z"
   },
   {
    "duration": 350,
    "start_time": "2022-10-03T19:24:10.171Z"
   },
   {
    "duration": 27,
    "start_time": "2022-10-03T19:24:10.523Z"
   },
   {
    "duration": 171,
    "start_time": "2022-10-03T19:24:10.551Z"
   },
   {
    "duration": 4,
    "start_time": "2022-10-03T19:24:10.723Z"
   },
   {
    "duration": 19,
    "start_time": "2022-10-03T19:24:10.728Z"
   },
   {
    "duration": 19,
    "start_time": "2022-10-03T19:24:10.749Z"
   },
   {
    "duration": 10,
    "start_time": "2022-10-03T19:28:07.467Z"
   },
   {
    "duration": 11,
    "start_time": "2022-10-03T19:28:22.576Z"
   }
  ],
  "kernelspec": {
   "display_name": "Python 3 (ipykernel)",
   "language": "python",
   "name": "python3"
  },
  "language_info": {
   "codemirror_mode": {
    "name": "ipython",
    "version": 3
   },
   "file_extension": ".py",
   "mimetype": "text/x-python",
   "name": "python",
   "nbconvert_exporter": "python",
   "pygments_lexer": "ipython3",
   "version": "3.9.12"
  },
  "toc": {
   "base_numbering": 1,
   "nav_menu": {},
   "number_sections": true,
   "sideBar": true,
   "skip_h1_title": true,
   "title_cell": "Table of Contents",
   "title_sidebar": "Contents",
   "toc_cell": true,
   "toc_position": {
    "height": "calc(100% - 180px)",
    "left": "10px",
    "top": "150px",
    "width": "341.458px"
   },
   "toc_section_display": true,
   "toc_window_display": false
  },
  "vscode": {
   "interpreter": {
    "hash": "e42901d9492c612649bfe5bc45fcd722e20e946cf8622850b2a92552b6453078"
   }
  }
 },
 "nbformat": 4,
 "nbformat_minor": 2
}
