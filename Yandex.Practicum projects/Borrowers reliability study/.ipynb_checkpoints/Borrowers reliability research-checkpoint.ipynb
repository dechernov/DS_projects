{
 "cells": [
  {
   "cell_type": "markdown",
   "id": "d5afc3f4",
   "metadata": {
    "toc": true
   },
   "source": [
    "<h1>Table of Contents<span class=\"tocSkip\"></span></h1>\n",
    "<div class=\"toc\"><ul class=\"toc-item\"><li><span><a href=\"#Project-description\" data-toc-modified-id=\"Project-description-1\"><span class=\"toc-item-num\">1&nbsp;&nbsp;</span>Project description</a></span></li><li><span><a href=\"#Data-description\" data-toc-modified-id=\"Data-description-2\"><span class=\"toc-item-num\">2&nbsp;&nbsp;</span>Data description</a></span></li><li><span><a href=\"#Dataset-reading-and-pre-processing\" data-toc-modified-id=\"Dataset-reading-and-pre-processing-3\"><span class=\"toc-item-num\">3&nbsp;&nbsp;</span>Dataset reading and pre-processing</a></span><ul class=\"toc-item\"><li><span><a href=\"#Imputing-missing-values\" data-toc-modified-id=\"Imputing-missing-values-3.1\"><span class=\"toc-item-num\">3.1&nbsp;&nbsp;</span>Imputing missing values</a></span></li><li><span><a href=\"#Checking-data-for-anomalies\" data-toc-modified-id=\"Checking-data-for-anomalies-3.2\"><span class=\"toc-item-num\">3.2&nbsp;&nbsp;</span>Checking data for anomalies</a></span></li><li><span><a href=\"#Changing-columns-types\" data-toc-modified-id=\"Changing-columns-types-3.3\"><span class=\"toc-item-num\">3.3&nbsp;&nbsp;</span>Changing columns types</a></span></li><li><span><a href=\"#Deleting-duplicates\" data-toc-modified-id=\"Deleting-duplicates-3.4\"><span class=\"toc-item-num\">3.4&nbsp;&nbsp;</span>Deleting duplicates</a></span></li><li><span><a href=\"#Creation-of-additional-dictionaries,-decomposition-of-the-original-dataframe\" data-toc-modified-id=\"Creation-of-additional-dictionaries,-decomposition-of-the-original-dataframe-3.5\"><span class=\"toc-item-num\">3.5&nbsp;&nbsp;</span>Creation of additional dictionaries, decomposition of the original dataframe</a></span></li><li><span><a href=\"#Income-categorization\" data-toc-modified-id=\"Income-categorization-3.6\"><span class=\"toc-item-num\">3.6&nbsp;&nbsp;</span>Income categorization</a></span></li><li><span><a href=\"#Loan-purpose-categorization\" data-toc-modified-id=\"Loan-purpose-categorization-3.7\"><span class=\"toc-item-num\">3.7&nbsp;&nbsp;</span>Loan purpose categorization</a></span></li></ul></li><li><span><a href=\"#Answering-questions\" data-toc-modified-id=\"Answering-questions-4\"><span class=\"toc-item-num\">4&nbsp;&nbsp;</span>Answering questions</a></span><ul class=\"toc-item\"><li><span><a href=\"#Question-1:--Is-there-a-correlation-between-the-number-of-children-and-on-time-loan-repayment?\" data-toc-modified-id=\"Question-1:--Is-there-a-correlation-between-the-number-of-children-and-on-time-loan-repayment?-4.1\"><span class=\"toc-item-num\">4.1&nbsp;&nbsp;</span>Question 1:  Is there a correlation between the number of children and on-time loan repayment?</a></span></li><li><span><a href=\"#Question-2:-Is-there-a-correlation-between-marital-status-and-timely-loan-repayment?\" data-toc-modified-id=\"Question-2:-Is-there-a-correlation-between-marital-status-and-timely-loan-repayment?-4.2\"><span class=\"toc-item-num\">4.2&nbsp;&nbsp;</span>Question 2: Is there a correlation between marital status and timely loan repayment?</a></span></li><li><span><a href=\"#Question-3:-Is-there-a-correlation-between-income-and-timely-loan-repayment?\" data-toc-modified-id=\"Question-3:-Is-there-a-correlation-between-income-and-timely-loan-repayment?-4.3\"><span class=\"toc-item-num\">4.3&nbsp;&nbsp;</span>Question 3: Is there a correlation between income and timely loan repayment?</a></span></li><li><span><a href=\"#Question-4:-How-do-the-different-purposes-of-the-loan-affect-its-timely-repayment?\" data-toc-modified-id=\"Question-4:-How-do-the-different-purposes-of-the-loan-affect-its-timely-repayment?-4.4\"><span class=\"toc-item-num\">4.4&nbsp;&nbsp;</span>Question 4: How do the different purposes of the loan affect its timely repayment?</a></span></li></ul></li><li><span><a href=\"#Summary\" data-toc-modified-id=\"Summary-5\"><span class=\"toc-item-num\">5&nbsp;&nbsp;</span>Summary</a></span></li></ul></div>"
   ]
  },
  {
   "cell_type": "markdown",
   "id": "8d129ad5",
   "metadata": {},
   "source": [
    "# Borrowers reliability study"
   ]
  },
  {
   "cell_type": "markdown",
   "id": "3baa3ccd",
   "metadata": {},
   "source": [
    "## Project description"
   ]
  },
  {
   "cell_type": "markdown",
   "id": "89037788",
   "metadata": {},
   "source": [
    "**Objective:** it is necessary to find out whether the marital status and the number of children in the client's family affect the fact of timely repayment of the loan."
   ]
  },
  {
   "cell_type": "markdown",
   "id": "f8708eaa",
   "metadata": {},
   "source": [
    "## Data description"
   ]
  },
  {
   "cell_type": "markdown",
   "id": "01baa202",
   "metadata": {},
   "source": [
    "•\t`children` — number of children in a family\n",
    "\n",
    "•\t`days_employed` — total work experience in days\n",
    "\n",
    "•\t`dob_years` — age of client in years\n",
    "\n",
    "•\t`education` — client's education level\n",
    "\n",
    "•\t`education_id` — unique education level id\n",
    "\n",
    "•\t`family_status` — client's marital status\n",
    "\n",
    "•\t`family_status_id` — unique family status id\n",
    "\n",
    "•\t`gender` — client's gender\n",
    "\n",
    "•\t`income_type` — employment type\n",
    "\n",
    "•\t`debt` — whether or not the client has a debt to repay loans\n",
    "\n",
    "•\t`total_income` — cusomer's monthly income\n",
    "\n",
    "•\t`purpose` — loan purpose"
   ]
  },
  {
   "cell_type": "markdown",
   "id": "b81aa360",
   "metadata": {},
   "source": [
    "## Dataset reading and pre-processing"
   ]
  },
  {
   "cell_type": "code",
   "execution_count": 1,
   "id": "94701818",
   "metadata": {},
   "outputs": [],
   "source": [
    "import pandas as pd\n",
    "import matplotlib.pyplot as plt"
   ]
  },
  {
   "cell_type": "code",
   "execution_count": 2,
   "id": "d5fcb84e",
   "metadata": {},
   "outputs": [
    {
     "name": "stdout",
     "output_type": "stream",
     "text": [
      "Number of rows in the dataset: 21525\n",
      "Number of columns in the dataset: 12\n"
     ]
    }
   ],
   "source": [
    "df = pd.read_csv('https://code.s3.yandex.net/datasets/data.csv')\n",
    "# calculating number of rows and columns\n",
    "print(f'Number of rows in the dataset: {df.shape[0]}')\n",
    "print(f'Number of columns in the dataset: {df.shape[1]}')"
   ]
  },
  {
   "cell_type": "markdown",
   "id": "e2562a5a",
   "metadata": {},
   "source": [
    "Let's check our dataset for missing values in columns and what types of data are used."
   ]
  },
  {
   "cell_type": "code",
   "execution_count": 3,
   "id": "46451e8d",
   "metadata": {},
   "outputs": [
    {
     "name": "stdout",
     "output_type": "stream",
     "text": [
      "<class 'pandas.core.frame.DataFrame'>\n",
      "RangeIndex: 21525 entries, 0 to 21524\n",
      "Data columns (total 12 columns):\n",
      " #   Column            Non-Null Count  Dtype  \n",
      "---  ------            --------------  -----  \n",
      " 0   children          21525 non-null  int64  \n",
      " 1   days_employed     19351 non-null  float64\n",
      " 2   dob_years         21525 non-null  int64  \n",
      " 3   education         21525 non-null  object \n",
      " 4   education_id      21525 non-null  int64  \n",
      " 5   family_status     21525 non-null  object \n",
      " 6   family_status_id  21525 non-null  int64  \n",
      " 7   gender            21525 non-null  object \n",
      " 8   income_type       21525 non-null  object \n",
      " 9   debt              21525 non-null  int64  \n",
      " 10  total_income      19351 non-null  float64\n",
      " 11  purpose           21525 non-null  object \n",
      "dtypes: float64(2), int64(5), object(5)\n",
      "memory usage: 2.0+ MB\n"
     ]
    }
   ],
   "source": [
    "df.info()"
   ]
  },
  {
   "cell_type": "markdown",
   "id": "cae0177e",
   "metadata": {},
   "source": [
    "From the dataframe properties, we can see that the number of rows and columns is the same as the previously calculated number - 21525 rows and 12 columns. However, there are two columns with missing values in the data set: `days_employed` (work experience in days) and `total_income` (monthly income). Let's calculate the proportion of missing values in these columns."
   ]
  },
  {
   "cell_type": "code",
   "execution_count": 4,
   "id": "70a8965f",
   "metadata": {},
   "outputs": [
    {
     "name": "stdout",
     "output_type": "stream",
     "text": [
      "The proportion of nans in days_employed: 10.10\n",
      "The proportion of nans in total_income: 10.10\n"
     ]
    }
   ],
   "source": [
    "# selecting rows with nans and calculating the proportion using mean function\n",
    "print(f'The proportion of nans in days_employed: {df[\"days_employed\"].isna().mean() * 100:.2f}')\n",
    "print(f'The proportion of nans in total_income: {df[\"total_income\"].isna().mean() * 100:.2f}')"
   ]
  },
  {
   "cell_type": "markdown",
   "id": "b9c719c0",
   "metadata": {},
   "source": [
    "Let's check if the number of nans in the columns is equal."
   ]
  },
  {
   "cell_type": "code",
   "execution_count": 5,
   "id": "8f4b9ac8",
   "metadata": {},
   "outputs": [
    {
     "name": "stdout",
     "output_type": "stream",
     "text": [
      "Number of nans in days_employed: 2174\n",
      "Number of nans in total_income: 2174\n"
     ]
    }
   ],
   "source": [
    "# selecting rows with nans and calculating the sum\n",
    "print(f'Number of nans in days_employed: {df[\"days_employed\"].isna().sum()}')\n",
    "print(f'Number of nans in total_income: {df[\"total_income\"].isna().sum()}')"
   ]
  },
  {
   "cell_type": "markdown",
   "id": "5b8e5c99",
   "metadata": {},
   "source": [
    "The proportion and number of missing values are the same, so we can assume that the missing values come from the same observations (located in the same rows). Let's test this hypothesis and analyze the contents of the data frame."
   ]
  },
  {
   "cell_type": "code",
   "execution_count": 6,
   "id": "09c3e88b",
   "metadata": {},
   "outputs": [
    {
     "data": {
      "text/html": [
       "<div>\n",
       "<style scoped>\n",
       "    .dataframe tbody tr th:only-of-type {\n",
       "        vertical-align: middle;\n",
       "    }\n",
       "\n",
       "    .dataframe tbody tr th {\n",
       "        vertical-align: top;\n",
       "    }\n",
       "\n",
       "    .dataframe thead th {\n",
       "        text-align: right;\n",
       "    }\n",
       "</style>\n",
       "<table border=\"1\" class=\"dataframe\">\n",
       "  <thead>\n",
       "    <tr style=\"text-align: right;\">\n",
       "      <th></th>\n",
       "      <th>children</th>\n",
       "      <th>days_employed</th>\n",
       "      <th>dob_years</th>\n",
       "      <th>education</th>\n",
       "      <th>education_id</th>\n",
       "      <th>family_status</th>\n",
       "      <th>family_status_id</th>\n",
       "      <th>gender</th>\n",
       "      <th>income_type</th>\n",
       "      <th>debt</th>\n",
       "      <th>total_income</th>\n",
       "      <th>purpose</th>\n",
       "    </tr>\n",
       "  </thead>\n",
       "  <tbody>\n",
       "    <tr>\n",
       "      <th>0</th>\n",
       "      <td>1</td>\n",
       "      <td>-8437.673028</td>\n",
       "      <td>42</td>\n",
       "      <td>высшее</td>\n",
       "      <td>0</td>\n",
       "      <td>женат / замужем</td>\n",
       "      <td>0</td>\n",
       "      <td>F</td>\n",
       "      <td>сотрудник</td>\n",
       "      <td>0</td>\n",
       "      <td>253875.639453</td>\n",
       "      <td>покупка жилья</td>\n",
       "    </tr>\n",
       "    <tr>\n",
       "      <th>1</th>\n",
       "      <td>1</td>\n",
       "      <td>-4024.803754</td>\n",
       "      <td>36</td>\n",
       "      <td>среднее</td>\n",
       "      <td>1</td>\n",
       "      <td>женат / замужем</td>\n",
       "      <td>0</td>\n",
       "      <td>F</td>\n",
       "      <td>сотрудник</td>\n",
       "      <td>0</td>\n",
       "      <td>112080.014102</td>\n",
       "      <td>приобретение автомобиля</td>\n",
       "    </tr>\n",
       "    <tr>\n",
       "      <th>2</th>\n",
       "      <td>0</td>\n",
       "      <td>-5623.422610</td>\n",
       "      <td>33</td>\n",
       "      <td>Среднее</td>\n",
       "      <td>1</td>\n",
       "      <td>женат / замужем</td>\n",
       "      <td>0</td>\n",
       "      <td>M</td>\n",
       "      <td>сотрудник</td>\n",
       "      <td>0</td>\n",
       "      <td>145885.952297</td>\n",
       "      <td>покупка жилья</td>\n",
       "    </tr>\n",
       "    <tr>\n",
       "      <th>3</th>\n",
       "      <td>3</td>\n",
       "      <td>-4124.747207</td>\n",
       "      <td>32</td>\n",
       "      <td>среднее</td>\n",
       "      <td>1</td>\n",
       "      <td>женат / замужем</td>\n",
       "      <td>0</td>\n",
       "      <td>M</td>\n",
       "      <td>сотрудник</td>\n",
       "      <td>0</td>\n",
       "      <td>267628.550329</td>\n",
       "      <td>дополнительное образование</td>\n",
       "    </tr>\n",
       "    <tr>\n",
       "      <th>4</th>\n",
       "      <td>0</td>\n",
       "      <td>340266.072047</td>\n",
       "      <td>53</td>\n",
       "      <td>среднее</td>\n",
       "      <td>1</td>\n",
       "      <td>гражданский брак</td>\n",
       "      <td>1</td>\n",
       "      <td>F</td>\n",
       "      <td>пенсионер</td>\n",
       "      <td>0</td>\n",
       "      <td>158616.077870</td>\n",
       "      <td>сыграть свадьбу</td>\n",
       "    </tr>\n",
       "    <tr>\n",
       "      <th>...</th>\n",
       "      <td>...</td>\n",
       "      <td>...</td>\n",
       "      <td>...</td>\n",
       "      <td>...</td>\n",
       "      <td>...</td>\n",
       "      <td>...</td>\n",
       "      <td>...</td>\n",
       "      <td>...</td>\n",
       "      <td>...</td>\n",
       "      <td>...</td>\n",
       "      <td>...</td>\n",
       "      <td>...</td>\n",
       "    </tr>\n",
       "    <tr>\n",
       "      <th>21520</th>\n",
       "      <td>1</td>\n",
       "      <td>-4529.316663</td>\n",
       "      <td>43</td>\n",
       "      <td>среднее</td>\n",
       "      <td>1</td>\n",
       "      <td>гражданский брак</td>\n",
       "      <td>1</td>\n",
       "      <td>F</td>\n",
       "      <td>компаньон</td>\n",
       "      <td>0</td>\n",
       "      <td>224791.862382</td>\n",
       "      <td>операции с жильем</td>\n",
       "    </tr>\n",
       "    <tr>\n",
       "      <th>21521</th>\n",
       "      <td>0</td>\n",
       "      <td>343937.404131</td>\n",
       "      <td>67</td>\n",
       "      <td>среднее</td>\n",
       "      <td>1</td>\n",
       "      <td>женат / замужем</td>\n",
       "      <td>0</td>\n",
       "      <td>F</td>\n",
       "      <td>пенсионер</td>\n",
       "      <td>0</td>\n",
       "      <td>155999.806512</td>\n",
       "      <td>сделка с автомобилем</td>\n",
       "    </tr>\n",
       "    <tr>\n",
       "      <th>21522</th>\n",
       "      <td>1</td>\n",
       "      <td>-2113.346888</td>\n",
       "      <td>38</td>\n",
       "      <td>среднее</td>\n",
       "      <td>1</td>\n",
       "      <td>гражданский брак</td>\n",
       "      <td>1</td>\n",
       "      <td>M</td>\n",
       "      <td>сотрудник</td>\n",
       "      <td>1</td>\n",
       "      <td>89672.561153</td>\n",
       "      <td>недвижимость</td>\n",
       "    </tr>\n",
       "    <tr>\n",
       "      <th>21523</th>\n",
       "      <td>3</td>\n",
       "      <td>-3112.481705</td>\n",
       "      <td>38</td>\n",
       "      <td>среднее</td>\n",
       "      <td>1</td>\n",
       "      <td>женат / замужем</td>\n",
       "      <td>0</td>\n",
       "      <td>M</td>\n",
       "      <td>сотрудник</td>\n",
       "      <td>1</td>\n",
       "      <td>244093.050500</td>\n",
       "      <td>на покупку своего автомобиля</td>\n",
       "    </tr>\n",
       "    <tr>\n",
       "      <th>21524</th>\n",
       "      <td>2</td>\n",
       "      <td>-1984.507589</td>\n",
       "      <td>40</td>\n",
       "      <td>среднее</td>\n",
       "      <td>1</td>\n",
       "      <td>женат / замужем</td>\n",
       "      <td>0</td>\n",
       "      <td>F</td>\n",
       "      <td>сотрудник</td>\n",
       "      <td>0</td>\n",
       "      <td>82047.418899</td>\n",
       "      <td>на покупку автомобиля</td>\n",
       "    </tr>\n",
       "  </tbody>\n",
       "</table>\n",
       "<p>21525 rows × 12 columns</p>\n",
       "</div>"
      ],
      "text/plain": [
       "       children  days_employed  dob_years education  education_id  \\\n",
       "0             1   -8437.673028         42    высшее             0   \n",
       "1             1   -4024.803754         36   среднее             1   \n",
       "2             0   -5623.422610         33   Среднее             1   \n",
       "3             3   -4124.747207         32   среднее             1   \n",
       "4             0  340266.072047         53   среднее             1   \n",
       "...         ...            ...        ...       ...           ...   \n",
       "21520         1   -4529.316663         43   среднее             1   \n",
       "21521         0  343937.404131         67   среднее             1   \n",
       "21522         1   -2113.346888         38   среднее             1   \n",
       "21523         3   -3112.481705         38   среднее             1   \n",
       "21524         2   -1984.507589         40   среднее             1   \n",
       "\n",
       "          family_status  family_status_id gender income_type  debt  \\\n",
       "0       женат / замужем                 0      F   сотрудник     0   \n",
       "1       женат / замужем                 0      F   сотрудник     0   \n",
       "2       женат / замужем                 0      M   сотрудник     0   \n",
       "3       женат / замужем                 0      M   сотрудник     0   \n",
       "4      гражданский брак                 1      F   пенсионер     0   \n",
       "...                 ...               ...    ...         ...   ...   \n",
       "21520  гражданский брак                 1      F   компаньон     0   \n",
       "21521   женат / замужем                 0      F   пенсионер     0   \n",
       "21522  гражданский брак                 1      M   сотрудник     1   \n",
       "21523   женат / замужем                 0      M   сотрудник     1   \n",
       "21524   женат / замужем                 0      F   сотрудник     0   \n",
       "\n",
       "        total_income                       purpose  \n",
       "0      253875.639453                 покупка жилья  \n",
       "1      112080.014102       приобретение автомобиля  \n",
       "2      145885.952297                 покупка жилья  \n",
       "3      267628.550329    дополнительное образование  \n",
       "4      158616.077870               сыграть свадьбу  \n",
       "...              ...                           ...  \n",
       "21520  224791.862382             операции с жильем  \n",
       "21521  155999.806512          сделка с автомобилем  \n",
       "21522   89672.561153                  недвижимость  \n",
       "21523  244093.050500  на покупку своего автомобиля  \n",
       "21524   82047.418899         на покупку автомобиля  \n",
       "\n",
       "[21525 rows x 12 columns]"
      ]
     },
     "metadata": {},
     "output_type": "display_data"
    }
   ],
   "source": [
    "display(df)"
   ]
  },
  {
   "cell_type": "code",
   "execution_count": 7,
   "id": "790feb80",
   "metadata": {},
   "outputs": [
    {
     "data": {
      "text/html": [
       "<div>\n",
       "<style scoped>\n",
       "    .dataframe tbody tr th:only-of-type {\n",
       "        vertical-align: middle;\n",
       "    }\n",
       "\n",
       "    .dataframe tbody tr th {\n",
       "        vertical-align: top;\n",
       "    }\n",
       "\n",
       "    .dataframe thead th {\n",
       "        text-align: right;\n",
       "    }\n",
       "</style>\n",
       "<table border=\"1\" class=\"dataframe\">\n",
       "  <thead>\n",
       "    <tr style=\"text-align: right;\">\n",
       "      <th></th>\n",
       "      <th>children</th>\n",
       "      <th>days_employed</th>\n",
       "      <th>dob_years</th>\n",
       "      <th>education_id</th>\n",
       "      <th>family_status_id</th>\n",
       "      <th>debt</th>\n",
       "      <th>total_income</th>\n",
       "    </tr>\n",
       "  </thead>\n",
       "  <tbody>\n",
       "    <tr>\n",
       "      <th>count</th>\n",
       "      <td>21525.000000</td>\n",
       "      <td>19351.000000</td>\n",
       "      <td>21525.000000</td>\n",
       "      <td>21525.000000</td>\n",
       "      <td>21525.000000</td>\n",
       "      <td>21525.000000</td>\n",
       "      <td>1.935100e+04</td>\n",
       "    </tr>\n",
       "    <tr>\n",
       "      <th>mean</th>\n",
       "      <td>0.538908</td>\n",
       "      <td>63046.497661</td>\n",
       "      <td>43.293380</td>\n",
       "      <td>0.817236</td>\n",
       "      <td>0.972544</td>\n",
       "      <td>0.080883</td>\n",
       "      <td>1.674223e+05</td>\n",
       "    </tr>\n",
       "    <tr>\n",
       "      <th>std</th>\n",
       "      <td>1.381587</td>\n",
       "      <td>140827.311974</td>\n",
       "      <td>12.574584</td>\n",
       "      <td>0.548138</td>\n",
       "      <td>1.420324</td>\n",
       "      <td>0.272661</td>\n",
       "      <td>1.029716e+05</td>\n",
       "    </tr>\n",
       "    <tr>\n",
       "      <th>min</th>\n",
       "      <td>-1.000000</td>\n",
       "      <td>-18388.949901</td>\n",
       "      <td>0.000000</td>\n",
       "      <td>0.000000</td>\n",
       "      <td>0.000000</td>\n",
       "      <td>0.000000</td>\n",
       "      <td>2.066726e+04</td>\n",
       "    </tr>\n",
       "    <tr>\n",
       "      <th>25%</th>\n",
       "      <td>0.000000</td>\n",
       "      <td>-2747.423625</td>\n",
       "      <td>33.000000</td>\n",
       "      <td>1.000000</td>\n",
       "      <td>0.000000</td>\n",
       "      <td>0.000000</td>\n",
       "      <td>1.030532e+05</td>\n",
       "    </tr>\n",
       "    <tr>\n",
       "      <th>50%</th>\n",
       "      <td>0.000000</td>\n",
       "      <td>-1203.369529</td>\n",
       "      <td>42.000000</td>\n",
       "      <td>1.000000</td>\n",
       "      <td>0.000000</td>\n",
       "      <td>0.000000</td>\n",
       "      <td>1.450179e+05</td>\n",
       "    </tr>\n",
       "    <tr>\n",
       "      <th>75%</th>\n",
       "      <td>1.000000</td>\n",
       "      <td>-291.095954</td>\n",
       "      <td>53.000000</td>\n",
       "      <td>1.000000</td>\n",
       "      <td>1.000000</td>\n",
       "      <td>0.000000</td>\n",
       "      <td>2.034351e+05</td>\n",
       "    </tr>\n",
       "    <tr>\n",
       "      <th>max</th>\n",
       "      <td>20.000000</td>\n",
       "      <td>401755.400475</td>\n",
       "      <td>75.000000</td>\n",
       "      <td>4.000000</td>\n",
       "      <td>4.000000</td>\n",
       "      <td>1.000000</td>\n",
       "      <td>2.265604e+06</td>\n",
       "    </tr>\n",
       "  </tbody>\n",
       "</table>\n",
       "</div>"
      ],
      "text/plain": [
       "           children  days_employed     dob_years  education_id  \\\n",
       "count  21525.000000   19351.000000  21525.000000  21525.000000   \n",
       "mean       0.538908   63046.497661     43.293380      0.817236   \n",
       "std        1.381587  140827.311974     12.574584      0.548138   \n",
       "min       -1.000000  -18388.949901      0.000000      0.000000   \n",
       "25%        0.000000   -2747.423625     33.000000      1.000000   \n",
       "50%        0.000000   -1203.369529     42.000000      1.000000   \n",
       "75%        1.000000    -291.095954     53.000000      1.000000   \n",
       "max       20.000000  401755.400475     75.000000      4.000000   \n",
       "\n",
       "       family_status_id          debt  total_income  \n",
       "count      21525.000000  21525.000000  1.935100e+04  \n",
       "mean           0.972544      0.080883  1.674223e+05  \n",
       "std            1.420324      0.272661  1.029716e+05  \n",
       "min            0.000000      0.000000  2.066726e+04  \n",
       "25%            0.000000      0.000000  1.030532e+05  \n",
       "50%            0.000000      0.000000  1.450179e+05  \n",
       "75%            1.000000      0.000000  2.034351e+05  \n",
       "max            4.000000      1.000000  2.265604e+06  "
      ]
     },
     "execution_count": 7,
     "metadata": {},
     "output_type": "execute_result"
    }
   ],
   "source": [
    "df.describe()"
   ]
  },
  {
   "cell_type": "markdown",
   "id": "0e545ac3",
   "metadata": {},
   "source": [
    "The following problems can be identified in the dataset:\n",
    "\n",
    "1. There are negative values in the `days_employed` column, and the median of this column may indicate their large number. The mean of the column is ~63000 days of work experience, which is about 170 years. This value indicates the outliers in our observations.\n",
    "\n",
    "2. Different case is used to indicate the level of education in the `education` column.\n",
    "\n",
    "3. The minimum age of the client in the `dob_years` column is 0.\n",
    "\n",
    "4. The minimum number of children in the `children` column is -1. The maximum number of children is 20. The column has a high variance.\n",
    "\n",
    "Since it is necessary to provide official documents confirming the identity, financial situation and employment of the borrower in order to obtain a loan, the missing values in the `days_employed` and `total_income` columns may indicate a technical error in the processing of the information on the client, rather than the borrower's failure to provide this information.\n",
    "\n",
    "Negative and zero values in the `days_employed` and `dob_years` columns may also indicate a technical or operator error in entering the client information into the system.\n",
    "\n",
    "Negative values in the `days_employed` column must be processed and converted to positive values by checking the number of years of employment for these observations. Missing values in the `days_employed` and `total_income` columns should be imputed using the column median without grouping the clients (e.g. by age - the total work experience may depend on the age of the client - the older the client, the more work experience they may have). When borrowers are grouped by age, there may be outliers in the observations due to the small number of clients in a given age group. To keep the information about the client clean, the missing values should be imputed using the median."
   ]
  },
  {
   "cell_type": "markdown",
   "id": "9c42df9c",
   "metadata": {},
   "source": [
    "Let's check if the missing values in the `days_employed` and `total_income` columns are in the same rows."
   ]
  },
  {
   "cell_type": "code",
   "execution_count": 8,
   "id": "6d466387",
   "metadata": {},
   "outputs": [
    {
     "data": {
      "text/html": [
       "<div>\n",
       "<style scoped>\n",
       "    .dataframe tbody tr th:only-of-type {\n",
       "        vertical-align: middle;\n",
       "    }\n",
       "\n",
       "    .dataframe tbody tr th {\n",
       "        vertical-align: top;\n",
       "    }\n",
       "\n",
       "    .dataframe thead th {\n",
       "        text-align: right;\n",
       "    }\n",
       "</style>\n",
       "<table border=\"1\" class=\"dataframe\">\n",
       "  <thead>\n",
       "    <tr style=\"text-align: right;\">\n",
       "      <th></th>\n",
       "      <th>children</th>\n",
       "      <th>days_employed</th>\n",
       "      <th>dob_years</th>\n",
       "      <th>education</th>\n",
       "      <th>education_id</th>\n",
       "      <th>family_status</th>\n",
       "      <th>family_status_id</th>\n",
       "      <th>gender</th>\n",
       "      <th>income_type</th>\n",
       "      <th>debt</th>\n",
       "      <th>total_income</th>\n",
       "      <th>purpose</th>\n",
       "    </tr>\n",
       "  </thead>\n",
       "  <tbody>\n",
       "    <tr>\n",
       "      <th>12</th>\n",
       "      <td>0</td>\n",
       "      <td>NaN</td>\n",
       "      <td>65</td>\n",
       "      <td>среднее</td>\n",
       "      <td>1</td>\n",
       "      <td>гражданский брак</td>\n",
       "      <td>1</td>\n",
       "      <td>M</td>\n",
       "      <td>пенсионер</td>\n",
       "      <td>0</td>\n",
       "      <td>NaN</td>\n",
       "      <td>сыграть свадьбу</td>\n",
       "    </tr>\n",
       "    <tr>\n",
       "      <th>26</th>\n",
       "      <td>0</td>\n",
       "      <td>NaN</td>\n",
       "      <td>41</td>\n",
       "      <td>среднее</td>\n",
       "      <td>1</td>\n",
       "      <td>женат / замужем</td>\n",
       "      <td>0</td>\n",
       "      <td>M</td>\n",
       "      <td>госслужащий</td>\n",
       "      <td>0</td>\n",
       "      <td>NaN</td>\n",
       "      <td>образование</td>\n",
       "    </tr>\n",
       "    <tr>\n",
       "      <th>29</th>\n",
       "      <td>0</td>\n",
       "      <td>NaN</td>\n",
       "      <td>63</td>\n",
       "      <td>среднее</td>\n",
       "      <td>1</td>\n",
       "      <td>Не женат / не замужем</td>\n",
       "      <td>4</td>\n",
       "      <td>F</td>\n",
       "      <td>пенсионер</td>\n",
       "      <td>0</td>\n",
       "      <td>NaN</td>\n",
       "      <td>строительство жилой недвижимости</td>\n",
       "    </tr>\n",
       "    <tr>\n",
       "      <th>41</th>\n",
       "      <td>0</td>\n",
       "      <td>NaN</td>\n",
       "      <td>50</td>\n",
       "      <td>среднее</td>\n",
       "      <td>1</td>\n",
       "      <td>женат / замужем</td>\n",
       "      <td>0</td>\n",
       "      <td>F</td>\n",
       "      <td>госслужащий</td>\n",
       "      <td>0</td>\n",
       "      <td>NaN</td>\n",
       "      <td>сделка с подержанным автомобилем</td>\n",
       "    </tr>\n",
       "    <tr>\n",
       "      <th>55</th>\n",
       "      <td>0</td>\n",
       "      <td>NaN</td>\n",
       "      <td>54</td>\n",
       "      <td>среднее</td>\n",
       "      <td>1</td>\n",
       "      <td>гражданский брак</td>\n",
       "      <td>1</td>\n",
       "      <td>F</td>\n",
       "      <td>пенсионер</td>\n",
       "      <td>1</td>\n",
       "      <td>NaN</td>\n",
       "      <td>сыграть свадьбу</td>\n",
       "    </tr>\n",
       "    <tr>\n",
       "      <th>...</th>\n",
       "      <td>...</td>\n",
       "      <td>...</td>\n",
       "      <td>...</td>\n",
       "      <td>...</td>\n",
       "      <td>...</td>\n",
       "      <td>...</td>\n",
       "      <td>...</td>\n",
       "      <td>...</td>\n",
       "      <td>...</td>\n",
       "      <td>...</td>\n",
       "      <td>...</td>\n",
       "      <td>...</td>\n",
       "    </tr>\n",
       "    <tr>\n",
       "      <th>21489</th>\n",
       "      <td>2</td>\n",
       "      <td>NaN</td>\n",
       "      <td>47</td>\n",
       "      <td>Среднее</td>\n",
       "      <td>1</td>\n",
       "      <td>женат / замужем</td>\n",
       "      <td>0</td>\n",
       "      <td>M</td>\n",
       "      <td>компаньон</td>\n",
       "      <td>0</td>\n",
       "      <td>NaN</td>\n",
       "      <td>сделка с автомобилем</td>\n",
       "    </tr>\n",
       "    <tr>\n",
       "      <th>21495</th>\n",
       "      <td>1</td>\n",
       "      <td>NaN</td>\n",
       "      <td>50</td>\n",
       "      <td>среднее</td>\n",
       "      <td>1</td>\n",
       "      <td>гражданский брак</td>\n",
       "      <td>1</td>\n",
       "      <td>F</td>\n",
       "      <td>сотрудник</td>\n",
       "      <td>0</td>\n",
       "      <td>NaN</td>\n",
       "      <td>свадьба</td>\n",
       "    </tr>\n",
       "    <tr>\n",
       "      <th>21497</th>\n",
       "      <td>0</td>\n",
       "      <td>NaN</td>\n",
       "      <td>48</td>\n",
       "      <td>ВЫСШЕЕ</td>\n",
       "      <td>0</td>\n",
       "      <td>женат / замужем</td>\n",
       "      <td>0</td>\n",
       "      <td>F</td>\n",
       "      <td>компаньон</td>\n",
       "      <td>0</td>\n",
       "      <td>NaN</td>\n",
       "      <td>строительство недвижимости</td>\n",
       "    </tr>\n",
       "    <tr>\n",
       "      <th>21502</th>\n",
       "      <td>1</td>\n",
       "      <td>NaN</td>\n",
       "      <td>42</td>\n",
       "      <td>среднее</td>\n",
       "      <td>1</td>\n",
       "      <td>женат / замужем</td>\n",
       "      <td>0</td>\n",
       "      <td>F</td>\n",
       "      <td>сотрудник</td>\n",
       "      <td>0</td>\n",
       "      <td>NaN</td>\n",
       "      <td>строительство жилой недвижимости</td>\n",
       "    </tr>\n",
       "    <tr>\n",
       "      <th>21510</th>\n",
       "      <td>2</td>\n",
       "      <td>NaN</td>\n",
       "      <td>28</td>\n",
       "      <td>среднее</td>\n",
       "      <td>1</td>\n",
       "      <td>женат / замужем</td>\n",
       "      <td>0</td>\n",
       "      <td>F</td>\n",
       "      <td>сотрудник</td>\n",
       "      <td>0</td>\n",
       "      <td>NaN</td>\n",
       "      <td>приобретение автомобиля</td>\n",
       "    </tr>\n",
       "  </tbody>\n",
       "</table>\n",
       "<p>2174 rows × 12 columns</p>\n",
       "</div>"
      ],
      "text/plain": [
       "       children  days_employed  dob_years education  education_id  \\\n",
       "12            0            NaN         65   среднее             1   \n",
       "26            0            NaN         41   среднее             1   \n",
       "29            0            NaN         63   среднее             1   \n",
       "41            0            NaN         50   среднее             1   \n",
       "55            0            NaN         54   среднее             1   \n",
       "...         ...            ...        ...       ...           ...   \n",
       "21489         2            NaN         47   Среднее             1   \n",
       "21495         1            NaN         50   среднее             1   \n",
       "21497         0            NaN         48    ВЫСШЕЕ             0   \n",
       "21502         1            NaN         42   среднее             1   \n",
       "21510         2            NaN         28   среднее             1   \n",
       "\n",
       "               family_status  family_status_id gender  income_type  debt  \\\n",
       "12          гражданский брак                 1      M    пенсионер     0   \n",
       "26           женат / замужем                 0      M  госслужащий     0   \n",
       "29     Не женат / не замужем                 4      F    пенсионер     0   \n",
       "41           женат / замужем                 0      F  госслужащий     0   \n",
       "55          гражданский брак                 1      F    пенсионер     1   \n",
       "...                      ...               ...    ...          ...   ...   \n",
       "21489        женат / замужем                 0      M    компаньон     0   \n",
       "21495       гражданский брак                 1      F    сотрудник     0   \n",
       "21497        женат / замужем                 0      F    компаньон     0   \n",
       "21502        женат / замужем                 0      F    сотрудник     0   \n",
       "21510        женат / замужем                 0      F    сотрудник     0   \n",
       "\n",
       "       total_income                           purpose  \n",
       "12              NaN                   сыграть свадьбу  \n",
       "26              NaN                       образование  \n",
       "29              NaN  строительство жилой недвижимости  \n",
       "41              NaN  сделка с подержанным автомобилем  \n",
       "55              NaN                   сыграть свадьбу  \n",
       "...             ...                               ...  \n",
       "21489           NaN              сделка с автомобилем  \n",
       "21495           NaN                           свадьба  \n",
       "21497           NaN        строительство недвижимости  \n",
       "21502           NaN  строительство жилой недвижимости  \n",
       "21510           NaN           приобретение автомобиля  \n",
       "\n",
       "[2174 rows x 12 columns]"
      ]
     },
     "metadata": {},
     "output_type": "display_data"
    }
   ],
   "source": [
    "# filtering and displaying data with nans\n",
    "display(df.loc[(df['days_employed'].isna()) & (df['total_income'].isna())])"
   ]
  },
  {
   "cell_type": "markdown",
   "id": "3c56251e",
   "metadata": {},
   "source": [
    "The number of missing values coincides with the previously calculated value, so we can conclude that the nans are in the same rows."
   ]
  },
  {
   "cell_type": "markdown",
   "id": "9d9a73b9",
   "metadata": {},
   "source": [
    "### Imputing missing values"
   ]
  },
  {
   "cell_type": "markdown",
   "id": "be539656",
   "metadata": {},
   "source": [
    "The previous analysis of the `total_income` column showed no anomalies. Let's fill nans with the median of the column."
   ]
  },
  {
   "cell_type": "code",
   "execution_count": 9,
   "id": "55b40294",
   "metadata": {},
   "outputs": [
    {
     "data": {
      "text/html": [
       "<div>\n",
       "<style scoped>\n",
       "    .dataframe tbody tr th:only-of-type {\n",
       "        vertical-align: middle;\n",
       "    }\n",
       "\n",
       "    .dataframe tbody tr th {\n",
       "        vertical-align: top;\n",
       "    }\n",
       "\n",
       "    .dataframe thead th {\n",
       "        text-align: right;\n",
       "    }\n",
       "</style>\n",
       "<table border=\"1\" class=\"dataframe\">\n",
       "  <thead>\n",
       "    <tr style=\"text-align: right;\">\n",
       "      <th></th>\n",
       "      <th>children</th>\n",
       "      <th>days_employed</th>\n",
       "      <th>dob_years</th>\n",
       "      <th>education_id</th>\n",
       "      <th>family_status_id</th>\n",
       "      <th>debt</th>\n",
       "      <th>total_income</th>\n",
       "    </tr>\n",
       "  </thead>\n",
       "  <tbody>\n",
       "    <tr>\n",
       "      <th>count</th>\n",
       "      <td>21525.000000</td>\n",
       "      <td>19351.000000</td>\n",
       "      <td>21525.000000</td>\n",
       "      <td>21525.000000</td>\n",
       "      <td>21525.000000</td>\n",
       "      <td>21525.000000</td>\n",
       "      <td>2.152500e+04</td>\n",
       "    </tr>\n",
       "    <tr>\n",
       "      <th>mean</th>\n",
       "      <td>0.538908</td>\n",
       "      <td>63046.497661</td>\n",
       "      <td>43.293380</td>\n",
       "      <td>0.817236</td>\n",
       "      <td>0.972544</td>\n",
       "      <td>0.080883</td>\n",
       "      <td>1.651595e+05</td>\n",
       "    </tr>\n",
       "    <tr>\n",
       "      <th>std</th>\n",
       "      <td>1.381587</td>\n",
       "      <td>140827.311974</td>\n",
       "      <td>12.574584</td>\n",
       "      <td>0.548138</td>\n",
       "      <td>1.420324</td>\n",
       "      <td>0.272661</td>\n",
       "      <td>9.786607e+04</td>\n",
       "    </tr>\n",
       "    <tr>\n",
       "      <th>min</th>\n",
       "      <td>-1.000000</td>\n",
       "      <td>-18388.949901</td>\n",
       "      <td>0.000000</td>\n",
       "      <td>0.000000</td>\n",
       "      <td>0.000000</td>\n",
       "      <td>0.000000</td>\n",
       "      <td>2.066726e+04</td>\n",
       "    </tr>\n",
       "    <tr>\n",
       "      <th>25%</th>\n",
       "      <td>0.000000</td>\n",
       "      <td>-2747.423625</td>\n",
       "      <td>33.000000</td>\n",
       "      <td>1.000000</td>\n",
       "      <td>0.000000</td>\n",
       "      <td>0.000000</td>\n",
       "      <td>1.077982e+05</td>\n",
       "    </tr>\n",
       "    <tr>\n",
       "      <th>50%</th>\n",
       "      <td>0.000000</td>\n",
       "      <td>-1203.369529</td>\n",
       "      <td>42.000000</td>\n",
       "      <td>1.000000</td>\n",
       "      <td>0.000000</td>\n",
       "      <td>0.000000</td>\n",
       "      <td>1.450179e+05</td>\n",
       "    </tr>\n",
       "    <tr>\n",
       "      <th>75%</th>\n",
       "      <td>1.000000</td>\n",
       "      <td>-291.095954</td>\n",
       "      <td>53.000000</td>\n",
       "      <td>1.000000</td>\n",
       "      <td>1.000000</td>\n",
       "      <td>0.000000</td>\n",
       "      <td>1.955436e+05</td>\n",
       "    </tr>\n",
       "    <tr>\n",
       "      <th>max</th>\n",
       "      <td>20.000000</td>\n",
       "      <td>401755.400475</td>\n",
       "      <td>75.000000</td>\n",
       "      <td>4.000000</td>\n",
       "      <td>4.000000</td>\n",
       "      <td>1.000000</td>\n",
       "      <td>2.265604e+06</td>\n",
       "    </tr>\n",
       "  </tbody>\n",
       "</table>\n",
       "</div>"
      ],
      "text/plain": [
       "           children  days_employed     dob_years  education_id  \\\n",
       "count  21525.000000   19351.000000  21525.000000  21525.000000   \n",
       "mean       0.538908   63046.497661     43.293380      0.817236   \n",
       "std        1.381587  140827.311974     12.574584      0.548138   \n",
       "min       -1.000000  -18388.949901      0.000000      0.000000   \n",
       "25%        0.000000   -2747.423625     33.000000      1.000000   \n",
       "50%        0.000000   -1203.369529     42.000000      1.000000   \n",
       "75%        1.000000    -291.095954     53.000000      1.000000   \n",
       "max       20.000000  401755.400475     75.000000      4.000000   \n",
       "\n",
       "       family_status_id          debt  total_income  \n",
       "count      21525.000000  21525.000000  2.152500e+04  \n",
       "mean           0.972544      0.080883  1.651595e+05  \n",
       "std            1.420324      0.272661  9.786607e+04  \n",
       "min            0.000000      0.000000  2.066726e+04  \n",
       "25%            0.000000      0.000000  1.077982e+05  \n",
       "50%            0.000000      0.000000  1.450179e+05  \n",
       "75%            1.000000      0.000000  1.955436e+05  \n",
       "max            4.000000      1.000000  2.265604e+06  "
      ]
     },
     "execution_count": 9,
     "metadata": {},
     "output_type": "execute_result"
    }
   ],
   "source": [
    "# filling nans with the median value\n",
    "df['total_income'] = df['total_income'].fillna(df['total_income'].median())\n",
    "# check\n",
    "df.describe()"
   ]
  },
  {
   "cell_type": "markdown",
   "id": "369854e4",
   "metadata": {},
   "source": [
    "Missing values were filled in with the median and slightly changed the mean. The median was not affected and remained the same."
   ]
  },
  {
   "cell_type": "markdown",
   "id": "cba56ea9",
   "metadata": {},
   "source": [
    "### Checking data for anomalies"
   ]
  },
  {
   "cell_type": "markdown",
   "id": "2cdec04a",
   "metadata": {},
   "source": [
    "The `days_employed` column is characterized by a large number of anomalies and outliers - it contains negative values and work experience exceeding 100 years.\n",
    "\n",
    "Before preprocessing negative values and filling nans, we'll check the median of the work experience for negative observations."
   ]
  },
  {
   "cell_type": "code",
   "execution_count": 10,
   "id": "de7cdef5",
   "metadata": {},
   "outputs": [
    {
     "name": "stdout",
     "output_type": "stream",
     "text": [
      "Median value of work experience in years is: 4.47\n"
     ]
    }
   ],
   "source": [
    "# filtering dataset with negative values and conversion to positives\n",
    "work_days_positives = df[df.loc[:, 'days_employed'] < 0]['days_employed'] * -1\n",
    "print(f'Median value of work experience in years is: {work_days_positives.median() / 365:.2f}')"
   ]
  },
  {
   "cell_type": "code",
   "execution_count": 11,
   "id": "dba54cc0",
   "metadata": {},
   "outputs": [
    {
     "data": {
      "text/html": [
       "<div>\n",
       "<style scoped>\n",
       "    .dataframe tbody tr th:only-of-type {\n",
       "        vertical-align: middle;\n",
       "    }\n",
       "\n",
       "    .dataframe tbody tr th {\n",
       "        vertical-align: top;\n",
       "    }\n",
       "\n",
       "    .dataframe thead th {\n",
       "        text-align: right;\n",
       "    }\n",
       "</style>\n",
       "<table border=\"1\" class=\"dataframe\">\n",
       "  <thead>\n",
       "    <tr style=\"text-align: right;\">\n",
       "      <th></th>\n",
       "      <th>children</th>\n",
       "      <th>days_employed</th>\n",
       "      <th>dob_years</th>\n",
       "      <th>education</th>\n",
       "      <th>education_id</th>\n",
       "      <th>family_status</th>\n",
       "      <th>family_status_id</th>\n",
       "      <th>gender</th>\n",
       "      <th>income_type</th>\n",
       "      <th>debt</th>\n",
       "      <th>total_income</th>\n",
       "      <th>purpose</th>\n",
       "    </tr>\n",
       "  </thead>\n",
       "  <tbody>\n",
       "    <tr>\n",
       "      <th>0</th>\n",
       "      <td>-1</td>\n",
       "      <td>8437.673028</td>\n",
       "      <td>-42</td>\n",
       "      <td></td>\n",
       "      <td>0</td>\n",
       "      <td></td>\n",
       "      <td>0</td>\n",
       "      <td></td>\n",
       "      <td></td>\n",
       "      <td>0</td>\n",
       "      <td>-253875.639453</td>\n",
       "      <td></td>\n",
       "    </tr>\n",
       "    <tr>\n",
       "      <th>1</th>\n",
       "      <td>-1</td>\n",
       "      <td>4024.803754</td>\n",
       "      <td>-36</td>\n",
       "      <td></td>\n",
       "      <td>-1</td>\n",
       "      <td></td>\n",
       "      <td>0</td>\n",
       "      <td></td>\n",
       "      <td></td>\n",
       "      <td>0</td>\n",
       "      <td>-112080.014102</td>\n",
       "      <td></td>\n",
       "    </tr>\n",
       "    <tr>\n",
       "      <th>2</th>\n",
       "      <td>0</td>\n",
       "      <td>5623.422610</td>\n",
       "      <td>-33</td>\n",
       "      <td></td>\n",
       "      <td>-1</td>\n",
       "      <td></td>\n",
       "      <td>0</td>\n",
       "      <td></td>\n",
       "      <td></td>\n",
       "      <td>0</td>\n",
       "      <td>-145885.952297</td>\n",
       "      <td></td>\n",
       "    </tr>\n",
       "    <tr>\n",
       "      <th>3</th>\n",
       "      <td>-3</td>\n",
       "      <td>4124.747207</td>\n",
       "      <td>-32</td>\n",
       "      <td></td>\n",
       "      <td>-1</td>\n",
       "      <td></td>\n",
       "      <td>0</td>\n",
       "      <td></td>\n",
       "      <td></td>\n",
       "      <td>0</td>\n",
       "      <td>-267628.550329</td>\n",
       "      <td></td>\n",
       "    </tr>\n",
       "    <tr>\n",
       "      <th>5</th>\n",
       "      <td>0</td>\n",
       "      <td>926.185831</td>\n",
       "      <td>-27</td>\n",
       "      <td></td>\n",
       "      <td>0</td>\n",
       "      <td></td>\n",
       "      <td>-1</td>\n",
       "      <td></td>\n",
       "      <td></td>\n",
       "      <td>0</td>\n",
       "      <td>-255763.565419</td>\n",
       "      <td></td>\n",
       "    </tr>\n",
       "    <tr>\n",
       "      <th>...</th>\n",
       "      <td>...</td>\n",
       "      <td>...</td>\n",
       "      <td>...</td>\n",
       "      <td>...</td>\n",
       "      <td>...</td>\n",
       "      <td>...</td>\n",
       "      <td>...</td>\n",
       "      <td>...</td>\n",
       "      <td>...</td>\n",
       "      <td>...</td>\n",
       "      <td>...</td>\n",
       "      <td>...</td>\n",
       "    </tr>\n",
       "    <tr>\n",
       "      <th>21519</th>\n",
       "      <td>-1</td>\n",
       "      <td>2351.431934</td>\n",
       "      <td>-37</td>\n",
       "      <td></td>\n",
       "      <td>-4</td>\n",
       "      <td></td>\n",
       "      <td>-3</td>\n",
       "      <td></td>\n",
       "      <td></td>\n",
       "      <td>0</td>\n",
       "      <td>-115949.039788</td>\n",
       "      <td></td>\n",
       "    </tr>\n",
       "    <tr>\n",
       "      <th>21520</th>\n",
       "      <td>-1</td>\n",
       "      <td>4529.316663</td>\n",
       "      <td>-43</td>\n",
       "      <td></td>\n",
       "      <td>-1</td>\n",
       "      <td></td>\n",
       "      <td>-1</td>\n",
       "      <td></td>\n",
       "      <td></td>\n",
       "      <td>0</td>\n",
       "      <td>-224791.862382</td>\n",
       "      <td></td>\n",
       "    </tr>\n",
       "    <tr>\n",
       "      <th>21522</th>\n",
       "      <td>-1</td>\n",
       "      <td>2113.346888</td>\n",
       "      <td>-38</td>\n",
       "      <td></td>\n",
       "      <td>-1</td>\n",
       "      <td></td>\n",
       "      <td>-1</td>\n",
       "      <td></td>\n",
       "      <td></td>\n",
       "      <td>-1</td>\n",
       "      <td>-89672.561153</td>\n",
       "      <td></td>\n",
       "    </tr>\n",
       "    <tr>\n",
       "      <th>21523</th>\n",
       "      <td>-3</td>\n",
       "      <td>3112.481705</td>\n",
       "      <td>-38</td>\n",
       "      <td></td>\n",
       "      <td>-1</td>\n",
       "      <td></td>\n",
       "      <td>0</td>\n",
       "      <td></td>\n",
       "      <td></td>\n",
       "      <td>-1</td>\n",
       "      <td>-244093.050500</td>\n",
       "      <td></td>\n",
       "    </tr>\n",
       "    <tr>\n",
       "      <th>21524</th>\n",
       "      <td>-2</td>\n",
       "      <td>1984.507589</td>\n",
       "      <td>-40</td>\n",
       "      <td></td>\n",
       "      <td>-1</td>\n",
       "      <td></td>\n",
       "      <td>0</td>\n",
       "      <td></td>\n",
       "      <td></td>\n",
       "      <td>0</td>\n",
       "      <td>-82047.418899</td>\n",
       "      <td></td>\n",
       "    </tr>\n",
       "  </tbody>\n",
       "</table>\n",
       "<p>15906 rows × 12 columns</p>\n",
       "</div>"
      ],
      "text/plain": [
       "       children  days_employed  dob_years education  education_id  \\\n",
       "0            -1    8437.673028        -42                       0   \n",
       "1            -1    4024.803754        -36                      -1   \n",
       "2             0    5623.422610        -33                      -1   \n",
       "3            -3    4124.747207        -32                      -1   \n",
       "5             0     926.185831        -27                       0   \n",
       "...         ...            ...        ...       ...           ...   \n",
       "21519        -1    2351.431934        -37                      -4   \n",
       "21520        -1    4529.316663        -43                      -1   \n",
       "21522        -1    2113.346888        -38                      -1   \n",
       "21523        -3    3112.481705        -38                      -1   \n",
       "21524        -2    1984.507589        -40                      -1   \n",
       "\n",
       "      family_status  family_status_id gender income_type  debt   total_income  \\\n",
       "0                                   0                        0 -253875.639453   \n",
       "1                                   0                        0 -112080.014102   \n",
       "2                                   0                        0 -145885.952297   \n",
       "3                                   0                        0 -267628.550329   \n",
       "5                                  -1                        0 -255763.565419   \n",
       "...             ...               ...    ...         ...   ...            ...   \n",
       "21519                              -3                        0 -115949.039788   \n",
       "21520                              -1                        0 -224791.862382   \n",
       "21522                              -1                       -1  -89672.561153   \n",
       "21523                               0                       -1 -244093.050500   \n",
       "21524                               0                        0  -82047.418899   \n",
       "\n",
       "      purpose  \n",
       "0              \n",
       "1              \n",
       "2              \n",
       "3              \n",
       "5              \n",
       "...       ...  \n",
       "21519          \n",
       "21520          \n",
       "21522          \n",
       "21523          \n",
       "21524          \n",
       "\n",
       "[15906 rows x 12 columns]"
      ]
     },
     "execution_count": 11,
     "metadata": {},
     "output_type": "execute_result"
    }
   ],
   "source": [
    "df[df['days_employed'] < 0] * -1"
   ]
  },
  {
   "cell_type": "markdown",
   "id": "c4e9a67a",
   "metadata": {},
   "source": [
    "This value seems objective enough and can be further used to fill nans in the `days_employed` column. Before we do that, let's convert negative values to positive."
   ]
  },
  {
   "cell_type": "code",
   "execution_count": 12,
   "id": "da943853",
   "metadata": {},
   "outputs": [],
   "source": [
    "# converting negative values to positive ones\n",
    "df['days_employed'] = df['days_employed'].apply(lambda x: x * -1 if x < 0 else x)\n",
    "# filling nans with median for previously negative values\n",
    "df['days_employed'] = df['days_employed'].fillna(work_days_positives.median())"
   ]
  },
  {
   "cell_type": "code",
   "execution_count": 13,
   "id": "8d53868f",
   "metadata": {},
   "outputs": [
    {
     "data": {
      "text/html": [
       "<div>\n",
       "<style scoped>\n",
       "    .dataframe tbody tr th:only-of-type {\n",
       "        vertical-align: middle;\n",
       "    }\n",
       "\n",
       "    .dataframe tbody tr th {\n",
       "        vertical-align: top;\n",
       "    }\n",
       "\n",
       "    .dataframe thead th {\n",
       "        text-align: right;\n",
       "    }\n",
       "</style>\n",
       "<table border=\"1\" class=\"dataframe\">\n",
       "  <thead>\n",
       "    <tr style=\"text-align: right;\">\n",
       "      <th></th>\n",
       "      <th>children</th>\n",
       "      <th>days_employed</th>\n",
       "      <th>dob_years</th>\n",
       "      <th>education_id</th>\n",
       "      <th>family_status_id</th>\n",
       "      <th>debt</th>\n",
       "      <th>total_income</th>\n",
       "    </tr>\n",
       "  </thead>\n",
       "  <tbody>\n",
       "    <tr>\n",
       "      <th>count</th>\n",
       "      <td>21525.000000</td>\n",
       "      <td>21525.000000</td>\n",
       "      <td>21525.000000</td>\n",
       "      <td>21525.000000</td>\n",
       "      <td>21525.000000</td>\n",
       "      <td>21525.000000</td>\n",
       "      <td>2.152500e+04</td>\n",
       "    </tr>\n",
       "    <tr>\n",
       "      <th>mean</th>\n",
       "      <td>0.538908</td>\n",
       "      <td>60321.049069</td>\n",
       "      <td>43.293380</td>\n",
       "      <td>0.817236</td>\n",
       "      <td>0.972544</td>\n",
       "      <td>0.080883</td>\n",
       "      <td>1.651595e+05</td>\n",
       "    </tr>\n",
       "    <tr>\n",
       "      <th>std</th>\n",
       "      <td>1.381587</td>\n",
       "      <td>133282.546372</td>\n",
       "      <td>12.574584</td>\n",
       "      <td>0.548138</td>\n",
       "      <td>1.420324</td>\n",
       "      <td>0.272661</td>\n",
       "      <td>9.786607e+04</td>\n",
       "    </tr>\n",
       "    <tr>\n",
       "      <th>min</th>\n",
       "      <td>-1.000000</td>\n",
       "      <td>24.141633</td>\n",
       "      <td>0.000000</td>\n",
       "      <td>0.000000</td>\n",
       "      <td>0.000000</td>\n",
       "      <td>0.000000</td>\n",
       "      <td>2.066726e+04</td>\n",
       "    </tr>\n",
       "    <tr>\n",
       "      <th>25%</th>\n",
       "      <td>0.000000</td>\n",
       "      <td>1025.608174</td>\n",
       "      <td>33.000000</td>\n",
       "      <td>1.000000</td>\n",
       "      <td>0.000000</td>\n",
       "      <td>0.000000</td>\n",
       "      <td>1.077982e+05</td>\n",
       "    </tr>\n",
       "    <tr>\n",
       "      <th>50%</th>\n",
       "      <td>0.000000</td>\n",
       "      <td>1808.053434</td>\n",
       "      <td>42.000000</td>\n",
       "      <td>1.000000</td>\n",
       "      <td>0.000000</td>\n",
       "      <td>0.000000</td>\n",
       "      <td>1.450179e+05</td>\n",
       "    </tr>\n",
       "    <tr>\n",
       "      <th>75%</th>\n",
       "      <td>1.000000</td>\n",
       "      <td>4779.587738</td>\n",
       "      <td>53.000000</td>\n",
       "      <td>1.000000</td>\n",
       "      <td>1.000000</td>\n",
       "      <td>0.000000</td>\n",
       "      <td>1.955436e+05</td>\n",
       "    </tr>\n",
       "    <tr>\n",
       "      <th>max</th>\n",
       "      <td>20.000000</td>\n",
       "      <td>401755.400475</td>\n",
       "      <td>75.000000</td>\n",
       "      <td>4.000000</td>\n",
       "      <td>4.000000</td>\n",
       "      <td>1.000000</td>\n",
       "      <td>2.265604e+06</td>\n",
       "    </tr>\n",
       "  </tbody>\n",
       "</table>\n",
       "</div>"
      ],
      "text/plain": [
       "           children  days_employed     dob_years  education_id  \\\n",
       "count  21525.000000   21525.000000  21525.000000  21525.000000   \n",
       "mean       0.538908   60321.049069     43.293380      0.817236   \n",
       "std        1.381587  133282.546372     12.574584      0.548138   \n",
       "min       -1.000000      24.141633      0.000000      0.000000   \n",
       "25%        0.000000    1025.608174     33.000000      1.000000   \n",
       "50%        0.000000    1808.053434     42.000000      1.000000   \n",
       "75%        1.000000    4779.587738     53.000000      1.000000   \n",
       "max       20.000000  401755.400475     75.000000      4.000000   \n",
       "\n",
       "       family_status_id          debt  total_income  \n",
       "count      21525.000000  21525.000000  2.152500e+04  \n",
       "mean           0.972544      0.080883  1.651595e+05  \n",
       "std            1.420324      0.272661  9.786607e+04  \n",
       "min            0.000000      0.000000  2.066726e+04  \n",
       "25%            0.000000      0.000000  1.077982e+05  \n",
       "50%            0.000000      0.000000  1.450179e+05  \n",
       "75%            1.000000      0.000000  1.955436e+05  \n",
       "max            4.000000      1.000000  2.265604e+06  "
      ]
     },
     "execution_count": 13,
     "metadata": {},
     "output_type": "execute_result"
    }
   ],
   "source": [
    "df.describe()"
   ]
  },
  {
   "cell_type": "markdown",
   "id": "95c7247d",
   "metadata": {},
   "source": [
    "Missing values in the `days_employed` column are filled in. The median is 1808 days. The next step is to check the values in the `children` column."
   ]
  },
  {
   "cell_type": "code",
   "execution_count": 14,
   "id": "f8fd1f5f",
   "metadata": {},
   "outputs": [
    {
     "data": {
      "text/plain": [
       "children\n",
       "-1        47\n",
       " 0     14149\n",
       " 1      4818\n",
       " 2      2055\n",
       " 3       330\n",
       " 4        41\n",
       " 5         9\n",
       " 20       76\n",
       "Name: children, dtype: int64"
      ]
     },
     "execution_count": 14,
     "metadata": {},
     "output_type": "execute_result"
    }
   ],
   "source": [
    "# counting observations grouping the number of children in a family\n",
    "df.groupby('children')['children'].agg('count')"
   ]
  },
  {
   "cell_type": "markdown",
   "id": "aa7fe5b5",
   "metadata": {},
   "source": [
    "Given the range above, most observations are concentrated in the range of 0 to 5 children, and the values -1 and 20 are most likely client/operator input errors during the information gathering process. A value of -1 could be interpreted as 1 child in the family, and a value of 20 could be interpreted as 2 children in the family. Assigning these values to the appropriate group will not have a significant impact on our research."
   ]
  },
  {
   "cell_type": "code",
   "execution_count": 15,
   "id": "8fb921af",
   "metadata": {},
   "outputs": [],
   "source": [
    "# replacing values\n",
    "df.replace({'children': {-1: 1, 20: 2}}, inplace=True)"
   ]
  },
  {
   "cell_type": "code",
   "execution_count": 16,
   "id": "812fe749",
   "metadata": {},
   "outputs": [
    {
     "data": {
      "text/plain": [
       "children\n",
       "0    14149\n",
       "1     4865\n",
       "2     2131\n",
       "3      330\n",
       "4       41\n",
       "5        9\n",
       "Name: children, dtype: int64"
      ]
     },
     "execution_count": 16,
     "metadata": {},
     "output_type": "execute_result"
    }
   ],
   "source": [
    "# check\n",
    "df.groupby('children')['children'].agg('count')"
   ]
  },
  {
   "cell_type": "markdown",
   "id": "68f2b7ea",
   "metadata": {},
   "source": [
    "The wrong values were changed. Dataset can be used for further processing of duplicates and column type changes."
   ]
  },
  {
   "cell_type": "markdown",
   "id": "c1f53709",
   "metadata": {},
   "source": [
    "### Changing columns types"
   ]
  },
  {
   "cell_type": "code",
   "execution_count": 17,
   "id": "a408e682",
   "metadata": {},
   "outputs": [],
   "source": [
    "df['total_income'] = df['total_income'].astype('int')"
   ]
  },
  {
   "cell_type": "code",
   "execution_count": 18,
   "id": "8f8b9478",
   "metadata": {},
   "outputs": [
    {
     "data": {
      "text/plain": [
       "children              int64\n",
       "days_employed       float64\n",
       "dob_years             int64\n",
       "education            object\n",
       "education_id          int64\n",
       "family_status        object\n",
       "family_status_id      int64\n",
       "gender               object\n",
       "income_type          object\n",
       "debt                  int64\n",
       "total_income          int32\n",
       "purpose              object\n",
       "dtype: object"
      ]
     },
     "execution_count": 18,
     "metadata": {},
     "output_type": "execute_result"
    }
   ],
   "source": [
    "df.dtypes"
   ]
  },
  {
   "cell_type": "markdown",
   "id": "089973c0",
   "metadata": {},
   "source": [
    "### Deleting duplicates"
   ]
  },
  {
   "cell_type": "markdown",
   "id": "5cd0e84e",
   "metadata": {},
   "source": [
    "We'll use the value_counts method to count explicit and implicit duplicates."
   ]
  },
  {
   "cell_type": "code",
   "execution_count": 19,
   "id": "62a6fbb0",
   "metadata": {},
   "outputs": [
    {
     "name": "stdout",
     "output_type": "stream",
     "text": [
      "\n",
      "children\n",
      "0    14149\n",
      "1     4865\n",
      "2     2131\n",
      "3      330\n",
      "4       41\n",
      "5        9\n",
      "Name: children, dtype: int64\n",
      "\n",
      "days_employed\n",
      "1630.019381    2174\n",
      "142.276217        1\n",
      "428.558853        1\n",
      "5849.845620       1\n",
      "886.253127        1\n",
      "               ... \n",
      "2325.720832       1\n",
      "4086.407828       1\n",
      "1259.497032       1\n",
      "985.798488        1\n",
      "1636.419775       1\n",
      "Name: days_employed, Length: 19352, dtype: int64\n",
      "\n",
      "dob_years\n",
      "35    617\n",
      "40    609\n",
      "41    607\n",
      "34    603\n",
      "38    598\n",
      "42    597\n",
      "33    581\n",
      "39    573\n",
      "31    560\n",
      "36    555\n",
      "44    547\n",
      "29    545\n",
      "30    540\n",
      "48    538\n",
      "37    537\n",
      "50    514\n",
      "43    513\n",
      "32    510\n",
      "49    508\n",
      "28    503\n",
      "45    497\n",
      "27    493\n",
      "56    487\n",
      "52    484\n",
      "47    480\n",
      "54    479\n",
      "46    475\n",
      "58    461\n",
      "57    460\n",
      "53    459\n",
      "51    448\n",
      "59    444\n",
      "55    443\n",
      "26    408\n",
      "60    377\n",
      "25    357\n",
      "61    355\n",
      "62    352\n",
      "63    269\n",
      "64    265\n",
      "24    264\n",
      "23    254\n",
      "65    194\n",
      "66    183\n",
      "22    183\n",
      "67    167\n",
      "21    111\n",
      "0     101\n",
      "68     99\n",
      "69     85\n",
      "70     65\n",
      "71     58\n",
      "20     51\n",
      "72     33\n",
      "19     14\n",
      "73      8\n",
      "74      6\n",
      "75      1\n",
      "Name: dob_years, dtype: int64\n",
      "\n",
      "education\n",
      "среднее                13750\n",
      "высшее                  4718\n",
      "СРЕДНЕЕ                  772\n",
      "Среднее                  711\n",
      "неоконченное высшее      668\n",
      "ВЫСШЕЕ                   274\n",
      "Высшее                   268\n",
      "начальное                250\n",
      "Неоконченное высшее       47\n",
      "НЕОКОНЧЕННОЕ ВЫСШЕЕ       29\n",
      "НАЧАЛЬНОЕ                 17\n",
      "Начальное                 15\n",
      "ученая степень             4\n",
      "УЧЕНАЯ СТЕПЕНЬ             1\n",
      "Ученая степень             1\n",
      "Name: education, dtype: int64\n",
      "\n",
      "education_id\n",
      "1    15233\n",
      "0     5260\n",
      "2      744\n",
      "3      282\n",
      "4        6\n",
      "Name: education_id, dtype: int64\n",
      "\n",
      "family_status\n",
      "женат / замужем          12380\n",
      "гражданский брак          4177\n",
      "Не женат / не замужем     2813\n",
      "в разводе                 1195\n",
      "вдовец / вдова             960\n",
      "Name: family_status, dtype: int64\n",
      "\n",
      "family_status_id\n",
      "0    12380\n",
      "1     4177\n",
      "4     2813\n",
      "3     1195\n",
      "2      960\n",
      "Name: family_status_id, dtype: int64\n",
      "\n",
      "gender\n",
      "F      14236\n",
      "M       7288\n",
      "XNA        1\n",
      "Name: gender, dtype: int64\n",
      "\n",
      "income_type\n",
      "сотрудник          11119\n",
      "компаньон           5085\n",
      "пенсионер           3856\n",
      "госслужащий         1459\n",
      "предприниматель        2\n",
      "безработный            2\n",
      "в декрете              1\n",
      "студент                1\n",
      "Name: income_type, dtype: int64\n",
      "\n",
      "debt\n",
      "0    19784\n",
      "1     1741\n",
      "Name: debt, dtype: int64\n",
      "\n",
      "total_income\n",
      "145017    2175\n",
      "139038       3\n",
      "104693       3\n",
      "172040       3\n",
      "144163       3\n",
      "          ... \n",
      "205761       1\n",
      "179138       1\n",
      "61724        1\n",
      "99269        1\n",
      "126820       1\n",
      "Name: total_income, Length: 18606, dtype: int64\n",
      "\n",
      "purpose\n",
      "свадьба                                   797\n",
      "на проведение свадьбы                     777\n",
      "сыграть свадьбу                           774\n",
      "операции с недвижимостью                  676\n",
      "покупка коммерческой недвижимости         664\n",
      "покупка жилья для сдачи                   653\n",
      "операции с жильем                         653\n",
      "операции с коммерческой недвижимостью     651\n",
      "жилье                                     647\n",
      "покупка жилья                             647\n",
      "покупка жилья для семьи                   641\n",
      "строительство собственной недвижимости    635\n",
      "недвижимость                              634\n",
      "операции со своей недвижимостью           630\n",
      "строительство жилой недвижимости          626\n",
      "покупка недвижимости                      624\n",
      "строительство недвижимости                620\n",
      "покупка своего жилья                      620\n",
      "ремонт жилью                              612\n",
      "покупка жилой недвижимости                607\n",
      "на покупку своего автомобиля              505\n",
      "заняться высшим образованием              496\n",
      "автомобиль                                495\n",
      "сделка с подержанным автомобилем          489\n",
      "свой автомобиль                           480\n",
      "на покупку подержанного автомобиля        479\n",
      "автомобили                                478\n",
      "на покупку автомобиля                     472\n",
      "приобретение автомобиля                   462\n",
      "дополнительное образование                462\n",
      "сделка с автомобилем                      455\n",
      "высшее образование                        453\n",
      "образование                               447\n",
      "получение дополнительного образования     447\n",
      "получение образования                     443\n",
      "профильное образование                    436\n",
      "получение высшего образования             426\n",
      "заняться образованием                     412\n",
      "Name: purpose, dtype: int64\n"
     ]
    }
   ],
   "source": [
    "# counting values in every column\n",
    "for column in df.columns:\n",
    "     print(\"\\n\" + column)\n",
    "     print(df[column].value_counts())"
   ]
  },
  {
   "cell_type": "markdown",
   "id": "cce8ea8c",
   "metadata": {},
   "source": [
    "In the `education` column there are categories written in different cases. In addition, we should note the `gender` column, which contains an observation with a value of \"XNA\". Let's overwrite all values in the `education` column with the same case."
   ]
  },
  {
   "cell_type": "code",
   "execution_count": 20,
   "id": "6e021677",
   "metadata": {},
   "outputs": [],
   "source": [
    "df['education'] = df['education'].str.lower()"
   ]
  },
  {
   "cell_type": "markdown",
   "id": "157c3a39",
   "metadata": {},
   "source": [
    "Let's check the number of duplicates in the record and delete them. The presence of duplicate values can be associated with repeated applications for a loan."
   ]
  },
  {
   "cell_type": "code",
   "execution_count": 21,
   "id": "7ef7254a",
   "metadata": {},
   "outputs": [
    {
     "name": "stdout",
     "output_type": "stream",
     "text": [
      "Number of duplicates is: 71\n"
     ]
    }
   ],
   "source": [
    "print(f'Number of duplicates is: {df.duplicated().sum()}')"
   ]
  },
  {
   "cell_type": "code",
   "execution_count": 22,
   "id": "0e08adbd",
   "metadata": {},
   "outputs": [],
   "source": [
    "df = df.drop_duplicates().reset_index(drop=True)"
   ]
  },
  {
   "cell_type": "markdown",
   "id": "a39f5f24",
   "metadata": {},
   "source": [
    "### Creation of additional dictionaries, decomposition of the original dataframe"
   ]
  },
  {
   "cell_type": "markdown",
   "id": "160469ad",
   "metadata": {},
   "source": [
    "Let's create two new dataframes that contain unique values from the `education' and `education_id', `family_status' and `family_status_id' columns to make working with the dataset easier."
   ]
  },
  {
   "cell_type": "code",
   "execution_count": 23,
   "id": "cc40470e",
   "metadata": {},
   "outputs": [],
   "source": [
    "# creating a dataframe with unique education level values\n",
    "education = df[['education', 'education_id']].drop_duplicates().reset_index(drop=True)\n",
    "family = df[['family_status', 'family_status_id']].drop_duplicates().reset_index(drop=True)"
   ]
  },
  {
   "cell_type": "code",
   "execution_count": 24,
   "id": "dd21af10",
   "metadata": {},
   "outputs": [
    {
     "data": {
      "text/html": [
       "<div>\n",
       "<style scoped>\n",
       "    .dataframe tbody tr th:only-of-type {\n",
       "        vertical-align: middle;\n",
       "    }\n",
       "\n",
       "    .dataframe tbody tr th {\n",
       "        vertical-align: top;\n",
       "    }\n",
       "\n",
       "    .dataframe thead th {\n",
       "        text-align: right;\n",
       "    }\n",
       "</style>\n",
       "<table border=\"1\" class=\"dataframe\">\n",
       "  <thead>\n",
       "    <tr style=\"text-align: right;\">\n",
       "      <th></th>\n",
       "      <th>education</th>\n",
       "      <th>education_id</th>\n",
       "    </tr>\n",
       "  </thead>\n",
       "  <tbody>\n",
       "    <tr>\n",
       "      <th>0</th>\n",
       "      <td>высшее</td>\n",
       "      <td>0</td>\n",
       "    </tr>\n",
       "    <tr>\n",
       "      <th>1</th>\n",
       "      <td>среднее</td>\n",
       "      <td>1</td>\n",
       "    </tr>\n",
       "    <tr>\n",
       "      <th>2</th>\n",
       "      <td>неоконченное высшее</td>\n",
       "      <td>2</td>\n",
       "    </tr>\n",
       "    <tr>\n",
       "      <th>3</th>\n",
       "      <td>начальное</td>\n",
       "      <td>3</td>\n",
       "    </tr>\n",
       "    <tr>\n",
       "      <th>4</th>\n",
       "      <td>ученая степень</td>\n",
       "      <td>4</td>\n",
       "    </tr>\n",
       "  </tbody>\n",
       "</table>\n",
       "</div>"
      ],
      "text/plain": [
       "             education  education_id\n",
       "0               высшее             0\n",
       "1              среднее             1\n",
       "2  неоконченное высшее             2\n",
       "3            начальное             3\n",
       "4       ученая степень             4"
      ]
     },
     "metadata": {},
     "output_type": "display_data"
    }
   ],
   "source": [
    "display(education)"
   ]
  },
  {
   "cell_type": "code",
   "execution_count": 25,
   "id": "2796ed6f",
   "metadata": {},
   "outputs": [
    {
     "data": {
      "text/html": [
       "<div>\n",
       "<style scoped>\n",
       "    .dataframe tbody tr th:only-of-type {\n",
       "        vertical-align: middle;\n",
       "    }\n",
       "\n",
       "    .dataframe tbody tr th {\n",
       "        vertical-align: top;\n",
       "    }\n",
       "\n",
       "    .dataframe thead th {\n",
       "        text-align: right;\n",
       "    }\n",
       "</style>\n",
       "<table border=\"1\" class=\"dataframe\">\n",
       "  <thead>\n",
       "    <tr style=\"text-align: right;\">\n",
       "      <th></th>\n",
       "      <th>family_status</th>\n",
       "      <th>family_status_id</th>\n",
       "    </tr>\n",
       "  </thead>\n",
       "  <tbody>\n",
       "    <tr>\n",
       "      <th>0</th>\n",
       "      <td>женат / замужем</td>\n",
       "      <td>0</td>\n",
       "    </tr>\n",
       "    <tr>\n",
       "      <th>1</th>\n",
       "      <td>гражданский брак</td>\n",
       "      <td>1</td>\n",
       "    </tr>\n",
       "    <tr>\n",
       "      <th>2</th>\n",
       "      <td>вдовец / вдова</td>\n",
       "      <td>2</td>\n",
       "    </tr>\n",
       "    <tr>\n",
       "      <th>3</th>\n",
       "      <td>в разводе</td>\n",
       "      <td>3</td>\n",
       "    </tr>\n",
       "    <tr>\n",
       "      <th>4</th>\n",
       "      <td>Не женат / не замужем</td>\n",
       "      <td>4</td>\n",
       "    </tr>\n",
       "  </tbody>\n",
       "</table>\n",
       "</div>"
      ],
      "text/plain": [
       "           family_status  family_status_id\n",
       "0        женат / замужем                 0\n",
       "1       гражданский брак                 1\n",
       "2         вдовец / вдова                 2\n",
       "3              в разводе                 3\n",
       "4  Не женат / не замужем                 4"
      ]
     },
     "metadata": {},
     "output_type": "display_data"
    }
   ],
   "source": [
    "display(family)"
   ]
  },
  {
   "cell_type": "markdown",
   "id": "9a3594de",
   "metadata": {},
   "source": [
    "Let's delete the `education` and `family_status` columns from the original dataframe."
   ]
  },
  {
   "cell_type": "code",
   "execution_count": 26,
   "id": "a603fdeb",
   "metadata": {},
   "outputs": [
    {
     "data": {
      "text/html": [
       "<div>\n",
       "<style scoped>\n",
       "    .dataframe tbody tr th:only-of-type {\n",
       "        vertical-align: middle;\n",
       "    }\n",
       "\n",
       "    .dataframe tbody tr th {\n",
       "        vertical-align: top;\n",
       "    }\n",
       "\n",
       "    .dataframe thead th {\n",
       "        text-align: right;\n",
       "    }\n",
       "</style>\n",
       "<table border=\"1\" class=\"dataframe\">\n",
       "  <thead>\n",
       "    <tr style=\"text-align: right;\">\n",
       "      <th></th>\n",
       "      <th>children</th>\n",
       "      <th>days_employed</th>\n",
       "      <th>dob_years</th>\n",
       "      <th>education_id</th>\n",
       "      <th>family_status_id</th>\n",
       "      <th>gender</th>\n",
       "      <th>income_type</th>\n",
       "      <th>debt</th>\n",
       "      <th>total_income</th>\n",
       "      <th>purpose</th>\n",
       "    </tr>\n",
       "  </thead>\n",
       "  <tbody>\n",
       "    <tr>\n",
       "      <th>0</th>\n",
       "      <td>1</td>\n",
       "      <td>8437.673028</td>\n",
       "      <td>42</td>\n",
       "      <td>0</td>\n",
       "      <td>0</td>\n",
       "      <td>F</td>\n",
       "      <td>сотрудник</td>\n",
       "      <td>0</td>\n",
       "      <td>253875</td>\n",
       "      <td>покупка жилья</td>\n",
       "    </tr>\n",
       "    <tr>\n",
       "      <th>1</th>\n",
       "      <td>1</td>\n",
       "      <td>4024.803754</td>\n",
       "      <td>36</td>\n",
       "      <td>1</td>\n",
       "      <td>0</td>\n",
       "      <td>F</td>\n",
       "      <td>сотрудник</td>\n",
       "      <td>0</td>\n",
       "      <td>112080</td>\n",
       "      <td>приобретение автомобиля</td>\n",
       "    </tr>\n",
       "    <tr>\n",
       "      <th>2</th>\n",
       "      <td>0</td>\n",
       "      <td>5623.422610</td>\n",
       "      <td>33</td>\n",
       "      <td>1</td>\n",
       "      <td>0</td>\n",
       "      <td>M</td>\n",
       "      <td>сотрудник</td>\n",
       "      <td>0</td>\n",
       "      <td>145885</td>\n",
       "      <td>покупка жилья</td>\n",
       "    </tr>\n",
       "    <tr>\n",
       "      <th>3</th>\n",
       "      <td>3</td>\n",
       "      <td>4124.747207</td>\n",
       "      <td>32</td>\n",
       "      <td>1</td>\n",
       "      <td>0</td>\n",
       "      <td>M</td>\n",
       "      <td>сотрудник</td>\n",
       "      <td>0</td>\n",
       "      <td>267628</td>\n",
       "      <td>дополнительное образование</td>\n",
       "    </tr>\n",
       "    <tr>\n",
       "      <th>4</th>\n",
       "      <td>0</td>\n",
       "      <td>340266.072047</td>\n",
       "      <td>53</td>\n",
       "      <td>1</td>\n",
       "      <td>1</td>\n",
       "      <td>F</td>\n",
       "      <td>пенсионер</td>\n",
       "      <td>0</td>\n",
       "      <td>158616</td>\n",
       "      <td>сыграть свадьбу</td>\n",
       "    </tr>\n",
       "  </tbody>\n",
       "</table>\n",
       "</div>"
      ],
      "text/plain": [
       "   children  days_employed  dob_years  education_id  family_status_id gender  \\\n",
       "0         1    8437.673028         42             0                 0      F   \n",
       "1         1    4024.803754         36             1                 0      F   \n",
       "2         0    5623.422610         33             1                 0      M   \n",
       "3         3    4124.747207         32             1                 0      M   \n",
       "4         0  340266.072047         53             1                 1      F   \n",
       "\n",
       "  income_type  debt  total_income                     purpose  \n",
       "0   сотрудник     0        253875               покупка жилья  \n",
       "1   сотрудник     0        112080     приобретение автомобиля  \n",
       "2   сотрудник     0        145885               покупка жилья  \n",
       "3   сотрудник     0        267628  дополнительное образование  \n",
       "4   пенсионер     0        158616             сыграть свадьбу  "
      ]
     },
     "metadata": {},
     "output_type": "display_data"
    }
   ],
   "source": [
    "df = df.drop(columns=['education', 'family_status'])\n",
    "display(df.head())"
   ]
  },
  {
   "cell_type": "markdown",
   "id": "cf07b2b9",
   "metadata": {},
   "source": [
    "### Income categorization"
   ]
  },
  {
   "cell_type": "markdown",
   "id": "06d0d47a",
   "metadata": {},
   "source": [
    "Let's create a column `total_income_category` with customer categories based on income level. We'll use a function that assigns a category to a customer based on their income."
   ]
  },
  {
   "cell_type": "code",
   "execution_count": 27,
   "id": "67a6e4d8",
   "metadata": {},
   "outputs": [],
   "source": [
    "# income categorization function\n",
    "def income_category(income):\n",
    "    if income <= 30000:\n",
    "        return 'E'\n",
    "    elif income <= 50000:\n",
    "        return 'D'\n",
    "    elif income <= 200000:\n",
    "        return 'C'\n",
    "    elif income <= 1000000:\n",
    "        return 'B'\n",
    "    else:\n",
    "        return 'A'"
   ]
  },
  {
   "cell_type": "code",
   "execution_count": 28,
   "id": "0d8031e0",
   "metadata": {},
   "outputs": [
    {
     "data": {
      "text/html": [
       "<div>\n",
       "<style scoped>\n",
       "    .dataframe tbody tr th:only-of-type {\n",
       "        vertical-align: middle;\n",
       "    }\n",
       "\n",
       "    .dataframe tbody tr th {\n",
       "        vertical-align: top;\n",
       "    }\n",
       "\n",
       "    .dataframe thead th {\n",
       "        text-align: right;\n",
       "    }\n",
       "</style>\n",
       "<table border=\"1\" class=\"dataframe\">\n",
       "  <thead>\n",
       "    <tr style=\"text-align: right;\">\n",
       "      <th></th>\n",
       "      <th>children</th>\n",
       "      <th>days_employed</th>\n",
       "      <th>dob_years</th>\n",
       "      <th>education_id</th>\n",
       "      <th>family_status_id</th>\n",
       "      <th>gender</th>\n",
       "      <th>income_type</th>\n",
       "      <th>debt</th>\n",
       "      <th>total_income</th>\n",
       "      <th>purpose</th>\n",
       "      <th>total_income_category</th>\n",
       "    </tr>\n",
       "  </thead>\n",
       "  <tbody>\n",
       "    <tr>\n",
       "      <th>0</th>\n",
       "      <td>1</td>\n",
       "      <td>8437.673028</td>\n",
       "      <td>42</td>\n",
       "      <td>0</td>\n",
       "      <td>0</td>\n",
       "      <td>F</td>\n",
       "      <td>сотрудник</td>\n",
       "      <td>0</td>\n",
       "      <td>253875</td>\n",
       "      <td>покупка жилья</td>\n",
       "      <td>B</td>\n",
       "    </tr>\n",
       "    <tr>\n",
       "      <th>1</th>\n",
       "      <td>1</td>\n",
       "      <td>4024.803754</td>\n",
       "      <td>36</td>\n",
       "      <td>1</td>\n",
       "      <td>0</td>\n",
       "      <td>F</td>\n",
       "      <td>сотрудник</td>\n",
       "      <td>0</td>\n",
       "      <td>112080</td>\n",
       "      <td>приобретение автомобиля</td>\n",
       "      <td>C</td>\n",
       "    </tr>\n",
       "    <tr>\n",
       "      <th>2</th>\n",
       "      <td>0</td>\n",
       "      <td>5623.422610</td>\n",
       "      <td>33</td>\n",
       "      <td>1</td>\n",
       "      <td>0</td>\n",
       "      <td>M</td>\n",
       "      <td>сотрудник</td>\n",
       "      <td>0</td>\n",
       "      <td>145885</td>\n",
       "      <td>покупка жилья</td>\n",
       "      <td>C</td>\n",
       "    </tr>\n",
       "    <tr>\n",
       "      <th>3</th>\n",
       "      <td>3</td>\n",
       "      <td>4124.747207</td>\n",
       "      <td>32</td>\n",
       "      <td>1</td>\n",
       "      <td>0</td>\n",
       "      <td>M</td>\n",
       "      <td>сотрудник</td>\n",
       "      <td>0</td>\n",
       "      <td>267628</td>\n",
       "      <td>дополнительное образование</td>\n",
       "      <td>B</td>\n",
       "    </tr>\n",
       "    <tr>\n",
       "      <th>4</th>\n",
       "      <td>0</td>\n",
       "      <td>340266.072047</td>\n",
       "      <td>53</td>\n",
       "      <td>1</td>\n",
       "      <td>1</td>\n",
       "      <td>F</td>\n",
       "      <td>пенсионер</td>\n",
       "      <td>0</td>\n",
       "      <td>158616</td>\n",
       "      <td>сыграть свадьбу</td>\n",
       "      <td>C</td>\n",
       "    </tr>\n",
       "    <tr>\n",
       "      <th>...</th>\n",
       "      <td>...</td>\n",
       "      <td>...</td>\n",
       "      <td>...</td>\n",
       "      <td>...</td>\n",
       "      <td>...</td>\n",
       "      <td>...</td>\n",
       "      <td>...</td>\n",
       "      <td>...</td>\n",
       "      <td>...</td>\n",
       "      <td>...</td>\n",
       "      <td>...</td>\n",
       "    </tr>\n",
       "    <tr>\n",
       "      <th>21449</th>\n",
       "      <td>1</td>\n",
       "      <td>4529.316663</td>\n",
       "      <td>43</td>\n",
       "      <td>1</td>\n",
       "      <td>1</td>\n",
       "      <td>F</td>\n",
       "      <td>компаньон</td>\n",
       "      <td>0</td>\n",
       "      <td>224791</td>\n",
       "      <td>операции с жильем</td>\n",
       "      <td>B</td>\n",
       "    </tr>\n",
       "    <tr>\n",
       "      <th>21450</th>\n",
       "      <td>0</td>\n",
       "      <td>343937.404131</td>\n",
       "      <td>67</td>\n",
       "      <td>1</td>\n",
       "      <td>0</td>\n",
       "      <td>F</td>\n",
       "      <td>пенсионер</td>\n",
       "      <td>0</td>\n",
       "      <td>155999</td>\n",
       "      <td>сделка с автомобилем</td>\n",
       "      <td>C</td>\n",
       "    </tr>\n",
       "    <tr>\n",
       "      <th>21451</th>\n",
       "      <td>1</td>\n",
       "      <td>2113.346888</td>\n",
       "      <td>38</td>\n",
       "      <td>1</td>\n",
       "      <td>1</td>\n",
       "      <td>M</td>\n",
       "      <td>сотрудник</td>\n",
       "      <td>1</td>\n",
       "      <td>89672</td>\n",
       "      <td>недвижимость</td>\n",
       "      <td>C</td>\n",
       "    </tr>\n",
       "    <tr>\n",
       "      <th>21452</th>\n",
       "      <td>3</td>\n",
       "      <td>3112.481705</td>\n",
       "      <td>38</td>\n",
       "      <td>1</td>\n",
       "      <td>0</td>\n",
       "      <td>M</td>\n",
       "      <td>сотрудник</td>\n",
       "      <td>1</td>\n",
       "      <td>244093</td>\n",
       "      <td>на покупку своего автомобиля</td>\n",
       "      <td>B</td>\n",
       "    </tr>\n",
       "    <tr>\n",
       "      <th>21453</th>\n",
       "      <td>2</td>\n",
       "      <td>1984.507589</td>\n",
       "      <td>40</td>\n",
       "      <td>1</td>\n",
       "      <td>0</td>\n",
       "      <td>F</td>\n",
       "      <td>сотрудник</td>\n",
       "      <td>0</td>\n",
       "      <td>82047</td>\n",
       "      <td>на покупку автомобиля</td>\n",
       "      <td>C</td>\n",
       "    </tr>\n",
       "  </tbody>\n",
       "</table>\n",
       "<p>21454 rows × 11 columns</p>\n",
       "</div>"
      ],
      "text/plain": [
       "       children  days_employed  dob_years  education_id  family_status_id  \\\n",
       "0             1    8437.673028         42             0                 0   \n",
       "1             1    4024.803754         36             1                 0   \n",
       "2             0    5623.422610         33             1                 0   \n",
       "3             3    4124.747207         32             1                 0   \n",
       "4             0  340266.072047         53             1                 1   \n",
       "...         ...            ...        ...           ...               ...   \n",
       "21449         1    4529.316663         43             1                 1   \n",
       "21450         0  343937.404131         67             1                 0   \n",
       "21451         1    2113.346888         38             1                 1   \n",
       "21452         3    3112.481705         38             1                 0   \n",
       "21453         2    1984.507589         40             1                 0   \n",
       "\n",
       "      gender income_type  debt  total_income                       purpose  \\\n",
       "0          F   сотрудник     0        253875                 покупка жилья   \n",
       "1          F   сотрудник     0        112080       приобретение автомобиля   \n",
       "2          M   сотрудник     0        145885                 покупка жилья   \n",
       "3          M   сотрудник     0        267628    дополнительное образование   \n",
       "4          F   пенсионер     0        158616               сыграть свадьбу   \n",
       "...      ...         ...   ...           ...                           ...   \n",
       "21449      F   компаньон     0        224791             операции с жильем   \n",
       "21450      F   пенсионер     0        155999          сделка с автомобилем   \n",
       "21451      M   сотрудник     1         89672                  недвижимость   \n",
       "21452      M   сотрудник     1        244093  на покупку своего автомобиля   \n",
       "21453      F   сотрудник     0         82047         на покупку автомобиля   \n",
       "\n",
       "      total_income_category  \n",
       "0                         B  \n",
       "1                         C  \n",
       "2                         C  \n",
       "3                         B  \n",
       "4                         C  \n",
       "...                     ...  \n",
       "21449                     B  \n",
       "21450                     C  \n",
       "21451                     C  \n",
       "21452                     B  \n",
       "21453                     C  \n",
       "\n",
       "[21454 rows x 11 columns]"
      ]
     },
     "metadata": {},
     "output_type": "display_data"
    }
   ],
   "source": [
    "# creating a column with a category\n",
    "df['total_income_category'] = df['total_income'].apply(income_category)\n",
    "display(df)"
   ]
  },
  {
   "cell_type": "markdown",
   "id": "88f6118c",
   "metadata": {},
   "source": [
    "### Loan purpose categorization"
   ]
  },
  {
   "cell_type": "markdown",
   "id": "1d7340fb",
   "metadata": {},
   "source": [
    "We distinguish four categories of customers based on the purpose of the loan:\n",
    "* Operations with a car, \n",
    "* Real estate operations, \n",
    "* Wedding arrangements, \n",
    "* getting an education. \n",
    "\n",
    "We'll create a function that takes keywords from the `purpose' column as an argument."
   ]
  },
  {
   "cell_type": "code",
   "execution_count": 29,
   "id": "6148475c",
   "metadata": {},
   "outputs": [],
   "source": [
    "# categorization function based on loan purpose\n",
    "def credit_purpose(purpose):\n",
    "    if 'жил' in purpose or 'недвиж' in purpose:\n",
    "        return 'операции с недвижимостью'\n",
    "    elif 'авто' in purpose:\n",
    "        return 'операции с автомобилем'\n",
    "    elif 'свадь' in purpose:\n",
    "        return 'проведение свадьбы'\n",
    "    else:\n",
    "        return 'получение образования'"
   ]
  },
  {
   "cell_type": "code",
   "execution_count": 30,
   "id": "93a3653f",
   "metadata": {},
   "outputs": [],
   "source": [
    "# creating a column with a loan purpose\n",
    "df['purpose_category'] = df['purpose'].apply(credit_purpose)"
   ]
  },
  {
   "cell_type": "code",
   "execution_count": 31,
   "id": "5aafb1d7",
   "metadata": {},
   "outputs": [
    {
     "data": {
      "text/html": [
       "<div>\n",
       "<style scoped>\n",
       "    .dataframe tbody tr th:only-of-type {\n",
       "        vertical-align: middle;\n",
       "    }\n",
       "\n",
       "    .dataframe tbody tr th {\n",
       "        vertical-align: top;\n",
       "    }\n",
       "\n",
       "    .dataframe thead th {\n",
       "        text-align: right;\n",
       "    }\n",
       "</style>\n",
       "<table border=\"1\" class=\"dataframe\">\n",
       "  <thead>\n",
       "    <tr style=\"text-align: right;\">\n",
       "      <th></th>\n",
       "      <th>children</th>\n",
       "      <th>days_employed</th>\n",
       "      <th>dob_years</th>\n",
       "      <th>education_id</th>\n",
       "      <th>family_status_id</th>\n",
       "      <th>gender</th>\n",
       "      <th>income_type</th>\n",
       "      <th>debt</th>\n",
       "      <th>total_income</th>\n",
       "      <th>purpose</th>\n",
       "      <th>total_income_category</th>\n",
       "      <th>purpose_category</th>\n",
       "    </tr>\n",
       "  </thead>\n",
       "  <tbody>\n",
       "    <tr>\n",
       "      <th>0</th>\n",
       "      <td>1</td>\n",
       "      <td>8437.673028</td>\n",
       "      <td>42</td>\n",
       "      <td>0</td>\n",
       "      <td>0</td>\n",
       "      <td>F</td>\n",
       "      <td>сотрудник</td>\n",
       "      <td>0</td>\n",
       "      <td>253875</td>\n",
       "      <td>покупка жилья</td>\n",
       "      <td>B</td>\n",
       "      <td>операции с недвижимостью</td>\n",
       "    </tr>\n",
       "    <tr>\n",
       "      <th>1</th>\n",
       "      <td>1</td>\n",
       "      <td>4024.803754</td>\n",
       "      <td>36</td>\n",
       "      <td>1</td>\n",
       "      <td>0</td>\n",
       "      <td>F</td>\n",
       "      <td>сотрудник</td>\n",
       "      <td>0</td>\n",
       "      <td>112080</td>\n",
       "      <td>приобретение автомобиля</td>\n",
       "      <td>C</td>\n",
       "      <td>операции с автомобилем</td>\n",
       "    </tr>\n",
       "    <tr>\n",
       "      <th>2</th>\n",
       "      <td>0</td>\n",
       "      <td>5623.422610</td>\n",
       "      <td>33</td>\n",
       "      <td>1</td>\n",
       "      <td>0</td>\n",
       "      <td>M</td>\n",
       "      <td>сотрудник</td>\n",
       "      <td>0</td>\n",
       "      <td>145885</td>\n",
       "      <td>покупка жилья</td>\n",
       "      <td>C</td>\n",
       "      <td>операции с недвижимостью</td>\n",
       "    </tr>\n",
       "    <tr>\n",
       "      <th>3</th>\n",
       "      <td>3</td>\n",
       "      <td>4124.747207</td>\n",
       "      <td>32</td>\n",
       "      <td>1</td>\n",
       "      <td>0</td>\n",
       "      <td>M</td>\n",
       "      <td>сотрудник</td>\n",
       "      <td>0</td>\n",
       "      <td>267628</td>\n",
       "      <td>дополнительное образование</td>\n",
       "      <td>B</td>\n",
       "      <td>получение образования</td>\n",
       "    </tr>\n",
       "    <tr>\n",
       "      <th>4</th>\n",
       "      <td>0</td>\n",
       "      <td>340266.072047</td>\n",
       "      <td>53</td>\n",
       "      <td>1</td>\n",
       "      <td>1</td>\n",
       "      <td>F</td>\n",
       "      <td>пенсионер</td>\n",
       "      <td>0</td>\n",
       "      <td>158616</td>\n",
       "      <td>сыграть свадьбу</td>\n",
       "      <td>C</td>\n",
       "      <td>проведение свадьбы</td>\n",
       "    </tr>\n",
       "  </tbody>\n",
       "</table>\n",
       "</div>"
      ],
      "text/plain": [
       "   children  days_employed  dob_years  education_id  family_status_id gender  \\\n",
       "0         1    8437.673028         42             0                 0      F   \n",
       "1         1    4024.803754         36             1                 0      F   \n",
       "2         0    5623.422610         33             1                 0      M   \n",
       "3         3    4124.747207         32             1                 0      M   \n",
       "4         0  340266.072047         53             1                 1      F   \n",
       "\n",
       "  income_type  debt  total_income                     purpose  \\\n",
       "0   сотрудник     0        253875               покупка жилья   \n",
       "1   сотрудник     0        112080     приобретение автомобиля   \n",
       "2   сотрудник     0        145885               покупка жилья   \n",
       "3   сотрудник     0        267628  дополнительное образование   \n",
       "4   пенсионер     0        158616             сыграть свадьбу   \n",
       "\n",
       "  total_income_category          purpose_category  \n",
       "0                     B  операции с недвижимостью  \n",
       "1                     C    операции с автомобилем  \n",
       "2                     C  операции с недвижимостью  \n",
       "3                     B     получение образования  \n",
       "4                     C        проведение свадьбы  "
      ]
     },
     "metadata": {},
     "output_type": "display_data"
    }
   ],
   "source": [
    "display(df.head())"
   ]
  },
  {
   "cell_type": "markdown",
   "id": "e0dd97d2",
   "metadata": {},
   "source": [
    "## Answering questions"
   ]
  },
  {
   "cell_type": "markdown",
   "id": "3c02e8ff",
   "metadata": {},
   "source": [
    "### Question 1:  Is there a correlation between the number of children and on-time loan repayment?"
   ]
  },
  {
   "cell_type": "markdown",
   "id": "1acbc9a4",
   "metadata": {},
   "source": [
    "To answer this question, the dataset should be grouped by the number of children and the proportion of people in arrears counted."
   ]
  },
  {
   "cell_type": "code",
   "execution_count": 32,
   "id": "56c63d56",
   "metadata": {},
   "outputs": [
    {
     "data": {
      "text/html": [
       "<div>\n",
       "<style scoped>\n",
       "    .dataframe tbody tr th:only-of-type {\n",
       "        vertical-align: middle;\n",
       "    }\n",
       "\n",
       "    .dataframe tbody tr th {\n",
       "        vertical-align: top;\n",
       "    }\n",
       "\n",
       "    .dataframe thead tr th {\n",
       "        text-align: left;\n",
       "    }\n",
       "\n",
       "    .dataframe thead tr:last-of-type th {\n",
       "        text-align: right;\n",
       "    }\n",
       "</style>\n",
       "<table border=\"1\" class=\"dataframe\">\n",
       "  <thead>\n",
       "    <tr>\n",
       "      <th></th>\n",
       "      <th>mean</th>\n",
       "      <th>count</th>\n",
       "      <th>sum</th>\n",
       "    </tr>\n",
       "    <tr>\n",
       "      <th></th>\n",
       "      <th>debt</th>\n",
       "      <th>debt</th>\n",
       "      <th>debt</th>\n",
       "    </tr>\n",
       "    <tr>\n",
       "      <th>children</th>\n",
       "      <th></th>\n",
       "      <th></th>\n",
       "      <th></th>\n",
       "    </tr>\n",
       "  </thead>\n",
       "  <tbody>\n",
       "    <tr>\n",
       "      <th>0</th>\n",
       "      <td>0.075438</td>\n",
       "      <td>14091</td>\n",
       "      <td>1063</td>\n",
       "    </tr>\n",
       "    <tr>\n",
       "      <th>1</th>\n",
       "      <td>0.091658</td>\n",
       "      <td>4855</td>\n",
       "      <td>445</td>\n",
       "    </tr>\n",
       "    <tr>\n",
       "      <th>2</th>\n",
       "      <td>0.094925</td>\n",
       "      <td>2128</td>\n",
       "      <td>202</td>\n",
       "    </tr>\n",
       "    <tr>\n",
       "      <th>3</th>\n",
       "      <td>0.081818</td>\n",
       "      <td>330</td>\n",
       "      <td>27</td>\n",
       "    </tr>\n",
       "    <tr>\n",
       "      <th>4</th>\n",
       "      <td>0.097561</td>\n",
       "      <td>41</td>\n",
       "      <td>4</td>\n",
       "    </tr>\n",
       "    <tr>\n",
       "      <th>5</th>\n",
       "      <td>0.000000</td>\n",
       "      <td>9</td>\n",
       "      <td>0</td>\n",
       "    </tr>\n",
       "  </tbody>\n",
       "</table>\n",
       "</div>"
      ],
      "text/plain": [
       "              mean  count   sum\n",
       "              debt   debt  debt\n",
       "children                       \n",
       "0         0.075438  14091  1063\n",
       "1         0.091658   4855   445\n",
       "2         0.094925   2128   202\n",
       "3         0.081818    330    27\n",
       "4         0.097561     41     4\n",
       "5         0.000000      9     0"
      ]
     },
     "execution_count": 32,
     "metadata": {},
     "output_type": "execute_result"
    }
   ],
   "source": [
    "# grouping dataset and calculations\n",
    "df.pivot_table(index='children', values='debt', aggfunc=['mean', 'count', 'sum'])"
   ]
  },
  {
   "cell_type": "code",
   "execution_count": 33,
   "id": "2e848d83",
   "metadata": {},
   "outputs": [
    {
     "data": {
      "image/png": "[encoded data removed]",
      "text/plain": [
       "<Figure size 720x360 with 1 Axes>"
      ]
     },
     "metadata": {
      "needs_background": "light"
     },
     "output_type": "display_data"
    }
   ],
   "source": [
    "# plotting the number of children and the share of clients in arrears\n",
    "df.groupby('children')['debt'].agg('mean').plot(kind='bar', figsize=(10,5))\n",
    "plt.title('The number of children and the share of clients in arrears');"
   ]
  },
  {
   "cell_type": "markdown",
   "id": "d58c19d0",
   "metadata": {},
   "source": [
    "**Conclusion: in general, the graph shows that there is an upward trend - as the number of children in the family increases, so does the percentage of clients with arrears. The category of families with 5 children represents an insignificant number of observations. Therefore, we can't say that there are practically no debtors among people in this category. An increase in the number of debtors with an increase in the number of children in the family may indicate an increase in the amount of borrowed money without a significant change in the level of income. Unfortunately, to test this theory, our data set lacks information on the amount of credit taken out.**"
   ]
  },
  {
   "cell_type": "markdown",
   "id": "98e5a128",
   "metadata": {},
   "source": [
    "### Question 2: Is there a correlation between marital status and timely loan repayment?"
   ]
  },
  {
   "cell_type": "markdown",
   "id": "976ab8b6",
   "metadata": {},
   "source": [
    "To answer this question, the dataset should be grouped by marital status identifier and the proportion of people in arrears should be counted."
   ]
  },
  {
   "cell_type": "code",
   "execution_count": 34,
   "id": "471fc3c4",
   "metadata": {},
   "outputs": [
    {
     "data": {
      "text/html": [
       "<div>\n",
       "<style scoped>\n",
       "    .dataframe tbody tr th:only-of-type {\n",
       "        vertical-align: middle;\n",
       "    }\n",
       "\n",
       "    .dataframe tbody tr th {\n",
       "        vertical-align: top;\n",
       "    }\n",
       "\n",
       "    .dataframe thead th {\n",
       "        text-align: right;\n",
       "    }\n",
       "</style>\n",
       "<table border=\"1\" class=\"dataframe\">\n",
       "  <thead>\n",
       "    <tr style=\"text-align: right;\">\n",
       "      <th></th>\n",
       "      <th>family_status</th>\n",
       "      <th>family_status_id</th>\n",
       "    </tr>\n",
       "  </thead>\n",
       "  <tbody>\n",
       "    <tr>\n",
       "      <th>0</th>\n",
       "      <td>женат / замужем</td>\n",
       "      <td>0</td>\n",
       "    </tr>\n",
       "    <tr>\n",
       "      <th>1</th>\n",
       "      <td>гражданский брак</td>\n",
       "      <td>1</td>\n",
       "    </tr>\n",
       "    <tr>\n",
       "      <th>2</th>\n",
       "      <td>вдовец / вдова</td>\n",
       "      <td>2</td>\n",
       "    </tr>\n",
       "    <tr>\n",
       "      <th>3</th>\n",
       "      <td>в разводе</td>\n",
       "      <td>3</td>\n",
       "    </tr>\n",
       "    <tr>\n",
       "      <th>4</th>\n",
       "      <td>Не женат / не замужем</td>\n",
       "      <td>4</td>\n",
       "    </tr>\n",
       "  </tbody>\n",
       "</table>\n",
       "</div>"
      ],
      "text/plain": [
       "           family_status  family_status_id\n",
       "0        женат / замужем                 0\n",
       "1       гражданский брак                 1\n",
       "2         вдовец / вдова                 2\n",
       "3              в разводе                 3\n",
       "4  Не женат / не замужем                 4"
      ]
     },
     "metadata": {},
     "output_type": "display_data"
    }
   ],
   "source": [
    "# family status id reference dictionary\n",
    "display(family)"
   ]
  },
  {
   "cell_type": "code",
   "execution_count": 35,
   "id": "f37206c5",
   "metadata": {},
   "outputs": [
    {
     "data": {
      "text/html": [
       "<div>\n",
       "<style scoped>\n",
       "    .dataframe tbody tr th:only-of-type {\n",
       "        vertical-align: middle;\n",
       "    }\n",
       "\n",
       "    .dataframe tbody tr th {\n",
       "        vertical-align: top;\n",
       "    }\n",
       "\n",
       "    .dataframe thead th {\n",
       "        text-align: right;\n",
       "    }\n",
       "</style>\n",
       "<table border=\"1\" class=\"dataframe\">\n",
       "  <thead>\n",
       "    <tr style=\"text-align: right;\">\n",
       "      <th></th>\n",
       "      <th>mean</th>\n",
       "      <th>count</th>\n",
       "      <th>sum</th>\n",
       "    </tr>\n",
       "    <tr>\n",
       "      <th>family_status_id</th>\n",
       "      <th></th>\n",
       "      <th></th>\n",
       "      <th></th>\n",
       "    </tr>\n",
       "  </thead>\n",
       "  <tbody>\n",
       "    <tr>\n",
       "      <th>0</th>\n",
       "      <td>0.075452</td>\n",
       "      <td>12339</td>\n",
       "      <td>931</td>\n",
       "    </tr>\n",
       "    <tr>\n",
       "      <th>1</th>\n",
       "      <td>0.093471</td>\n",
       "      <td>4151</td>\n",
       "      <td>388</td>\n",
       "    </tr>\n",
       "    <tr>\n",
       "      <th>2</th>\n",
       "      <td>0.065693</td>\n",
       "      <td>959</td>\n",
       "      <td>63</td>\n",
       "    </tr>\n",
       "    <tr>\n",
       "      <th>3</th>\n",
       "      <td>0.071130</td>\n",
       "      <td>1195</td>\n",
       "      <td>85</td>\n",
       "    </tr>\n",
       "    <tr>\n",
       "      <th>4</th>\n",
       "      <td>0.097509</td>\n",
       "      <td>2810</td>\n",
       "      <td>274</td>\n",
       "    </tr>\n",
       "  </tbody>\n",
       "</table>\n",
       "</div>"
      ],
      "text/plain": [
       "                      mean  count  sum\n",
       "family_status_id                      \n",
       "0                 0.075452  12339  931\n",
       "1                 0.093471   4151  388\n",
       "2                 0.065693    959   63\n",
       "3                 0.071130   1195   85\n",
       "4                 0.097509   2810  274"
      ]
     },
     "execution_count": 35,
     "metadata": {},
     "output_type": "execute_result"
    }
   ],
   "source": [
    "# grouping dataset and calculations\n",
    "df.groupby('family_status_id')['debt'].agg(['mean', 'count', 'sum'])"
   ]
  },
  {
   "cell_type": "code",
   "execution_count": 36,
   "id": "c2bd3251",
   "metadata": {},
   "outputs": [
    {
     "data": {
      "image/png": "[encoded data removed]",
      "text/plain": [
       "<Figure size 720x360 with 1 Axes>"
      ]
     },
     "metadata": {
      "needs_background": "light"
     },
     "output_type": "display_data"
    }
   ],
   "source": [
    "# plotting the unique id of family status and the share of clients in arrears\n",
    "df.groupby('family_status_id')['debt'].agg('mean').plot(kind='bar', xticks=[0, 1, 2, 3, 4], figsize=(10,5))\n",
    "plt.title('The unique id of family status and the share of clients in arrears');"
   ]
  },
  {
   "cell_type": "markdown",
   "id": "6ad9ae30",
   "metadata": {},
   "source": [
    "**Conclusion: The smallest percentage of debtors are divorced and widowed clients. The largest share of debtors is accounted for by married and unmarried clients. This suggests that there is no direct link between being in a relationship (which could mean having a joint family budget and therefore more money to repay the loan).**"
   ]
  },
  {
   "cell_type": "markdown",
   "id": "eb4f7bf0",
   "metadata": {},
   "source": [
    "### Question 3: Is there a correlation between income and timely loan repayment?"
   ]
  },
  {
   "cell_type": "markdown",
   "id": "88738d8d",
   "metadata": {},
   "source": [
    "To answer this question, the dataset should be grouped by income category and the proportion of people in arrears should be counted."
   ]
  },
  {
   "cell_type": "code",
   "execution_count": 37,
   "id": "f86b7474",
   "metadata": {},
   "outputs": [
    {
     "data": {
      "text/html": [
       "<div>\n",
       "<style scoped>\n",
       "    .dataframe tbody tr th:only-of-type {\n",
       "        vertical-align: middle;\n",
       "    }\n",
       "\n",
       "    .dataframe tbody tr th {\n",
       "        vertical-align: top;\n",
       "    }\n",
       "\n",
       "    .dataframe thead th {\n",
       "        text-align: right;\n",
       "    }\n",
       "</style>\n",
       "<table border=\"1\" class=\"dataframe\">\n",
       "  <thead>\n",
       "    <tr style=\"text-align: right;\">\n",
       "      <th></th>\n",
       "      <th>mean</th>\n",
       "      <th>count</th>\n",
       "      <th>sum</th>\n",
       "    </tr>\n",
       "    <tr>\n",
       "      <th>total_income_category</th>\n",
       "      <th></th>\n",
       "      <th></th>\n",
       "      <th></th>\n",
       "    </tr>\n",
       "  </thead>\n",
       "  <tbody>\n",
       "    <tr>\n",
       "      <th>A</th>\n",
       "      <td>0.080000</td>\n",
       "      <td>25</td>\n",
       "      <td>2</td>\n",
       "    </tr>\n",
       "    <tr>\n",
       "      <th>B</th>\n",
       "      <td>0.070621</td>\n",
       "      <td>5041</td>\n",
       "      <td>356</td>\n",
       "    </tr>\n",
       "    <tr>\n",
       "      <th>C</th>\n",
       "      <td>0.084915</td>\n",
       "      <td>16016</td>\n",
       "      <td>1360</td>\n",
       "    </tr>\n",
       "    <tr>\n",
       "      <th>D</th>\n",
       "      <td>0.060000</td>\n",
       "      <td>350</td>\n",
       "      <td>21</td>\n",
       "    </tr>\n",
       "    <tr>\n",
       "      <th>E</th>\n",
       "      <td>0.090909</td>\n",
       "      <td>22</td>\n",
       "      <td>2</td>\n",
       "    </tr>\n",
       "  </tbody>\n",
       "</table>\n",
       "</div>"
      ],
      "text/plain": [
       "                           mean  count   sum\n",
       "total_income_category                       \n",
       "A                      0.080000     25     2\n",
       "B                      0.070621   5041   356\n",
       "C                      0.084915  16016  1360\n",
       "D                      0.060000    350    21\n",
       "E                      0.090909     22     2"
      ]
     },
     "execution_count": 37,
     "metadata": {},
     "output_type": "execute_result"
    }
   ],
   "source": [
    "# grouping dataset and calculations\n",
    "df.groupby('total_income_category')['debt'].agg(['mean', 'count', 'sum'])"
   ]
  },
  {
   "cell_type": "code",
   "execution_count": 38,
   "id": "0eecb3fe",
   "metadata": {},
   "outputs": [
    {
     "data": {
      "image/png": "[encoded data removed]",
      "text/plain": [
       "<Figure size 720x360 with 1 Axes>"
      ]
     },
     "metadata": {
      "needs_background": "light"
     },
     "output_type": "display_data"
    }
   ],
   "source": [
    "# plotting the category income and the share of clients in arrears\n",
    "df.groupby('total_income_category')['debt'].agg('mean').plot(kind='bar', figsize=(10,5))\n",
    "plt.title('The category income and the share of clients in arrears');"
   ]
  },
  {
   "cell_type": "markdown",
   "id": "6bd26f53",
   "metadata": {},
   "source": [
    "**Conclusion: from the graph, we can see a slight decrease in the number of debtors as the client's income level increases. To complete the picture, the dataset should be supplemented with the amount of borrowed funds, since clients with lower income levels may need more borrowed funds.**"
   ]
  },
  {
   "cell_type": "markdown",
   "id": "d526e576",
   "metadata": {},
   "source": [
    "### Question 4: How do the different purposes of the loan affect its timely repayment?"
   ]
  },
  {
   "cell_type": "markdown",
   "id": "cfd29804",
   "metadata": {},
   "source": [
    "To answer this question, the dataset should be grouped by loan purpose and the proportion of people in arrears should be counted."
   ]
  },
  {
   "cell_type": "code",
   "execution_count": 39,
   "id": "65cba0e7",
   "metadata": {},
   "outputs": [
    {
     "data": {
      "text/html": [
       "<div>\n",
       "<style scoped>\n",
       "    .dataframe tbody tr th:only-of-type {\n",
       "        vertical-align: middle;\n",
       "    }\n",
       "\n",
       "    .dataframe tbody tr th {\n",
       "        vertical-align: top;\n",
       "    }\n",
       "\n",
       "    .dataframe thead th {\n",
       "        text-align: right;\n",
       "    }\n",
       "</style>\n",
       "<table border=\"1\" class=\"dataframe\">\n",
       "  <thead>\n",
       "    <tr style=\"text-align: right;\">\n",
       "      <th></th>\n",
       "      <th>mean</th>\n",
       "      <th>count</th>\n",
       "      <th>sum</th>\n",
       "    </tr>\n",
       "    <tr>\n",
       "      <th>purpose_category</th>\n",
       "      <th></th>\n",
       "      <th></th>\n",
       "      <th></th>\n",
       "    </tr>\n",
       "  </thead>\n",
       "  <tbody>\n",
       "    <tr>\n",
       "      <th>операции с автомобилем</th>\n",
       "      <td>0.093590</td>\n",
       "      <td>4306</td>\n",
       "      <td>403</td>\n",
       "    </tr>\n",
       "    <tr>\n",
       "      <th>операции с недвижимостью</th>\n",
       "      <td>0.072334</td>\n",
       "      <td>10811</td>\n",
       "      <td>782</td>\n",
       "    </tr>\n",
       "    <tr>\n",
       "      <th>получение образования</th>\n",
       "      <td>0.092200</td>\n",
       "      <td>4013</td>\n",
       "      <td>370</td>\n",
       "    </tr>\n",
       "    <tr>\n",
       "      <th>проведение свадьбы</th>\n",
       "      <td>0.080034</td>\n",
       "      <td>2324</td>\n",
       "      <td>186</td>\n",
       "    </tr>\n",
       "  </tbody>\n",
       "</table>\n",
       "</div>"
      ],
      "text/plain": [
       "                              mean  count  sum\n",
       "purpose_category                              \n",
       "операции с автомобилем    0.093590   4306  403\n",
       "операции с недвижимостью  0.072334  10811  782\n",
       "получение образования     0.092200   4013  370\n",
       "проведение свадьбы        0.080034   2324  186"
      ]
     },
     "execution_count": 39,
     "metadata": {},
     "output_type": "execute_result"
    }
   ],
   "source": [
    "# grouping dataset and calculations\n",
    "df.groupby('purpose_category')['debt'].agg(['mean', 'count', 'sum'])"
   ]
  },
  {
   "cell_type": "code",
   "execution_count": 40,
   "id": "29571f9f",
   "metadata": {},
   "outputs": [
    {
     "data": {
      "image/png": "[encoded data removed]",
      "text/plain": [
       "<Figure size 720x360 with 1 Axes>"
      ]
     },
     "metadata": {
      "needs_background": "light"
     },
     "output_type": "display_data"
    }
   ],
   "source": [
    "# plotting the loan purpose categories and the share of clients in arrears\n",
    "df.groupby('purpose_category')['debt'].agg('mean').plot(kind='bar', figsize=(10,5), rot=45)\n",
    "plt.title('the loan purpose categories and the share of clients in arrears');"
   ]
  },
  {
   "cell_type": "markdown",
   "id": "5fe6cebc",
   "metadata": {},
   "source": [
    "**Conclusion: the smallest number of debtors is among clients who buy real estate. Approximately the same share of debtors is accounted for by the categories of clients engaged in car and education transactions. This behavior can probably be explained by the fact that real estate is a vital necessity and in case of default on loan repayment there is a risk of repossession of the real estate by the bank.**"
   ]
  },
  {
   "cell_type": "markdown",
   "id": "162ec5d5",
   "metadata": {},
   "source": [
    "## Summary"
   ]
  },
  {
   "cell_type": "markdown",
   "id": "346c6767",
   "metadata": {},
   "source": [
    "1. The most pronounced trend in changes in the number of debtors can be observed with an increase in the number of children in the family. As the number of children grows, the proportion of clients with debts increases.\n",
    "\n",
    "\n",
    "2. Another trend associated with changes in the number of debtors can be observed with an increase in the income of the client. With the growth of income - the share of clients in arrears decreases.\n",
    "\n",
    "\n",
    "3. The marital status of the client does not influence the probability of loan repayment. The smallest share of debtors is among divorced and widowed clients. The largest share of debtors is among clients who are married and unmarried. This suggests that there is no direct relationship between being in a relationship and repaying a loan (which could mean having a common family budget and therefore more money to repay the loan).  \n",
    "\n",
    "\n",
    "4. The lowest percentage of debtors is among clients who buy real estate. This behavior can probably be explained by the fact that real estate is a vital necessity and in case of default on loan payment there is a risk of repossession of the property by the bank.\n",
    "\n",
    "\n",
    "5. As for the data - the bank should improve the quality of information processing about the client, possibly increase the automation of its processing and add a data set about the amount of credit needed for a more detailed understanding of the client's behavior.  "
   ]
  }
 ],
 "metadata": {
  "ExecuteTimeLog": [
   {
    "duration": 932,
    "start_time": "2022-05-21T16:53:11.804Z"
   },
   {
    "duration": 66,
    "start_time": "2022-05-21T16:58:40.565Z"
   },
   {
    "duration": 20,
    "start_time": "2022-05-21T17:38:38.120Z"
   },
   {
    "duration": 10,
    "start_time": "2022-05-21T17:52:38.924Z"
   },
   {
    "duration": 10,
    "start_time": "2022-05-21T19:04:41.819Z"
   },
   {
    "duration": 92,
    "start_time": "2022-05-21T19:16:09.404Z"
   },
   {
    "duration": 9,
    "start_time": "2022-05-21T19:16:14.264Z"
   },
   {
    "duration": 74,
    "start_time": "2022-05-21T19:16:21.531Z"
   },
   {
    "duration": 10,
    "start_time": "2022-05-21T19:16:53.268Z"
   },
   {
    "duration": 8,
    "start_time": "2022-05-21T19:17:11.195Z"
   },
   {
    "duration": 9,
    "start_time": "2022-05-21T19:17:17.391Z"
   },
   {
    "duration": 8,
    "start_time": "2022-05-21T19:39:31.784Z"
   },
   {
    "duration": 10,
    "start_time": "2022-05-21T19:40:00.644Z"
   },
   {
    "duration": 40,
    "start_time": "2022-05-21T19:40:23.851Z"
   },
   {
    "duration": 7,
    "start_time": "2022-05-21T19:40:32.581Z"
   },
   {
    "duration": 7,
    "start_time": "2022-05-21T19:40:46.593Z"
   },
   {
    "duration": 7,
    "start_time": "2022-05-21T19:42:16.272Z"
   },
   {
    "duration": 7,
    "start_time": "2022-05-21T19:42:22.502Z"
   },
   {
    "duration": 7,
    "start_time": "2022-05-21T19:42:29.973Z"
   },
   {
    "duration": 9,
    "start_time": "2022-05-21T19:45:40.991Z"
   },
   {
    "duration": 7,
    "start_time": "2022-05-21T19:45:46.943Z"
   },
   {
    "duration": 7,
    "start_time": "2022-05-21T19:45:50.941Z"
   },
   {
    "duration": 8,
    "start_time": "2022-05-21T19:45:56.496Z"
   },
   {
    "duration": 13,
    "start_time": "2022-05-21T19:46:11.563Z"
   },
   {
    "duration": 8,
    "start_time": "2022-05-21T19:46:18.580Z"
   },
   {
    "duration": 14,
    "start_time": "2022-05-21T19:47:13.621Z"
   },
   {
    "duration": 28,
    "start_time": "2022-05-21T19:48:27.549Z"
   },
   {
    "duration": 21,
    "start_time": "2022-05-21T19:48:48.384Z"
   },
   {
    "duration": 23,
    "start_time": "2022-05-21T19:50:22.444Z"
   },
   {
    "duration": 1155,
    "start_time": "2022-05-25T09:35:45.661Z"
   },
   {
    "duration": 30,
    "start_time": "2022-05-25T09:35:49.890Z"
   },
   {
    "duration": 12,
    "start_time": "2022-05-25T09:35:53.073Z"
   },
   {
    "duration": 5,
    "start_time": "2022-05-25T09:35:56.997Z"
   },
   {
    "duration": 11,
    "start_time": "2022-05-25T09:36:02.307Z"
   },
   {
    "duration": 11,
    "start_time": "2022-05-25T09:36:06.845Z"
   },
   {
    "duration": 128,
    "start_time": "2022-05-25T09:54:32.191Z"
   },
   {
    "duration": 69,
    "start_time": "2022-05-25T09:54:35.744Z"
   },
   {
    "duration": 14,
    "start_time": "2022-05-25T09:55:02.394Z"
   },
   {
    "duration": 67,
    "start_time": "2022-05-25T09:55:21.189Z"
   },
   {
    "duration": 135,
    "start_time": "2022-05-25T09:55:44.742Z"
   },
   {
    "duration": 67,
    "start_time": "2022-05-25T09:55:59.427Z"
   },
   {
    "duration": 64,
    "start_time": "2022-05-25T09:56:03.359Z"
   },
   {
    "duration": 72,
    "start_time": "2022-05-25T09:56:14.273Z"
   },
   {
    "duration": 20,
    "start_time": "2022-05-25T09:59:14.651Z"
   },
   {
    "duration": 59,
    "start_time": "2022-05-25T10:00:48.853Z"
   },
   {
    "duration": 16,
    "start_time": "2022-05-25T10:01:10.307Z"
   },
   {
    "duration": 11,
    "start_time": "2022-05-25T11:20:52.273Z"
   },
   {
    "duration": 65,
    "start_time": "2022-05-25T11:46:21.407Z"
   },
   {
    "duration": 11,
    "start_time": "2022-05-25T11:49:31.562Z"
   },
   {
    "duration": 69,
    "start_time": "2022-05-25T11:49:51.375Z"
   },
   {
    "duration": 14,
    "start_time": "2022-05-25T11:57:27.493Z"
   },
   {
    "duration": 11,
    "start_time": "2022-05-25T11:57:31.544Z"
   },
   {
    "duration": 9,
    "start_time": "2022-05-25T11:57:39.335Z"
   },
   {
    "duration": 5,
    "start_time": "2022-05-25T11:57:47.191Z"
   },
   {
    "duration": 3,
    "start_time": "2022-05-25T11:57:51.834Z"
   },
   {
    "duration": 11,
    "start_time": "2022-05-25T11:58:00.795Z"
   },
   {
    "duration": 4,
    "start_time": "2022-05-25T12:02:57.550Z"
   },
   {
    "duration": 5,
    "start_time": "2022-05-25T12:03:02.315Z"
   },
   {
    "duration": 41,
    "start_time": "2022-05-25T12:23:04.101Z"
   },
   {
    "duration": 36,
    "start_time": "2022-05-25T12:23:12.554Z"
   },
   {
    "duration": 36,
    "start_time": "2022-05-25T12:23:24.515Z"
   },
   {
    "duration": 28,
    "start_time": "2022-05-25T12:23:31.740Z"
   },
   {
    "duration": 39,
    "start_time": "2022-05-25T12:23:48.751Z"
   },
   {
    "duration": 26,
    "start_time": "2022-05-25T12:23:55.542Z"
   },
   {
    "duration": 36,
    "start_time": "2022-05-25T12:24:00.668Z"
   },
   {
    "duration": 23,
    "start_time": "2022-05-25T12:24:04.569Z"
   },
   {
    "duration": 36,
    "start_time": "2022-05-25T12:26:37.460Z"
   },
   {
    "duration": 3,
    "start_time": "2022-05-25T12:26:39.983Z"
   },
   {
    "duration": 44,
    "start_time": "2022-05-25T12:26:46.212Z"
   },
   {
    "duration": 32,
    "start_time": "2022-05-25T12:26:50.087Z"
   },
   {
    "duration": 28,
    "start_time": "2022-05-25T13:40:00.482Z"
   },
   {
    "duration": 33,
    "start_time": "2022-05-25T13:40:11.161Z"
   },
   {
    "duration": 5,
    "start_time": "2022-05-25T13:41:01.955Z"
   },
   {
    "duration": 4,
    "start_time": "2022-05-25T13:45:13.411Z"
   },
   {
    "duration": 5,
    "start_time": "2022-05-25T13:45:18.894Z"
   },
   {
    "duration": 5,
    "start_time": "2022-05-25T13:45:21.183Z"
   },
   {
    "duration": 4,
    "start_time": "2022-05-25T13:45:28.207Z"
   },
   {
    "duration": 5,
    "start_time": "2022-05-25T13:45:48.402Z"
   },
   {
    "duration": 5,
    "start_time": "2022-05-25T13:46:05.890Z"
   },
   {
    "duration": 3,
    "start_time": "2022-05-25T13:49:03.608Z"
   },
   {
    "duration": 3,
    "start_time": "2022-05-25T13:51:31.666Z"
   },
   {
    "duration": 4,
    "start_time": "2022-05-25T13:51:38.528Z"
   },
   {
    "duration": 4,
    "start_time": "2022-05-25T13:53:14.482Z"
   },
   {
    "duration": 5,
    "start_time": "2022-05-25T13:53:33.754Z"
   },
   {
    "duration": 5,
    "start_time": "2022-05-25T13:54:03.343Z"
   },
   {
    "duration": 23,
    "start_time": "2022-05-25T13:59:22.774Z"
   },
   {
    "duration": 31,
    "start_time": "2022-05-25T14:10:58.797Z"
   },
   {
    "duration": 9,
    "start_time": "2022-05-25T14:11:59.475Z"
   },
   {
    "duration": 10,
    "start_time": "2022-05-25T14:12:09.616Z"
   },
   {
    "duration": 9,
    "start_time": "2022-05-25T14:12:17.689Z"
   },
   {
    "duration": 9,
    "start_time": "2022-05-25T14:12:25.179Z"
   },
   {
    "duration": 9,
    "start_time": "2022-05-25T14:12:28.953Z"
   },
   {
    "duration": 9,
    "start_time": "2022-05-25T14:12:31.465Z"
   },
   {
    "duration": 10,
    "start_time": "2022-05-25T14:12:41.512Z"
   },
   {
    "duration": 8,
    "start_time": "2022-05-26T09:07:18.478Z"
   },
   {
    "duration": 71,
    "start_time": "2022-05-26T09:08:00.668Z"
   },
   {
    "duration": 1064,
    "start_time": "2022-05-26T09:08:05.992Z"
   },
   {
    "duration": 15,
    "start_time": "2022-05-26T09:08:10.055Z"
   },
   {
    "duration": 5,
    "start_time": "2022-05-26T09:08:12.450Z"
   },
   {
    "duration": 5,
    "start_time": "2022-05-26T09:08:14.696Z"
   },
   {
    "duration": 30,
    "start_time": "2022-05-26T09:08:17.669Z"
   },
   {
    "duration": 798,
    "start_time": "2022-05-26T09:19:07.611Z"
   },
   {
    "duration": 4,
    "start_time": "2022-05-26T09:21:18.480Z"
   },
   {
    "duration": 5,
    "start_time": "2022-05-26T09:21:22.375Z"
   },
   {
    "duration": 19,
    "start_time": "2022-05-26T09:21:33.659Z"
   },
   {
    "duration": 31,
    "start_time": "2022-05-26T09:21:44.388Z"
   },
   {
    "duration": 21,
    "start_time": "2022-05-26T09:22:05.073Z"
   },
   {
    "duration": 4,
    "start_time": "2022-05-26T09:22:17.464Z"
   },
   {
    "duration": 7,
    "start_time": "2022-05-26T09:22:37.242Z"
   },
   {
    "duration": 4,
    "start_time": "2022-05-26T09:22:59.962Z"
   },
   {
    "duration": 14,
    "start_time": "2022-05-26T09:23:41.236Z"
   },
   {
    "duration": 28,
    "start_time": "2022-05-26T09:26:28.042Z"
   },
   {
    "duration": 33,
    "start_time": "2022-05-26T09:27:28.767Z"
   },
   {
    "duration": 31,
    "start_time": "2022-05-26T09:27:33.068Z"
   },
   {
    "duration": 12,
    "start_time": "2022-05-26T09:28:41.881Z"
   },
   {
    "duration": 22,
    "start_time": "2022-05-26T09:29:37.689Z"
   },
   {
    "duration": 10,
    "start_time": "2022-05-26T09:36:54.240Z"
   },
   {
    "duration": 52,
    "start_time": "2022-05-26T09:45:25.520Z"
   },
   {
    "duration": 12,
    "start_time": "2022-05-26T09:45:59.725Z"
   },
   {
    "duration": 6,
    "start_time": "2022-05-26T09:46:01.260Z"
   },
   {
    "duration": 31,
    "start_time": "2022-05-26T09:46:13.348Z"
   },
   {
    "duration": 6,
    "start_time": "2022-05-26T09:48:33.531Z"
   },
   {
    "duration": 8,
    "start_time": "2022-05-26T09:49:17.051Z"
   },
   {
    "duration": 8,
    "start_time": "2022-05-26T09:49:34.766Z"
   },
   {
    "duration": 29,
    "start_time": "2022-05-26T09:49:43.067Z"
   },
   {
    "duration": 9,
    "start_time": "2022-05-26T10:30:00.487Z"
   },
   {
    "duration": 35,
    "start_time": "2022-05-26T10:30:10.385Z"
   },
   {
    "duration": 8,
    "start_time": "2022-05-26T10:30:18.718Z"
   },
   {
    "duration": 12,
    "start_time": "2022-05-26T10:30:39.383Z"
   },
   {
    "duration": 66,
    "start_time": "2022-05-26T18:00:38.971Z"
   },
   {
    "duration": 1017,
    "start_time": "2022-05-26T18:00:43.814Z"
   },
   {
    "duration": 14,
    "start_time": "2022-05-26T18:00:46.847Z"
   },
   {
    "duration": 4,
    "start_time": "2022-05-26T18:00:48.468Z"
   },
   {
    "duration": 4,
    "start_time": "2022-05-26T18:00:49.796Z"
   },
   {
    "duration": 27,
    "start_time": "2022-05-26T18:00:51.245Z"
   },
   {
    "duration": 31,
    "start_time": "2022-05-26T18:00:53.125Z"
   },
   {
    "duration": 44907,
    "start_time": "2022-05-26T18:00:54.045Z"
   },
   {
    "duration": 13,
    "start_time": "2022-05-26T18:02:01.703Z"
   },
   {
    "duration": 8,
    "start_time": "2022-05-26T18:02:54.867Z"
   },
   {
    "duration": 7,
    "start_time": "2022-05-26T18:07:08.379Z"
   },
   {
    "duration": 4,
    "start_time": "2022-05-26T18:07:18.005Z"
   },
   {
    "duration": 6,
    "start_time": "2022-05-26T18:07:28.882Z"
   },
   {
    "duration": 4,
    "start_time": "2022-05-26T18:07:30.267Z"
   },
   {
    "duration": 5,
    "start_time": "2022-05-26T18:07:37.675Z"
   },
   {
    "duration": 20,
    "start_time": "2022-05-26T18:07:38.702Z"
   },
   {
    "duration": 36,
    "start_time": "2022-05-26T18:08:12.797Z"
   },
   {
    "duration": 12,
    "start_time": "2022-05-26T18:17:27.769Z"
   },
   {
    "duration": 39,
    "start_time": "2022-05-26T18:17:58.620Z"
   },
   {
    "duration": 26,
    "start_time": "2022-05-26T18:18:45.729Z"
   },
   {
    "duration": 26,
    "start_time": "2022-05-26T18:19:08.573Z"
   },
   {
    "duration": 28,
    "start_time": "2022-05-26T18:19:11.085Z"
   },
   {
    "duration": 31,
    "start_time": "2022-05-26T18:23:19.491Z"
   },
   {
    "duration": 5,
    "start_time": "2022-05-26T18:32:05.151Z"
   },
   {
    "duration": 13,
    "start_time": "2022-05-26T18:33:19.404Z"
   },
   {
    "duration": 4,
    "start_time": "2022-05-26T18:53:21.520Z"
   },
   {
    "duration": 7,
    "start_time": "2022-05-26T18:53:37.113Z"
   },
   {
    "duration": 5,
    "start_time": "2022-05-26T18:53:38.546Z"
   },
   {
    "duration": 22,
    "start_time": "2022-05-26T18:54:03.120Z"
   },
   {
    "duration": 6,
    "start_time": "2022-05-26T18:54:47.570Z"
   },
   {
    "duration": 5,
    "start_time": "2022-05-26T18:55:08.910Z"
   },
   {
    "duration": 18,
    "start_time": "2022-05-26T18:55:27.005Z"
   },
   {
    "duration": 5,
    "start_time": "2022-05-26T18:56:13.069Z"
   },
   {
    "duration": 15,
    "start_time": "2022-05-26T18:56:13.802Z"
   },
   {
    "duration": 4,
    "start_time": "2022-05-26T18:58:06.792Z"
   },
   {
    "duration": 15,
    "start_time": "2022-05-26T18:58:07.673Z"
   },
   {
    "duration": 1142,
    "start_time": "2022-05-27T09:18:58.261Z"
   },
   {
    "duration": 15,
    "start_time": "2022-05-27T09:19:00.966Z"
   },
   {
    "duration": 5,
    "start_time": "2022-05-27T09:19:02.208Z"
   },
   {
    "duration": 5,
    "start_time": "2022-05-27T09:19:03.497Z"
   },
   {
    "duration": 37,
    "start_time": "2022-05-27T09:19:04.937Z"
   },
   {
    "duration": 36,
    "start_time": "2022-05-27T09:19:06.000Z"
   },
   {
    "duration": 8,
    "start_time": "2022-05-27T09:19:08.427Z"
   },
   {
    "duration": 6,
    "start_time": "2022-05-27T09:19:09.108Z"
   },
   {
    "duration": 17,
    "start_time": "2022-05-27T09:19:11.228Z"
   },
   {
    "duration": 5,
    "start_time": "2022-05-27T09:20:34.425Z"
   },
   {
    "duration": 4,
    "start_time": "2022-05-27T09:20:34.816Z"
   },
   {
    "duration": 14,
    "start_time": "2022-05-27T09:20:35.541Z"
   },
   {
    "duration": 6,
    "start_time": "2022-05-27T09:23:06.611Z"
   },
   {
    "duration": 4,
    "start_time": "2022-05-27T09:23:07.034Z"
   },
   {
    "duration": 19,
    "start_time": "2022-05-27T09:23:07.606Z"
   },
   {
    "duration": 5,
    "start_time": "2022-05-27T09:23:10.327Z"
   },
   {
    "duration": 7,
    "start_time": "2022-05-27T09:23:48.120Z"
   },
   {
    "duration": 5,
    "start_time": "2022-05-27T09:29:54.739Z"
   },
   {
    "duration": 22,
    "start_time": "2022-05-27T09:30:02.691Z"
   },
   {
    "duration": 21,
    "start_time": "2022-05-27T09:30:31.363Z"
   },
   {
    "duration": 27,
    "start_time": "2022-05-27T09:33:59.304Z"
   },
   {
    "duration": 10,
    "start_time": "2022-05-27T09:53:53.658Z"
   },
   {
    "duration": 10,
    "start_time": "2022-05-27T09:54:12.477Z"
   },
   {
    "duration": 77,
    "start_time": "2022-05-27T09:54:22.580Z"
   },
   {
    "duration": 10,
    "start_time": "2022-05-27T09:54:26.374Z"
   },
   {
    "duration": 67,
    "start_time": "2022-05-27T09:54:56.352Z"
   },
   {
    "duration": 4,
    "start_time": "2022-05-27T09:55:44.179Z"
   },
   {
    "duration": 5,
    "start_time": "2022-05-27T09:55:47.246Z"
   },
   {
    "duration": 77,
    "start_time": "2022-05-27T09:55:56.541Z"
   },
   {
    "duration": 20,
    "start_time": "2022-05-27T09:55:57.898Z"
   },
   {
    "duration": 5,
    "start_time": "2022-05-27T09:56:01.563Z"
   },
   {
    "duration": 6,
    "start_time": "2022-05-27T09:56:02.813Z"
   },
   {
    "duration": 32,
    "start_time": "2022-05-27T09:56:04.072Z"
   },
   {
    "duration": 32,
    "start_time": "2022-05-27T09:56:05.246Z"
   },
   {
    "duration": 31,
    "start_time": "2022-05-27T09:56:10.130Z"
   },
   {
    "duration": 23,
    "start_time": "2022-05-27T09:56:29.921Z"
   },
   {
    "duration": 34,
    "start_time": "2022-05-27T09:56:42.197Z"
   },
   {
    "duration": 17,
    "start_time": "2022-05-27T09:57:12.886Z"
   },
   {
    "duration": 15,
    "start_time": "2022-05-27T09:58:06.344Z"
   },
   {
    "duration": 87,
    "start_time": "2022-05-27T17:33:42.186Z"
   },
   {
    "duration": 588,
    "start_time": "2022-05-27T17:34:36.011Z"
   },
   {
    "duration": 16,
    "start_time": "2022-05-27T17:34:36.601Z"
   },
   {
    "duration": 5,
    "start_time": "2022-05-27T17:34:36.618Z"
   },
   {
    "duration": 6,
    "start_time": "2022-05-27T17:34:36.626Z"
   },
   {
    "duration": 38,
    "start_time": "2022-05-27T17:34:36.634Z"
   },
   {
    "duration": 42,
    "start_time": "2022-05-27T17:34:36.674Z"
   },
   {
    "duration": 41,
    "start_time": "2022-05-27T17:34:36.718Z"
   },
   {
    "duration": 16,
    "start_time": "2022-05-27T17:34:36.761Z"
   },
   {
    "duration": 36,
    "start_time": "2022-05-27T17:34:36.778Z"
   },
   {
    "duration": 60,
    "start_time": "2022-05-27T17:34:36.816Z"
   },
   {
    "duration": 105,
    "start_time": "2022-05-27T17:40:30.900Z"
   },
   {
    "duration": 9,
    "start_time": "2022-05-27T17:40:44.293Z"
   },
   {
    "duration": 15,
    "start_time": "2022-05-27T17:40:52.567Z"
   },
   {
    "duration": 7,
    "start_time": "2022-05-27T17:43:15.875Z"
   },
   {
    "duration": 7,
    "start_time": "2022-05-27T17:43:58.032Z"
   },
   {
    "duration": 23,
    "start_time": "2022-05-27T17:44:14.798Z"
   },
   {
    "duration": 12,
    "start_time": "2022-05-27T17:45:17.681Z"
   },
   {
    "duration": 44,
    "start_time": "2022-05-27T17:46:17.086Z"
   },
   {
    "duration": 10,
    "start_time": "2022-05-27T17:46:44.411Z"
   },
   {
    "duration": 12,
    "start_time": "2022-05-27T17:46:53.190Z"
   },
   {
    "duration": 8,
    "start_time": "2022-05-27T17:47:17.888Z"
   },
   {
    "duration": 16,
    "start_time": "2022-05-27T17:48:00.188Z"
   },
   {
    "duration": 10,
    "start_time": "2022-05-27T17:48:04.982Z"
   },
   {
    "duration": 9,
    "start_time": "2022-05-27T17:48:25.691Z"
   },
   {
    "duration": 7,
    "start_time": "2022-05-27T17:48:33.519Z"
   },
   {
    "duration": 10,
    "start_time": "2022-05-27T17:49:28.608Z"
   },
   {
    "duration": 7,
    "start_time": "2022-05-27T17:49:43.095Z"
   },
   {
    "duration": 6,
    "start_time": "2022-05-27T17:50:04.422Z"
   },
   {
    "duration": 5,
    "start_time": "2022-05-27T17:50:05.125Z"
   },
   {
    "duration": 5,
    "start_time": "2022-05-27T17:50:21.790Z"
   },
   {
    "duration": 5,
    "start_time": "2022-05-27T17:50:26.487Z"
   },
   {
    "duration": 9,
    "start_time": "2022-05-27T17:57:56.815Z"
   },
   {
    "duration": 7,
    "start_time": "2022-05-27T17:59:44.312Z"
   },
   {
    "duration": 8,
    "start_time": "2022-05-27T18:00:53.488Z"
   },
   {
    "duration": 35,
    "start_time": "2022-05-27T18:06:52.803Z"
   },
   {
    "duration": 48,
    "start_time": "2022-05-27T18:07:08.530Z"
   },
   {
    "duration": 247,
    "start_time": "2022-05-27T18:11:40.170Z"
   },
   {
    "duration": 29,
    "start_time": "2022-05-27T18:12:16.369Z"
   },
   {
    "duration": 12,
    "start_time": "2022-05-27T18:12:40.491Z"
   },
   {
    "duration": 13,
    "start_time": "2022-05-27T18:13:56.823Z"
   },
   {
    "duration": 29,
    "start_time": "2022-05-27T18:14:15.098Z"
   },
   {
    "duration": 9,
    "start_time": "2022-05-27T18:14:26.786Z"
   },
   {
    "duration": 66,
    "start_time": "2022-05-27T18:14:28.396Z"
   },
   {
    "duration": 9,
    "start_time": "2022-05-27T18:15:15.357Z"
   },
   {
    "duration": 7,
    "start_time": "2022-05-27T18:18:16.344Z"
   },
   {
    "duration": 37,
    "start_time": "2022-05-27T18:18:26.121Z"
   },
   {
    "duration": 17,
    "start_time": "2022-05-27T18:19:27.634Z"
   },
   {
    "duration": 38,
    "start_time": "2022-05-27T18:19:28.468Z"
   },
   {
    "duration": 47,
    "start_time": "2022-05-27T18:22:31.383Z"
   },
   {
    "duration": 7,
    "start_time": "2022-05-27T18:24:26.869Z"
   },
   {
    "duration": 6,
    "start_time": "2022-05-27T18:24:35.607Z"
   },
   {
    "duration": 5,
    "start_time": "2022-05-27T18:25:38.233Z"
   },
   {
    "duration": 42,
    "start_time": "2022-05-27T18:44:00.796Z"
   },
   {
    "duration": 88,
    "start_time": "2022-05-27T18:44:04.423Z"
   },
   {
    "duration": 26,
    "start_time": "2022-05-27T18:44:05.984Z"
   },
   {
    "duration": 9,
    "start_time": "2022-05-27T18:46:23.585Z"
   },
   {
    "duration": 10,
    "start_time": "2022-05-27T18:46:28.823Z"
   },
   {
    "duration": 8,
    "start_time": "2022-05-27T18:46:51.303Z"
   },
   {
    "duration": 7,
    "start_time": "2022-05-27T18:47:22.677Z"
   },
   {
    "duration": 6,
    "start_time": "2022-05-27T18:47:56.524Z"
   },
   {
    "duration": 13,
    "start_time": "2022-05-27T18:48:07.829Z"
   },
   {
    "duration": 8,
    "start_time": "2022-05-27T18:48:16.917Z"
   },
   {
    "duration": 29,
    "start_time": "2022-05-27T18:48:48.173Z"
   },
   {
    "duration": 7,
    "start_time": "2022-05-27T18:48:54.503Z"
   },
   {
    "duration": 9,
    "start_time": "2022-05-27T18:50:35.408Z"
   },
   {
    "duration": 12,
    "start_time": "2022-05-27T18:50:41.269Z"
   },
   {
    "duration": 6,
    "start_time": "2022-05-27T18:50:52.817Z"
   },
   {
    "duration": 5,
    "start_time": "2022-05-27T18:50:59.481Z"
   },
   {
    "duration": 7,
    "start_time": "2022-05-27T18:51:03.285Z"
   },
   {
    "duration": 6,
    "start_time": "2022-05-27T18:58:08.587Z"
   },
   {
    "duration": 30,
    "start_time": "2022-05-27T19:03:31.232Z"
   },
   {
    "duration": 24,
    "start_time": "2022-05-27T19:03:40.388Z"
   },
   {
    "duration": 7,
    "start_time": "2022-05-27T19:06:22.001Z"
   },
   {
    "duration": 6,
    "start_time": "2022-05-27T19:08:28.238Z"
   },
   {
    "duration": 7,
    "start_time": "2022-05-27T19:08:35.184Z"
   },
   {
    "duration": 4,
    "start_time": "2022-05-27T19:29:42.034Z"
   },
   {
    "duration": 24,
    "start_time": "2022-05-27T19:29:47.594Z"
   },
   {
    "duration": 5,
    "start_time": "2022-05-27T19:30:21.724Z"
   },
   {
    "duration": 4,
    "start_time": "2022-05-27T19:31:23.664Z"
   },
   {
    "duration": 14,
    "start_time": "2022-05-27T19:31:27.336Z"
   },
   {
    "duration": 11,
    "start_time": "2022-05-27T19:31:31.568Z"
   },
   {
    "duration": 11,
    "start_time": "2022-05-27T19:31:39.724Z"
   },
   {
    "duration": 11,
    "start_time": "2022-05-27T19:32:19.587Z"
   },
   {
    "duration": 6,
    "start_time": "2022-05-27T19:32:47.225Z"
   },
   {
    "duration": 5,
    "start_time": "2022-05-27T19:32:53.473Z"
   },
   {
    "duration": 14,
    "start_time": "2022-05-27T19:33:40.136Z"
   },
   {
    "duration": 7,
    "start_time": "2022-05-27T19:33:58.693Z"
   },
   {
    "duration": 11,
    "start_time": "2022-05-27T19:34:12.331Z"
   },
   {
    "duration": 9,
    "start_time": "2022-05-27T19:34:33.552Z"
   },
   {
    "duration": 7,
    "start_time": "2022-05-27T19:34:42.192Z"
   },
   {
    "duration": 10,
    "start_time": "2022-05-27T19:35:10.571Z"
   },
   {
    "duration": 9,
    "start_time": "2022-05-27T19:35:40.089Z"
   },
   {
    "duration": 12,
    "start_time": "2022-05-27T19:35:59.678Z"
   },
   {
    "duration": 12,
    "start_time": "2022-05-27T19:36:08.035Z"
   },
   {
    "duration": 238,
    "start_time": "2022-05-27T19:37:41.803Z"
   },
   {
    "duration": 277,
    "start_time": "2022-05-27T19:38:09.449Z"
   },
   {
    "duration": 294,
    "start_time": "2022-05-27T19:38:47.628Z"
   },
   {
    "duration": 35,
    "start_time": "2022-05-27T19:39:12.340Z"
   },
   {
    "duration": 59,
    "start_time": "2022-05-29T09:36:06.875Z"
   },
   {
    "duration": 585,
    "start_time": "2022-05-29T09:36:09.474Z"
   },
   {
    "duration": 55,
    "start_time": "2022-05-29T09:36:13.999Z"
   },
   {
    "duration": 605,
    "start_time": "2022-05-29T10:31:11.176Z"
   },
   {
    "duration": 38,
    "start_time": "2022-05-29T10:31:11.784Z"
   },
   {
    "duration": 6,
    "start_time": "2022-05-29T10:31:11.825Z"
   },
   {
    "duration": 6,
    "start_time": "2022-05-29T10:31:11.833Z"
   },
   {
    "duration": 42,
    "start_time": "2022-05-29T10:31:11.841Z"
   },
   {
    "duration": 49,
    "start_time": "2022-05-29T10:31:11.887Z"
   },
   {
    "duration": 21,
    "start_time": "2022-05-29T10:31:11.938Z"
   },
   {
    "duration": 70,
    "start_time": "2022-05-29T10:31:11.961Z"
   },
   {
    "duration": 9,
    "start_time": "2022-05-29T10:31:12.033Z"
   },
   {
    "duration": 50,
    "start_time": "2022-05-29T10:31:12.045Z"
   },
   {
    "duration": 21,
    "start_time": "2022-05-29T10:31:12.097Z"
   },
   {
    "duration": 39,
    "start_time": "2022-05-29T10:31:12.120Z"
   },
   {
    "duration": 26,
    "start_time": "2022-05-29T10:31:12.161Z"
   },
   {
    "duration": 6,
    "start_time": "2022-05-29T10:31:12.190Z"
   },
   {
    "duration": 32,
    "start_time": "2022-05-29T10:31:12.199Z"
   },
   {
    "duration": 43,
    "start_time": "2022-05-29T10:31:12.233Z"
   },
   {
    "duration": 21,
    "start_time": "2022-05-29T10:31:12.278Z"
   },
   {
    "duration": 42,
    "start_time": "2022-05-29T10:31:12.301Z"
   },
   {
    "duration": 18,
    "start_time": "2022-05-29T10:31:12.345Z"
   },
   {
    "duration": 55,
    "start_time": "2022-05-29T10:31:12.366Z"
   },
   {
    "duration": 11,
    "start_time": "2022-05-29T10:33:50.602Z"
   },
   {
    "duration": 7,
    "start_time": "2022-05-29T10:33:51.809Z"
   },
   {
    "duration": 41,
    "start_time": "2022-05-29T11:03:27.685Z"
   },
   {
    "duration": 13,
    "start_time": "2022-05-29T13:35:11.761Z"
   },
   {
    "duration": 33,
    "start_time": "2022-05-29T13:35:34.017Z"
   },
   {
    "duration": 27,
    "start_time": "2022-05-29T13:35:40.814Z"
   },
   {
    "duration": 41,
    "start_time": "2022-05-29T13:36:08.775Z"
   },
   {
    "duration": 19,
    "start_time": "2022-05-29T13:39:19.351Z"
   },
   {
    "duration": 27,
    "start_time": "2022-05-29T13:41:17.775Z"
   },
   {
    "duration": 19,
    "start_time": "2022-05-29T13:41:34.120Z"
   },
   {
    "duration": 667,
    "start_time": "2022-05-29T13:44:44.565Z"
   },
   {
    "duration": 22,
    "start_time": "2022-05-29T13:44:45.235Z"
   },
   {
    "duration": 7,
    "start_time": "2022-05-29T13:44:45.259Z"
   },
   {
    "duration": 18,
    "start_time": "2022-05-29T13:44:45.268Z"
   },
   {
    "duration": 41,
    "start_time": "2022-05-29T13:44:45.291Z"
   },
   {
    "duration": 52,
    "start_time": "2022-05-29T13:44:45.334Z"
   },
   {
    "duration": 28,
    "start_time": "2022-05-29T13:44:45.388Z"
   },
   {
    "duration": 80,
    "start_time": "2022-05-29T13:44:45.418Z"
   },
   {
    "duration": 11,
    "start_time": "2022-05-29T13:44:45.504Z"
   },
   {
    "duration": 30,
    "start_time": "2022-05-29T13:44:45.517Z"
   },
   {
    "duration": 12,
    "start_time": "2022-05-29T13:44:45.549Z"
   },
   {
    "duration": 37,
    "start_time": "2022-05-29T13:44:45.594Z"
   },
   {
    "duration": 9,
    "start_time": "2022-05-29T13:44:45.633Z"
   },
   {
    "duration": 5,
    "start_time": "2022-05-29T13:44:45.645Z"
   },
   {
    "duration": 12,
    "start_time": "2022-05-29T13:44:45.652Z"
   },
   {
    "duration": 7,
    "start_time": "2022-05-29T13:44:45.685Z"
   },
   {
    "duration": 27,
    "start_time": "2022-05-29T13:44:45.694Z"
   },
   {
    "duration": 41,
    "start_time": "2022-05-29T13:44:45.723Z"
   },
   {
    "duration": 21,
    "start_time": "2022-05-29T13:44:45.766Z"
   },
   {
    "duration": 27,
    "start_time": "2022-05-29T13:44:45.791Z"
   },
   {
    "duration": 22,
    "start_time": "2022-05-29T13:44:45.820Z"
   },
   {
    "duration": 5,
    "start_time": "2022-05-29T13:46:08.825Z"
   },
   {
    "duration": 12,
    "start_time": "2022-05-29T13:46:21.263Z"
   },
   {
    "duration": 11,
    "start_time": "2022-05-29T13:46:28.914Z"
   },
   {
    "duration": 12,
    "start_time": "2022-05-29T13:49:23.062Z"
   },
   {
    "duration": 7,
    "start_time": "2022-05-29T13:49:33.246Z"
   },
   {
    "duration": 9,
    "start_time": "2022-05-29T13:49:40.111Z"
   },
   {
    "duration": 5,
    "start_time": "2022-05-29T13:55:09.915Z"
   },
   {
    "duration": 110,
    "start_time": "2022-05-29T13:55:14.271Z"
   },
   {
    "duration": 16,
    "start_time": "2022-05-29T13:55:25.221Z"
   },
   {
    "duration": 17,
    "start_time": "2022-05-29T13:55:31.921Z"
   },
   {
    "duration": 631,
    "start_time": "2022-05-29T13:55:47.066Z"
   },
   {
    "duration": 25,
    "start_time": "2022-05-29T13:55:47.699Z"
   },
   {
    "duration": 5,
    "start_time": "2022-05-29T13:55:47.725Z"
   },
   {
    "duration": 5,
    "start_time": "2022-05-29T13:55:47.732Z"
   },
   {
    "duration": 78,
    "start_time": "2022-05-29T13:55:47.739Z"
   },
   {
    "duration": 33,
    "start_time": "2022-05-29T13:55:47.819Z"
   },
   {
    "duration": 32,
    "start_time": "2022-05-29T13:55:47.854Z"
   },
   {
    "duration": 81,
    "start_time": "2022-05-29T13:55:47.889Z"
   },
   {
    "duration": 11,
    "start_time": "2022-05-29T13:55:47.972Z"
   },
   {
    "duration": 56,
    "start_time": "2022-05-29T13:55:47.986Z"
   },
   {
    "duration": 13,
    "start_time": "2022-05-29T13:55:48.044Z"
   },
   {
    "duration": 59,
    "start_time": "2022-05-29T13:55:48.059Z"
   },
   {
    "duration": 12,
    "start_time": "2022-05-29T13:55:48.120Z"
   },
   {
    "duration": 9,
    "start_time": "2022-05-29T13:55:48.136Z"
   },
   {
    "duration": 14,
    "start_time": "2022-05-29T13:55:48.147Z"
   },
   {
    "duration": 5,
    "start_time": "2022-05-29T13:55:48.163Z"
   },
   {
    "duration": 25,
    "start_time": "2022-05-29T13:55:48.169Z"
   },
   {
    "duration": 73,
    "start_time": "2022-05-29T13:55:48.196Z"
   },
   {
    "duration": 13,
    "start_time": "2022-05-29T13:55:48.270Z"
   },
   {
    "duration": 59,
    "start_time": "2022-05-29T13:55:48.287Z"
   },
   {
    "duration": 23,
    "start_time": "2022-05-29T13:55:48.349Z"
   },
   {
    "duration": 20,
    "start_time": "2022-05-29T13:55:48.374Z"
   },
   {
    "duration": 35,
    "start_time": "2022-05-29T13:55:48.397Z"
   },
   {
    "duration": 11,
    "start_time": "2022-05-29T13:55:48.435Z"
   },
   {
    "duration": 19,
    "start_time": "2022-05-29T13:55:48.447Z"
   },
   {
    "duration": 36,
    "start_time": "2022-05-29T14:23:13.244Z"
   },
   {
    "duration": 3,
    "start_time": "2022-05-29T14:26:37.214Z"
   },
   {
    "duration": 27,
    "start_time": "2022-05-29T14:27:22.323Z"
   },
   {
    "duration": 11,
    "start_time": "2022-05-30T09:18:31.429Z"
   },
   {
    "duration": 3,
    "start_time": "2022-05-30T09:22:38.420Z"
   },
   {
    "duration": 691,
    "start_time": "2022-05-30T09:22:46.243Z"
   },
   {
    "duration": 16,
    "start_time": "2022-05-30T09:22:46.936Z"
   },
   {
    "duration": 5,
    "start_time": "2022-05-30T09:22:46.953Z"
   },
   {
    "duration": 6,
    "start_time": "2022-05-30T09:22:46.960Z"
   },
   {
    "duration": 34,
    "start_time": "2022-05-30T09:22:46.968Z"
   },
   {
    "duration": 31,
    "start_time": "2022-05-30T09:22:47.003Z"
   },
   {
    "duration": 22,
    "start_time": "2022-05-30T09:22:47.035Z"
   },
   {
    "duration": 51,
    "start_time": "2022-05-30T09:22:47.059Z"
   },
   {
    "duration": 8,
    "start_time": "2022-05-30T09:22:47.112Z"
   },
   {
    "duration": 26,
    "start_time": "2022-05-30T09:22:47.121Z"
   },
   {
    "duration": 10,
    "start_time": "2022-05-30T09:22:47.149Z"
   },
   {
    "duration": 52,
    "start_time": "2022-05-30T09:22:47.161Z"
   },
   {
    "duration": 7,
    "start_time": "2022-05-30T09:22:47.215Z"
   },
   {
    "duration": 6,
    "start_time": "2022-05-30T09:22:47.225Z"
   },
   {
    "duration": 11,
    "start_time": "2022-05-30T09:22:47.232Z"
   },
   {
    "duration": 4,
    "start_time": "2022-05-30T09:22:47.245Z"
   },
   {
    "duration": 8,
    "start_time": "2022-05-30T09:22:47.251Z"
   },
   {
    "duration": 61,
    "start_time": "2022-05-30T09:22:47.260Z"
   },
   {
    "duration": 12,
    "start_time": "2022-05-30T09:22:47.322Z"
   },
   {
    "duration": 28,
    "start_time": "2022-05-30T09:22:47.336Z"
   },
   {
    "duration": 38,
    "start_time": "2022-05-30T09:22:47.366Z"
   },
   {
    "duration": 15,
    "start_time": "2022-05-30T09:22:47.406Z"
   },
   {
    "duration": 6,
    "start_time": "2022-05-30T09:22:47.423Z"
   },
   {
    "duration": 16,
    "start_time": "2022-05-30T09:22:47.431Z"
   },
   {
    "duration": 18,
    "start_time": "2022-05-30T09:22:47.449Z"
   },
   {
    "duration": 3,
    "start_time": "2022-05-30T09:22:47.495Z"
   },
   {
    "duration": 25,
    "start_time": "2022-05-30T09:22:47.501Z"
   },
   {
    "duration": 3,
    "start_time": "2022-05-30T09:22:47.529Z"
   },
   {
    "duration": 6,
    "start_time": "2022-05-30T09:24:27.958Z"
   },
   {
    "duration": 12,
    "start_time": "2022-05-30T09:24:40.621Z"
   },
   {
    "duration": 13,
    "start_time": "2022-05-30T09:25:26.341Z"
   },
   {
    "duration": 3,
    "start_time": "2022-05-30T09:27:30.005Z"
   },
   {
    "duration": 9,
    "start_time": "2022-05-30T09:27:30.541Z"
   },
   {
    "duration": 14,
    "start_time": "2022-05-30T09:27:31.269Z"
   },
   {
    "duration": 13,
    "start_time": "2022-05-30T09:28:08.057Z"
   },
   {
    "duration": 8,
    "start_time": "2022-05-30T09:28:20.610Z"
   },
   {
    "duration": 13,
    "start_time": "2022-05-30T09:29:45.229Z"
   },
   {
    "duration": 11,
    "start_time": "2022-05-30T09:30:00.073Z"
   },
   {
    "duration": 89,
    "start_time": "2022-05-30T09:30:58.485Z"
   },
   {
    "duration": 12,
    "start_time": "2022-05-30T09:31:02.578Z"
   },
   {
    "duration": 993,
    "start_time": "2022-05-30T09:31:52.583Z"
   },
   {
    "duration": 12,
    "start_time": "2022-05-30T09:32:03.566Z"
   },
   {
    "duration": 113,
    "start_time": "2022-05-30T09:33:37.043Z"
   },
   {
    "duration": 18,
    "start_time": "2022-05-30T09:33:58.343Z"
   },
   {
    "duration": 12,
    "start_time": "2022-05-30T09:36:33.918Z"
   },
   {
    "duration": 112,
    "start_time": "2022-05-30T09:37:31.576Z"
   },
   {
    "duration": 11,
    "start_time": "2022-05-30T09:48:40.422Z"
   },
   {
    "duration": 6,
    "start_time": "2022-05-30T09:48:59.199Z"
   },
   {
    "duration": 26,
    "start_time": "2022-05-30T09:50:46.438Z"
   },
   {
    "duration": 6,
    "start_time": "2022-05-30T09:51:20.685Z"
   },
   {
    "duration": 11,
    "start_time": "2022-05-30T09:51:24.173Z"
   },
   {
    "duration": 129,
    "start_time": "2022-05-30T09:51:46.688Z"
   },
   {
    "duration": 157,
    "start_time": "2022-05-30T09:54:15.107Z"
   },
   {
    "duration": 116,
    "start_time": "2022-05-30T09:54:38.488Z"
   },
   {
    "duration": 14,
    "start_time": "2022-05-30T09:56:24.042Z"
   },
   {
    "duration": 7,
    "start_time": "2022-05-30T09:56:29.453Z"
   },
   {
    "duration": 11,
    "start_time": "2022-05-30T10:09:53.833Z"
   },
   {
    "duration": 12,
    "start_time": "2022-05-30T10:10:10.894Z"
   },
   {
    "duration": 13,
    "start_time": "2022-05-30T10:11:19.992Z"
   },
   {
    "duration": 109,
    "start_time": "2022-05-30T10:12:15.453Z"
   },
   {
    "duration": 127,
    "start_time": "2022-05-30T10:15:09.035Z"
   },
   {
    "duration": 191,
    "start_time": "2022-05-30T10:17:31.920Z"
   },
   {
    "duration": 18,
    "start_time": "2022-05-30T10:20:09.013Z"
   },
   {
    "duration": 146,
    "start_time": "2022-05-30T10:21:15.984Z"
   },
   {
    "duration": 23,
    "start_time": "2022-05-30T10:49:42.965Z"
   },
   {
    "duration": 34,
    "start_time": "2022-05-30T10:50:11.919Z"
   },
   {
    "duration": 478,
    "start_time": "2022-05-30T11:09:32.526Z"
   },
   {
    "duration": 16,
    "start_time": "2022-05-30T11:09:33.007Z"
   },
   {
    "duration": 6,
    "start_time": "2022-05-30T11:09:33.024Z"
   },
   {
    "duration": 9,
    "start_time": "2022-05-30T11:09:33.031Z"
   },
   {
    "duration": 65,
    "start_time": "2022-05-30T11:09:33.042Z"
   },
   {
    "duration": 33,
    "start_time": "2022-05-30T11:09:33.108Z"
   },
   {
    "duration": 21,
    "start_time": "2022-05-30T11:09:33.142Z"
   },
   {
    "duration": 60,
    "start_time": "2022-05-30T11:09:33.165Z"
   },
   {
    "duration": 9,
    "start_time": "2022-05-30T11:09:33.227Z"
   },
   {
    "duration": 24,
    "start_time": "2022-05-30T11:09:33.237Z"
   },
   {
    "duration": 35,
    "start_time": "2022-05-30T11:09:33.262Z"
   },
   {
    "duration": 35,
    "start_time": "2022-05-30T11:09:33.298Z"
   },
   {
    "duration": 5,
    "start_time": "2022-05-30T11:09:33.335Z"
   },
   {
    "duration": 16,
    "start_time": "2022-05-30T11:09:33.343Z"
   },
   {
    "duration": 11,
    "start_time": "2022-05-30T11:09:33.361Z"
   },
   {
    "duration": 12,
    "start_time": "2022-05-30T11:09:33.393Z"
   },
   {
    "duration": 9,
    "start_time": "2022-05-30T11:09:33.407Z"
   },
   {
    "duration": 32,
    "start_time": "2022-05-30T11:09:33.418Z"
   },
   {
    "duration": 11,
    "start_time": "2022-05-30T11:09:33.451Z"
   },
   {
    "duration": 36,
    "start_time": "2022-05-30T11:09:33.464Z"
   },
   {
    "duration": 23,
    "start_time": "2022-05-30T11:09:33.502Z"
   },
   {
    "duration": 13,
    "start_time": "2022-05-30T11:09:33.527Z"
   },
   {
    "duration": 7,
    "start_time": "2022-05-30T11:09:33.541Z"
   },
   {
    "duration": 12,
    "start_time": "2022-05-30T11:09:33.550Z"
   },
   {
    "duration": 37,
    "start_time": "2022-05-30T11:09:33.564Z"
   },
   {
    "duration": 7,
    "start_time": "2022-05-30T11:09:33.603Z"
   },
   {
    "duration": 30,
    "start_time": "2022-05-30T11:09:33.612Z"
   },
   {
    "duration": 19,
    "start_time": "2022-05-30T11:09:33.643Z"
   },
   {
    "duration": 21,
    "start_time": "2022-05-30T11:09:33.664Z"
   },
   {
    "duration": 31,
    "start_time": "2022-05-30T11:09:33.686Z"
   },
   {
    "duration": 24,
    "start_time": "2022-05-30T11:09:33.719Z"
   },
   {
    "duration": 419,
    "start_time": "2022-05-30T11:09:33.745Z"
   },
   {
    "duration": 6,
    "start_time": "2022-05-30T11:09:34.166Z"
   },
   {
    "duration": 24,
    "start_time": "2022-05-30T11:09:34.173Z"
   },
   {
    "duration": 122,
    "start_time": "2022-05-30T11:09:34.199Z"
   },
   {
    "duration": 13,
    "start_time": "2022-05-30T11:09:34.323Z"
   },
   {
    "duration": 135,
    "start_time": "2022-05-30T11:09:34.337Z"
   },
   {
    "duration": 22,
    "start_time": "2022-05-30T11:09:34.473Z"
   },
   {
    "duration": 134,
    "start_time": "2022-05-30T11:09:34.497Z"
   },
   {
    "duration": 663,
    "start_time": "2022-05-30T13:02:07.103Z"
   },
   {
    "duration": 21,
    "start_time": "2022-05-30T13:02:07.769Z"
   },
   {
    "duration": 15,
    "start_time": "2022-05-30T13:02:07.796Z"
   },
   {
    "duration": 17,
    "start_time": "2022-05-30T13:02:07.813Z"
   },
   {
    "duration": 31,
    "start_time": "2022-05-30T13:02:07.832Z"
   },
   {
    "duration": 49,
    "start_time": "2022-05-30T13:02:07.864Z"
   },
   {
    "duration": 30,
    "start_time": "2022-05-30T13:02:07.915Z"
   },
   {
    "duration": 74,
    "start_time": "2022-05-30T13:02:07.947Z"
   },
   {
    "duration": 13,
    "start_time": "2022-05-30T13:02:08.023Z"
   },
   {
    "duration": 52,
    "start_time": "2022-05-30T13:02:08.038Z"
   },
   {
    "duration": 21,
    "start_time": "2022-05-30T13:02:08.097Z"
   },
   {
    "duration": 57,
    "start_time": "2022-05-30T13:02:08.120Z"
   },
   {
    "duration": 23,
    "start_time": "2022-05-30T13:02:08.179Z"
   },
   {
    "duration": 17,
    "start_time": "2022-05-30T13:02:08.207Z"
   },
   {
    "duration": 13,
    "start_time": "2022-05-30T13:02:08.227Z"
   },
   {
    "duration": 15,
    "start_time": "2022-05-30T13:02:08.242Z"
   },
   {
    "duration": 15,
    "start_time": "2022-05-30T13:02:08.260Z"
   },
   {
    "duration": 117,
    "start_time": "2022-05-30T13:02:08.277Z"
   },
   {
    "duration": 12,
    "start_time": "2022-05-30T13:02:08.401Z"
   },
   {
    "duration": 24,
    "start_time": "2022-05-30T13:02:08.415Z"
   },
   {
    "duration": 22,
    "start_time": "2022-05-30T13:02:08.441Z"
   },
   {
    "duration": 29,
    "start_time": "2022-05-30T13:02:08.465Z"
   },
   {
    "duration": 9,
    "start_time": "2022-05-30T13:02:08.496Z"
   },
   {
    "duration": 10,
    "start_time": "2022-05-30T13:02:08.507Z"
   },
   {
    "duration": 17,
    "start_time": "2022-05-30T13:02:08.518Z"
   },
   {
    "duration": 6,
    "start_time": "2022-05-30T13:02:08.536Z"
   },
   {
    "duration": 46,
    "start_time": "2022-05-30T13:02:08.544Z"
   },
   {
    "duration": 7,
    "start_time": "2022-05-30T13:02:08.591Z"
   },
   {
    "duration": 14,
    "start_time": "2022-05-30T13:02:08.600Z"
   },
   {
    "duration": 16,
    "start_time": "2022-05-30T13:02:08.616Z"
   },
   {
    "duration": 16,
    "start_time": "2022-05-30T13:02:08.633Z"
   },
   {
    "duration": 455,
    "start_time": "2022-05-30T13:02:08.650Z"
   },
   {
    "duration": 7,
    "start_time": "2022-05-30T13:02:09.107Z"
   },
   {
    "duration": 38,
    "start_time": "2022-05-30T13:02:09.116Z"
   },
   {
    "duration": 119,
    "start_time": "2022-05-30T13:02:09.155Z"
   },
   {
    "duration": 26,
    "start_time": "2022-05-30T13:02:09.276Z"
   },
   {
    "duration": 143,
    "start_time": "2022-05-30T13:02:09.304Z"
   },
   {
    "duration": 13,
    "start_time": "2022-05-30T13:02:09.449Z"
   },
   {
    "duration": 160,
    "start_time": "2022-05-30T13:02:09.464Z"
   },
   {
    "duration": 11,
    "start_time": "2022-05-30T13:04:50.719Z"
   },
   {
    "duration": 62,
    "start_time": "2022-06-01T08:50:03.916Z"
   },
   {
    "duration": 867,
    "start_time": "2022-06-01T08:50:17.974Z"
   },
   {
    "duration": 25,
    "start_time": "2022-06-01T08:50:18.843Z"
   },
   {
    "duration": 12,
    "start_time": "2022-06-01T08:50:18.870Z"
   },
   {
    "duration": 30,
    "start_time": "2022-06-01T08:50:18.883Z"
   },
   {
    "duration": 26,
    "start_time": "2022-06-01T08:50:18.915Z"
   },
   {
    "duration": 41,
    "start_time": "2022-06-01T08:50:18.942Z"
   },
   {
    "duration": 25,
    "start_time": "2022-06-01T08:50:18.984Z"
   },
   {
    "duration": 31,
    "start_time": "2022-06-01T08:50:19.011Z"
   },
   {
    "duration": 22,
    "start_time": "2022-06-01T08:50:19.043Z"
   },
   {
    "duration": 72,
    "start_time": "2022-06-01T08:50:19.067Z"
   },
   {
    "duration": 10,
    "start_time": "2022-06-01T08:50:19.141Z"
   },
   {
    "duration": 69,
    "start_time": "2022-06-01T08:50:19.153Z"
   },
   {
    "duration": 7,
    "start_time": "2022-06-01T08:50:19.224Z"
   },
   {
    "duration": 6,
    "start_time": "2022-06-01T08:50:19.234Z"
   },
   {
    "duration": 10,
    "start_time": "2022-06-01T08:50:19.241Z"
   },
   {
    "duration": 15,
    "start_time": "2022-06-01T08:50:19.253Z"
   },
   {
    "duration": 48,
    "start_time": "2022-06-01T08:50:19.269Z"
   },
   {
    "duration": 27,
    "start_time": "2022-06-01T08:50:19.318Z"
   },
   {
    "duration": 16,
    "start_time": "2022-06-01T08:50:19.346Z"
   },
   {
    "duration": 53,
    "start_time": "2022-06-01T08:50:19.363Z"
   },
   {
    "duration": 17,
    "start_time": "2022-06-01T08:50:19.418Z"
   },
   {
    "duration": 10,
    "start_time": "2022-06-01T08:50:19.437Z"
   },
   {
    "duration": 8,
    "start_time": "2022-06-01T08:50:19.448Z"
   },
   {
    "duration": 49,
    "start_time": "2022-06-01T08:50:19.462Z"
   },
   {
    "duration": 14,
    "start_time": "2022-06-01T08:50:19.513Z"
   },
   {
    "duration": 5,
    "start_time": "2022-06-01T08:50:19.529Z"
   },
   {
    "duration": 27,
    "start_time": "2022-06-01T08:50:19.536Z"
   },
   {
    "duration": 4,
    "start_time": "2022-06-01T08:50:19.564Z"
   },
   {
    "duration": 41,
    "start_time": "2022-06-01T08:50:19.570Z"
   },
   {
    "duration": 19,
    "start_time": "2022-06-01T08:50:19.613Z"
   },
   {
    "duration": 44,
    "start_time": "2022-06-01T08:50:19.634Z"
   },
   {
    "duration": 654,
    "start_time": "2022-06-01T08:50:19.681Z"
   },
   {
    "duration": 6,
    "start_time": "2022-06-01T08:50:20.337Z"
   },
   {
    "duration": 57,
    "start_time": "2022-06-01T08:50:20.344Z"
   },
   {
    "duration": 140,
    "start_time": "2022-06-01T08:50:20.403Z"
   },
   {
    "duration": 19,
    "start_time": "2022-06-01T08:50:20.547Z"
   },
   {
    "duration": 147,
    "start_time": "2022-06-01T08:50:20.569Z"
   },
   {
    "duration": 12,
    "start_time": "2022-06-01T08:50:20.717Z"
   },
   {
    "duration": 148,
    "start_time": "2022-06-01T08:50:20.730Z"
   },
   {
    "duration": 131,
    "start_time": "2022-06-01T08:51:26.604Z"
   },
   {
    "duration": 7,
    "start_time": "2022-06-01T08:51:29.523Z"
   },
   {
    "duration": 554,
    "start_time": "2022-06-01T09:07:11.132Z"
   },
   {
    "duration": 22,
    "start_time": "2022-06-01T09:07:11.688Z"
   },
   {
    "duration": 5,
    "start_time": "2022-06-01T09:07:11.712Z"
   },
   {
    "duration": 12,
    "start_time": "2022-06-01T09:07:11.719Z"
   },
   {
    "duration": 32,
    "start_time": "2022-06-01T09:07:11.733Z"
   },
   {
    "duration": 32,
    "start_time": "2022-06-01T09:07:11.766Z"
   },
   {
    "duration": 17,
    "start_time": "2022-06-01T09:07:11.799Z"
   },
   {
    "duration": 47,
    "start_time": "2022-06-01T09:07:11.818Z"
   },
   {
    "duration": 9,
    "start_time": "2022-06-01T09:07:11.867Z"
   },
   {
    "duration": 33,
    "start_time": "2022-06-01T09:07:11.878Z"
   },
   {
    "duration": 10,
    "start_time": "2022-06-01T09:07:11.912Z"
   },
   {
    "duration": 30,
    "start_time": "2022-06-01T09:07:11.923Z"
   },
   {
    "duration": 8,
    "start_time": "2022-06-01T09:07:11.959Z"
   },
   {
    "duration": 22,
    "start_time": "2022-06-01T09:07:11.970Z"
   },
   {
    "duration": 11,
    "start_time": "2022-06-01T09:07:11.994Z"
   },
   {
    "duration": 3,
    "start_time": "2022-06-01T09:07:12.007Z"
   },
   {
    "duration": 6,
    "start_time": "2022-06-01T09:07:12.012Z"
   },
   {
    "duration": 48,
    "start_time": "2022-06-01T09:07:12.019Z"
   },
   {
    "duration": 21,
    "start_time": "2022-06-01T09:07:12.073Z"
   },
   {
    "duration": 23,
    "start_time": "2022-06-01T09:07:12.095Z"
   },
   {
    "duration": 19,
    "start_time": "2022-06-01T09:07:12.120Z"
   },
   {
    "duration": 11,
    "start_time": "2022-06-01T09:07:12.140Z"
   },
   {
    "duration": 10,
    "start_time": "2022-06-01T09:07:12.152Z"
   },
   {
    "duration": 32,
    "start_time": "2022-06-01T09:07:12.164Z"
   },
   {
    "duration": 14,
    "start_time": "2022-06-01T09:07:12.198Z"
   },
   {
    "duration": 6,
    "start_time": "2022-06-01T09:07:12.214Z"
   },
   {
    "duration": 25,
    "start_time": "2022-06-01T09:07:12.221Z"
   },
   {
    "duration": 3,
    "start_time": "2022-06-01T09:07:12.247Z"
   },
   {
    "duration": 39,
    "start_time": "2022-06-01T09:07:12.251Z"
   },
   {
    "duration": 12,
    "start_time": "2022-06-01T09:07:12.292Z"
   },
   {
    "duration": 26,
    "start_time": "2022-06-01T09:07:12.305Z"
   },
   {
    "duration": 386,
    "start_time": "2022-06-01T09:07:12.332Z"
   },
   {
    "duration": 6,
    "start_time": "2022-06-01T09:07:12.719Z"
   },
   {
    "duration": 12,
    "start_time": "2022-06-01T09:07:12.726Z"
   },
   {
    "duration": 132,
    "start_time": "2022-06-01T09:07:12.739Z"
   },
   {
    "duration": 19,
    "start_time": "2022-06-01T09:07:12.872Z"
   },
   {
    "duration": 104,
    "start_time": "2022-06-01T09:07:12.892Z"
   },
   {
    "duration": 12,
    "start_time": "2022-06-01T09:07:12.998Z"
   },
   {
    "duration": 135,
    "start_time": "2022-06-01T09:07:13.011Z"
   },
   {
    "duration": 472,
    "start_time": "2022-06-01T09:07:42.908Z"
   },
   {
    "duration": 16,
    "start_time": "2022-06-01T09:07:43.385Z"
   },
   {
    "duration": 5,
    "start_time": "2022-06-01T09:07:43.402Z"
   },
   {
    "duration": 6,
    "start_time": "2022-06-01T09:07:43.409Z"
   },
   {
    "duration": 27,
    "start_time": "2022-06-01T09:07:43.416Z"
   },
   {
    "duration": 50,
    "start_time": "2022-06-01T09:07:43.444Z"
   },
   {
    "duration": 18,
    "start_time": "2022-06-01T09:07:43.496Z"
   },
   {
    "duration": 41,
    "start_time": "2022-06-01T09:07:43.516Z"
   },
   {
    "duration": 13,
    "start_time": "2022-06-01T09:07:43.566Z"
   },
   {
    "duration": 37,
    "start_time": "2022-06-01T09:07:43.586Z"
   },
   {
    "duration": 10,
    "start_time": "2022-06-01T09:07:43.624Z"
   },
   {
    "duration": 43,
    "start_time": "2022-06-01T09:07:43.635Z"
   },
   {
    "duration": 7,
    "start_time": "2022-06-01T09:07:43.680Z"
   },
   {
    "duration": 5,
    "start_time": "2022-06-01T09:07:43.689Z"
   },
   {
    "duration": 7,
    "start_time": "2022-06-01T09:07:43.695Z"
   },
   {
    "duration": 6,
    "start_time": "2022-06-01T09:07:43.704Z"
   },
   {
    "duration": 7,
    "start_time": "2022-06-01T09:07:43.712Z"
   },
   {
    "duration": 40,
    "start_time": "2022-06-01T09:07:43.720Z"
   },
   {
    "duration": 20,
    "start_time": "2022-06-01T09:07:43.767Z"
   },
   {
    "duration": 17,
    "start_time": "2022-06-01T09:07:43.789Z"
   },
   {
    "duration": 19,
    "start_time": "2022-06-01T09:07:43.808Z"
   },
   {
    "duration": 11,
    "start_time": "2022-06-01T09:07:43.829Z"
   },
   {
    "duration": 21,
    "start_time": "2022-06-01T09:07:43.841Z"
   },
   {
    "duration": 32,
    "start_time": "2022-06-01T09:07:43.863Z"
   },
   {
    "duration": 13,
    "start_time": "2022-06-01T09:07:43.897Z"
   },
   {
    "duration": 4,
    "start_time": "2022-06-01T09:07:43.912Z"
   },
   {
    "duration": 21,
    "start_time": "2022-06-01T09:07:43.918Z"
   },
   {
    "duration": 2,
    "start_time": "2022-06-01T09:07:43.943Z"
   },
   {
    "duration": 23,
    "start_time": "2022-06-01T09:07:43.947Z"
   },
   {
    "duration": 23,
    "start_time": "2022-06-01T09:07:43.974Z"
   },
   {
    "duration": 27,
    "start_time": "2022-06-01T09:07:43.999Z"
   },
   {
    "duration": 401,
    "start_time": "2022-06-01T09:07:44.028Z"
   },
   {
    "duration": 7,
    "start_time": "2022-06-01T09:07:44.431Z"
   },
   {
    "duration": 32,
    "start_time": "2022-06-01T09:07:44.439Z"
   },
   {
    "duration": 120,
    "start_time": "2022-06-01T09:07:44.473Z"
   },
   {
    "duration": 11,
    "start_time": "2022-06-01T09:07:44.595Z"
   },
   {
    "duration": 116,
    "start_time": "2022-06-01T09:07:44.608Z"
   },
   {
    "duration": 12,
    "start_time": "2022-06-01T09:07:44.725Z"
   },
   {
    "duration": 150,
    "start_time": "2022-06-01T09:07:44.739Z"
   },
   {
    "duration": 498,
    "start_time": "2022-06-01T09:08:22.129Z"
   },
   {
    "duration": 17,
    "start_time": "2022-06-01T09:08:22.628Z"
   },
   {
    "duration": 5,
    "start_time": "2022-06-01T09:08:22.646Z"
   },
   {
    "duration": 53,
    "start_time": "2022-06-01T09:08:22.653Z"
   },
   {
    "duration": 40,
    "start_time": "2022-06-01T09:08:22.708Z"
   },
   {
    "duration": 44,
    "start_time": "2022-06-01T09:08:22.750Z"
   },
   {
    "duration": 19,
    "start_time": "2022-06-01T09:08:22.796Z"
   },
   {
    "duration": 44,
    "start_time": "2022-06-01T09:08:22.817Z"
   },
   {
    "duration": 10,
    "start_time": "2022-06-01T09:08:22.864Z"
   },
   {
    "duration": 44,
    "start_time": "2022-06-01T09:08:22.876Z"
   },
   {
    "duration": 11,
    "start_time": "2022-06-01T09:08:22.922Z"
   },
   {
    "duration": 41,
    "start_time": "2022-06-01T09:08:22.934Z"
   },
   {
    "duration": 11,
    "start_time": "2022-06-01T09:08:22.976Z"
   },
   {
    "duration": 11,
    "start_time": "2022-06-01T09:08:22.995Z"
   },
   {
    "duration": 13,
    "start_time": "2022-06-01T09:08:23.007Z"
   },
   {
    "duration": 7,
    "start_time": "2022-06-01T09:08:23.022Z"
   },
   {
    "duration": 20,
    "start_time": "2022-06-01T09:08:23.030Z"
   },
   {
    "duration": 74,
    "start_time": "2022-06-01T09:08:23.051Z"
   },
   {
    "duration": 11,
    "start_time": "2022-06-01T09:08:23.126Z"
   },
   {
    "duration": 34,
    "start_time": "2022-06-01T09:08:23.139Z"
   },
   {
    "duration": 29,
    "start_time": "2022-06-01T09:08:23.182Z"
   },
   {
    "duration": 15,
    "start_time": "2022-06-01T09:08:23.213Z"
   },
   {
    "duration": 8,
    "start_time": "2022-06-01T09:08:23.229Z"
   },
   {
    "duration": 10,
    "start_time": "2022-06-01T09:08:23.239Z"
   },
   {
    "duration": 55,
    "start_time": "2022-06-01T09:08:23.251Z"
   },
   {
    "duration": 8,
    "start_time": "2022-06-01T09:08:23.307Z"
   },
   {
    "duration": 24,
    "start_time": "2022-06-01T09:08:23.316Z"
   },
   {
    "duration": 3,
    "start_time": "2022-06-01T09:08:23.343Z"
   },
   {
    "duration": 22,
    "start_time": "2022-06-01T09:08:23.347Z"
   },
   {
    "duration": 20,
    "start_time": "2022-06-01T09:08:23.382Z"
   },
   {
    "duration": 26,
    "start_time": "2022-06-01T09:08:23.404Z"
   },
   {
    "duration": 407,
    "start_time": "2022-06-01T09:08:23.432Z"
   },
   {
    "duration": 6,
    "start_time": "2022-06-01T09:08:23.840Z"
   },
   {
    "duration": 23,
    "start_time": "2022-06-01T09:08:23.847Z"
   },
   {
    "duration": 133,
    "start_time": "2022-06-01T09:08:23.871Z"
   },
   {
    "duration": 12,
    "start_time": "2022-06-01T09:08:24.005Z"
   },
   {
    "duration": 123,
    "start_time": "2022-06-01T09:08:24.018Z"
   },
   {
    "duration": 24,
    "start_time": "2022-06-01T09:08:24.143Z"
   },
   {
    "duration": 143,
    "start_time": "2022-06-01T09:08:24.170Z"
   },
   {
    "duration": 517,
    "start_time": "2022-06-01T18:04:16.326Z"
   },
   {
    "duration": 17,
    "start_time": "2022-06-01T18:04:16.846Z"
   },
   {
    "duration": 5,
    "start_time": "2022-06-01T18:04:16.865Z"
   },
   {
    "duration": 6,
    "start_time": "2022-06-01T18:04:16.872Z"
   },
   {
    "duration": 60,
    "start_time": "2022-06-01T18:04:16.879Z"
   },
   {
    "duration": 33,
    "start_time": "2022-06-01T18:04:16.941Z"
   },
   {
    "duration": 19,
    "start_time": "2022-06-01T18:04:16.975Z"
   },
   {
    "duration": 56,
    "start_time": "2022-06-01T18:04:16.996Z"
   },
   {
    "duration": 9,
    "start_time": "2022-06-01T18:04:17.054Z"
   },
   {
    "duration": 27,
    "start_time": "2022-06-01T18:04:17.067Z"
   },
   {
    "duration": 38,
    "start_time": "2022-06-01T18:04:17.096Z"
   },
   {
    "duration": 37,
    "start_time": "2022-06-01T18:04:17.136Z"
   },
   {
    "duration": 6,
    "start_time": "2022-06-01T18:04:17.175Z"
   },
   {
    "duration": 9,
    "start_time": "2022-06-01T18:04:17.183Z"
   },
   {
    "duration": 9,
    "start_time": "2022-06-01T18:04:17.194Z"
   },
   {
    "duration": 4,
    "start_time": "2022-06-01T18:04:17.227Z"
   },
   {
    "duration": 7,
    "start_time": "2022-06-01T18:04:17.233Z"
   },
   {
    "duration": 31,
    "start_time": "2022-06-01T18:04:17.242Z"
   },
   {
    "duration": 10,
    "start_time": "2022-06-01T18:04:17.274Z"
   },
   {
    "duration": 58,
    "start_time": "2022-06-01T18:04:17.286Z"
   },
   {
    "duration": 28,
    "start_time": "2022-06-01T18:04:17.346Z"
   },
   {
    "duration": 11,
    "start_time": "2022-06-01T18:04:17.376Z"
   },
   {
    "duration": 9,
    "start_time": "2022-06-01T18:04:17.388Z"
   },
   {
    "duration": 29,
    "start_time": "2022-06-01T18:04:17.399Z"
   },
   {
    "duration": 12,
    "start_time": "2022-06-01T18:04:17.429Z"
   },
   {
    "duration": 9,
    "start_time": "2022-06-01T18:04:17.443Z"
   },
   {
    "duration": 23,
    "start_time": "2022-06-01T18:04:17.453Z"
   },
   {
    "duration": 4,
    "start_time": "2022-06-01T18:04:17.479Z"
   },
   {
    "duration": 43,
    "start_time": "2022-06-01T18:04:17.484Z"
   },
   {
    "duration": 12,
    "start_time": "2022-06-01T18:04:17.529Z"
   },
   {
    "duration": 30,
    "start_time": "2022-06-01T18:04:17.543Z"
   },
   {
    "duration": 400,
    "start_time": "2022-06-01T18:04:17.575Z"
   },
   {
    "duration": 7,
    "start_time": "2022-06-01T18:04:17.977Z"
   },
   {
    "duration": 16,
    "start_time": "2022-06-01T18:04:17.987Z"
   },
   {
    "duration": 151,
    "start_time": "2022-06-01T18:04:18.005Z"
   },
   {
    "duration": 17,
    "start_time": "2022-06-01T18:04:18.158Z"
   },
   {
    "duration": 130,
    "start_time": "2022-06-01T18:04:18.177Z"
   },
   {
    "duration": 24,
    "start_time": "2022-06-01T18:04:18.309Z"
   },
   {
    "duration": 133,
    "start_time": "2022-06-01T18:04:18.335Z"
   }
  ],
  "kernelspec": {
   "display_name": "Python 3 (ipykernel)",
   "language": "python",
   "name": "python3"
  },
  "language_info": {
   "codemirror_mode": {
    "name": "ipython",
    "version": 3
   },
   "file_extension": ".py",
   "mimetype": "text/x-python",
   "name": "python",
   "nbconvert_exporter": "python",
   "pygments_lexer": "ipython3",
   "version": "3.9.12"
  },
  "toc": {
   "base_numbering": 1,
   "nav_menu": {},
   "number_sections": true,
   "sideBar": true,
   "skip_h1_title": true,
   "title_cell": "Table of Contents",
   "title_sidebar": "Contents",
   "toc_cell": true,
   "toc_position": {},
   "toc_section_display": true,
   "toc_window_display": false
  },
  "vscode": {
   "interpreter": {
    "hash": "e42901d9492c612649bfe5bc45fcd722e20e946cf8622850b2a92552b6453078"
   }
  }
 },
 "nbformat": 4,
 "nbformat_minor": 5
}
