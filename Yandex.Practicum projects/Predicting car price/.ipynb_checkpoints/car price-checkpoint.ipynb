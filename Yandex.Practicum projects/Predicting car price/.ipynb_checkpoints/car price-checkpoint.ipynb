{
 "cells": [
  {
   "cell_type": "markdown",
   "metadata": {
    "id": "obLHf3uhJues",
    "toc": true
   },
   "source": [
    "<h1>Table of Contents<span class=\"tocSkip\"></span></h1>\n",
    "<div class=\"toc\"><ul class=\"toc-item\"><li><span><a href=\"#Project-description\" data-toc-modified-id=\"Project-description-1\"><span class=\"toc-item-num\">1&nbsp;&nbsp;</span>Project description</a></span></li><li><span><a href=\"#Data-description\" data-toc-modified-id=\"Data-description-2\"><span class=\"toc-item-num\">2&nbsp;&nbsp;</span>Data description</a></span></li><li><span><a href=\"#Data-preparation\" data-toc-modified-id=\"Data-preparation-3\"><span class=\"toc-item-num\">3&nbsp;&nbsp;</span>Data preparation</a></span><ul class=\"toc-item\"><li><span><a href=\"#Conclusions\" data-toc-modified-id=\"Conclusions-3.1\"><span class=\"toc-item-num\">3.1&nbsp;&nbsp;</span>Conclusions</a></span></li></ul></li><li><span><a href=\"#EDA\" data-toc-modified-id=\"EDA-4\"><span class=\"toc-item-num\">4&nbsp;&nbsp;</span>EDA</a></span><ul class=\"toc-item\"><li><span><a href=\"#Conclusions\" data-toc-modified-id=\"Conclusions-4.1\"><span class=\"toc-item-num\">4.1&nbsp;&nbsp;</span>Conclusions</a></span></li></ul></li><li><span><a href=\"#Creating-models\" data-toc-modified-id=\"Creating-models-5\"><span class=\"toc-item-num\">5&nbsp;&nbsp;</span>Creating models</a></span><ul class=\"toc-item\"><li><span><a href=\"#Splitting-dataset-into-train-and-test-sets\" data-toc-modified-id=\"Splitting-dataset-into-train-and-test-sets-5.1\"><span class=\"toc-item-num\">5.1&nbsp;&nbsp;</span>Splitting dataset into train and test sets</a></span></li><li><span><a href=\"#LGBM\" data-toc-modified-id=\"LGBM-5.2\"><span class=\"toc-item-num\">5.2&nbsp;&nbsp;</span>LGBM</a></span></li><li><span><a href=\"#CatBoost\" data-toc-modified-id=\"CatBoost-5.3\"><span class=\"toc-item-num\">5.3&nbsp;&nbsp;</span>CatBoost</a></span></li><li><span><a href=\"#Random-Forest\" data-toc-modified-id=\"Random-Forest-5.4\"><span class=\"toc-item-num\">5.4&nbsp;&nbsp;</span>Random Forest</a></span></li></ul></li><li><span><a href=\"#Analyzing-models\" data-toc-modified-id=\"Analyzing-models-6\"><span class=\"toc-item-num\">6&nbsp;&nbsp;</span>Analyzing models</a></span><ul class=\"toc-item\"><li><span><a href=\"#Checking-the-best-model-on-the-test-set\" data-toc-modified-id=\"Checking-the-best-model-on-the-test-set-6.1\"><span class=\"toc-item-num\">6.1&nbsp;&nbsp;</span>Checking the best model on the test set</a></span></li></ul></li><li><span><a href=\"#Summary\" data-toc-modified-id=\"Summary-7\"><span class=\"toc-item-num\">7&nbsp;&nbsp;</span>Summary</a></span></li></ul></div>"
   ]
  },
  {
   "cell_type": "markdown",
   "metadata": {
    "id": "vGGEAE0LJueu"
   },
   "source": [
    "# Predicting car price"
   ]
  },
  {
   "cell_type": "markdown",
   "metadata": {
    "id": "0UiZYclkJuev"
   },
   "source": [
    "## Project description"
   ]
  },
  {
   "cell_type": "markdown",
   "metadata": {
    "id": "LVaUPGrJJuev"
   },
   "source": [
    "**Brief information:** a used car sales company is developing an application to quickly determine the market value of a car in order to attract new customers.\n",
    "\n",
    "**Objective:** develop a model to determine the market value of a car based on historical data about the car's technical characteristics, equipment, and price.\n",
    "\n",
    "**Tasks:** consider and explore different models (including classical algorithms and the LightGBM model) according to prediction quality, prediction, and learning time."
   ]
  },
  {
   "cell_type": "markdown",
   "metadata": {
    "id": "xBp45D47Juev"
   },
   "source": [
    "## Data description"
   ]
  },
  {
   "cell_type": "markdown",
   "metadata": {
    "id": "Mi5xup2yJuev"
   },
   "source": [
    "The dataset contains a table with the following columns:\n",
    "\n",
    "* `DateCrawled` — the date the form was crawled from the database;;\n",
    "* `VehicleType` — vehicle body type;\n",
    "* `RegistrationYear` — vehicle registration year;\n",
    "* `Gearbox` — transmission type;\n",
    "* `Power` — engine power (h.p.);\n",
    "* `Model` — vehicle model;\n",
    "* `Kilometer` — vehicle mileage (km);\n",
    "* `RegistrationMonth` — vehicle registration month;\n",
    "* `FuelType` — vehicle fuel type;\n",
    "* `Brand` — vehicle brand;\n",
    "* `NotRepaired` — whether the vehicle was under repair or not;\n",
    "* `DateCreated` — the form creation date;\n",
    "* `NumberOfPictures` — the number of vehicle photos;\n",
    "* `PostalCode` — the postal code of the form owner (user);\n",
    "* `LastSeen` — date of the user's last activity;\n",
    "* `Price` — vehicle price (euro)."
   ]
  },
  {
   "cell_type": "markdown",
   "metadata": {
    "id": "0pnHc7UTJuew"
   },
   "source": [
    "## Data preparation"
   ]
  },
  {
   "cell_type": "code",
   "execution_count": 1,
   "metadata": {
    "colab": {
     "base_uri": "https://localhost:8080/"
    },
    "id": "5DVqFbaaJuew",
    "outputId": "5a06a8ed-1aca-4442-98ad-af7badfe24f7"
   },
   "outputs": [],
   "source": [
    "!pip install -q optuna\n",
    "!pip install -q phik\n",
    "!pip install -q lightgbm\n",
    "!pip install -q catboost\n",
    "!pip install -q category_encoders"
   ]
  },
  {
   "cell_type": "code",
   "execution_count": 2,
   "metadata": {
    "id": "8cUXB22AJuex"
   },
   "outputs": [],
   "source": [
    "import pandas as pd\n",
    "import matplotlib.pyplot as plt\n",
    "import numpy as np\n",
    "import seaborn as sns\n",
    "import lightgbm as lgb\n",
    "import optuna\n",
    "import phik\n",
    "import time\n",
    "import warnings\n",
    "\n",
    "from catboost import CatBoostRegressor\n",
    "from lightgbm import LGBMRegressor\n",
    "from sklearn.metrics import mean_squared_error\n",
    "from sklearn.model_selection import train_test_split, GridSearchCV\n",
    "from sklearn.compose import make_column_transformer, make_column_selector\n",
    "from sklearn.preprocessing import OrdinalEncoder, OneHotEncoder, LabelEncoder\n",
    "from sklearn.pipeline import Pipeline\n",
    "from sklearn.ensemble import RandomForestRegressor\n",
    "from optuna.samplers import TPESampler\n",
    "from category_encoders.target_encoder import TargetEncoder\n",
    "\n",
    "warnings.filterwarnings(\"ignore\")"
   ]
  },
  {
   "cell_type": "code",
   "execution_count": 3,
   "metadata": {
    "id": "4TBaF9PCJuex"
   },
   "outputs": [],
   "source": [
    "data = pd.read_csv('https://code.s3.yandex.net/datasets/autos.csv')"
   ]
  },
  {
   "cell_type": "code",
   "execution_count": 4,
   "metadata": {
    "colab": {
     "base_uri": "https://localhost:8080/"
    },
    "id": "dejcdSuEJuex",
    "outputId": "0d8b0664-ca2a-43a0-93e8-8735949c444b"
   },
   "outputs": [
    {
     "name": "stdout",
     "output_type": "stream",
     "text": [
      "<class 'pandas.core.frame.DataFrame'>\n",
      "RangeIndex: 354369 entries, 0 to 354368\n",
      "Data columns (total 16 columns):\n",
      " #   Column             Non-Null Count   Dtype \n",
      "---  ------             --------------   ----- \n",
      " 0   DateCrawled        354369 non-null  object\n",
      " 1   Price              354369 non-null  int64 \n",
      " 2   VehicleType        316879 non-null  object\n",
      " 3   RegistrationYear   354369 non-null  int64 \n",
      " 4   Gearbox            334536 non-null  object\n",
      " 5   Power              354369 non-null  int64 \n",
      " 6   Model              334664 non-null  object\n",
      " 7   Kilometer          354369 non-null  int64 \n",
      " 8   RegistrationMonth  354369 non-null  int64 \n",
      " 9   FuelType           321474 non-null  object\n",
      " 10  Brand              354369 non-null  object\n",
      " 11  Repaired           283215 non-null  object\n",
      " 12  DateCreated        354369 non-null  object\n",
      " 13  NumberOfPictures   354369 non-null  int64 \n",
      " 14  PostalCode         354369 non-null  int64 \n",
      " 15  LastSeen           354369 non-null  object\n",
      "dtypes: int64(7), object(9)\n",
      "memory usage: 43.3+ MB\n"
     ]
    }
   ],
   "source": [
    "data.info()"
   ]
  },
  {
   "cell_type": "markdown",
   "metadata": {
    "id": "VIdcl69JJuex"
   },
   "source": [
    "Let's convert the column names to lowercase for ease of use."
   ]
  },
  {
   "cell_type": "code",
   "execution_count": 5,
   "metadata": {
    "id": "n6XqAfFIJuey"
   },
   "outputs": [],
   "source": [
    "data.columns = ['date_crawled', 'price', 'vehicle_type', 'registration_year', 'gearbox', 'power', 'model', 'kilometer', \n",
    "              'registration_month', 'fuel_type', 'brand', 'not_repaired', 'date_created', 'number_of_pictures', 'postal_code',\n",
    "               'last_seen']"
   ]
  },
  {
   "cell_type": "markdown",
   "metadata": {
    "id": "7oK58Zo9Juey"
   },
   "source": [
    "Let's analyze the date when the form was downloaded from the database and estimate the last day of download. To do this, first convert all columns containing dates to the `datetime` format."
   ]
  },
  {
   "cell_type": "code",
   "execution_count": 6,
   "metadata": {
    "id": "U81_h5URJuey"
   },
   "outputs": [],
   "source": [
    "data = data.astype({'date_crawled' : 'datetime64[ns]',\n",
    "                   'date_created' : 'datetime64[ns]',\n",
    "                   'last_seen' : 'datetime64[ns]'})"
   ]
  },
  {
   "cell_type": "code",
   "execution_count": 7,
   "metadata": {
    "colab": {
     "base_uri": "https://localhost:8080/"
    },
    "id": "o3O_PFZzJuey",
    "outputId": "719a65e1-da86-4245-b45c-d633172ce6a7"
   },
   "outputs": [
    {
     "data": {
      "text/plain": [
       "Timestamp('2016-04-07 14:36:58')"
      ]
     },
     "execution_count": 7,
     "metadata": {},
     "output_type": "execute_result"
    }
   ],
   "source": [
    "data['date_crawled'].max()"
   ]
  },
  {
   "cell_type": "markdown",
   "metadata": {
    "id": "9ukF59IkJuey"
   },
   "source": [
    "The last day of the download is April 07, 2016. Therefore, cars registered after than this date should be excluded from the dataset."
   ]
  },
  {
   "cell_type": "markdown",
   "metadata": {
    "id": "R07WIdO4Juey"
   },
   "source": [
    "Next, when building the model, we will work with the feature \"age of the car\" in years at the time of creating the form (we will replace the column with the year of its registration). For this, we subtract the car registration year from the form creation year. The obtained negative values will further filter the dataset according to the date of unloading the forms."
   ]
  },
  {
   "cell_type": "code",
   "execution_count": 8,
   "metadata": {
    "id": "A5TdNN2kJuey"
   },
   "outputs": [],
   "source": [
    "data['car_age'] = data['date_created'].dt.year - data['registration_year']"
   ]
  },
  {
   "cell_type": "markdown",
   "metadata": {
    "id": "raNUJfVLJuey"
   },
   "source": [
    "Possibly, the price of a car can be influenced by the duration of its sale. Let's create a new feature and calculate the date difference between the creation of the form and the date of the user's last activity."
   ]
  },
  {
   "cell_type": "code",
   "execution_count": 9,
   "metadata": {
    "id": "Sed0jQzGJuez"
   },
   "outputs": [],
   "source": [
    "data['sell_length'] = (data['last_seen'] - data['date_created']).dt.days"
   ]
  },
  {
   "cell_type": "markdown",
   "metadata": {
    "id": "06KjYYRYJuez"
   },
   "source": [
    "Due to the logic of the car pricing process, there are columns in the data set that have no relation to the process:\n",
    "* `date_crawled` — the date the form was crawled from the database;\n",
    "* `registration_month` — month of vehicle registration;\n",
    "* `number_of_pictures` — number of vehicle photos;\n",
    "* `postal_code` — postal code of the form owner (user).\n",
    "\n",
    "and columns after feature engineering:\n",
    "* `date_created` — the form creation date (instead of this feature we now have the car sale duration);\n",
    "* `last_seen` — date of the user's last activity (instead of this feature we now have the car sale duration);\n",
    "* `registration_year` - vehicle registration year (instead of this feature we now have the car age).\n",
    "\n",
    "Using these columns for model building can lead to its overfitting, and some of the columns are not useful in the case of the information. In this regard, we will remove them from the dataset."
   ]
  },
  {
   "cell_type": "code",
   "execution_count": 10,
   "metadata": {
    "id": "Aduz8SzpJuez"
   },
   "outputs": [],
   "source": [
    "data.drop(['date_crawled', 'registration_month', 'date_created', 'number_of_pictures', 'postal_code', 'last_seen', \n",
    "           'registration_year'], \n",
    "          axis='columns', inplace=True)"
   ]
  },
  {
   "cell_type": "code",
   "execution_count": 11,
   "metadata": {
    "colab": {
     "base_uri": "https://localhost:8080/",
     "height": 206
    },
    "id": "qdu8ulO6Juez",
    "outputId": "136a4f70-c7b9-4b10-9559-23852ccf8e05"
   },
   "outputs": [
    {
     "data": {
      "text/html": [
       "<div>\n",
       "<style scoped>\n",
       "    .dataframe tbody tr th:only-of-type {\n",
       "        vertical-align: middle;\n",
       "    }\n",
       "\n",
       "    .dataframe tbody tr th {\n",
       "        vertical-align: top;\n",
       "    }\n",
       "\n",
       "    .dataframe thead th {\n",
       "        text-align: right;\n",
       "    }\n",
       "</style>\n",
       "<table border=\"1\" class=\"dataframe\">\n",
       "  <thead>\n",
       "    <tr style=\"text-align: right;\">\n",
       "      <th></th>\n",
       "      <th>price</th>\n",
       "      <th>vehicle_type</th>\n",
       "      <th>gearbox</th>\n",
       "      <th>power</th>\n",
       "      <th>model</th>\n",
       "      <th>kilometer</th>\n",
       "      <th>fuel_type</th>\n",
       "      <th>brand</th>\n",
       "      <th>not_repaired</th>\n",
       "      <th>car_age</th>\n",
       "      <th>sell_length</th>\n",
       "    </tr>\n",
       "  </thead>\n",
       "  <tbody>\n",
       "    <tr>\n",
       "      <th>0</th>\n",
       "      <td>480</td>\n",
       "      <td>NaN</td>\n",
       "      <td>manual</td>\n",
       "      <td>0</td>\n",
       "      <td>golf</td>\n",
       "      <td>150000</td>\n",
       "      <td>petrol</td>\n",
       "      <td>volkswagen</td>\n",
       "      <td>NaN</td>\n",
       "      <td>23</td>\n",
       "      <td>14</td>\n",
       "    </tr>\n",
       "    <tr>\n",
       "      <th>1</th>\n",
       "      <td>18300</td>\n",
       "      <td>coupe</td>\n",
       "      <td>manual</td>\n",
       "      <td>190</td>\n",
       "      <td>NaN</td>\n",
       "      <td>125000</td>\n",
       "      <td>gasoline</td>\n",
       "      <td>audi</td>\n",
       "      <td>yes</td>\n",
       "      <td>5</td>\n",
       "      <td>14</td>\n",
       "    </tr>\n",
       "    <tr>\n",
       "      <th>2</th>\n",
       "      <td>9800</td>\n",
       "      <td>suv</td>\n",
       "      <td>auto</td>\n",
       "      <td>163</td>\n",
       "      <td>grand</td>\n",
       "      <td>125000</td>\n",
       "      <td>gasoline</td>\n",
       "      <td>jeep</td>\n",
       "      <td>NaN</td>\n",
       "      <td>12</td>\n",
       "      <td>22</td>\n",
       "    </tr>\n",
       "    <tr>\n",
       "      <th>3</th>\n",
       "      <td>1500</td>\n",
       "      <td>small</td>\n",
       "      <td>manual</td>\n",
       "      <td>75</td>\n",
       "      <td>golf</td>\n",
       "      <td>150000</td>\n",
       "      <td>petrol</td>\n",
       "      <td>volkswagen</td>\n",
       "      <td>no</td>\n",
       "      <td>15</td>\n",
       "      <td>0</td>\n",
       "    </tr>\n",
       "    <tr>\n",
       "      <th>4</th>\n",
       "      <td>3600</td>\n",
       "      <td>small</td>\n",
       "      <td>manual</td>\n",
       "      <td>69</td>\n",
       "      <td>fabia</td>\n",
       "      <td>90000</td>\n",
       "      <td>gasoline</td>\n",
       "      <td>skoda</td>\n",
       "      <td>no</td>\n",
       "      <td>8</td>\n",
       "      <td>6</td>\n",
       "    </tr>\n",
       "  </tbody>\n",
       "</table>\n",
       "</div>"
      ],
      "text/plain": [
       "   price vehicle_type gearbox  power  model  kilometer fuel_type       brand  \\\n",
       "0    480          NaN  manual      0   golf     150000    petrol  volkswagen   \n",
       "1  18300        coupe  manual    190    NaN     125000  gasoline        audi   \n",
       "2   9800          suv    auto    163  grand     125000  gasoline        jeep   \n",
       "3   1500        small  manual     75   golf     150000    petrol  volkswagen   \n",
       "4   3600        small  manual     69  fabia      90000  gasoline       skoda   \n",
       "\n",
       "  not_repaired  car_age  sell_length  \n",
       "0          NaN       23           14  \n",
       "1          yes        5           14  \n",
       "2          NaN       12           22  \n",
       "3           no       15            0  \n",
       "4           no        8            6  "
      ]
     },
     "execution_count": 11,
     "metadata": {},
     "output_type": "execute_result"
    }
   ],
   "source": [
    "data.head()"
   ]
  },
  {
   "cell_type": "markdown",
   "metadata": {
    "id": "nLZFuJxtJuez"
   },
   "source": [
    "Let's calculate the proportion of missing values in our observations."
   ]
  },
  {
   "cell_type": "code",
   "execution_count": 12,
   "metadata": {
    "colab": {
     "base_uri": "https://localhost:8080/"
    },
    "id": "Sqh4y4lNJuez",
    "outputId": "3e8de6d9-3a7c-44ef-dabf-8ba83051dcc0"
   },
   "outputs": [
    {
     "data": {
      "text/plain": [
       "not_repaired    0.200791\n",
       "vehicle_type    0.105794\n",
       "fuel_type       0.092827\n",
       "gearbox         0.055967\n",
       "model           0.055606\n",
       "price           0.000000\n",
       "power           0.000000\n",
       "kilometer       0.000000\n",
       "brand           0.000000\n",
       "car_age         0.000000\n",
       "sell_length     0.000000\n",
       "dtype: float64"
      ]
     },
     "execution_count": 12,
     "metadata": {},
     "output_type": "execute_result"
    }
   ],
   "source": [
    "data.isna().mean().sort_values(ascending=False)"
   ]
  },
  {
   "cell_type": "markdown",
   "metadata": {
    "id": "Up6eGigBJuez"
   },
   "source": [
    "There are several columns which contains nans:\n",
    "* `not_repaired`\n",
    "* `vehicle_type`\n",
    "* `fuel_type`\n",
    "* `gearbox`\n",
    "* `model`"
   ]
  },
  {
   "cell_type": "code",
   "execution_count": 13,
   "metadata": {
    "colab": {
     "base_uri": "https://localhost:8080/",
     "height": 424
    },
    "id": "QYflovgrJuez",
    "outputId": "472b6296-b704-4aee-bfaf-8858c1c19893"
   },
   "outputs": [
    {
     "data": {
      "text/html": [
       "<div>\n",
       "<style scoped>\n",
       "    .dataframe tbody tr th:only-of-type {\n",
       "        vertical-align: middle;\n",
       "    }\n",
       "\n",
       "    .dataframe tbody tr th {\n",
       "        vertical-align: top;\n",
       "    }\n",
       "\n",
       "    .dataframe thead th {\n",
       "        text-align: right;\n",
       "    }\n",
       "</style>\n",
       "<table border=\"1\" class=\"dataframe\">\n",
       "  <thead>\n",
       "    <tr style=\"text-align: right;\">\n",
       "      <th></th>\n",
       "      <th>price</th>\n",
       "      <th>vehicle_type</th>\n",
       "      <th>gearbox</th>\n",
       "      <th>power</th>\n",
       "      <th>model</th>\n",
       "      <th>kilometer</th>\n",
       "      <th>fuel_type</th>\n",
       "      <th>brand</th>\n",
       "      <th>not_repaired</th>\n",
       "      <th>car_age</th>\n",
       "      <th>sell_length</th>\n",
       "    </tr>\n",
       "  </thead>\n",
       "  <tbody>\n",
       "    <tr>\n",
       "      <th>0</th>\n",
       "      <td>480</td>\n",
       "      <td>NaN</td>\n",
       "      <td>manual</td>\n",
       "      <td>0</td>\n",
       "      <td>golf</td>\n",
       "      <td>150000</td>\n",
       "      <td>petrol</td>\n",
       "      <td>volkswagen</td>\n",
       "      <td>NaN</td>\n",
       "      <td>23</td>\n",
       "      <td>14</td>\n",
       "    </tr>\n",
       "    <tr>\n",
       "      <th>1</th>\n",
       "      <td>18300</td>\n",
       "      <td>coupe</td>\n",
       "      <td>manual</td>\n",
       "      <td>190</td>\n",
       "      <td>NaN</td>\n",
       "      <td>125000</td>\n",
       "      <td>gasoline</td>\n",
       "      <td>audi</td>\n",
       "      <td>yes</td>\n",
       "      <td>5</td>\n",
       "      <td>14</td>\n",
       "    </tr>\n",
       "    <tr>\n",
       "      <th>2</th>\n",
       "      <td>9800</td>\n",
       "      <td>suv</td>\n",
       "      <td>auto</td>\n",
       "      <td>163</td>\n",
       "      <td>grand</td>\n",
       "      <td>125000</td>\n",
       "      <td>gasoline</td>\n",
       "      <td>jeep</td>\n",
       "      <td>NaN</td>\n",
       "      <td>12</td>\n",
       "      <td>22</td>\n",
       "    </tr>\n",
       "    <tr>\n",
       "      <th>8</th>\n",
       "      <td>14500</td>\n",
       "      <td>bus</td>\n",
       "      <td>manual</td>\n",
       "      <td>125</td>\n",
       "      <td>c_max</td>\n",
       "      <td>30000</td>\n",
       "      <td>petrol</td>\n",
       "      <td>ford</td>\n",
       "      <td>NaN</td>\n",
       "      <td>2</td>\n",
       "      <td>0</td>\n",
       "    </tr>\n",
       "    <tr>\n",
       "      <th>9</th>\n",
       "      <td>999</td>\n",
       "      <td>small</td>\n",
       "      <td>manual</td>\n",
       "      <td>101</td>\n",
       "      <td>golf</td>\n",
       "      <td>150000</td>\n",
       "      <td>NaN</td>\n",
       "      <td>volkswagen</td>\n",
       "      <td>NaN</td>\n",
       "      <td>18</td>\n",
       "      <td>14</td>\n",
       "    </tr>\n",
       "    <tr>\n",
       "      <th>...</th>\n",
       "      <td>...</td>\n",
       "      <td>...</td>\n",
       "      <td>...</td>\n",
       "      <td>...</td>\n",
       "      <td>...</td>\n",
       "      <td>...</td>\n",
       "      <td>...</td>\n",
       "      <td>...</td>\n",
       "      <td>...</td>\n",
       "      <td>...</td>\n",
       "      <td>...</td>\n",
       "    </tr>\n",
       "    <tr>\n",
       "      <th>354357</th>\n",
       "      <td>1690</td>\n",
       "      <td>wagon</td>\n",
       "      <td>manual</td>\n",
       "      <td>55</td>\n",
       "      <td>fabia</td>\n",
       "      <td>150000</td>\n",
       "      <td>petrol</td>\n",
       "      <td>skoda</td>\n",
       "      <td>NaN</td>\n",
       "      <td>12</td>\n",
       "      <td>26</td>\n",
       "    </tr>\n",
       "    <tr>\n",
       "      <th>354361</th>\n",
       "      <td>5250</td>\n",
       "      <td>NaN</td>\n",
       "      <td>auto</td>\n",
       "      <td>150</td>\n",
       "      <td>159</td>\n",
       "      <td>150000</td>\n",
       "      <td>NaN</td>\n",
       "      <td>alfa_romeo</td>\n",
       "      <td>no</td>\n",
       "      <td>0</td>\n",
       "      <td>4</td>\n",
       "    </tr>\n",
       "    <tr>\n",
       "      <th>354364</th>\n",
       "      <td>0</td>\n",
       "      <td>NaN</td>\n",
       "      <td>manual</td>\n",
       "      <td>0</td>\n",
       "      <td>colt</td>\n",
       "      <td>150000</td>\n",
       "      <td>petrol</td>\n",
       "      <td>mitsubishi</td>\n",
       "      <td>yes</td>\n",
       "      <td>11</td>\n",
       "      <td>0</td>\n",
       "    </tr>\n",
       "    <tr>\n",
       "      <th>354365</th>\n",
       "      <td>2200</td>\n",
       "      <td>NaN</td>\n",
       "      <td>NaN</td>\n",
       "      <td>0</td>\n",
       "      <td>NaN</td>\n",
       "      <td>20000</td>\n",
       "      <td>NaN</td>\n",
       "      <td>sonstige_autos</td>\n",
       "      <td>NaN</td>\n",
       "      <td>11</td>\n",
       "      <td>23</td>\n",
       "    </tr>\n",
       "    <tr>\n",
       "      <th>354368</th>\n",
       "      <td>3400</td>\n",
       "      <td>wagon</td>\n",
       "      <td>manual</td>\n",
       "      <td>100</td>\n",
       "      <td>golf</td>\n",
       "      <td>150000</td>\n",
       "      <td>gasoline</td>\n",
       "      <td>volkswagen</td>\n",
       "      <td>NaN</td>\n",
       "      <td>14</td>\n",
       "      <td>4</td>\n",
       "    </tr>\n",
       "  </tbody>\n",
       "</table>\n",
       "<p>108555 rows × 11 columns</p>\n",
       "</div>"
      ],
      "text/plain": [
       "        price vehicle_type gearbox  power  model  kilometer fuel_type  \\\n",
       "0         480          NaN  manual      0   golf     150000    petrol   \n",
       "1       18300        coupe  manual    190    NaN     125000  gasoline   \n",
       "2        9800          suv    auto    163  grand     125000  gasoline   \n",
       "8       14500          bus  manual    125  c_max      30000    petrol   \n",
       "9         999        small  manual    101   golf     150000       NaN   \n",
       "...       ...          ...     ...    ...    ...        ...       ...   \n",
       "354357   1690        wagon  manual     55  fabia     150000    petrol   \n",
       "354361   5250          NaN    auto    150    159     150000       NaN   \n",
       "354364      0          NaN  manual      0   colt     150000    petrol   \n",
       "354365   2200          NaN     NaN      0    NaN      20000       NaN   \n",
       "354368   3400        wagon  manual    100   golf     150000  gasoline   \n",
       "\n",
       "                 brand not_repaired  car_age  sell_length  \n",
       "0           volkswagen          NaN       23           14  \n",
       "1                 audi          yes        5           14  \n",
       "2                 jeep          NaN       12           22  \n",
       "8                 ford          NaN        2            0  \n",
       "9           volkswagen          NaN       18           14  \n",
       "...                ...          ...      ...          ...  \n",
       "354357           skoda          NaN       12           26  \n",
       "354361      alfa_romeo           no        0            4  \n",
       "354364      mitsubishi          yes       11            0  \n",
       "354365  sonstige_autos          NaN       11           23  \n",
       "354368      volkswagen          NaN       14            4  \n",
       "\n",
       "[108555 rows x 11 columns]"
      ]
     },
     "execution_count": 13,
     "metadata": {},
     "output_type": "execute_result"
    }
   ],
   "source": [
    "#rows with nans\n",
    "data[data.isna().any(axis=1)]"
   ]
  },
  {
   "cell_type": "code",
   "execution_count": 14,
   "metadata": {
    "colab": {
     "base_uri": "https://localhost:8080/",
     "height": 424
    },
    "id": "SYWo1jNrJue0",
    "outputId": "1e2b89f5-d286-4ad4-c273-be0a0010d1c0"
   },
   "outputs": [
    {
     "data": {
      "text/html": [
       "<div>\n",
       "<style scoped>\n",
       "    .dataframe tbody tr th:only-of-type {\n",
       "        vertical-align: middle;\n",
       "    }\n",
       "\n",
       "    .dataframe tbody tr th {\n",
       "        vertical-align: top;\n",
       "    }\n",
       "\n",
       "    .dataframe thead th {\n",
       "        text-align: right;\n",
       "    }\n",
       "</style>\n",
       "<table border=\"1\" class=\"dataframe\">\n",
       "  <thead>\n",
       "    <tr style=\"text-align: right;\">\n",
       "      <th></th>\n",
       "      <th>price</th>\n",
       "      <th>vehicle_type</th>\n",
       "      <th>gearbox</th>\n",
       "      <th>power</th>\n",
       "      <th>model</th>\n",
       "      <th>kilometer</th>\n",
       "      <th>fuel_type</th>\n",
       "      <th>brand</th>\n",
       "      <th>not_repaired</th>\n",
       "      <th>car_age</th>\n",
       "      <th>sell_length</th>\n",
       "    </tr>\n",
       "  </thead>\n",
       "  <tbody>\n",
       "    <tr>\n",
       "      <th>0</th>\n",
       "      <td>480</td>\n",
       "      <td>NaN</td>\n",
       "      <td>manual</td>\n",
       "      <td>0</td>\n",
       "      <td>golf</td>\n",
       "      <td>150000</td>\n",
       "      <td>petrol</td>\n",
       "      <td>volkswagen</td>\n",
       "      <td>NaN</td>\n",
       "      <td>23</td>\n",
       "      <td>14</td>\n",
       "    </tr>\n",
       "    <tr>\n",
       "      <th>3</th>\n",
       "      <td>1500</td>\n",
       "      <td>small</td>\n",
       "      <td>manual</td>\n",
       "      <td>75</td>\n",
       "      <td>golf</td>\n",
       "      <td>150000</td>\n",
       "      <td>petrol</td>\n",
       "      <td>volkswagen</td>\n",
       "      <td>no</td>\n",
       "      <td>15</td>\n",
       "      <td>0</td>\n",
       "    </tr>\n",
       "    <tr>\n",
       "      <th>9</th>\n",
       "      <td>999</td>\n",
       "      <td>small</td>\n",
       "      <td>manual</td>\n",
       "      <td>101</td>\n",
       "      <td>golf</td>\n",
       "      <td>150000</td>\n",
       "      <td>NaN</td>\n",
       "      <td>volkswagen</td>\n",
       "      <td>NaN</td>\n",
       "      <td>18</td>\n",
       "      <td>14</td>\n",
       "    </tr>\n",
       "    <tr>\n",
       "      <th>32</th>\n",
       "      <td>245</td>\n",
       "      <td>sedan</td>\n",
       "      <td>NaN</td>\n",
       "      <td>0</td>\n",
       "      <td>golf</td>\n",
       "      <td>150000</td>\n",
       "      <td>petrol</td>\n",
       "      <td>volkswagen</td>\n",
       "      <td>no</td>\n",
       "      <td>22</td>\n",
       "      <td>2</td>\n",
       "    </tr>\n",
       "    <tr>\n",
       "      <th>35</th>\n",
       "      <td>350</td>\n",
       "      <td>NaN</td>\n",
       "      <td>manual</td>\n",
       "      <td>75</td>\n",
       "      <td>golf</td>\n",
       "      <td>150000</td>\n",
       "      <td>petrol</td>\n",
       "      <td>volkswagen</td>\n",
       "      <td>no</td>\n",
       "      <td>0</td>\n",
       "      <td>0</td>\n",
       "    </tr>\n",
       "    <tr>\n",
       "      <th>...</th>\n",
       "      <td>...</td>\n",
       "      <td>...</td>\n",
       "      <td>...</td>\n",
       "      <td>...</td>\n",
       "      <td>...</td>\n",
       "      <td>...</td>\n",
       "      <td>...</td>\n",
       "      <td>...</td>\n",
       "      <td>...</td>\n",
       "      <td>...</td>\n",
       "      <td>...</td>\n",
       "    </tr>\n",
       "    <tr>\n",
       "      <th>354315</th>\n",
       "      <td>1300</td>\n",
       "      <td>convertible</td>\n",
       "      <td>manual</td>\n",
       "      <td>90</td>\n",
       "      <td>golf</td>\n",
       "      <td>150000</td>\n",
       "      <td>petrol</td>\n",
       "      <td>volkswagen</td>\n",
       "      <td>no</td>\n",
       "      <td>18</td>\n",
       "      <td>2</td>\n",
       "    </tr>\n",
       "    <tr>\n",
       "      <th>354320</th>\n",
       "      <td>1500</td>\n",
       "      <td>sedan</td>\n",
       "      <td>manual</td>\n",
       "      <td>75</td>\n",
       "      <td>golf</td>\n",
       "      <td>150000</td>\n",
       "      <td>petrol</td>\n",
       "      <td>volkswagen</td>\n",
       "      <td>NaN</td>\n",
       "      <td>17</td>\n",
       "      <td>19</td>\n",
       "    </tr>\n",
       "    <tr>\n",
       "      <th>354348</th>\n",
       "      <td>5900</td>\n",
       "      <td>sedan</td>\n",
       "      <td>manual</td>\n",
       "      <td>105</td>\n",
       "      <td>golf</td>\n",
       "      <td>150000</td>\n",
       "      <td>gasoline</td>\n",
       "      <td>volkswagen</td>\n",
       "      <td>no</td>\n",
       "      <td>10</td>\n",
       "      <td>18</td>\n",
       "    </tr>\n",
       "    <tr>\n",
       "      <th>354359</th>\n",
       "      <td>7900</td>\n",
       "      <td>sedan</td>\n",
       "      <td>manual</td>\n",
       "      <td>140</td>\n",
       "      <td>golf</td>\n",
       "      <td>150000</td>\n",
       "      <td>gasoline</td>\n",
       "      <td>volkswagen</td>\n",
       "      <td>no</td>\n",
       "      <td>6</td>\n",
       "      <td>5</td>\n",
       "    </tr>\n",
       "    <tr>\n",
       "      <th>354368</th>\n",
       "      <td>3400</td>\n",
       "      <td>wagon</td>\n",
       "      <td>manual</td>\n",
       "      <td>100</td>\n",
       "      <td>golf</td>\n",
       "      <td>150000</td>\n",
       "      <td>gasoline</td>\n",
       "      <td>volkswagen</td>\n",
       "      <td>NaN</td>\n",
       "      <td>14</td>\n",
       "      <td>4</td>\n",
       "    </tr>\n",
       "  </tbody>\n",
       "</table>\n",
       "<p>29232 rows × 11 columns</p>\n",
       "</div>"
      ],
      "text/plain": [
       "        price vehicle_type gearbox  power model  kilometer fuel_type  \\\n",
       "0         480          NaN  manual      0  golf     150000    petrol   \n",
       "3        1500        small  manual     75  golf     150000    petrol   \n",
       "9         999        small  manual    101  golf     150000       NaN   \n",
       "32        245        sedan     NaN      0  golf     150000    petrol   \n",
       "35        350          NaN  manual     75  golf     150000    petrol   \n",
       "...       ...          ...     ...    ...   ...        ...       ...   \n",
       "354315   1300  convertible  manual     90  golf     150000    petrol   \n",
       "354320   1500        sedan  manual     75  golf     150000    petrol   \n",
       "354348   5900        sedan  manual    105  golf     150000  gasoline   \n",
       "354359   7900        sedan  manual    140  golf     150000  gasoline   \n",
       "354368   3400        wagon  manual    100  golf     150000  gasoline   \n",
       "\n",
       "             brand not_repaired  car_age  sell_length  \n",
       "0       volkswagen          NaN       23           14  \n",
       "3       volkswagen           no       15            0  \n",
       "9       volkswagen          NaN       18           14  \n",
       "32      volkswagen           no       22            2  \n",
       "35      volkswagen           no        0            0  \n",
       "...            ...          ...      ...          ...  \n",
       "354315  volkswagen           no       18            2  \n",
       "354320  volkswagen          NaN       17           19  \n",
       "354348  volkswagen           no       10           18  \n",
       "354359  volkswagen           no        6            5  \n",
       "354368  volkswagen          NaN       14            4  \n",
       "\n",
       "[29232 rows x 11 columns]"
      ]
     },
     "execution_count": 14,
     "metadata": {},
     "output_type": "execute_result"
    }
   ],
   "source": [
    "#example of different features for the same vehicle model\n",
    "data[data['model'] == 'golf']"
   ]
  },
  {
   "cell_type": "markdown",
   "metadata": {
    "id": "NDFVG-6WJue0"
   },
   "source": [
    "The lack of information about whether the car has been repaired or not may be because the user who filled out the form did not provide this information or implied that the car had not been repaired.\n",
    "\n",
    "Other features describing the type of vehicle, fuel type, transmission and model of the car can play an important role in determining the value of the car. It is not possible to fill in this information implicitly because, for example, the same car model can belong to both sedan and golf car types and have a diesel or gasoline engine.\n",
    "\n",
    "In this context, let's use a category for missing values - \"unknown\" - and fill in the nans with it. For gradient boosting models, this should not cause any problems. We will also convert the categorical columns to the `category' format."
   ]
  },
  {
   "cell_type": "code",
   "execution_count": 15,
   "metadata": {
    "id": "06YKO_0aJue0"
   },
   "outputs": [],
   "source": [
    "#filling nans\n",
    "nas = ['not_repaired', 'vehicle_type', 'fuel_type', 'gearbox', 'model']\n",
    "\n",
    "for col in nas:\n",
    "    data[col] = data[col].fillna('unknown')"
   ]
  },
  {
   "cell_type": "code",
   "execution_count": 16,
   "metadata": {
    "id": "wx7EWmqgJue0"
   },
   "outputs": [],
   "source": [
    "#converting columns into int type\n",
    "categorical = list(data.select_dtypes(include=['object']).columns)\n",
    "\n",
    "for col in categorical:\n",
    "    data[col] = data[col].astype('category')"
   ]
  },
  {
   "cell_type": "code",
   "execution_count": 17,
   "metadata": {
    "colab": {
     "base_uri": "https://localhost:8080/"
    },
    "id": "86a1nr-sJue0",
    "outputId": "c862a367-873d-421e-bb5f-ccc076188fab"
   },
   "outputs": [
    {
     "data": {
      "text/plain": [
       "price              int64\n",
       "vehicle_type    category\n",
       "gearbox         category\n",
       "power              int64\n",
       "model           category\n",
       "kilometer          int64\n",
       "fuel_type       category\n",
       "brand           category\n",
       "not_repaired    category\n",
       "car_age            int64\n",
       "sell_length        int64\n",
       "dtype: object"
      ]
     },
     "execution_count": 17,
     "metadata": {},
     "output_type": "execute_result"
    }
   ],
   "source": [
    "#check\n",
    "data.dtypes"
   ]
  },
  {
   "cell_type": "markdown",
   "metadata": {
    "id": "UJhFjyjIJue0"
   },
   "source": [
    "Now it's time to check our dataset for explicit duplicates."
   ]
  },
  {
   "cell_type": "code",
   "execution_count": 18,
   "metadata": {
    "colab": {
     "base_uri": "https://localhost:8080/"
    },
    "id": "Sw1oA_qxJue0",
    "outputId": "ae6b8070-5d83-49f2-f764-88741b2e622c"
   },
   "outputs": [
    {
     "name": "stdout",
     "output_type": "stream",
     "text": [
      "Number of duplicates: 14862\n"
     ]
    }
   ],
   "source": [
    "print(f'Number of duplicates: {data.duplicated().sum()}')"
   ]
  },
  {
   "cell_type": "code",
   "execution_count": 19,
   "metadata": {
    "id": "qKx55UHlJue1"
   },
   "outputs": [],
   "source": [
    "data.drop_duplicates(inplace=True)"
   ]
  },
  {
   "cell_type": "markdown",
   "metadata": {
    "id": "6ajVysxwJue1"
   },
   "source": [
    "### Conclusions"
   ]
  },
  {
   "cell_type": "markdown",
   "metadata": {
    "id": "RPJMsrwGJue1"
   },
   "source": [
    "* **During the data preprocessing for the development of the car value prediction model, some of the columns were transformed and two new features were created - the age of the car (years) and the length of its sale (days). It should be noted that the remaining part of the features, in our opinion, does not carry any useful information and may potentially lead to overfitting of the model. These are the columns that primarily characterize the user's activity on the site (date of the form creation, number of vehicle photos, postal code of the form owner, date of the last user activity) and other information (date of the form download from the database, vehicle registration month). These columns have been removed;**\n",
    "* **Dataset is characterized by missing values in the columns containing information about car repair, vehicle type, fuel type, transmission type and car model. It is not possible to fill the nans by indirect characteristics, because for example the same car model can be characterized by different characteristics (sedans and golf cars, diesel and gasoline engines). In this case, the missing values were filled with an 'unknown' string;**\n",
    "* **Explicit duplicates have been removed from the dataset to improve model quality. Also, categorical columns and kilometers are converted to `category` format.**"
   ]
  },
  {
   "cell_type": "markdown",
   "metadata": {
    "id": "F0RusuuuJue1"
   },
   "source": [
    "## EDA"
   ]
  },
  {
   "cell_type": "markdown",
   "metadata": {
    "id": "XpisY2pGJue1"
   },
   "source": [
    "We will perform exploratory data analysis to improve the quality of the forecast."
   ]
  },
  {
   "cell_type": "code",
   "execution_count": 20,
   "metadata": {
    "colab": {
     "base_uri": "https://localhost:8080/",
     "height": 300
    },
    "id": "Frw7AbBdJue1",
    "outputId": "f84c9c41-05eb-4396-e3a2-2d51872569b6"
   },
   "outputs": [
    {
     "data": {
      "text/html": [
       "<div>\n",
       "<style scoped>\n",
       "    .dataframe tbody tr th:only-of-type {\n",
       "        vertical-align: middle;\n",
       "    }\n",
       "\n",
       "    .dataframe tbody tr th {\n",
       "        vertical-align: top;\n",
       "    }\n",
       "\n",
       "    .dataframe thead th {\n",
       "        text-align: right;\n",
       "    }\n",
       "</style>\n",
       "<table border=\"1\" class=\"dataframe\">\n",
       "  <thead>\n",
       "    <tr style=\"text-align: right;\">\n",
       "      <th></th>\n",
       "      <th>price</th>\n",
       "      <th>power</th>\n",
       "      <th>kilometer</th>\n",
       "      <th>car_age</th>\n",
       "      <th>sell_length</th>\n",
       "    </tr>\n",
       "  </thead>\n",
       "  <tbody>\n",
       "    <tr>\n",
       "      <th>count</th>\n",
       "      <td>339507.000000</td>\n",
       "      <td>339507.000000</td>\n",
       "      <td>339507.000000</td>\n",
       "      <td>339507.000000</td>\n",
       "      <td>339507.000000</td>\n",
       "    </tr>\n",
       "    <tr>\n",
       "      <th>mean</th>\n",
       "      <td>4414.859231</td>\n",
       "      <td>110.266472</td>\n",
       "      <td>128117.844404</td>\n",
       "      <td>11.753065</td>\n",
       "      <td>8.840793</td>\n",
       "    </tr>\n",
       "    <tr>\n",
       "      <th>std</th>\n",
       "      <td>4521.113253</td>\n",
       "      <td>192.607962</td>\n",
       "      <td>37974.941958</td>\n",
       "      <td>91.783703</td>\n",
       "      <td>8.662090</td>\n",
       "    </tr>\n",
       "    <tr>\n",
       "      <th>min</th>\n",
       "      <td>0.000000</td>\n",
       "      <td>0.000000</td>\n",
       "      <td>5000.000000</td>\n",
       "      <td>-7983.000000</td>\n",
       "      <td>0.000000</td>\n",
       "    </tr>\n",
       "    <tr>\n",
       "      <th>25%</th>\n",
       "      <td>1001.000000</td>\n",
       "      <td>69.000000</td>\n",
       "      <td>125000.000000</td>\n",
       "      <td>8.000000</td>\n",
       "      <td>2.000000</td>\n",
       "    </tr>\n",
       "    <tr>\n",
       "      <th>50%</th>\n",
       "      <td>2700.000000</td>\n",
       "      <td>105.000000</td>\n",
       "      <td>150000.000000</td>\n",
       "      <td>13.000000</td>\n",
       "      <td>6.000000</td>\n",
       "    </tr>\n",
       "    <tr>\n",
       "      <th>75%</th>\n",
       "      <td>6400.000000</td>\n",
       "      <td>141.000000</td>\n",
       "      <td>150000.000000</td>\n",
       "      <td>17.000000</td>\n",
       "      <td>14.000000</td>\n",
       "    </tr>\n",
       "    <tr>\n",
       "      <th>max</th>\n",
       "      <td>20000.000000</td>\n",
       "      <td>20000.000000</td>\n",
       "      <td>150000.000000</td>\n",
       "      <td>1016.000000</td>\n",
       "      <td>759.000000</td>\n",
       "    </tr>\n",
       "  </tbody>\n",
       "</table>\n",
       "</div>"
      ],
      "text/plain": [
       "               price          power      kilometer        car_age  \\\n",
       "count  339507.000000  339507.000000  339507.000000  339507.000000   \n",
       "mean     4414.859231     110.266472  128117.844404      11.753065   \n",
       "std      4521.113253     192.607962   37974.941958      91.783703   \n",
       "min         0.000000       0.000000    5000.000000   -7983.000000   \n",
       "25%      1001.000000      69.000000  125000.000000       8.000000   \n",
       "50%      2700.000000     105.000000  150000.000000      13.000000   \n",
       "75%      6400.000000     141.000000  150000.000000      17.000000   \n",
       "max     20000.000000   20000.000000  150000.000000    1016.000000   \n",
       "\n",
       "         sell_length  \n",
       "count  339507.000000  \n",
       "mean        8.840793  \n",
       "std         8.662090  \n",
       "min         0.000000  \n",
       "25%         2.000000  \n",
       "50%         6.000000  \n",
       "75%        14.000000  \n",
       "max       759.000000  "
      ]
     },
     "execution_count": 20,
     "metadata": {},
     "output_type": "execute_result"
    }
   ],
   "source": [
    "data.describe()"
   ]
  },
  {
   "cell_type": "code",
   "execution_count": 21,
   "metadata": {
    "colab": {
     "base_uri": "https://localhost:8080/",
     "height": 663
    },
    "id": "8Uh3UnY7Jue1",
    "outputId": "c7688800-caed-46c4-f655-b7b4f2092581"
   },
   "outputs": [
    {
     "data": {
      "image/png": "[encoded data removed]",
      "text/plain": [
       "<Figure size 1080x720 with 6 Axes>"
      ]
     },
     "metadata": {
      "needs_background": "light"
     },
     "output_type": "display_data"
    }
   ],
   "source": [
    "data.hist(bins=50, figsize=(15,10), linewidth=2)\n",
    "plt.suptitle('Histograms for numerical features');"
   ]
  },
  {
   "cell_type": "markdown",
   "metadata": {
    "id": "hUawp53YJue2"
   },
   "source": [
    "There are anomalous values in the column with the age of the car, its price and engine power.\n",
    "\n",
    "For example, the minimum and maximum values for car age are -7893 and 1016, respectively. We'll examine the histogram for this attribute in more detail, limiting the observations to within 100 years.\n",
    "\n",
    "Zero values for price and engine power may be due to a technical failure to download data from the database or a failure by the user to provide information about the vehicle being sold. The maximum engine power of 20,000 hp also appears to be an anomalous outlier.\n",
    "\n",
    "Based on the mileage distribution, this column is a category column. Let us bring it into the appropriate format."
   ]
  },
  {
   "cell_type": "code",
   "execution_count": 22,
   "metadata": {
    "id": "_x8ZmyjFJue2"
   },
   "outputs": [],
   "source": [
    "data['kilometer'] = data['kilometer'].astype('category')"
   ]
  },
  {
   "cell_type": "code",
   "execution_count": 23,
   "metadata": {
    "colab": {
     "base_uri": "https://localhost:8080/",
     "height": 1000
    },
    "id": "czQobSpQJue2",
    "outputId": "5e221309-659a-4be9-b00e-cc4d0042266c"
   },
   "outputs": [
    {
     "data": {
      "image/png": "[encoded data removed]",
      "text/plain": [
       "<Figure size 720x432 with 1 Axes>"
      ]
     },
     "metadata": {
      "needs_background": "light"
     },
     "output_type": "display_data"
    },
    {
     "data": {
      "image/png": "[encoded data removed]",
      "text/plain": [
       "<Figure size 720x432 with 1 Axes>"
      ]
     },
     "metadata": {
      "needs_background": "light"
     },
     "output_type": "display_data"
    },
    {
     "data": {
      "image/png": "[encoded data removed]",
      "text/plain": [
       "<Figure size 720x432 with 1 Axes>"
      ]
     },
     "metadata": {
      "needs_background": "light"
     },
     "output_type": "display_data"
    },
    {
     "data": {
      "image/png": "[encoded data removed]",
      "text/plain": [
       "<Figure size 720x432 with 1 Axes>"
      ]
     },
     "metadata": {
      "needs_background": "light"
     },
     "output_type": "display_data"
    }
   ],
   "source": [
    "for col in list(data.select_dtypes(include=['number']).columns):\n",
    "    data[data[col] >= 0][col].hist(bins=50, range=[0,data[col].quantile(0.99)], figsize=(10,6))\n",
    "    plt.title(f'Histogram {col}')\n",
    "    plt.show()"
   ]
  },
  {
   "cell_type": "markdown",
   "metadata": {
    "id": "pxs_cPu5Jue2"
   },
   "source": [
    "So, for the car age, we will remove negative values and values over 35 years from the dataset. \n",
    "\n",
    "For the price, we will remove the values equal to 0, while the maximum price can be almost any.\n",
    "\n",
    "For the engine power, we will remove the values equal to 0 hp and less than 300 hp.\n",
    "\n",
    "At the same time, the duration of the sale can be any value - the more rare and expensive cars are on sale, the longer they can be sold."
   ]
  },
  {
   "cell_type": "code",
   "execution_count": 24,
   "metadata": {
    "id": "5XEZnRzUJue2"
   },
   "outputs": [],
   "source": [
    "data_cleaned = data.query('(0 <= car_age <= 35) and price > 0 and (0 < power <= 300)')"
   ]
  },
  {
   "cell_type": "markdown",
   "metadata": {
    "id": "d2h1g_9UJue2"
   },
   "source": [
    "Let's analyze which features have the most impact on the final cost of a used car."
   ]
  },
  {
   "cell_type": "code",
   "execution_count": 25,
   "metadata": {
    "colab": {
     "base_uri": "https://localhost:8080/",
     "height": 450
    },
    "id": "LKz4mLXNJue2",
    "outputId": "7286336c-fa42-474d-b642-37a866728502"
   },
   "outputs": [
    {
     "name": "stdout",
     "output_type": "stream",
     "text": [
      "interval columns not set, guessing: ['price', 'power', 'car_age', 'sell_length']\n"
     ]
    },
    {
     "data": {
      "image/png": "[encoded data removed]",
      "text/plain": [
       "<Figure size 1080x504 with 2 Axes>"
      ]
     },
     "metadata": {
      "needs_background": "light"
     },
     "output_type": "display_data"
    }
   ],
   "source": [
    "plt.figure(figsize=(15,7))\n",
    "sns.heatmap(data_cleaned.phik_matrix(), annot=True, fmt='.2f', cmap='coolwarm');"
   ]
  },
  {
   "cell_type": "markdown",
   "metadata": {
    "id": "DtsY7ngJJue3"
   },
   "source": [
    "The age of the car has the greatest impact on the value, followed by the model and engine power of the car. The least influence has the duration of the sale. On this basis, we expect that the models will choose these features as the main characteristics."
   ]
  },
  {
   "cell_type": "markdown",
   "metadata": {
    "id": "A2guQxfAJue3"
   },
   "source": [
    "### Conclusions"
   ]
  },
  {
   "cell_type": "markdown",
   "metadata": {
    "id": "UggA9JRTJue3"
   },
   "source": [
    "* **Anomalous values were observed in the columns with engine power, car age, and price during the EDA.**\n",
    "* **Analysis of the correlation coefficients (𝜙k) between the features showed that the age of the car (coefficient 0.69), car model (coefficient 0.58), and engine power (0.53) have the greatest influence on the price. The least influence has the duration of sale of the car (coefficient 0.02).**."
   ]
  },
  {
   "cell_type": "markdown",
   "metadata": {
    "id": "y2Pk7ML6Jue3"
   },
   "source": [
    "## Creating models"
   ]
  },
  {
   "cell_type": "markdown",
   "metadata": {
    "id": "4M5xgqxAJue3"
   },
   "source": [
    "### Splitting dataset into train and test sets"
   ]
  },
  {
   "cell_type": "code",
   "execution_count": 26,
   "metadata": {
    "id": "2uSJWPgtJue3"
   },
   "outputs": [],
   "source": [
    "features = data_cleaned.drop(['price'], axis = 1)\n",
    "target = data_cleaned['price']"
   ]
  },
  {
   "cell_type": "code",
   "execution_count": 27,
   "metadata": {
    "id": "kadwUl0gJue3"
   },
   "outputs": [],
   "source": [
    "features_train, features_remaining, target_train, target_remaining = (train_test_split(features, \n",
    "                                                                                       target, \n",
    "                                                                                       train_size=0.6, \n",
    "                                                                                       random_state=42\n",
    "                                                                                       ))"
   ]
  },
  {
   "cell_type": "code",
   "execution_count": 28,
   "metadata": {
    "id": "U4xGb_835PCb"
   },
   "outputs": [],
   "source": [
    "features_valid, features_test, target_valid, target_test = (train_test_split(features_remaining, \n",
    "                                                                             target_remaining, \n",
    "                                                                             test_size=0.5, \n",
    "                                                                             random_state=42))"
   ]
  },
  {
   "cell_type": "markdown",
   "metadata": {
    "id": "jlFFJLZnJue3"
   },
   "source": [
    "### LGBM"
   ]
  },
  {
   "cell_type": "code",
   "execution_count": 29,
   "metadata": {
    "id": "cnIV47BdJue3"
   },
   "outputs": [],
   "source": [
    "#lists for rmse metrics and timings\n",
    "rmses = []\n",
    "training_time = []\n",
    "prediction_time = []\n",
    "model_name = []"
   ]
  },
  {
   "cell_type": "code",
   "execution_count": 30,
   "metadata": {
    "id": "DjX3HJjzMfa0"
   },
   "outputs": [],
   "source": [
    "#list with categorical features\n",
    "features_list = ['vehicle_type', 'gearbox', 'model', 'kilometer', 'fuel_type', 'brand', 'not_repaired']"
   ]
  },
  {
   "cell_type": "code",
   "execution_count": 31,
   "metadata": {
    "colab": {
     "base_uri": "https://localhost:8080/"
    },
    "id": "JAXpqVpn6fVP",
    "outputId": "cfdede8b-1fbd-41d4-f224-beb6f0eca30b"
   },
   "outputs": [
    {
     "name": "stderr",
     "output_type": "stream",
     "text": [
      "\u001b[32m[I 2023-02-09 18:53:19,432]\u001b[0m A new study created in memory with name: no-name-d7ee0a9b-b281-441f-a48a-73d278bc4104\u001b[0m\n",
      "\u001b[32m[I 2023-02-09 18:53:19,780]\u001b[0m Trial 0 finished with value: 1596.7416007405245 and parameters: {'max_depth': 4, 'num_leaves': 476, 'learning_rate': 0.07587945476302646}. Best is trial 0 with value: 1596.7416007405245.\u001b[0m\n",
      "\u001b[32m[I 2023-02-09 18:53:20,363]\u001b[0m Trial 1 finished with value: 1709.709997892661 and parameters: {'max_depth': 6, 'num_leaves': 79, 'learning_rate': 0.02403950683025824}. Best is trial 0 with value: 1596.7416007405245.\u001b[0m\n",
      "\u001b[32m[I 2023-02-09 18:53:20,586]\u001b[0m Trial 2 finished with value: 2437.989691464384 and parameters: {'max_depth': 1, 'num_leaves': 434, 'learning_rate': 0.0641003510568888}. Best is trial 0 with value: 1596.7416007405245.\u001b[0m\n",
      "\u001b[32m[I 2023-02-09 18:53:20,911]\u001b[0m Trial 3 finished with value: 1577.804116536901 and parameters: {'max_depth': 8, 'num_leaves': 11, 'learning_rate': 0.0972918866945795}. Best is trial 3 with value: 1577.804116536901.\u001b[0m\n",
      "\u001b[32m[I 2023-02-09 18:53:21,676]\u001b[0m Trial 4 finished with value: 1591.305359777916 and parameters: {'max_depth': 9, 'num_leaves': 107, 'learning_rate': 0.02636424704863906}. Best is trial 3 with value: 1577.804116536901.\u001b[0m\n",
      "\u001b[32m[I 2023-02-09 18:53:21,925]\u001b[0m Trial 5 finished with value: 1940.3190693121423 and parameters: {'max_depth': 2, 'num_leaves': 153, 'learning_rate': 0.05722807884690141}. Best is trial 3 with value: 1577.804116536901.\u001b[0m\n",
      "\u001b[32m[I 2023-02-09 18:53:22,334]\u001b[0m Trial 6 finished with value: 1552.1440726694343 and parameters: {'max_depth': 5, 'num_leaves': 146, 'learning_rate': 0.06506676052501416}. Best is trial 6 with value: 1552.1440726694343.\u001b[0m\n",
      "\u001b[32m[I 2023-02-09 18:53:22,593]\u001b[0m Trial 7 finished with value: 2046.2975125756252 and parameters: {'max_depth': 2, 'num_leaves': 147, 'learning_rate': 0.04297256589643226}. Best is trial 6 with value: 1552.1440726694343.\u001b[0m\n",
      "\u001b[32m[I 2023-02-09 18:53:23,062]\u001b[0m Trial 8 finished with value: 1716.1037567166622 and parameters: {'max_depth': 5, 'num_leaves': 393, 'learning_rate': 0.02797064039425238}. Best is trial 6 with value: 1552.1440726694343.\u001b[0m\n",
      "\u001b[32m[I 2023-02-09 18:53:23,621]\u001b[0m Trial 9 finished with value: 2078.3201167975176 and parameters: {'max_depth': 6, 'num_leaves': 297, 'learning_rate': 0.014180537144799797}. Best is trial 6 with value: 1552.1440726694343.\u001b[0m\n",
      "\u001b[32m[I 2023-02-09 18:53:24,724]\u001b[0m Trial 10 finished with value: 1447.6318850528594 and parameters: {'max_depth': 10, 'num_leaves': 237, 'learning_rate': 0.08292415776869932}. Best is trial 10 with value: 1447.6318850528594.\u001b[0m\n",
      "\u001b[32m[I 2023-02-09 18:53:25,868]\u001b[0m Trial 11 finished with value: 1445.3081382821247 and parameters: {'max_depth': 10, 'num_leaves': 260, 'learning_rate': 0.08548688679633229}. Best is trial 11 with value: 1445.3081382821247.\u001b[0m\n",
      "\u001b[32m[I 2023-02-09 18:53:27,298]\u001b[0m Trial 12 finished with value: 1443.0387386072682 and parameters: {'max_depth': 10, 'num_leaves': 253, 'learning_rate': 0.09095335654407449}. Best is trial 12 with value: 1443.0387386072682.\u001b[0m\n",
      "\u001b[32m[I 2023-02-09 18:53:28,197]\u001b[0m Trial 13 finished with value: 1460.5930405272036 and parameters: {'max_depth': 8, 'num_leaves': 293, 'learning_rate': 0.09626491981413707}. Best is trial 12 with value: 1443.0387386072682.\u001b[0m\n",
      "\u001b[32m[I 2023-02-09 18:53:29,405]\u001b[0m Trial 14 finished with value: 1446.7025633901226 and parameters: {'max_depth': 10, 'num_leaves': 252, 'learning_rate': 0.08217638254545288}. Best is trial 12 with value: 1443.0387386072682.\u001b[0m\n",
      "\u001b[32m[I 2023-02-09 18:53:30,284]\u001b[0m Trial 15 finished with value: 1460.827470570486 and parameters: {'max_depth': 8, 'num_leaves': 345, 'learning_rate': 0.08729716819322933}. Best is trial 12 with value: 1443.0387386072682.\u001b[0m\n",
      "\u001b[32m[I 2023-02-09 18:53:31,381]\u001b[0m Trial 16 finished with value: 1449.5223995339895 and parameters: {'max_depth': 10, 'num_leaves': 234, 'learning_rate': 0.07024542215029608}. Best is trial 12 with value: 1443.0387386072682.\u001b[0m\n",
      "\u001b[32m[I 2023-02-09 18:53:32,108]\u001b[0m Trial 17 finished with value: 1507.6578600313203 and parameters: {'max_depth': 7, 'num_leaves': 207, 'learning_rate': 0.04397448568469659}. Best is trial 12 with value: 1443.0387386072682.\u001b[0m\n",
      "\u001b[32m[I 2023-02-09 18:53:33,198]\u001b[0m Trial 18 finished with value: 1444.415510958364 and parameters: {'max_depth': 9, 'num_leaves': 340, 'learning_rate': 0.09923248364195475}. Best is trial 12 with value: 1443.0387386072682.\u001b[0m\n",
      "\u001b[32m[I 2023-02-09 18:53:34,334]\u001b[0m Trial 19 finished with value: 1446.8021522822808 and parameters: {'max_depth': 9, 'num_leaves': 326, 'learning_rate': 0.09927157643861312}. Best is trial 12 with value: 1443.0387386072682.\u001b[0m\n",
      "\u001b[32m[I 2023-02-09 18:53:34,981]\u001b[0m Trial 20 finished with value: 1476.4235631813533 and parameters: {'max_depth': 7, 'num_leaves': 387, 'learning_rate': 0.09012800548578925}. Best is trial 12 with value: 1443.0387386072682.\u001b[0m\n",
      "\u001b[32m[I 2023-02-09 18:53:36,080]\u001b[0m Trial 21 finished with value: 1447.228127557862 and parameters: {'max_depth': 9, 'num_leaves': 278, 'learning_rate': 0.07977509549550857}. Best is trial 12 with value: 1443.0387386072682.\u001b[0m\n",
      "\u001b[32m[I 2023-02-09 18:53:37,051]\u001b[0m Trial 22 finished with value: 1447.1252564125389 and parameters: {'max_depth': 10, 'num_leaves': 198, 'learning_rate': 0.09006939173038986}. Best is trial 12 with value: 1443.0387386072682.\u001b[0m\n",
      "\u001b[32m[I 2023-02-09 18:53:38,214]\u001b[0m Trial 23 finished with value: 1446.7981275744712 and parameters: {'max_depth': 9, 'num_leaves': 357, 'learning_rate': 0.07384968663226851}. Best is trial 12 with value: 1443.0387386072682.\u001b[0m\n",
      "\u001b[32m[I 2023-02-09 18:53:39,474]\u001b[0m Trial 24 finished with value: 1442.2484782586737 and parameters: {'max_depth': 10, 'num_leaves': 315, 'learning_rate': 0.09219354899994803}. Best is trial 24 with value: 1442.2484782586737.\u001b[0m\n",
      "\u001b[32m[I 2023-02-09 18:53:40,335]\u001b[0m Trial 25 finished with value: 1460.810206953574 and parameters: {'max_depth': 8, 'num_leaves': 419, 'learning_rate': 0.0938165272752914}. Best is trial 24 with value: 1442.2484782586737.\u001b[0m\n",
      "\u001b[32m[I 2023-02-09 18:53:40,945]\u001b[0m Trial 26 finished with value: 1476.8184088555747 and parameters: {'max_depth': 7, 'num_leaves': 317, 'learning_rate': 0.09897148029328005}. Best is trial 24 with value: 1442.2484782586737.\u001b[0m\n",
      "\u001b[32m[I 2023-02-09 18:53:42,208]\u001b[0m Trial 27 finished with value: 1447.2208575456627 and parameters: {'max_depth': 9, 'num_leaves': 490, 'learning_rate': 0.09051470064157884}. Best is trial 24 with value: 1442.2484782586737.\u001b[0m\n",
      "\u001b[32m[I 2023-02-09 18:53:43,999]\u001b[0m Trial 28 finished with value: 1448.6752040721703 and parameters: {'max_depth': 10, 'num_leaves': 373, 'learning_rate': 0.051370415356888126}. Best is trial 24 with value: 1442.2484782586737.\u001b[0m\n",
      "\u001b[32m[I 2023-02-09 18:53:44,434]\u001b[0m Trial 29 finished with value: 1593.4609072062108 and parameters: {'max_depth': 4, 'num_leaves': 421, 'learning_rate': 0.07630079182049249}. Best is trial 24 with value: 1442.2484782586737.\u001b[0m\n"
     ]
    },
    {
     "name": "stdout",
     "output_type": "stream",
     "text": [
      "CPU times: total: 6min 17s\n",
      "Wall time: 26.1 s\n"
     ]
    }
   ],
   "source": [
    "%%time\n",
    "#parameters grid function for hyperparamers tuning with optuna\n",
    "def objective_lgb(trial):\n",
    "    \n",
    "    param = { \n",
    "        'objective': 'regression',\n",
    "        'metric': 'rmse',\n",
    "        'random_state': 42,\n",
    "        'boosting_type': 'gbdt',\n",
    "        'n_jobs': -1,\n",
    "        'max_depth': trial.suggest_int('max_depth', 1, 10),\n",
    "        'num_leaves' : trial.suggest_int('num_leaves', 1, 500),\n",
    "        'learning_rate': trial.suggest_float('learning_rate', 0.01, 0.1)\n",
    "    }\n",
    "    model = LGBMRegressor(**param) \n",
    "\n",
    "    model.fit(features_train, target_train)\n",
    "\n",
    "    predictions = model.predict(features_valid)\n",
    "    \n",
    "    rmse = mean_squared_error(target_valid, predictions, squared=False)\n",
    "\n",
    "    return rmse\n",
    "\n",
    "sampler = TPESampler(seed=42) #sampler for repeatability\n",
    "optuna.logging.set_verbosity(optuna.logging.INFO)\n",
    "study_lgb = optuna.create_study(direction='minimize', sampler=sampler)\n",
    "study_lgb.optimize(objective_lgb, n_trials=30)\n",
    "\n",
    "#model with the best params\n",
    "optimised_lgb = LGBMRegressor(max_depth=study_lgb.best_params['max_depth'], num_leaves=study_lgb.best_params['num_leaves'],\n",
    "                                     learning_rate = study_lgb.best_params['learning_rate'], boosting_type='gbdt', random_state=42, n_jobs=-1, \n",
    "                                     objective='regression', metric='rmse')\n",
    "\n",
    "#training time start\n",
    "start_lgb_train = time.time()\n",
    "#fitting\n",
    "optimised_lgb.fit(features_train, target_train)\n",
    "#training time end\n",
    "end_lgb_train = time.time()\n",
    "#training time as the delta between end and start times\n",
    "training_lgb = end_lgb_train - start_lgb_train"
   ]
  },
  {
   "cell_type": "code",
   "execution_count": 32,
   "metadata": {
    "colab": {
     "base_uri": "https://localhost:8080/"
    },
    "id": "fBVy-2ivJue4",
    "outputId": "007b757c-d976-4b86-fc73-785002b0b7ea"
   },
   "outputs": [
    {
     "data": {
      "text/plain": [
       "{'max_depth': 10, 'num_leaves': 315, 'learning_rate': 0.09219354899994803}"
      ]
     },
     "execution_count": 32,
     "metadata": {},
     "output_type": "execute_result"
    }
   ],
   "source": [
    "#best params\n",
    "study_lgb.best_params"
   ]
  },
  {
   "cell_type": "code",
   "execution_count": 33,
   "metadata": {
    "colab": {
     "base_uri": "https://localhost:8080/"
    },
    "id": "O31hOnePJue4",
    "outputId": "80acf761-d7f8-49b8-8420-afd279d8ee6f"
   },
   "outputs": [
    {
     "data": {
      "text/plain": [
       "1442.2484782586737"
      ]
     },
     "execution_count": 33,
     "metadata": {},
     "output_type": "execute_result"
    }
   ],
   "source": [
    "study_lgb.best_value"
   ]
  },
  {
   "cell_type": "code",
   "execution_count": 34,
   "metadata": {
    "id": "Qv1UJcVpJue4",
    "outputId": "9846772d-c425-4d92-810f-7f58125c28ff"
   },
   "outputs": [
    {
     "data": {
      "text/plain": [
       "<AxesSubplot:title={'center':'Feature importance'}, xlabel='Feature importance', ylabel='Features'>"
      ]
     },
     "execution_count": 34,
     "metadata": {},
     "output_type": "execute_result"
    },
    {
     "data": {
      "image/png": "[encoded data removed]",
      "text/plain": [
       "<Figure size 1080x432 with 1 Axes>"
      ]
     },
     "metadata": {
      "needs_background": "light"
     },
     "output_type": "display_data"
    }
   ],
   "source": [
    "lgb.plot_importance(optimised_lgb, figsize=(15,6))"
   ]
  },
  {
   "cell_type": "markdown",
   "metadata": {},
   "source": [
    "The analysis of the influence of the features showed that the algorithm identified engine power as the most influential factor. The next most important factor is the age of the car."
   ]
  },
  {
   "cell_type": "code",
   "execution_count": 35,
   "metadata": {
    "id": "2zYn8wR9Jue4"
   },
   "outputs": [],
   "source": [
    "#prediction time on the validation set\n",
    "start_lgb_predict = time.time()\n",
    "predictions_lgb_valid = optimised_lgb.predict(features_valid)\n",
    "end_lgb_predict = time.time()\n",
    "prediction_lgb = end_lgb_predict - start_lgb_predict"
   ]
  },
  {
   "cell_type": "code",
   "execution_count": 36,
   "metadata": {
    "id": "y6uF3gllJue4"
   },
   "outputs": [],
   "source": [
    "#rmse metrics on the validation set\n",
    "lgb_rmse_valid = mean_squared_error(target_valid, predictions_lgb_valid, squared=False)"
   ]
  },
  {
   "cell_type": "code",
   "execution_count": 37,
   "metadata": {
    "id": "E2DYPDSfJue5"
   },
   "outputs": [],
   "source": [
    "#appending lists with rmse and timings\n",
    "rmses.append(lgb_rmse_valid)\n",
    "training_time.append(training_lgb)\n",
    "prediction_time.append(prediction_lgb)\n",
    "model_name.append(optimised_lgb.__class__.__name__)"
   ]
  },
  {
   "cell_type": "markdown",
   "metadata": {
    "id": "GiKxvYUzJue5"
   },
   "source": [
    "### CatBoost"
   ]
  },
  {
   "cell_type": "code",
   "execution_count": 38,
   "metadata": {
    "colab": {
     "base_uri": "https://localhost:8080/"
    },
    "id": "STC4_AGYJue5",
    "outputId": "a1732191-5ba6-4122-c6a7-e4c9e5749a58"
   },
   "outputs": [
    {
     "name": "stderr",
     "output_type": "stream",
     "text": [
      "\u001b[32m[I 2023-02-09 18:53:45,943]\u001b[0m A new study created in memory with name: no-name-e4ba2f48-df0f-45c8-b02f-689916ad0337\u001b[0m\n"
     ]
    },
    {
     "name": "stdout",
     "output_type": "stream",
     "text": [
      "0:\tlearn: 4408.3636324\ttotal: 226ms\tremaining: 1m 7s\n",
      "150:\tlearn: 1676.7324681\ttotal: 13.3s\tremaining: 13.1s\n"
     ]
    },
    {
     "name": "stderr",
     "output_type": "stream",
     "text": [
      "\u001b[32m[I 2023-02-09 18:54:12,540]\u001b[0m Trial 0 finished with value: 1592.1890684688228 and parameters: {'learning_rate': 0.04370861069626263, 'n_estimators': 300, 'max_depth': 6}. Best is trial 0 with value: 1592.1890684688228.\u001b[0m\n"
     ]
    },
    {
     "name": "stdout",
     "output_type": "stream",
     "text": [
      "299:\tlearn: 1586.0937682\ttotal: 26.1s\tremaining: 0us\n",
      "0:\tlearn: 4393.3889715\ttotal: 17.9ms\tremaining: 1.41s\n"
     ]
    },
    {
     "name": "stderr",
     "output_type": "stream",
     "text": [
      "\u001b[32m[I 2023-02-09 18:54:14,392]\u001b[0m Trial 1 finished with value: 2109.0904801313286 and parameters: {'learning_rate': 0.0638792635777333, 'n_estimators': 80, 'max_depth': 2}. Best is trial 0 with value: 1592.1890684688228.\u001b[0m\n"
     ]
    },
    {
     "name": "stdout",
     "output_type": "stream",
     "text": [
      "79:\tlearn: 2101.1061847\ttotal: 1.67s\tremaining: 0us\n",
      "0:\tlearn: 4499.0734725\ttotal: 77.9ms\tremaining: 21.7s\n",
      "150:\tlearn: 2045.2991192\ttotal: 10.8s\tremaining: 9.2s\n"
     ]
    },
    {
     "name": "stderr",
     "output_type": "stream",
     "text": [
      "\u001b[32m[I 2023-02-09 18:54:34,876]\u001b[0m Trial 2 finished with value: 1812.9435212251033 and parameters: {'learning_rate': 0.015227525095137952, 'n_estimators': 280, 'max_depth': 5}. Best is trial 0 with value: 1592.1890684688228.\u001b[0m\n"
     ]
    },
    {
     "name": "stdout",
     "output_type": "stream",
     "text": [
      "279:\tlearn: 1806.6688348\ttotal: 20.2s\tremaining: 0us\n",
      "0:\tlearn: 4308.3325291\ttotal: 52.7ms\tremaining: 2.05s\n"
     ]
    },
    {
     "name": "stderr",
     "output_type": "stream",
     "text": [
      "\u001b[32m[I 2023-02-09 18:54:38,165]\u001b[0m Trial 3 finished with value: 1808.455091571626 and parameters: {'learning_rate': 0.0737265320016441, 'n_estimators': 40, 'max_depth': 8}. Best is trial 0 with value: 1592.1890684688228.\u001b[0m\n"
     ]
    },
    {
     "name": "stdout",
     "output_type": "stream",
     "text": [
      "39:\tlearn: 1800.8292885\ttotal: 3.07s\tremaining: 0us\n",
      "0:\tlearn: 4344.9083157\ttotal: 22.3ms\tremaining: 1.76s\n"
     ]
    },
    {
     "name": "stderr",
     "output_type": "stream",
     "text": [
      "\u001b[32m[I 2023-02-09 18:54:40,506]\u001b[0m Trial 4 finished with value: 2020.1156969320937 and parameters: {'learning_rate': 0.08491983767203796, 'n_estimators': 80, 'max_depth': 2}. Best is trial 0 with value: 1592.1890684688228.\u001b[0m\n"
     ]
    },
    {
     "name": "stdout",
     "output_type": "stream",
     "text": [
      "79:\tlearn: 2011.0882500\ttotal: 2.15s\tremaining: 0us\n",
      "0:\tlearn: 4464.2125411\ttotal: 31.7ms\tremaining: 3.77s\n"
     ]
    },
    {
     "name": "stderr",
     "output_type": "stream",
     "text": [
      "\u001b[32m[I 2023-02-09 18:54:45,049]\u001b[0m Trial 5 finished with value: 1935.7569544926534 and parameters: {'learning_rate': 0.026506405886809047, 'n_estimators': 120, 'max_depth': 5}. Best is trial 0 with value: 1592.1890684688228.\u001b[0m\n"
     ]
    },
    {
     "name": "stdout",
     "output_type": "stream",
     "text": [
      "119:\tlearn: 1928.9028546\ttotal: 4.36s\tremaining: 0us\n",
      "0:\tlearn: 4397.5460393\ttotal: 45.8ms\tremaining: 5.45s\n"
     ]
    },
    {
     "name": "stderr",
     "output_type": "stream",
     "text": [
      "\u001b[32m[I 2023-02-09 18:54:49,664]\u001b[0m Trial 6 finished with value: 1782.1015860658881 and parameters: {'learning_rate': 0.048875051677790424, 'n_estimators': 120, 'max_depth': 5}. Best is trial 0 with value: 1592.1890684688228.\u001b[0m\n"
     ]
    },
    {
     "name": "stdout",
     "output_type": "stream",
     "text": [
      "119:\tlearn: 1775.8692236\ttotal: 4.42s\tremaining: 0us\n",
      "0:\tlearn: 4486.0995668\ttotal: 22.8ms\tremaining: 2.72s\n"
     ]
    },
    {
     "name": "stderr",
     "output_type": "stream",
     "text": [
      "\u001b[32m[I 2023-02-09 18:54:53,501]\u001b[0m Trial 7 finished with value: 2237.5452835807646 and parameters: {'learning_rate': 0.022554447458683766, 'n_estimators': 120, 'max_depth': 3}. Best is trial 0 with value: 1592.1890684688228.\u001b[0m\n"
     ]
    },
    {
     "name": "stdout",
     "output_type": "stream",
     "text": [
      "119:\tlearn: 2232.6358108\ttotal: 3.65s\tremaining: 0us\n",
      "0:\tlearn: 4423.2315958\ttotal: 22.8ms\tremaining: 5.45s\n",
      "150:\tlearn: 1962.0199926\ttotal: 4.41s\tremaining: 2.6s\n"
     ]
    },
    {
     "name": "stderr",
     "output_type": "stream",
     "text": [
      "\u001b[32m[I 2023-02-09 18:55:00,792]\u001b[0m Trial 8 finished with value: 1871.7749678217947 and parameters: {'learning_rate': 0.05104629857953324, 'n_estimators': 240, 'max_depth': 2}. Best is trial 0 with value: 1592.1890684688228.\u001b[0m\n"
     ]
    },
    {
     "name": "stdout",
     "output_type": "stream",
     "text": [
      "239:\tlearn: 1866.2549531\ttotal: 7.08s\tremaining: 0us\n",
      "0:\tlearn: 4444.6602454\ttotal: 12.6ms\tremaining: 2.5s\n",
      "150:\tlearn: 2346.5884051\ttotal: 2.26s\tremaining: 734ms\n"
     ]
    },
    {
     "name": "stderr",
     "output_type": "stream",
     "text": [
      "\u001b[32m[I 2023-02-09 18:55:03,990]\u001b[0m Trial 9 finished with value: 2252.805471115301 and parameters: {'learning_rate': 0.05628109945722505, 'n_estimators': 200, 'max_depth': 1}. Best is trial 0 with value: 1592.1890684688228.\u001b[0m\n"
     ]
    },
    {
     "name": "stdout",
     "output_type": "stream",
     "text": [
      "199:\tlearn: 2245.5404775\ttotal: 3.01s\tremaining: 0us\n",
      "0:\tlearn: 4420.5439512\ttotal: 105ms\tremaining: 31.5s\n",
      "150:\tlearn: 1628.6232621\ttotal: 16.8s\tremaining: 16.6s\n",
      "299:\tlearn: 1533.3957871\ttotal: 33.8s\tremaining: 0us\n"
     ]
    },
    {
     "name": "stderr",
     "output_type": "stream",
     "text": [
      "\u001b[32m[I 2023-02-09 18:55:38,230]\u001b[0m Trial 10 finished with value: 1554.3179146188227 and parameters: {'learning_rate': 0.038021080133309335, 'n_estimators': 300, 'max_depth': 8}. Best is trial 10 with value: 1554.3179146188227.\u001b[0m\n"
     ]
    },
    {
     "name": "stdout",
     "output_type": "stream",
     "text": [
      "0:\tlearn: 4429.5025984\ttotal: 108ms\tremaining: 32.2s\n",
      "150:\tlearn: 1639.3586910\ttotal: 16.6s\tremaining: 16.3s\n",
      "299:\tlearn: 1543.9867112\ttotal: 33.4s\tremaining: 0us\n"
     ]
    },
    {
     "name": "stderr",
     "output_type": "stream",
     "text": [
      "\u001b[32m[I 2023-02-09 18:56:12,059]\u001b[0m Trial 11 finished with value: 1560.7649128745313 and parameters: {'learning_rate': 0.03524537807936436, 'n_estimators': 300, 'max_depth': 8}. Best is trial 10 with value: 1554.3179146188227.\u001b[0m\n"
     ]
    },
    {
     "name": "stdout",
     "output_type": "stream",
     "text": [
      "0:\tlearn: 4436.7877392\ttotal: 104ms\tremaining: 24.8s\n",
      "150:\tlearn: 1649.7747348\ttotal: 16.5s\tremaining: 9.73s\n"
     ]
    },
    {
     "name": "stderr",
     "output_type": "stream",
     "text": [
      "\u001b[32m[I 2023-02-09 18:56:38,756]\u001b[0m Trial 12 finished with value: 1593.9812335358372 and parameters: {'learning_rate': 0.03298991128886791, 'n_estimators': 240, 'max_depth': 8}. Best is trial 10 with value: 1554.3179146188227.\u001b[0m\n"
     ]
    },
    {
     "name": "stdout",
     "output_type": "stream",
     "text": [
      "239:\tlearn: 1581.1305689\ttotal: 26.3s\tremaining: 0us\n",
      "0:\tlearn: 4419.2783344\ttotal: 122ms\tremaining: 31.7s\n",
      "150:\tlearn: 1657.6873988\ttotal: 14.4s\tremaining: 10.4s\n"
     ]
    },
    {
     "name": "stderr",
     "output_type": "stream",
     "text": [
      "\u001b[32m[I 2023-02-09 18:57:04,202]\u001b[0m Trial 13 finished with value: 1590.6367378692723 and parameters: {'learning_rate': 0.039368081838051565, 'n_estimators': 260, 'max_depth': 7}. Best is trial 10 with value: 1554.3179146188227.\u001b[0m\n"
     ]
    },
    {
     "name": "stdout",
     "output_type": "stream",
     "text": [
      "259:\tlearn: 1583.0393686\ttotal: 25.1s\tremaining: 0us\n",
      "0:\tlearn: 4499.8341132\ttotal: 97.6ms\tremaining: 19.4s\n",
      "150:\tlearn: 1978.9182504\ttotal: 14.5s\tremaining: 4.7s\n"
     ]
    },
    {
     "name": "stderr",
     "output_type": "stream",
     "text": [
      "\u001b[32m[I 2023-02-09 18:57:23,686]\u001b[0m Trial 14 finished with value: 1838.8483188185253 and parameters: {'learning_rate': 0.013865568633649811, 'n_estimators': 200, 'max_depth': 7}. Best is trial 10 with value: 1554.3179146188227.\u001b[0m\n"
     ]
    },
    {
     "name": "stdout",
     "output_type": "stream",
     "text": [
      "199:\tlearn: 1832.8714254\ttotal: 19.2s\tremaining: 0us\n",
      "0:\tlearn: 4440.6024002\ttotal: 98.7ms\tremaining: 29.5s\n",
      "150:\tlearn: 1688.9891414\ttotal: 14.9s\tremaining: 14.7s\n"
     ]
    },
    {
     "name": "stderr",
     "output_type": "stream",
     "text": [
      "\u001b[32m[I 2023-02-09 18:57:53,773]\u001b[0m Trial 15 finished with value: 1597.8055602634897 and parameters: {'learning_rate': 0.03259706216081448, 'n_estimators': 300, 'max_depth': 7}. Best is trial 10 with value: 1554.3179146188227.\u001b[0m\n"
     ]
    },
    {
     "name": "stdout",
     "output_type": "stream",
     "text": [
      "299:\tlearn: 1590.1730745\ttotal: 29.7s\tremaining: 0us\n",
      "0:\tlearn: 4339.5955993\ttotal: 102ms\tremaining: 20.4s\n",
      "150:\tlearn: 1557.4468005\ttotal: 16.9s\tremaining: 5.49s\n"
     ]
    },
    {
     "name": "stderr",
     "output_type": "stream",
     "text": [
      "\u001b[32m[I 2023-02-09 18:58:16,957]\u001b[0m Trial 16 finished with value: 1549.5090513468567 and parameters: {'learning_rate': 0.0632112627206213, 'n_estimators': 200, 'max_depth': 8}. Best is trial 16 with value: 1549.5090513468567.\u001b[0m\n"
     ]
    },
    {
     "name": "stdout",
     "output_type": "stream",
     "text": [
      "199:\tlearn: 1525.7477836\ttotal: 22.8s\tremaining: 0us\n",
      "0:\tlearn: 4249.0813279\ttotal: 39.5ms\tremaining: 7.06s\n",
      "150:\tlearn: 1602.0967130\ttotal: 7.96s\tremaining: 1.53s\n"
     ]
    },
    {
     "name": "stderr",
     "output_type": "stream",
     "text": [
      "\u001b[32m[I 2023-02-09 18:58:26,562]\u001b[0m Trial 17 finished with value: 1592.1538388963781 and parameters: {'learning_rate': 0.09632997096063176, 'n_estimators': 180, 'max_depth': 6}. Best is trial 16 with value: 1549.5090513468567.\u001b[0m\n"
     ]
    },
    {
     "name": "stdout",
     "output_type": "stream",
     "text": [
      "179:\tlearn: 1583.0935645\ttotal: 9.37s\tremaining: 0us\n",
      "0:\tlearn: 4359.0765035\ttotal: 59.8ms\tremaining: 13.1s\n",
      "150:\tlearn: 1721.2575039\ttotal: 9.24s\tremaining: 4.22s\n"
     ]
    },
    {
     "name": "stderr",
     "output_type": "stream",
     "text": [
      "\u001b[32m[I 2023-02-09 18:58:40,286]\u001b[0m Trial 18 finished with value: 1669.3279856800023 and parameters: {'learning_rate': 0.0663935106627333, 'n_estimators': 220, 'max_depth': 4}. Best is trial 16 with value: 1549.5090513468567.\u001b[0m\n"
     ]
    },
    {
     "name": "stdout",
     "output_type": "stream",
     "text": [
      "219:\tlearn: 1668.0150178\ttotal: 13.4s\tremaining: 0us\n",
      "0:\tlearn: 4302.9365572\ttotal: 49.9ms\tremaining: 7.94s\n",
      "150:\tlearn: 1624.0592588\ttotal: 7.49s\tremaining: 446ms\n"
     ]
    },
    {
     "name": "stderr",
     "output_type": "stream",
     "text": [
      "\u001b[32m[I 2023-02-09 18:58:48,447]\u001b[0m Trial 19 finished with value: 1621.0386659033459 and parameters: {'learning_rate': 0.07847982638888477, 'n_estimators': 160, 'max_depth': 6}. Best is trial 16 with value: 1549.5090513468567.\u001b[0m\n"
     ]
    },
    {
     "name": "stdout",
     "output_type": "stream",
     "text": [
      "159:\tlearn: 1615.3778898\ttotal: 7.93s\tremaining: 0us\n",
      "0:\tlearn: 4352.6277323\ttotal: 48.7ms\tremaining: 7.75s\n",
      "150:\tlearn: 1619.3254639\ttotal: 7.94s\tremaining: 473ms\n"
     ]
    },
    {
     "name": "stderr",
     "output_type": "stream",
     "text": [
      "\u001b[32m[I 2023-02-09 18:58:57,190]\u001b[0m Trial 20 finished with value: 1620.9306285018079 and parameters: {'learning_rate': 0.06079330114147573, 'n_estimators': 160, 'max_depth': 7}. Best is trial 16 with value: 1549.5090513468567.\u001b[0m\n"
     ]
    },
    {
     "name": "stdout",
     "output_type": "stream",
     "text": [
      "159:\tlearn: 1611.6338997\ttotal: 8.51s\tremaining: 0us\n",
      "0:\tlearn: 4410.6980556\ttotal: 130ms\tremaining: 36.3s\n",
      "150:\tlearn: 1616.8858654\ttotal: 17.5s\tremaining: 15s\n"
     ]
    },
    {
     "name": "stderr",
     "output_type": "stream",
     "text": [
      "\u001b[32m[I 2023-02-09 18:59:30,348]\u001b[0m Trial 21 finished with value: 1553.0676383643888 and parameters: {'learning_rate': 0.04107440774962654, 'n_estimators': 280, 'max_depth': 8}. Best is trial 16 with value: 1549.5090513468567.\u001b[0m\n"
     ]
    },
    {
     "name": "stdout",
     "output_type": "stream",
     "text": [
      "279:\tlearn: 1534.1168992\ttotal: 32.8s\tremaining: 0us\n",
      "0:\tlearn: 4362.9144738\ttotal: 117ms\tremaining: 30.3s\n",
      "150:\tlearn: 1569.5586371\ttotal: 17.5s\tremaining: 12.7s\n",
      "259:\tlearn: 1505.8200691\ttotal: 30.2s\tremaining: 0us\n"
     ]
    },
    {
     "name": "stderr",
     "output_type": "stream",
     "text": [
      "\u001b[32m[I 2023-02-09 19:00:00,995]\u001b[0m Trial 22 finished with value: 1532.3631717439378 and parameters: {'learning_rate': 0.05593402951304535, 'n_estimators': 260, 'max_depth': 8}. Best is trial 22 with value: 1532.3631717439378.\u001b[0m\n"
     ]
    },
    {
     "name": "stdout",
     "output_type": "stream",
     "text": [
      "0:\tlearn: 4318.5550529\ttotal: 117ms\tremaining: 30.4s\n",
      "150:\tlearn: 1553.5122514\ttotal: 17.3s\tremaining: 12.5s\n",
      "259:\tlearn: 1489.4485827\ttotal: 30.1s\tremaining: 0us\n"
     ]
    },
    {
     "name": "stderr",
     "output_type": "stream",
     "text": [
      "\u001b[32m[I 2023-02-09 19:00:31,576]\u001b[0m Trial 23 finished with value: 1519.8970794351544 and parameters: {'learning_rate': 0.06979233156108082, 'n_estimators': 260, 'max_depth': 8}. Best is trial 23 with value: 1519.8970794351544.\u001b[0m\n"
     ]
    },
    {
     "name": "stdout",
     "output_type": "stream",
     "text": [
      "0:\tlearn: 4316.1566553\ttotal: 102ms\tremaining: 24.4s\n",
      "150:\tlearn: 1576.3796468\ttotal: 15.2s\tremaining: 8.96s\n",
      "239:\tlearn: 1523.9622375\ttotal: 24.2s\tremaining: 0us\n"
     ]
    },
    {
     "name": "stderr",
     "output_type": "stream",
     "text": [
      "\u001b[32m[I 2023-02-09 19:00:56,218]\u001b[0m Trial 24 finished with value: 1542.6063749967218 and parameters: {'learning_rate': 0.07233043936974759, 'n_estimators': 240, 'max_depth': 7}. Best is trial 23 with value: 1519.8970794351544.\u001b[0m\n"
     ]
    },
    {
     "name": "stdout",
     "output_type": "stream",
     "text": [
      "0:\tlearn: 4319.2055475\ttotal: 97.4ms\tremaining: 25.2s\n",
      "150:\tlearn: 1579.0125239\ttotal: 15.6s\tremaining: 11.3s\n",
      "259:\tlearn: 1517.7827511\ttotal: 27.2s\tremaining: 0us\n"
     ]
    },
    {
     "name": "stderr",
     "output_type": "stream",
     "text": [
      "\u001b[32m[I 2023-02-09 19:01:23,803]\u001b[0m Trial 25 finished with value: 1536.0713105828788 and parameters: {'learning_rate': 0.07135046709780259, 'n_estimators': 260, 'max_depth': 7}. Best is trial 23 with value: 1519.8970794351544.\u001b[0m\n"
     ]
    },
    {
     "name": "stdout",
     "output_type": "stream",
     "text": [
      "0:\tlearn: 4253.7968826\ttotal: 87.2ms\tremaining: 22.6s\n",
      "150:\tlearn: 1588.5730264\ttotal: 12.8s\tremaining: 9.21s\n"
     ]
    },
    {
     "name": "stderr",
     "output_type": "stream",
     "text": [
      "\u001b[32m[I 2023-02-09 19:01:46,240]\u001b[0m Trial 26 finished with value: 1544.9591975257495 and parameters: {'learning_rate': 0.09438050434294207, 'n_estimators': 260, 'max_depth': 6}. Best is trial 23 with value: 1519.8970794351544.\u001b[0m\n"
     ]
    },
    {
     "name": "stdout",
     "output_type": "stream",
     "text": [
      "259:\tlearn: 1530.8955119\ttotal: 22.1s\tremaining: 0us\n",
      "0:\tlearn: 4269.0409427\ttotal: 93.7ms\tremaining: 24.3s\n",
      "150:\tlearn: 1556.3670104\ttotal: 14.9s\tremaining: 10.7s\n",
      "259:\tlearn: 1499.2161629\ttotal: 26s\tremaining: 0us\n"
     ]
    },
    {
     "name": "stderr",
     "output_type": "stream",
     "text": [
      "\u001b[32m[I 2023-02-09 19:02:12,672]\u001b[0m Trial 27 finished with value: 1524.7198784945163 and parameters: {'learning_rate': 0.08751831828823697, 'n_estimators': 260, 'max_depth': 7}. Best is trial 23 with value: 1519.8970794351544.\u001b[0m\n"
     ]
    },
    {
     "name": "stdout",
     "output_type": "stream",
     "text": [
      "0:\tlearn: 4303.0213171\ttotal: 49.7ms\tremaining: 10.9s\n",
      "150:\tlearn: 1681.3282539\ttotal: 8.25s\tremaining: 3.77s\n"
     ]
    },
    {
     "name": "stderr",
     "output_type": "stream",
     "text": [
      "\u001b[32m[I 2023-02-09 19:02:25,192]\u001b[0m Trial 28 finished with value: 1636.4539744651354 and parameters: {'learning_rate': 0.08690683127338522, 'n_estimators': 220, 'max_depth': 4}. Best is trial 23 with value: 1519.8970794351544.\u001b[0m\n"
     ]
    },
    {
     "name": "stdout",
     "output_type": "stream",
     "text": [
      "219:\tlearn: 1635.7035140\ttotal: 12.2s\tremaining: 0us\n",
      "0:\tlearn: 4291.4557066\ttotal: 81.2ms\tremaining: 17.8s\n",
      "150:\tlearn: 1602.0569396\ttotal: 12.9s\tremaining: 5.91s\n"
     ]
    },
    {
     "name": "stderr",
     "output_type": "stream",
     "text": [
      "\u001b[32m[I 2023-02-09 19:02:44,707]\u001b[0m Trial 29 finished with value: 1566.22348107123 and parameters: {'learning_rate': 0.08194634218409427, 'n_estimators': 220, 'max_depth': 6}. Best is trial 23 with value: 1519.8970794351544.\u001b[0m\n"
     ]
    },
    {
     "name": "stdout",
     "output_type": "stream",
     "text": [
      "219:\tlearn: 1558.3801588\ttotal: 19.2s\tremaining: 0us\n",
      "0:\tlearn: 4318.5550529\ttotal: 109ms\tremaining: 28.3s\n",
      "1:\tlearn: 4109.0095873\ttotal: 222ms\tremaining: 28.6s\n",
      "2:\tlearn: 3913.3607329\ttotal: 337ms\tremaining: 28.8s\n",
      "3:\tlearn: 3733.8702667\ttotal: 434ms\tremaining: 27.8s\n",
      "4:\tlearn: 3571.6490540\ttotal: 554ms\tremaining: 28.2s\n",
      "5:\tlearn: 3417.9529856\ttotal: 654ms\tremaining: 27.7s\n",
      "6:\tlearn: 3277.0537955\ttotal: 771ms\tremaining: 27.8s\n",
      "7:\tlearn: 3149.6584367\ttotal: 896ms\tremaining: 28.2s\n",
      "8:\tlearn: 3034.4276344\ttotal: 1.05s\tremaining: 29.2s\n",
      "9:\tlearn: 2928.1791159\ttotal: 1.14s\tremaining: 28.6s\n",
      "10:\tlearn: 2828.1223472\ttotal: 1.27s\tremaining: 28.9s\n",
      "11:\tlearn: 2734.7922058\ttotal: 1.44s\tremaining: 29.8s\n",
      "12:\tlearn: 2651.7640374\ttotal: 1.54s\tremaining: 29.3s\n",
      "13:\tlearn: 2572.5789038\ttotal: 1.64s\tremaining: 28.8s\n",
      "14:\tlearn: 2502.5074981\ttotal: 1.74s\tremaining: 28.4s\n",
      "15:\tlearn: 2440.0302056\ttotal: 1.88s\tremaining: 28.6s\n",
      "16:\tlearn: 2378.8618912\ttotal: 1.99s\tremaining: 28.5s\n",
      "17:\tlearn: 2326.7993516\ttotal: 2.1s\tremaining: 28.2s\n",
      "18:\tlearn: 2279.1617177\ttotal: 2.21s\tremaining: 28s\n",
      "19:\tlearn: 2232.2577726\ttotal: 2.32s\tremaining: 27.8s\n",
      "20:\tlearn: 2193.6361735\ttotal: 2.46s\tremaining: 28s\n",
      "21:\tlearn: 2158.2058726\ttotal: 2.57s\tremaining: 27.8s\n",
      "22:\tlearn: 2123.9278977\ttotal: 2.68s\tremaining: 27.7s\n",
      "23:\tlearn: 2088.3025776\ttotal: 2.79s\tremaining: 27.5s\n",
      "24:\tlearn: 2058.1333634\ttotal: 2.89s\tremaining: 27.2s\n",
      "25:\tlearn: 2028.2295362\ttotal: 3.01s\tremaining: 27.1s\n",
      "26:\tlearn: 1999.8653067\ttotal: 3.1s\tremaining: 26.7s\n",
      "27:\tlearn: 1972.5440837\ttotal: 3.25s\tremaining: 26.9s\n",
      "28:\tlearn: 1949.7669117\ttotal: 3.35s\tremaining: 26.7s\n",
      "29:\tlearn: 1928.8818025\ttotal: 3.46s\tremaining: 26.5s\n",
      "30:\tlearn: 1910.2566496\ttotal: 3.57s\tremaining: 26.4s\n",
      "31:\tlearn: 1892.2578699\ttotal: 3.69s\tremaining: 26.3s\n",
      "32:\tlearn: 1877.2967011\ttotal: 3.79s\tremaining: 26.1s\n",
      "33:\tlearn: 1862.7333882\ttotal: 3.91s\tremaining: 26s\n",
      "34:\tlearn: 1849.1356067\ttotal: 4.02s\tremaining: 25.8s\n",
      "35:\tlearn: 1832.3854589\ttotal: 4.11s\tremaining: 25.6s\n",
      "36:\tlearn: 1820.5771885\ttotal: 4.22s\tremaining: 25.5s\n",
      "37:\tlearn: 1809.6601846\ttotal: 4.36s\tremaining: 25.4s\n",
      "38:\tlearn: 1799.9010657\ttotal: 4.49s\tremaining: 25.5s\n",
      "39:\tlearn: 1790.7613774\ttotal: 4.61s\tremaining: 25.4s\n",
      "40:\tlearn: 1782.0923556\ttotal: 4.75s\tremaining: 25.3s\n",
      "41:\tlearn: 1774.2414184\ttotal: 4.86s\tremaining: 25.2s\n",
      "42:\tlearn: 1767.3362671\ttotal: 4.98s\tremaining: 25.1s\n",
      "43:\tlearn: 1760.2212144\ttotal: 5.12s\tremaining: 25.1s\n",
      "44:\tlearn: 1752.0240270\ttotal: 5.23s\tremaining: 25s\n",
      "45:\tlearn: 1746.1025787\ttotal: 5.33s\tremaining: 24.8s\n",
      "46:\tlearn: 1740.1133790\ttotal: 5.45s\tremaining: 24.7s\n",
      "47:\tlearn: 1733.8297210\ttotal: 5.55s\tremaining: 24.5s\n",
      "48:\tlearn: 1729.1393952\ttotal: 5.69s\tremaining: 24.5s\n",
      "49:\tlearn: 1724.3979959\ttotal: 5.79s\tremaining: 24.3s\n",
      "50:\tlearn: 1719.3840077\ttotal: 5.91s\tremaining: 24.2s\n",
      "51:\tlearn: 1712.7216362\ttotal: 6s\tremaining: 24s\n",
      "52:\tlearn: 1709.0891855\ttotal: 6.11s\tremaining: 23.9s\n",
      "53:\tlearn: 1705.1420243\ttotal: 6.24s\tremaining: 23.8s\n",
      "54:\tlearn: 1701.7052973\ttotal: 6.33s\tremaining: 23.6s\n",
      "55:\tlearn: 1698.4399386\ttotal: 6.46s\tremaining: 23.5s\n",
      "56:\tlearn: 1695.4792076\ttotal: 6.56s\tremaining: 23.4s\n",
      "57:\tlearn: 1692.6386430\ttotal: 6.7s\tremaining: 23.3s\n",
      "58:\tlearn: 1688.7792222\ttotal: 6.79s\tremaining: 23.1s\n",
      "59:\tlearn: 1686.0151430\ttotal: 6.88s\tremaining: 22.9s\n",
      "60:\tlearn: 1682.2060652\ttotal: 7s\tremaining: 22.8s\n",
      "61:\tlearn: 1679.4139596\ttotal: 7.11s\tremaining: 22.7s\n",
      "62:\tlearn: 1676.5404649\ttotal: 7.23s\tremaining: 22.6s\n",
      "63:\tlearn: 1674.0507969\ttotal: 7.34s\tremaining: 22.5s\n",
      "64:\tlearn: 1671.6282154\ttotal: 7.48s\tremaining: 22.4s\n",
      "65:\tlearn: 1669.0153201\ttotal: 7.6s\tremaining: 22.3s\n",
      "66:\tlearn: 1666.9688722\ttotal: 7.69s\tremaining: 22.2s\n",
      "67:\tlearn: 1664.5664639\ttotal: 7.8s\tremaining: 22s\n",
      "68:\tlearn: 1662.1830121\ttotal: 7.91s\tremaining: 21.9s\n",
      "69:\tlearn: 1660.5049236\ttotal: 8.02s\tremaining: 21.8s\n",
      "70:\tlearn: 1658.0386645\ttotal: 8.15s\tremaining: 21.7s\n",
      "71:\tlearn: 1656.1388294\ttotal: 8.26s\tremaining: 21.6s\n",
      "72:\tlearn: 1653.7130460\ttotal: 8.37s\tremaining: 21.4s\n",
      "73:\tlearn: 1651.6518326\ttotal: 8.5s\tremaining: 21.4s\n",
      "74:\tlearn: 1649.9272332\ttotal: 8.61s\tremaining: 21.2s\n",
      "75:\tlearn: 1648.6036052\ttotal: 8.72s\tremaining: 21.1s\n",
      "76:\tlearn: 1645.1747327\ttotal: 8.85s\tremaining: 21s\n",
      "77:\tlearn: 1642.5604440\ttotal: 8.96s\tremaining: 20.9s\n",
      "78:\tlearn: 1641.1380308\ttotal: 9.1s\tremaining: 20.8s\n",
      "79:\tlearn: 1639.1422086\ttotal: 9.21s\tremaining: 20.7s\n",
      "80:\tlearn: 1637.1377784\ttotal: 9.34s\tremaining: 20.6s\n",
      "81:\tlearn: 1633.4251292\ttotal: 9.46s\tremaining: 20.5s\n",
      "82:\tlearn: 1631.2168317\ttotal: 9.58s\tremaining: 20.4s\n",
      "83:\tlearn: 1629.3969996\ttotal: 9.69s\tremaining: 20.3s\n",
      "84:\tlearn: 1627.3865272\ttotal: 9.81s\tremaining: 20.2s\n",
      "85:\tlearn: 1625.4704565\ttotal: 9.9s\tremaining: 20s\n",
      "86:\tlearn: 1624.2145321\ttotal: 10s\tremaining: 19.9s\n",
      "87:\tlearn: 1623.0276817\ttotal: 10.1s\tremaining: 19.7s\n",
      "88:\tlearn: 1621.4600031\ttotal: 10.2s\tremaining: 19.6s\n",
      "89:\tlearn: 1619.9425997\ttotal: 10.3s\tremaining: 19.5s\n",
      "90:\tlearn: 1617.9829900\ttotal: 10.4s\tremaining: 19.4s\n",
      "91:\tlearn: 1616.8511109\ttotal: 10.5s\tremaining: 19.2s\n",
      "92:\tlearn: 1615.1213662\ttotal: 10.6s\tremaining: 19.1s\n",
      "93:\tlearn: 1613.7994663\ttotal: 10.8s\tremaining: 19s\n",
      "94:\tlearn: 1612.1468639\ttotal: 10.9s\tremaining: 19s\n",
      "95:\tlearn: 1610.8351349\ttotal: 11s\tremaining: 18.8s\n",
      "96:\tlearn: 1609.3995308\ttotal: 11.2s\tremaining: 18.7s\n",
      "97:\tlearn: 1608.4915046\ttotal: 11.3s\tremaining: 18.6s\n",
      "98:\tlearn: 1607.7797134\ttotal: 11.4s\tremaining: 18.6s\n",
      "99:\tlearn: 1606.7221032\ttotal: 11.5s\tremaining: 18.4s\n",
      "100:\tlearn: 1605.1078877\ttotal: 11.6s\tremaining: 18.3s\n",
      "101:\tlearn: 1603.0755904\ttotal: 11.8s\tremaining: 18.2s\n",
      "102:\tlearn: 1601.2097480\ttotal: 11.9s\tremaining: 18.1s\n",
      "103:\tlearn: 1600.3239678\ttotal: 12s\tremaining: 18s\n",
      "104:\tlearn: 1598.9947565\ttotal: 12.1s\tremaining: 17.9s\n",
      "105:\tlearn: 1597.4100355\ttotal: 12.2s\tremaining: 17.8s\n",
      "106:\tlearn: 1595.6942927\ttotal: 12.4s\tremaining: 17.7s\n",
      "107:\tlearn: 1593.8313528\ttotal: 12.5s\tremaining: 17.5s\n",
      "108:\tlearn: 1592.9025769\ttotal: 12.6s\tremaining: 17.4s\n",
      "109:\tlearn: 1591.2890377\ttotal: 12.7s\tremaining: 17.3s\n",
      "110:\tlearn: 1590.1264764\ttotal: 12.8s\tremaining: 17.2s\n",
      "111:\tlearn: 1589.2423464\ttotal: 12.9s\tremaining: 17.1s\n",
      "112:\tlearn: 1588.1594773\ttotal: 13s\tremaining: 16.9s\n",
      "113:\tlearn: 1587.5530544\ttotal: 13.1s\tremaining: 16.8s\n",
      "114:\tlearn: 1586.3633463\ttotal: 13.2s\tremaining: 16.7s\n",
      "115:\tlearn: 1585.0061281\ttotal: 13.3s\tremaining: 16.6s\n",
      "116:\tlearn: 1583.6992309\ttotal: 13.5s\tremaining: 16.5s\n",
      "117:\tlearn: 1582.4859235\ttotal: 13.6s\tremaining: 16.4s\n",
      "118:\tlearn: 1581.8240704\ttotal: 13.8s\tremaining: 16.3s\n",
      "119:\tlearn: 1580.5273847\ttotal: 13.9s\tremaining: 16.2s\n",
      "120:\tlearn: 1579.7703075\ttotal: 14s\tremaining: 16.1s\n",
      "121:\tlearn: 1578.4149453\ttotal: 14.1s\tremaining: 15.9s\n",
      "122:\tlearn: 1577.0609148\ttotal: 14.2s\tremaining: 15.8s\n",
      "123:\tlearn: 1576.3995597\ttotal: 14.4s\tremaining: 15.7s\n",
      "124:\tlearn: 1575.5700642\ttotal: 14.5s\tremaining: 15.6s\n",
      "125:\tlearn: 1574.2899614\ttotal: 14.6s\tremaining: 15.5s\n",
      "126:\tlearn: 1573.0867534\ttotal: 14.7s\tremaining: 15.4s\n",
      "127:\tlearn: 1572.2522560\ttotal: 14.8s\tremaining: 15.3s\n",
      "128:\tlearn: 1571.5319882\ttotal: 14.9s\tremaining: 15.2s\n",
      "129:\tlearn: 1570.9327014\ttotal: 15.1s\tremaining: 15.1s\n",
      "130:\tlearn: 1569.5268367\ttotal: 15.2s\tremaining: 15s\n",
      "131:\tlearn: 1568.8778973\ttotal: 15.3s\tremaining: 14.8s\n",
      "132:\tlearn: 1568.5988326\ttotal: 15.4s\tremaining: 14.7s\n",
      "133:\tlearn: 1567.3600373\ttotal: 15.5s\tremaining: 14.6s\n",
      "134:\tlearn: 1566.1846531\ttotal: 15.7s\tremaining: 14.5s\n",
      "135:\tlearn: 1565.4846853\ttotal: 15.8s\tremaining: 14.4s\n",
      "136:\tlearn: 1564.3362686\ttotal: 15.9s\tremaining: 14.3s\n",
      "137:\tlearn: 1563.4264904\ttotal: 16s\tremaining: 14.1s\n",
      "138:\tlearn: 1561.9843867\ttotal: 16.1s\tremaining: 14s\n",
      "139:\tlearn: 1561.2322796\ttotal: 16.3s\tremaining: 13.9s\n",
      "140:\tlearn: 1560.6807257\ttotal: 16.4s\tremaining: 13.8s\n",
      "141:\tlearn: 1560.3163262\ttotal: 16.5s\tremaining: 13.7s\n",
      "142:\tlearn: 1559.5609377\ttotal: 16.6s\tremaining: 13.5s\n",
      "143:\tlearn: 1558.6014655\ttotal: 16.7s\tremaining: 13.4s\n",
      "144:\tlearn: 1557.9935226\ttotal: 16.8s\tremaining: 13.3s\n",
      "145:\tlearn: 1556.7214861\ttotal: 16.9s\tremaining: 13.2s\n",
      "146:\tlearn: 1556.2979523\ttotal: 17s\tremaining: 13.1s\n",
      "147:\tlearn: 1555.7905853\ttotal: 17.1s\tremaining: 13s\n",
      "148:\tlearn: 1554.8043586\ttotal: 17.3s\tremaining: 12.9s\n",
      "149:\tlearn: 1554.1030368\ttotal: 17.4s\tremaining: 12.7s\n",
      "150:\tlearn: 1553.5122514\ttotal: 17.5s\tremaining: 12.6s\n",
      "151:\tlearn: 1552.9023211\ttotal: 17.6s\tremaining: 12.5s\n",
      "152:\tlearn: 1551.8137748\ttotal: 17.7s\tremaining: 12.4s\n"
     ]
    },
    {
     "name": "stdout",
     "output_type": "stream",
     "text": [
      "153:\tlearn: 1551.0569977\ttotal: 17.8s\tremaining: 12.3s\n",
      "154:\tlearn: 1550.6396925\ttotal: 18s\tremaining: 12.2s\n",
      "155:\tlearn: 1549.9707927\ttotal: 18.1s\tremaining: 12.1s\n",
      "156:\tlearn: 1548.9270972\ttotal: 18.2s\tremaining: 11.9s\n",
      "157:\tlearn: 1548.6118294\ttotal: 18.4s\tremaining: 11.9s\n",
      "158:\tlearn: 1548.1312616\ttotal: 18.5s\tremaining: 11.7s\n",
      "159:\tlearn: 1547.4672754\ttotal: 18.6s\tremaining: 11.6s\n",
      "160:\tlearn: 1546.4355085\ttotal: 18.7s\tremaining: 11.5s\n",
      "161:\tlearn: 1545.6989854\ttotal: 18.9s\tremaining: 11.4s\n",
      "162:\tlearn: 1544.4562713\ttotal: 19s\tremaining: 11.3s\n",
      "163:\tlearn: 1543.6122334\ttotal: 19.1s\tremaining: 11.2s\n",
      "164:\tlearn: 1542.9908747\ttotal: 19.2s\tremaining: 11.1s\n",
      "165:\tlearn: 1542.1496442\ttotal: 19.3s\tremaining: 10.9s\n",
      "166:\tlearn: 1541.8070128\ttotal: 19.5s\tremaining: 10.8s\n",
      "167:\tlearn: 1540.6592376\ttotal: 19.6s\tremaining: 10.7s\n",
      "168:\tlearn: 1539.7357902\ttotal: 19.7s\tremaining: 10.6s\n",
      "169:\tlearn: 1539.1595535\ttotal: 19.8s\tremaining: 10.5s\n",
      "170:\tlearn: 1538.5683916\ttotal: 20s\tremaining: 10.4s\n",
      "171:\tlearn: 1537.7993414\ttotal: 20.1s\tremaining: 10.3s\n",
      "172:\tlearn: 1536.4959290\ttotal: 20.2s\tremaining: 10.2s\n",
      "173:\tlearn: 1535.9782642\ttotal: 20.3s\tremaining: 10s\n",
      "174:\tlearn: 1535.3492478\ttotal: 20.4s\tremaining: 9.93s\n",
      "175:\tlearn: 1534.6693853\ttotal: 20.6s\tremaining: 9.81s\n",
      "176:\tlearn: 1534.2339659\ttotal: 20.7s\tremaining: 9.7s\n",
      "177:\tlearn: 1533.2127819\ttotal: 20.8s\tremaining: 9.58s\n",
      "178:\tlearn: 1532.6181752\ttotal: 20.9s\tremaining: 9.46s\n",
      "179:\tlearn: 1531.5350709\ttotal: 21s\tremaining: 9.34s\n",
      "180:\tlearn: 1531.1165034\ttotal: 21.1s\tremaining: 9.23s\n",
      "181:\tlearn: 1530.2760826\ttotal: 21.3s\tremaining: 9.11s\n",
      "182:\tlearn: 1529.6877901\ttotal: 21.4s\tremaining: 8.99s\n",
      "183:\tlearn: 1528.9504545\ttotal: 21.5s\tremaining: 8.87s\n",
      "184:\tlearn: 1528.5948186\ttotal: 21.6s\tremaining: 8.77s\n",
      "185:\tlearn: 1527.9118580\ttotal: 21.8s\tremaining: 8.66s\n",
      "186:\tlearn: 1527.2095013\ttotal: 21.9s\tremaining: 8.54s\n",
      "187:\tlearn: 1526.4729557\ttotal: 22s\tremaining: 8.42s\n",
      "188:\tlearn: 1526.0398438\ttotal: 22.1s\tremaining: 8.3s\n",
      "189:\tlearn: 1524.9571874\ttotal: 22.2s\tremaining: 8.19s\n",
      "190:\tlearn: 1523.8859318\ttotal: 22.4s\tremaining: 8.08s\n",
      "191:\tlearn: 1523.1869329\ttotal: 22.5s\tremaining: 7.96s\n",
      "192:\tlearn: 1522.0217115\ttotal: 22.6s\tremaining: 7.85s\n",
      "193:\tlearn: 1521.2788133\ttotal: 22.7s\tremaining: 7.73s\n",
      "194:\tlearn: 1520.6542688\ttotal: 22.8s\tremaining: 7.61s\n",
      "195:\tlearn: 1519.9327521\ttotal: 22.9s\tremaining: 7.49s\n",
      "196:\tlearn: 1519.5279925\ttotal: 23.1s\tremaining: 7.38s\n",
      "197:\tlearn: 1518.9634342\ttotal: 23.2s\tremaining: 7.26s\n",
      "198:\tlearn: 1518.6446332\ttotal: 23.3s\tremaining: 7.14s\n",
      "199:\tlearn: 1517.8547190\ttotal: 23.4s\tremaining: 7.02s\n",
      "200:\tlearn: 1517.0671910\ttotal: 23.5s\tremaining: 6.9s\n",
      "201:\tlearn: 1516.4028601\ttotal: 23.6s\tremaining: 6.79s\n",
      "202:\tlearn: 1515.8717384\ttotal: 23.8s\tremaining: 6.67s\n",
      "203:\tlearn: 1515.3902724\ttotal: 23.9s\tremaining: 6.57s\n",
      "204:\tlearn: 1514.6297509\ttotal: 24.1s\tremaining: 6.45s\n",
      "205:\tlearn: 1513.9580727\ttotal: 24.2s\tremaining: 6.33s\n",
      "206:\tlearn: 1513.3713713\ttotal: 24.3s\tremaining: 6.22s\n",
      "207:\tlearn: 1513.0946280\ttotal: 24.4s\tremaining: 6.1s\n",
      "208:\tlearn: 1512.7394105\ttotal: 24.5s\tremaining: 5.99s\n",
      "209:\tlearn: 1512.4011107\ttotal: 24.7s\tremaining: 5.87s\n",
      "210:\tlearn: 1511.9601351\ttotal: 24.8s\tremaining: 5.76s\n",
      "211:\tlearn: 1511.5460346\ttotal: 24.9s\tremaining: 5.64s\n",
      "212:\tlearn: 1511.3137046\ttotal: 25s\tremaining: 5.52s\n",
      "213:\tlearn: 1510.1374587\ttotal: 25.1s\tremaining: 5.4s\n",
      "214:\tlearn: 1509.5223385\ttotal: 25.3s\tremaining: 5.29s\n",
      "215:\tlearn: 1509.1320820\ttotal: 25.4s\tremaining: 5.17s\n",
      "216:\tlearn: 1508.5981370\ttotal: 25.5s\tremaining: 5.05s\n",
      "217:\tlearn: 1507.9647674\ttotal: 25.6s\tremaining: 4.93s\n",
      "218:\tlearn: 1507.7419915\ttotal: 25.7s\tremaining: 4.82s\n",
      "219:\tlearn: 1507.1009146\ttotal: 25.9s\tremaining: 4.7s\n",
      "220:\tlearn: 1506.8950887\ttotal: 26s\tremaining: 4.59s\n",
      "221:\tlearn: 1506.4348786\ttotal: 26.1s\tremaining: 4.47s\n",
      "222:\tlearn: 1505.9019553\ttotal: 26.2s\tremaining: 4.36s\n",
      "223:\tlearn: 1505.4600873\ttotal: 26.4s\tremaining: 4.24s\n",
      "224:\tlearn: 1504.9062129\ttotal: 26.5s\tremaining: 4.12s\n",
      "225:\tlearn: 1504.2824688\ttotal: 26.6s\tremaining: 4s\n",
      "226:\tlearn: 1503.7933919\ttotal: 26.7s\tremaining: 3.88s\n",
      "227:\tlearn: 1503.3261236\ttotal: 26.9s\tremaining: 3.77s\n",
      "228:\tlearn: 1503.1070397\ttotal: 27s\tremaining: 3.65s\n",
      "229:\tlearn: 1502.7261594\ttotal: 27.1s\tremaining: 3.54s\n",
      "230:\tlearn: 1502.1850237\ttotal: 27.2s\tremaining: 3.42s\n",
      "231:\tlearn: 1501.7447154\ttotal: 27.3s\tremaining: 3.3s\n",
      "232:\tlearn: 1500.9807535\ttotal: 27.4s\tremaining: 3.18s\n",
      "233:\tlearn: 1500.5889722\ttotal: 27.6s\tremaining: 3.06s\n",
      "234:\tlearn: 1500.1771526\ttotal: 27.7s\tremaining: 2.95s\n",
      "235:\tlearn: 1499.5672786\ttotal: 27.8s\tremaining: 2.83s\n",
      "236:\tlearn: 1499.2270726\ttotal: 27.9s\tremaining: 2.71s\n",
      "237:\tlearn: 1499.0415555\ttotal: 28s\tremaining: 2.59s\n",
      "238:\tlearn: 1498.7516907\ttotal: 28.1s\tremaining: 2.47s\n",
      "239:\tlearn: 1498.1598321\ttotal: 28.3s\tremaining: 2.35s\n",
      "240:\tlearn: 1497.5670576\ttotal: 28.4s\tremaining: 2.24s\n",
      "241:\tlearn: 1497.2051072\ttotal: 28.5s\tremaining: 2.12s\n",
      "242:\tlearn: 1496.7677323\ttotal: 28.7s\tremaining: 2s\n",
      "243:\tlearn: 1496.4417198\ttotal: 28.8s\tremaining: 1.89s\n",
      "244:\tlearn: 1496.2468191\ttotal: 28.9s\tremaining: 1.77s\n",
      "245:\tlearn: 1495.7693581\ttotal: 29s\tremaining: 1.65s\n",
      "246:\tlearn: 1495.4595727\ttotal: 29.2s\tremaining: 1.53s\n",
      "247:\tlearn: 1495.1059285\ttotal: 29.3s\tremaining: 1.42s\n",
      "248:\tlearn: 1494.4286138\ttotal: 29.4s\tremaining: 1.3s\n",
      "249:\tlearn: 1493.9335573\ttotal: 29.5s\tremaining: 1.18s\n",
      "250:\tlearn: 1493.3547450\ttotal: 29.6s\tremaining: 1.06s\n",
      "251:\tlearn: 1493.0106588\ttotal: 29.8s\tremaining: 945ms\n",
      "252:\tlearn: 1492.4391389\ttotal: 29.9s\tremaining: 827ms\n",
      "253:\tlearn: 1492.2243914\ttotal: 30s\tremaining: 709ms\n",
      "254:\tlearn: 1491.8616012\ttotal: 30.1s\tremaining: 591ms\n",
      "255:\tlearn: 1491.3771243\ttotal: 30.3s\tremaining: 473ms\n",
      "256:\tlearn: 1490.8501111\ttotal: 30.4s\tremaining: 355ms\n",
      "257:\tlearn: 1490.3120879\ttotal: 30.5s\tremaining: 236ms\n",
      "258:\tlearn: 1489.9551215\ttotal: 30.6s\tremaining: 118ms\n",
      "259:\tlearn: 1489.4485827\ttotal: 30.7s\tremaining: 0us\n",
      "CPU times: total: 9min 51s\n",
      "Wall time: 9min 29s\n"
     ]
    }
   ],
   "source": [
    "%%time\n",
    "#parameters grid function for hyperparamers tuning with optuna\n",
    "def objective_cb(trial):\n",
    "\n",
    "    param = {\n",
    "       'loss_function': 'RMSE',\n",
    "       'learning_rate': trial.suggest_float('learning_rate', 0.01,0.1),\n",
    "       'n_estimators': trial.suggest_int( \"n_estimators\",  40,300,20),\n",
    "       'max_depth': trial.suggest_int( 'max_depth',  1,8,1),\n",
    "       'random_seed': 42\n",
    "       }\n",
    "    \n",
    "    model = CatBoostRegressor(**param, cat_features=features_list, verbose=150)  \n",
    "    \n",
    "    model.fit(features_train, target_train)\n",
    "\n",
    "    predictions = model.predict(features_valid)\n",
    "    \n",
    "    rmse = mean_squared_error(target_valid, predictions, squared=False)\n",
    "\n",
    "    return rmse\n",
    "\n",
    "sampler = TPESampler(seed=42) #sampler for repeatability\n",
    "study_cb = optuna.create_study(direction='minimize', sampler=sampler)\n",
    "study_cb.optimize(objective_cb, n_trials=30)\n",
    "\n",
    "#model with the best params\n",
    "optimised_cb = CatBoostRegressor(max_depth=study_cb.best_params['max_depth'], learning_rate=study_cb.best_params['learning_rate'],\n",
    "                                     n_estimators = study_cb.best_params['n_estimators'], random_seed=42, \n",
    "                                     loss_function='RMSE', cat_features=features_list)\n",
    "\n",
    "#training time start\n",
    "start_cb_train = time.time()\n",
    "#fitting\n",
    "optimised_cb.fit(features_train, target_train)\n",
    "#training time end\n",
    "end_cb_train = time.time()\n",
    "#training time as the delta between end and start times\n",
    "training_cb = end_cb_train - start_cb_train"
   ]
  },
  {
   "cell_type": "code",
   "execution_count": 39,
   "metadata": {},
   "outputs": [
    {
     "data": {
      "text/plain": [
       "{'learning_rate': 0.06979233156108082, 'n_estimators': 260, 'max_depth': 8}"
      ]
     },
     "execution_count": 39,
     "metadata": {},
     "output_type": "execute_result"
    }
   ],
   "source": [
    "#best params\n",
    "study_cb.best_params"
   ]
  },
  {
   "cell_type": "code",
   "execution_count": 40,
   "metadata": {},
   "outputs": [
    {
     "data": {
      "text/plain": [
       "1519.8970794351544"
      ]
     },
     "execution_count": 40,
     "metadata": {},
     "output_type": "execute_result"
    }
   ],
   "source": [
    "study_cb.best_value"
   ]
  },
  {
   "cell_type": "code",
   "execution_count": 41,
   "metadata": {},
   "outputs": [],
   "source": [
    "#prediction time on the validation set\n",
    "start_cb_predict = time.time()\n",
    "predictions_cb_valid = optimised_cb.predict(features_valid)\n",
    "end_cb_predict = time.time()\n",
    "prediction_cb = end_cb_predict - start_cb_predict"
   ]
  },
  {
   "cell_type": "code",
   "execution_count": 42,
   "metadata": {},
   "outputs": [],
   "source": [
    "#rmse metric on the validation set\n",
    "cb_rmse_valid = mean_squared_error(target_valid, predictions_cb_valid, squared=False)"
   ]
  },
  {
   "cell_type": "code",
   "execution_count": 43,
   "metadata": {},
   "outputs": [],
   "source": [
    "#appending lists with rmse and timings\n",
    "rmses.append(cb_rmse_valid)\n",
    "training_time.append(training_cb)\n",
    "prediction_time.append(prediction_cb)\n",
    "model_name.append(optimised_cb.__class__.__name__)"
   ]
  },
  {
   "cell_type": "markdown",
   "metadata": {
    "id": "pwEuyWy5Jue6"
   },
   "source": [
    "### Random Forest"
   ]
  },
  {
   "cell_type": "code",
   "execution_count": 44,
   "metadata": {},
   "outputs": [],
   "source": [
    "#encoder\n",
    "te = TargetEncoder(cols=[\"not_repaired\", \"vehicle_type\", \"gearbox\", \"model\", \"fuel_type\", \"brand\", \"kilometer\"])\n",
    "\n",
    "features_train = te.fit_transform(features_train, target_train)\n",
    "features_valid = te.transform(features_valid)"
   ]
  },
  {
   "cell_type": "code",
   "execution_count": 45,
   "metadata": {},
   "outputs": [
    {
     "name": "stderr",
     "output_type": "stream",
     "text": [
      "\u001b[32m[I 2023-02-09 19:03:16,929]\u001b[0m A new study created in memory with name: no-name-04556ca5-38aa-441c-b07e-5129292432e2\u001b[0m\n",
      "\u001b[32m[I 2023-02-09 19:03:23,987]\u001b[0m Trial 0 finished with value: 1474.9684412193562 and parameters: {'n_estimators': 162, 'max_depth': 20, 'max_features': 7}. Best is trial 0 with value: 1474.9684412193562.\u001b[0m\n",
      "\u001b[32m[I 2023-02-09 19:03:26,722]\u001b[0m Trial 1 finished with value: 2024.5477092118606 and parameters: {'n_estimators': 230, 'max_depth': 6, 'max_features': 3}. Best is trial 0 with value: 1474.9684412193562.\u001b[0m\n",
      "\u001b[32m[I 2023-02-09 19:03:29,152]\u001b[0m Trial 2 finished with value: 1467.845957818475 and parameters: {'n_estimators': 67, 'max_depth': 18, 'max_features': 6}. Best is trial 2 with value: 1467.845957818475.\u001b[0m\n",
      "\u001b[32m[I 2023-02-09 19:03:34,458]\u001b[0m Trial 3 finished with value: 2354.7625048410423 and parameters: {'n_estimators': 263, 'max_depth': 4, 'max_features': 9}. Best is trial 2 with value: 1467.845957818475.\u001b[0m\n",
      "\u001b[32m[I 2023-02-09 19:03:38,721]\u001b[0m Trial 4 finished with value: 1913.4144133235984 and parameters: {'n_estimators': 300, 'max_depth': 7, 'max_features': 3}. Best is trial 2 with value: 1467.845957818475.\u001b[0m\n",
      "\u001b[32m[I 2023-02-09 19:03:41,365]\u001b[0m Trial 5 finished with value: 1712.33777892852 and parameters: {'n_estimators': 105, 'max_depth': 9, 'max_features': 6}. Best is trial 2 with value: 1467.845957818475.\u001b[0m\n",
      "\u001b[32m[I 2023-02-09 19:03:45,572]\u001b[0m Trial 6 finished with value: 1782.2251763865804 and parameters: {'n_estimators': 180, 'max_depth': 8, 'max_features': 6}. Best is trial 2 with value: 1467.845957818475.\u001b[0m\n",
      "\u001b[32m[I 2023-02-09 19:03:47,160]\u001b[0m Trial 7 finished with value: 1785.4860315773374 and parameters: {'n_estimators': 91, 'max_depth': 8, 'max_features': 4}. Best is trial 2 with value: 1467.845957818475.\u001b[0m\n",
      "\u001b[32m[I 2023-02-09 19:03:51,423]\u001b[0m Trial 8 finished with value: 1461.8254876642397 and parameters: {'n_estimators': 187, 'max_depth': 17, 'max_features': 3}. Best is trial 8 with value: 1461.8254876642397.\u001b[0m\n",
      "\u001b[32m[I 2023-02-09 19:03:54,721]\u001b[0m Trial 9 finished with value: 1563.9259875719918 and parameters: {'n_estimators': 204, 'max_depth': 14, 'max_features': 2}. Best is trial 8 with value: 1461.8254876642397.\u001b[0m\n",
      "\u001b[32m[I 2023-02-09 19:04:03,026]\u001b[0m Trial 10 finished with value: 1478.472971466951 and parameters: {'n_estimators': 334, 'max_depth': 15, 'max_features': 4}. Best is trial 8 with value: 1461.8254876642397.\u001b[0m\n",
      "\u001b[32m[I 2023-02-09 19:04:05,825]\u001b[0m Trial 11 finished with value: 1485.4585903158315 and parameters: {'n_estimators': 56, 'max_depth': 19, 'max_features': 8}. Best is trial 8 with value: 1461.8254876642397.\u001b[0m\n",
      "\u001b[32m[I 2023-02-09 19:04:10,060]\u001b[0m Trial 12 finished with value: 1462.3278570569598 and parameters: {'n_estimators': 132, 'max_depth': 17, 'max_features': 5}. Best is trial 8 with value: 1461.8254876642397.\u001b[0m\n",
      "\u001b[32m[I 2023-02-09 19:04:13,716]\u001b[0m Trial 13 finished with value: 1465.7088994875635 and parameters: {'n_estimators': 149, 'max_depth': 16, 'max_features': 4}. Best is trial 8 with value: 1461.8254876642397.\u001b[0m\n",
      "\u001b[32m[I 2023-02-09 19:04:16,843]\u001b[0m Trial 14 finished with value: 1560.0200658876709 and parameters: {'n_estimators': 132, 'max_depth': 12, 'max_features': 5}. Best is trial 8 with value: 1461.8254876642397.\u001b[0m\n",
      "\u001b[32m[I 2023-02-09 19:04:20,005]\u001b[0m Trial 15 finished with value: 1646.7343487691346 and parameters: {'n_estimators': 225, 'max_depth': 12, 'max_features': 2}. Best is trial 8 with value: 1461.8254876642397.\u001b[0m\n",
      "\u001b[32m[I 2023-02-09 19:04:23,719]\u001b[0m Trial 16 finished with value: 1462.6233751968214 and parameters: {'n_estimators': 125, 'max_depth': 17, 'max_features': 5}. Best is trial 8 with value: 1461.8254876642397.\u001b[0m\n",
      "\u001b[32m[I 2023-02-09 19:04:27,442]\u001b[0m Trial 17 finished with value: 1514.5956687236087 and parameters: {'n_estimators': 196, 'max_depth': 14, 'max_features': 3}. Best is trial 8 with value: 1461.8254876642397.\u001b[0m\n",
      "\u001b[32m[I 2023-02-09 19:04:35,536]\u001b[0m Trial 18 finished with value: 1459.9999523819931 and parameters: {'n_estimators': 261, 'max_depth': 20, 'max_features': 5}. Best is trial 18 with value: 1459.9999523819931.\u001b[0m\n",
      "\u001b[32m[I 2023-02-09 19:04:46,092]\u001b[0m Trial 19 finished with value: 1472.445077721303 and parameters: {'n_estimators': 268, 'max_depth': 20, 'max_features': 7}. Best is trial 18 with value: 1459.9999523819931.\u001b[0m\n",
      "\u001b[32m[I 2023-02-09 19:04:54,340]\u001b[0m Trial 20 finished with value: 1452.7752039280933 and parameters: {'n_estimators': 350, 'max_depth': 18, 'max_features': 4}. Best is trial 20 with value: 1452.7752039280933.\u001b[0m\n",
      "\u001b[32m[I 2023-02-09 19:05:03,390]\u001b[0m Trial 21 finished with value: 1452.7303627853278 and parameters: {'n_estimators': 337, 'max_depth': 18, 'max_features': 4}. Best is trial 21 with value: 1452.7303627853278.\u001b[0m\n",
      "\u001b[32m[I 2023-02-09 19:05:13,219]\u001b[0m Trial 22 finished with value: 1452.9581521671118 and parameters: {'n_estimators': 349, 'max_depth': 19, 'max_features': 4}. Best is trial 21 with value: 1452.7303627853278.\u001b[0m\n",
      "\u001b[32m[I 2023-02-09 19:05:21,754]\u001b[0m Trial 23 finished with value: 1452.7752039280933 and parameters: {'n_estimators': 350, 'max_depth': 18, 'max_features': 4}. Best is trial 21 with value: 1452.7303627853278.\u001b[0m\n",
      "\u001b[32m[I 2023-02-09 19:05:28,586]\u001b[0m Trial 24 finished with value: 1478.42459849013 and parameters: {'n_estimators': 312, 'max_depth': 15, 'max_features': 4}. Best is trial 21 with value: 1452.7303627853278.\u001b[0m\n",
      "\u001b[32m[I 2023-02-09 19:05:34,350]\u001b[0m Trial 25 finished with value: 1480.943559116877 and parameters: {'n_estimators': 312, 'max_depth': 18, 'max_features': 2}. Best is trial 21 with value: 1452.7303627853278.\u001b[0m\n",
      "\u001b[32m[I 2023-02-09 19:05:39,722]\u001b[0m Trial 26 finished with value: 1626.5548126490626 and parameters: {'n_estimators': 344, 'max_depth': 11, 'max_features': 3}. Best is trial 21 with value: 1452.7303627853278.\u001b[0m\n",
      "\u001b[32m[I 2023-02-09 19:05:46,274]\u001b[0m Trial 27 finished with value: 1499.2417749060594 and parameters: {'n_estimators': 297, 'max_depth': 14, 'max_features': 4}. Best is trial 21 with value: 1452.7303627853278.\u001b[0m\n",
      "\u001b[32m[I 2023-02-09 19:05:54,845]\u001b[0m Trial 28 finished with value: 1466.827962269481 and parameters: {'n_estimators': 327, 'max_depth': 16, 'max_features': 5}. Best is trial 21 with value: 1452.7303627853278.\u001b[0m\n",
      "\u001b[32m[I 2023-02-09 19:06:05,487]\u001b[0m Trial 29 finished with value: 1467.414794873374 and parameters: {'n_estimators': 284, 'max_depth': 18, 'max_features': 7}. Best is trial 21 with value: 1452.7303627853278.\u001b[0m\n"
     ]
    },
    {
     "name": "stdout",
     "output_type": "stream",
     "text": [
      "CPU times: total: 37min 47s\n",
      "Wall time: 3min 41s\n"
     ]
    }
   ],
   "source": [
    "%%time\n",
    "#parameters grid function for hyperparamers tuning with optuna\n",
    "def objective_rf(trial):\n",
    "    params = {\n",
    "        'n_estimators': trial.suggest_int('n_estimators', 50, 350),\n",
    "        'max_depth': trial.suggest_int('max_depth', 4, 20),\n",
    "        'max_features': trial.suggest_int('max_features', 2, 9)\n",
    "        }\n",
    "\n",
    "        \n",
    "    model = RandomForestRegressor(random_state=42, **params, n_jobs=-1)\n",
    "        \n",
    "    model.fit(features_train, target_train)\n",
    "\n",
    "    predictions = model.predict(features_valid)\n",
    "    \n",
    "    rmse = mean_squared_error(target_valid, predictions, squared=False)\n",
    "\n",
    "    return rmse\n",
    "\n",
    "sampler = TPESampler(seed=42) #sampler for repeatability\n",
    "study_rf = optuna.create_study(direction='minimize', sampler=sampler)\n",
    "study_rf.optimize(objective_rf, n_trials=30)\n",
    "\n",
    "#model with the best params\n",
    "optimised_rf = RandomForestRegressor(max_depth=study_rf.best_params['max_depth'], n_estimators=study_rf.best_params['n_estimators'],\n",
    "                                     max_features = study_rf.best_params['max_features'], random_state=42)\n",
    "\n",
    "#training time start\n",
    "start_rf_train = time.time()\n",
    "#fitting\n",
    "optimised_rf.fit(features_train, target_train)\n",
    "#training time end\n",
    "end_rf_train = time.time()\n",
    "#training time as the delta between end and start times\n",
    "training_rf = end_rf_train - start_rf_train"
   ]
  },
  {
   "cell_type": "code",
   "execution_count": 46,
   "metadata": {},
   "outputs": [
    {
     "data": {
      "text/plain": [
       "{'n_estimators': 337, 'max_depth': 18, 'max_features': 4}"
      ]
     },
     "execution_count": 46,
     "metadata": {},
     "output_type": "execute_result"
    }
   ],
   "source": [
    "study_rf.best_params"
   ]
  },
  {
   "cell_type": "code",
   "execution_count": 47,
   "metadata": {},
   "outputs": [
    {
     "data": {
      "text/plain": [
       "1452.7303627853278"
      ]
     },
     "execution_count": 47,
     "metadata": {},
     "output_type": "execute_result"
    }
   ],
   "source": [
    "study_rf.best_value"
   ]
  },
  {
   "cell_type": "code",
   "execution_count": 48,
   "metadata": {},
   "outputs": [],
   "source": [
    "#prediction time on the validation set\n",
    "start_rf_predict = time.time()\n",
    "predictions_rf_valid = optimised_rf.predict(features_valid)\n",
    "end_rf_predict = time.time()\n",
    "prediction_rf = end_rf_predict - start_rf_predict"
   ]
  },
  {
   "cell_type": "code",
   "execution_count": 49,
   "metadata": {},
   "outputs": [],
   "source": [
    "#rmse metric on the validation set\n",
    "rf_rmse_valid = mean_squared_error(target_valid, predictions_rf_valid, squared=False)"
   ]
  },
  {
   "cell_type": "code",
   "execution_count": 50,
   "metadata": {},
   "outputs": [],
   "source": [
    "#appending lists with rmse and timings\n",
    "rmses.append(rf_rmse_valid)\n",
    "training_time.append(training_rf)\n",
    "prediction_time.append(prediction_rf)\n",
    "model_name.append(optimised_rf.__class__.__name__)"
   ]
  },
  {
   "cell_type": "markdown",
   "metadata": {
    "id": "nupyL-iRJue6"
   },
   "source": [
    "## Analyzing models"
   ]
  },
  {
   "cell_type": "code",
   "execution_count": 51,
   "metadata": {
    "id": "T999T4J9Jue6"
   },
   "outputs": [
    {
     "data": {
      "text/html": [
       "<div>\n",
       "<style scoped>\n",
       "    .dataframe tbody tr th:only-of-type {\n",
       "        vertical-align: middle;\n",
       "    }\n",
       "\n",
       "    .dataframe tbody tr th {\n",
       "        vertical-align: top;\n",
       "    }\n",
       "\n",
       "    .dataframe thead th {\n",
       "        text-align: right;\n",
       "    }\n",
       "</style>\n",
       "<table border=\"1\" class=\"dataframe\">\n",
       "  <thead>\n",
       "    <tr style=\"text-align: right;\">\n",
       "      <th></th>\n",
       "      <th>model</th>\n",
       "      <th>training_time, sec</th>\n",
       "      <th>prediction_time, sec</th>\n",
       "      <th>rmse</th>\n",
       "    </tr>\n",
       "  </thead>\n",
       "  <tbody>\n",
       "    <tr>\n",
       "      <th>0</th>\n",
       "      <td>LGBMRegressor</td>\n",
       "      <td>1.108666</td>\n",
       "      <td>0.092904</td>\n",
       "      <td>1442.248478</td>\n",
       "    </tr>\n",
       "    <tr>\n",
       "      <th>1</th>\n",
       "      <td>RandomForestRegressor</td>\n",
       "      <td>52.715091</td>\n",
       "      <td>3.437104</td>\n",
       "      <td>1452.730363</td>\n",
       "    </tr>\n",
       "    <tr>\n",
       "      <th>2</th>\n",
       "      <td>CatBoostRegressor</td>\n",
       "      <td>31.129697</td>\n",
       "      <td>0.045164</td>\n",
       "      <td>1519.897079</td>\n",
       "    </tr>\n",
       "  </tbody>\n",
       "</table>\n",
       "</div>"
      ],
      "text/plain": [
       "                   model  training_time, sec  prediction_time, sec  \\\n",
       "0          LGBMRegressor            1.108666              0.092904   \n",
       "1  RandomForestRegressor           52.715091              3.437104   \n",
       "2      CatBoostRegressor           31.129697              0.045164   \n",
       "\n",
       "          rmse  \n",
       "0  1442.248478  \n",
       "1  1452.730363  \n",
       "2  1519.897079  "
      ]
     },
     "execution_count": 51,
     "metadata": {},
     "output_type": "execute_result"
    }
   ],
   "source": [
    "summary = pd.DataFrame(\n",
    "    { 'model' : model_name , 'training_time, sec' : training_time ,\n",
    "      'prediction_time, sec' : prediction_time , 'rmse' : rmses }\n",
    "    ).sort_values( by = 'rmse' ).reset_index( drop = True )\n",
    "summary"
   ]
  },
  {
   "cell_type": "markdown",
   "metadata": {},
   "source": [
    "The LGBM model is the best model in terms of error, training time, and prediction on the validation set. It has the shortest training and prediction time (insignificant difference with CatBoost of only ~0.04 sec) and a smaller error value. Next, we'll check the quality of the best model on the test set."
   ]
  },
  {
   "cell_type": "markdown",
   "metadata": {},
   "source": [
    "### Checking the best model on the test set"
   ]
  },
  {
   "cell_type": "code",
   "execution_count": 52,
   "metadata": {},
   "outputs": [],
   "source": [
    "#lists for rmse and timings on the test set\n",
    "rmse_test = []\n",
    "training_time_test = []\n",
    "prediction_time_test = []\n",
    "model_name_test = []"
   ]
  },
  {
   "cell_type": "code",
   "execution_count": 53,
   "metadata": {},
   "outputs": [],
   "source": [
    "#prediction time on the test set\n",
    "predict_test = time.time()\n",
    "predictions_lgb_test = optimised_lgb.predict(features_test)\n",
    "end_predict_test = time.time()\n",
    "prediction_test = end_predict_test - predict_test"
   ]
  },
  {
   "cell_type": "code",
   "execution_count": 54,
   "metadata": {},
   "outputs": [],
   "source": [
    "#rmse metric on the test set\n",
    "lgb_rmse_test = mean_squared_error(target_test, predictions_lgb_test, squared=False)"
   ]
  },
  {
   "cell_type": "code",
   "execution_count": 55,
   "metadata": {},
   "outputs": [],
   "source": [
    "#appending lists with rmse and timings\n",
    "rmse_test.append(lgb_rmse_test)\n",
    "training_time_test.append(training_lgb)\n",
    "prediction_time_test.append(prediction_test)\n",
    "model_name_test.append(optimised_lgb.__class__.__name__)"
   ]
  },
  {
   "cell_type": "code",
   "execution_count": 56,
   "metadata": {},
   "outputs": [
    {
     "data": {
      "text/html": [
       "<div>\n",
       "<style scoped>\n",
       "    .dataframe tbody tr th:only-of-type {\n",
       "        vertical-align: middle;\n",
       "    }\n",
       "\n",
       "    .dataframe tbody tr th {\n",
       "        vertical-align: top;\n",
       "    }\n",
       "\n",
       "    .dataframe thead th {\n",
       "        text-align: right;\n",
       "    }\n",
       "</style>\n",
       "<table border=\"1\" class=\"dataframe\">\n",
       "  <thead>\n",
       "    <tr style=\"text-align: right;\">\n",
       "      <th></th>\n",
       "      <th>model</th>\n",
       "      <th>training_time, sec</th>\n",
       "      <th>prediction_time, sec</th>\n",
       "      <th>rmse</th>\n",
       "    </tr>\n",
       "  </thead>\n",
       "  <tbody>\n",
       "    <tr>\n",
       "      <th>0</th>\n",
       "      <td>LGBMRegressor</td>\n",
       "      <td>1.108666</td>\n",
       "      <td>0.113169</td>\n",
       "      <td>1418.645253</td>\n",
       "    </tr>\n",
       "  </tbody>\n",
       "</table>\n",
       "</div>"
      ],
      "text/plain": [
       "           model  training_time, sec  prediction_time, sec         rmse\n",
       "0  LGBMRegressor            1.108666              0.113169  1418.645253"
      ]
     },
     "execution_count": 56,
     "metadata": {},
     "output_type": "execute_result"
    }
   ],
   "source": [
    "summary_test = pd.DataFrame(\n",
    "    { 'model' : model_name_test , 'training_time, sec' : training_time_test ,\n",
    "      'prediction_time, sec' : prediction_time_test , 'rmse' : rmse_test }\n",
    "    ).reset_index( drop = True )\n",
    "summary_test"
   ]
  },
  {
   "cell_type": "markdown",
   "metadata": {
    "id": "-3cojDORJue6"
   },
   "source": [
    "## Summary"
   ]
  },
  {
   "cell_type": "markdown",
   "metadata": {},
   "source": [
    "* **During the data preprocessing for the development of the car value prediction model, some of the columns were transformed and two new features were created - the age of the car (years) and the length of its sale (days). It should be noted that the remaining part of the features, in our opinion, does not carry any useful information and may potentially lead to overfitting of the model. These are the columns that primarily characterize the user's activity on the site (date of the form creation, number of vehicle photos, postal code of the form owner, date of the last user activity) and other information (date of the form download from the database, vehicle registration month). These columns have been removed**;\n",
    "* **Dataset is characterized by missing values in the columns containing information about car repair, vehicle type, fuel type, transmission type and car model. It was not possible to fill the nans implicitly, because for example the same car model can be characterized by different characteristics (sedans and golf cars, diesel and gasoline engines). For this reason, the missing values were filled with value 'unknown'. There were also anomalous values in the dataset. So for power, zero values and values greater than 300 hp were removed. For the value of the car, zeros were removed. For the age column, values greater than 35 and less than 0 were filtered out;**\n",
    "* **The best model in terms of error, training time, and prediction on the training set is the LGBM model. The training time was ~1.10 sec, the prediction time was ~0.09 sec, and the RMSE metric was ~1442. On the test sample, the prediction time was ~0.11 sec and the quality metric was ~1419.**"
   ]
  }
 ],
 "metadata": {
  "ExecuteTimeLog": [
   {
    "duration": 1587,
    "start_time": "2022-10-19T14:04:06.899Z"
   },
   {
    "duration": 47,
    "start_time": "2022-10-19T14:16:48.990Z"
   },
   {
    "duration": 4,
    "start_time": "2022-10-19T14:17:51.665Z"
   },
   {
    "duration": 267,
    "start_time": "2022-10-19T14:18:20.747Z"
   },
   {
    "duration": 867,
    "start_time": "2022-10-19T14:22:13.624Z"
   },
   {
    "duration": 11,
    "start_time": "2022-10-19T14:23:02.393Z"
   },
   {
    "duration": 4,
    "start_time": "2022-10-19T14:23:09.702Z"
   },
   {
    "duration": 62,
    "start_time": "2022-10-19T14:49:06.207Z"
   },
   {
    "duration": 3,
    "start_time": "2022-10-19T14:49:47.792Z"
   },
   {
    "duration": 12155,
    "start_time": "2022-10-19T14:53:32.726Z"
   },
   {
    "duration": 2179,
    "start_time": "2022-10-19T15:03:26.019Z"
   },
   {
    "duration": 287,
    "start_time": "2022-10-19T15:13:18.258Z"
   },
   {
    "duration": 1032,
    "start_time": "2022-10-19T15:13:50.974Z"
   },
   {
    "duration": 114,
    "start_time": "2022-10-19T15:13:57.669Z"
   },
   {
    "duration": 26,
    "start_time": "2022-10-19T15:14:22.897Z"
   },
   {
    "duration": 115,
    "start_time": "2022-10-19T15:14:26.509Z"
   },
   {
    "duration": 23,
    "start_time": "2022-10-19T15:15:09.313Z"
   },
   {
    "duration": 24,
    "start_time": "2022-10-19T15:15:19.416Z"
   },
   {
    "duration": 21,
    "start_time": "2022-10-19T15:15:42.140Z"
   },
   {
    "duration": 22,
    "start_time": "2022-10-19T15:15:48.110Z"
   },
   {
    "duration": 70,
    "start_time": "2022-10-19T15:17:13.639Z"
   },
   {
    "duration": 103,
    "start_time": "2022-10-19T15:17:29.021Z"
   },
   {
    "duration": 6,
    "start_time": "2022-10-19T15:17:36.956Z"
   },
   {
    "duration": 6,
    "start_time": "2022-10-19T15:17:50.651Z"
   },
   {
    "duration": 7,
    "start_time": "2022-10-19T15:19:18.562Z"
   },
   {
    "duration": 114,
    "start_time": "2022-10-19T15:19:39.296Z"
   },
   {
    "duration": 0,
    "start_time": "2022-10-19T15:20:15.858Z"
   },
   {
    "duration": 1507,
    "start_time": "2022-10-19T15:20:19.659Z"
   },
   {
    "duration": 212,
    "start_time": "2022-10-19T15:20:32.954Z"
   },
   {
    "duration": 1064,
    "start_time": "2022-10-19T15:20:39.654Z"
   },
   {
    "duration": 93671,
    "start_time": "2022-10-19T15:22:27.984Z"
   },
   {
    "duration": 81967,
    "start_time": "2022-10-19T15:26:47.336Z"
   },
   {
    "duration": 48,
    "start_time": "2022-10-19T15:35:14.101Z"
   },
   {
    "duration": 2653,
    "start_time": "2022-10-19T15:35:20.227Z"
   },
   {
    "duration": 5,
    "start_time": "2022-10-19T15:35:28.019Z"
   },
   {
    "duration": 1003,
    "start_time": "2022-10-19T15:35:28.505Z"
   },
   {
    "duration": 113,
    "start_time": "2022-10-19T15:35:29.510Z"
   },
   {
    "duration": 42,
    "start_time": "2022-10-19T15:35:31.735Z"
   },
   {
    "duration": 101,
    "start_time": "2022-10-19T15:35:40.086Z"
   },
   {
    "duration": 715,
    "start_time": "2022-10-19T15:35:46.421Z"
   },
   {
    "duration": 108,
    "start_time": "2022-10-19T15:35:47.140Z"
   },
   {
    "duration": 40,
    "start_time": "2022-10-19T15:35:48.959Z"
   },
   {
    "duration": 70,
    "start_time": "2022-10-19T15:35:50.457Z"
   },
   {
    "duration": 692,
    "start_time": "2022-10-19T15:35:59.609Z"
   },
   {
    "duration": 105,
    "start_time": "2022-10-19T15:36:01.137Z"
   },
   {
    "duration": 9,
    "start_time": "2022-10-19T15:36:28.065Z"
   },
   {
    "duration": 80881,
    "start_time": "2022-10-19T16:16:44.046Z"
   },
   {
    "duration": 401,
    "start_time": "2022-10-19T16:21:45.844Z"
   },
   {
    "duration": 1107,
    "start_time": "2022-10-19T16:27:08.295Z"
   },
   {
    "duration": 2130,
    "start_time": "2022-10-19T16:32:40.675Z"
   },
   {
    "duration": 1581,
    "start_time": "2022-10-19T16:32:42.808Z"
   },
   {
    "duration": 774,
    "start_time": "2022-10-19T16:32:44.393Z"
   },
   {
    "duration": 125,
    "start_time": "2022-10-19T16:32:45.169Z"
   },
   {
    "duration": 416,
    "start_time": "2022-10-19T16:32:45.296Z"
   },
   {
    "duration": 53,
    "start_time": "2022-10-19T16:32:45.714Z"
   },
   {
    "duration": 96,
    "start_time": "2022-10-19T16:32:45.769Z"
   },
   {
    "duration": 67562,
    "start_time": "2022-10-19T16:32:45.867Z"
   },
   {
    "duration": 696,
    "start_time": "2022-10-19T16:33:53.430Z"
   },
   {
    "duration": 298,
    "start_time": "2022-10-19T16:37:25.890Z"
   },
   {
    "duration": 321,
    "start_time": "2022-10-19T16:37:59.738Z"
   },
   {
    "duration": 320,
    "start_time": "2022-10-19T16:38:11.112Z"
   },
   {
    "duration": 346,
    "start_time": "2022-10-19T16:38:27.998Z"
   },
   {
    "duration": 355,
    "start_time": "2022-10-19T16:38:35.389Z"
   },
   {
    "duration": 343,
    "start_time": "2022-10-19T16:38:43.298Z"
   },
   {
    "duration": 6796,
    "start_time": "2022-10-19T16:38:53.858Z"
   },
   {
    "duration": 29,
    "start_time": "2022-10-19T17:00:28.467Z"
   },
   {
    "duration": 12,
    "start_time": "2022-10-19T17:03:05.559Z"
   },
   {
    "duration": 76,
    "start_time": "2022-10-19T17:03:10.496Z"
   },
   {
    "duration": 117,
    "start_time": "2022-10-19T17:03:17.851Z"
   },
   {
    "duration": 79,
    "start_time": "2022-10-19T17:03:51.849Z"
   },
   {
    "duration": 73,
    "start_time": "2022-10-19T17:03:59.176Z"
   },
   {
    "duration": 115,
    "start_time": "2022-10-19T17:06:08.850Z"
   },
   {
    "duration": 46,
    "start_time": "2022-10-19T17:06:08.967Z"
   },
   {
    "duration": 92,
    "start_time": "2022-10-19T17:07:18.201Z"
   },
   {
    "duration": 687,
    "start_time": "2022-10-19T17:16:31.031Z"
   },
   {
    "duration": 705,
    "start_time": "2022-10-19T17:16:44.917Z"
   },
   {
    "duration": 811,
    "start_time": "2022-10-19T17:16:51.788Z"
   },
   {
    "duration": 746,
    "start_time": "2022-10-19T17:16:54.579Z"
   },
   {
    "duration": 691,
    "start_time": "2022-10-19T17:16:59.477Z"
   },
   {
    "duration": 57,
    "start_time": "2022-10-19T17:17:36.449Z"
   },
   {
    "duration": 52,
    "start_time": "2022-10-20T10:03:08.345Z"
   },
   {
    "duration": 1418,
    "start_time": "2022-10-20T10:03:12.538Z"
   },
   {
    "duration": 1111,
    "start_time": "2022-10-20T10:03:15.507Z"
   },
   {
    "duration": 127,
    "start_time": "2022-10-20T10:03:16.620Z"
   },
   {
    "duration": 50,
    "start_time": "2022-10-20T10:03:18.540Z"
   },
   {
    "duration": 78,
    "start_time": "2022-10-20T10:03:19.120Z"
   },
   {
    "duration": 123,
    "start_time": "2022-10-20T10:03:20.655Z"
   },
   {
    "duration": 32,
    "start_time": "2022-10-20T10:03:20.943Z"
   },
   {
    "duration": 819,
    "start_time": "2022-10-20T10:03:22.847Z"
   },
   {
    "duration": 857,
    "start_time": "2022-10-20T10:03:31.028Z"
   },
   {
    "duration": 870,
    "start_time": "2022-10-20T10:03:38.132Z"
   },
   {
    "duration": 65,
    "start_time": "2022-10-20T10:03:47.184Z"
   },
   {
    "duration": 12930,
    "start_time": "2022-10-20T10:07:06.280Z"
   },
   {
    "duration": 887,
    "start_time": "2022-10-20T10:08:13.717Z"
   },
   {
    "duration": 882,
    "start_time": "2022-10-20T10:09:09.805Z"
   },
   {
    "duration": 964,
    "start_time": "2022-10-20T10:09:32.405Z"
   },
   {
    "duration": 777,
    "start_time": "2022-10-20T10:09:42.455Z"
   },
   {
    "duration": 4,
    "start_time": "2022-10-20T10:13:26.032Z"
   },
   {
    "duration": 47,
    "start_time": "2022-10-20T10:26:08.440Z"
   },
   {
    "duration": 886,
    "start_time": "2022-10-20T10:29:30.104Z"
   },
   {
    "duration": 134,
    "start_time": "2022-10-20T10:29:30.993Z"
   },
   {
    "duration": 4,
    "start_time": "2022-10-20T10:29:32.401Z"
   },
   {
    "duration": 55,
    "start_time": "2022-10-20T10:30:32.088Z"
   },
   {
    "duration": 71,
    "start_time": "2022-10-20T10:31:04.370Z"
   },
   {
    "duration": 140,
    "start_time": "2022-10-20T10:39:14.773Z"
   },
   {
    "duration": 814,
    "start_time": "2022-10-20T10:40:10.540Z"
   },
   {
    "duration": 63,
    "start_time": "2022-10-20T10:40:22.178Z"
   },
   {
    "duration": 915,
    "start_time": "2022-10-20T10:40:39.326Z"
   },
   {
    "duration": 1378,
    "start_time": "2022-10-20T10:44:53.000Z"
   },
   {
    "duration": 5367,
    "start_time": "2022-10-20T10:46:37.650Z"
   },
   {
    "duration": 18,
    "start_time": "2022-10-20T10:47:24.334Z"
   },
   {
    "duration": 5217,
    "start_time": "2022-10-20T10:47:36.277Z"
   },
   {
    "duration": 5281,
    "start_time": "2022-10-20T10:48:02.940Z"
   },
   {
    "duration": 12,
    "start_time": "2022-10-20T10:53:32.846Z"
   },
   {
    "duration": 792,
    "start_time": "2022-10-20T10:54:54.102Z"
   },
   {
    "duration": 42,
    "start_time": "2022-10-20T10:55:07.953Z"
   },
   {
    "duration": 30,
    "start_time": "2022-10-20T11:00:33.436Z"
   },
   {
    "duration": 91,
    "start_time": "2022-10-20T11:15:23.573Z"
   },
   {
    "duration": 44,
    "start_time": "2022-10-20T11:34:21.395Z"
   },
   {
    "duration": 34,
    "start_time": "2022-10-20T11:34:39.965Z"
   },
   {
    "duration": 41,
    "start_time": "2022-10-20T11:34:50.454Z"
   },
   {
    "duration": 31,
    "start_time": "2022-10-20T11:35:02.047Z"
   },
   {
    "duration": 6,
    "start_time": "2022-10-20T11:35:19.829Z"
   },
   {
    "duration": 33,
    "start_time": "2022-10-20T11:35:25.099Z"
   },
   {
    "duration": 43,
    "start_time": "2022-10-20T12:43:26.966Z"
   },
   {
    "duration": 39,
    "start_time": "2022-10-20T13:46:32.542Z"
   },
   {
    "duration": 93,
    "start_time": "2022-10-20T14:17:35.432Z"
   },
   {
    "duration": 4439,
    "start_time": "2022-10-20T14:21:53.390Z"
   },
   {
    "duration": 24,
    "start_time": "2022-10-20T14:22:58.413Z"
   },
   {
    "duration": 21,
    "start_time": "2022-10-20T14:23:09.529Z"
   },
   {
    "duration": 183,
    "start_time": "2022-10-20T14:26:23.348Z"
   },
   {
    "duration": 7,
    "start_time": "2022-10-20T14:27:09.707Z"
   },
   {
    "duration": 16,
    "start_time": "2022-10-20T14:28:58.715Z"
   },
   {
    "duration": 63,
    "start_time": "2022-10-20T14:29:06.861Z"
   },
   {
    "duration": 161,
    "start_time": "2022-10-20T14:29:57.743Z"
   },
   {
    "duration": 152,
    "start_time": "2022-10-20T14:30:21.908Z"
   },
   {
    "duration": 81,
    "start_time": "2022-10-20T14:31:24.489Z"
   },
   {
    "duration": 54,
    "start_time": "2022-10-20T14:31:29.826Z"
   },
   {
    "duration": 10,
    "start_time": "2022-10-20T14:33:22.858Z"
   },
   {
    "duration": 10,
    "start_time": "2022-10-20T14:33:39.650Z"
   },
   {
    "duration": 6,
    "start_time": "2022-10-20T14:33:45.280Z"
   },
   {
    "duration": 16,
    "start_time": "2022-10-20T14:34:43.231Z"
   },
   {
    "duration": 4437,
    "start_time": "2022-10-20T14:34:51.973Z"
   },
   {
    "duration": 1745,
    "start_time": "2022-10-20T14:34:56.413Z"
   },
   {
    "duration": 878,
    "start_time": "2022-10-20T14:34:58.160Z"
   },
   {
    "duration": 130,
    "start_time": "2022-10-20T14:34:59.040Z"
   },
   {
    "duration": 3,
    "start_time": "2022-10-20T14:34:59.172Z"
   },
   {
    "duration": 54,
    "start_time": "2022-10-20T14:34:59.177Z"
   },
   {
    "duration": 97,
    "start_time": "2022-10-20T14:34:59.233Z"
   },
   {
    "duration": 99,
    "start_time": "2022-10-20T14:34:59.331Z"
   },
   {
    "duration": 52,
    "start_time": "2022-10-20T14:34:59.431Z"
   },
   {
    "duration": 100,
    "start_time": "2022-10-20T14:34:59.484Z"
   },
   {
    "duration": 196,
    "start_time": "2022-10-20T14:34:59.586Z"
   },
   {
    "duration": 6,
    "start_time": "2022-10-20T14:34:59.784Z"
   },
   {
    "duration": 86,
    "start_time": "2022-10-20T14:34:59.791Z"
   },
   {
    "duration": 76,
    "start_time": "2022-10-20T14:34:59.881Z"
   },
   {
    "duration": 813,
    "start_time": "2022-10-20T14:34:59.960Z"
   },
   {
    "duration": 63,
    "start_time": "2022-10-20T14:35:00.775Z"
   },
   {
    "duration": 3143,
    "start_time": "2022-10-20T14:35:00.854Z"
   },
   {
    "duration": 3156,
    "start_time": "2022-10-20T14:35:03.999Z"
   },
   {
    "duration": 3234,
    "start_time": "2022-10-20T14:48:18.920Z"
   },
   {
    "duration": 151,
    "start_time": "2022-10-20T14:48:43.119Z"
   },
   {
    "duration": 3116,
    "start_time": "2022-10-20T14:48:45.718Z"
   },
   {
    "duration": 4707,
    "start_time": "2022-10-20T15:09:09.015Z"
   },
   {
    "duration": 1820,
    "start_time": "2022-10-20T15:09:13.726Z"
   },
   {
    "duration": 804,
    "start_time": "2022-10-20T15:09:15.547Z"
   },
   {
    "duration": 130,
    "start_time": "2022-10-20T15:09:16.352Z"
   },
   {
    "duration": 3,
    "start_time": "2022-10-20T15:09:16.484Z"
   },
   {
    "duration": 46,
    "start_time": "2022-10-20T15:09:16.489Z"
   },
   {
    "duration": 86,
    "start_time": "2022-10-20T15:09:16.537Z"
   },
   {
    "duration": 103,
    "start_time": "2022-10-20T15:09:16.624Z"
   },
   {
    "duration": 48,
    "start_time": "2022-10-20T15:09:16.729Z"
   },
   {
    "duration": 99,
    "start_time": "2022-10-20T15:09:16.779Z"
   },
   {
    "duration": 191,
    "start_time": "2022-10-20T15:09:16.880Z"
   },
   {
    "duration": 5,
    "start_time": "2022-10-20T15:09:17.073Z"
   },
   {
    "duration": 65,
    "start_time": "2022-10-20T15:09:17.080Z"
   },
   {
    "duration": 66,
    "start_time": "2022-10-20T15:09:17.154Z"
   },
   {
    "duration": 796,
    "start_time": "2022-10-20T15:09:17.222Z"
   },
   {
    "duration": 62,
    "start_time": "2022-10-20T15:09:18.019Z"
   },
   {
    "duration": 2918,
    "start_time": "2022-10-20T15:09:18.082Z"
   },
   {
    "duration": 56,
    "start_time": "2022-10-20T15:18:44.347Z"
   },
   {
    "duration": 1105,
    "start_time": "2022-10-20T15:23:32.466Z"
   },
   {
    "duration": 16317,
    "start_time": "2022-10-22T07:04:32.589Z"
   },
   {
    "duration": 1828,
    "start_time": "2022-10-22T07:04:52.816Z"
   },
   {
    "duration": 2847,
    "start_time": "2022-10-22T07:04:54.646Z"
   },
   {
    "duration": 113,
    "start_time": "2022-10-22T07:04:57.494Z"
   },
   {
    "duration": 4,
    "start_time": "2022-10-22T07:05:01.998Z"
   },
   {
    "duration": 82,
    "start_time": "2022-10-22T07:12:11.765Z"
   },
   {
    "duration": 1259,
    "start_time": "2022-10-22T07:12:25.777Z"
   },
   {
    "duration": 12,
    "start_time": "2022-10-22T07:13:36.985Z"
   },
   {
    "duration": 161,
    "start_time": "2022-10-22T07:14:07.076Z"
   },
   {
    "duration": 168,
    "start_time": "2022-10-22T07:14:35.737Z"
   },
   {
    "duration": 22,
    "start_time": "2022-10-22T07:16:51.267Z"
   },
   {
    "duration": 89,
    "start_time": "2022-10-22T07:19:50.336Z"
   },
   {
    "duration": 12,
    "start_time": "2022-10-22T07:22:21.461Z"
   },
   {
    "duration": 19,
    "start_time": "2022-10-22T07:22:28.369Z"
   },
   {
    "duration": 576,
    "start_time": "2022-10-22T07:23:39.380Z"
   },
   {
    "duration": 563,
    "start_time": "2022-10-22T07:23:54.266Z"
   },
   {
    "duration": 14,
    "start_time": "2022-10-22T07:24:09.912Z"
   },
   {
    "duration": 13,
    "start_time": "2022-10-22T07:24:19.901Z"
   },
   {
    "duration": 499,
    "start_time": "2022-10-22T07:25:47.543Z"
   },
   {
    "duration": 16,
    "start_time": "2022-10-22T07:25:49.454Z"
   },
   {
    "duration": 434,
    "start_time": "2022-10-22T07:26:33.665Z"
   },
   {
    "duration": 111,
    "start_time": "2022-10-22T07:27:14.681Z"
   },
   {
    "duration": 710,
    "start_time": "2022-10-22T07:27:26.812Z"
   },
   {
    "duration": 100,
    "start_time": "2022-10-22T07:27:27.524Z"
   },
   {
    "duration": 87,
    "start_time": "2022-10-22T07:27:28.294Z"
   },
   {
    "duration": 3,
    "start_time": "2022-10-22T07:27:31.145Z"
   },
   {
    "duration": 23,
    "start_time": "2022-10-22T07:27:32.289Z"
   },
   {
    "duration": 382,
    "start_time": "2022-10-22T07:27:33.813Z"
   },
   {
    "duration": 406,
    "start_time": "2022-10-22T07:28:00.159Z"
   },
   {
    "duration": 10175,
    "start_time": "2022-10-22T07:28:03.458Z"
   },
   {
    "duration": 14,
    "start_time": "2022-10-22T07:28:14.793Z"
   },
   {
    "duration": 70,
    "start_time": "2022-10-22T07:28:58.211Z"
   },
   {
    "duration": 13,
    "start_time": "2022-10-22T07:29:06.051Z"
   },
   {
    "duration": 41,
    "start_time": "2022-10-22T07:29:27.312Z"
   },
   {
    "duration": 13,
    "start_time": "2022-10-22T07:29:27.665Z"
   },
   {
    "duration": 9,
    "start_time": "2022-10-22T07:29:39.188Z"
   },
   {
    "duration": 14,
    "start_time": "2022-10-22T07:29:39.822Z"
   },
   {
    "duration": 10,
    "start_time": "2022-10-22T07:29:51.256Z"
   },
   {
    "duration": 15,
    "start_time": "2022-10-22T07:29:51.797Z"
   },
   {
    "duration": 11,
    "start_time": "2022-10-22T07:30:35.450Z"
   },
   {
    "duration": 14,
    "start_time": "2022-10-22T07:30:35.872Z"
   },
   {
    "duration": 676,
    "start_time": "2022-10-22T07:34:01.796Z"
   },
   {
    "duration": 100,
    "start_time": "2022-10-22T07:34:02.473Z"
   },
   {
    "duration": 79,
    "start_time": "2022-10-22T07:34:03.441Z"
   },
   {
    "duration": 3,
    "start_time": "2022-10-22T07:34:06.238Z"
   },
   {
    "duration": 24,
    "start_time": "2022-10-22T07:34:07.177Z"
   },
   {
    "duration": 1101,
    "start_time": "2022-10-22T07:41:06.935Z"
   },
   {
    "duration": 12,
    "start_time": "2022-10-22T07:41:52.859Z"
   },
   {
    "duration": 14,
    "start_time": "2022-10-22T07:41:59.593Z"
   },
   {
    "duration": 23,
    "start_time": "2022-10-22T07:42:43.426Z"
   },
   {
    "duration": 44,
    "start_time": "2022-10-22T07:43:28.339Z"
   },
   {
    "duration": 14,
    "start_time": "2022-10-22T07:43:30.279Z"
   },
   {
    "duration": 45,
    "start_time": "2022-10-22T07:44:43.120Z"
   },
   {
    "duration": 13,
    "start_time": "2022-10-22T07:44:43.649Z"
   },
   {
    "duration": 99,
    "start_time": "2022-10-22T07:44:58.717Z"
   },
   {
    "duration": 118,
    "start_time": "2022-10-22T07:45:03.850Z"
   },
   {
    "duration": 705,
    "start_time": "2022-10-22T07:45:27.616Z"
   },
   {
    "duration": 100,
    "start_time": "2022-10-22T07:45:28.323Z"
   },
   {
    "duration": 82,
    "start_time": "2022-10-22T07:45:30.322Z"
   },
   {
    "duration": 3,
    "start_time": "2022-10-22T07:45:33.598Z"
   },
   {
    "duration": 22,
    "start_time": "2022-10-22T07:45:35.547Z"
   },
   {
    "duration": 9,
    "start_time": "2022-10-22T07:47:16.546Z"
   },
   {
    "duration": 116,
    "start_time": "2022-10-22T07:47:24.176Z"
   },
   {
    "duration": 181,
    "start_time": "2022-10-22T07:47:29.286Z"
   },
   {
    "duration": 9,
    "start_time": "2022-10-22T07:47:45.152Z"
   },
   {
    "duration": 131,
    "start_time": "2022-10-22T07:48:05.105Z"
   },
   {
    "duration": 189,
    "start_time": "2022-10-22T07:48:09.639Z"
   },
   {
    "duration": 214,
    "start_time": "2022-10-22T07:48:17.878Z"
   },
   {
    "duration": 31,
    "start_time": "2022-10-22T07:48:51.699Z"
   },
   {
    "duration": 157,
    "start_time": "2022-10-22T07:48:51.749Z"
   },
   {
    "duration": 29,
    "start_time": "2022-10-22T07:50:17.553Z"
   },
   {
    "duration": 7,
    "start_time": "2022-10-22T08:18:03.612Z"
   },
   {
    "duration": 132,
    "start_time": "2022-10-22T08:18:18.703Z"
   },
   {
    "duration": 129,
    "start_time": "2022-10-22T08:18:25.472Z"
   },
   {
    "duration": 11,
    "start_time": "2022-10-22T08:24:58.165Z"
   },
   {
    "duration": 30,
    "start_time": "2022-10-22T08:25:04.010Z"
   },
   {
    "duration": 24,
    "start_time": "2022-10-22T08:28:32.740Z"
   },
   {
    "duration": 22,
    "start_time": "2022-10-22T08:28:40.922Z"
   },
   {
    "duration": 21,
    "start_time": "2022-10-22T08:29:25.612Z"
   },
   {
    "duration": 571,
    "start_time": "2022-10-22T08:30:48.267Z"
   },
   {
    "duration": 75,
    "start_time": "2022-10-22T08:31:09.609Z"
   },
   {
    "duration": 89,
    "start_time": "2022-10-22T08:31:16.843Z"
   },
   {
    "duration": 6,
    "start_time": "2022-10-22T08:31:32.157Z"
   },
   {
    "duration": 5,
    "start_time": "2022-10-22T08:31:39.563Z"
   },
   {
    "duration": 6,
    "start_time": "2022-10-22T08:31:49.574Z"
   },
   {
    "duration": 5,
    "start_time": "2022-10-22T08:32:05.163Z"
   },
   {
    "duration": 15,
    "start_time": "2022-10-22T08:53:04.226Z"
   },
   {
    "duration": 23,
    "start_time": "2022-10-22T08:54:50.804Z"
   },
   {
    "duration": 51,
    "start_time": "2022-10-22T08:55:00.965Z"
   },
   {
    "duration": 14,
    "start_time": "2022-10-22T08:59:10.224Z"
   },
   {
    "duration": 13,
    "start_time": "2022-10-22T08:59:30.308Z"
   },
   {
    "duration": 14,
    "start_time": "2022-10-22T08:59:34.988Z"
   },
   {
    "duration": 16,
    "start_time": "2022-10-22T09:00:03.214Z"
   },
   {
    "duration": 15,
    "start_time": "2022-10-22T09:00:08.007Z"
   },
   {
    "duration": 561,
    "start_time": "2022-10-22T09:23:05.385Z"
   },
   {
    "duration": 16,
    "start_time": "2022-10-22T09:23:12.158Z"
   },
   {
    "duration": 626,
    "start_time": "2022-10-22T09:23:38.552Z"
   },
   {
    "duration": 14,
    "start_time": "2022-10-22T09:23:39.925Z"
   },
   {
    "duration": 74,
    "start_time": "2022-10-22T09:24:01.137Z"
   },
   {
    "duration": 603,
    "start_time": "2022-10-22T09:24:08.338Z"
   },
   {
    "duration": 14,
    "start_time": "2022-10-22T09:24:09.654Z"
   },
   {
    "duration": 63,
    "start_time": "2022-10-22T09:43:31.209Z"
   },
   {
    "duration": 14,
    "start_time": "2022-10-22T09:43:35.815Z"
   },
   {
    "duration": 570,
    "start_time": "2022-10-22T09:43:48.726Z"
   },
   {
    "duration": 72,
    "start_time": "2022-10-22T09:43:54.658Z"
   },
   {
    "duration": 15,
    "start_time": "2022-10-22T09:43:55.842Z"
   },
   {
    "duration": 55,
    "start_time": "2022-10-22T09:44:05.226Z"
   },
   {
    "duration": 15,
    "start_time": "2022-10-22T09:44:05.914Z"
   },
   {
    "duration": 66,
    "start_time": "2022-10-22T09:44:17.752Z"
   },
   {
    "duration": 16,
    "start_time": "2022-10-22T09:44:19.115Z"
   },
   {
    "duration": 60,
    "start_time": "2022-10-22T09:44:26.490Z"
   },
   {
    "duration": 14,
    "start_time": "2022-10-22T09:44:30.635Z"
   },
   {
    "duration": 101,
    "start_time": "2022-10-22T09:45:12.240Z"
   },
   {
    "duration": 80,
    "start_time": "2022-10-22T09:46:49.254Z"
   },
   {
    "duration": 100,
    "start_time": "2022-10-22T09:46:49.853Z"
   },
   {
    "duration": 15,
    "start_time": "2022-10-22T09:46:55.351Z"
   },
   {
    "duration": 40,
    "start_time": "2022-10-22T09:47:42.045Z"
   },
   {
    "duration": 3648,
    "start_time": "2022-10-22T09:47:50.495Z"
   },
   {
    "duration": 79,
    "start_time": "2022-10-22T09:48:11.540Z"
   },
   {
    "duration": 74,
    "start_time": "2022-10-22T09:48:25.953Z"
   },
   {
    "duration": 6,
    "start_time": "2022-10-22T09:48:49.470Z"
   },
   {
    "duration": 16,
    "start_time": "2022-10-22T09:48:57.852Z"
   },
   {
    "duration": 59,
    "start_time": "2022-10-22T09:57:03.108Z"
   },
   {
    "duration": 14,
    "start_time": "2022-10-22T09:57:03.625Z"
   },
   {
    "duration": 113,
    "start_time": "2022-10-22T09:57:09.200Z"
   },
   {
    "duration": 96,
    "start_time": "2022-10-22T09:57:34.287Z"
   },
   {
    "duration": 51,
    "start_time": "2022-10-22T09:57:47.687Z"
   },
   {
    "duration": 68,
    "start_time": "2022-10-22T09:57:48.436Z"
   },
   {
    "duration": 54,
    "start_time": "2022-10-22T09:57:55.477Z"
   },
   {
    "duration": 67,
    "start_time": "2022-10-22T09:57:56.172Z"
   },
   {
    "duration": 39,
    "start_time": "2022-10-22T09:58:43.883Z"
   },
   {
    "duration": 73,
    "start_time": "2022-10-22T09:58:45.408Z"
   },
   {
    "duration": 31,
    "start_time": "2022-10-22T09:59:38.116Z"
   },
   {
    "duration": 3,
    "start_time": "2022-10-22T10:23:30.958Z"
   },
   {
    "duration": 15,
    "start_time": "2022-10-22T10:24:08.975Z"
   },
   {
    "duration": 2389,
    "start_time": "2022-10-22T10:24:36.202Z"
   },
   {
    "duration": 565,
    "start_time": "2022-10-22T10:25:19.610Z"
   },
   {
    "duration": 15,
    "start_time": "2022-10-22T10:25:29.048Z"
   },
   {
    "duration": 310,
    "start_time": "2022-10-22T10:26:05.366Z"
   },
   {
    "duration": 12,
    "start_time": "2022-10-22T10:26:17.171Z"
   },
   {
    "duration": 3,
    "start_time": "2022-10-22T10:30:29.943Z"
   },
   {
    "duration": 16,
    "start_time": "2022-10-22T10:30:30.831Z"
   },
   {
    "duration": 16,
    "start_time": "2022-10-22T10:30:36.850Z"
   },
   {
    "duration": 17,
    "start_time": "2022-10-22T10:30:44.454Z"
   },
   {
    "duration": 5,
    "start_time": "2022-10-22T10:34:03.933Z"
   },
   {
    "duration": 10,
    "start_time": "2022-10-22T10:34:03.981Z"
   },
   {
    "duration": 11,
    "start_time": "2022-10-22T10:34:06.765Z"
   },
   {
    "duration": 2037,
    "start_time": "2022-10-22T10:34:20.209Z"
   },
   {
    "duration": 4,
    "start_time": "2022-10-22T10:35:03.707Z"
   },
   {
    "duration": 2266,
    "start_time": "2022-10-22T10:35:04.292Z"
   },
   {
    "duration": 742,
    "start_time": "2022-10-22T10:35:13.606Z"
   },
   {
    "duration": 145,
    "start_time": "2022-10-22T10:35:14.350Z"
   },
   {
    "duration": 91,
    "start_time": "2022-10-22T10:35:14.736Z"
   },
   {
    "duration": 4,
    "start_time": "2022-10-22T10:35:16.449Z"
   },
   {
    "duration": 91,
    "start_time": "2022-10-22T10:35:17.137Z"
   },
   {
    "duration": 3,
    "start_time": "2022-10-22T10:35:19.060Z"
   },
   {
    "duration": 1162,
    "start_time": "2022-10-22T10:35:19.595Z"
   },
   {
    "duration": 3,
    "start_time": "2022-10-22T12:05:59.117Z"
   },
   {
    "duration": 1324,
    "start_time": "2022-10-22T12:05:59.790Z"
   },
   {
    "duration": 19,
    "start_time": "2022-10-22T12:07:19.078Z"
   },
   {
    "duration": 1104,
    "start_time": "2022-10-22T12:07:50.248Z"
   },
   {
    "duration": 5,
    "start_time": "2022-10-22T12:08:13.023Z"
   },
   {
    "duration": 1020,
    "start_time": "2022-10-22T12:08:16.425Z"
   },
   {
    "duration": 4,
    "start_time": "2022-10-22T12:08:32.429Z"
   },
   {
    "duration": 1380,
    "start_time": "2022-10-22T12:08:33.377Z"
   },
   {
    "duration": 707,
    "start_time": "2022-10-22T12:09:01.102Z"
   },
   {
    "duration": 107,
    "start_time": "2022-10-22T12:09:01.811Z"
   },
   {
    "duration": 98,
    "start_time": "2022-10-22T12:09:01.920Z"
   },
   {
    "duration": 3,
    "start_time": "2022-10-22T12:09:04.437Z"
   },
   {
    "duration": 90,
    "start_time": "2022-10-22T12:09:05.375Z"
   },
   {
    "duration": 6,
    "start_time": "2022-10-22T12:09:06.536Z"
   },
   {
    "duration": 1077,
    "start_time": "2022-10-22T12:09:09.824Z"
   },
   {
    "duration": 3,
    "start_time": "2022-10-22T12:10:14.475Z"
   },
   {
    "duration": 1174,
    "start_time": "2022-10-22T12:10:15.247Z"
   },
   {
    "duration": 5,
    "start_time": "2022-10-22T12:11:30.578Z"
   },
   {
    "duration": 1340,
    "start_time": "2022-10-22T12:11:32.430Z"
   },
   {
    "duration": 91,
    "start_time": "2022-10-22T12:11:43.563Z"
   },
   {
    "duration": 88,
    "start_time": "2022-10-22T12:11:43.874Z"
   },
   {
    "duration": 3,
    "start_time": "2022-10-22T12:11:47.337Z"
   },
   {
    "duration": 13,
    "start_time": "2022-10-22T12:11:47.753Z"
   },
   {
    "duration": 4,
    "start_time": "2022-10-22T12:13:38.531Z"
   },
   {
    "duration": 4748,
    "start_time": "2022-10-22T12:13:39.575Z"
   },
   {
    "duration": 1107,
    "start_time": "2022-10-22T12:13:57.899Z"
   },
   {
    "duration": 5333,
    "start_time": "2022-10-22T12:14:09.284Z"
   },
   {
    "duration": 98,
    "start_time": "2022-10-22T12:14:15.344Z"
   },
   {
    "duration": 678,
    "start_time": "2022-10-22T12:14:22.833Z"
   },
   {
    "duration": 123,
    "start_time": "2022-10-22T12:14:23.513Z"
   },
   {
    "duration": 91,
    "start_time": "2022-10-22T12:14:24.482Z"
   },
   {
    "duration": 3,
    "start_time": "2022-10-22T12:14:26.175Z"
   },
   {
    "duration": 87,
    "start_time": "2022-10-22T12:14:27.800Z"
   },
   {
    "duration": 3,
    "start_time": "2022-10-22T12:14:28.855Z"
   },
   {
    "duration": 5365,
    "start_time": "2022-10-22T12:14:30.435Z"
   },
   {
    "duration": 61,
    "start_time": "2022-10-22T12:14:39.429Z"
   },
   {
    "duration": 87,
    "start_time": "2022-10-22T12:14:40.223Z"
   },
   {
    "duration": 41,
    "start_time": "2022-10-22T12:14:47.994Z"
   },
   {
    "duration": 72,
    "start_time": "2022-10-22T12:14:48.553Z"
   },
   {
    "duration": 34,
    "start_time": "2022-10-22T12:17:25.780Z"
   },
   {
    "duration": 659,
    "start_time": "2022-10-22T12:18:57.201Z"
   },
   {
    "duration": 108,
    "start_time": "2022-10-22T12:18:57.862Z"
   },
   {
    "duration": 79,
    "start_time": "2022-10-22T12:18:58.601Z"
   },
   {
    "duration": 3,
    "start_time": "2022-10-22T12:19:00.363Z"
   },
   {
    "duration": 86,
    "start_time": "2022-10-22T12:19:01.582Z"
   },
   {
    "duration": 3,
    "start_time": "2022-10-22T12:19:05.722Z"
   },
   {
    "duration": 5143,
    "start_time": "2022-10-22T12:19:06.490Z"
   },
   {
    "duration": 33,
    "start_time": "2022-10-22T12:19:19.328Z"
   },
   {
    "duration": 33,
    "start_time": "2022-10-22T12:19:33.869Z"
   },
   {
    "duration": 13,
    "start_time": "2022-10-22T12:19:56.922Z"
   },
   {
    "duration": 4216,
    "start_time": "2022-10-22T12:23:01.037Z"
   },
   {
    "duration": 5,
    "start_time": "2022-10-22T12:23:05.255Z"
   },
   {
    "duration": 727,
    "start_time": "2022-10-22T12:23:05.262Z"
   },
   {
    "duration": 110,
    "start_time": "2022-10-22T12:23:05.991Z"
   },
   {
    "duration": 94,
    "start_time": "2022-10-22T12:23:06.103Z"
   },
   {
    "duration": 3,
    "start_time": "2022-10-22T12:23:06.779Z"
   },
   {
    "duration": 87,
    "start_time": "2022-10-22T12:23:07.637Z"
   },
   {
    "duration": 3,
    "start_time": "2022-10-22T12:23:08.495Z"
   },
   {
    "duration": 5161,
    "start_time": "2022-10-22T12:23:09.010Z"
   },
   {
    "duration": 19,
    "start_time": "2022-10-22T12:23:14.173Z"
   },
   {
    "duration": 1125,
    "start_time": "2022-10-22T12:23:14.195Z"
   },
   {
    "duration": 0,
    "start_time": "2022-10-22T12:23:15.322Z"
   },
   {
    "duration": 49,
    "start_time": "2022-10-22T12:23:22.890Z"
   },
   {
    "duration": 79,
    "start_time": "2022-10-22T12:23:24.924Z"
   },
   {
    "duration": 89,
    "start_time": "2022-10-22T12:23:29.462Z"
   },
   {
    "duration": 6069,
    "start_time": "2022-10-22T12:24:12.366Z"
   },
   {
    "duration": 14,
    "start_time": "2022-10-22T12:24:23.286Z"
   },
   {
    "duration": 37,
    "start_time": "2022-10-22T12:24:35.395Z"
   },
   {
    "duration": 78,
    "start_time": "2022-10-22T12:26:32.694Z"
   },
   {
    "duration": 14,
    "start_time": "2022-10-22T12:27:09.548Z"
   },
   {
    "duration": 20,
    "start_time": "2022-10-22T12:30:32.277Z"
   },
   {
    "duration": 35,
    "start_time": "2022-10-22T12:30:41.938Z"
   },
   {
    "duration": 30,
    "start_time": "2022-10-22T12:30:48.935Z"
   },
   {
    "duration": 15688,
    "start_time": "2022-10-23T07:51:33.893Z"
   },
   {
    "duration": 1795,
    "start_time": "2022-10-23T07:52:11.204Z"
   },
   {
    "duration": 2341,
    "start_time": "2022-10-23T07:52:14.051Z"
   },
   {
    "duration": 127,
    "start_time": "2022-10-23T07:52:16.394Z"
   },
   {
    "duration": 132,
    "start_time": "2022-10-23T07:52:17.644Z"
   },
   {
    "duration": 3,
    "start_time": "2022-10-23T07:52:19.946Z"
   },
   {
    "duration": 38,
    "start_time": "2022-10-23T07:53:06.746Z"
   },
   {
    "duration": 32,
    "start_time": "2022-10-23T07:54:00.316Z"
   },
   {
    "duration": 27,
    "start_time": "2022-10-23T07:54:44.780Z"
   },
   {
    "duration": 30,
    "start_time": "2022-10-23T07:54:55.922Z"
   },
   {
    "duration": 95,
    "start_time": "2022-10-23T08:28:01.522Z"
   },
   {
    "duration": 22,
    "start_time": "2022-10-23T08:28:06.390Z"
   },
   {
    "duration": 93,
    "start_time": "2022-10-23T08:29:54.218Z"
   },
   {
    "duration": 4,
    "start_time": "2022-10-23T08:30:39.728Z"
   },
   {
    "duration": 6487,
    "start_time": "2022-10-23T08:30:40.086Z"
   },
   {
    "duration": 26,
    "start_time": "2022-10-23T08:30:46.576Z"
   },
   {
    "duration": 21,
    "start_time": "2022-10-23T08:30:56.312Z"
   },
   {
    "duration": 66,
    "start_time": "2022-10-23T08:30:58.074Z"
   },
   {
    "duration": 86,
    "start_time": "2022-10-23T08:30:58.489Z"
   },
   {
    "duration": 37,
    "start_time": "2022-10-23T08:31:25.208Z"
   },
   {
    "duration": 81,
    "start_time": "2022-10-23T08:31:56.948Z"
   },
   {
    "duration": 165,
    "start_time": "2022-10-23T08:31:57.256Z"
   },
   {
    "duration": 5,
    "start_time": "2022-10-23T08:31:58.008Z"
   },
   {
    "duration": 100,
    "start_time": "2022-10-23T08:32:00.067Z"
   },
   {
    "duration": 135,
    "start_time": "2022-10-23T08:32:26.615Z"
   },
   {
    "duration": 138,
    "start_time": "2022-10-23T08:32:34.054Z"
   },
   {
    "duration": 132,
    "start_time": "2022-10-23T08:32:52.567Z"
   },
   {
    "duration": 134,
    "start_time": "2022-10-23T08:33:14.657Z"
   },
   {
    "duration": 4261,
    "start_time": "2022-10-23T08:34:03.197Z"
   },
   {
    "duration": 1678,
    "start_time": "2022-10-23T08:34:07.463Z"
   },
   {
    "duration": 1914,
    "start_time": "2022-10-23T08:34:09.144Z"
   },
   {
    "duration": 121,
    "start_time": "2022-10-23T08:34:11.059Z"
   },
   {
    "duration": 111,
    "start_time": "2022-10-23T08:34:11.181Z"
   },
   {
    "duration": 4,
    "start_time": "2022-10-23T08:34:11.293Z"
   },
   {
    "duration": 9,
    "start_time": "2022-10-23T08:34:11.298Z"
   },
   {
    "duration": 4,
    "start_time": "2022-10-23T08:34:11.309Z"
   },
   {
    "duration": 17,
    "start_time": "2022-10-23T08:34:11.315Z"
   },
   {
    "duration": 22,
    "start_time": "2022-10-23T08:34:11.335Z"
   },
   {
    "duration": 120,
    "start_time": "2022-10-23T08:34:11.359Z"
   },
   {
    "duration": 112,
    "start_time": "2022-10-23T08:34:11.480Z"
   },
   {
    "duration": 44,
    "start_time": "2022-10-23T08:34:11.594Z"
   },
   {
    "duration": 115,
    "start_time": "2022-10-23T08:34:11.640Z"
   },
   {
    "duration": 168,
    "start_time": "2022-10-23T08:34:11.757Z"
   },
   {
    "duration": 6,
    "start_time": "2022-10-23T08:34:11.927Z"
   },
   {
    "duration": 69,
    "start_time": "2022-10-23T08:34:11.935Z"
   },
   {
    "duration": 87,
    "start_time": "2022-10-23T08:34:12.005Z"
   },
   {
    "duration": 59,
    "start_time": "2022-10-23T08:34:12.094Z"
   },
   {
    "duration": 72,
    "start_time": "2022-10-23T08:34:12.154Z"
   },
   {
    "duration": 696,
    "start_time": "2022-10-23T08:34:12.227Z"
   },
   {
    "duration": 2766,
    "start_time": "2022-10-23T08:34:12.925Z"
   },
   {
    "duration": 3053,
    "start_time": "2022-10-23T08:35:23.920Z"
   },
   {
    "duration": 4,
    "start_time": "2022-10-23T08:35:49.000Z"
   },
   {
    "duration": 1748,
    "start_time": "2022-10-23T08:35:52.825Z"
   },
   {
    "duration": 4259,
    "start_time": "2022-10-23T08:36:00.346Z"
   },
   {
    "duration": 1807,
    "start_time": "2022-10-23T08:36:04.607Z"
   },
   {
    "duration": 1377,
    "start_time": "2022-10-23T08:36:06.415Z"
   },
   {
    "duration": 121,
    "start_time": "2022-10-23T08:36:07.795Z"
   },
   {
    "duration": 104,
    "start_time": "2022-10-23T08:36:07.918Z"
   },
   {
    "duration": 4,
    "start_time": "2022-10-23T08:36:08.024Z"
   },
   {
    "duration": 107,
    "start_time": "2022-10-23T08:36:08.030Z"
   },
   {
    "duration": 102,
    "start_time": "2022-10-23T08:36:08.139Z"
   },
   {
    "duration": 4,
    "start_time": "2022-10-23T08:36:08.243Z"
   },
   {
    "duration": 6316,
    "start_time": "2022-10-23T08:36:08.251Z"
   },
   {
    "duration": 25,
    "start_time": "2022-10-23T08:36:14.569Z"
   },
   {
    "duration": 27,
    "start_time": "2022-10-23T08:36:14.596Z"
   },
   {
    "duration": 84,
    "start_time": "2022-10-23T08:36:14.626Z"
   },
   {
    "duration": 106,
    "start_time": "2022-10-23T08:36:14.712Z"
   },
   {
    "duration": 49,
    "start_time": "2022-10-23T08:36:14.820Z"
   },
   {
    "duration": 90,
    "start_time": "2022-10-23T08:36:14.871Z"
   },
   {
    "duration": 180,
    "start_time": "2022-10-23T08:36:14.963Z"
   },
   {
    "duration": 5,
    "start_time": "2022-10-23T08:36:15.145Z"
   },
   {
    "duration": 107,
    "start_time": "2022-10-23T08:36:15.151Z"
   },
   {
    "duration": 144,
    "start_time": "2022-10-23T08:36:15.260Z"
   },
   {
    "duration": 136,
    "start_time": "2022-10-23T08:36:15.406Z"
   },
   {
    "duration": 57,
    "start_time": "2022-10-23T08:36:15.544Z"
   },
   {
    "duration": 1025,
    "start_time": "2022-10-23T08:36:15.603Z"
   },
   {
    "duration": 21324,
    "start_time": "2022-10-23T08:36:16.630Z"
   },
   {
    "duration": 81,
    "start_time": "2022-10-23T08:36:41.337Z"
   },
   {
    "duration": 89,
    "start_time": "2022-10-23T08:36:53.622Z"
   },
   {
    "duration": 4408,
    "start_time": "2022-10-23T08:37:11.454Z"
   },
   {
    "duration": 1896,
    "start_time": "2022-10-23T08:37:15.864Z"
   },
   {
    "duration": 1676,
    "start_time": "2022-10-23T08:37:17.762Z"
   },
   {
    "duration": 160,
    "start_time": "2022-10-23T08:37:19.441Z"
   },
   {
    "duration": 131,
    "start_time": "2022-10-23T08:37:19.605Z"
   },
   {
    "duration": 5,
    "start_time": "2022-10-23T08:37:19.738Z"
   },
   {
    "duration": 150,
    "start_time": "2022-10-23T08:37:19.745Z"
   },
   {
    "duration": 120,
    "start_time": "2022-10-23T08:37:19.897Z"
   },
   {
    "duration": 4,
    "start_time": "2022-10-23T08:37:20.019Z"
   },
   {
    "duration": 6727,
    "start_time": "2022-10-23T08:37:20.025Z"
   },
   {
    "duration": 22,
    "start_time": "2022-10-23T08:37:26.754Z"
   },
   {
    "duration": 122,
    "start_time": "2022-10-23T08:37:26.777Z"
   },
   {
    "duration": 68,
    "start_time": "2022-10-23T08:37:26.900Z"
   },
   {
    "duration": 98,
    "start_time": "2022-10-23T08:37:26.971Z"
   },
   {
    "duration": 51,
    "start_time": "2022-10-23T08:37:27.071Z"
   },
   {
    "duration": 159,
    "start_time": "2022-10-23T08:37:27.125Z"
   },
   {
    "duration": 264,
    "start_time": "2022-10-23T08:37:27.286Z"
   },
   {
    "duration": 7,
    "start_time": "2022-10-23T08:37:27.553Z"
   },
   {
    "duration": 119,
    "start_time": "2022-10-23T08:37:27.562Z"
   },
   {
    "duration": 111,
    "start_time": "2022-10-23T08:37:27.685Z"
   },
   {
    "duration": 2,
    "start_time": "2022-10-23T08:37:27.797Z"
   },
   {
    "duration": 62,
    "start_time": "2022-10-23T08:37:27.801Z"
   },
   {
    "duration": 1080,
    "start_time": "2022-10-23T08:37:27.864Z"
   },
   {
    "duration": 20901,
    "start_time": "2022-10-23T08:37:28.946Z"
   },
   {
    "duration": 1313,
    "start_time": "2022-10-23T08:46:48.499Z"
   },
   {
    "duration": 1824,
    "start_time": "2022-10-23T08:47:01.595Z"
   },
   {
    "duration": 108,
    "start_time": "2022-10-23T08:47:03.421Z"
   },
   {
    "duration": 103,
    "start_time": "2022-10-23T08:47:03.531Z"
   },
   {
    "duration": 4,
    "start_time": "2022-10-23T08:47:07.248Z"
   },
   {
    "duration": 86,
    "start_time": "2022-10-23T08:47:08.085Z"
   },
   {
    "duration": 13,
    "start_time": "2022-10-23T08:47:17.113Z"
   },
   {
    "duration": 135,
    "start_time": "2022-10-23T08:48:34.411Z"
   },
   {
    "duration": 105,
    "start_time": "2022-10-23T08:48:45.612Z"
   },
   {
    "duration": 142,
    "start_time": "2022-10-23T08:49:07.758Z"
   },
   {
    "duration": 115,
    "start_time": "2022-10-23T08:49:59.647Z"
   },
   {
    "duration": 109,
    "start_time": "2022-10-23T08:50:19.244Z"
   },
   {
    "duration": 14,
    "start_time": "2022-10-23T08:50:25.135Z"
   },
   {
    "duration": 108,
    "start_time": "2022-10-23T08:50:30.601Z"
   },
   {
    "duration": 98,
    "start_time": "2022-10-23T08:52:46.088Z"
   },
   {
    "duration": 32,
    "start_time": "2022-10-23T08:53:00.702Z"
   },
   {
    "duration": 24,
    "start_time": "2022-10-23T08:53:40.300Z"
   },
   {
    "duration": 27,
    "start_time": "2022-10-23T08:53:59.783Z"
   },
   {
    "duration": 35,
    "start_time": "2022-10-23T08:54:14.811Z"
   },
   {
    "duration": 24,
    "start_time": "2022-10-23T08:55:25.235Z"
   },
   {
    "duration": 14,
    "start_time": "2022-10-23T08:56:01.271Z"
   },
   {
    "duration": 13,
    "start_time": "2022-10-23T08:56:03.674Z"
   },
   {
    "duration": 13,
    "start_time": "2022-10-23T08:56:05.978Z"
   },
   {
    "duration": 8,
    "start_time": "2022-10-23T08:56:08.067Z"
   },
   {
    "duration": 26,
    "start_time": "2022-10-23T08:56:14.863Z"
   },
   {
    "duration": 8,
    "start_time": "2022-10-23T08:56:28.226Z"
   },
   {
    "duration": 25,
    "start_time": "2022-10-23T08:56:48.384Z"
   },
   {
    "duration": 22,
    "start_time": "2022-10-23T08:57:20.934Z"
   },
   {
    "duration": 130,
    "start_time": "2022-10-23T08:59:16.637Z"
   },
   {
    "duration": 107,
    "start_time": "2022-10-23T08:59:22.230Z"
   },
   {
    "duration": 113,
    "start_time": "2022-10-23T08:59:29.349Z"
   },
   {
    "duration": 103,
    "start_time": "2022-10-23T08:59:45.175Z"
   },
   {
    "duration": 282,
    "start_time": "2022-10-23T09:01:56.399Z"
   },
   {
    "duration": 141,
    "start_time": "2022-10-23T09:02:10.468Z"
   },
   {
    "duration": 158,
    "start_time": "2022-10-23T09:02:47.527Z"
   },
   {
    "duration": 72,
    "start_time": "2022-10-23T09:03:01.692Z"
   },
   {
    "duration": 141,
    "start_time": "2022-10-23T09:03:05.001Z"
   },
   {
    "duration": 138,
    "start_time": "2022-10-23T09:03:52.126Z"
   },
   {
    "duration": 49,
    "start_time": "2022-10-23T09:04:15.212Z"
   },
   {
    "duration": 70,
    "start_time": "2022-10-23T09:04:38.606Z"
   },
   {
    "duration": 27,
    "start_time": "2022-10-23T09:04:42.257Z"
   },
   {
    "duration": 12,
    "start_time": "2022-10-23T09:06:26.499Z"
   },
   {
    "duration": 28,
    "start_time": "2022-10-23T09:06:32.192Z"
   },
   {
    "duration": 13,
    "start_time": "2022-10-23T09:34:22.968Z"
   },
   {
    "duration": 1899,
    "start_time": "2022-10-23T09:34:28.923Z"
   },
   {
    "duration": 102,
    "start_time": "2022-10-23T09:34:31.302Z"
   },
   {
    "duration": 92,
    "start_time": "2022-10-23T09:34:31.865Z"
   },
   {
    "duration": 12,
    "start_time": "2022-10-23T09:37:56.161Z"
   },
   {
    "duration": 3,
    "start_time": "2022-10-23T09:37:57.474Z"
   },
   {
    "duration": 71,
    "start_time": "2022-10-23T09:38:19.789Z"
   },
   {
    "duration": 40,
    "start_time": "2022-10-23T09:38:27.037Z"
   },
   {
    "duration": 20,
    "start_time": "2022-10-23T09:38:44.070Z"
   },
   {
    "duration": 13,
    "start_time": "2022-10-23T09:39:38.223Z"
   },
   {
    "duration": 60,
    "start_time": "2022-10-23T09:39:49.959Z"
   },
   {
    "duration": 97,
    "start_time": "2022-10-23T09:39:51.794Z"
   },
   {
    "duration": 14,
    "start_time": "2022-10-23T09:39:58.490Z"
   },
   {
    "duration": 13,
    "start_time": "2022-10-23T09:40:06.947Z"
   },
   {
    "duration": 20,
    "start_time": "2022-10-23T09:40:09.162Z"
   },
   {
    "duration": 18,
    "start_time": "2022-10-23T09:40:16.052Z"
   },
   {
    "duration": 14,
    "start_time": "2022-10-23T09:40:21.550Z"
   },
   {
    "duration": 15,
    "start_time": "2022-10-23T09:40:56.197Z"
   },
   {
    "duration": 101,
    "start_time": "2022-10-23T10:07:23.503Z"
   },
   {
    "duration": 85,
    "start_time": "2022-10-23T10:07:34.497Z"
   },
   {
    "duration": 68,
    "start_time": "2022-10-23T10:07:39.882Z"
   },
   {
    "duration": 15,
    "start_time": "2022-10-23T10:07:42.725Z"
   },
   {
    "duration": 31,
    "start_time": "2022-10-23T10:08:05.110Z"
   },
   {
    "duration": 17,
    "start_time": "2022-10-23T10:08:07.001Z"
   },
   {
    "duration": 1643,
    "start_time": "2022-10-23T10:08:24.303Z"
   },
   {
    "duration": 138,
    "start_time": "2022-10-23T10:08:26.440Z"
   },
   {
    "duration": 3,
    "start_time": "2022-10-23T10:08:28.831Z"
   },
   {
    "duration": 221,
    "start_time": "2022-10-23T10:08:29.581Z"
   },
   {
    "duration": 39,
    "start_time": "2022-10-23T10:08:32.535Z"
   },
   {
    "duration": 18,
    "start_time": "2022-10-23T10:08:35.999Z"
   },
   {
    "duration": 15,
    "start_time": "2022-10-23T10:08:37.862Z"
   },
   {
    "duration": 6,
    "start_time": "2022-10-23T10:09:02.644Z"
   },
   {
    "duration": 7,
    "start_time": "2022-10-23T10:09:06.573Z"
   },
   {
    "duration": 5,
    "start_time": "2022-10-23T10:09:16.203Z"
   },
   {
    "duration": 8,
    "start_time": "2022-10-23T10:15:56.924Z"
   },
   {
    "duration": 16,
    "start_time": "2022-10-23T10:16:01.026Z"
   },
   {
    "duration": 14,
    "start_time": "2022-10-23T10:16:23.363Z"
   },
   {
    "duration": 15,
    "start_time": "2022-10-23T10:16:24.207Z"
   },
   {
    "duration": 146,
    "start_time": "2022-10-23T10:16:42.565Z"
   },
   {
    "duration": 122,
    "start_time": "2022-10-23T10:16:56.747Z"
   },
   {
    "duration": 68,
    "start_time": "2022-10-23T10:17:02.229Z"
   },
   {
    "duration": 150,
    "start_time": "2022-10-23T10:17:05.791Z"
   },
   {
    "duration": 253,
    "start_time": "2022-10-23T10:17:09.892Z"
   },
   {
    "duration": 170,
    "start_time": "2022-10-23T10:17:19.576Z"
   },
   {
    "duration": 127,
    "start_time": "2022-10-23T10:17:23.838Z"
   },
   {
    "duration": 242,
    "start_time": "2022-10-23T10:17:26.699Z"
   },
   {
    "duration": 228,
    "start_time": "2022-10-23T10:17:38.868Z"
   },
   {
    "duration": 240,
    "start_time": "2022-10-23T10:17:46.124Z"
   },
   {
    "duration": 5,
    "start_time": "2022-10-23T10:18:41.538Z"
   },
   {
    "duration": 96,
    "start_time": "2022-10-23T10:18:48.075Z"
   },
   {
    "duration": 5,
    "start_time": "2022-10-23T10:18:51.312Z"
   },
   {
    "duration": 28,
    "start_time": "2022-10-23T10:33:52.025Z"
   },
   {
    "duration": 17,
    "start_time": "2022-10-23T10:34:23.812Z"
   },
   {
    "duration": 1854,
    "start_time": "2022-10-23T10:34:36.103Z"
   },
   {
    "duration": 102,
    "start_time": "2022-10-23T10:34:39.396Z"
   },
   {
    "duration": 3,
    "start_time": "2022-10-23T10:34:40.204Z"
   },
   {
    "duration": 217,
    "start_time": "2022-10-23T10:34:41.544Z"
   },
   {
    "duration": 6,
    "start_time": "2022-10-23T10:34:41.834Z"
   },
   {
    "duration": 32,
    "start_time": "2022-10-23T10:34:43.879Z"
   },
   {
    "duration": 14,
    "start_time": "2022-10-23T10:34:44.592Z"
   },
   {
    "duration": 31,
    "start_time": "2022-10-23T10:34:46.372Z"
   },
   {
    "duration": 1358,
    "start_time": "2022-10-23T10:35:58.788Z"
   },
   {
    "duration": 121,
    "start_time": "2022-10-23T10:36:00.149Z"
   },
   {
    "duration": 3,
    "start_time": "2022-10-23T10:36:00.596Z"
   },
   {
    "duration": 223,
    "start_time": "2022-10-23T10:36:01.984Z"
   },
   {
    "duration": 5,
    "start_time": "2022-10-23T10:36:02.987Z"
   },
   {
    "duration": 32,
    "start_time": "2022-10-23T10:36:05.592Z"
   },
   {
    "duration": 14,
    "start_time": "2022-10-23T10:36:06.271Z"
   },
   {
    "duration": 34,
    "start_time": "2022-10-23T10:48:42.662Z"
   },
   {
    "duration": 72,
    "start_time": "2022-10-23T10:48:49.879Z"
   },
   {
    "duration": 21,
    "start_time": "2022-10-23T10:49:11.144Z"
   },
   {
    "duration": 60,
    "start_time": "2022-10-23T10:49:11.856Z"
   },
   {
    "duration": 24,
    "start_time": "2022-10-23T10:49:31.725Z"
   },
   {
    "duration": 55,
    "start_time": "2022-10-23T10:53:22.068Z"
   },
   {
    "duration": 12,
    "start_time": "2022-10-23T10:53:30.061Z"
   },
   {
    "duration": 44,
    "start_time": "2022-10-23T10:53:32.442Z"
   },
   {
    "duration": 29,
    "start_time": "2022-10-23T10:53:37.581Z"
   },
   {
    "duration": 114,
    "start_time": "2022-10-23T10:53:38.338Z"
   },
   {
    "duration": 31,
    "start_time": "2022-10-23T10:54:03.314Z"
   },
   {
    "duration": 15,
    "start_time": "2022-10-23T10:54:22.925Z"
   },
   {
    "duration": 28,
    "start_time": "2022-10-23T10:54:24.188Z"
   },
   {
    "duration": 12,
    "start_time": "2022-10-23T10:54:32.651Z"
   },
   {
    "duration": 29,
    "start_time": "2022-10-23T10:54:33.278Z"
   },
   {
    "duration": 4288,
    "start_time": "2022-10-23T10:58:18.204Z"
   },
   {
    "duration": 6,
    "start_time": "2022-10-23T10:58:26.473Z"
   },
   {
    "duration": 3502,
    "start_time": "2022-10-23T10:58:26.904Z"
   },
   {
    "duration": 116,
    "start_time": "2022-10-23T10:58:30.408Z"
   },
   {
    "duration": 14,
    "start_time": "2022-10-23T10:58:30.526Z"
   },
   {
    "duration": 216,
    "start_time": "2022-10-23T10:58:30.541Z"
   },
   {
    "duration": 6,
    "start_time": "2022-10-23T10:58:30.759Z"
   },
   {
    "duration": 46,
    "start_time": "2022-10-23T10:58:30.767Z"
   },
   {
    "duration": 13,
    "start_time": "2022-10-23T10:58:31.896Z"
   },
   {
    "duration": 41,
    "start_time": "2022-10-23T10:58:32.963Z"
   },
   {
    "duration": 17,
    "start_time": "2022-10-23T10:58:35.476Z"
   },
   {
    "duration": 70,
    "start_time": "2022-10-23T10:58:47.525Z"
   },
   {
    "duration": 111,
    "start_time": "2022-10-23T10:58:56.682Z"
   },
   {
    "duration": 43,
    "start_time": "2022-10-23T10:58:58.405Z"
   },
   {
    "duration": 79,
    "start_time": "2022-10-23T10:59:01.625Z"
   },
   {
    "duration": 154,
    "start_time": "2022-10-23T10:59:03.654Z"
   },
   {
    "duration": 5,
    "start_time": "2022-10-23T10:59:04.536Z"
   },
   {
    "duration": 53,
    "start_time": "2022-10-23T10:59:08.428Z"
   },
   {
    "duration": 62,
    "start_time": "2022-10-23T10:59:25.683Z"
   },
   {
    "duration": 68,
    "start_time": "2022-10-23T10:59:32.588Z"
   },
   {
    "duration": 4174,
    "start_time": "2022-10-23T11:03:42.683Z"
   },
   {
    "duration": 1628,
    "start_time": "2022-10-23T11:03:46.860Z"
   },
   {
    "duration": 2087,
    "start_time": "2022-10-23T11:03:48.490Z"
   },
   {
    "duration": 119,
    "start_time": "2022-10-23T11:03:50.579Z"
   },
   {
    "duration": 3,
    "start_time": "2022-10-23T11:03:50.699Z"
   },
   {
    "duration": 252,
    "start_time": "2022-10-23T11:03:50.704Z"
   },
   {
    "duration": 6,
    "start_time": "2022-10-23T11:03:50.958Z"
   },
   {
    "duration": 43,
    "start_time": "2022-10-23T11:03:50.966Z"
   },
   {
    "duration": 13,
    "start_time": "2022-10-23T11:03:51.011Z"
   },
   {
    "duration": 53,
    "start_time": "2022-10-23T11:03:51.026Z"
   },
   {
    "duration": 13,
    "start_time": "2022-10-23T11:03:51.091Z"
   },
   {
    "duration": 67,
    "start_time": "2022-10-23T11:03:51.105Z"
   },
   {
    "duration": 101,
    "start_time": "2022-10-23T11:03:51.174Z"
   },
   {
    "duration": 44,
    "start_time": "2022-10-23T11:03:51.276Z"
   },
   {
    "duration": 84,
    "start_time": "2022-10-23T11:03:51.322Z"
   },
   {
    "duration": 152,
    "start_time": "2022-10-23T11:03:51.407Z"
   },
   {
    "duration": 5,
    "start_time": "2022-10-23T11:03:51.561Z"
   },
   {
    "duration": 65,
    "start_time": "2022-10-23T11:03:51.567Z"
   },
   {
    "duration": 75,
    "start_time": "2022-10-23T11:03:51.634Z"
   },
   {
    "duration": 67,
    "start_time": "2022-10-23T11:03:51.711Z"
   },
   {
    "duration": 865,
    "start_time": "2022-10-23T11:03:51.780Z"
   },
   {
    "duration": 3401,
    "start_time": "2022-10-23T11:03:52.646Z"
   },
   {
    "duration": 114,
    "start_time": "2022-10-23T11:05:52.556Z"
   },
   {
    "duration": 4,
    "start_time": "2022-10-23T11:05:56.316Z"
   },
   {
    "duration": 3,
    "start_time": "2022-10-23T11:06:14.389Z"
   },
   {
    "duration": 4100,
    "start_time": "2022-10-23T11:42:00.595Z"
   },
   {
    "duration": 1631,
    "start_time": "2022-10-23T11:42:04.697Z"
   },
   {
    "duration": 2227,
    "start_time": "2022-10-23T11:42:06.330Z"
   },
   {
    "duration": 120,
    "start_time": "2022-10-23T11:42:08.559Z"
   },
   {
    "duration": 10,
    "start_time": "2022-10-23T11:42:08.681Z"
   },
   {
    "duration": 262,
    "start_time": "2022-10-23T11:42:08.692Z"
   },
   {
    "duration": 8,
    "start_time": "2022-10-23T11:42:08.956Z"
   },
   {
    "duration": 48,
    "start_time": "2022-10-23T11:42:08.966Z"
   },
   {
    "duration": 17,
    "start_time": "2022-10-23T11:42:09.015Z"
   },
   {
    "duration": 62,
    "start_time": "2022-10-23T11:42:09.035Z"
   },
   {
    "duration": 13,
    "start_time": "2022-10-23T11:42:09.099Z"
   },
   {
    "duration": 78,
    "start_time": "2022-10-23T11:42:09.114Z"
   },
   {
    "duration": 83,
    "start_time": "2022-10-23T11:42:09.193Z"
   },
   {
    "duration": 37,
    "start_time": "2022-10-23T11:42:09.291Z"
   },
   {
    "duration": 91,
    "start_time": "2022-10-23T11:42:09.330Z"
   },
   {
    "duration": 159,
    "start_time": "2022-10-23T11:42:09.422Z"
   },
   {
    "duration": 9,
    "start_time": "2022-10-23T11:42:09.583Z"
   },
   {
    "duration": 66,
    "start_time": "2022-10-23T11:42:09.594Z"
   },
   {
    "duration": 82,
    "start_time": "2022-10-23T11:42:09.662Z"
   },
   {
    "duration": 76,
    "start_time": "2022-10-23T11:42:09.745Z"
   },
   {
    "duration": 869,
    "start_time": "2022-10-23T11:42:09.823Z"
   },
   {
    "duration": 3315,
    "start_time": "2022-10-23T11:42:10.694Z"
   },
   {
    "duration": 5,
    "start_time": "2022-10-23T11:51:18.138Z"
   },
   {
    "duration": 128,
    "start_time": "2022-10-23T11:51:21.051Z"
   },
   {
    "duration": 242,
    "start_time": "2022-10-23T11:51:33.879Z"
   },
   {
    "duration": 144,
    "start_time": "2022-10-23T11:51:42.015Z"
   },
   {
    "duration": 27,
    "start_time": "2022-10-23T11:52:04.707Z"
   },
   {
    "duration": 25,
    "start_time": "2022-10-23T11:52:14.833Z"
   },
   {
    "duration": 37,
    "start_time": "2022-10-23T11:52:19.609Z"
   },
   {
    "duration": 141,
    "start_time": "2022-10-23T11:52:31.620Z"
   },
   {
    "duration": 128,
    "start_time": "2022-10-23T11:52:43.402Z"
   },
   {
    "duration": 235,
    "start_time": "2022-10-23T11:52:47.566Z"
   },
   {
    "duration": 938,
    "start_time": "2022-10-23T11:53:39.574Z"
   },
   {
    "duration": 854,
    "start_time": "2022-10-23T11:58:43.730Z"
   },
   {
    "duration": 963,
    "start_time": "2022-10-23T11:58:58.062Z"
   },
   {
    "duration": 743,
    "start_time": "2022-10-23T12:02:01.920Z"
   },
   {
    "duration": 948,
    "start_time": "2022-10-23T12:02:17.996Z"
   },
   {
    "duration": 1250,
    "start_time": "2022-10-23T12:02:29.394Z"
   },
   {
    "duration": 891,
    "start_time": "2022-10-23T12:02:38.534Z"
   },
   {
    "duration": 442,
    "start_time": "2022-10-23T12:04:13.719Z"
   },
   {
    "duration": 180,
    "start_time": "2022-10-23T12:04:20.551Z"
   },
   {
    "duration": 661,
    "start_time": "2022-10-23T12:06:48.926Z"
   },
   {
    "duration": 682,
    "start_time": "2022-10-23T12:07:03.069Z"
   },
   {
    "duration": 937,
    "start_time": "2022-10-23T12:07:14.663Z"
   },
   {
    "duration": 835,
    "start_time": "2022-10-23T12:07:21.403Z"
   },
   {
    "duration": 432,
    "start_time": "2022-10-23T12:07:33.181Z"
   },
   {
    "duration": 1022,
    "start_time": "2022-10-23T12:08:16.094Z"
   },
   {
    "duration": 709,
    "start_time": "2022-10-23T12:09:50.266Z"
   },
   {
    "duration": 1052,
    "start_time": "2022-10-23T12:09:59.665Z"
   },
   {
    "duration": 1032,
    "start_time": "2022-10-23T12:12:42.136Z"
   },
   {
    "duration": 185,
    "start_time": "2022-10-23T12:17:48.166Z"
   },
   {
    "duration": 184,
    "start_time": "2022-10-23T12:17:54.677Z"
   },
   {
    "duration": 262,
    "start_time": "2022-10-23T12:18:14.375Z"
   },
   {
    "duration": 3538,
    "start_time": "2022-10-23T12:18:14.640Z"
   },
   {
    "duration": 230,
    "start_time": "2022-10-23T12:18:19.862Z"
   },
   {
    "duration": 16,
    "start_time": "2022-10-23T12:20:35.338Z"
   },
   {
    "duration": 256,
    "start_time": "2022-10-23T12:21:06.431Z"
   },
   {
    "duration": 213,
    "start_time": "2022-10-23T12:21:20.284Z"
   },
   {
    "duration": 199,
    "start_time": "2022-10-23T12:21:25.081Z"
   },
   {
    "duration": 231,
    "start_time": "2022-10-23T12:21:36.265Z"
   },
   {
    "duration": 9,
    "start_time": "2022-10-23T12:24:44.124Z"
   },
   {
    "duration": 9,
    "start_time": "2022-10-23T12:25:02.696Z"
   },
   {
    "duration": 10,
    "start_time": "2022-10-23T12:25:06.740Z"
   },
   {
    "duration": 76,
    "start_time": "2022-10-23T12:26:14.634Z"
   },
   {
    "duration": 544,
    "start_time": "2022-10-23T12:26:18.481Z"
   },
   {
    "duration": 1427,
    "start_time": "2022-10-23T12:26:35.554Z"
   },
   {
    "duration": 18,
    "start_time": "2022-10-23T12:41:35.607Z"
   },
   {
    "duration": 22,
    "start_time": "2022-10-23T12:41:42.522Z"
   },
   {
    "duration": 4,
    "start_time": "2022-10-23T12:41:53.347Z"
   },
   {
    "duration": 3027,
    "start_time": "2022-10-23T12:42:18.201Z"
   },
   {
    "duration": 3340,
    "start_time": "2022-10-23T12:44:26.922Z"
   },
   {
    "duration": 3235,
    "start_time": "2022-10-23T12:44:45.674Z"
   },
   {
    "duration": 3512,
    "start_time": "2022-10-23T12:45:14.181Z"
   },
   {
    "duration": 3449,
    "start_time": "2022-10-23T12:45:59.368Z"
   },
   {
    "duration": 3255,
    "start_time": "2022-10-23T12:46:19.988Z"
   },
   {
    "duration": 3971,
    "start_time": "2022-10-23T12:47:07.185Z"
   },
   {
    "duration": 3057,
    "start_time": "2022-10-23T12:47:47.447Z"
   },
   {
    "duration": 3904,
    "start_time": "2022-10-23T12:49:02.209Z"
   },
   {
    "duration": 3235,
    "start_time": "2022-10-23T12:56:10.318Z"
   },
   {
    "duration": 11217,
    "start_time": "2022-10-23T12:57:25.525Z"
   },
   {
    "duration": 43,
    "start_time": "2022-10-23T12:59:57.770Z"
   },
   {
    "duration": 26,
    "start_time": "2022-10-23T13:00:04.688Z"
   },
   {
    "duration": 4,
    "start_time": "2022-10-23T13:00:24.181Z"
   },
   {
    "duration": 25,
    "start_time": "2022-10-23T13:00:29.124Z"
   },
   {
    "duration": 4431,
    "start_time": "2022-10-23T13:00:30.351Z"
   },
   {
    "duration": 21,
    "start_time": "2022-10-23T13:00:58.092Z"
   },
   {
    "duration": 5,
    "start_time": "2022-10-23T13:01:11.523Z"
   },
   {
    "duration": 21,
    "start_time": "2022-10-23T13:01:32.725Z"
   },
   {
    "duration": 4,
    "start_time": "2022-10-23T13:01:33.603Z"
   },
   {
    "duration": 4722,
    "start_time": "2022-10-23T13:01:34.936Z"
   },
   {
    "duration": 19,
    "start_time": "2022-10-23T13:01:54.025Z"
   },
   {
    "duration": 4,
    "start_time": "2022-10-23T13:01:54.650Z"
   },
   {
    "duration": 4152,
    "start_time": "2022-10-23T13:01:57.045Z"
   },
   {
    "duration": 6,
    "start_time": "2022-10-23T13:07:29.121Z"
   },
   {
    "duration": 35,
    "start_time": "2022-10-23T13:08:00.928Z"
   },
   {
    "duration": 15,
    "start_time": "2022-10-23T13:13:32.048Z"
   },
   {
    "duration": 16,
    "start_time": "2022-10-23T13:14:09.481Z"
   },
   {
    "duration": 5,
    "start_time": "2022-10-23T13:15:03.582Z"
   },
   {
    "duration": 78,
    "start_time": "2022-10-23T13:15:52.440Z"
   },
   {
    "duration": 110,
    "start_time": "2022-10-23T13:16:11.093Z"
   },
   {
    "duration": 13,
    "start_time": "2022-10-23T13:17:20.591Z"
   },
   {
    "duration": 395676,
    "start_time": "2022-10-23T13:17:34.222Z"
   },
   {
    "duration": 58,
    "start_time": "2022-10-23T15:02:50.378Z"
   },
   {
    "duration": 72,
    "start_time": "2022-10-23T15:03:18.251Z"
   },
   {
    "duration": 1392921,
    "start_time": "2022-10-23T15:06:04.191Z"
   },
   {
    "duration": 168695,
    "start_time": "2022-10-23T15:29:52.018Z"
   },
   {
    "duration": 2172458,
    "start_time": "2022-10-23T15:45:14.062Z"
   },
   {
    "duration": 45,
    "start_time": "2022-10-24T13:20:50.111Z"
   },
   {
    "duration": 15076,
    "start_time": "2022-10-24T13:20:59.310Z"
   },
   {
    "duration": 1826,
    "start_time": "2022-10-24T13:21:28.517Z"
   },
   {
    "duration": 2441,
    "start_time": "2022-10-24T13:21:30.345Z"
   },
   {
    "duration": 132,
    "start_time": "2022-10-24T13:21:32.788Z"
   },
   {
    "duration": 4,
    "start_time": "2022-10-24T13:21:32.922Z"
   },
   {
    "duration": 281,
    "start_time": "2022-10-24T13:21:32.927Z"
   },
   {
    "duration": 6,
    "start_time": "2022-10-24T13:21:33.210Z"
   },
   {
    "duration": 35,
    "start_time": "2022-10-24T13:21:33.218Z"
   },
   {
    "duration": 28,
    "start_time": "2022-10-24T13:21:33.255Z"
   },
   {
    "duration": 48,
    "start_time": "2022-10-24T13:21:33.286Z"
   },
   {
    "duration": 12,
    "start_time": "2022-10-24T13:21:33.336Z"
   },
   {
    "duration": 67,
    "start_time": "2022-10-24T13:21:33.920Z"
   },
   {
    "duration": 86,
    "start_time": "2022-10-24T13:21:34.309Z"
   },
   {
    "duration": 42,
    "start_time": "2022-10-24T13:21:34.509Z"
   },
   {
    "duration": 75,
    "start_time": "2022-10-24T13:21:34.958Z"
   },
   {
    "duration": 178,
    "start_time": "2022-10-24T13:21:35.275Z"
   },
   {
    "duration": 5,
    "start_time": "2022-10-24T13:21:35.578Z"
   },
   {
    "duration": 58,
    "start_time": "2022-10-24T13:21:36.130Z"
   },
   {
    "duration": 62,
    "start_time": "2022-10-24T13:21:36.517Z"
   },
   {
    "duration": 66,
    "start_time": "2022-10-24T13:21:37.763Z"
   },
   {
    "duration": 893,
    "start_time": "2022-10-24T13:21:38.234Z"
   },
   {
    "duration": 1365,
    "start_time": "2022-10-24T13:21:44.417Z"
   },
   {
    "duration": 21,
    "start_time": "2022-10-24T13:21:47.236Z"
   },
   {
    "duration": 4428,
    "start_time": "2022-10-24T13:21:47.580Z"
   },
   {
    "duration": 6,
    "start_time": "2022-10-24T13:21:52.011Z"
   },
   {
    "duration": 60,
    "start_time": "2022-10-24T13:21:52.019Z"
   },
   {
    "duration": 22,
    "start_time": "2022-10-24T13:21:52.081Z"
   },
   {
    "duration": 3,
    "start_time": "2022-10-24T13:23:43.167Z"
   },
   {
    "duration": 582,
    "start_time": "2022-10-24T13:31:01.359Z"
   },
   {
    "duration": 11,
    "start_time": "2022-10-24T13:31:41.661Z"
   },
   {
    "duration": 3,
    "start_time": "2022-10-24T13:31:58.685Z"
   },
   {
    "duration": 3,
    "start_time": "2022-10-24T13:32:13.933Z"
   }
  ],
  "accelerator": "GPU",
  "colab": {
   "collapsed_sections": [],
   "provenance": []
  },
  "kernelspec": {
   "display_name": "Python 3 (ipykernel)",
   "language": "python",
   "name": "python3"
  },
  "language_info": {
   "codemirror_mode": {
    "name": "ipython",
    "version": 3
   },
   "file_extension": ".py",
   "mimetype": "text/x-python",
   "name": "python",
   "nbconvert_exporter": "python",
   "pygments_lexer": "ipython3",
   "version": "3.9.12"
  },
  "toc": {
   "base_numbering": 1,
   "nav_menu": {},
   "number_sections": true,
   "sideBar": true,
   "skip_h1_title": true,
   "title_cell": "Table of Contents",
   "title_sidebar": "Contents",
   "toc_cell": true,
   "toc_position": {},
   "toc_section_display": true,
   "toc_window_display": false
  },
  "vscode": {
   "interpreter": {
    "hash": "e42901d9492c612649bfe5bc45fcd722e20e946cf8622850b2a92552b6453078"
   }
  }
 },
 "nbformat": 4,
 "nbformat_minor": 1
}
