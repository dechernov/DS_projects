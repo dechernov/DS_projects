{
 "cells": [
  {
   "cell_type": "markdown",
   "metadata": {
    "toc": true
   },
   "source": [
    "<h1>Table of Contents<span class=\"tocSkip\"></span></h1>\n",
    "<div class=\"toc\"><ul class=\"toc-item\"><li><span><a href=\"#Project-description\" data-toc-modified-id=\"Project-description-1\"><span class=\"toc-item-num\">1&nbsp;&nbsp;</span>Project description</a></span></li><li><span><a href=\"#Data-description\" data-toc-modified-id=\"Data-description-2\"><span class=\"toc-item-num\">2&nbsp;&nbsp;</span>Data description</a></span></li><li><span><a href=\"#Data-loading\" data-toc-modified-id=\"Data-loading-3\"><span class=\"toc-item-num\">3&nbsp;&nbsp;</span>Data loading</a></span><ul class=\"toc-item\"><li><span><a href=\"#Conclusions\" data-toc-modified-id=\"Conclusions-3.1\"><span class=\"toc-item-num\">3.1&nbsp;&nbsp;</span>Conclusions</a></span></li></ul></li><li><span><a href=\"#Multiplying-matrices\" data-toc-modified-id=\"Multiplying-matrices-4\"><span class=\"toc-item-num\">4&nbsp;&nbsp;</span>Multiplying matrices</a></span><ul class=\"toc-item\"><li><span><a href=\"#Conclusion\" data-toc-modified-id=\"Conclusion-4.1\"><span class=\"toc-item-num\">4.1&nbsp;&nbsp;</span>Conclusion</a></span></li></ul></li><li><span><a href=\"#Algorithm-of-transformation\" data-toc-modified-id=\"Algorithm-of-transformation-5\"><span class=\"toc-item-num\">5&nbsp;&nbsp;</span>Algorithm of transformation</a></span></li><li><span><a href=\"#Checking-algorithm\" data-toc-modified-id=\"Checking-algorithm-6\"><span class=\"toc-item-num\">6&nbsp;&nbsp;</span>Checking algorithm</a></span></li><li><span><a href=\"#Summary\" data-toc-modified-id=\"Summary-7\"><span class=\"toc-item-num\">7&nbsp;&nbsp;</span>Summary</a></span></li></ul></div>"
   ]
  },
  {
   "cell_type": "markdown",
   "metadata": {},
   "source": [
    "# Protecting customers' personal information"
   ]
  },
  {
   "cell_type": "markdown",
   "metadata": {},
   "source": [
    "## Project description"
   ]
  },
  {
   "cell_type": "markdown",
   "metadata": {},
   "source": [
    "**Brief information:** insurance company plans to use data encryption to keep personal information secure.\n",
    "\n",
    "**Objective:** protect user data from leaks as the company develops machine learning models.\n",
    "\n",
    "**Tasks:** develop a method for transforming user data to make it harder to recover personal information, while not degrading the quality of machine learning models."
   ]
  },
  {
   "cell_type": "markdown",
   "metadata": {},
   "source": [
    "## Data description"
   ]
  },
  {
   "cell_type": "markdown",
   "metadata": {},
   "source": [
    "Dataset contains one table with the following columns:\n",
    "* `Пол` — clients gender;\n",
    "* `Возраст` — clients age;\n",
    "* `Зарплата` — clients salary;\n",
    "* `Члены семьи` — number of people in the client's family;\n",
    "* `Страховые выплаты` — number of insurance payments to the client in the last 5 years."
   ]
  },
  {
   "cell_type": "markdown",
   "metadata": {},
   "source": [
    "## Data loading"
   ]
  },
  {
   "cell_type": "code",
   "execution_count": 1,
   "metadata": {},
   "outputs": [],
   "source": [
    "import pandas as pd\n",
    "import numpy as np\n",
    "\n",
    "from sklearn.datasets import make_spd_matrix\n",
    "from sklearn.model_selection import train_test_split\n",
    "from sklearn.linear_model import LinearRegression\n",
    "from sklearn.metrics import r2_score\n",
    "from numpy.linalg import inv, cond, matrix_rank"
   ]
  },
  {
   "cell_type": "code",
   "execution_count": 2,
   "metadata": {},
   "outputs": [],
   "source": [
    "data = pd.read_csv('https://code.s3.yandex.net/datasets/insurance.csv')"
   ]
  },
  {
   "cell_type": "code",
   "execution_count": 3,
   "metadata": {},
   "outputs": [
    {
     "name": "stdout",
     "output_type": "stream",
     "text": [
      "<class 'pandas.core.frame.DataFrame'>\n",
      "RangeIndex: 5000 entries, 0 to 4999\n",
      "Data columns (total 5 columns):\n",
      " #   Column             Non-Null Count  Dtype  \n",
      "---  ------             --------------  -----  \n",
      " 0   Пол                5000 non-null   int64  \n",
      " 1   Возраст            5000 non-null   float64\n",
      " 2   Зарплата           5000 non-null   float64\n",
      " 3   Члены семьи        5000 non-null   int64  \n",
      " 4   Страховые выплаты  5000 non-null   int64  \n",
      "dtypes: float64(2), int64(3)\n",
      "memory usage: 195.4 KB\n"
     ]
    }
   ],
   "source": [
    "data.info()"
   ]
  },
  {
   "cell_type": "code",
   "execution_count": 4,
   "metadata": {},
   "outputs": [
    {
     "data": {
      "text/html": [
       "<div>\n",
       "<style scoped>\n",
       "    .dataframe tbody tr th:only-of-type {\n",
       "        vertical-align: middle;\n",
       "    }\n",
       "\n",
       "    .dataframe tbody tr th {\n",
       "        vertical-align: top;\n",
       "    }\n",
       "\n",
       "    .dataframe thead th {\n",
       "        text-align: right;\n",
       "    }\n",
       "</style>\n",
       "<table border=\"1\" class=\"dataframe\">\n",
       "  <thead>\n",
       "    <tr style=\"text-align: right;\">\n",
       "      <th></th>\n",
       "      <th>Пол</th>\n",
       "      <th>Возраст</th>\n",
       "      <th>Зарплата</th>\n",
       "      <th>Члены семьи</th>\n",
       "      <th>Страховые выплаты</th>\n",
       "    </tr>\n",
       "  </thead>\n",
       "  <tbody>\n",
       "    <tr>\n",
       "      <th>count</th>\n",
       "      <td>5000.000000</td>\n",
       "      <td>5000.000000</td>\n",
       "      <td>5000.000000</td>\n",
       "      <td>5000.000000</td>\n",
       "      <td>5000.000000</td>\n",
       "    </tr>\n",
       "    <tr>\n",
       "      <th>mean</th>\n",
       "      <td>0.499000</td>\n",
       "      <td>30.952800</td>\n",
       "      <td>39916.360000</td>\n",
       "      <td>1.194200</td>\n",
       "      <td>0.148000</td>\n",
       "    </tr>\n",
       "    <tr>\n",
       "      <th>std</th>\n",
       "      <td>0.500049</td>\n",
       "      <td>8.440807</td>\n",
       "      <td>9900.083569</td>\n",
       "      <td>1.091387</td>\n",
       "      <td>0.463183</td>\n",
       "    </tr>\n",
       "    <tr>\n",
       "      <th>min</th>\n",
       "      <td>0.000000</td>\n",
       "      <td>18.000000</td>\n",
       "      <td>5300.000000</td>\n",
       "      <td>0.000000</td>\n",
       "      <td>0.000000</td>\n",
       "    </tr>\n",
       "    <tr>\n",
       "      <th>25%</th>\n",
       "      <td>0.000000</td>\n",
       "      <td>24.000000</td>\n",
       "      <td>33300.000000</td>\n",
       "      <td>0.000000</td>\n",
       "      <td>0.000000</td>\n",
       "    </tr>\n",
       "    <tr>\n",
       "      <th>50%</th>\n",
       "      <td>0.000000</td>\n",
       "      <td>30.000000</td>\n",
       "      <td>40200.000000</td>\n",
       "      <td>1.000000</td>\n",
       "      <td>0.000000</td>\n",
       "    </tr>\n",
       "    <tr>\n",
       "      <th>75%</th>\n",
       "      <td>1.000000</td>\n",
       "      <td>37.000000</td>\n",
       "      <td>46600.000000</td>\n",
       "      <td>2.000000</td>\n",
       "      <td>0.000000</td>\n",
       "    </tr>\n",
       "    <tr>\n",
       "      <th>max</th>\n",
       "      <td>1.000000</td>\n",
       "      <td>65.000000</td>\n",
       "      <td>79000.000000</td>\n",
       "      <td>6.000000</td>\n",
       "      <td>5.000000</td>\n",
       "    </tr>\n",
       "  </tbody>\n",
       "</table>\n",
       "</div>"
      ],
      "text/plain": [
       "               Пол      Возраст      Зарплата  Члены семьи  Страховые выплаты\n",
       "count  5000.000000  5000.000000   5000.000000  5000.000000        5000.000000\n",
       "mean      0.499000    30.952800  39916.360000     1.194200           0.148000\n",
       "std       0.500049     8.440807   9900.083569     1.091387           0.463183\n",
       "min       0.000000    18.000000   5300.000000     0.000000           0.000000\n",
       "25%       0.000000    24.000000  33300.000000     0.000000           0.000000\n",
       "50%       0.000000    30.000000  40200.000000     1.000000           0.000000\n",
       "75%       1.000000    37.000000  46600.000000     2.000000           0.000000\n",
       "max       1.000000    65.000000  79000.000000     6.000000           5.000000"
      ]
     },
     "execution_count": 4,
     "metadata": {},
     "output_type": "execute_result"
    }
   ],
   "source": [
    "data.describe()"
   ]
  },
  {
   "cell_type": "code",
   "execution_count": 5,
   "metadata": {},
   "outputs": [
    {
     "data": {
      "text/html": [
       "<div>\n",
       "<style scoped>\n",
       "    .dataframe tbody tr th:only-of-type {\n",
       "        vertical-align: middle;\n",
       "    }\n",
       "\n",
       "    .dataframe tbody tr th {\n",
       "        vertical-align: top;\n",
       "    }\n",
       "\n",
       "    .dataframe thead th {\n",
       "        text-align: right;\n",
       "    }\n",
       "</style>\n",
       "<table border=\"1\" class=\"dataframe\">\n",
       "  <thead>\n",
       "    <tr style=\"text-align: right;\">\n",
       "      <th></th>\n",
       "      <th>Пол</th>\n",
       "      <th>Возраст</th>\n",
       "      <th>Зарплата</th>\n",
       "      <th>Члены семьи</th>\n",
       "      <th>Страховые выплаты</th>\n",
       "    </tr>\n",
       "  </thead>\n",
       "  <tbody>\n",
       "    <tr>\n",
       "      <th>0</th>\n",
       "      <td>1</td>\n",
       "      <td>41.0</td>\n",
       "      <td>49600.0</td>\n",
       "      <td>1</td>\n",
       "      <td>0</td>\n",
       "    </tr>\n",
       "    <tr>\n",
       "      <th>1</th>\n",
       "      <td>0</td>\n",
       "      <td>46.0</td>\n",
       "      <td>38000.0</td>\n",
       "      <td>1</td>\n",
       "      <td>1</td>\n",
       "    </tr>\n",
       "    <tr>\n",
       "      <th>2</th>\n",
       "      <td>0</td>\n",
       "      <td>29.0</td>\n",
       "      <td>21000.0</td>\n",
       "      <td>0</td>\n",
       "      <td>0</td>\n",
       "    </tr>\n",
       "    <tr>\n",
       "      <th>3</th>\n",
       "      <td>0</td>\n",
       "      <td>21.0</td>\n",
       "      <td>41700.0</td>\n",
       "      <td>2</td>\n",
       "      <td>0</td>\n",
       "    </tr>\n",
       "    <tr>\n",
       "      <th>4</th>\n",
       "      <td>1</td>\n",
       "      <td>28.0</td>\n",
       "      <td>26100.0</td>\n",
       "      <td>0</td>\n",
       "      <td>0</td>\n",
       "    </tr>\n",
       "  </tbody>\n",
       "</table>\n",
       "</div>"
      ],
      "text/plain": [
       "   Пол  Возраст  Зарплата  Члены семьи  Страховые выплаты\n",
       "0    1     41.0   49600.0            1                  0\n",
       "1    0     46.0   38000.0            1                  1\n",
       "2    0     29.0   21000.0            0                  0\n",
       "3    0     21.0   41700.0            2                  0\n",
       "4    1     28.0   26100.0            0                  0"
      ]
     },
     "execution_count": 5,
     "metadata": {},
     "output_type": "execute_result"
    }
   ],
   "source": [
    "data.head()"
   ]
  },
  {
   "cell_type": "markdown",
   "metadata": {},
   "source": [
    "This dataset consists of 5 columns, where the target value is the column characterizing the number of insurance payments to the client in the last 5 years. The remaining columns are features and characterize the socio-demographic profile (gender, age, number of family members) and the consumer profile (salary of the client).\n",
    "\n",
    "A quick exploratory analysis of the data revealed no missing values or anomalies in the data set.\n",
    "\n",
    "Next, we'll check the data for explicit duplicates."
   ]
  },
  {
   "cell_type": "code",
   "execution_count": 6,
   "metadata": {},
   "outputs": [
    {
     "name": "stdout",
     "output_type": "stream",
     "text": [
      "Number of duplicates: 153\n"
     ]
    }
   ],
   "source": [
    "#checking for duplicates\n",
    "print(f'Number of duplicates: {data.duplicated().sum()}')"
   ]
  },
  {
   "cell_type": "code",
   "execution_count": 7,
   "metadata": {},
   "outputs": [
    {
     "data": {
      "text/html": [
       "<div>\n",
       "<style scoped>\n",
       "    .dataframe tbody tr th:only-of-type {\n",
       "        vertical-align: middle;\n",
       "    }\n",
       "\n",
       "    .dataframe tbody tr th {\n",
       "        vertical-align: top;\n",
       "    }\n",
       "\n",
       "    .dataframe thead th {\n",
       "        text-align: right;\n",
       "    }\n",
       "</style>\n",
       "<table border=\"1\" class=\"dataframe\">\n",
       "  <thead>\n",
       "    <tr style=\"text-align: right;\">\n",
       "      <th></th>\n",
       "      <th>Пол</th>\n",
       "      <th>Возраст</th>\n",
       "      <th>Зарплата</th>\n",
       "      <th>Члены семьи</th>\n",
       "      <th>Страховые выплаты</th>\n",
       "    </tr>\n",
       "  </thead>\n",
       "  <tbody>\n",
       "    <tr>\n",
       "      <th>1566</th>\n",
       "      <td>1</td>\n",
       "      <td>18.0</td>\n",
       "      <td>39800.0</td>\n",
       "      <td>2</td>\n",
       "      <td>0</td>\n",
       "    </tr>\n",
       "    <tr>\n",
       "      <th>2429</th>\n",
       "      <td>1</td>\n",
       "      <td>18.0</td>\n",
       "      <td>39800.0</td>\n",
       "      <td>2</td>\n",
       "      <td>0</td>\n",
       "    </tr>\n",
       "    <tr>\n",
       "      <th>2694</th>\n",
       "      <td>1</td>\n",
       "      <td>19.0</td>\n",
       "      <td>52600.0</td>\n",
       "      <td>0</td>\n",
       "      <td>0</td>\n",
       "    </tr>\n",
       "    <tr>\n",
       "      <th>712</th>\n",
       "      <td>1</td>\n",
       "      <td>19.0</td>\n",
       "      <td>52600.0</td>\n",
       "      <td>0</td>\n",
       "      <td>0</td>\n",
       "    </tr>\n",
       "    <tr>\n",
       "      <th>851</th>\n",
       "      <td>0</td>\n",
       "      <td>19.0</td>\n",
       "      <td>51700.0</td>\n",
       "      <td>0</td>\n",
       "      <td>0</td>\n",
       "    </tr>\n",
       "    <tr>\n",
       "      <th>887</th>\n",
       "      <td>1</td>\n",
       "      <td>19.0</td>\n",
       "      <td>35500.0</td>\n",
       "      <td>0</td>\n",
       "      <td>0</td>\n",
       "    </tr>\n",
       "    <tr>\n",
       "      <th>664</th>\n",
       "      <td>1</td>\n",
       "      <td>19.0</td>\n",
       "      <td>35500.0</td>\n",
       "      <td>0</td>\n",
       "      <td>0</td>\n",
       "    </tr>\n",
       "    <tr>\n",
       "      <th>1336</th>\n",
       "      <td>1</td>\n",
       "      <td>19.0</td>\n",
       "      <td>32700.0</td>\n",
       "      <td>0</td>\n",
       "      <td>0</td>\n",
       "    </tr>\n",
       "    <tr>\n",
       "      <th>1751</th>\n",
       "      <td>0</td>\n",
       "      <td>19.0</td>\n",
       "      <td>38600.0</td>\n",
       "      <td>0</td>\n",
       "      <td>0</td>\n",
       "    </tr>\n",
       "    <tr>\n",
       "      <th>1990</th>\n",
       "      <td>1</td>\n",
       "      <td>19.0</td>\n",
       "      <td>41600.0</td>\n",
       "      <td>1</td>\n",
       "      <td>0</td>\n",
       "    </tr>\n",
       "    <tr>\n",
       "      <th>2269</th>\n",
       "      <td>1</td>\n",
       "      <td>19.0</td>\n",
       "      <td>43200.0</td>\n",
       "      <td>1</td>\n",
       "      <td>0</td>\n",
       "    </tr>\n",
       "    <tr>\n",
       "      <th>2512</th>\n",
       "      <td>1</td>\n",
       "      <td>19.0</td>\n",
       "      <td>43200.0</td>\n",
       "      <td>1</td>\n",
       "      <td>0</td>\n",
       "    </tr>\n",
       "    <tr>\n",
       "      <th>2853</th>\n",
       "      <td>0</td>\n",
       "      <td>19.0</td>\n",
       "      <td>51700.0</td>\n",
       "      <td>0</td>\n",
       "      <td>0</td>\n",
       "    </tr>\n",
       "    <tr>\n",
       "      <th>3268</th>\n",
       "      <td>0</td>\n",
       "      <td>19.0</td>\n",
       "      <td>38600.0</td>\n",
       "      <td>0</td>\n",
       "      <td>0</td>\n",
       "    </tr>\n",
       "    <tr>\n",
       "      <th>3419</th>\n",
       "      <td>1</td>\n",
       "      <td>19.0</td>\n",
       "      <td>41600.0</td>\n",
       "      <td>1</td>\n",
       "      <td>0</td>\n",
       "    </tr>\n",
       "  </tbody>\n",
       "</table>\n",
       "</div>"
      ],
      "text/plain": [
       "      Пол  Возраст  Зарплата  Члены семьи  Страховые выплаты\n",
       "1566    1     18.0   39800.0            2                  0\n",
       "2429    1     18.0   39800.0            2                  0\n",
       "2694    1     19.0   52600.0            0                  0\n",
       "712     1     19.0   52600.0            0                  0\n",
       "851     0     19.0   51700.0            0                  0\n",
       "887     1     19.0   35500.0            0                  0\n",
       "664     1     19.0   35500.0            0                  0\n",
       "1336    1     19.0   32700.0            0                  0\n",
       "1751    0     19.0   38600.0            0                  0\n",
       "1990    1     19.0   41600.0            1                  0\n",
       "2269    1     19.0   43200.0            1                  0\n",
       "2512    1     19.0   43200.0            1                  0\n",
       "2853    0     19.0   51700.0            0                  0\n",
       "3268    0     19.0   38600.0            0                  0\n",
       "3419    1     19.0   41600.0            1                  0"
      ]
     },
     "execution_count": 7,
     "metadata": {},
     "output_type": "execute_result"
    }
   ],
   "source": [
    "#showing first 15 rows of duplicates (sorting by age)\n",
    "data[data.duplicated(keep=False)].sort_values(by='Возраст').head(15)"
   ]
  },
  {
   "cell_type": "markdown",
   "metadata": {},
   "source": [
    "It should be noted that there are obvious duplicates in the data and that complete coincidence is unlikely. The presence of duplicate values may be due to a technical error in downloading the data. To further develop the encryption algorithm and test the quality of its work, let's remove repeated values."
   ]
  },
  {
   "cell_type": "code",
   "execution_count": 8,
   "metadata": {},
   "outputs": [],
   "source": [
    "data.drop_duplicates(inplace=True)"
   ]
  },
  {
   "cell_type": "markdown",
   "metadata": {},
   "source": [
    "For further work, let's rename the columns for convenience."
   ]
  },
  {
   "cell_type": "code",
   "execution_count": 9,
   "metadata": {},
   "outputs": [],
   "source": [
    "data.columns = ['sex', 'age', 'salary', 'family_members', 'payments_number']"
   ]
  },
  {
   "cell_type": "markdown",
   "metadata": {},
   "source": [
    "### Conclusions"
   ]
  },
  {
   "cell_type": "markdown",
   "metadata": {},
   "source": [
    "* **A quick EDA showed that there are no missing values or anomalies in the observations. However, there are apparent duplicates of 153 rows. The presence of duplicates may be due to a technical error during the data download. Duplicate values have been removed.**\n",
    "* **The dataset consists of 5 columns, where the target value is the column characterizing the number of insurance payments to the client in the last 5 years. Other columns are characteristics and characterize socio-demographics (gender, age, number of family members) and consumer profile (client's salary).**"
   ]
  },
  {
   "cell_type": "markdown",
   "metadata": {},
   "source": [
    "## Multiplying matrices"
   ]
  },
  {
   "cell_type": "markdown",
   "metadata": {},
   "source": [
    "Notations:\n",
    "\n",
    "- $X$ — features matrix (the zero column consists of ones)\n",
    "\n",
    "- $y$ — target vector\n",
    "\n",
    "- $P$ — matrix on which the features are multiplied\n",
    "\n",
    "- $w$ — vector of linear regression weights (zero element equals shift)"
   ]
  },
  {
   "cell_type": "markdown",
   "metadata": {},
   "source": [
    "Predictions:\n",
    "\n",
    "$$\n",
    "a = Xw\n",
    "$$\n",
    "\n",
    "Learning objective:\n",
    "\n",
    "$$\n",
    "w = \\arg\\min_w MSE(Xw, y)\n",
    "$$\n",
    "\n",
    "Learning formula:\n",
    "\n",
    "$$\n",
    "w = (X^T X)^{-1} X^T y\n",
    "$$"
   ]
  },
  {
   "cell_type": "markdown",
   "metadata": {},
   "source": [
    "By the condition of the problem, the features are multiplied by the invertible matrix. It is necessary to answer the following question:"
   ]
  },
  {
   "cell_type": "markdown",
   "metadata": {},
   "source": [
    "**The question:** does the quality of linear regression change when the features are multiplied by an invertible matrix?"
   ]
  },
  {
   "cell_type": "markdown",
   "metadata": {},
   "source": [
    "\n",
    "**Solution:** \n",
    "\n",
    "Assume that the quality of the model does not change when the features are multiplied by the invertible matrix. Then the predictions obtained with the invertible matrix must be equal to those obtained without the invertible matrix.\n",
    "\n",
    "To prove this, we multiply the features $X$ by the invertible matrix $P$ and obtain the encoded features $X1$:\n",
    "\n",
    "$$\n",
    "X1 = XP\n",
    "$$\n",
    "\n",
    "If we substitute the encoded features into the model learning formula, then $w$ takes the form:\n",
    "\n",
    "$$\n",
    "w = ((X P)^T X P)^{-1} (X P)^T y\n",
    "$$\n",
    "\n",
    "Let's plug the resulting weight into the prediction formula:\n",
    "\n",
    "$$\n",
    "a = XP ((X P)^T X P)^{-1} (X P)^T y\n",
    "$$\n",
    "\n",
    "Reveal the brackets $ (XP)^T $:\n",
    "\n",
    "$$\n",
    "a = XP (P^T X^T X P)^{-1} P^T X^T y\n",
    "$$\n",
    "\n",
    "Reveal the brackets $(P^T X^T X P)^{-1}$ given that the product of matrices $X^T$ and $X$ is a square matrix ($n*m$  @ $m*n$ = $n*n$):\n",
    "\n",
    "$$\n",
    "a = X P P^{-1} (X^T X)^{-1} (P^T)^{-1} P^T X^T y\n",
    "$$\n",
    "\n",
    "$ P P^{-1} = E$, then:\n",
    "\n",
    "$$\n",
    "a = XE(X^T X)^{-1}E X^T y\n",
    "$$\n",
    "\n",
    "Therefore:\n",
    "$$\n",
    "a = X (X^T X)^{-1} X^T y\n",
    "$$"
   ]
  },
  {
   "cell_type": "markdown",
   "metadata": {},
   "source": [
    "**The answer:** this gives you exactly the same predictions and does not change the quality of the linear regression when the features are multiplied by the invertible matrix.\n",
    "\n",
    "**Обоснование:** the invertible matrix of the square one $P$ is the matrix $P^{-1}$. The product of the invertible matrix $P^{-1}$ with $P$ is $E$ (identity matrix). Multiplying any matrix by an identity matrix yields the same matrix without any changes. Thus, the quality of the linear regression does not change."
   ]
  },
  {
   "cell_type": "markdown",
   "metadata": {},
   "source": [
    "### Conclusion"
   ]
  },
  {
   "cell_type": "markdown",
   "metadata": {},
   "source": [
    "* **Multiplying the features by a random invertible matrix P does not change the quality of the linear regression. Analytically, by substituting the new matrix into the formula, the same predictions were obtained as in the case without using this matrix. Thus, to encrypt user information, it is necessary to multiply the features by the random invertible matrix P. To decrypt them, the invertible matrix $P^{-1}$ must be used.**"
   ]
  },
  {
   "cell_type": "markdown",
   "metadata": {},
   "source": [
    "## Algorithm of transformation"
   ]
  },
  {
   "cell_type": "markdown",
   "metadata": {},
   "source": [
    "**Algorithm**\n",
    "\n",
    "1. To encrypt the features, create a random square matrix ${P}$ of size 4х4 (since there are 4 features in the dataset).\n",
    "2. Check it for inversion using the matrix rank, where its dimensionality should match the rank. Repeat step 1 if the condition is not met.\n",
    "3. Multiply the features by the resulting random matrix in the training and test sets.\n",
    "4. Train the model on the encrypted features and calculate the r2 value on the test set.\n",
    "5. Train the model on the unencrypted features and calculate the r2 score on the test set.\n",
    "6. Compare the obtained metrics. If they are equal, then the algorithm worked without errors.\n",
    "7. As an additional check, decrypt the features and compare the obtained matrix with the initial feature matrix."
   ]
  },
  {
   "cell_type": "markdown",
   "metadata": {},
   "source": [
    "**Validation**"
   ]
  },
  {
   "cell_type": "markdown",
   "metadata": {},
   "source": [
    "Multiplying the features by a random invertible matrix does not change the quality of the linear regression, because the product of the invertible matrix $P^{-1}$ and $P$ is the identity matrix, and multiplying any matrix by the identity matrix will produce the same matrix."
   ]
  },
  {
   "cell_type": "markdown",
   "metadata": {},
   "source": [
    "## Checking algorithm"
   ]
  },
  {
   "cell_type": "markdown",
   "metadata": {},
   "source": [
    "Let's select the features and the target values (the number of insurance payments to the client in the last 5 years) to test the algorithm."
   ]
  },
  {
   "cell_type": "code",
   "execution_count": 10,
   "metadata": {},
   "outputs": [],
   "source": [
    "features = data.drop('payments_number', axis=1)\n",
    "target = data['payments_number']"
   ]
  },
  {
   "cell_type": "markdown",
   "metadata": {},
   "source": [
    "Let's create features matrix."
   ]
  },
  {
   "cell_type": "code",
   "execution_count": 11,
   "metadata": {},
   "outputs": [],
   "source": [
    "features_matrix = features.values"
   ]
  },
  {
   "cell_type": "markdown",
   "metadata": {},
   "source": [
    "Let's use the function to create a random matrix of the desired size and encrypt the features with the resulting matrix."
   ]
  },
  {
   "cell_type": "code",
   "execution_count": 12,
   "metadata": {},
   "outputs": [],
   "source": [
    "#random matrix generator function with rank checking\n",
    "def mat_generator(x):\n",
    "    matrix_size = x.shape[1]\n",
    "    rand_matrix = 0\n",
    "    while True:\n",
    "        rand_matrix = np.random.rand(x.shape[1], x.shape[1])\n",
    "        if np.linalg.matrix_rank(rand_matrix) == matrix_size:\n",
    "            return rand_matrix"
   ]
  },
  {
   "cell_type": "code",
   "execution_count": 13,
   "metadata": {},
   "outputs": [],
   "source": [
    "#random matrix\n",
    "rand_matrix = mat_generator(features)\n",
    "\n",
    "#features encryption function\n",
    "def encryption(features, random_matrix):\n",
    "    matrix_transf = features @ random_matrix\n",
    "    features_cipher = list(matrix_transf)\n",
    "    return features_cipher, matrix_transf\n",
    "\n",
    "#encrypted features\n",
    "features_cipher, matrix_transf = encryption(features_matrix, rand_matrix)"
   ]
  },
  {
   "cell_type": "code",
   "execution_count": 14,
   "metadata": {},
   "outputs": [
    {
     "data": {
      "text/plain": [
       "array([[0.53538319, 0.3886399 , 0.38970879, 0.06758633],\n",
       "       [0.16717813, 0.52127807, 0.47296582, 0.51615975],\n",
       "       [0.74907736, 0.45518234, 0.44541015, 0.57540569],\n",
       "       [0.8870556 , 0.81383199, 0.67532486, 0.95400307]])"
      ]
     },
     "execution_count": 14,
     "metadata": {},
     "output_type": "execute_result"
    }
   ],
   "source": [
    "rand_matrix"
   ]
  },
  {
   "cell_type": "markdown",
   "metadata": {},
   "source": [
    "Let's split our dataset into train and test sets."
   ]
  },
  {
   "cell_type": "code",
   "execution_count": 15,
   "metadata": {},
   "outputs": [],
   "source": [
    "features_train, features_test, target_train, target_test = train_test_split(features, target, test_size=0.25, random_state=42)"
   ]
  },
  {
   "cell_type": "markdown",
   "metadata": {},
   "source": [
    "Let's create two linear regression models with and without encryption."
   ]
  },
  {
   "cell_type": "code",
   "execution_count": 16,
   "metadata": {},
   "outputs": [],
   "source": [
    "model_no_cipher = LinearRegression()\n",
    "model_cipher = LinearRegression()"
   ]
  },
  {
   "cell_type": "markdown",
   "metadata": {},
   "source": [
    "Fitting the model without encryption and checking r2 score."
   ]
  },
  {
   "cell_type": "code",
   "execution_count": 17,
   "metadata": {},
   "outputs": [
    {
     "name": "stdout",
     "output_type": "stream",
     "text": [
      "R2: 0.44346\n"
     ]
    }
   ],
   "source": [
    "model_no_cipher.fit(features_train, target_train)\n",
    "predicted = model_no_cipher.predict(features_test)\n",
    "print(\"R2:\", round(r2_score(target_test, predicted), 5))"
   ]
  },
  {
   "cell_type": "markdown",
   "metadata": {},
   "source": [
    "Let's split encrypted features matrix into train and test sets."
   ]
  },
  {
   "cell_type": "code",
   "execution_count": 18,
   "metadata": {},
   "outputs": [],
   "source": [
    "features_train_cipher, features_test_cipher = train_test_split(features_cipher, test_size=0.25, random_state=42)"
   ]
  },
  {
   "cell_type": "code",
   "execution_count": 19,
   "metadata": {},
   "outputs": [
    {
     "name": "stdout",
     "output_type": "stream",
     "text": [
      "R2: 0.44346\n"
     ]
    }
   ],
   "source": [
    "model_cipher.fit(features_train_cipher, target_train)\n",
    "predicted_cipher = model_cipher.predict(features_test_cipher)\n",
    "print(\"R2:\", round(r2_score(target_test,predicted_cipher), 5))"
   ]
  },
  {
   "cell_type": "markdown",
   "metadata": {},
   "source": [
    "The coefficient of determination of the two models is the same. The algorithm for encrypting the features worked without error. As an additional check, we decode the features using the invertible matrix for the previously created random matrix. "
   ]
  },
  {
   "cell_type": "code",
   "execution_count": 20,
   "metadata": {},
   "outputs": [
    {
     "data": {
      "text/plain": [
       "array([[ True,  True,  True,  True],\n",
       "       [ True,  True,  True,  True],\n",
       "       [ True,  True,  True,  True],\n",
       "       ...,\n",
       "       [ True,  True,  True,  True],\n",
       "       [ True,  True,  True,  True],\n",
       "       [ True,  True,  True,  True]])"
      ]
     },
     "execution_count": 20,
     "metadata": {},
     "output_type": "execute_result"
    }
   ],
   "source": [
    "#creating initial matrix using invertible one\n",
    "original_matrix = matrix_transf @ inv(rand_matrix)\n",
    "#matrices comparison\n",
    "np.round(features_matrix) == np.round(original_matrix)"
   ]
  },
  {
   "cell_type": "markdown",
   "metadata": {},
   "source": [
    "The initial matrix created is the same as the matrix with the features. The algorithm worked without errors."
   ]
  },
  {
   "cell_type": "markdown",
   "metadata": {},
   "source": [
    "## Summary"
   ]
  },
  {
   "cell_type": "markdown",
   "metadata": {},
   "source": [
    "* **During the development of the encryption algorithm for user data, explicit duplicates were detected. The presence of duplicates may be due to a technical error during data download.**\n",
    "* **The target value is the column that characterizes the number of insurance payments to the client in the last 5 years. The remaining columns are characteristics and characterize socio-demographics (gender, age, number of family members) and consumer profile (client's salary). All of this is user data that must be encrypted.**\n",
    "* **As an algorithm for user data encryption, the multiplication of features by an invertible random matrix should be used. In this case, the quality of the linear regression model will not change due to the reversibility property of the random matrix. The product of a random matrix and an invertible matrix is equal to the identity matrix, and its multiplication by any other matrix leaves the identity matrix unchanged.**"
   ]
  }
 ],
 "metadata": {
  "ExecuteTimeLog": [
   {
    "duration": 1137,
    "start_time": "2022-10-11T12:42:36.603Z"
   },
   {
    "duration": 110,
    "start_time": "2022-10-11T12:43:12.891Z"
   },
   {
    "duration": 15,
    "start_time": "2022-10-11T12:43:20.470Z"
   },
   {
    "duration": 10,
    "start_time": "2022-10-11T12:43:29.035Z"
   },
   {
    "duration": 21,
    "start_time": "2022-10-11T12:43:35.321Z"
   },
   {
    "duration": 7,
    "start_time": "2022-10-11T14:21:19.369Z"
   },
   {
    "duration": 7,
    "start_time": "2022-10-11T14:21:36.097Z"
   },
   {
    "duration": 6,
    "start_time": "2022-10-11T14:21:44.354Z"
   },
   {
    "duration": 5,
    "start_time": "2022-10-11T14:21:48.763Z"
   },
   {
    "duration": 13,
    "start_time": "2022-10-11T14:22:11.469Z"
   },
   {
    "duration": 1186,
    "start_time": "2022-10-12T07:34:25.793Z"
   },
   {
    "duration": 98,
    "start_time": "2022-10-12T07:34:27.874Z"
   },
   {
    "duration": 13,
    "start_time": "2022-10-12T07:34:28.474Z"
   },
   {
    "duration": 32,
    "start_time": "2022-10-12T07:34:29.331Z"
   },
   {
    "duration": 8,
    "start_time": "2022-10-12T07:34:31.036Z"
   },
   {
    "duration": 5,
    "start_time": "2022-10-12T07:35:20.028Z"
   },
   {
    "duration": 15,
    "start_time": "2022-10-12T07:35:48.282Z"
   },
   {
    "duration": 15,
    "start_time": "2022-10-12T07:36:11.475Z"
   },
   {
    "duration": 19,
    "start_time": "2022-10-12T07:39:20.645Z"
   },
   {
    "duration": 12,
    "start_time": "2022-10-12T07:40:29.272Z"
   },
   {
    "duration": 5,
    "start_time": "2022-10-12T08:51:53.769Z"
   },
   {
    "duration": 4,
    "start_time": "2022-10-12T08:59:41.084Z"
   },
   {
    "duration": 11,
    "start_time": "2022-10-12T08:59:47.700Z"
   },
   {
    "duration": 4,
    "start_time": "2022-10-12T11:23:28.803Z"
   },
   {
    "duration": 100,
    "start_time": "2022-10-12T11:23:55.158Z"
   },
   {
    "duration": 3,
    "start_time": "2022-10-12T11:23:58.647Z"
   },
   {
    "duration": 83,
    "start_time": "2022-10-12T11:24:10.570Z"
   },
   {
    "duration": 5,
    "start_time": "2022-10-12T11:24:23.783Z"
   },
   {
    "duration": 5,
    "start_time": "2022-10-12T11:24:36.210Z"
   },
   {
    "duration": 4,
    "start_time": "2022-10-12T11:25:18.190Z"
   },
   {
    "duration": 99,
    "start_time": "2022-10-12T11:25:44.659Z"
   },
   {
    "duration": 9,
    "start_time": "2022-10-12T11:25:55.112Z"
   },
   {
    "duration": 4,
    "start_time": "2022-10-12T11:26:06.092Z"
   },
   {
    "duration": 6,
    "start_time": "2022-10-12T11:27:45.043Z"
   },
   {
    "duration": 2,
    "start_time": "2022-10-12T11:27:54.754Z"
   },
   {
    "duration": 18,
    "start_time": "2022-10-12T11:28:24.926Z"
   },
   {
    "duration": 4,
    "start_time": "2022-10-12T11:32:09.179Z"
   },
   {
    "duration": 17,
    "start_time": "2022-10-12T11:32:34.265Z"
   },
   {
    "duration": 101,
    "start_time": "2022-10-12T11:32:49.403Z"
   },
   {
    "duration": 3,
    "start_time": "2022-10-12T11:33:05.026Z"
   },
   {
    "duration": 10,
    "start_time": "2022-10-12T11:33:15.165Z"
   },
   {
    "duration": 4,
    "start_time": "2022-10-12T11:33:19.434Z"
   },
   {
    "duration": 103,
    "start_time": "2022-10-12T11:33:31.817Z"
   },
   {
    "duration": 17,
    "start_time": "2022-10-12T11:37:28.209Z"
   },
   {
    "duration": 4,
    "start_time": "2022-10-12T11:37:57.810Z"
   },
   {
    "duration": 26,
    "start_time": "2022-10-12T11:37:59.293Z"
   },
   {
    "duration": 1106,
    "start_time": "2022-10-13T15:13:41.507Z"
   },
   {
    "duration": 3,
    "start_time": "2022-10-13T15:14:55.595Z"
   },
   {
    "duration": 90,
    "start_time": "2022-10-13T15:14:56.119Z"
   },
   {
    "duration": 14,
    "start_time": "2022-10-13T15:14:56.704Z"
   },
   {
    "duration": 29,
    "start_time": "2022-10-13T15:14:57.158Z"
   },
   {
    "duration": 9,
    "start_time": "2022-10-13T15:14:57.507Z"
   },
   {
    "duration": 5,
    "start_time": "2022-10-13T15:14:58.990Z"
   },
   {
    "duration": 14,
    "start_time": "2022-10-13T15:14:59.291Z"
   },
   {
    "duration": 6,
    "start_time": "2022-10-13T15:15:00.150Z"
   },
   {
    "duration": 2,
    "start_time": "2022-10-13T15:15:00.963Z"
   },
   {
    "duration": 4,
    "start_time": "2022-10-13T15:15:07.067Z"
   },
   {
    "duration": 3,
    "start_time": "2022-10-13T15:15:08.170Z"
   },
   {
    "duration": 3,
    "start_time": "2022-10-13T15:17:05.692Z"
   },
   {
    "duration": 5,
    "start_time": "2022-10-13T15:17:14.484Z"
   },
   {
    "duration": 4,
    "start_time": "2022-10-13T15:17:19.564Z"
   },
   {
    "duration": 4,
    "start_time": "2022-10-13T15:17:22.390Z"
   },
   {
    "duration": 103,
    "start_time": "2022-10-13T15:20:29.895Z"
   },
   {
    "duration": 6,
    "start_time": "2022-10-13T15:20:36.676Z"
   },
   {
    "duration": 4,
    "start_time": "2022-10-13T15:23:05.203Z"
   },
   {
    "duration": 6,
    "start_time": "2022-10-13T15:23:49.992Z"
   },
   {
    "duration": 9,
    "start_time": "2022-10-13T15:25:12.519Z"
   },
   {
    "duration": 2,
    "start_time": "2022-10-13T15:25:19.340Z"
   },
   {
    "duration": 17,
    "start_time": "2022-10-13T15:25:19.799Z"
   },
   {
    "duration": 13,
    "start_time": "2022-10-13T15:25:44.340Z"
   },
   {
    "duration": 5,
    "start_time": "2022-10-13T15:25:50.781Z"
   },
   {
    "duration": 4,
    "start_time": "2022-10-13T15:27:17.640Z"
   },
   {
    "duration": 3,
    "start_time": "2022-10-13T15:27:47.784Z"
   },
   {
    "duration": 5,
    "start_time": "2022-10-13T15:38:02.760Z"
   },
   {
    "duration": 4,
    "start_time": "2022-10-13T15:38:03.457Z"
   },
   {
    "duration": 2,
    "start_time": "2022-10-13T15:38:12.324Z"
   },
   {
    "duration": 9,
    "start_time": "2022-10-13T15:38:13.040Z"
   },
   {
    "duration": 4,
    "start_time": "2022-10-13T15:39:17.428Z"
   },
   {
    "duration": 4,
    "start_time": "2022-10-13T15:43:21.695Z"
   },
   {
    "duration": 4,
    "start_time": "2022-10-13T15:44:39.461Z"
   },
   {
    "duration": 10,
    "start_time": "2022-10-13T15:49:30.930Z"
   },
   {
    "duration": 5,
    "start_time": "2022-10-13T15:52:47.163Z"
   },
   {
    "duration": 12,
    "start_time": "2022-10-13T15:52:57.120Z"
   },
   {
    "duration": 35,
    "start_time": "2022-10-13T15:56:56.261Z"
   },
   {
    "duration": 8,
    "start_time": "2022-10-13T15:57:13.265Z"
   },
   {
    "duration": 10,
    "start_time": "2022-10-13T16:00:11.677Z"
   },
   {
    "duration": 9,
    "start_time": "2022-10-13T16:00:20.112Z"
   },
   {
    "duration": 6,
    "start_time": "2022-10-13T16:04:03.959Z"
   },
   {
    "duration": 6,
    "start_time": "2022-10-13T16:04:38.849Z"
   },
   {
    "duration": 1086,
    "start_time": "2022-10-13T16:20:43.618Z"
   },
   {
    "duration": 140,
    "start_time": "2022-10-13T16:20:44.706Z"
   },
   {
    "duration": 14,
    "start_time": "2022-10-13T16:20:44.848Z"
   },
   {
    "duration": 36,
    "start_time": "2022-10-13T16:20:44.864Z"
   },
   {
    "duration": 8,
    "start_time": "2022-10-13T16:20:44.901Z"
   },
   {
    "duration": 13,
    "start_time": "2022-10-13T16:20:44.911Z"
   },
   {
    "duration": 18,
    "start_time": "2022-10-13T16:20:44.926Z"
   },
   {
    "duration": 5,
    "start_time": "2022-10-13T16:20:44.945Z"
   },
   {
    "duration": 6,
    "start_time": "2022-10-13T16:20:44.951Z"
   },
   {
    "duration": 5,
    "start_time": "2022-10-13T16:20:44.960Z"
   },
   {
    "duration": 6,
    "start_time": "2022-10-13T16:20:44.966Z"
   },
   {
    "duration": 26,
    "start_time": "2022-10-13T16:20:44.973Z"
   },
   {
    "duration": 17,
    "start_time": "2022-10-13T16:20:45.001Z"
   },
   {
    "duration": 76,
    "start_time": "2022-10-13T16:20:45.020Z"
   },
   {
    "duration": 6,
    "start_time": "2022-10-13T16:20:45.100Z"
   },
   {
    "duration": 5,
    "start_time": "2022-10-13T16:20:45.108Z"
   },
   {
    "duration": 88,
    "start_time": "2022-10-13T16:20:45.115Z"
   },
   {
    "duration": 6,
    "start_time": "2022-10-13T16:20:45.204Z"
   },
   {
    "duration": 15,
    "start_time": "2022-10-13T16:20:45.211Z"
   },
   {
    "duration": 6,
    "start_time": "2022-10-13T16:20:45.228Z"
   },
   {
    "duration": 1497,
    "start_time": "2022-10-13T16:42:48.729Z"
   },
   {
    "duration": 156,
    "start_time": "2022-10-13T16:42:50.228Z"
   },
   {
    "duration": 11,
    "start_time": "2022-10-13T16:42:50.385Z"
   },
   {
    "duration": 39,
    "start_time": "2022-10-13T16:42:50.398Z"
   },
   {
    "duration": 8,
    "start_time": "2022-10-13T16:42:50.438Z"
   },
   {
    "duration": 8,
    "start_time": "2022-10-13T16:42:50.448Z"
   },
   {
    "duration": 33,
    "start_time": "2022-10-13T16:42:50.458Z"
   },
   {
    "duration": 7,
    "start_time": "2022-10-13T16:42:50.493Z"
   },
   {
    "duration": 10,
    "start_time": "2022-10-13T16:42:50.501Z"
   },
   {
    "duration": 6,
    "start_time": "2022-10-13T16:42:50.513Z"
   },
   {
    "duration": 10,
    "start_time": "2022-10-13T16:42:50.520Z"
   },
   {
    "duration": 10,
    "start_time": "2022-10-13T16:42:50.532Z"
   },
   {
    "duration": 7,
    "start_time": "2022-10-13T16:42:50.543Z"
   },
   {
    "duration": 33,
    "start_time": "2022-10-13T16:42:50.552Z"
   },
   {
    "duration": 6,
    "start_time": "2022-10-13T16:42:50.587Z"
   },
   {
    "duration": 91,
    "start_time": "2022-10-13T16:42:50.595Z"
   },
   {
    "duration": 14,
    "start_time": "2022-10-13T16:42:50.687Z"
   },
   {
    "duration": 4,
    "start_time": "2022-10-13T16:42:50.703Z"
   },
   {
    "duration": 10,
    "start_time": "2022-10-13T16:42:50.709Z"
   },
   {
    "duration": 5,
    "start_time": "2022-10-13T16:42:50.721Z"
   },
   {
    "duration": 44,
    "start_time": "2022-10-16T04:59:03.971Z"
   },
   {
    "duration": 1055,
    "start_time": "2022-10-16T04:59:11.077Z"
   },
   {
    "duration": 86,
    "start_time": "2022-10-16T04:59:12.134Z"
   },
   {
    "duration": 10,
    "start_time": "2022-10-16T04:59:12.869Z"
   },
   {
    "duration": 27,
    "start_time": "2022-10-16T04:59:17.147Z"
   },
   {
    "duration": 9,
    "start_time": "2022-10-16T04:59:17.633Z"
   },
   {
    "duration": 5,
    "start_time": "2022-10-16T04:59:18.525Z"
   },
   {
    "duration": 14,
    "start_time": "2022-10-16T04:59:18.834Z"
   },
   {
    "duration": 4,
    "start_time": "2022-10-16T04:59:19.555Z"
   },
   {
    "duration": 2,
    "start_time": "2022-10-16T04:59:20.056Z"
   },
   {
    "duration": 10,
    "start_time": "2022-10-16T04:59:22.245Z"
   },
   {
    "duration": 58,
    "start_time": "2022-10-16T05:52:50.926Z"
   },
   {
    "duration": 4,
    "start_time": "2022-10-16T05:52:57.844Z"
   },
   {
    "duration": 3,
    "start_time": "2022-10-16T05:53:06.574Z"
   },
   {
    "duration": 4,
    "start_time": "2022-10-16T05:53:07.348Z"
   },
   {
    "duration": 4,
    "start_time": "2022-10-16T05:53:10.172Z"
   },
   {
    "duration": 4,
    "start_time": "2022-10-16T06:13:48.204Z"
   },
   {
    "duration": 5,
    "start_time": "2022-10-16T06:30:57.818Z"
   },
   {
    "duration": 5,
    "start_time": "2022-10-16T06:31:14.575Z"
   },
   {
    "duration": 6,
    "start_time": "2022-10-16T06:31:16.193Z"
   },
   {
    "duration": 5,
    "start_time": "2022-10-16T06:31:16.866Z"
   },
   {
    "duration": 4,
    "start_time": "2022-10-16T06:31:17.592Z"
   },
   {
    "duration": 7,
    "start_time": "2022-10-16T06:31:18.408Z"
   },
   {
    "duration": 5,
    "start_time": "2022-10-16T06:31:19.092Z"
   },
   {
    "duration": 6,
    "start_time": "2022-10-16T06:31:19.763Z"
   },
   {
    "duration": 5,
    "start_time": "2022-10-16T06:31:20.501Z"
   },
   {
    "duration": 5,
    "start_time": "2022-10-16T06:31:21.329Z"
   },
   {
    "duration": 5,
    "start_time": "2022-10-16T06:31:22.364Z"
   },
   {
    "duration": 3,
    "start_time": "2022-10-16T06:31:32.492Z"
   },
   {
    "duration": 6,
    "start_time": "2022-10-16T06:31:33.114Z"
   },
   {
    "duration": 5,
    "start_time": "2022-10-16T06:31:34.087Z"
   },
   {
    "duration": 6,
    "start_time": "2022-10-16T06:31:34.725Z"
   },
   {
    "duration": 7,
    "start_time": "2022-10-16T06:31:35.331Z"
   },
   {
    "duration": 10,
    "start_time": "2022-10-16T06:31:35.905Z"
   },
   {
    "duration": 6,
    "start_time": "2022-10-16T06:31:36.514Z"
   },
   {
    "duration": 5,
    "start_time": "2022-10-16T06:31:37.139Z"
   },
   {
    "duration": 6,
    "start_time": "2022-10-16T06:31:37.757Z"
   },
   {
    "duration": 5,
    "start_time": "2022-10-16T06:31:38.347Z"
   },
   {
    "duration": 3,
    "start_time": "2022-10-16T06:31:51.763Z"
   },
   {
    "duration": 8,
    "start_time": "2022-10-16T06:32:00.233Z"
   },
   {
    "duration": 3,
    "start_time": "2022-10-16T06:32:03.108Z"
   },
   {
    "duration": 6,
    "start_time": "2022-10-16T06:32:03.436Z"
   },
   {
    "duration": 3,
    "start_time": "2022-10-16T06:32:05.413Z"
   },
   {
    "duration": 8,
    "start_time": "2022-10-16T06:32:05.651Z"
   },
   {
    "duration": 3,
    "start_time": "2022-10-16T06:32:06.630Z"
   },
   {
    "duration": 10,
    "start_time": "2022-10-16T06:32:06.972Z"
   },
   {
    "duration": 3,
    "start_time": "2022-10-16T06:32:08.447Z"
   },
   {
    "duration": 5,
    "start_time": "2022-10-16T06:32:08.523Z"
   },
   {
    "duration": 3,
    "start_time": "2022-10-16T06:32:09.580Z"
   },
   {
    "duration": 7,
    "start_time": "2022-10-16T06:32:10.245Z"
   },
   {
    "duration": 3,
    "start_time": "2022-10-16T06:34:29.149Z"
   },
   {
    "duration": 6,
    "start_time": "2022-10-16T06:34:29.434Z"
   },
   {
    "duration": 4,
    "start_time": "2022-10-16T06:34:29.702Z"
   },
   {
    "duration": 4,
    "start_time": "2022-10-16T06:34:31.956Z"
   },
   {
    "duration": 3,
    "start_time": "2022-10-16T06:34:32.357Z"
   },
   {
    "duration": 4,
    "start_time": "2022-10-16T06:34:32.839Z"
   },
   {
    "duration": 3,
    "start_time": "2022-10-16T06:34:38.558Z"
   },
   {
    "duration": 3,
    "start_time": "2022-10-16T06:34:38.795Z"
   },
   {
    "duration": 6,
    "start_time": "2022-10-16T06:34:38.986Z"
   },
   {
    "duration": 3,
    "start_time": "2022-10-16T06:42:46.985Z"
   },
   {
    "duration": 4,
    "start_time": "2022-10-16T06:47:44.589Z"
   },
   {
    "duration": 3,
    "start_time": "2022-10-16T06:47:51.265Z"
   },
   {
    "duration": 59,
    "start_time": "2022-10-16T06:47:51.605Z"
   },
   {
    "duration": 82,
    "start_time": "2022-10-16T06:48:03.609Z"
   },
   {
    "duration": 2,
    "start_time": "2022-10-16T06:48:12.560Z"
   },
   {
    "duration": 2,
    "start_time": "2022-10-16T06:48:19.190Z"
   },
   {
    "duration": 2,
    "start_time": "2022-10-16T06:48:19.920Z"
   },
   {
    "duration": 3,
    "start_time": "2022-10-16T06:48:25.246Z"
   },
   {
    "duration": 3,
    "start_time": "2022-10-16T06:49:06.817Z"
   },
   {
    "duration": 3,
    "start_time": "2022-10-16T06:49:07.424Z"
   },
   {
    "duration": 3,
    "start_time": "2022-10-16T06:49:07.889Z"
   },
   {
    "duration": 4,
    "start_time": "2022-10-16T06:49:18.043Z"
   },
   {
    "duration": 3,
    "start_time": "2022-10-16T06:49:20.411Z"
   },
   {
    "duration": 3,
    "start_time": "2022-10-16T06:49:21.126Z"
   },
   {
    "duration": 59,
    "start_time": "2022-10-16T06:49:23.738Z"
   },
   {
    "duration": 3,
    "start_time": "2022-10-16T06:49:55.223Z"
   },
   {
    "duration": 3,
    "start_time": "2022-10-16T06:49:55.545Z"
   },
   {
    "duration": 4,
    "start_time": "2022-10-16T06:49:55.851Z"
   },
   {
    "duration": 3,
    "start_time": "2022-10-16T06:50:13.418Z"
   },
   {
    "duration": 3,
    "start_time": "2022-10-16T06:50:13.663Z"
   },
   {
    "duration": 4,
    "start_time": "2022-10-16T06:50:14.862Z"
   },
   {
    "duration": 4,
    "start_time": "2022-10-16T06:50:15.125Z"
   },
   {
    "duration": 5,
    "start_time": "2022-10-16T06:50:15.588Z"
   },
   {
    "duration": 3,
    "start_time": "2022-10-16T06:50:17.086Z"
   },
   {
    "duration": 4,
    "start_time": "2022-10-16T06:50:17.459Z"
   },
   {
    "duration": 5,
    "start_time": "2022-10-16T06:50:17.631Z"
   },
   {
    "duration": 4,
    "start_time": "2022-10-16T06:50:55.170Z"
   },
   {
    "duration": 3,
    "start_time": "2022-10-16T06:50:55.351Z"
   },
   {
    "duration": 3,
    "start_time": "2022-10-16T06:50:55.603Z"
   },
   {
    "duration": 3,
    "start_time": "2022-10-16T06:50:57.125Z"
   },
   {
    "duration": 3,
    "start_time": "2022-10-16T06:50:57.331Z"
   },
   {
    "duration": 4,
    "start_time": "2022-10-16T06:50:57.546Z"
   },
   {
    "duration": 6,
    "start_time": "2022-10-16T06:50:58.861Z"
   },
   {
    "duration": 3,
    "start_time": "2022-10-16T06:51:00.305Z"
   },
   {
    "duration": 3,
    "start_time": "2022-10-16T06:51:00.490Z"
   },
   {
    "duration": 3,
    "start_time": "2022-10-16T06:51:00.641Z"
   },
   {
    "duration": 5,
    "start_time": "2022-10-16T06:51:00.812Z"
   },
   {
    "duration": 4,
    "start_time": "2022-10-16T06:53:56.705Z"
   },
   {
    "duration": 3,
    "start_time": "2022-10-16T06:53:57.472Z"
   },
   {
    "duration": 3,
    "start_time": "2022-10-16T06:53:58.021Z"
   },
   {
    "duration": 5,
    "start_time": "2022-10-16T06:53:58.507Z"
   },
   {
    "duration": 3,
    "start_time": "2022-10-16T06:54:14.936Z"
   },
   {
    "duration": 4,
    "start_time": "2022-10-16T06:59:17.044Z"
   },
   {
    "duration": 4,
    "start_time": "2022-10-16T07:16:48.990Z"
   },
   {
    "duration": 4,
    "start_time": "2022-10-16T07:18:41.056Z"
   },
   {
    "duration": 12,
    "start_time": "2022-10-16T07:19:40.389Z"
   },
   {
    "duration": 3,
    "start_time": "2022-10-16T07:19:51.996Z"
   },
   {
    "duration": 417,
    "start_time": "2022-10-16T07:19:53.091Z"
   },
   {
    "duration": 5,
    "start_time": "2022-10-16T07:21:34.849Z"
   },
   {
    "duration": 9,
    "start_time": "2022-10-16T07:23:58.065Z"
   },
   {
    "duration": 6,
    "start_time": "2022-10-16T07:24:02.224Z"
   },
   {
    "duration": 420,
    "start_time": "2022-10-16T07:24:03.816Z"
   },
   {
    "duration": 1126,
    "start_time": "2022-10-16T07:24:44.437Z"
   },
   {
    "duration": 66,
    "start_time": "2022-10-16T07:24:45.565Z"
   },
   {
    "duration": 14,
    "start_time": "2022-10-16T07:24:45.633Z"
   },
   {
    "duration": 35,
    "start_time": "2022-10-16T07:24:45.650Z"
   },
   {
    "duration": 8,
    "start_time": "2022-10-16T07:24:45.688Z"
   },
   {
    "duration": 10,
    "start_time": "2022-10-16T07:24:45.697Z"
   },
   {
    "duration": 33,
    "start_time": "2022-10-16T07:24:45.708Z"
   },
   {
    "duration": 8,
    "start_time": "2022-10-16T07:24:45.742Z"
   },
   {
    "duration": 5,
    "start_time": "2022-10-16T07:24:45.752Z"
   },
   {
    "duration": 7,
    "start_time": "2022-10-16T07:24:45.758Z"
   },
   {
    "duration": 6,
    "start_time": "2022-10-16T07:24:45.767Z"
   },
   {
    "duration": 13,
    "start_time": "2022-10-16T07:24:45.774Z"
   },
   {
    "duration": 8,
    "start_time": "2022-10-16T07:24:45.788Z"
   },
   {
    "duration": 6,
    "start_time": "2022-10-16T07:24:45.798Z"
   },
   {
    "duration": 16,
    "start_time": "2022-10-16T07:24:45.806Z"
   },
   {
    "duration": 12,
    "start_time": "2022-10-16T07:24:45.824Z"
   },
   {
    "duration": 5,
    "start_time": "2022-10-16T07:24:45.837Z"
   },
   {
    "duration": 17,
    "start_time": "2022-10-16T07:24:45.844Z"
   },
   {
    "duration": 108,
    "start_time": "2022-10-16T07:24:45.863Z"
   },
   {
    "duration": 7,
    "start_time": "2022-10-16T07:26:12.603Z"
   },
   {
    "duration": 6,
    "start_time": "2022-10-16T07:26:16.417Z"
   },
   {
    "duration": 1053,
    "start_time": "2022-10-16T07:26:30.450Z"
   },
   {
    "duration": 192,
    "start_time": "2022-10-16T07:26:31.505Z"
   },
   {
    "duration": 10,
    "start_time": "2022-10-16T07:26:31.699Z"
   },
   {
    "duration": 27,
    "start_time": "2022-10-16T07:26:31.711Z"
   },
   {
    "duration": 7,
    "start_time": "2022-10-16T07:26:31.741Z"
   },
   {
    "duration": 6,
    "start_time": "2022-10-16T07:26:31.751Z"
   },
   {
    "duration": 19,
    "start_time": "2022-10-16T07:26:31.759Z"
   },
   {
    "duration": 5,
    "start_time": "2022-10-16T07:26:31.780Z"
   },
   {
    "duration": 6,
    "start_time": "2022-10-16T07:26:31.787Z"
   },
   {
    "duration": 27,
    "start_time": "2022-10-16T07:26:31.795Z"
   },
   {
    "duration": 3,
    "start_time": "2022-10-16T07:26:31.824Z"
   },
   {
    "duration": 13,
    "start_time": "2022-10-16T07:26:31.829Z"
   },
   {
    "duration": 10,
    "start_time": "2022-10-16T07:26:31.844Z"
   },
   {
    "duration": 12,
    "start_time": "2022-10-16T07:26:31.857Z"
   },
   {
    "duration": 6,
    "start_time": "2022-10-16T07:26:31.871Z"
   },
   {
    "duration": 14,
    "start_time": "2022-10-16T07:26:31.878Z"
   },
   {
    "duration": 12,
    "start_time": "2022-10-16T07:26:31.894Z"
   },
   {
    "duration": 24,
    "start_time": "2022-10-16T07:26:31.908Z"
   },
   {
    "duration": 7,
    "start_time": "2022-10-16T07:26:31.933Z"
   },
   {
    "duration": 5,
    "start_time": "2022-10-16T07:30:49.210Z"
   },
   {
    "duration": 1055,
    "start_time": "2022-10-16T07:32:16.043Z"
   },
   {
    "duration": 33,
    "start_time": "2022-10-16T07:32:17.101Z"
   },
   {
    "duration": 14,
    "start_time": "2022-10-16T07:32:17.136Z"
   },
   {
    "duration": 29,
    "start_time": "2022-10-16T07:32:17.151Z"
   },
   {
    "duration": 7,
    "start_time": "2022-10-16T07:32:17.182Z"
   },
   {
    "duration": 7,
    "start_time": "2022-10-16T07:32:17.190Z"
   },
   {
    "duration": 29,
    "start_time": "2022-10-16T07:32:17.198Z"
   },
   {
    "duration": 4,
    "start_time": "2022-10-16T07:32:17.228Z"
   },
   {
    "duration": 5,
    "start_time": "2022-10-16T07:32:17.234Z"
   },
   {
    "duration": 7,
    "start_time": "2022-10-16T07:32:17.240Z"
   },
   {
    "duration": 6,
    "start_time": "2022-10-16T07:32:17.248Z"
   },
   {
    "duration": 7,
    "start_time": "2022-10-16T07:32:17.256Z"
   },
   {
    "duration": 8,
    "start_time": "2022-10-16T07:32:17.265Z"
   },
   {
    "duration": 8,
    "start_time": "2022-10-16T07:32:17.275Z"
   },
   {
    "duration": 8,
    "start_time": "2022-10-16T07:32:17.284Z"
   },
   {
    "duration": 7,
    "start_time": "2022-10-16T07:32:17.294Z"
   },
   {
    "duration": 24,
    "start_time": "2022-10-16T07:32:17.302Z"
   },
   {
    "duration": 4,
    "start_time": "2022-10-16T07:32:17.327Z"
   },
   {
    "duration": 11,
    "start_time": "2022-10-16T07:32:17.333Z"
   },
   {
    "duration": 7,
    "start_time": "2022-10-16T07:32:17.346Z"
   },
   {
    "duration": 1108,
    "start_time": "2022-10-16T07:32:31.108Z"
   },
   {
    "duration": 43,
    "start_time": "2022-10-16T07:32:32.221Z"
   },
   {
    "duration": 11,
    "start_time": "2022-10-16T07:32:32.266Z"
   },
   {
    "duration": 42,
    "start_time": "2022-10-16T07:32:32.279Z"
   },
   {
    "duration": 7,
    "start_time": "2022-10-16T07:32:32.323Z"
   },
   {
    "duration": 16,
    "start_time": "2022-10-16T07:32:32.331Z"
   },
   {
    "duration": 14,
    "start_time": "2022-10-16T07:32:32.348Z"
   },
   {
    "duration": 15,
    "start_time": "2022-10-16T07:32:32.364Z"
   },
   {
    "duration": 10,
    "start_time": "2022-10-16T07:32:32.381Z"
   },
   {
    "duration": 8,
    "start_time": "2022-10-16T07:32:32.393Z"
   },
   {
    "duration": 10,
    "start_time": "2022-10-16T07:32:32.403Z"
   },
   {
    "duration": 7,
    "start_time": "2022-10-16T07:32:32.415Z"
   },
   {
    "duration": 8,
    "start_time": "2022-10-16T07:32:32.423Z"
   },
   {
    "duration": 6,
    "start_time": "2022-10-16T07:32:32.432Z"
   },
   {
    "duration": 7,
    "start_time": "2022-10-16T07:32:32.440Z"
   },
   {
    "duration": 4,
    "start_time": "2022-10-16T07:32:32.448Z"
   },
   {
    "duration": 13,
    "start_time": "2022-10-16T07:32:32.453Z"
   },
   {
    "duration": 4,
    "start_time": "2022-10-16T07:32:32.468Z"
   },
   {
    "duration": 10,
    "start_time": "2022-10-16T07:32:32.473Z"
   },
   {
    "duration": 40,
    "start_time": "2022-10-16T07:32:32.484Z"
   },
   {
    "duration": 3,
    "start_time": "2022-10-16T07:32:46.357Z"
   },
   {
    "duration": 1104,
    "start_time": "2022-10-16T07:33:04.076Z"
   },
   {
    "duration": 36,
    "start_time": "2022-10-16T07:33:05.182Z"
   },
   {
    "duration": 11,
    "start_time": "2022-10-16T07:33:05.220Z"
   },
   {
    "duration": 51,
    "start_time": "2022-10-16T07:33:05.234Z"
   },
   {
    "duration": 9,
    "start_time": "2022-10-16T07:33:05.287Z"
   },
   {
    "duration": 53,
    "start_time": "2022-10-16T07:33:05.298Z"
   },
   {
    "duration": 19,
    "start_time": "2022-10-16T07:33:05.352Z"
   },
   {
    "duration": 19,
    "start_time": "2022-10-16T07:33:05.372Z"
   },
   {
    "duration": 43,
    "start_time": "2022-10-16T07:33:05.393Z"
   },
   {
    "duration": 25,
    "start_time": "2022-10-16T07:33:05.439Z"
   },
   {
    "duration": 34,
    "start_time": "2022-10-16T07:33:05.466Z"
   },
   {
    "duration": 40,
    "start_time": "2022-10-16T07:33:05.502Z"
   },
   {
    "duration": 18,
    "start_time": "2022-10-16T07:33:05.543Z"
   },
   {
    "duration": 49,
    "start_time": "2022-10-16T07:33:05.562Z"
   },
   {
    "duration": 19,
    "start_time": "2022-10-16T07:33:05.613Z"
   },
   {
    "duration": 17,
    "start_time": "2022-10-16T07:33:05.633Z"
   },
   {
    "duration": 18,
    "start_time": "2022-10-16T07:33:05.652Z"
   },
   {
    "duration": 43,
    "start_time": "2022-10-16T07:33:05.672Z"
   },
   {
    "duration": 44,
    "start_time": "2022-10-16T07:33:05.717Z"
   },
   {
    "duration": 16,
    "start_time": "2022-10-16T07:33:05.763Z"
   }
  ],
  "kernelspec": {
   "display_name": "Python 3 (ipykernel)",
   "language": "python",
   "name": "python3"
  },
  "language_info": {
   "codemirror_mode": {
    "name": "ipython",
    "version": 3
   },
   "file_extension": ".py",
   "mimetype": "text/x-python",
   "name": "python",
   "nbconvert_exporter": "python",
   "pygments_lexer": "ipython3",
   "version": "3.9.12"
  },
  "toc": {
   "base_numbering": 1,
   "nav_menu": {},
   "number_sections": true,
   "sideBar": true,
   "skip_h1_title": true,
   "title_cell": "Table of Contents",
   "title_sidebar": "Contents",
   "toc_cell": true,
   "toc_position": {},
   "toc_section_display": true,
   "toc_window_display": false
  },
  "vscode": {
   "interpreter": {
    "hash": "e42901d9492c612649bfe5bc45fcd722e20e946cf8622850b2a92552b6453078"
   }
  }
 },
 "nbformat": 4,
 "nbformat_minor": 2
}
