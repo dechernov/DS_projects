{
 "cells": [
  {
   "cell_type": "markdown",
   "metadata": {
    "id": "E0vqbgi9ay0H"
   },
   "source": [
    "# Yandex.Music"
   ]
  },
  {
   "cell_type": "markdown",
   "metadata": {
    "id": "VUC88oWjTJw2"
   },
   "source": [
    "The comparison of Moscow and St. Petersburg is always surrounded by myths. For example:\n",
    " * Moscow is a metropolis with a rigid workweek rhythm;\n",
    " * St. Petersburg is a cultural capital with its tastes.\n",
    "\n",
    "Using the Yandex.Music dataset, we will compare the behavior of users of two capitals.\n",
    "\n",
    "**Objective** — test 3 hypothesis:\n",
    "1. User activity depends on the day of the week. Moreover, this manifests itself in different ways in Moscow and St. Petersburg.\n",
    "2. On Monday mornings, certain genres dominate in Moscow, while others dominate in St. Petersburg. Similarly, Friday evenings are dominated by different genres, depending on the city. \n",
    "3. Moscow and St. Petersburg prefer different genres of music. In Moscow they listen to pop music more often, in St. Petersburg - Russian rap.\n",
    "\n",
    "**Tasks**\n",
    "\n",
    "There is no information about the quality of the dataset. Therefore, we'll do some EDA before hypothesis testing. \n",
    "\n",
    "We'll check our data for errors and assess their impact on the research. During data preprocessing, we'll correct the most critical data errors. \n",
    " \n",
    "So there are 3 stages of our research:\n",
    " 1. Data verification.\n",
    " 2. Data pre-processing.\n",
    " 3. Hypothesis testing.\n",
    "\n"
   ]
  },
  {
   "cell_type": "markdown",
   "metadata": {
    "id": "Ml1hmfXC_Zcs"
   },
   "source": [
    "## Data overview"
   ]
  },
  {
   "cell_type": "code",
   "execution_count": 1,
   "metadata": {
    "id": "AXN7PHPN_Zcs"
   },
   "outputs": [],
   "source": [
    "import pandas as pd"
   ]
  },
  {
   "cell_type": "code",
   "execution_count": 2,
   "metadata": {
    "id": "fFVu7vqh_Zct"
   },
   "outputs": [],
   "source": [
    "df = pd.read_csv('https://code.s3.yandex.net/datasets/yandex_music_project.csv')"
   ]
  },
  {
   "cell_type": "code",
   "execution_count": 3,
   "metadata": {
    "id": "oWTVX3gW_Zct"
   },
   "outputs": [
    {
     "data": {
      "text/html": [
       "<div>\n",
       "<style scoped>\n",
       "    .dataframe tbody tr th:only-of-type {\n",
       "        vertical-align: middle;\n",
       "    }\n",
       "\n",
       "    .dataframe tbody tr th {\n",
       "        vertical-align: top;\n",
       "    }\n",
       "\n",
       "    .dataframe thead th {\n",
       "        text-align: right;\n",
       "    }\n",
       "</style>\n",
       "<table border=\"1\" class=\"dataframe\">\n",
       "  <thead>\n",
       "    <tr style=\"text-align: right;\">\n",
       "      <th></th>\n",
       "      <th>userID</th>\n",
       "      <th>Track</th>\n",
       "      <th>artist</th>\n",
       "      <th>genre</th>\n",
       "      <th>City</th>\n",
       "      <th>time</th>\n",
       "      <th>Day</th>\n",
       "    </tr>\n",
       "  </thead>\n",
       "  <tbody>\n",
       "    <tr>\n",
       "      <th>0</th>\n",
       "      <td>FFB692EC</td>\n",
       "      <td>Kamigata To Boots</td>\n",
       "      <td>The Mass Missile</td>\n",
       "      <td>rock</td>\n",
       "      <td>Saint-Petersburg</td>\n",
       "      <td>20:28:33</td>\n",
       "      <td>Wednesday</td>\n",
       "    </tr>\n",
       "    <tr>\n",
       "      <th>1</th>\n",
       "      <td>55204538</td>\n",
       "      <td>Delayed Because of Accident</td>\n",
       "      <td>Andreas Rönnberg</td>\n",
       "      <td>rock</td>\n",
       "      <td>Moscow</td>\n",
       "      <td>14:07:09</td>\n",
       "      <td>Friday</td>\n",
       "    </tr>\n",
       "    <tr>\n",
       "      <th>2</th>\n",
       "      <td>20EC38</td>\n",
       "      <td>Funiculì funiculà</td>\n",
       "      <td>Mario Lanza</td>\n",
       "      <td>pop</td>\n",
       "      <td>Saint-Petersburg</td>\n",
       "      <td>20:58:07</td>\n",
       "      <td>Wednesday</td>\n",
       "    </tr>\n",
       "    <tr>\n",
       "      <th>3</th>\n",
       "      <td>A3DD03C9</td>\n",
       "      <td>Dragons in the Sunset</td>\n",
       "      <td>Fire + Ice</td>\n",
       "      <td>folk</td>\n",
       "      <td>Saint-Petersburg</td>\n",
       "      <td>08:37:09</td>\n",
       "      <td>Monday</td>\n",
       "    </tr>\n",
       "    <tr>\n",
       "      <th>4</th>\n",
       "      <td>E2DC1FAE</td>\n",
       "      <td>Soul People</td>\n",
       "      <td>Space Echo</td>\n",
       "      <td>dance</td>\n",
       "      <td>Moscow</td>\n",
       "      <td>08:34:34</td>\n",
       "      <td>Monday</td>\n",
       "    </tr>\n",
       "    <tr>\n",
       "      <th>5</th>\n",
       "      <td>842029A1</td>\n",
       "      <td>Преданная</td>\n",
       "      <td>IMPERVTOR</td>\n",
       "      <td>rusrap</td>\n",
       "      <td>Saint-Petersburg</td>\n",
       "      <td>13:09:41</td>\n",
       "      <td>Friday</td>\n",
       "    </tr>\n",
       "    <tr>\n",
       "      <th>6</th>\n",
       "      <td>4CB90AA5</td>\n",
       "      <td>True</td>\n",
       "      <td>Roman Messer</td>\n",
       "      <td>dance</td>\n",
       "      <td>Moscow</td>\n",
       "      <td>13:00:07</td>\n",
       "      <td>Wednesday</td>\n",
       "    </tr>\n",
       "    <tr>\n",
       "      <th>7</th>\n",
       "      <td>F03E1C1F</td>\n",
       "      <td>Feeling This Way</td>\n",
       "      <td>Polina Griffith</td>\n",
       "      <td>dance</td>\n",
       "      <td>Moscow</td>\n",
       "      <td>20:47:49</td>\n",
       "      <td>Wednesday</td>\n",
       "    </tr>\n",
       "    <tr>\n",
       "      <th>8</th>\n",
       "      <td>8FA1D3BE</td>\n",
       "      <td>И вновь продолжается бой</td>\n",
       "      <td>NaN</td>\n",
       "      <td>ruspop</td>\n",
       "      <td>Moscow</td>\n",
       "      <td>09:17:40</td>\n",
       "      <td>Friday</td>\n",
       "    </tr>\n",
       "    <tr>\n",
       "      <th>9</th>\n",
       "      <td>E772D5C0</td>\n",
       "      <td>Pessimist</td>\n",
       "      <td>NaN</td>\n",
       "      <td>dance</td>\n",
       "      <td>Saint-Petersburg</td>\n",
       "      <td>21:20:49</td>\n",
       "      <td>Wednesday</td>\n",
       "    </tr>\n",
       "  </tbody>\n",
       "</table>\n",
       "</div>"
      ],
      "text/plain": [
       "     userID                        Track            artist   genre  \\\n",
       "0  FFB692EC            Kamigata To Boots  The Mass Missile    rock   \n",
       "1  55204538  Delayed Because of Accident  Andreas Rönnberg    rock   \n",
       "2    20EC38            Funiculì funiculà       Mario Lanza     pop   \n",
       "3  A3DD03C9        Dragons in the Sunset        Fire + Ice    folk   \n",
       "4  E2DC1FAE                  Soul People        Space Echo   dance   \n",
       "5  842029A1                    Преданная         IMPERVTOR  rusrap   \n",
       "6  4CB90AA5                         True      Roman Messer   dance   \n",
       "7  F03E1C1F             Feeling This Way   Polina Griffith   dance   \n",
       "8  8FA1D3BE     И вновь продолжается бой               NaN  ruspop   \n",
       "9  E772D5C0                    Pessimist               NaN   dance   \n",
       "\n",
       "             City        time        Day  \n",
       "0  Saint-Petersburg  20:28:33  Wednesday  \n",
       "1            Moscow  14:07:09     Friday  \n",
       "2  Saint-Petersburg  20:58:07  Wednesday  \n",
       "3  Saint-Petersburg  08:37:09     Monday  \n",
       "4            Moscow  08:34:34     Monday  \n",
       "5  Saint-Petersburg  13:09:41     Friday  \n",
       "6            Moscow  13:00:07  Wednesday  \n",
       "7            Moscow  20:47:49  Wednesday  \n",
       "8            Moscow  09:17:40     Friday  \n",
       "9  Saint-Petersburg  21:20:49  Wednesday  "
      ]
     },
     "execution_count": 3,
     "metadata": {},
     "output_type": "execute_result"
    }
   ],
   "source": [
    "df.head(10)"
   ]
  },
  {
   "cell_type": "code",
   "execution_count": 4,
   "metadata": {
    "id": "DSf2kIb-_Zct"
   },
   "outputs": [
    {
     "name": "stdout",
     "output_type": "stream",
     "text": [
      "<class 'pandas.core.frame.DataFrame'>\n",
      "RangeIndex: 65079 entries, 0 to 65078\n",
      "Data columns (total 7 columns):\n",
      " #   Column    Non-Null Count  Dtype \n",
      "---  ------    --------------  ----- \n",
      " 0     userID  65079 non-null  object\n",
      " 1   Track     63848 non-null  object\n",
      " 2   artist    57876 non-null  object\n",
      " 3   genre     63881 non-null  object\n",
      " 4     City    65079 non-null  object\n",
      " 5   time      65079 non-null  object\n",
      " 6   Day       65079 non-null  object\n",
      "dtypes: object(7)\n",
      "memory usage: 3.5+ MB\n"
     ]
    }
   ],
   "source": [
    "df.info()"
   ]
  },
  {
   "cell_type": "markdown",
   "metadata": {
    "id": "TaQ2Iwbr_Zct"
   },
   "source": [
    "There are 7 columns in a dataset. The data type in all columns is `object'.\n",
    "\n",
    "According to the dataset documentation:\n",
    "* `userID` - unique id of a user;\n",
    "* `track` - track name;  \n",
    "* `artist` - artist name;\n",
    "* `genre` - genre name;\n",
    "* `city` - city of the user;\n",
    "* `Time` - start time of listening;\n",
    "* Day` - day of the week.\n",
    "\n",
    "There are 3 style violations in the column headings:\n",
    "1. Lowercase letters are combined with uppercase letters.\n",
    "2. There are white spaces in the column headers.\n",
    "3. Snake case is not used in column names.\n",
    "\n",
    "\n",
    "\n",
    "There are missing values in our dataset."
   ]
  },
  {
   "cell_type": "markdown",
   "metadata": {
    "id": "MCB6-dXG_Zct"
   },
   "source": [
    "**Conclusions**\n",
    "\n",
    "* **Each row contains information about the track you are listening to. Some columns describe a track: its name, artist, and genre. Other columns describe a user: the city and time when they listened to the music.**\n",
    "\n",
    "* **Preliminarily, it can be argued that there is enough data to test the hypothesis. But there are missing values in the data and bad style in the column names.**"
   ]
  },
  {
   "cell_type": "markdown",
   "metadata": {
    "id": "SjYF6Ub9_Zct"
   },
   "source": [
    "## Data pre-processing"
   ]
  },
  {
   "cell_type": "markdown",
   "metadata": {
    "id": "dIaKXr29_Zct"
   },
   "source": [
    "### Column names correction"
   ]
  },
  {
   "cell_type": "code",
   "execution_count": 5,
   "metadata": {
    "id": "oKOTdF_Q_Zct"
   },
   "outputs": [
    {
     "data": {
      "text/plain": [
       "Index(['  userID', 'Track', 'artist', 'genre', '  City  ', 'time', 'Day'], dtype='object')"
      ]
     },
     "execution_count": 5,
     "metadata": {},
     "output_type": "execute_result"
    }
   ],
   "source": [
    "df.columns"
   ]
  },
  {
   "cell_type": "code",
   "execution_count": 6,
   "metadata": {
    "id": "ISlFqs5y_Zct"
   },
   "outputs": [],
   "source": [
    "df = df.rename(columns={'  userID': 'user_id',\n",
    "                       'Track': 'track',\n",
    "                        '  City  ': 'city',\n",
    "                        'Day': 'day'\n",
    "                       })"
   ]
  },
  {
   "cell_type": "code",
   "execution_count": 7,
   "metadata": {
    "id": "d4NOAmTW_Zct"
   },
   "outputs": [
    {
     "data": {
      "text/plain": [
       "Index(['user_id', 'track', 'artist', 'genre', 'city', 'time', 'day'], dtype='object')"
      ]
     },
     "execution_count": 7,
     "metadata": {},
     "output_type": "execute_result"
    }
   ],
   "source": [
    "# check\n",
    "df.columns"
   ]
  },
  {
   "cell_type": "markdown",
   "metadata": {
    "id": "5ISfbcfY_Zct"
   },
   "source": [
    "### Missing values"
   ]
  },
  {
   "cell_type": "code",
   "execution_count": 8,
   "metadata": {
    "id": "RskX29qr_Zct"
   },
   "outputs": [
    {
     "data": {
      "text/plain": [
       "user_id       0\n",
       "track      1231\n",
       "artist     7203\n",
       "genre      1198\n",
       "city          0\n",
       "time          0\n",
       "day           0\n",
       "dtype: int64"
      ]
     },
     "execution_count": 8,
     "metadata": {},
     "output_type": "execute_result"
    }
   ],
   "source": [
    "df.isna().sum()"
   ]
  },
  {
   "cell_type": "markdown",
   "metadata": {
    "id": "qubhgnlO_Zct"
   },
   "source": [
    "Not all missing values affect the research. Such values in the `track' and `artist' columns are not important. It is enough to replace them by explicit values.\n",
    "\n",
    "But missing values in the `genre` column can interfere with the comparison of musical tastes in Moscow and St. Petersburg. It would be correct to find out the reason for missing values and restore the data. But there is no such possibility in the training object. So we have to:\n",
    "* fill nans with the explicit values,\n",
    "* evaluate how much they will influence the calculations. "
   ]
  },
  {
   "cell_type": "markdown",
   "metadata": {
    "id": "fSv2laPA_Zct"
   },
   "source": [
    "We'll replace nans in the `track', `artist' and `genre` columns with the string `unknown`."
   ]
  },
  {
   "cell_type": "code",
   "execution_count": 9,
   "metadata": {
    "id": "KplB5qWs_Zct"
   },
   "outputs": [],
   "source": [
    "# for loop to replace nans with unknown string\n",
    "columns_to_replace = ['track', 'artist', 'genre'] # list of columns with nans\n",
    "\n",
    "for column in columns_to_replace: # for loop\n",
    "    df[column] = df[column].fillna('unknown') # replacing nans"
   ]
  },
  {
   "cell_type": "code",
   "execution_count": 10,
   "metadata": {
    "id": "Tq4nYRX4_Zct"
   },
   "outputs": [
    {
     "data": {
      "text/plain": [
       "user_id    0\n",
       "track      0\n",
       "artist     0\n",
       "genre      0\n",
       "city       0\n",
       "time       0\n",
       "day        0\n",
       "dtype: int64"
      ]
     },
     "execution_count": 10,
     "metadata": {},
     "output_type": "execute_result"
    }
   ],
   "source": [
    "# missing values check\n",
    "df.isna().sum()"
   ]
  },
  {
   "cell_type": "markdown",
   "metadata": {
    "id": "BWKRtBJ3_Zct"
   },
   "source": [
    "### Dealing with duplicates"
   ]
  },
  {
   "cell_type": "code",
   "execution_count": 11,
   "metadata": {
    "id": "36eES_S0_Zct"
   },
   "outputs": [
    {
     "data": {
      "text/plain": [
       "3826"
      ]
     },
     "execution_count": 11,
     "metadata": {},
     "output_type": "execute_result"
    }
   ],
   "source": [
    "# evaluating duplicates\n",
    "df.duplicated().sum()"
   ]
  },
  {
   "cell_type": "code",
   "execution_count": 12,
   "metadata": {
    "id": "exFHq6tt_Zct"
   },
   "outputs": [],
   "source": [
    "# deleting duplicates with reseting indexes\n",
    "df = df.drop_duplicates().reset_index(drop=True)"
   ]
  },
  {
   "cell_type": "code",
   "execution_count": 13,
   "metadata": {
    "id": "-8PuNWQ0_Zct"
   },
   "outputs": [
    {
     "data": {
      "text/plain": [
       "0"
      ]
     },
     "execution_count": 13,
     "metadata": {},
     "output_type": "execute_result"
    }
   ],
   "source": [
    "# duplicates check\n",
    "df.duplicated().sum()"
   ]
  },
  {
   "cell_type": "markdown",
   "metadata": {
    "id": "QlFBsxAr_Zct"
   },
   "source": [
    "In this step, we'll examine the implicit duplicates in the `genre` column. For example, the name of the same genre may be spelled slightly differently. Such errors will also affect the search results."
   ]
  },
  {
   "cell_type": "markdown",
   "metadata": {
    "id": "eSjWwsOh_Zct"
   },
   "source": [
    "Let's look at a list of unique genre names in alphabetical order. To do this: \n",
    "* extract the column we want\n",
    "* Apply a sort method to it\n",
    "* On the sorted column, we'll call a method that returns unique values from it."
   ]
  },
  {
   "cell_type": "code",
   "execution_count": 14,
   "metadata": {
    "id": "JIUcqzZN_Zct"
   },
   "outputs": [
    {
     "data": {
      "text/plain": [
       "['acid',\n",
       " 'acoustic',\n",
       " 'action',\n",
       " 'adult',\n",
       " 'africa',\n",
       " 'afrikaans',\n",
       " 'alternative',\n",
       " 'alternativepunk',\n",
       " 'ambient',\n",
       " 'americana',\n",
       " 'animated',\n",
       " 'anime',\n",
       " 'arabesk',\n",
       " 'arabic',\n",
       " 'arena',\n",
       " 'argentinetango',\n",
       " 'art',\n",
       " 'audiobook',\n",
       " 'author',\n",
       " 'avantgarde',\n",
       " 'axé',\n",
       " 'baile',\n",
       " 'balkan',\n",
       " 'beats',\n",
       " 'bigroom',\n",
       " 'black',\n",
       " 'bluegrass',\n",
       " 'blues',\n",
       " 'bollywood',\n",
       " 'bossa',\n",
       " 'brazilian',\n",
       " 'breakbeat',\n",
       " 'breaks',\n",
       " 'broadway',\n",
       " 'cantautori',\n",
       " 'cantopop',\n",
       " 'canzone',\n",
       " 'caribbean',\n",
       " 'caucasian',\n",
       " 'celtic',\n",
       " 'chamber',\n",
       " 'chanson',\n",
       " 'children',\n",
       " 'chill',\n",
       " 'chinese',\n",
       " 'choral',\n",
       " 'christian',\n",
       " 'christmas',\n",
       " 'classical',\n",
       " 'classicmetal',\n",
       " 'club',\n",
       " 'colombian',\n",
       " 'comedy',\n",
       " 'conjazz',\n",
       " 'contemporary',\n",
       " 'country',\n",
       " 'cuban',\n",
       " 'dance',\n",
       " 'dancehall',\n",
       " 'dancepop',\n",
       " 'dark',\n",
       " 'death',\n",
       " 'deep',\n",
       " 'deutschrock',\n",
       " 'deutschspr',\n",
       " 'dirty',\n",
       " 'disco',\n",
       " 'dnb',\n",
       " 'documentary',\n",
       " 'downbeat',\n",
       " 'downtempo',\n",
       " 'drum',\n",
       " 'dub',\n",
       " 'dubstep',\n",
       " 'eastern',\n",
       " 'easy',\n",
       " 'electronic',\n",
       " 'electropop',\n",
       " 'emo',\n",
       " 'entehno',\n",
       " 'epicmetal',\n",
       " 'estrada',\n",
       " 'ethnic',\n",
       " 'eurofolk',\n",
       " 'european',\n",
       " 'experimental',\n",
       " 'extrememetal',\n",
       " 'fado',\n",
       " 'fairytail',\n",
       " 'film',\n",
       " 'fitness',\n",
       " 'flamenco',\n",
       " 'folk',\n",
       " 'folklore',\n",
       " 'folkmetal',\n",
       " 'folkrock',\n",
       " 'folktronica',\n",
       " 'forró',\n",
       " 'frankreich',\n",
       " 'französisch',\n",
       " 'french',\n",
       " 'funk',\n",
       " 'future',\n",
       " 'gangsta',\n",
       " 'garage',\n",
       " 'german',\n",
       " 'ghazal',\n",
       " 'gitarre',\n",
       " 'glitch',\n",
       " 'gospel',\n",
       " 'gothic',\n",
       " 'grime',\n",
       " 'grunge',\n",
       " 'gypsy',\n",
       " 'handsup',\n",
       " \"hard'n'heavy\",\n",
       " 'hardcore',\n",
       " 'hardstyle',\n",
       " 'hardtechno',\n",
       " 'hip',\n",
       " 'hip-hop',\n",
       " 'hiphop',\n",
       " 'historisch',\n",
       " 'holiday',\n",
       " 'hop',\n",
       " 'horror',\n",
       " 'house',\n",
       " 'hymn',\n",
       " 'idm',\n",
       " 'independent',\n",
       " 'indian',\n",
       " 'indie',\n",
       " 'indipop',\n",
       " 'industrial',\n",
       " 'inspirational',\n",
       " 'instrumental',\n",
       " 'international',\n",
       " 'irish',\n",
       " 'jam',\n",
       " 'japanese',\n",
       " 'jazz',\n",
       " 'jewish',\n",
       " 'jpop',\n",
       " 'jungle',\n",
       " 'k-pop',\n",
       " 'karadeniz',\n",
       " 'karaoke',\n",
       " 'kayokyoku',\n",
       " 'korean',\n",
       " 'laiko',\n",
       " 'latin',\n",
       " 'latino',\n",
       " 'leftfield',\n",
       " 'local',\n",
       " 'lounge',\n",
       " 'loungeelectronic',\n",
       " 'lovers',\n",
       " 'malaysian',\n",
       " 'mandopop',\n",
       " 'marschmusik',\n",
       " 'meditative',\n",
       " 'mediterranean',\n",
       " 'melodic',\n",
       " 'metal',\n",
       " 'metalcore',\n",
       " 'mexican',\n",
       " 'middle',\n",
       " 'minimal',\n",
       " 'miscellaneous',\n",
       " 'modern',\n",
       " 'mood',\n",
       " 'mpb',\n",
       " 'muslim',\n",
       " 'native',\n",
       " 'neoklassik',\n",
       " 'neue',\n",
       " 'new',\n",
       " 'newage',\n",
       " 'newwave',\n",
       " 'nu',\n",
       " 'nujazz',\n",
       " 'numetal',\n",
       " 'oceania',\n",
       " 'old',\n",
       " 'opera',\n",
       " 'orchestral',\n",
       " 'other',\n",
       " 'piano',\n",
       " 'podcasts',\n",
       " 'pop',\n",
       " 'popdance',\n",
       " 'popelectronic',\n",
       " 'popeurodance',\n",
       " 'poprussian',\n",
       " 'post',\n",
       " 'posthardcore',\n",
       " 'postrock',\n",
       " 'power',\n",
       " 'progmetal',\n",
       " 'progressive',\n",
       " 'psychedelic',\n",
       " 'punjabi',\n",
       " 'punk',\n",
       " 'quebecois',\n",
       " 'ragga',\n",
       " 'ram',\n",
       " 'rancheras',\n",
       " 'rap',\n",
       " 'rave',\n",
       " 'reggae',\n",
       " 'reggaeton',\n",
       " 'regional',\n",
       " 'relax',\n",
       " 'religious',\n",
       " 'retro',\n",
       " 'rhythm',\n",
       " 'rnb',\n",
       " 'rnr',\n",
       " 'rock',\n",
       " 'rockabilly',\n",
       " 'rockalternative',\n",
       " 'rockindie',\n",
       " 'rockother',\n",
       " 'romance',\n",
       " 'roots',\n",
       " 'ruspop',\n",
       " 'rusrap',\n",
       " 'rusrock',\n",
       " 'russian',\n",
       " 'salsa',\n",
       " 'samba',\n",
       " 'scenic',\n",
       " 'schlager',\n",
       " 'self',\n",
       " 'sertanejo',\n",
       " 'shanson',\n",
       " 'shoegazing',\n",
       " 'showtunes',\n",
       " 'singer',\n",
       " 'ska',\n",
       " 'skarock',\n",
       " 'slow',\n",
       " 'smooth',\n",
       " 'soft',\n",
       " 'soul',\n",
       " 'soulful',\n",
       " 'sound',\n",
       " 'soundtrack',\n",
       " 'southern',\n",
       " 'specialty',\n",
       " 'speech',\n",
       " 'spiritual',\n",
       " 'sport',\n",
       " 'stonerrock',\n",
       " 'surf',\n",
       " 'swing',\n",
       " 'synthpop',\n",
       " 'synthrock',\n",
       " 'sängerportrait',\n",
       " 'tango',\n",
       " 'tanzorchester',\n",
       " 'taraftar',\n",
       " 'tatar',\n",
       " 'tech',\n",
       " 'techno',\n",
       " 'teen',\n",
       " 'thrash',\n",
       " 'top',\n",
       " 'traditional',\n",
       " 'tradjazz',\n",
       " 'trance',\n",
       " 'tribal',\n",
       " 'trip',\n",
       " 'triphop',\n",
       " 'tropical',\n",
       " 'türk',\n",
       " 'türkçe',\n",
       " 'ukrrock',\n",
       " 'unknown',\n",
       " 'urban',\n",
       " 'uzbek',\n",
       " 'variété',\n",
       " 'vi',\n",
       " 'videogame',\n",
       " 'vocal',\n",
       " 'western',\n",
       " 'world',\n",
       " 'worldbeat',\n",
       " 'ïîï',\n",
       " 'электроника']"
      ]
     },
     "execution_count": 14,
     "metadata": {},
     "output_type": "execute_result"
    }
   ],
   "source": [
    "# unique genres\n",
    "sorted(df['genre'].unique())"
   ]
  },
  {
   "cell_type": "markdown",
   "metadata": {
    "id": "qej-Qmuo_Zct"
   },
   "source": [
    "There are some explicit duplicates for the hip-hop genre:\n",
    "* *hip*,\n",
    "* *hop*,\n",
    "* *hip-hop*.\n",
    "\n",
    "To clean our dataset of these duplicates, we'll create a function that takes 2 arguments: \n",
    "* `wrong_genres` - list of duplicate genres,\n",
    "* `correct_genre` - string with a correct name."
   ]
  },
  {
   "cell_type": "code",
   "execution_count": 15,
   "metadata": {
    "id": "ErNDkmns_Zct"
   },
   "outputs": [],
   "source": [
    "# duplicates replacement function\n",
    "def replace_wrong_genres(wrong_genres, correct_genre):\n",
    "    for wrong_genre in wrong_genres:\n",
    "        df['genre'] = df['genre'].replace(wrong_genre, correct_genre)"
   ]
  },
  {
   "cell_type": "code",
   "execution_count": 16,
   "metadata": {
    "id": "YN5i2hpmSo09"
   },
   "outputs": [],
   "source": [
    "# replacing duplicates\n",
    "duplicates = ['hip', 'hop', 'hip-hop']\n",
    "\n",
    "correct_genre = 'hiphop'\n",
    "\n",
    "replace_wrong_genres(duplicates, correct_genre)"
   ]
  },
  {
   "cell_type": "code",
   "execution_count": 17,
   "metadata": {
    "id": "wvixALnFG15m"
   },
   "outputs": [
    {
     "data": {
      "text/plain": [
       "['acid',\n",
       " 'acoustic',\n",
       " 'action',\n",
       " 'adult',\n",
       " 'africa',\n",
       " 'afrikaans',\n",
       " 'alternative',\n",
       " 'alternativepunk',\n",
       " 'ambient',\n",
       " 'americana',\n",
       " 'animated',\n",
       " 'anime',\n",
       " 'arabesk',\n",
       " 'arabic',\n",
       " 'arena',\n",
       " 'argentinetango',\n",
       " 'art',\n",
       " 'audiobook',\n",
       " 'author',\n",
       " 'avantgarde',\n",
       " 'axé',\n",
       " 'baile',\n",
       " 'balkan',\n",
       " 'beats',\n",
       " 'bigroom',\n",
       " 'black',\n",
       " 'bluegrass',\n",
       " 'blues',\n",
       " 'bollywood',\n",
       " 'bossa',\n",
       " 'brazilian',\n",
       " 'breakbeat',\n",
       " 'breaks',\n",
       " 'broadway',\n",
       " 'cantautori',\n",
       " 'cantopop',\n",
       " 'canzone',\n",
       " 'caribbean',\n",
       " 'caucasian',\n",
       " 'celtic',\n",
       " 'chamber',\n",
       " 'chanson',\n",
       " 'children',\n",
       " 'chill',\n",
       " 'chinese',\n",
       " 'choral',\n",
       " 'christian',\n",
       " 'christmas',\n",
       " 'classical',\n",
       " 'classicmetal',\n",
       " 'club',\n",
       " 'colombian',\n",
       " 'comedy',\n",
       " 'conjazz',\n",
       " 'contemporary',\n",
       " 'country',\n",
       " 'cuban',\n",
       " 'dance',\n",
       " 'dancehall',\n",
       " 'dancepop',\n",
       " 'dark',\n",
       " 'death',\n",
       " 'deep',\n",
       " 'deutschrock',\n",
       " 'deutschspr',\n",
       " 'dirty',\n",
       " 'disco',\n",
       " 'dnb',\n",
       " 'documentary',\n",
       " 'downbeat',\n",
       " 'downtempo',\n",
       " 'drum',\n",
       " 'dub',\n",
       " 'dubstep',\n",
       " 'eastern',\n",
       " 'easy',\n",
       " 'electronic',\n",
       " 'electropop',\n",
       " 'emo',\n",
       " 'entehno',\n",
       " 'epicmetal',\n",
       " 'estrada',\n",
       " 'ethnic',\n",
       " 'eurofolk',\n",
       " 'european',\n",
       " 'experimental',\n",
       " 'extrememetal',\n",
       " 'fado',\n",
       " 'fairytail',\n",
       " 'film',\n",
       " 'fitness',\n",
       " 'flamenco',\n",
       " 'folk',\n",
       " 'folklore',\n",
       " 'folkmetal',\n",
       " 'folkrock',\n",
       " 'folktronica',\n",
       " 'forró',\n",
       " 'frankreich',\n",
       " 'französisch',\n",
       " 'french',\n",
       " 'funk',\n",
       " 'future',\n",
       " 'gangsta',\n",
       " 'garage',\n",
       " 'german',\n",
       " 'ghazal',\n",
       " 'gitarre',\n",
       " 'glitch',\n",
       " 'gospel',\n",
       " 'gothic',\n",
       " 'grime',\n",
       " 'grunge',\n",
       " 'gypsy',\n",
       " 'handsup',\n",
       " \"hard'n'heavy\",\n",
       " 'hardcore',\n",
       " 'hardstyle',\n",
       " 'hardtechno',\n",
       " 'hiphop',\n",
       " 'historisch',\n",
       " 'holiday',\n",
       " 'horror',\n",
       " 'house',\n",
       " 'hymn',\n",
       " 'idm',\n",
       " 'independent',\n",
       " 'indian',\n",
       " 'indie',\n",
       " 'indipop',\n",
       " 'industrial',\n",
       " 'inspirational',\n",
       " 'instrumental',\n",
       " 'international',\n",
       " 'irish',\n",
       " 'jam',\n",
       " 'japanese',\n",
       " 'jazz',\n",
       " 'jewish',\n",
       " 'jpop',\n",
       " 'jungle',\n",
       " 'k-pop',\n",
       " 'karadeniz',\n",
       " 'karaoke',\n",
       " 'kayokyoku',\n",
       " 'korean',\n",
       " 'laiko',\n",
       " 'latin',\n",
       " 'latino',\n",
       " 'leftfield',\n",
       " 'local',\n",
       " 'lounge',\n",
       " 'loungeelectronic',\n",
       " 'lovers',\n",
       " 'malaysian',\n",
       " 'mandopop',\n",
       " 'marschmusik',\n",
       " 'meditative',\n",
       " 'mediterranean',\n",
       " 'melodic',\n",
       " 'metal',\n",
       " 'metalcore',\n",
       " 'mexican',\n",
       " 'middle',\n",
       " 'minimal',\n",
       " 'miscellaneous',\n",
       " 'modern',\n",
       " 'mood',\n",
       " 'mpb',\n",
       " 'muslim',\n",
       " 'native',\n",
       " 'neoklassik',\n",
       " 'neue',\n",
       " 'new',\n",
       " 'newage',\n",
       " 'newwave',\n",
       " 'nu',\n",
       " 'nujazz',\n",
       " 'numetal',\n",
       " 'oceania',\n",
       " 'old',\n",
       " 'opera',\n",
       " 'orchestral',\n",
       " 'other',\n",
       " 'piano',\n",
       " 'podcasts',\n",
       " 'pop',\n",
       " 'popdance',\n",
       " 'popelectronic',\n",
       " 'popeurodance',\n",
       " 'poprussian',\n",
       " 'post',\n",
       " 'posthardcore',\n",
       " 'postrock',\n",
       " 'power',\n",
       " 'progmetal',\n",
       " 'progressive',\n",
       " 'psychedelic',\n",
       " 'punjabi',\n",
       " 'punk',\n",
       " 'quebecois',\n",
       " 'ragga',\n",
       " 'ram',\n",
       " 'rancheras',\n",
       " 'rap',\n",
       " 'rave',\n",
       " 'reggae',\n",
       " 'reggaeton',\n",
       " 'regional',\n",
       " 'relax',\n",
       " 'religious',\n",
       " 'retro',\n",
       " 'rhythm',\n",
       " 'rnb',\n",
       " 'rnr',\n",
       " 'rock',\n",
       " 'rockabilly',\n",
       " 'rockalternative',\n",
       " 'rockindie',\n",
       " 'rockother',\n",
       " 'romance',\n",
       " 'roots',\n",
       " 'ruspop',\n",
       " 'rusrap',\n",
       " 'rusrock',\n",
       " 'russian',\n",
       " 'salsa',\n",
       " 'samba',\n",
       " 'scenic',\n",
       " 'schlager',\n",
       " 'self',\n",
       " 'sertanejo',\n",
       " 'shanson',\n",
       " 'shoegazing',\n",
       " 'showtunes',\n",
       " 'singer',\n",
       " 'ska',\n",
       " 'skarock',\n",
       " 'slow',\n",
       " 'smooth',\n",
       " 'soft',\n",
       " 'soul',\n",
       " 'soulful',\n",
       " 'sound',\n",
       " 'soundtrack',\n",
       " 'southern',\n",
       " 'specialty',\n",
       " 'speech',\n",
       " 'spiritual',\n",
       " 'sport',\n",
       " 'stonerrock',\n",
       " 'surf',\n",
       " 'swing',\n",
       " 'synthpop',\n",
       " 'synthrock',\n",
       " 'sängerportrait',\n",
       " 'tango',\n",
       " 'tanzorchester',\n",
       " 'taraftar',\n",
       " 'tatar',\n",
       " 'tech',\n",
       " 'techno',\n",
       " 'teen',\n",
       " 'thrash',\n",
       " 'top',\n",
       " 'traditional',\n",
       " 'tradjazz',\n",
       " 'trance',\n",
       " 'tribal',\n",
       " 'trip',\n",
       " 'triphop',\n",
       " 'tropical',\n",
       " 'türk',\n",
       " 'türkçe',\n",
       " 'ukrrock',\n",
       " 'unknown',\n",
       " 'urban',\n",
       " 'uzbek',\n",
       " 'variété',\n",
       " 'vi',\n",
       " 'videogame',\n",
       " 'vocal',\n",
       " 'western',\n",
       " 'world',\n",
       " 'worldbeat',\n",
       " 'ïîï',\n",
       " 'электроника']"
      ]
     },
     "execution_count": 17,
     "metadata": {},
     "output_type": "execute_result"
    }
   ],
   "source": [
    "# check\n",
    "sorted(df['genre'].unique())"
   ]
  },
  {
   "cell_type": "markdown",
   "metadata": {
    "id": "jz6a9-7HQUDd"
   },
   "source": [
    "**Conclusions**\n",
    "\n",
    "* **The preprocessing of the data revealed three problems in our dataset:**\n",
    "\n",
    "    - header style irregularities,\n",
    "    - missing values,\n",
    "    - duplicates - explicit and implicit.\n",
    "\n",
    "* **We have corrected the headers to make the table easier to work with. Deleting duplicates will make the search more accurate. Missing values have been replaced by an `unknown` string. It remains to be seen if the missing values in the `genre` column will harm the research.**\n",
    "\n",
    "* **Now we can move on to hypothesis testing.**"
   ]
  },
  {
   "cell_type": "markdown",
   "metadata": {
    "id": "WttZHXH0SqKk"
   },
   "source": [
    "## Hypothesis testing"
   ]
  },
  {
   "cell_type": "markdown",
   "metadata": {
    "id": "Im936VVi_Zcu"
   },
   "source": [
    "### Comparison of user behavior between two capitals"
   ]
  },
  {
   "cell_type": "markdown",
   "metadata": {
    "id": "nwt_MuaL_Zcu"
   },
   "source": [
    "The first hypothesis is that users in Moscow and St. Petersburg listen to music differently. We'll test this hypothesis using data from three days of the week - Monday, Wednesday, and Friday:\n",
    "\n",
    "* we'll separate Moscow and St. Petersburg users\n",
    "* compare how many tracks each group of users listened to on Monday, Wednesday, and Friday."
   ]
  },
  {
   "cell_type": "code",
   "execution_count": 18,
   "metadata": {
    "id": "0_Qs96oh_Zcu"
   },
   "outputs": [
    {
     "data": {
      "text/plain": [
       "city\n",
       "Moscow              42741\n",
       "Saint-Petersburg    18512\n",
       "Name: user_id, dtype: int64"
      ]
     },
     "execution_count": 18,
     "metadata": {},
     "output_type": "execute_result"
    }
   ],
   "source": [
    "# counting track listenings in each city\n",
    "df.groupby('city')['user_id'].count()"
   ]
  },
  {
   "cell_type": "markdown",
   "metadata": {
    "id": "dzli3w8o_Zcu"
   },
   "source": [
    "There are more listeners in Moscow than in St. Petersburg. It doesn't mean that Moscow users listen to music more often. It's just that there are more users in Moscow.\n",
    "\n",
    "Now we'll group our data by day of the week, counting listens on Monday, Wednesday, and Friday. Note that the data only contains information for these days."
   ]
  },
  {
   "cell_type": "code",
   "execution_count": 19,
   "metadata": {
    "id": "uZMKjiJz_Zcu"
   },
   "outputs": [
    {
     "data": {
      "text/plain": [
       "day\n",
       "Friday       21840\n",
       "Monday       21354\n",
       "Wednesday    18059\n",
       "Name: user_id, dtype: int64"
      ]
     },
     "execution_count": 19,
     "metadata": {},
     "output_type": "execute_result"
    }
   ],
   "source": [
    "# counting track listenings for each of three days\n",
    "df.groupby('day')['user_id'].count()"
   ]
  },
  {
   "cell_type": "markdown",
   "metadata": {
    "id": "cC2tNrlL_Zcu"
   },
   "source": [
    "On average, users from both cities are less active on Wednesdays. But the picture of user behavior can change if we look at each city separately."
   ]
  },
  {
   "cell_type": "markdown",
   "metadata": {
    "id": "POzs8bGa_Zcu"
   },
   "source": [
    "Let's create a function that combines the two calculations. It will count the tracks listened to for a given day and city. There will be two arguments:\n",
    "* day of the week,\n",
    "* city name."
   ]
  },
  {
   "cell_type": "code",
   "execution_count": 20,
   "metadata": {
    "id": "Nz3GdQB1_Zcu"
   },
   "outputs": [],
   "source": [
    "# counting track listenings function\n",
    "def number_tracks(day, city):\n",
    "    track_list = df[df['day'] == day]\n",
    "    track_list = track_list[track_list['city'] == city]\n",
    "    track_list_count = track_list['user_id'].count()\n",
    "    return track_list_count"
   ]
  },
  {
   "cell_type": "code",
   "execution_count": 21,
   "metadata": {
    "id": "rJcRATNQ_Zcu"
   },
   "outputs": [
    {
     "data": {
      "text/plain": [
       "15740"
      ]
     },
     "execution_count": 21,
     "metadata": {},
     "output_type": "execute_result"
    }
   ],
   "source": [
    "# number of tracks listenings in Moscow on Mondays\n",
    "number_tracks('Monday', 'Moscow')"
   ]
  },
  {
   "cell_type": "code",
   "execution_count": 22,
   "metadata": {
    "id": "hq_ncZ5T_Zcu"
   },
   "outputs": [
    {
     "data": {
      "text/plain": [
       "5614"
      ]
     },
     "execution_count": 22,
     "metadata": {},
     "output_type": "execute_result"
    }
   ],
   "source": [
    "# number of tracks listenings in St. Petersburg on Mondays\n",
    "number_tracks('Monday', 'Saint-Petersburg')"
   ]
  },
  {
   "cell_type": "code",
   "execution_count": 23,
   "metadata": {
    "id": "_NTy2VPU_Zcu"
   },
   "outputs": [
    {
     "data": {
      "text/plain": [
       "11056"
      ]
     },
     "execution_count": 23,
     "metadata": {},
     "output_type": "execute_result"
    }
   ],
   "source": [
    "# number of tracks listenings in Moscow on Wednesdays\n",
    "number_tracks('Wednesday', 'Moscow')"
   ]
  },
  {
   "cell_type": "code",
   "execution_count": 24,
   "metadata": {
    "id": "j2y3TAwo_Zcu"
   },
   "outputs": [
    {
     "data": {
      "text/plain": [
       "7003"
      ]
     },
     "execution_count": 24,
     "metadata": {},
     "output_type": "execute_result"
    }
   ],
   "source": [
    "# number of tracks listenings in St. Petersburg on Wednesdays\n",
    "number_tracks('Wednesday', 'Saint-Petersburg')"
   ]
  },
  {
   "cell_type": "code",
   "execution_count": 25,
   "metadata": {
    "id": "vYDw5u_K_Zcu"
   },
   "outputs": [
    {
     "data": {
      "text/plain": [
       "15945"
      ]
     },
     "execution_count": 25,
     "metadata": {},
     "output_type": "execute_result"
    }
   ],
   "source": [
    "# number of tracks listenings in Moscow on Fridays\n",
    "number_tracks('Friday', 'Moscow')"
   ]
  },
  {
   "cell_type": "code",
   "execution_count": 26,
   "metadata": {
    "id": "8_yzFtW3_Zcu"
   },
   "outputs": [
    {
     "data": {
      "text/plain": [
       "5895"
      ]
     },
     "execution_count": 26,
     "metadata": {},
     "output_type": "execute_result"
    }
   ],
   "source": [
    "# number of tracks listenings in St. Petersburg on Fridays\n",
    "number_tracks('Friday', 'Saint-Petersburg')"
   ]
  },
  {
   "cell_type": "code",
   "execution_count": 27,
   "metadata": {
    "id": "APAcLpOr_Zcu"
   },
   "outputs": [
    {
     "data": {
      "text/html": [
       "<div>\n",
       "<style scoped>\n",
       "    .dataframe tbody tr th:only-of-type {\n",
       "        vertical-align: middle;\n",
       "    }\n",
       "\n",
       "    .dataframe tbody tr th {\n",
       "        vertical-align: top;\n",
       "    }\n",
       "\n",
       "    .dataframe thead th {\n",
       "        text-align: right;\n",
       "    }\n",
       "</style>\n",
       "<table border=\"1\" class=\"dataframe\">\n",
       "  <thead>\n",
       "    <tr style=\"text-align: right;\">\n",
       "      <th></th>\n",
       "      <th>city</th>\n",
       "      <th>monday</th>\n",
       "      <th>wednesday</th>\n",
       "      <th>friday</th>\n",
       "    </tr>\n",
       "  </thead>\n",
       "  <tbody>\n",
       "    <tr>\n",
       "      <th>0</th>\n",
       "      <td>Moscow</td>\n",
       "      <td>15740</td>\n",
       "      <td>11056</td>\n",
       "      <td>15945</td>\n",
       "    </tr>\n",
       "    <tr>\n",
       "      <th>1</th>\n",
       "      <td>Saint-Petersburg</td>\n",
       "      <td>5614</td>\n",
       "      <td>7003</td>\n",
       "      <td>5895</td>\n",
       "    </tr>\n",
       "  </tbody>\n",
       "</table>\n",
       "</div>"
      ],
      "text/plain": [
       "               city  monday  wednesday  friday\n",
       "0            Moscow   15740      11056   15945\n",
       "1  Saint-Petersburg    5614       7003    5895"
      ]
     },
     "metadata": {},
     "output_type": "display_data"
    }
   ],
   "source": [
    "# creating dataframe with results\n",
    "columns = ['city', 'monday', 'wednesday', 'friday'] # columns names\n",
    "\n",
    "data = [['Moscow', 15740, 11056, 15945],\n",
    "        ['Saint-Petersburg', 5614, 7003, 5895]] # number of listenings\n",
    "\n",
    "total = pd.DataFrame(data=data, columns=columns)\n",
    "\n",
    "display(total)"
   ]
  },
  {
   "cell_type": "markdown",
   "metadata": {
    "id": "-EgPIHYu_Zcu"
   },
   "source": [
    "**Conclusions**\n",
    "\n",
    "The data shows the difference in listening patterns:\n",
    "\n",
    "- In Moscow, listening peaks on Mondays and Fridays, with a noticeable drop on Wednesdays.\n",
    "- In St. Petersburg, on the other hand, more music is listened to on Wednesdays. The activity on Mondays and Fridays is almost as low as that on Wednesdays.\n",
    "\n",
    "So the data supports the first hypothesis."
   ]
  },
  {
   "cell_type": "markdown",
   "metadata": {
    "id": "atZAxtq4_Zcu"
   },
   "source": [
    "### Difference between beginning and end of week"
   ]
  },
  {
   "cell_type": "markdown",
   "metadata": {
    "id": "eXrQqXFH_Zcu"
   },
   "source": [
    "According to the second hypothesis, Monday mornings in Moscow are dominated by different genres than in St. Petersburg. Similarly, Friday evenings are dominated by different genres depending on the city."
   ]
  },
  {
   "cell_type": "code",
   "execution_count": 28,
   "metadata": {
    "id": "qeaFfM_P_Zcu"
   },
   "outputs": [],
   "source": [
    "# getting rows for Moscow\n",
    "moscow_general = df[df['city'] == 'Moscow']"
   ]
  },
  {
   "cell_type": "code",
   "execution_count": 29,
   "metadata": {
    "id": "ORaVRKto_Zcu"
   },
   "outputs": [],
   "source": [
    "# getting rows for St. Petersburg\n",
    "spb_general = df[df['city'] == 'Saint-Petersburg']"
   ]
  },
  {
   "cell_type": "markdown",
   "metadata": {
    "id": "MEJV-CX2_Zcu"
   },
   "source": [
    "We'll create a function that returns the top 10 genres listened to on a given day between two timestamps. The function will take four arguments:\n",
    "* df containing the data,\n",
    "* day of week,\n",
    "* start timestamp 'hh:mm \n",
    "* end timestamp 'hh: mm'."
   ]
  },
  {
   "cell_type": "code",
   "execution_count": 30,
   "metadata": {
    "id": "laJT9BYl_Zcu"
   },
   "outputs": [],
   "source": [
    "# counting top-10 genres function\n",
    "def genre_weekday(table, day, time1, time2):\n",
    "    genre_df = table[table['day'] == day]\n",
    "    genre_df = genre_df[genre_df['time'] > time1]\n",
    "    genre_df = genre_df[genre_df['time'] < time2]\n",
    "    genre_df_count = genre_df.groupby('genre')['genre'].count()\n",
    "    genre_df_sorted = genre_df_count.sort_values(ascending=False)\n",
    "    return genre_df_sorted.head(10)"
   ]
  },
  {
   "cell_type": "markdown",
   "metadata": {
    "id": "la2s2_PF_Zcu"
   },
   "source": [
    "Let's check the difference between Moscow and St. Petersburg for Monday morning (07:00-11:00) and Friday evening (17:00-23:00)."
   ]
  },
  {
   "cell_type": "code",
   "execution_count": 31,
   "metadata": {
    "id": "yz7itPUQ_Zcu"
   },
   "outputs": [
    {
     "data": {
      "text/plain": [
       "genre\n",
       "pop            781\n",
       "dance          549\n",
       "electronic     480\n",
       "rock           474\n",
       "hiphop         286\n",
       "ruspop         186\n",
       "world          181\n",
       "rusrap         175\n",
       "alternative    164\n",
       "unknown        161\n",
       "Name: genre, dtype: int64"
      ]
     },
     "execution_count": 31,
     "metadata": {},
     "output_type": "execute_result"
    }
   ],
   "source": [
    "# genres for Moscow on Mondays mornings\n",
    "genre_weekday(moscow_general, 'Monday', '07:00', '11:00')"
   ]
  },
  {
   "cell_type": "code",
   "execution_count": 32,
   "metadata": {
    "id": "kwUcHPdy_Zcu"
   },
   "outputs": [
    {
     "data": {
      "text/plain": [
       "genre\n",
       "pop            218\n",
       "dance          182\n",
       "rock           162\n",
       "electronic     147\n",
       "hiphop          80\n",
       "ruspop          64\n",
       "alternative     58\n",
       "rusrap          55\n",
       "jazz            44\n",
       "classical       40\n",
       "Name: genre, dtype: int64"
      ]
     },
     "execution_count": 32,
     "metadata": {},
     "output_type": "execute_result"
    }
   ],
   "source": [
    "# genres for St. Petersburg on Mondays mornings\n",
    "genre_weekday(spb_general, 'Monday', '07:00', '11:00')"
   ]
  },
  {
   "cell_type": "code",
   "execution_count": 33,
   "metadata": {
    "id": "EzXVRE1o_Zcu"
   },
   "outputs": [
    {
     "data": {
      "text/plain": [
       "genre\n",
       "pop            713\n",
       "rock           517\n",
       "dance          495\n",
       "electronic     482\n",
       "hiphop         273\n",
       "world          208\n",
       "ruspop         170\n",
       "alternative    163\n",
       "classical      163\n",
       "rusrap         142\n",
       "Name: genre, dtype: int64"
      ]
     },
     "execution_count": 33,
     "metadata": {},
     "output_type": "execute_result"
    }
   ],
   "source": [
    "# genres for Moscow on Friday evenings\n",
    "genre_weekday(moscow_general, 'Friday', '17:00', '23:00')"
   ]
  },
  {
   "cell_type": "code",
   "execution_count": 34,
   "metadata": {
    "id": "JZaEKu5v_Zcu"
   },
   "outputs": [
    {
     "data": {
      "text/plain": [
       "genre\n",
       "pop            256\n",
       "electronic     216\n",
       "rock           216\n",
       "dance          210\n",
       "hiphop          97\n",
       "alternative     63\n",
       "jazz            61\n",
       "classical       60\n",
       "rusrap          59\n",
       "world           54\n",
       "Name: genre, dtype: int64"
      ]
     },
     "execution_count": 34,
     "metadata": {},
     "output_type": "execute_result"
    }
   ],
   "source": [
    "# genres for St. Petersburg on Friday evenings\n",
    "genre_weekday(spb_general, 'Friday', '17:00', '23:00')"
   ]
  },
  {
   "cell_type": "markdown",
   "metadata": {
    "id": "wrCe4MNX_Zcu"
   },
   "source": [
    "**Conclusions**\n",
    "\n",
    "If we compare the top 10 genres on Monday morning, we can draw some conclusions:\n",
    "\n",
    "1. People in Moscow and St. Petersburg listen to similar music. The only difference is that the Moscow rating includes the \"world\" genre, and the St. Petersburg rating includes jazz and classical music.\n",
    "\n",
    "2. In Moscow there were so many missing values that the \"unknown\" genre took 10th place among the most popular genres. This means that the missing values represent a significant proportion of the data and threaten the credibility of the research.\n",
    "\n",
    "Friday nights don't change the picture. Some genres go up a bit, others go down, but overall the top 10 remains the same.\n",
    "\n",
    "So the second hypothesis is only partially confirmed:\n",
    "* Users listen to similar music at the beginning and end of the week.\n",
    "* The difference between Moscow and St. Petersburg is not so great. In Moscow people listen more often to Russian popular music, in St. Petersburg to jazz.\n",
    "\n",
    "However, the missing values cast doubt on this result. There are so many of them in Moscow that the top 10 could look different if there were data without nans."
   ]
  },
  {
   "cell_type": "markdown",
   "metadata": {
    "id": "JolODAqr_Zcu"
   },
   "source": [
    "### Moscow and St. Petersburg genre preferences\n",
    "\n",
    "Hypothesis: St. Petersburg is the Russian capital of rap, and this genre is heard more often in this city than in Moscow. And Moscow is a city of contrasts, where pop music still predominates."
   ]
  },
  {
   "cell_type": "markdown",
   "metadata": {
    "id": "DlegSvaT_Zcu"
   },
   "source": [
    "We'll group the `moscow_general` table by genre and count the listens of each genre using the \"count()\" method. Then we'll sort the results in ascending order."
   ]
  },
  {
   "cell_type": "code",
   "execution_count": 35,
   "metadata": {
    "id": "r19lIPke_Zcu"
   },
   "outputs": [],
   "source": [
    "# counting genres for Moscow\n",
    "moscow_genres = moscow_general.groupby('genre')['genre'].count().sort_values(ascending=False)"
   ]
  },
  {
   "cell_type": "code",
   "execution_count": 36,
   "metadata": {
    "id": "WhCSooF8_Zcv"
   },
   "outputs": [
    {
     "data": {
      "text/plain": [
       "genre\n",
       "pop            5892\n",
       "dance          4435\n",
       "rock           3965\n",
       "electronic     3786\n",
       "hiphop         2096\n",
       "classical      1616\n",
       "world          1432\n",
       "alternative    1379\n",
       "ruspop         1372\n",
       "rusrap         1161\n",
       "Name: genre, dtype: int64"
      ]
     },
     "execution_count": 36,
     "metadata": {},
     "output_type": "execute_result"
    }
   ],
   "source": [
    "moscow_genres.head(10)"
   ]
  },
  {
   "cell_type": "code",
   "execution_count": 37,
   "metadata": {
    "id": "gluLIpE7_Zcv"
   },
   "outputs": [],
   "source": [
    "# counting genres for St. Petersburg\n",
    "spb_genres = spb_general.groupby('genre')['genre'].count().sort_values(ascending=False)"
   ]
  },
  {
   "cell_type": "code",
   "execution_count": 38,
   "metadata": {
    "id": "uaGJHjVU_Zcv"
   },
   "outputs": [
    {
     "data": {
      "text/plain": [
       "genre\n",
       "pop            2431\n",
       "dance          1932\n",
       "rock           1879\n",
       "electronic     1736\n",
       "hiphop          960\n",
       "alternative     649\n",
       "classical       646\n",
       "rusrap          564\n",
       "ruspop          538\n",
       "world           515\n",
       "Name: genre, dtype: int64"
      ]
     },
     "execution_count": 38,
     "metadata": {},
     "output_type": "execute_result"
    }
   ],
   "source": [
    "spb_genres.head(10)"
   ]
  },
  {
   "cell_type": "markdown",
   "metadata": {
    "id": "RY51YJYu_Zcv"
   },
   "source": [
    "**Conclusions**"
   ]
  },
  {
   "cell_type": "markdown",
   "metadata": {
    "id": "nVhnJEm__Zcv"
   },
   "source": [
    "The hypothesis was partly confirmed:\n",
    "* Pop music is the most popular genre in Moscow, as the hypothesis suggested. Moreover, in the top 10 genres there is a close genre - Russian popular music.\n",
    "* Contrary to expectations, rap is equally popular in Moscow and St. Petersburg."
   ]
  },
  {
   "cell_type": "markdown",
   "metadata": {
    "id": "ykKQ0N65_Zcv"
   },
   "source": [
    "## Summary"
   ]
  },
  {
   "cell_type": "markdown",
   "metadata": {
    "id": "tjUwbHb3_Zcv"
   },
   "source": [
    "We tested three hypotheses and concluded that\n",
    "\n",
    "1. The day of the week has a different effect on user activity in Moscow and St. Petersburg.\n",
    "\n",
    "The first hypothesis was fully confirmed.\n",
    "\n",
    "2. Musical preferences do not change much during the week in either Moscow or St. Petersburg. There are slight differences at the beginning of the week, on Mondays:\n",
    "* in Moscow they listen to \"world\" music,\n",
    "* In St. Petersburg they listen to jazz and classical music.\n",
    "\n",
    "Thus, the second hypothesis was only partially confirmed. The result could have been different if there were no missing values in the data.\n",
    "\n",
    "3. The tastes of Moscow and St. Petersburg users have more similarities than differences. Contrary to expectations, genre preferences in St. Petersburg were similar to those in Moscow.\n",
    "\n",
    "The third hypothesis was rejected. If there are differences in preferences, they are not noticeable for the majority of users."
   ]
  }
 ],
 "metadata": {
  "ExecuteTimeLog": [
   {
    "duration": 657,
    "start_time": "2022-05-09T13:50:24.471Z"
   },
   {
    "duration": 254,
    "start_time": "2022-05-09T13:50:25.132Z"
   },
   {
    "duration": 26,
    "start_time": "2022-05-09T13:50:25.388Z"
   },
   {
    "duration": 57,
    "start_time": "2022-05-09T13:50:25.417Z"
   },
   {
    "duration": 12,
    "start_time": "2022-05-09T13:50:25.476Z"
   },
   {
    "duration": 18,
    "start_time": "2022-05-09T13:50:25.490Z"
   },
   {
    "duration": 12,
    "start_time": "2022-05-09T13:50:25.511Z"
   },
   {
    "duration": 73,
    "start_time": "2022-05-09T13:50:25.524Z"
   },
   {
    "duration": 22,
    "start_time": "2022-05-09T13:50:25.599Z"
   },
   {
    "duration": 56,
    "start_time": "2022-05-09T13:50:25.625Z"
   },
   {
    "duration": 111,
    "start_time": "2022-05-09T13:50:25.684Z"
   },
   {
    "duration": 128,
    "start_time": "2022-05-09T13:50:25.798Z"
   },
   {
    "duration": 108,
    "start_time": "2022-05-09T13:50:25.928Z"
   },
   {
    "duration": 33,
    "start_time": "2022-05-09T13:50:26.038Z"
   },
   {
    "duration": 12,
    "start_time": "2022-05-09T13:50:26.074Z"
   },
   {
    "duration": 18,
    "start_time": "2022-05-09T13:50:26.088Z"
   },
   {
    "duration": 15,
    "start_time": "2022-05-09T13:50:26.108Z"
   },
   {
    "duration": 45,
    "start_time": "2022-05-09T13:50:26.125Z"
   },
   {
    "duration": 25,
    "start_time": "2022-05-09T13:50:26.173Z"
   },
   {
    "duration": 5,
    "start_time": "2022-05-09T13:50:26.200Z"
   },
   {
    "duration": 52,
    "start_time": "2022-05-09T13:50:26.207Z"
   },
   {
    "duration": 21,
    "start_time": "2022-05-09T13:50:26.262Z"
   },
   {
    "duration": 21,
    "start_time": "2022-05-09T13:50:26.286Z"
   },
   {
    "duration": 60,
    "start_time": "2022-05-09T13:50:26.310Z"
   },
   {
    "duration": 21,
    "start_time": "2022-05-09T13:50:26.372Z"
   },
   {
    "duration": 20,
    "start_time": "2022-05-09T13:50:26.395Z"
   },
   {
    "duration": 50,
    "start_time": "2022-05-09T13:50:26.417Z"
   },
   {
    "duration": 15,
    "start_time": "2022-05-09T13:50:26.474Z"
   },
   {
    "duration": 15,
    "start_time": "2022-05-09T13:50:26.492Z"
   },
   {
    "duration": 7,
    "start_time": "2022-05-09T13:50:26.509Z"
   },
   {
    "duration": 61,
    "start_time": "2022-05-09T13:50:26.518Z"
   },
   {
    "duration": 16,
    "start_time": "2022-05-09T13:50:26.582Z"
   },
   {
    "duration": 24,
    "start_time": "2022-05-09T13:50:26.601Z"
   },
   {
    "duration": 40,
    "start_time": "2022-05-09T13:50:26.628Z"
   },
   {
    "duration": 21,
    "start_time": "2022-05-09T13:50:26.670Z"
   },
   {
    "duration": 7,
    "start_time": "2022-05-09T13:50:26.694Z"
   },
   {
    "duration": 10,
    "start_time": "2022-05-09T13:50:26.703Z"
   },
   {
    "duration": 7,
    "start_time": "2022-05-09T13:50:26.715Z"
   },
   {
    "duration": 513,
    "start_time": "2022-05-09T13:51:57.286Z"
   },
   {
    "duration": 318,
    "start_time": "2022-05-09T13:51:57.803Z"
   },
   {
    "duration": 48,
    "start_time": "2022-05-09T13:51:58.124Z"
   },
   {
    "duration": 79,
    "start_time": "2022-05-09T13:51:58.176Z"
   },
   {
    "duration": 7,
    "start_time": "2022-05-09T13:51:58.269Z"
   },
   {
    "duration": 45,
    "start_time": "2022-05-09T13:51:58.279Z"
   },
   {
    "duration": 22,
    "start_time": "2022-05-09T13:51:58.326Z"
   },
   {
    "duration": 84,
    "start_time": "2022-05-09T13:51:58.351Z"
   },
   {
    "duration": 56,
    "start_time": "2022-05-09T13:51:58.437Z"
   },
   {
    "duration": 65,
    "start_time": "2022-05-09T13:51:58.499Z"
   },
   {
    "duration": 180,
    "start_time": "2022-05-09T13:51:58.567Z"
   },
   {
    "duration": 180,
    "start_time": "2022-05-09T13:51:58.750Z"
   },
   {
    "duration": 143,
    "start_time": "2022-05-09T13:51:58.933Z"
   },
   {
    "duration": 14,
    "start_time": "2022-05-09T13:51:59.078Z"
   },
   {
    "duration": 18,
    "start_time": "2022-05-09T13:51:59.095Z"
   },
   {
    "duration": 43,
    "start_time": "2022-05-09T13:51:59.115Z"
   },
   {
    "duration": 57,
    "start_time": "2022-05-09T13:51:59.160Z"
   },
   {
    "duration": 24,
    "start_time": "2022-05-09T13:51:59.220Z"
   },
   {
    "duration": 43,
    "start_time": "2022-05-09T13:51:59.247Z"
   },
   {
    "duration": 9,
    "start_time": "2022-05-09T13:51:59.293Z"
   },
   {
    "duration": 37,
    "start_time": "2022-05-09T13:51:59.305Z"
   },
   {
    "duration": 31,
    "start_time": "2022-05-09T13:51:59.344Z"
   },
   {
    "duration": 33,
    "start_time": "2022-05-09T13:51:59.377Z"
   },
   {
    "duration": 49,
    "start_time": "2022-05-09T13:51:59.412Z"
   },
   {
    "duration": 34,
    "start_time": "2022-05-09T13:51:59.463Z"
   },
   {
    "duration": 25,
    "start_time": "2022-05-09T13:51:59.500Z"
   },
   {
    "duration": 40,
    "start_time": "2022-05-09T13:51:59.527Z"
   },
   {
    "duration": 34,
    "start_time": "2022-05-09T13:51:59.575Z"
   },
   {
    "duration": 25,
    "start_time": "2022-05-09T13:51:59.612Z"
   },
   {
    "duration": 8,
    "start_time": "2022-05-09T13:51:59.640Z"
   },
   {
    "duration": 77,
    "start_time": "2022-05-09T13:51:59.650Z"
   },
   {
    "duration": 26,
    "start_time": "2022-05-09T13:51:59.731Z"
   },
   {
    "duration": 31,
    "start_time": "2022-05-09T13:51:59.761Z"
   },
   {
    "duration": 18,
    "start_time": "2022-05-09T13:51:59.794Z"
   },
   {
    "duration": 28,
    "start_time": "2022-05-09T13:51:59.815Z"
   },
   {
    "duration": 13,
    "start_time": "2022-05-09T13:51:59.857Z"
   },
   {
    "duration": 23,
    "start_time": "2022-05-09T13:51:59.872Z"
   },
   {
    "duration": 6,
    "start_time": "2022-05-09T13:51:59.897Z"
   },
   {
    "duration": 392,
    "start_time": "2022-05-10T08:12:06.506Z"
   },
   {
    "duration": 169,
    "start_time": "2022-05-10T08:12:06.901Z"
   },
   {
    "duration": 18,
    "start_time": "2022-05-10T08:12:07.072Z"
   },
   {
    "duration": 30,
    "start_time": "2022-05-10T08:12:07.092Z"
   },
   {
    "duration": 4,
    "start_time": "2022-05-10T08:12:07.124Z"
   },
   {
    "duration": 16,
    "start_time": "2022-05-10T08:12:07.130Z"
   },
   {
    "duration": 4,
    "start_time": "2022-05-10T08:12:07.173Z"
   },
   {
    "duration": 28,
    "start_time": "2022-05-10T08:12:07.179Z"
   },
   {
    "duration": 19,
    "start_time": "2022-05-10T08:12:07.209Z"
   },
   {
    "duration": 46,
    "start_time": "2022-05-10T08:12:07.231Z"
   },
   {
    "duration": 67,
    "start_time": "2022-05-10T08:12:07.279Z"
   },
   {
    "duration": 96,
    "start_time": "2022-05-10T08:12:07.348Z"
   },
   {
    "duration": 71,
    "start_time": "2022-05-10T08:12:07.446Z"
   },
   {
    "duration": 9,
    "start_time": "2022-05-10T08:12:07.518Z"
   },
   {
    "duration": 3,
    "start_time": "2022-05-10T08:12:07.529Z"
   },
   {
    "duration": 12,
    "start_time": "2022-05-10T08:12:07.533Z"
   },
   {
    "duration": 28,
    "start_time": "2022-05-10T08:12:07.546Z"
   },
   {
    "duration": 12,
    "start_time": "2022-05-10T08:12:07.576Z"
   },
   {
    "duration": 11,
    "start_time": "2022-05-10T08:12:07.590Z"
   },
   {
    "duration": 3,
    "start_time": "2022-05-10T08:12:07.603Z"
   },
   {
    "duration": 20,
    "start_time": "2022-05-10T08:12:07.608Z"
   },
   {
    "duration": 54,
    "start_time": "2022-05-10T08:12:07.629Z"
   },
   {
    "duration": 16,
    "start_time": "2022-05-10T08:12:07.685Z"
   },
   {
    "duration": 14,
    "start_time": "2022-05-10T08:12:07.703Z"
   },
   {
    "duration": 16,
    "start_time": "2022-05-10T08:12:07.718Z"
   },
   {
    "duration": 45,
    "start_time": "2022-05-10T08:12:07.736Z"
   },
   {
    "duration": 8,
    "start_time": "2022-05-10T08:12:07.783Z"
   },
   {
    "duration": 11,
    "start_time": "2022-05-10T08:12:07.795Z"
   },
   {
    "duration": 10,
    "start_time": "2022-05-10T08:12:07.808Z"
   },
   {
    "duration": 4,
    "start_time": "2022-05-10T08:12:07.820Z"
   },
   {
    "duration": 55,
    "start_time": "2022-05-10T08:12:07.826Z"
   },
   {
    "duration": 12,
    "start_time": "2022-05-10T08:12:07.883Z"
   },
   {
    "duration": 17,
    "start_time": "2022-05-10T08:12:07.897Z"
   },
   {
    "duration": 11,
    "start_time": "2022-05-10T08:12:07.916Z"
   },
   {
    "duration": 8,
    "start_time": "2022-05-10T08:12:07.929Z"
   },
   {
    "duration": 35,
    "start_time": "2022-05-10T08:12:07.939Z"
   },
   {
    "duration": 7,
    "start_time": "2022-05-10T08:12:07.977Z"
   },
   {
    "duration": 5,
    "start_time": "2022-05-10T08:12:07.986Z"
   },
   {
    "duration": 24,
    "start_time": "2022-05-10T08:39:20.198Z"
   },
   {
    "duration": 23,
    "start_time": "2022-05-10T08:39:27.953Z"
   },
   {
    "duration": 479,
    "start_time": "2022-05-10T08:44:56.151Z"
   },
   {
    "duration": 172,
    "start_time": "2022-05-10T08:44:56.633Z"
   },
   {
    "duration": 24,
    "start_time": "2022-05-10T08:44:56.807Z"
   },
   {
    "duration": 52,
    "start_time": "2022-05-10T08:44:56.833Z"
   },
   {
    "duration": 5,
    "start_time": "2022-05-10T08:44:56.887Z"
   },
   {
    "duration": 21,
    "start_time": "2022-05-10T08:44:56.893Z"
   },
   {
    "duration": 12,
    "start_time": "2022-05-10T08:44:56.916Z"
   },
   {
    "duration": 53,
    "start_time": "2022-05-10T08:44:56.930Z"
   },
   {
    "duration": 21,
    "start_time": "2022-05-10T08:44:56.985Z"
   },
   {
    "duration": 28,
    "start_time": "2022-05-10T08:44:57.010Z"
   },
   {
    "duration": 93,
    "start_time": "2022-05-10T08:44:57.040Z"
   },
   {
    "duration": 110,
    "start_time": "2022-05-10T08:44:57.135Z"
   },
   {
    "duration": 80,
    "start_time": "2022-05-10T08:44:57.247Z"
   },
   {
    "duration": 14,
    "start_time": "2022-05-10T08:44:57.329Z"
   },
   {
    "duration": 4,
    "start_time": "2022-05-10T08:44:57.344Z"
   },
   {
    "duration": 33,
    "start_time": "2022-05-10T08:44:57.350Z"
   },
   {
    "duration": 14,
    "start_time": "2022-05-10T08:44:57.386Z"
   },
   {
    "duration": 14,
    "start_time": "2022-05-10T08:44:57.402Z"
   },
   {
    "duration": 11,
    "start_time": "2022-05-10T08:44:57.418Z"
   },
   {
    "duration": 4,
    "start_time": "2022-05-10T08:44:57.431Z"
   },
   {
    "duration": 48,
    "start_time": "2022-05-10T08:44:57.437Z"
   },
   {
    "duration": 17,
    "start_time": "2022-05-10T08:44:57.487Z"
   },
   {
    "duration": 22,
    "start_time": "2022-05-10T08:44:57.507Z"
   },
   {
    "duration": 43,
    "start_time": "2022-05-10T08:44:57.531Z"
   },
   {
    "duration": 19,
    "start_time": "2022-05-10T08:44:57.576Z"
   },
   {
    "duration": 19,
    "start_time": "2022-05-10T08:44:57.596Z"
   },
   {
    "duration": 9,
    "start_time": "2022-05-10T08:44:57.617Z"
   },
   {
    "duration": 45,
    "start_time": "2022-05-10T08:44:57.630Z"
   },
   {
    "duration": 14,
    "start_time": "2022-05-10T08:44:57.678Z"
   },
   {
    "duration": 25,
    "start_time": "2022-05-10T08:44:57.694Z"
   },
   {
    "duration": 57,
    "start_time": "2022-05-10T08:44:57.721Z"
   },
   {
    "duration": 39,
    "start_time": "2022-05-10T08:44:57.780Z"
   },
   {
    "duration": 37,
    "start_time": "2022-05-10T08:44:57.821Z"
   },
   {
    "duration": 55,
    "start_time": "2022-05-10T08:44:57.860Z"
   },
   {
    "duration": 23,
    "start_time": "2022-05-10T08:44:57.918Z"
   },
   {
    "duration": 40,
    "start_time": "2022-05-10T08:44:57.943Z"
   },
   {
    "duration": 23,
    "start_time": "2022-05-10T08:44:57.985Z"
   },
   {
    "duration": 16,
    "start_time": "2022-05-10T08:44:58.010Z"
   },
   {
    "duration": 75,
    "start_time": "2022-05-11T10:25:39.986Z"
   },
   {
    "duration": 537,
    "start_time": "2022-05-11T10:27:06.249Z"
   },
   {
    "duration": 192,
    "start_time": "2022-05-11T10:27:09.587Z"
   },
   {
    "duration": 28,
    "start_time": "2022-05-11T10:27:11.737Z"
   },
   {
    "duration": 42,
    "start_time": "2022-05-11T10:27:13.068Z"
   },
   {
    "duration": 6,
    "start_time": "2022-05-11T10:27:21.094Z"
   },
   {
    "duration": 17,
    "start_time": "2022-05-11T10:27:22.925Z"
   },
   {
    "duration": 6,
    "start_time": "2022-05-11T10:27:24.845Z"
   },
   {
    "duration": 34,
    "start_time": "2022-05-11T10:27:27.225Z"
   },
   {
    "duration": 25,
    "start_time": "2022-05-11T10:27:29.759Z"
   },
   {
    "duration": 33,
    "start_time": "2022-05-11T10:27:31.296Z"
   },
   {
    "duration": 95,
    "start_time": "2022-05-11T10:27:33.247Z"
   },
   {
    "duration": 117,
    "start_time": "2022-05-11T10:27:34.572Z"
   },
   {
    "duration": 89,
    "start_time": "2022-05-11T10:27:35.802Z"
   },
   {
    "duration": 15,
    "start_time": "2022-05-11T10:27:41.536Z"
   },
   {
    "duration": 54,
    "start_time": "2022-05-11T10:27:43.072Z"
   },
   {
    "duration": 55,
    "start_time": "2022-05-11T10:27:54.911Z"
   },
   {
    "duration": 52,
    "start_time": "2022-05-11T11:05:45.878Z"
   },
   {
    "duration": 3,
    "start_time": "2022-05-11T11:06:08.849Z"
   },
   {
    "duration": 228,
    "start_time": "2022-05-11T11:06:08.855Z"
   },
   {
    "duration": 17,
    "start_time": "2022-05-11T11:06:09.086Z"
   },
   {
    "duration": 46,
    "start_time": "2022-05-11T11:06:09.106Z"
   },
   {
    "duration": 28,
    "start_time": "2022-05-11T11:06:09.156Z"
   },
   {
    "duration": 12,
    "start_time": "2022-05-11T11:06:09.186Z"
   },
   {
    "duration": 12,
    "start_time": "2022-05-11T11:06:09.201Z"
   },
   {
    "duration": 34,
    "start_time": "2022-05-11T11:06:09.216Z"
   },
   {
    "duration": 55,
    "start_time": "2022-05-11T11:06:09.253Z"
   },
   {
    "duration": 34,
    "start_time": "2022-05-11T11:06:09.310Z"
   },
   {
    "duration": 120,
    "start_time": "2022-05-11T11:06:09.347Z"
   },
   {
    "duration": 123,
    "start_time": "2022-05-11T11:06:09.469Z"
   },
   {
    "duration": 97,
    "start_time": "2022-05-11T11:06:09.595Z"
   },
   {
    "duration": 14,
    "start_time": "2022-05-11T11:06:09.698Z"
   },
   {
    "duration": 4,
    "start_time": "2022-05-11T11:06:09.714Z"
   },
   {
    "duration": 16,
    "start_time": "2022-05-11T11:06:09.721Z"
   },
   {
    "duration": 48,
    "start_time": "2022-05-11T11:06:09.739Z"
   },
   {
    "duration": 18,
    "start_time": "2022-05-11T11:06:09.790Z"
   },
   {
    "duration": 17,
    "start_time": "2022-05-11T11:06:09.810Z"
   },
   {
    "duration": 5,
    "start_time": "2022-05-11T11:06:09.829Z"
   },
   {
    "duration": 63,
    "start_time": "2022-05-11T11:06:09.836Z"
   },
   {
    "duration": 21,
    "start_time": "2022-05-11T11:06:09.902Z"
   },
   {
    "duration": 22,
    "start_time": "2022-05-11T11:06:09.926Z"
   },
   {
    "duration": 52,
    "start_time": "2022-05-11T11:06:09.951Z"
   },
   {
    "duration": 21,
    "start_time": "2022-05-11T11:06:10.005Z"
   },
   {
    "duration": 19,
    "start_time": "2022-05-11T11:06:10.028Z"
   },
   {
    "duration": 48,
    "start_time": "2022-05-11T11:06:10.049Z"
   },
   {
    "duration": 15,
    "start_time": "2022-05-11T11:06:10.100Z"
   },
   {
    "duration": 12,
    "start_time": "2022-05-11T11:06:10.118Z"
   },
   {
    "duration": 6,
    "start_time": "2022-05-11T11:06:10.132Z"
   },
   {
    "duration": 56,
    "start_time": "2022-05-11T11:06:10.140Z"
   },
   {
    "duration": 36,
    "start_time": "2022-05-11T11:06:10.198Z"
   },
   {
    "duration": 35,
    "start_time": "2022-05-11T11:06:10.236Z"
   },
   {
    "duration": 19,
    "start_time": "2022-05-11T11:06:10.282Z"
   },
   {
    "duration": 13,
    "start_time": "2022-05-11T11:06:10.304Z"
   },
   {
    "duration": 6,
    "start_time": "2022-05-11T11:06:10.319Z"
   },
   {
    "duration": 9,
    "start_time": "2022-05-11T11:06:10.327Z"
   },
   {
    "duration": 8,
    "start_time": "2022-05-11T11:06:10.338Z"
   },
   {
    "duration": 22,
    "start_time": "2022-05-11T11:19:40.128Z"
   },
   {
    "duration": 18,
    "start_time": "2022-05-11T11:19:42.713Z"
   },
   {
    "duration": 22,
    "start_time": "2022-05-11T11:19:49.553Z"
   },
   {
    "duration": 14,
    "start_time": "2022-05-11T11:19:53.963Z"
   },
   {
    "duration": 537,
    "start_time": "2022-05-11T11:42:52.159Z"
   },
   {
    "duration": 202,
    "start_time": "2022-05-11T11:42:52.699Z"
   },
   {
    "duration": 26,
    "start_time": "2022-05-11T11:42:52.903Z"
   },
   {
    "duration": 57,
    "start_time": "2022-05-11T11:42:52.933Z"
   },
   {
    "duration": 7,
    "start_time": "2022-05-11T11:42:52.992Z"
   },
   {
    "duration": 20,
    "start_time": "2022-05-11T11:42:53.001Z"
   },
   {
    "duration": 9,
    "start_time": "2022-05-11T11:42:53.023Z"
   },
   {
    "duration": 72,
    "start_time": "2022-05-11T11:42:53.034Z"
   },
   {
    "duration": 25,
    "start_time": "2022-05-11T11:42:53.108Z"
   },
   {
    "duration": 50,
    "start_time": "2022-05-11T11:42:53.137Z"
   },
   {
    "duration": 116,
    "start_time": "2022-05-11T11:42:53.189Z"
   },
   {
    "duration": 129,
    "start_time": "2022-05-11T11:42:53.307Z"
   },
   {
    "duration": 107,
    "start_time": "2022-05-11T11:42:53.439Z"
   },
   {
    "duration": 15,
    "start_time": "2022-05-11T11:42:53.549Z"
   },
   {
    "duration": 4,
    "start_time": "2022-05-11T11:42:53.582Z"
   },
   {
    "duration": 17,
    "start_time": "2022-05-11T11:42:53.588Z"
   },
   {
    "duration": 14,
    "start_time": "2022-05-11T11:42:53.607Z"
   },
   {
    "duration": 16,
    "start_time": "2022-05-11T11:42:53.624Z"
   },
   {
    "duration": 55,
    "start_time": "2022-05-11T11:42:53.642Z"
   },
   {
    "duration": 5,
    "start_time": "2022-05-11T11:42:53.699Z"
   },
   {
    "duration": 29,
    "start_time": "2022-05-11T11:42:53.706Z"
   },
   {
    "duration": 46,
    "start_time": "2022-05-11T11:42:53.737Z"
   },
   {
    "duration": 21,
    "start_time": "2022-05-11T11:42:53.785Z"
   },
   {
    "duration": 19,
    "start_time": "2022-05-11T11:42:53.808Z"
   },
   {
    "duration": 53,
    "start_time": "2022-05-11T11:42:53.830Z"
   },
   {
    "duration": 21,
    "start_time": "2022-05-11T11:42:53.885Z"
   },
   {
    "duration": 12,
    "start_time": "2022-05-11T11:42:53.908Z"
   },
   {
    "duration": 15,
    "start_time": "2022-05-11T11:42:53.925Z"
   },
   {
    "duration": 44,
    "start_time": "2022-05-11T11:42:53.943Z"
   },
   {
    "duration": 6,
    "start_time": "2022-05-11T11:42:53.989Z"
   },
   {
    "duration": 39,
    "start_time": "2022-05-11T11:42:53.997Z"
   },
   {
    "duration": 46,
    "start_time": "2022-05-11T11:42:54.039Z"
   },
   {
    "duration": 31,
    "start_time": "2022-05-11T11:42:54.087Z"
   },
   {
    "duration": 20,
    "start_time": "2022-05-11T11:42:54.121Z"
   },
   {
    "duration": 45,
    "start_time": "2022-05-11T11:42:54.144Z"
   },
   {
    "duration": 9,
    "start_time": "2022-05-11T11:42:54.191Z"
   },
   {
    "duration": 12,
    "start_time": "2022-05-11T11:42:54.203Z"
   },
   {
    "duration": 6,
    "start_time": "2022-05-11T11:42:54.218Z"
   },
   {
    "duration": 513,
    "start_time": "2022-05-11T11:47:23.124Z"
   },
   {
    "duration": 202,
    "start_time": "2022-05-11T11:47:23.639Z"
   },
   {
    "duration": 39,
    "start_time": "2022-05-11T11:47:23.844Z"
   },
   {
    "duration": 45,
    "start_time": "2022-05-11T11:47:23.886Z"
   },
   {
    "duration": 6,
    "start_time": "2022-05-11T11:47:23.934Z"
   },
   {
    "duration": 51,
    "start_time": "2022-05-11T11:47:23.943Z"
   },
   {
    "duration": 11,
    "start_time": "2022-05-11T11:47:23.996Z"
   },
   {
    "duration": 37,
    "start_time": "2022-05-11T11:47:24.010Z"
   },
   {
    "duration": 46,
    "start_time": "2022-05-11T11:47:24.050Z"
   },
   {
    "duration": 35,
    "start_time": "2022-05-11T11:47:24.101Z"
   },
   {
    "duration": 178,
    "start_time": "2022-05-11T11:47:24.139Z"
   },
   {
    "duration": 127,
    "start_time": "2022-05-11T11:47:24.319Z"
   },
   {
    "duration": 101,
    "start_time": "2022-05-11T11:47:24.449Z"
   },
   {
    "duration": 29,
    "start_time": "2022-05-11T11:47:24.552Z"
   },
   {
    "duration": 5,
    "start_time": "2022-05-11T11:47:24.584Z"
   },
   {
    "duration": 30,
    "start_time": "2022-05-11T11:47:24.591Z"
   },
   {
    "duration": 22,
    "start_time": "2022-05-11T11:47:24.624Z"
   },
   {
    "duration": 36,
    "start_time": "2022-05-11T11:47:24.649Z"
   },
   {
    "duration": 17,
    "start_time": "2022-05-11T11:47:24.688Z"
   },
   {
    "duration": 6,
    "start_time": "2022-05-11T11:47:24.707Z"
   },
   {
    "duration": 67,
    "start_time": "2022-05-11T11:47:24.716Z"
   },
   {
    "duration": 31,
    "start_time": "2022-05-11T11:47:24.786Z"
   },
   {
    "duration": 28,
    "start_time": "2022-05-11T11:47:24.820Z"
   },
   {
    "duration": 44,
    "start_time": "2022-05-11T11:47:24.850Z"
   },
   {
    "duration": 25,
    "start_time": "2022-05-11T11:47:24.896Z"
   },
   {
    "duration": 23,
    "start_time": "2022-05-11T11:47:24.923Z"
   },
   {
    "duration": 15,
    "start_time": "2022-05-11T11:47:24.983Z"
   },
   {
    "duration": 17,
    "start_time": "2022-05-11T11:47:25.004Z"
   },
   {
    "duration": 18,
    "start_time": "2022-05-11T11:47:25.023Z"
   },
   {
    "duration": 9,
    "start_time": "2022-05-11T11:47:25.081Z"
   },
   {
    "duration": 45,
    "start_time": "2022-05-11T11:47:25.093Z"
   },
   {
    "duration": 20,
    "start_time": "2022-05-11T11:47:25.140Z"
   },
   {
    "duration": 25,
    "start_time": "2022-05-11T11:47:25.183Z"
   },
   {
    "duration": 16,
    "start_time": "2022-05-11T11:47:25.211Z"
   },
   {
    "duration": 11,
    "start_time": "2022-05-11T11:47:25.229Z"
   },
   {
    "duration": 45,
    "start_time": "2022-05-11T11:47:25.242Z"
   },
   {
    "duration": 11,
    "start_time": "2022-05-11T11:47:25.289Z"
   },
   {
    "duration": 9,
    "start_time": "2022-05-11T11:47:25.302Z"
   },
   {
    "duration": 396,
    "start_time": "2022-05-11T16:14:33.141Z"
   },
   {
    "duration": 168,
    "start_time": "2022-05-11T16:14:33.539Z"
   },
   {
    "duration": 19,
    "start_time": "2022-05-11T16:14:33.709Z"
   },
   {
    "duration": 29,
    "start_time": "2022-05-11T16:14:33.730Z"
   },
   {
    "duration": 4,
    "start_time": "2022-05-11T16:14:33.760Z"
   },
   {
    "duration": 13,
    "start_time": "2022-05-11T16:14:33.766Z"
   },
   {
    "duration": 9,
    "start_time": "2022-05-11T16:14:33.780Z"
   },
   {
    "duration": 51,
    "start_time": "2022-05-11T16:14:33.790Z"
   },
   {
    "duration": 18,
    "start_time": "2022-05-11T16:14:33.842Z"
   },
   {
    "duration": 25,
    "start_time": "2022-05-11T16:14:33.862Z"
   },
   {
    "duration": 85,
    "start_time": "2022-05-11T16:14:33.889Z"
   },
   {
    "duration": 84,
    "start_time": "2022-05-11T16:14:33.976Z"
   },
   {
    "duration": 67,
    "start_time": "2022-05-11T16:14:34.062Z"
   },
   {
    "duration": 10,
    "start_time": "2022-05-11T16:14:34.130Z"
   },
   {
    "duration": 30,
    "start_time": "2022-05-11T16:14:34.142Z"
   },
   {
    "duration": 4,
    "start_time": "2022-05-11T16:14:34.173Z"
   },
   {
    "duration": 12,
    "start_time": "2022-05-11T16:14:34.179Z"
   },
   {
    "duration": 39,
    "start_time": "2022-05-11T16:14:34.192Z"
   },
   {
    "duration": 13,
    "start_time": "2022-05-11T16:14:34.233Z"
   },
   {
    "duration": 12,
    "start_time": "2022-05-11T16:14:34.247Z"
   },
   {
    "duration": 3,
    "start_time": "2022-05-11T16:14:34.261Z"
   },
   {
    "duration": 22,
    "start_time": "2022-05-11T16:14:34.266Z"
   },
   {
    "duration": 45,
    "start_time": "2022-05-11T16:14:34.289Z"
   },
   {
    "duration": 15,
    "start_time": "2022-05-11T16:14:34.336Z"
   },
   {
    "duration": 14,
    "start_time": "2022-05-11T16:14:34.353Z"
   },
   {
    "duration": 16,
    "start_time": "2022-05-11T16:14:34.369Z"
   },
   {
    "duration": 48,
    "start_time": "2022-05-11T16:14:34.387Z"
   },
   {
    "duration": 8,
    "start_time": "2022-05-11T16:14:34.439Z"
   },
   {
    "duration": 14,
    "start_time": "2022-05-11T16:14:34.449Z"
   },
   {
    "duration": 9,
    "start_time": "2022-05-11T16:14:34.465Z"
   },
   {
    "duration": 4,
    "start_time": "2022-05-11T16:14:34.476Z"
   },
   {
    "duration": 52,
    "start_time": "2022-05-11T16:14:34.483Z"
   },
   {
    "duration": 13,
    "start_time": "2022-05-11T16:14:34.537Z"
   },
   {
    "duration": 17,
    "start_time": "2022-05-11T16:14:34.552Z"
   },
   {
    "duration": 12,
    "start_time": "2022-05-11T16:14:34.571Z"
   },
   {
    "duration": 44,
    "start_time": "2022-05-11T16:14:34.585Z"
   },
   {
    "duration": 6,
    "start_time": "2022-05-11T16:14:34.630Z"
   },
   {
    "duration": 6,
    "start_time": "2022-05-11T16:14:34.638Z"
   },
   {
    "duration": 7,
    "start_time": "2022-05-11T16:14:34.646Z"
   },
   {
    "duration": 83,
    "start_time": "2022-05-11T16:16:25.556Z"
   },
   {
    "duration": 37,
    "start_time": "2022-05-11T16:16:52.690Z"
   },
   {
    "duration": 21,
    "start_time": "2022-05-11T16:17:10.723Z"
   },
   {
    "duration": 10,
    "start_time": "2022-05-11T16:31:40.689Z"
   },
   {
    "duration": 40,
    "start_time": "2022-05-11T16:32:47.783Z"
   },
   {
    "duration": 40,
    "start_time": "2022-05-11T16:33:06.404Z"
   },
   {
    "duration": 40,
    "start_time": "2022-05-11T16:33:36.780Z"
   },
   {
    "duration": 39,
    "start_time": "2022-05-11T16:33:48.136Z"
   },
   {
    "duration": 15,
    "start_time": "2022-05-11T17:02:06.436Z"
   },
   {
    "duration": 51,
    "start_time": "2022-05-11T17:18:30.764Z"
   },
   {
    "duration": 53,
    "start_time": "2022-05-11T17:18:59.239Z"
   },
   {
    "duration": 427,
    "start_time": "2022-05-11T17:21:54.517Z"
   },
   {
    "duration": 153,
    "start_time": "2022-05-11T17:21:54.946Z"
   },
   {
    "duration": 23,
    "start_time": "2022-05-11T17:21:55.101Z"
   },
   {
    "duration": 30,
    "start_time": "2022-05-11T17:21:55.126Z"
   },
   {
    "duration": 4,
    "start_time": "2022-05-11T17:21:55.158Z"
   },
   {
    "duration": 13,
    "start_time": "2022-05-11T17:21:55.164Z"
   },
   {
    "duration": 6,
    "start_time": "2022-05-11T17:21:55.179Z"
   },
   {
    "duration": 56,
    "start_time": "2022-05-11T17:21:55.187Z"
   },
   {
    "duration": 19,
    "start_time": "2022-05-11T17:21:55.245Z"
   },
   {
    "duration": 26,
    "start_time": "2022-05-11T17:21:55.267Z"
   },
   {
    "duration": 86,
    "start_time": "2022-05-11T17:21:55.295Z"
   },
   {
    "duration": 83,
    "start_time": "2022-05-11T17:21:55.383Z"
   },
   {
    "duration": 67,
    "start_time": "2022-05-11T17:21:55.468Z"
   },
   {
    "duration": 9,
    "start_time": "2022-05-11T17:21:55.537Z"
   },
   {
    "duration": 51,
    "start_time": "2022-05-11T17:21:55.548Z"
   },
   {
    "duration": 21,
    "start_time": "2022-05-11T17:21:55.601Z"
   },
   {
    "duration": 11,
    "start_time": "2022-05-11T17:21:55.624Z"
   },
   {
    "duration": 11,
    "start_time": "2022-05-11T17:21:55.637Z"
   },
   {
    "duration": 14,
    "start_time": "2022-05-11T17:21:55.651Z"
   },
   {
    "duration": 12,
    "start_time": "2022-05-11T17:21:55.667Z"
   },
   {
    "duration": 3,
    "start_time": "2022-05-11T17:21:55.681Z"
   },
   {
    "duration": 18,
    "start_time": "2022-05-11T17:21:55.724Z"
   },
   {
    "duration": 16,
    "start_time": "2022-05-11T17:21:55.744Z"
   },
   {
    "duration": 18,
    "start_time": "2022-05-11T17:21:55.762Z"
   },
   {
    "duration": 49,
    "start_time": "2022-05-11T17:21:55.782Z"
   },
   {
    "duration": 19,
    "start_time": "2022-05-11T17:21:55.833Z"
   },
   {
    "duration": 17,
    "start_time": "2022-05-11T17:21:55.855Z"
   },
   {
    "duration": 10,
    "start_time": "2022-05-11T17:21:55.877Z"
   },
   {
    "duration": 43,
    "start_time": "2022-05-11T17:21:55.889Z"
   },
   {
    "duration": 10,
    "start_time": "2022-05-11T17:21:55.934Z"
   },
   {
    "duration": 5,
    "start_time": "2022-05-11T17:21:55.946Z"
   },
   {
    "duration": 23,
    "start_time": "2022-05-11T17:21:55.953Z"
   },
   {
    "duration": 13,
    "start_time": "2022-05-11T17:21:55.978Z"
   },
   {
    "duration": 45,
    "start_time": "2022-05-11T17:21:55.992Z"
   },
   {
    "duration": 13,
    "start_time": "2022-05-11T17:21:56.039Z"
   },
   {
    "duration": 10,
    "start_time": "2022-05-11T17:21:56.054Z"
   },
   {
    "duration": 5,
    "start_time": "2022-05-11T17:21:56.066Z"
   },
   {
    "duration": 9,
    "start_time": "2022-05-11T17:21:56.073Z"
   },
   {
    "duration": 41,
    "start_time": "2022-05-11T17:21:56.084Z"
   },
   {
    "duration": 16,
    "start_time": "2022-05-11T17:21:56.128Z"
   }
  ],
  "colab": {
   "collapsed_sections": [
    "E0vqbgi9ay0H",
    "VUC88oWjTJw2"
   ],
   "name": "yandex_music_project.ipynb",
   "provenance": []
  },
  "kernelspec": {
   "display_name": "Python 3 (ipykernel)",
   "language": "python",
   "name": "python3"
  },
  "language_info": {
   "codemirror_mode": {
    "name": "ipython",
    "version": 3
   },
   "file_extension": ".py",
   "mimetype": "text/x-python",
   "name": "python",
   "nbconvert_exporter": "python",
   "pygments_lexer": "ipython3",
   "version": "3.9.12"
  },
  "toc": {
   "base_numbering": 1,
   "nav_menu": {},
   "number_sections": true,
   "sideBar": true,
   "skip_h1_title": true,
   "title_cell": "Table of Contents",
   "title_sidebar": "Contents",
   "toc_cell": false,
   "toc_position": {},
   "toc_section_display": true,
   "toc_window_display": false
  },
  "vscode": {
   "interpreter": {
    "hash": "e42901d9492c612649bfe5bc45fcd722e20e946cf8622850b2a92552b6453078"
   }
  }
 },
 "nbformat": 4,
 "nbformat_minor": 1
}
