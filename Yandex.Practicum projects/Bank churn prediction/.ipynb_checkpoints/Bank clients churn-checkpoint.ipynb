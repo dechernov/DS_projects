{
 "cells": [
  {
   "cell_type": "markdown",
   "metadata": {
    "toc": true
   },
   "source": [
    "<h1>Table of Contents<span class=\"tocSkip\"></span></h1>\n",
    "<div class=\"toc\"><ul class=\"toc-item\"><li><span><a href=\"#Project-description\" data-toc-modified-id=\"Project-description-1\"><span class=\"toc-item-num\">1&nbsp;&nbsp;</span>Project description</a></span></li><li><span><a href=\"#Data-description\" data-toc-modified-id=\"Data-description-2\"><span class=\"toc-item-num\">2&nbsp;&nbsp;</span>Data description</a></span></li><li><span><a href=\"#Data-pre-processing\" data-toc-modified-id=\"Data-pre-processing-3\"><span class=\"toc-item-num\">3&nbsp;&nbsp;</span>Data pre-processing</a></span><ul class=\"toc-item\"><li><span><a href=\"#Conclusions\" data-toc-modified-id=\"Conclusions-3.1\"><span class=\"toc-item-num\">3.1&nbsp;&nbsp;</span>Conclusions</a></span></li></ul></li><li><span><a href=\"#Research-task\" data-toc-modified-id=\"Research-task-4\"><span class=\"toc-item-num\">4&nbsp;&nbsp;</span>Research task</a></span><ul class=\"toc-item\"><li><span><a href=\"#Random-forest\" data-toc-modified-id=\"Random-forest-4.1\"><span class=\"toc-item-num\">4.1&nbsp;&nbsp;</span>Random forest</a></span></li><li><span><a href=\"#Decision-tree\" data-toc-modified-id=\"Decision-tree-4.2\"><span class=\"toc-item-num\">4.2&nbsp;&nbsp;</span>Decision tree</a></span></li><li><span><a href=\"#Logistic-regression\" data-toc-modified-id=\"Logistic-regression-4.3\"><span class=\"toc-item-num\">4.3&nbsp;&nbsp;</span>Logistic regression</a></span></li><li><span><a href=\"#Conclusions\" data-toc-modified-id=\"Conclusions-4.4\"><span class=\"toc-item-num\">4.4&nbsp;&nbsp;</span>Conclusions</a></span></li></ul></li><li><span><a href=\"#Dealing-with-imbalance\" data-toc-modified-id=\"Dealing-with-imbalance-5\"><span class=\"toc-item-num\">5&nbsp;&nbsp;</span>Dealing with imbalance</a></span><ul class=\"toc-item\"><li><span><a href=\"#Upsampling\" data-toc-modified-id=\"Upsampling-5.1\"><span class=\"toc-item-num\">5.1&nbsp;&nbsp;</span>Upsampling</a></span><ul class=\"toc-item\"><li><span><a href=\"#Random-forest\" data-toc-modified-id=\"Random-forest-5.1.1\"><span class=\"toc-item-num\">5.1.1&nbsp;&nbsp;</span>Random forest</a></span></li><li><span><a href=\"#Decision-tree\" data-toc-modified-id=\"Decision-tree-5.1.2\"><span class=\"toc-item-num\">5.1.2&nbsp;&nbsp;</span>Decision tree</a></span></li><li><span><a href=\"#Logistic-regression\" data-toc-modified-id=\"Logistic-regression-5.1.3\"><span class=\"toc-item-num\">5.1.3&nbsp;&nbsp;</span>Logistic regression</a></span></li></ul></li><li><span><a href=\"#Balancing-classes\" data-toc-modified-id=\"Balancing-classes-5.2\"><span class=\"toc-item-num\">5.2&nbsp;&nbsp;</span>Balancing classes</a></span><ul class=\"toc-item\"><li><span><a href=\"#Random-forest\" data-toc-modified-id=\"Random-forest-5.2.1\"><span class=\"toc-item-num\">5.2.1&nbsp;&nbsp;</span>Random forest</a></span></li><li><span><a href=\"#Decision-tree\" data-toc-modified-id=\"Decision-tree-5.2.2\"><span class=\"toc-item-num\">5.2.2&nbsp;&nbsp;</span>Decision tree</a></span></li><li><span><a href=\"#Logistic-regression\" data-toc-modified-id=\"Logistic-regression-5.2.3\"><span class=\"toc-item-num\">5.2.3&nbsp;&nbsp;</span>Logistic regression</a></span></li></ul></li><li><span><a href=\"#Conclusions\" data-toc-modified-id=\"Conclusions-5.3\"><span class=\"toc-item-num\">5.3&nbsp;&nbsp;</span>Conclusions</a></span></li></ul></li><li><span><a href=\"#Model-testing\" data-toc-modified-id=\"Model-testing-6\"><span class=\"toc-item-num\">6&nbsp;&nbsp;</span>Model testing</a></span></li><li><span><a href=\"#Summary\" data-toc-modified-id=\"Summary-7\"><span class=\"toc-item-num\">7&nbsp;&nbsp;</span>Summary</a></span></li></ul></div>"
   ]
  },
  {
   "cell_type": "markdown",
   "metadata": {},
   "source": [
    "# Bank churn prediction"
   ]
  },
  {
   "cell_type": "markdown",
   "metadata": {},
   "source": [
    "## Project description"
   ]
  },
  {
   "cell_type": "markdown",
   "metadata": {},
   "source": [
    "**Brief information:** the marketing department of \"Beta-Bank\" noticed that customers were leaving the bank. It was considered that it is cheaper to keep customers than to attract new ones.\n",
    "\n",
    "**Objective:** develop a binary classification model that predicts whether or not a customer is about to leave the bank based on customer behavior.\n",
    "\n",
    "**Tasks:** consider and investigate the quality of different binary classification models according to a higher F1 measure with a minimum threshold on a test set of 0.59."
   ]
  },
  {
   "cell_type": "markdown",
   "metadata": {},
   "source": [
    "## Data description"
   ]
  },
  {
   "cell_type": "markdown",
   "metadata": {},
   "source": [
    "The dataset contains a table with the following columns\n",
    "* `RowNumber` — row index\n",
    "* `CustomerId` — unique client id\n",
    "* `Surname` — client's surname\n",
    "* `CreditScore` — customer's credit score\n",
    "* `Geography` — country of residence\n",
    "* `Gender` — client's gender\n",
    "* `Age` — customer's age\n",
    "* `Tenure` — how many years a person has been a bank customer\n",
    "* `Balance` — client's balance\n",
    "* `NumOfProducts` — number of banking products in use\n",
    "* `HasCrCard` — credit card holder status\n",
    "* `IsActiveMember` — client activity\n",
    "* `EstimatedSalary` — customer's estimated salary\n",
    "* `Exited` — whether the customer has left the bank or not"
   ]
  },
  {
   "cell_type": "markdown",
   "metadata": {},
   "source": [
    "## Data pre-processing"
   ]
  },
  {
   "cell_type": "code",
   "execution_count": 1,
   "metadata": {},
   "outputs": [],
   "source": [
    "# importing libraries\n",
    "import pandas as pd\n",
    "import numpy as np\n",
    "import matplotlib.pyplot as plt\n",
    "import plotly.express as px\n",
    "\n",
    "from sklearn.tree import DecisionTreeClassifier\n",
    "from sklearn.ensemble import RandomForestClassifier\n",
    "from sklearn.linear_model import LogisticRegression\n",
    "from sklearn.model_selection import GridSearchCV, train_test_split \n",
    "from sklearn.pipeline import make_pipeline, Pipeline\n",
    "from sklearn.preprocessing import StandardScaler, OneHotEncoder\n",
    "from sklearn.compose import make_column_transformer, make_column_selector, ColumnTransformer\n",
    "from sklearn.utils import shuffle\n",
    "from sklearn.metrics import f1_score, roc_curve, roc_auc_score"
   ]
  },
  {
   "cell_type": "code",
   "execution_count": null,
   "metadata": {},
   "outputs": [],
   "source": [
    "data = pd.read_csv('https://code.s3.yandex.net/datasets/Churn.csv')"
   ]
  },
  {
   "cell_type": "code",
   "execution_count": null,
   "metadata": {},
   "outputs": [],
   "source": [
    "data.info()"
   ]
  },
  {
   "cell_type": "markdown",
   "metadata": {},
   "source": [
    "We will remove the columns `RowNumber`, `CustomerId`, `Surname` from the dataset for further analysis. Customer IDs are always unique and have no connection to the target. Also, the customer's row number and last name are not related to the probability of the customer leaving the bank."
   ]
  },
  {
   "cell_type": "code",
   "execution_count": null,
   "metadata": {},
   "outputs": [],
   "source": [
    "data.drop([\"RowNumber\", \"CustomerId\", \"Surname\"], axis = 1, inplace=True)"
   ]
  },
  {
   "cell_type": "code",
   "execution_count": null,
   "metadata": {},
   "outputs": [],
   "source": [
    "data.head()"
   ]
  },
  {
   "cell_type": "code",
   "execution_count": null,
   "metadata": {},
   "outputs": [],
   "source": [
    "data.describe()"
   ]
  },
  {
   "cell_type": "markdown",
   "metadata": {},
   "source": [
    "Note that there are missing values in the `Tenure` column. Before filling it with values, let's analyze the distribution of the column. The distribution is similar to uniform, so the optimal solution is to fill the missing values from 0 to 10, taking into account their probabilities."
   ]
  },
  {
   "cell_type": "code",
   "execution_count": null,
   "metadata": {},
   "outputs": [],
   "source": [
    "#tenure column histogram\n",
    "data['Tenure'].hist(bins=10, figsize=(10,6))\n",
    "plt.title('Tenure histogram')\n",
    "plt.xlabel('Number of years')\n",
    "plt.ylabel('Number of observations');"
   ]
  },
  {
   "cell_type": "code",
   "execution_count": null,
   "metadata": {},
   "outputs": [],
   "source": [
    "#list with probabilities of every year\n",
    "tenure_probs = data['Tenure'].value_counts(normalize=True).sort_index().to_list()"
   ]
  },
  {
   "cell_type": "code",
   "execution_count": null,
   "metadata": {},
   "outputs": [],
   "source": [
    "#setting random seed\n",
    "np.random.seed(42)\n",
    "#filling missing values from 0 to 10 with the corresponding probability from declared list\n",
    "data['Tenure'] = data['Tenure'].fillna(pd.Series(np.random.choice(11, size=data.shape[0], p=tenure_probs)))"
   ]
  },
  {
   "cell_type": "code",
   "execution_count": null,
   "metadata": {},
   "outputs": [],
   "source": [
    "#check\n",
    "data.info()"
   ]
  },
  {
   "cell_type": "code",
   "execution_count": null,
   "metadata": {},
   "outputs": [],
   "source": [
    "#plot check\n",
    "data['Tenure'].hist(bins=10, figsize=(10,6))\n",
    "plt.title('Tenure histogram')\n",
    "plt.xlabel('Number of years')\n",
    "plt.ylabel('Number of observations');"
   ]
  },
  {
   "cell_type": "markdown",
   "metadata": {},
   "source": [
    "Thus, the missing values in the `Tenure` column are filled in, and the histogram is similar to the original distribution. Therefore, we believe that they are correctly filled.\n",
    "\n",
    "To further develop the machine learning models, the columns containing text values are changed to categorical: `geography` and `gender`."
   ]
  },
  {
   "cell_type": "markdown",
   "metadata": {},
   "source": [
    "### Conclusions"
   ]
  },
  {
   "cell_type": "markdown",
   "metadata": {},
   "source": [
    "* **Given the uniform distribution in the `Tenure` column, missing values were filled with values from 0 to 10, taking into account their probability;**\n",
    "\n",
    "* **The columns `RowNumber`, `CustomerId` and `Surname` have been deleted because the IDs will always be unique for customers and they have no correlation with the target values. Also, the row number and the last name of the customer are not related to the probability of the customer leaving the bank. It is worth mentioning that using these features to build a model will lead to overfitting;**\n",
    "\n",
    "* **The type of columns with text values should be changed to categorical (`Gender` and `Geography`).**"
   ]
  },
  {
   "cell_type": "markdown",
   "metadata": {},
   "source": [
    "## Research task"
   ]
  },
  {
   "cell_type": "markdown",
   "metadata": {},
   "source": [
    "Determining a bank's customer churn is a binary classification task.\n",
    "\n",
    "In this case, the target characteristic is the column `Exited` (if the customer has left the bank - 1, if not - 0). All other columns containing customer socio-demographic characteristics (country, age, gender) and consumer characteristics (credit score, number of years as a customer, account balance, number of bank products, having a credit card, and customer activity) are features.\n",
    "\n",
    "Before building models, we'll examine the class balance in our target and split the dataset into training, validation, and test sets (the ratio is 3:1:1). We'll use decision tree, random forest, and logistic regression models."
   ]
  },
  {
   "cell_type": "code",
   "execution_count": null,
   "metadata": {},
   "outputs": [],
   "source": [
    "#features and target variables\n",
    "target = data['Exited']\n",
    "features = data.drop('Exited', axis=1)"
   ]
  },
  {
   "cell_type": "code",
   "execution_count": null,
   "metadata": {},
   "outputs": [],
   "source": [
    "#class balance\n",
    "target.value_counts().plot(kind='bar', figsize=(10,4))\n",
    "plt.title('Class distribution')\n",
    "plt.xlabel('Class')\n",
    "plt.ylabel('Number of observations');"
   ]
  },
  {
   "cell_type": "markdown",
   "metadata": {},
   "source": [
    "Given the non-uniform distribution (class 0 exceeds class 1 by ~4 times), we'll use a stratified dataset split to maintain this ratio between sets."
   ]
  },
  {
   "cell_type": "code",
   "execution_count": null,
   "metadata": {},
   "outputs": [],
   "source": [
    "#split dataset\n",
    "features_train_valid, features_test, target_train_valid, target_test = train_test_split(\n",
    "    features, target, test_size=0.2, random_state=42, stratify=target)"
   ]
  },
  {
   "cell_type": "markdown",
   "metadata": {},
   "source": [
    "It is important to correctly predict the potential customer churn (since it is cheaper to keep current customers than to attract new ones), we will evaluate the quality of the model using the F1 metric, since the classes are unbalanced. In summary, we'll consider the prediction accuracy of class 1."
   ]
  },
  {
   "cell_type": "markdown",
   "metadata": {},
   "source": [
    "### Random forest"
   ]
  },
  {
   "cell_type": "code",
   "execution_count": null,
   "metadata": {},
   "outputs": [],
   "source": [
    "%%time\n",
    "#text columns encoder for rf and dt with other columns passing through as they are\n",
    "one_hot_encoder = make_column_transformer(\n",
    "    (OneHotEncoder(),\n",
    "    make_column_selector(dtype_include=np.object)\n",
    "    ),\n",
    "    remainder=\"passthrough\"\n",
    "    )\n",
    "#pipe for rf with encoding and model\n",
    "rf_pipe = Pipeline(steps=[('preprocessor', one_hot_encoder), ('rf', RandomForestClassifier(random_state=42))])\n",
    "\n",
    "#parameters grid for rf\n",
    "rf_grid = {\n",
    "  \"rf__max_depth\": range(2, 20, 2),\n",
    "  \"rf__n_estimators\": range(10, 350, 25),\n",
    "  \"rf__max_features\": range(2, 14)\n",
    "}\n",
    "#gridsearching\n",
    "gcv_rf = GridSearchCV(estimator=rf_pipe, param_grid=rf_grid, scoring='f1', verbose=1, n_jobs=-1)\n",
    "gcv_rf.fit(features_train_valid, target_train_valid)"
   ]
  },
  {
   "cell_type": "code",
   "execution_count": null,
   "metadata": {},
   "outputs": [],
   "source": [
    "#df with results for rf\n",
    "results_rf = pd.DataFrame(gcv_rf.cv_results_)"
   ]
  },
  {
   "cell_type": "code",
   "execution_count": null,
   "metadata": {},
   "outputs": [],
   "source": [
    "#model quality versus parameters plot\n",
    "fig = px.scatter_3d(results_rf, x='param_rf__max_depth', y='param_rf__max_features', z='param_rf__n_estimators',\n",
    "                    color='mean_test_score', color_continuous_scale=px.colors.sequential.Magma)\n",
    "fig.show()"
   ]
  },
  {
   "cell_type": "code",
   "execution_count": null,
   "metadata": {},
   "outputs": [],
   "source": [
    "print(f'Best params for rf without class balancing: {gcv_rf.best_params_}')\n",
    "print(f'Best F1 metrics for rf without class balancing: {gcv_rf.best_score_}')"
   ]
  },
  {
   "cell_type": "markdown",
   "metadata": {},
   "source": [
    "### Decision tree"
   ]
  },
  {
   "cell_type": "code",
   "execution_count": null,
   "metadata": {},
   "outputs": [],
   "source": [
    "%%time\n",
    "#text columns encoder for dt with other columns passing through as they are\n",
    "dt_pipe = Pipeline(steps=[('preprocessor', one_hot_encoder), ('dt', DecisionTreeClassifier(random_state=42))])\n",
    "\n",
    "#parameters grid for dt\n",
    "dt_grid = {\n",
    "  \"dt__max_depth\": range(2, 10),\n",
    "  \"dt__min_samples_leaf\": range(2, 11),\n",
    "  \"dt__min_samples_split\": range(2, 11)\n",
    "  }\n",
    "\n",
    "#gridsearching\n",
    "gcv_dt = GridSearchCV(estimator=dt_pipe, param_grid=dt_grid, scoring='f1', verbose=1, n_jobs=-1)\n",
    "gcv_dt.fit(features_train_valid, target_train_valid)"
   ]
  },
  {
   "cell_type": "code",
   "execution_count": null,
   "metadata": {},
   "outputs": [],
   "source": [
    "#df with results for dt\n",
    "results_dt = pd.DataFrame(gcv_dt.cv_results_)"
   ]
  },
  {
   "cell_type": "code",
   "execution_count": null,
   "metadata": {},
   "outputs": [],
   "source": [
    "#model quality versus parameters plot\n",
    "fig = px.scatter_3d(results_dt, x='param_dt__max_depth', y='param_dt__min_samples_leaf', z='param_dt__min_samples_split',\n",
    "                    color='mean_test_score', color_continuous_scale=px.colors.sequential.Magma)\n",
    "fig.show()"
   ]
  },
  {
   "cell_type": "code",
   "execution_count": null,
   "metadata": {},
   "outputs": [],
   "source": [
    "print(f'Best params for dt without class balancing: {gcv_dt.best_params_}')\n",
    "print(f'Best F1 metrics for dt without class balancing: {gcv_dt.best_score_}')"
   ]
  },
  {
   "cell_type": "markdown",
   "metadata": {},
   "source": [
    "### Logistic regression"
   ]
  },
  {
   "cell_type": "markdown",
   "metadata": {},
   "source": [
    "For logistic regression, we'll also standardize the numerical values in the pipeline."
   ]
  },
  {
   "cell_type": "code",
   "execution_count": null,
   "metadata": {},
   "outputs": [],
   "source": [
    "%%time\n",
    "#text columns encoder for lr with scaling\n",
    "one_hot_scaler = make_column_transformer(\n",
    "        (StandardScaler(),\n",
    "        make_column_selector(dtype_include=np.number)\n",
    "        ),\n",
    "        (\n",
    "          OneHotEncoder(),\n",
    "          make_column_selector(dtype_include=np.object)\n",
    "          )\n",
    "          )\n",
    "\n",
    "#pipe for lr with encoding, scaling and model\n",
    "log_pipe = Pipeline(steps=[('preprocessor', one_hot_scaler), ('log', LogisticRegression(random_state=42, max_iter=1000))])\n",
    "\n",
    "#parameters grid for lr\n",
    "log_grid = {\n",
    "  \"log__solver\": ['liblinear', 'lbfgs'],\n",
    "  }\n",
    "\n",
    "#gridsearching\n",
    "gcv_log = GridSearchCV(estimator=log_pipe, param_grid=log_grid, scoring='f1', verbose=1, n_jobs=-1)\n",
    "gcv_log.fit(features_train_valid, target_train_valid)"
   ]
  },
  {
   "cell_type": "code",
   "execution_count": null,
   "metadata": {},
   "outputs": [],
   "source": [
    "print(f'Best params for lr without class balancing: {gcv_log.best_params_}')\n",
    "print(f'Best F1 metrics for lr without class balancing: {gcv_log.best_score_}')"
   ]
  },
  {
   "cell_type": "markdown",
   "metadata": {},
   "source": [
    "### Conclusions"
   ]
  },
  {
   "cell_type": "markdown",
   "metadata": {},
   "source": [
    "* **The worst F1 score among the models without class balancing was demonstrated by logistic regression (F1 score is ~0.32);**\n",
    "* **The best quality was demonstrated by a random forest model with the following parameters: tree depth - 12, the maximum number of features - 11, number of estimators - 60. The overall score is slightly less than 0.59;**\n",
    "* **There is a need to correct the class imbalance. We'll try different techniques such as upsampling and internal methods of balancing for each model with hyperparameter tuning.**"
   ]
  },
  {
   "cell_type": "markdown",
   "metadata": {},
   "source": [
    "## Dealing with imbalance"
   ]
  },
  {
   "cell_type": "markdown",
   "metadata": {},
   "source": [
    "### Upsampling"
   ]
  },
  {
   "cell_type": "code",
   "execution_count": null,
   "metadata": {},
   "outputs": [],
   "source": [
    "#upsampling function\n",
    "def upsample(features, target, repeat):\n",
    "    features_zeros = features_train_valid[target == 0]\n",
    "    features_ones = features_train_valid[target == 1]\n",
    "    target_zeros = target_train_valid[target == 0]\n",
    "    target_ones = target_train_valid[target == 1]\n",
    "\n",
    "    features_upsampled = pd.concat([features_zeros] + [features_ones] * repeat)\n",
    "    target_upsampled = pd.concat([target_zeros] + [target_ones] * repeat)\n",
    "    \n",
    "    features_upsampled, target_upsampled = shuffle(\n",
    "        features_upsampled, target_upsampled, random_state=42)\n",
    "    \n",
    "    return features_upsampled, target_upsampled\n",
    "\n",
    "#how much do we need to increase the smaller class\n",
    "repeat = round(target.value_counts()[0]/target.value_counts()[1])\n",
    "#calling function\n",
    "features_upsampled, target_upsampled = upsample(features_train_valid, target_train_valid, repeat)"
   ]
  },
  {
   "cell_type": "code",
   "execution_count": null,
   "metadata": {},
   "outputs": [],
   "source": [
    "#check for imbalance\n",
    "target_upsampled.value_counts().plot(kind='bar', figsize=(10,4))\n",
    "plt.title('Class distribution')\n",
    "plt.xlabel('Class')\n",
    "plt.ylabel('Number of observations');"
   ]
  },
  {
   "cell_type": "markdown",
   "metadata": {},
   "source": [
    "#### Random forest"
   ]
  },
  {
   "cell_type": "code",
   "execution_count": null,
   "metadata": {},
   "outputs": [],
   "source": [
    "%%time\n",
    "#gridsearching upsampled set for rf with pipe and without internal balancing\n",
    "gcv_rf_upsampled = GridSearchCV(estimator=rf_pipe, param_grid=rf_grid, scoring='f1', verbose=1, n_jobs=-1)\n",
    "gcv_rf_upsampled.fit(features_upsampled, target_upsampled)"
   ]
  },
  {
   "cell_type": "code",
   "execution_count": null,
   "metadata": {},
   "outputs": [],
   "source": [
    "print(f'Best params for rf with upsampling: {gcv_rf_upsampled.best_params_}')\n",
    "print(f'Best F1 metrics for rf with upsampling: {gcv_rf_upsampled.best_score_}')"
   ]
  },
  {
   "cell_type": "markdown",
   "metadata": {},
   "source": [
    "#### Decision tree"
   ]
  },
  {
   "cell_type": "code",
   "execution_count": null,
   "metadata": {},
   "outputs": [],
   "source": [
    "%%time\n",
    "#gridsearching upsampled set for dt with pipe and without internal balancing\n",
    "gcv_dt_upsampled = GridSearchCV(estimator=dt_pipe, param_grid=dt_grid, scoring='f1', verbose=1, n_jobs=-1)\n",
    "gcv_dt_upsampled.fit(features_upsampled, target_upsampled)"
   ]
  },
  {
   "cell_type": "code",
   "execution_count": null,
   "metadata": {},
   "outputs": [],
   "source": [
    "print(f'Best params for dt with upsampling: {gcv_dt_upsampled.best_params_}')\n",
    "print(f'Best F1 metrics for dt with upsampling: {gcv_dt_upsampled.best_score_}')"
   ]
  },
  {
   "cell_type": "markdown",
   "metadata": {},
   "source": [
    "#### Logistic regression"
   ]
  },
  {
   "cell_type": "code",
   "execution_count": null,
   "metadata": {},
   "outputs": [],
   "source": [
    "%%time\n",
    "#gridsearching upsampled set for lr with pipe and without internal balancing\n",
    "gcv_log_upsampled = GridSearchCV(estimator=log_pipe, param_grid=log_grid, scoring='f1', verbose=1, n_jobs=-1)\n",
    "gcv_log_upsampled.fit(features_upsampled, target_upsampled)"
   ]
  },
  {
   "cell_type": "code",
   "execution_count": null,
   "metadata": {},
   "outputs": [],
   "source": [
    "print(f'Best params for lr with upsampling: {gcv_log_upsampled.best_params_}')\n",
    "print(f'Best F1 metrics for lr with upsampling: {gcv_log_upsampled.best_score_}')"
   ]
  },
  {
   "cell_type": "markdown",
   "metadata": {},
   "source": [
    "### Balancing classes"
   ]
  },
  {
   "cell_type": "markdown",
   "metadata": {},
   "source": [
    "Let's use the built-in methods in each model for class balancing without upsampling."
   ]
  },
  {
   "cell_type": "markdown",
   "metadata": {},
   "source": [
    "#### Random forest"
   ]
  },
  {
   "cell_type": "code",
   "execution_count": null,
   "metadata": {},
   "outputs": [],
   "source": [
    "%%time\n",
    "#grid for rf\n",
    "rf_grid_balanced = {\n",
    "  \"rf__max_depth\": range(2, 20, 2),\n",
    "  \"rf__n_estimators\": range(10, 350, 25),\n",
    "  \"rf__max_features\": range(2, 14),\n",
    "  \"rf__class_weight\": ['balanced']\n",
    "}\n",
    "#gridsearching\n",
    "gcv_rf_balanced = GridSearchCV(estimator=rf_pipe, param_grid=rf_grid_balanced, scoring='f1', verbose=1, n_jobs=-1)\n",
    "gcv_rf_balanced.fit(features_train_valid, target_train_valid)"
   ]
  },
  {
   "cell_type": "code",
   "execution_count": null,
   "metadata": {},
   "outputs": [],
   "source": [
    "print(f'Best params for rf with balanced classes: {gcv_rf_balanced.best_params_}')\n",
    "print(f'Best F1 metrics for rf with balanced classes: {gcv_rf_balanced.best_score_}')"
   ]
  },
  {
   "cell_type": "markdown",
   "metadata": {},
   "source": [
    "#### Decision tree"
   ]
  },
  {
   "cell_type": "code",
   "execution_count": null,
   "metadata": {},
   "outputs": [],
   "source": [
    "%%time\n",
    "#grid for dt\n",
    "dt_grid_balanced = {\n",
    "  \"dt__max_depth\": range(2, 10),\n",
    "  \"dt__min_samples_leaf\": range(2, 11),\n",
    "  \"dt__min_samples_split\": range(2, 11),\n",
    "  \"dt__class_weight\": ['balanced']\n",
    "  }\n",
    "\n",
    "#gridsearching\n",
    "gcv_dt_balanced = GridSearchCV(estimator=dt_pipe, param_grid=dt_grid_balanced, scoring='f1', verbose=1, n_jobs=-1)\n",
    "gcv_dt_balanced.fit(features_train_valid, target_train_valid)"
   ]
  },
  {
   "cell_type": "code",
   "execution_count": null,
   "metadata": {},
   "outputs": [],
   "source": [
    "print(f'Best params for dt with balanced classes: {gcv_dt_balanced.best_params_}')\n",
    "print(f'Best F1 metrics for dt with balanced classes: {gcv_dt_balanced.best_score_}')"
   ]
  },
  {
   "cell_type": "markdown",
   "metadata": {},
   "source": [
    "#### Logistic regression"
   ]
  },
  {
   "cell_type": "code",
   "execution_count": null,
   "metadata": {},
   "outputs": [],
   "source": [
    "#grid for lr\n",
    "log_grid_balanced = {\n",
    "  \"log__solver\": ['liblinear', 'lbfgs'],\n",
    "  \"log__class_weight\": ['balanced']\n",
    "  }\n",
    "\n",
    "#gridsearching\n",
    "gcv_log_balanced = GridSearchCV(estimator=log_pipe, param_grid=log_grid_balanced, scoring='f1', verbose=1, n_jobs=-1)\n",
    "gcv_log_balanced.fit(features_train_valid, target_train_valid)"
   ]
  },
  {
   "cell_type": "code",
   "execution_count": null,
   "metadata": {},
   "outputs": [],
   "source": [
    "print(f'Best params for lr with balanced classes: {gcv_log_balanced.best_params_}')\n",
    "print(f'Best F1 metrics for lr with balanced classes: {gcv_log_balanced.best_score_}')"
   ]
  },
  {
   "cell_type": "markdown",
   "metadata": {},
   "source": [
    "### Conclusions"
   ]
  },
  {
   "cell_type": "markdown",
   "metadata": {},
   "source": [
    "* **The best model is Random Forest with upsampling of the smallest class. The F1 value is ~0.96. Random forest hyperparameters are as follows: depth - 18, maximum number of features - 2, number of estimators - 110.;**\n",
    "* **Now let's check the F1 score and ROC-AUC for the built model on the test dataset.**"
   ]
  },
  {
   "cell_type": "markdown",
   "metadata": {},
   "source": [
    "## Model testing"
   ]
  },
  {
   "cell_type": "code",
   "execution_count": null,
   "metadata": {},
   "outputs": [],
   "source": [
    "#model predictions for test dataset\n",
    "predictions_test = gcv_rf_upsampled.predict(features_test)"
   ]
  },
  {
   "cell_type": "code",
   "execution_count": null,
   "metadata": {},
   "outputs": [],
   "source": [
    "print(f'F1 metrics for test dataset: {f1_score(target_test, predictions_test)}')"
   ]
  },
  {
   "cell_type": "code",
   "execution_count": null,
   "metadata": {},
   "outputs": [],
   "source": [
    "#ROC-AUC\n",
    "probabilities_test = gcv_rf_upsampled.predict_proba(features_test)\n",
    "probabilities_one_test = probabilities_test[:, 1]\n",
    "\n",
    "fpr, tpr, thresholds = roc_curve(target_test, probabilities_one_test)\n",
    "\n",
    "plt.figure()\n",
    "\n",
    "plt.plot(fpr, tpr)\n",
    "\n",
    "# ROC-curve for random model\n",
    "plt.plot([0, 1], [0, 1], linestyle='--')\n",
    "plt.xlim([0.0, 1.0])\n",
    "plt.ylim([0.0, 1.0])\n",
    "plt.xlabel('False Positive Rate')\n",
    "plt.ylabel('True Positive Rate')\n",
    "plt.title('ROC-curve')\n",
    "plt.show()"
   ]
  },
  {
   "cell_type": "code",
   "execution_count": null,
   "metadata": {},
   "outputs": [],
   "source": [
    "auc_roc = roc_auc_score(target_test, probabilities_one_test)\n",
    "print(f'ROC-AUC for test dataset: {auc_roc}')"
   ]
  },
  {
   "cell_type": "markdown",
   "metadata": {},
   "source": [
    "## Summary"
   ]
  },
  {
   "cell_type": "markdown",
   "metadata": {},
   "source": [
    "* **The highest F1 metric demonstrated by the random forest fitted on the upsampled set. The F1 metric is ~0.59. ROC-AUC is 0.84, which generally indicates that the built model predicts better than the random model. Random forest hyperparameters are as follows: tree depth - 18, maximum number of features - 2, number of estimators - 110;**\n",
    "* **The applicability of the model for a bank is related to the fact that it is cheaper to keep existing customers than to attract new ones. Using the model, it is therefore possible to predict which customers are likely to leave the bank in the near future. This signals to the marketing department that this customer needs to be offered either a rate change or additional services that can retain the customer. However, this requires additional marketing analysis of customer preferences.** "
   ]
  }
 ],
 "metadata": {
  "ExecuteTimeLog": [
   {
    "duration": 394,
    "start_time": "2022-08-26T08:02:51.239Z"
   },
   {
    "duration": 3,
    "start_time": "2022-08-26T08:03:32.385Z"
   },
   {
    "duration": 98,
    "start_time": "2022-08-26T08:03:39.848Z"
   },
   {
    "duration": 18,
    "start_time": "2022-08-26T08:04:24.479Z"
   },
   {
    "duration": 13,
    "start_time": "2022-08-26T08:04:28.433Z"
   },
   {
    "duration": 12,
    "start_time": "2022-08-26T08:04:31.860Z"
   },
   {
    "duration": 45,
    "start_time": "2022-08-26T08:14:36.393Z"
   },
   {
    "duration": 377,
    "start_time": "2022-08-31T08:51:47.467Z"
   },
   {
    "duration": 179,
    "start_time": "2022-08-31T08:51:47.846Z"
   },
   {
    "duration": 21,
    "start_time": "2022-08-31T08:51:48.026Z"
   },
   {
    "duration": 13,
    "start_time": "2022-08-31T08:51:48.048Z"
   },
   {
    "duration": 38,
    "start_time": "2022-08-31T08:51:48.064Z"
   },
   {
    "duration": 56,
    "start_time": "2022-08-31T08:52:40.436Z"
   },
   {
    "duration": 492,
    "start_time": "2022-08-31T08:52:48.980Z"
   },
   {
    "duration": 123,
    "start_time": "2022-08-31T08:54:18.189Z"
   },
   {
    "duration": 1207,
    "start_time": "2022-08-31T08:57:03.127Z"
   },
   {
    "duration": 2309,
    "start_time": "2022-08-31T08:57:11.805Z"
   },
   {
    "duration": 331,
    "start_time": "2022-08-31T08:57:22.594Z"
   },
   {
    "duration": 39,
    "start_time": "2022-08-31T08:57:22.927Z"
   },
   {
    "duration": 20,
    "start_time": "2022-08-31T08:57:22.968Z"
   },
   {
    "duration": 12,
    "start_time": "2022-08-31T08:57:22.990Z"
   },
   {
    "duration": 59,
    "start_time": "2022-08-31T08:57:23.005Z"
   },
   {
    "duration": 327,
    "start_time": "2022-08-31T08:57:23.066Z"
   },
   {
    "duration": 6,
    "start_time": "2022-08-31T08:57:23.395Z"
   },
   {
    "duration": 1644,
    "start_time": "2022-09-04T17:33:00.822Z"
   },
   {
    "duration": 201,
    "start_time": "2022-09-04T17:38:33.212Z"
   },
   {
    "duration": 17,
    "start_time": "2022-09-04T17:38:34.473Z"
   },
   {
    "duration": 12,
    "start_time": "2022-09-04T17:38:35.722Z"
   },
   {
    "duration": 31,
    "start_time": "2022-09-04T17:38:37.857Z"
   },
   {
    "duration": 139,
    "start_time": "2022-09-04T17:38:38.290Z"
   },
   {
    "duration": 16,
    "start_time": "2022-09-04T17:38:41.093Z"
   },
   {
    "duration": 118,
    "start_time": "2022-09-04T17:51:56.952Z"
   },
   {
    "duration": 1575,
    "start_time": "2022-09-07T08:56:11.459Z"
   },
   {
    "duration": 182,
    "start_time": "2022-09-07T08:56:13.036Z"
   },
   {
    "duration": 16,
    "start_time": "2022-09-07T08:56:13.222Z"
   },
   {
    "duration": 14,
    "start_time": "2022-09-07T08:56:13.240Z"
   },
   {
    "duration": 71,
    "start_time": "2022-09-07T08:56:13.256Z"
   },
   {
    "duration": 7,
    "start_time": "2022-09-07T08:56:13.329Z"
   },
   {
    "duration": 12,
    "start_time": "2022-09-07T08:58:30.750Z"
   },
   {
    "duration": 5,
    "start_time": "2022-09-07T08:58:47.295Z"
   },
   {
    "duration": 11,
    "start_time": "2022-09-07T08:58:47.810Z"
   },
   {
    "duration": 4,
    "start_time": "2022-09-07T09:11:38.779Z"
   },
   {
    "duration": 6,
    "start_time": "2022-09-07T09:11:46.179Z"
   },
   {
    "duration": 7,
    "start_time": "2022-09-07T09:11:52.307Z"
   },
   {
    "duration": 7,
    "start_time": "2022-09-07T09:11:53.020Z"
   },
   {
    "duration": 6,
    "start_time": "2022-09-07T09:11:53.558Z"
   },
   {
    "duration": 6,
    "start_time": "2022-09-07T09:12:22.394Z"
   },
   {
    "duration": 146,
    "start_time": "2022-09-07T09:12:24.934Z"
   },
   {
    "duration": 124,
    "start_time": "2022-09-07T09:12:30.178Z"
   },
   {
    "duration": 4,
    "start_time": "2022-09-07T09:17:15.629Z"
   },
   {
    "duration": 5,
    "start_time": "2022-09-07T09:17:16.234Z"
   },
   {
    "duration": 6,
    "start_time": "2022-09-07T09:17:17.283Z"
   },
   {
    "duration": 5,
    "start_time": "2022-09-07T09:17:18.309Z"
   },
   {
    "duration": 4,
    "start_time": "2022-09-07T09:17:19.088Z"
   },
   {
    "duration": 6,
    "start_time": "2022-09-07T09:17:19.468Z"
   },
   {
    "duration": 4,
    "start_time": "2022-09-07T09:17:20.354Z"
   },
   {
    "duration": 7,
    "start_time": "2022-09-07T09:17:20.898Z"
   },
   {
    "duration": 4,
    "start_time": "2022-09-07T09:17:21.636Z"
   },
   {
    "duration": 5,
    "start_time": "2022-09-07T09:17:22.060Z"
   },
   {
    "duration": 5,
    "start_time": "2022-09-07T09:22:21.495Z"
   },
   {
    "duration": 118,
    "start_time": "2022-09-07T09:23:11.474Z"
   },
   {
    "duration": 12,
    "start_time": "2022-09-07T09:23:26.524Z"
   },
   {
    "duration": 70,
    "start_time": "2022-09-07T09:23:40.194Z"
   },
   {
    "duration": 17,
    "start_time": "2022-09-07T09:23:40.780Z"
   },
   {
    "duration": 6,
    "start_time": "2022-09-07T09:23:41.800Z"
   },
   {
    "duration": 12,
    "start_time": "2022-09-07T09:23:42.412Z"
   },
   {
    "duration": 11,
    "start_time": "2022-09-07T09:23:43.432Z"
   },
   {
    "duration": 126,
    "start_time": "2022-09-07T09:23:45.606Z"
   },
   {
    "duration": 32,
    "start_time": "2022-09-07T09:23:46.896Z"
   },
   {
    "duration": 6,
    "start_time": "2022-09-07T09:24:13.559Z"
   },
   {
    "duration": 17,
    "start_time": "2022-09-07T09:24:14.129Z"
   },
   {
    "duration": 4,
    "start_time": "2022-09-07T09:28:08.892Z"
   },
   {
    "duration": 12,
    "start_time": "2022-09-07T09:28:09.393Z"
   },
   {
    "duration": 381,
    "start_time": "2022-09-07T09:28:11.182Z"
   },
   {
    "duration": 66,
    "start_time": "2022-09-07T09:28:18.033Z"
   },
   {
    "duration": 11,
    "start_time": "2022-09-07T09:28:18.335Z"
   },
   {
    "duration": 4,
    "start_time": "2022-09-07T09:28:19.428Z"
   },
   {
    "duration": 12,
    "start_time": "2022-09-07T09:28:19.775Z"
   },
   {
    "duration": 11,
    "start_time": "2022-09-07T09:28:20.529Z"
   },
   {
    "duration": 110,
    "start_time": "2022-09-07T09:28:21.227Z"
   },
   {
    "duration": 32,
    "start_time": "2022-09-07T09:28:22.399Z"
   },
   {
    "duration": 5,
    "start_time": "2022-09-07T09:28:23.295Z"
   },
   {
    "duration": 12,
    "start_time": "2022-09-07T09:28:23.646Z"
   },
   {
    "duration": 204,
    "start_time": "2022-09-07T09:28:24.503Z"
   },
   {
    "duration": 61,
    "start_time": "2022-09-07T09:31:59.991Z"
   },
   {
    "duration": 12,
    "start_time": "2022-09-07T09:32:00.249Z"
   },
   {
    "duration": 6,
    "start_time": "2022-09-07T09:32:01.453Z"
   },
   {
    "duration": 19,
    "start_time": "2022-09-07T09:32:01.721Z"
   },
   {
    "duration": 12,
    "start_time": "2022-09-07T09:32:02.537Z"
   },
   {
    "duration": 131,
    "start_time": "2022-09-07T09:32:02.995Z"
   },
   {
    "duration": 34,
    "start_time": "2022-09-07T09:32:04.102Z"
   },
   {
    "duration": 14,
    "start_time": "2022-09-07T09:32:24.749Z"
   },
   {
    "duration": 13,
    "start_time": "2022-09-07T09:32:31.965Z"
   },
   {
    "duration": 12,
    "start_time": "2022-09-07T09:32:32.637Z"
   },
   {
    "duration": 13,
    "start_time": "2022-09-07T09:33:06.905Z"
   },
   {
    "duration": 5,
    "start_time": "2022-09-07T09:33:13.362Z"
   },
   {
    "duration": 5,
    "start_time": "2022-09-07T09:33:14.591Z"
   },
   {
    "duration": 7,
    "start_time": "2022-09-07T09:33:15.238Z"
   },
   {
    "duration": 6,
    "start_time": "2022-09-07T09:33:15.752Z"
   },
   {
    "duration": 5,
    "start_time": "2022-09-07T09:33:16.312Z"
   },
   {
    "duration": 6,
    "start_time": "2022-09-07T09:33:16.865Z"
   },
   {
    "duration": 7,
    "start_time": "2022-09-07T09:33:17.387Z"
   },
   {
    "duration": 7,
    "start_time": "2022-09-07T09:33:17.909Z"
   },
   {
    "duration": 6,
    "start_time": "2022-09-07T09:33:18.401Z"
   },
   {
    "duration": 6,
    "start_time": "2022-09-07T09:33:18.903Z"
   },
   {
    "duration": 5,
    "start_time": "2022-09-07T09:33:31.461Z"
   },
   {
    "duration": 5,
    "start_time": "2022-09-07T09:33:32.702Z"
   },
   {
    "duration": 6,
    "start_time": "2022-09-07T09:33:33.294Z"
   },
   {
    "duration": 6,
    "start_time": "2022-09-07T09:33:33.908Z"
   },
   {
    "duration": 6,
    "start_time": "2022-09-07T09:33:34.526Z"
   },
   {
    "duration": 5,
    "start_time": "2022-09-07T09:33:35.118Z"
   },
   {
    "duration": 5,
    "start_time": "2022-09-07T09:33:35.665Z"
   },
   {
    "duration": 5,
    "start_time": "2022-09-07T09:33:36.490Z"
   },
   {
    "duration": 5,
    "start_time": "2022-09-07T09:33:37.116Z"
   },
   {
    "duration": 4,
    "start_time": "2022-09-07T09:37:08.126Z"
   },
   {
    "duration": 5,
    "start_time": "2022-09-07T09:37:15.838Z"
   },
   {
    "duration": 4,
    "start_time": "2022-09-07T09:37:18.252Z"
   },
   {
    "duration": 5,
    "start_time": "2022-09-07T09:37:19.694Z"
   },
   {
    "duration": 3,
    "start_time": "2022-09-07T09:37:20.365Z"
   },
   {
    "duration": 5,
    "start_time": "2022-09-07T09:37:21.035Z"
   },
   {
    "duration": 8,
    "start_time": "2022-09-07T09:37:21.683Z"
   },
   {
    "duration": 4,
    "start_time": "2022-09-07T09:37:22.287Z"
   },
   {
    "duration": 4,
    "start_time": "2022-09-07T09:37:23.293Z"
   },
   {
    "duration": 5,
    "start_time": "2022-09-07T09:37:23.930Z"
   },
   {
    "duration": 4,
    "start_time": "2022-09-07T09:37:24.559Z"
   },
   {
    "duration": 4,
    "start_time": "2022-09-07T09:37:25.463Z"
   },
   {
    "duration": 5,
    "start_time": "2022-09-07T09:37:26.685Z"
   },
   {
    "duration": 7,
    "start_time": "2022-09-07T09:48:02.383Z"
   },
   {
    "duration": 5,
    "start_time": "2022-09-07T09:48:26.247Z"
   },
   {
    "duration": 7,
    "start_time": "2022-09-07T09:48:48.749Z"
   },
   {
    "duration": 5,
    "start_time": "2022-09-07T10:03:17.985Z"
   },
   {
    "duration": 5,
    "start_time": "2022-09-07T10:03:19.320Z"
   },
   {
    "duration": 5,
    "start_time": "2022-09-07T10:03:22.055Z"
   },
   {
    "duration": 5,
    "start_time": "2022-09-07T10:03:23.084Z"
   },
   {
    "duration": 6,
    "start_time": "2022-09-07T10:09:41.807Z"
   },
   {
    "duration": 6,
    "start_time": "2022-09-07T10:10:43.798Z"
   },
   {
    "duration": 10,
    "start_time": "2022-09-07T10:19:06.237Z"
   },
   {
    "duration": 4,
    "start_time": "2022-09-07T10:19:21.494Z"
   },
   {
    "duration": 10,
    "start_time": "2022-09-07T10:19:29.682Z"
   },
   {
    "duration": 638,
    "start_time": "2022-09-07T10:19:44.033Z"
   },
   {
    "duration": 4,
    "start_time": "2022-09-07T10:19:48.789Z"
   },
   {
    "duration": 4,
    "start_time": "2022-09-07T10:19:49.602Z"
   },
   {
    "duration": 4,
    "start_time": "2022-09-07T10:19:50.290Z"
   },
   {
    "duration": 5,
    "start_time": "2022-09-07T10:19:50.833Z"
   },
   {
    "duration": 5,
    "start_time": "2022-09-07T10:19:51.388Z"
   },
   {
    "duration": 9,
    "start_time": "2022-09-07T10:21:04.585Z"
   },
   {
    "duration": 4,
    "start_time": "2022-09-07T10:21:20.332Z"
   },
   {
    "duration": 4,
    "start_time": "2022-09-07T10:21:28.630Z"
   },
   {
    "duration": 4,
    "start_time": "2022-09-07T10:21:32.618Z"
   },
   {
    "duration": 4,
    "start_time": "2022-09-07T10:21:33.391Z"
   },
   {
    "duration": 4,
    "start_time": "2022-09-07T10:21:33.944Z"
   },
   {
    "duration": 4,
    "start_time": "2022-09-07T10:21:34.414Z"
   },
   {
    "duration": 4,
    "start_time": "2022-09-07T10:21:34.942Z"
   },
   {
    "duration": 5,
    "start_time": "2022-09-07T10:21:35.464Z"
   },
   {
    "duration": 5,
    "start_time": "2022-09-07T10:46:42.921Z"
   },
   {
    "duration": 5,
    "start_time": "2022-09-07T10:46:47.491Z"
   },
   {
    "duration": 1410,
    "start_time": "2022-09-07T13:19:36.722Z"
   },
   {
    "duration": 0,
    "start_time": "2022-09-07T13:19:38.134Z"
   },
   {
    "duration": 212,
    "start_time": "2022-09-07T13:19:46.488Z"
   },
   {
    "duration": 116,
    "start_time": "2022-09-07T13:19:47.732Z"
   },
   {
    "duration": 14,
    "start_time": "2022-09-07T13:19:49.048Z"
   },
   {
    "duration": 4,
    "start_time": "2022-09-07T13:19:52.166Z"
   },
   {
    "duration": 13,
    "start_time": "2022-09-07T13:19:53.090Z"
   },
   {
    "duration": 10,
    "start_time": "2022-09-07T13:19:55.852Z"
   },
   {
    "duration": 118,
    "start_time": "2022-09-07T13:20:03.663Z"
   },
   {
    "duration": 29,
    "start_time": "2022-09-07T13:20:05.774Z"
   },
   {
    "duration": 6,
    "start_time": "2022-09-07T13:20:07.830Z"
   },
   {
    "duration": 4,
    "start_time": "2022-09-07T13:20:08.260Z"
   },
   {
    "duration": 5,
    "start_time": "2022-09-07T13:20:19.796Z"
   },
   {
    "duration": 4,
    "start_time": "2022-09-07T13:20:38.072Z"
   },
   {
    "duration": 3,
    "start_time": "2022-09-07T13:20:41.747Z"
   },
   {
    "duration": 4,
    "start_time": "2022-09-07T13:20:46.588Z"
   },
   {
    "duration": 6,
    "start_time": "2022-09-07T13:21:01.213Z"
   },
   {
    "duration": 5,
    "start_time": "2022-09-07T13:21:38.494Z"
   },
   {
    "duration": 3,
    "start_time": "2022-09-07T13:21:42.637Z"
   },
   {
    "duration": 24,
    "start_time": "2022-09-07T13:22:45.250Z"
   },
   {
    "duration": 5,
    "start_time": "2022-09-07T13:25:13.334Z"
   },
   {
    "duration": 11,
    "start_time": "2022-09-07T13:25:14.747Z"
   },
   {
    "duration": 342,
    "start_time": "2022-09-07T13:25:17.017Z"
   },
   {
    "duration": 6,
    "start_time": "2022-09-07T13:25:30.522Z"
   },
   {
    "duration": 10,
    "start_time": "2022-09-07T13:26:04.727Z"
   },
   {
    "duration": 12,
    "start_time": "2022-09-07T13:27:51.696Z"
   },
   {
    "duration": 11,
    "start_time": "2022-09-07T13:28:01.356Z"
   },
   {
    "duration": 9,
    "start_time": "2022-09-07T13:28:13.522Z"
   },
   {
    "duration": 11,
    "start_time": "2022-09-07T13:28:38.985Z"
   },
   {
    "duration": 5,
    "start_time": "2022-09-07T13:29:57.924Z"
   },
   {
    "duration": 13,
    "start_time": "2022-09-07T13:29:59.051Z"
   },
   {
    "duration": 6,
    "start_time": "2022-09-07T13:30:00.078Z"
   },
   {
    "duration": 58,
    "start_time": "2022-09-07T13:30:07.861Z"
   },
   {
    "duration": 13,
    "start_time": "2022-09-07T13:30:07.963Z"
   },
   {
    "duration": 5,
    "start_time": "2022-09-07T13:30:09.803Z"
   },
   {
    "duration": 10,
    "start_time": "2022-09-07T13:30:10.110Z"
   },
   {
    "duration": 110,
    "start_time": "2022-09-07T13:30:11.442Z"
   },
   {
    "duration": 28,
    "start_time": "2022-09-07T13:30:12.773Z"
   },
   {
    "duration": 5,
    "start_time": "2022-09-07T13:30:14.311Z"
   },
   {
    "duration": 3,
    "start_time": "2022-09-07T13:30:14.821Z"
   },
   {
    "duration": 4,
    "start_time": "2022-09-07T13:30:16.743Z"
   },
   {
    "duration": 10,
    "start_time": "2022-09-07T13:30:17.514Z"
   },
   {
    "duration": 5,
    "start_time": "2022-09-07T13:30:19.523Z"
   },
   {
    "duration": 4,
    "start_time": "2022-09-07T13:30:47.142Z"
   },
   {
    "duration": 12,
    "start_time": "2022-09-07T13:30:48.001Z"
   },
   {
    "duration": 6,
    "start_time": "2022-09-07T13:31:04.802Z"
   },
   {
    "duration": 57,
    "start_time": "2022-09-07T13:31:21.891Z"
   },
   {
    "duration": 11,
    "start_time": "2022-09-07T13:31:22.284Z"
   },
   {
    "duration": 4,
    "start_time": "2022-09-07T13:31:23.193Z"
   },
   {
    "duration": 10,
    "start_time": "2022-09-07T13:31:24.203Z"
   },
   {
    "duration": 125,
    "start_time": "2022-09-07T13:31:24.595Z"
   },
   {
    "duration": 29,
    "start_time": "2022-09-07T13:31:26.246Z"
   },
   {
    "duration": 163,
    "start_time": "2022-09-07T13:31:28.859Z"
   },
   {
    "duration": 29,
    "start_time": "2022-09-07T13:31:29.798Z"
   },
   {
    "duration": 4,
    "start_time": "2022-09-07T13:31:31.485Z"
   },
   {
    "duration": 4,
    "start_time": "2022-09-07T13:31:31.731Z"
   },
   {
    "duration": 5,
    "start_time": "2022-09-07T13:31:32.841Z"
   },
   {
    "duration": 4,
    "start_time": "2022-09-07T13:31:35.193Z"
   },
   {
    "duration": 10,
    "start_time": "2022-09-07T13:31:35.733Z"
   },
   {
    "duration": 5,
    "start_time": "2022-09-07T13:31:36.250Z"
   },
   {
    "duration": 4,
    "start_time": "2022-09-07T13:32:03.906Z"
   },
   {
    "duration": 14,
    "start_time": "2022-09-07T13:32:04.551Z"
   },
   {
    "duration": 4,
    "start_time": "2022-09-07T13:32:23.602Z"
   },
   {
    "duration": 10,
    "start_time": "2022-09-07T13:32:24.235Z"
   },
   {
    "duration": 6,
    "start_time": "2022-09-07T13:32:25.876Z"
   },
   {
    "duration": 120,
    "start_time": "2022-09-07T13:33:00.391Z"
   },
   {
    "duration": 10,
    "start_time": "2022-09-07T13:35:26.635Z"
   },
   {
    "duration": 4,
    "start_time": "2022-09-07T13:36:41.629Z"
   },
   {
    "duration": 12,
    "start_time": "2022-09-07T13:36:42.027Z"
   },
   {
    "duration": 68,
    "start_time": "2022-09-07T13:36:45.568Z"
   },
   {
    "duration": 10,
    "start_time": "2022-09-07T13:36:45.877Z"
   },
   {
    "duration": 5,
    "start_time": "2022-09-07T13:36:47.951Z"
   },
   {
    "duration": 14,
    "start_time": "2022-09-07T13:36:48.274Z"
   },
   {
    "duration": 108,
    "start_time": "2022-09-07T13:36:49.576Z"
   },
   {
    "duration": 29,
    "start_time": "2022-09-07T13:36:50.634Z"
   },
   {
    "duration": 4,
    "start_time": "2022-09-07T13:36:51.948Z"
   },
   {
    "duration": 4,
    "start_time": "2022-09-07T13:36:52.265Z"
   },
   {
    "duration": 5,
    "start_time": "2022-09-07T13:36:53.323Z"
   },
   {
    "duration": 5,
    "start_time": "2022-09-07T13:36:55.725Z"
   },
   {
    "duration": 10,
    "start_time": "2022-09-07T13:36:57.318Z"
   },
   {
    "duration": 122,
    "start_time": "2022-09-07T13:36:57.875Z"
   },
   {
    "duration": 71,
    "start_time": "2022-09-07T13:40:46.482Z"
   },
   {
    "duration": 4,
    "start_time": "2022-09-07T13:41:00.824Z"
   },
   {
    "duration": 11,
    "start_time": "2022-09-07T13:41:01.832Z"
   },
   {
    "duration": 4,
    "start_time": "2022-09-07T13:41:34.767Z"
   },
   {
    "duration": 6,
    "start_time": "2022-09-07T13:41:46.031Z"
   },
   {
    "duration": 58,
    "start_time": "2022-09-07T13:42:17.649Z"
   },
   {
    "duration": 11,
    "start_time": "2022-09-07T13:42:17.927Z"
   },
   {
    "duration": 4,
    "start_time": "2022-09-07T13:42:19.328Z"
   },
   {
    "duration": 11,
    "start_time": "2022-09-07T13:42:20.378Z"
   },
   {
    "duration": 106,
    "start_time": "2022-09-07T13:42:20.679Z"
   },
   {
    "duration": 30,
    "start_time": "2022-09-07T13:42:22.053Z"
   },
   {
    "duration": 6,
    "start_time": "2022-09-07T13:42:23.088Z"
   },
   {
    "duration": 4,
    "start_time": "2022-09-07T13:43:52.922Z"
   },
   {
    "duration": 10,
    "start_time": "2022-09-07T13:43:53.831Z"
   },
   {
    "duration": 107,
    "start_time": "2022-09-07T13:43:55.681Z"
   },
   {
    "duration": 10,
    "start_time": "2022-09-07T13:43:57.427Z"
   },
   {
    "duration": 6,
    "start_time": "2022-09-07T13:52:01.796Z"
   },
   {
    "duration": 4,
    "start_time": "2022-09-07T13:53:31.734Z"
   },
   {
    "duration": 3,
    "start_time": "2022-09-07T13:53:35.635Z"
   },
   {
    "duration": 66,
    "start_time": "2022-09-07T13:53:35.988Z"
   },
   {
    "duration": 12,
    "start_time": "2022-09-07T13:53:37.310Z"
   },
   {
    "duration": 4,
    "start_time": "2022-09-07T13:53:41.054Z"
   },
   {
    "duration": 11,
    "start_time": "2022-09-07T13:53:42.728Z"
   },
   {
    "duration": 108,
    "start_time": "2022-09-07T13:53:45.790Z"
   },
   {
    "duration": 125,
    "start_time": "2022-09-07T13:54:02.275Z"
   },
   {
    "duration": 4,
    "start_time": "2022-09-07T13:58:35.841Z"
   },
   {
    "duration": 134,
    "start_time": "2022-09-07T13:58:51.010Z"
   },
   {
    "duration": 1348,
    "start_time": "2022-09-07T13:59:04.909Z"
   },
   {
    "duration": 57,
    "start_time": "2022-09-07T13:59:06.259Z"
   },
   {
    "duration": 13,
    "start_time": "2022-09-07T13:59:06.317Z"
   },
   {
    "duration": 9,
    "start_time": "2022-09-07T13:59:06.331Z"
   },
   {
    "duration": 19,
    "start_time": "2022-09-07T13:59:06.342Z"
   },
   {
    "duration": 138,
    "start_time": "2022-09-07T13:59:06.362Z"
   },
   {
    "duration": 30,
    "start_time": "2022-09-07T13:59:06.502Z"
   },
   {
    "duration": 7,
    "start_time": "2022-09-07T13:59:06.534Z"
   },
   {
    "duration": 5,
    "start_time": "2022-09-07T13:59:06.542Z"
   },
   {
    "duration": 12,
    "start_time": "2022-09-07T13:59:06.548Z"
   },
   {
    "duration": 163,
    "start_time": "2022-09-07T13:59:06.562Z"
   },
   {
    "duration": 8,
    "start_time": "2022-09-07T14:06:12.023Z"
   },
   {
    "duration": 11,
    "start_time": "2022-09-07T14:06:19.494Z"
   },
   {
    "duration": 5,
    "start_time": "2022-09-07T14:08:45.530Z"
   },
   {
    "duration": 7,
    "start_time": "2022-09-07T14:09:01.023Z"
   },
   {
    "duration": 7,
    "start_time": "2022-09-07T14:09:07.317Z"
   },
   {
    "duration": 126,
    "start_time": "2022-09-07T14:10:04.621Z"
   },
   {
    "duration": 118,
    "start_time": "2022-09-07T14:10:13.515Z"
   },
   {
    "duration": 33811,
    "start_time": "2022-09-07T14:10:26.125Z"
   },
   {
    "duration": 118,
    "start_time": "2022-09-07T14:11:08.731Z"
   },
   {
    "duration": 93,
    "start_time": "2022-09-07T14:11:24.232Z"
   },
   {
    "duration": 5,
    "start_time": "2022-09-07T14:13:59.170Z"
   },
   {
    "duration": 7,
    "start_time": "2022-09-07T14:16:32.345Z"
   },
   {
    "duration": 7,
    "start_time": "2022-09-07T14:17:01.715Z"
   },
   {
    "duration": 3531,
    "start_time": "2022-09-16T22:32:42.231Z"
   },
   {
    "duration": 209,
    "start_time": "2022-09-16T22:32:45.764Z"
   },
   {
    "duration": 50,
    "start_time": "2022-09-16T22:32:45.975Z"
   },
   {
    "duration": 16,
    "start_time": "2022-09-16T22:32:46.030Z"
   },
   {
    "duration": 65,
    "start_time": "2022-09-16T22:32:46.048Z"
   },
   {
    "duration": 91,
    "start_time": "2022-09-16T22:32:46.121Z"
   },
   {
    "duration": 414,
    "start_time": "2022-09-16T22:32:46.219Z"
   },
   {
    "duration": 7,
    "start_time": "2022-09-16T22:32:46.635Z"
   },
   {
    "duration": 61,
    "start_time": "2022-09-16T22:32:46.644Z"
   },
   {
    "duration": 29,
    "start_time": "2022-09-16T22:32:46.715Z"
   },
   {
    "duration": 504,
    "start_time": "2022-09-16T22:32:46.746Z"
   },
   {
    "duration": 9,
    "start_time": "2022-09-16T22:32:47.305Z"
   },
   {
    "duration": 331,
    "start_time": "2022-09-16T22:32:47.316Z"
   },
   {
    "duration": 73,
    "start_time": "2022-09-16T22:32:47.650Z"
   },
   {
    "duration": 3291,
    "start_time": "2022-09-16T22:38:17.926Z"
   },
   {
    "duration": 130,
    "start_time": "2022-09-16T22:38:21.224Z"
   },
   {
    "duration": 50,
    "start_time": "2022-09-16T22:38:21.356Z"
   },
   {
    "duration": 7,
    "start_time": "2022-09-16T22:38:21.407Z"
   },
   {
    "duration": 40,
    "start_time": "2022-09-16T22:38:21.416Z"
   },
   {
    "duration": 102,
    "start_time": "2022-09-16T22:38:21.507Z"
   },
   {
    "duration": 416,
    "start_time": "2022-09-16T22:38:21.615Z"
   },
   {
    "duration": 6,
    "start_time": "2022-09-16T22:38:22.034Z"
   },
   {
    "duration": 65,
    "start_time": "2022-09-16T22:38:22.042Z"
   },
   {
    "duration": 20,
    "start_time": "2022-09-16T22:38:22.121Z"
   },
   {
    "duration": 380,
    "start_time": "2022-09-16T22:38:22.143Z"
   },
   {
    "duration": 4,
    "start_time": "2022-09-16T22:38:22.525Z"
   },
   {
    "duration": 376,
    "start_time": "2022-09-16T22:38:22.535Z"
   },
   {
    "duration": 12,
    "start_time": "2022-09-16T22:38:22.915Z"
   },
   {
    "duration": 2000,
    "start_time": "2022-09-17T10:57:14.085Z"
   },
   {
    "duration": 120,
    "start_time": "2022-09-17T10:57:16.087Z"
   },
   {
    "duration": 15,
    "start_time": "2022-09-17T10:57:16.208Z"
   },
   {
    "duration": 10,
    "start_time": "2022-09-17T10:57:16.226Z"
   },
   {
    "duration": 25,
    "start_time": "2022-09-17T10:57:16.238Z"
   },
   {
    "duration": 43,
    "start_time": "2022-09-17T10:57:16.265Z"
   },
   {
    "duration": 231,
    "start_time": "2022-09-17T10:57:16.310Z"
   },
   {
    "duration": 6,
    "start_time": "2022-09-17T10:57:16.547Z"
   },
   {
    "duration": 5,
    "start_time": "2022-09-17T10:57:16.555Z"
   },
   {
    "duration": 11,
    "start_time": "2022-09-17T10:57:16.564Z"
   },
   {
    "duration": 172,
    "start_time": "2022-09-17T10:57:16.577Z"
   },
   {
    "duration": 4,
    "start_time": "2022-09-17T10:57:16.751Z"
   },
   {
    "duration": 132,
    "start_time": "2022-09-17T10:57:16.757Z"
   },
   {
    "duration": 9,
    "start_time": "2022-09-17T10:57:16.891Z"
   },
   {
    "duration": 569021,
    "start_time": "2022-09-17T10:57:16.902Z"
   },
   {
    "duration": 10,
    "start_time": "2022-09-17T11:06:45.925Z"
   },
   {
    "duration": 0,
    "start_time": "2022-09-17T11:06:45.938Z"
   },
   {
    "duration": 0,
    "start_time": "2022-09-17T11:06:45.939Z"
   },
   {
    "duration": 0,
    "start_time": "2022-09-17T11:06:45.941Z"
   },
   {
    "duration": 0,
    "start_time": "2022-09-17T11:06:45.942Z"
   },
   {
    "duration": 0,
    "start_time": "2022-09-17T11:06:45.942Z"
   },
   {
    "duration": 0,
    "start_time": "2022-09-17T11:06:45.944Z"
   },
   {
    "duration": 0,
    "start_time": "2022-09-17T11:06:45.945Z"
   },
   {
    "duration": 0,
    "start_time": "2022-09-17T11:06:45.947Z"
   },
   {
    "duration": 1,
    "start_time": "2022-09-17T11:06:45.948Z"
   },
   {
    "duration": 0,
    "start_time": "2022-09-17T11:06:45.950Z"
   },
   {
    "duration": 0,
    "start_time": "2022-09-17T11:06:45.951Z"
   },
   {
    "duration": 0,
    "start_time": "2022-09-17T11:06:45.953Z"
   },
   {
    "duration": 0,
    "start_time": "2022-09-17T11:06:45.954Z"
   },
   {
    "duration": 0,
    "start_time": "2022-09-17T11:06:45.955Z"
   },
   {
    "duration": 0,
    "start_time": "2022-09-17T11:06:45.957Z"
   },
   {
    "duration": 0,
    "start_time": "2022-09-17T11:06:45.958Z"
   },
   {
    "duration": 0,
    "start_time": "2022-09-17T11:06:45.960Z"
   },
   {
    "duration": 0,
    "start_time": "2022-09-17T11:06:45.962Z"
   },
   {
    "duration": 0,
    "start_time": "2022-09-17T11:06:45.963Z"
   },
   {
    "duration": 0,
    "start_time": "2022-09-17T11:06:45.965Z"
   },
   {
    "duration": 0,
    "start_time": "2022-09-17T11:06:45.966Z"
   },
   {
    "duration": 0,
    "start_time": "2022-09-17T11:06:45.967Z"
   },
   {
    "duration": 0,
    "start_time": "2022-09-17T11:06:45.969Z"
   },
   {
    "duration": 0,
    "start_time": "2022-09-17T11:06:45.970Z"
   },
   {
    "duration": 0,
    "start_time": "2022-09-17T11:06:45.972Z"
   },
   {
    "duration": 0,
    "start_time": "2022-09-17T11:06:45.973Z"
   },
   {
    "duration": 43,
    "start_time": "2022-09-17T11:07:02.922Z"
   },
   {
    "duration": 20,
    "start_time": "2022-09-17T11:07:07.899Z"
   },
   {
    "duration": 124,
    "start_time": "2022-09-17T11:07:08.539Z"
   },
   {
    "duration": 1836,
    "start_time": "2022-09-17T11:09:34.083Z"
   },
   {
    "duration": 107,
    "start_time": "2022-09-17T11:09:35.921Z"
   },
   {
    "duration": 0,
    "start_time": "2022-09-17T11:09:36.032Z"
   },
   {
    "duration": 0,
    "start_time": "2022-09-17T11:09:36.034Z"
   },
   {
    "duration": 0,
    "start_time": "2022-09-17T11:09:36.046Z"
   },
   {
    "duration": 0,
    "start_time": "2022-09-17T11:09:36.048Z"
   },
   {
    "duration": 0,
    "start_time": "2022-09-17T11:09:36.050Z"
   },
   {
    "duration": 0,
    "start_time": "2022-09-17T11:09:36.051Z"
   },
   {
    "duration": 0,
    "start_time": "2022-09-17T11:09:36.052Z"
   },
   {
    "duration": 0,
    "start_time": "2022-09-17T11:09:36.054Z"
   },
   {
    "duration": 0,
    "start_time": "2022-09-17T11:09:36.055Z"
   },
   {
    "duration": 0,
    "start_time": "2022-09-17T11:09:36.056Z"
   },
   {
    "duration": 0,
    "start_time": "2022-09-17T11:09:36.057Z"
   },
   {
    "duration": 0,
    "start_time": "2022-09-17T11:09:36.058Z"
   },
   {
    "duration": 0,
    "start_time": "2022-09-17T11:09:36.059Z"
   },
   {
    "duration": 0,
    "start_time": "2022-09-17T11:09:36.060Z"
   },
   {
    "duration": 0,
    "start_time": "2022-09-17T11:09:36.061Z"
   },
   {
    "duration": 0,
    "start_time": "2022-09-17T11:09:36.061Z"
   },
   {
    "duration": 0,
    "start_time": "2022-09-17T11:09:36.063Z"
   },
   {
    "duration": 0,
    "start_time": "2022-09-17T11:09:36.064Z"
   },
   {
    "duration": 0,
    "start_time": "2022-09-17T11:09:36.065Z"
   },
   {
    "duration": 0,
    "start_time": "2022-09-17T11:09:36.067Z"
   },
   {
    "duration": 0,
    "start_time": "2022-09-17T11:09:36.068Z"
   },
   {
    "duration": 0,
    "start_time": "2022-09-17T11:09:36.069Z"
   },
   {
    "duration": 0,
    "start_time": "2022-09-17T11:09:36.071Z"
   },
   {
    "duration": 0,
    "start_time": "2022-09-17T11:09:36.072Z"
   },
   {
    "duration": 1,
    "start_time": "2022-09-17T11:09:36.073Z"
   },
   {
    "duration": 0,
    "start_time": "2022-09-17T11:09:36.075Z"
   },
   {
    "duration": 0,
    "start_time": "2022-09-17T11:09:36.076Z"
   },
   {
    "duration": 0,
    "start_time": "2022-09-17T11:09:36.078Z"
   },
   {
    "duration": 0,
    "start_time": "2022-09-17T11:09:36.079Z"
   },
   {
    "duration": 0,
    "start_time": "2022-09-17T11:09:36.083Z"
   },
   {
    "duration": 0,
    "start_time": "2022-09-17T11:09:36.084Z"
   },
   {
    "duration": 0,
    "start_time": "2022-09-17T11:09:36.085Z"
   },
   {
    "duration": 0,
    "start_time": "2022-09-17T11:09:36.087Z"
   },
   {
    "duration": 0,
    "start_time": "2022-09-17T11:09:36.147Z"
   },
   {
    "duration": 0,
    "start_time": "2022-09-17T11:09:36.149Z"
   },
   {
    "duration": 0,
    "start_time": "2022-09-17T11:09:36.150Z"
   },
   {
    "duration": 0,
    "start_time": "2022-09-17T11:09:36.151Z"
   },
   {
    "duration": 0,
    "start_time": "2022-09-17T11:09:36.152Z"
   },
   {
    "duration": 0,
    "start_time": "2022-09-17T11:09:36.162Z"
   },
   {
    "duration": 0,
    "start_time": "2022-09-17T11:09:36.163Z"
   },
   {
    "duration": 0,
    "start_time": "2022-09-17T11:09:36.164Z"
   }
  ],
  "kernelspec": {
   "display_name": "Python 3 (ipykernel)",
   "language": "python",
   "name": "python3"
  },
  "language_info": {
   "codemirror_mode": {
    "name": "ipython",
    "version": 3
   },
   "file_extension": ".py",
   "mimetype": "text/x-python",
   "name": "python",
   "nbconvert_exporter": "python",
   "pygments_lexer": "ipython3",
   "version": "3.9.12"
  },
  "toc": {
   "base_numbering": 1,
   "nav_menu": {},
   "number_sections": true,
   "sideBar": true,
   "skip_h1_title": true,
   "title_cell": "Table of Contents",
   "title_sidebar": "Contents",
   "toc_cell": true,
   "toc_position": {},
   "toc_section_display": true,
   "toc_window_display": false
  },
  "vscode": {
   "interpreter": {
    "hash": "e42901d9492c612649bfe5bc45fcd722e20e946cf8622850b2a92552b6453078"
   }
  }
 },
 "nbformat": 4,
 "nbformat_minor": 2
}
