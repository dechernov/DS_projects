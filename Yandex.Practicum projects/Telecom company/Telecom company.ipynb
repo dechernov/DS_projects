{
 "cells": [
  {
   "cell_type": "markdown",
   "metadata": {},
   "source": [
    "# Determining a prospective tariff for a telecommunications company"
   ]
  },
  {
   "cell_type": "markdown",
   "metadata": {},
   "source": [
    "## Project description"
   ]
  },
  {
   "cell_type": "markdown",
   "metadata": {},
   "source": [
    "**Brief information:** a telecommunications company offers its customers two tariff plans: \"Smart\" and \"Ultra. The commercial department needs to understand which plan brings in more money in order to adjust the advertising budget. It is necessary to analyze customer behavior and conclude which plan is preferable for the telecom company."
   ]
  },
  {
   "cell_type": "markdown",
   "metadata": {},
   "source": [
    "**Objective:** Compare two tariff plans and determine the most promising plan with the highest revenue. "
   ]
  },
  {
   "cell_type": "markdown",
   "metadata": {},
   "source": [
    "## Data description"
   ]
  },
  {
   "cell_type": "markdown",
   "metadata": {},
   "source": [
    "The dataset consists of several tables:\n",
    "* table **users** (information about customers);\n",
    "* table **calls** (information about calls made);\n",
    "* table **messages** (information about sent messages);\n",
    "* table **internet** (information about internet sessions);\n",
    "* table **tariffs** (information about tariff plans)."
   ]
  },
  {
   "cell_type": "markdown",
   "metadata": {},
   "source": [
    "The **users** table (information about cutomers) consists of the following columns:\n",
    "* `user_id` — unique customer id;\n",
    "* `first_name` — customer's first name;\n",
    "* `last_name` — customer's last name;\n",
    "* `age` — customer's age (in years);\n",
    "* `reg_date` — tariff plan activation date (day, month, year);\n",
    "* `churn_date` — termination date of the plan (if the value is missing, the plan was still in effect at the time of the data extraction).;\n",
    "* `city` — client's city of residence;\n",
    "* `tariff` — tariff plan name.\n",
    "\n",
    "The **calls** table (information about calls made) consists of the following columns:\n",
    "* `id` — unique call id;\n",
    "* `call_date` — call date;\n",
    "* `duration` — call duration in minutes;\n",
    "* `user_id` — unique customer id.\n",
    "\n",
    "The **messages** table (information about sent messages) consists of the following columns:\n",
    "* `id` — unique message id;\n",
    "* `message_date` — message date;\n",
    "* `user_id` — unique customer id.\n",
    "\n",
    "The **internet** table (information about internet sessions) consists of the following columns:\n",
    "* `id` — unique session id;\n",
    "* `mb_used` — amount of traffic spent per session (in megabytes);\n",
    "* `session_date` — internet session date;\n",
    "* `user_id` — customer's unique id.\n",
    "\n",
    "The **tariffs** table (information about tariff plans) consists of the following columns:\n",
    "* `tariff_name` — tariff plan name;\n",
    "* `rub_monthly_fee` — monthly subscription fee in rubles;\n",
    "* `minutes_included` — the number of minutes per month included in the subscription fee;\n",
    "* `messages_included` — the number of messages per month included in the subscription fee;\n",
    "* `mb_per_month_included` — internet traffic volume included in the subscription fee (in megabytes);\n",
    "* `rub_per_minute` — cost of one minute of talk over the plan (for example, if the plan is 100 minutes per month, 101 minutes will be charged);\n",
    "* `rub_per_message` — cost of a message over the tariff package;\n",
    "* `rub_per_gb` — cost of one additional gigabyte of Internet traffic over the plan (1 gigabyte = 1024 megabytes)."
   ]
  },
  {
   "cell_type": "markdown",
   "metadata": {},
   "source": [
    "## EDA"
   ]
  },
  {
   "cell_type": "code",
   "execution_count": 1,
   "metadata": {},
   "outputs": [],
   "source": [
    "# importing libraries\n",
    "import pandas as pd\n",
    "import numpy as np\n",
    "import matplotlib.pyplot as plt\n",
    "\n",
    "from scipy import stats as st"
   ]
  },
  {
   "cell_type": "code",
   "execution_count": 2,
   "metadata": {},
   "outputs": [],
   "source": [
    "# reading files\n",
    "users = pd.read_csv('https://code.s3.yandex.net/datasets/users.csv')\n",
    "users.name = 'users'\n",
    "calls = pd.read_csv('https://code.s3.yandex.net/datasets/calls.csv')\n",
    "calls.name = 'calls'\n",
    "messages = pd.read_csv('https://code.s3.yandex.net/datasets/messages.csv')\n",
    "messages.name = 'messages'\n",
    "internet = pd.read_csv('https://code.s3.yandex.net/datasets/internet.csv')\n",
    "internet.name = 'internet'\n",
    "tariffs = pd.read_csv('https://code.s3.yandex.net/datasets/tariffs.csv')\n",
    "tariffs.name = 'tariffs'"
   ]
  },
  {
   "cell_type": "code",
   "execution_count": 3,
   "metadata": {},
   "outputs": [
    {
     "name": "stdout",
     "output_type": "stream",
     "text": [
      "<class 'pandas.core.frame.DataFrame'>\n",
      "RangeIndex: 500 entries, 0 to 499\n",
      "Data columns (total 8 columns):\n",
      " #   Column      Non-Null Count  Dtype \n",
      "---  ------      --------------  ----- \n",
      " 0   user_id     500 non-null    int64 \n",
      " 1   age         500 non-null    int64 \n",
      " 2   churn_date  38 non-null     object\n",
      " 3   city        500 non-null    object\n",
      " 4   first_name  500 non-null    object\n",
      " 5   last_name   500 non-null    object\n",
      " 6   reg_date    500 non-null    object\n",
      " 7   tariff      500 non-null    object\n",
      "dtypes: int64(2), object(6)\n",
      "memory usage: 31.4+ KB\n",
      "None\n",
      "\n",
      "\n",
      "<class 'pandas.core.frame.DataFrame'>\n",
      "RangeIndex: 202607 entries, 0 to 202606\n",
      "Data columns (total 4 columns):\n",
      " #   Column     Non-Null Count   Dtype  \n",
      "---  ------     --------------   -----  \n",
      " 0   id         202607 non-null  object \n",
      " 1   call_date  202607 non-null  object \n",
      " 2   duration   202607 non-null  float64\n",
      " 3   user_id    202607 non-null  int64  \n",
      "dtypes: float64(1), int64(1), object(2)\n",
      "memory usage: 6.2+ MB\n",
      "None\n",
      "\n",
      "\n",
      "<class 'pandas.core.frame.DataFrame'>\n",
      "RangeIndex: 123036 entries, 0 to 123035\n",
      "Data columns (total 3 columns):\n",
      " #   Column        Non-Null Count   Dtype \n",
      "---  ------        --------------   ----- \n",
      " 0   id            123036 non-null  object\n",
      " 1   message_date  123036 non-null  object\n",
      " 2   user_id       123036 non-null  int64 \n",
      "dtypes: int64(1), object(2)\n",
      "memory usage: 2.8+ MB\n",
      "None\n",
      "\n",
      "\n",
      "<class 'pandas.core.frame.DataFrame'>\n",
      "RangeIndex: 149396 entries, 0 to 149395\n",
      "Data columns (total 5 columns):\n",
      " #   Column        Non-Null Count   Dtype  \n",
      "---  ------        --------------   -----  \n",
      " 0   Unnamed: 0    149396 non-null  int64  \n",
      " 1   id            149396 non-null  object \n",
      " 2   mb_used       149396 non-null  float64\n",
      " 3   session_date  149396 non-null  object \n",
      " 4   user_id       149396 non-null  int64  \n",
      "dtypes: float64(1), int64(2), object(2)\n",
      "memory usage: 5.7+ MB\n",
      "None\n",
      "\n",
      "\n",
      "<class 'pandas.core.frame.DataFrame'>\n",
      "RangeIndex: 2 entries, 0 to 1\n",
      "Data columns (total 8 columns):\n",
      " #   Column                 Non-Null Count  Dtype \n",
      "---  ------                 --------------  ----- \n",
      " 0   messages_included      2 non-null      int64 \n",
      " 1   mb_per_month_included  2 non-null      int64 \n",
      " 2   minutes_included       2 non-null      int64 \n",
      " 3   rub_monthly_fee        2 non-null      int64 \n",
      " 4   rub_per_gb             2 non-null      int64 \n",
      " 5   rub_per_message        2 non-null      int64 \n",
      " 6   rub_per_minute         2 non-null      int64 \n",
      " 7   tariff_name            2 non-null      object\n",
      "dtypes: int64(7), object(1)\n",
      "memory usage: 256.0+ bytes\n",
      "None\n",
      "\n",
      "\n"
     ]
    }
   ],
   "source": [
    "# getting tables information\n",
    "tables = [users, calls, messages, internet, tariffs]\n",
    "for table in tables:\n",
    "    print(table.info())\n",
    "    print('\\n')"
   ]
  },
  {
   "cell_type": "code",
   "execution_count": 4,
   "metadata": {},
   "outputs": [
    {
     "name": "stdout",
     "output_type": "stream",
     "text": [
      "churn_date    0.924\n",
      "user_id       0.000\n",
      "age           0.000\n",
      "city          0.000\n",
      "first_name    0.000\n",
      "last_name     0.000\n",
      "reg_date      0.000\n",
      "tariff        0.000\n",
      "dtype: float64\n",
      "\n",
      "\n",
      "id           0.0\n",
      "call_date    0.0\n",
      "duration     0.0\n",
      "user_id      0.0\n",
      "dtype: float64\n",
      "\n",
      "\n",
      "id              0.0\n",
      "message_date    0.0\n",
      "user_id         0.0\n",
      "dtype: float64\n",
      "\n",
      "\n",
      "Unnamed: 0      0.0\n",
      "id              0.0\n",
      "mb_used         0.0\n",
      "session_date    0.0\n",
      "user_id         0.0\n",
      "dtype: float64\n",
      "\n",
      "\n",
      "messages_included        0.0\n",
      "mb_per_month_included    0.0\n",
      "minutes_included         0.0\n",
      "rub_monthly_fee          0.0\n",
      "rub_per_gb               0.0\n",
      "rub_per_message          0.0\n",
      "rub_per_minute           0.0\n",
      "tariff_name              0.0\n",
      "dtype: float64\n",
      "\n",
      "\n"
     ]
    }
   ],
   "source": [
    "# calculating nans in the columns\n",
    "for table in tables:\n",
    "    print(table.isna().mean().sort_values(ascending=False))\n",
    "    print('\\n')"
   ]
  },
  {
   "cell_type": "markdown",
   "metadata": {},
   "source": [
    "Note that there are missing values in the `churn_date` column of the `users` table. These nans indicate that the customer was still on their plan at the time of the database extraction. The missing values should therefore be left unchanged.\n",
    "\n",
    "There are no missing values in the columns characterizing the amount of traffic used (`mb_used`), call duration (`duration`) and sent sms messages (`id`). However, not all users could perform these actions. Let's test this hypothesis by calculating the number of unique customer ids for each of the tables."
   ]
  },
  {
   "cell_type": "code",
   "execution_count": 5,
   "metadata": {},
   "outputs": [
    {
     "name": "stdout",
     "output_type": "stream",
     "text": [
      "Number of users in the table users: 500\n",
      "Number of users in the table calls: 492\n",
      "Number of users in the table messages: 426\n",
      "Number of users in the table internet: 497\n"
     ]
    }
   ],
   "source": [
    "# calculating unique users for each table (except the table with tariff plans)\n",
    "for table in tables[:4]:\n",
    "    print(f'Number of users in the table {table.name}: {len(table[\"user_id\"].unique())}')"
   ]
  },
  {
   "cell_type": "markdown",
   "metadata": {},
   "source": [
    "The hypothesis was confirmed. Not all users in the `users` table make phone calls, send messages, or use the Internet. This fact could potentially lead to missing values when merging tables into a single dataframe.\n",
    "\n",
    "Let's check our columns for explicit and implicit duplicates and errors."
   ]
  },
  {
   "cell_type": "code",
   "execution_count": 6,
   "metadata": {},
   "outputs": [
    {
     "data": {
      "text/html": [
       "<div>\n",
       "<style scoped>\n",
       "    .dataframe tbody tr th:only-of-type {\n",
       "        vertical-align: middle;\n",
       "    }\n",
       "\n",
       "    .dataframe tbody tr th {\n",
       "        vertical-align: top;\n",
       "    }\n",
       "\n",
       "    .dataframe thead th {\n",
       "        text-align: right;\n",
       "    }\n",
       "</style>\n",
       "<table border=\"1\" class=\"dataframe\">\n",
       "  <thead>\n",
       "    <tr style=\"text-align: right;\">\n",
       "      <th></th>\n",
       "      <th>user_id</th>\n",
       "      <th>age</th>\n",
       "      <th>churn_date</th>\n",
       "      <th>city</th>\n",
       "      <th>first_name</th>\n",
       "      <th>last_name</th>\n",
       "      <th>reg_date</th>\n",
       "      <th>tariff</th>\n",
       "    </tr>\n",
       "  </thead>\n",
       "  <tbody>\n",
       "    <tr>\n",
       "      <th>0</th>\n",
       "      <td>1000</td>\n",
       "      <td>52</td>\n",
       "      <td>NaN</td>\n",
       "      <td>Краснодар</td>\n",
       "      <td>Рафаил</td>\n",
       "      <td>Верещагин</td>\n",
       "      <td>2018-05-25</td>\n",
       "      <td>ultra</td>\n",
       "    </tr>\n",
       "    <tr>\n",
       "      <th>1</th>\n",
       "      <td>1001</td>\n",
       "      <td>41</td>\n",
       "      <td>NaN</td>\n",
       "      <td>Москва</td>\n",
       "      <td>Иван</td>\n",
       "      <td>Ежов</td>\n",
       "      <td>2018-11-01</td>\n",
       "      <td>smart</td>\n",
       "    </tr>\n",
       "    <tr>\n",
       "      <th>2</th>\n",
       "      <td>1002</td>\n",
       "      <td>59</td>\n",
       "      <td>NaN</td>\n",
       "      <td>Стерлитамак</td>\n",
       "      <td>Евгений</td>\n",
       "      <td>Абрамович</td>\n",
       "      <td>2018-06-17</td>\n",
       "      <td>smart</td>\n",
       "    </tr>\n",
       "    <tr>\n",
       "      <th>3</th>\n",
       "      <td>1003</td>\n",
       "      <td>23</td>\n",
       "      <td>NaN</td>\n",
       "      <td>Москва</td>\n",
       "      <td>Белла</td>\n",
       "      <td>Белякова</td>\n",
       "      <td>2018-08-17</td>\n",
       "      <td>ultra</td>\n",
       "    </tr>\n",
       "    <tr>\n",
       "      <th>4</th>\n",
       "      <td>1004</td>\n",
       "      <td>68</td>\n",
       "      <td>NaN</td>\n",
       "      <td>Новокузнецк</td>\n",
       "      <td>Татьяна</td>\n",
       "      <td>Авдеенко</td>\n",
       "      <td>2018-05-14</td>\n",
       "      <td>ultra</td>\n",
       "    </tr>\n",
       "    <tr>\n",
       "      <th>5</th>\n",
       "      <td>1005</td>\n",
       "      <td>67</td>\n",
       "      <td>NaN</td>\n",
       "      <td>Набережные Челны</td>\n",
       "      <td>Афанасий</td>\n",
       "      <td>Горлов</td>\n",
       "      <td>2018-01-25</td>\n",
       "      <td>smart</td>\n",
       "    </tr>\n",
       "    <tr>\n",
       "      <th>6</th>\n",
       "      <td>1006</td>\n",
       "      <td>21</td>\n",
       "      <td>NaN</td>\n",
       "      <td>Ульяновск</td>\n",
       "      <td>Леонид</td>\n",
       "      <td>Ермолаев</td>\n",
       "      <td>2018-02-26</td>\n",
       "      <td>smart</td>\n",
       "    </tr>\n",
       "    <tr>\n",
       "      <th>7</th>\n",
       "      <td>1007</td>\n",
       "      <td>65</td>\n",
       "      <td>NaN</td>\n",
       "      <td>Москва</td>\n",
       "      <td>Юна</td>\n",
       "      <td>Березина</td>\n",
       "      <td>2018-04-19</td>\n",
       "      <td>smart</td>\n",
       "    </tr>\n",
       "    <tr>\n",
       "      <th>8</th>\n",
       "      <td>1008</td>\n",
       "      <td>63</td>\n",
       "      <td>NaN</td>\n",
       "      <td>Челябинск</td>\n",
       "      <td>Рустэм</td>\n",
       "      <td>Пономарёв</td>\n",
       "      <td>2018-12-19</td>\n",
       "      <td>smart</td>\n",
       "    </tr>\n",
       "    <tr>\n",
       "      <th>9</th>\n",
       "      <td>1009</td>\n",
       "      <td>24</td>\n",
       "      <td>NaN</td>\n",
       "      <td>Пермь</td>\n",
       "      <td>Василиса</td>\n",
       "      <td>Блинова</td>\n",
       "      <td>2018-03-22</td>\n",
       "      <td>smart</td>\n",
       "    </tr>\n",
       "  </tbody>\n",
       "</table>\n",
       "</div>"
      ],
      "text/plain": [
       "   user_id  age churn_date              city first_name  last_name  \\\n",
       "0     1000   52        NaN         Краснодар     Рафаил  Верещагин   \n",
       "1     1001   41        NaN            Москва       Иван       Ежов   \n",
       "2     1002   59        NaN       Стерлитамак    Евгений  Абрамович   \n",
       "3     1003   23        NaN            Москва      Белла   Белякова   \n",
       "4     1004   68        NaN       Новокузнецк    Татьяна   Авдеенко   \n",
       "5     1005   67        NaN  Набережные Челны   Афанасий     Горлов   \n",
       "6     1006   21        NaN         Ульяновск     Леонид   Ермолаев   \n",
       "7     1007   65        NaN            Москва        Юна   Березина   \n",
       "8     1008   63        NaN         Челябинск     Рустэм  Пономарёв   \n",
       "9     1009   24        NaN             Пермь   Василиса    Блинова   \n",
       "\n",
       "     reg_date tariff  \n",
       "0  2018-05-25  ultra  \n",
       "1  2018-11-01  smart  \n",
       "2  2018-06-17  smart  \n",
       "3  2018-08-17  ultra  \n",
       "4  2018-05-14  ultra  \n",
       "5  2018-01-25  smart  \n",
       "6  2018-02-26  smart  \n",
       "7  2018-04-19  smart  \n",
       "8  2018-12-19  smart  \n",
       "9  2018-03-22  smart  "
      ]
     },
     "metadata": {},
     "output_type": "display_data"
    },
    {
     "data": {
      "text/html": [
       "<div>\n",
       "<style scoped>\n",
       "    .dataframe tbody tr th:only-of-type {\n",
       "        vertical-align: middle;\n",
       "    }\n",
       "\n",
       "    .dataframe tbody tr th {\n",
       "        vertical-align: top;\n",
       "    }\n",
       "\n",
       "    .dataframe thead th {\n",
       "        text-align: right;\n",
       "    }\n",
       "</style>\n",
       "<table border=\"1\" class=\"dataframe\">\n",
       "  <thead>\n",
       "    <tr style=\"text-align: right;\">\n",
       "      <th></th>\n",
       "      <th>id</th>\n",
       "      <th>call_date</th>\n",
       "      <th>duration</th>\n",
       "      <th>user_id</th>\n",
       "    </tr>\n",
       "  </thead>\n",
       "  <tbody>\n",
       "    <tr>\n",
       "      <th>0</th>\n",
       "      <td>1000_0</td>\n",
       "      <td>2018-07-25</td>\n",
       "      <td>0.00</td>\n",
       "      <td>1000</td>\n",
       "    </tr>\n",
       "    <tr>\n",
       "      <th>1</th>\n",
       "      <td>1000_1</td>\n",
       "      <td>2018-08-17</td>\n",
       "      <td>0.00</td>\n",
       "      <td>1000</td>\n",
       "    </tr>\n",
       "    <tr>\n",
       "      <th>2</th>\n",
       "      <td>1000_2</td>\n",
       "      <td>2018-06-11</td>\n",
       "      <td>2.85</td>\n",
       "      <td>1000</td>\n",
       "    </tr>\n",
       "    <tr>\n",
       "      <th>3</th>\n",
       "      <td>1000_3</td>\n",
       "      <td>2018-09-21</td>\n",
       "      <td>13.80</td>\n",
       "      <td>1000</td>\n",
       "    </tr>\n",
       "    <tr>\n",
       "      <th>4</th>\n",
       "      <td>1000_4</td>\n",
       "      <td>2018-12-15</td>\n",
       "      <td>5.18</td>\n",
       "      <td>1000</td>\n",
       "    </tr>\n",
       "    <tr>\n",
       "      <th>5</th>\n",
       "      <td>1000_5</td>\n",
       "      <td>2018-11-02</td>\n",
       "      <td>0.00</td>\n",
       "      <td>1000</td>\n",
       "    </tr>\n",
       "    <tr>\n",
       "      <th>6</th>\n",
       "      <td>1000_6</td>\n",
       "      <td>2018-10-18</td>\n",
       "      <td>0.00</td>\n",
       "      <td>1000</td>\n",
       "    </tr>\n",
       "    <tr>\n",
       "      <th>7</th>\n",
       "      <td>1000_7</td>\n",
       "      <td>2018-08-22</td>\n",
       "      <td>18.31</td>\n",
       "      <td>1000</td>\n",
       "    </tr>\n",
       "    <tr>\n",
       "      <th>8</th>\n",
       "      <td>1000_8</td>\n",
       "      <td>2018-09-15</td>\n",
       "      <td>18.44</td>\n",
       "      <td>1000</td>\n",
       "    </tr>\n",
       "    <tr>\n",
       "      <th>9</th>\n",
       "      <td>1000_9</td>\n",
       "      <td>2018-08-15</td>\n",
       "      <td>0.00</td>\n",
       "      <td>1000</td>\n",
       "    </tr>\n",
       "  </tbody>\n",
       "</table>\n",
       "</div>"
      ],
      "text/plain": [
       "       id   call_date  duration  user_id\n",
       "0  1000_0  2018-07-25      0.00     1000\n",
       "1  1000_1  2018-08-17      0.00     1000\n",
       "2  1000_2  2018-06-11      2.85     1000\n",
       "3  1000_3  2018-09-21     13.80     1000\n",
       "4  1000_4  2018-12-15      5.18     1000\n",
       "5  1000_5  2018-11-02      0.00     1000\n",
       "6  1000_6  2018-10-18      0.00     1000\n",
       "7  1000_7  2018-08-22     18.31     1000\n",
       "8  1000_8  2018-09-15     18.44     1000\n",
       "9  1000_9  2018-08-15      0.00     1000"
      ]
     },
     "metadata": {},
     "output_type": "display_data"
    },
    {
     "data": {
      "text/html": [
       "<div>\n",
       "<style scoped>\n",
       "    .dataframe tbody tr th:only-of-type {\n",
       "        vertical-align: middle;\n",
       "    }\n",
       "\n",
       "    .dataframe tbody tr th {\n",
       "        vertical-align: top;\n",
       "    }\n",
       "\n",
       "    .dataframe thead th {\n",
       "        text-align: right;\n",
       "    }\n",
       "</style>\n",
       "<table border=\"1\" class=\"dataframe\">\n",
       "  <thead>\n",
       "    <tr style=\"text-align: right;\">\n",
       "      <th></th>\n",
       "      <th>id</th>\n",
       "      <th>message_date</th>\n",
       "      <th>user_id</th>\n",
       "    </tr>\n",
       "  </thead>\n",
       "  <tbody>\n",
       "    <tr>\n",
       "      <th>0</th>\n",
       "      <td>1000_0</td>\n",
       "      <td>2018-06-27</td>\n",
       "      <td>1000</td>\n",
       "    </tr>\n",
       "    <tr>\n",
       "      <th>1</th>\n",
       "      <td>1000_1</td>\n",
       "      <td>2018-10-08</td>\n",
       "      <td>1000</td>\n",
       "    </tr>\n",
       "    <tr>\n",
       "      <th>2</th>\n",
       "      <td>1000_2</td>\n",
       "      <td>2018-08-04</td>\n",
       "      <td>1000</td>\n",
       "    </tr>\n",
       "    <tr>\n",
       "      <th>3</th>\n",
       "      <td>1000_3</td>\n",
       "      <td>2018-06-16</td>\n",
       "      <td>1000</td>\n",
       "    </tr>\n",
       "    <tr>\n",
       "      <th>4</th>\n",
       "      <td>1000_4</td>\n",
       "      <td>2018-12-05</td>\n",
       "      <td>1000</td>\n",
       "    </tr>\n",
       "    <tr>\n",
       "      <th>5</th>\n",
       "      <td>1000_5</td>\n",
       "      <td>2018-06-20</td>\n",
       "      <td>1000</td>\n",
       "    </tr>\n",
       "    <tr>\n",
       "      <th>6</th>\n",
       "      <td>1000_6</td>\n",
       "      <td>2018-11-19</td>\n",
       "      <td>1000</td>\n",
       "    </tr>\n",
       "    <tr>\n",
       "      <th>7</th>\n",
       "      <td>1000_7</td>\n",
       "      <td>2018-10-29</td>\n",
       "      <td>1000</td>\n",
       "    </tr>\n",
       "    <tr>\n",
       "      <th>8</th>\n",
       "      <td>1000_8</td>\n",
       "      <td>2018-06-25</td>\n",
       "      <td>1000</td>\n",
       "    </tr>\n",
       "    <tr>\n",
       "      <th>9</th>\n",
       "      <td>1000_9</td>\n",
       "      <td>2018-12-18</td>\n",
       "      <td>1000</td>\n",
       "    </tr>\n",
       "  </tbody>\n",
       "</table>\n",
       "</div>"
      ],
      "text/plain": [
       "       id message_date  user_id\n",
       "0  1000_0   2018-06-27     1000\n",
       "1  1000_1   2018-10-08     1000\n",
       "2  1000_2   2018-08-04     1000\n",
       "3  1000_3   2018-06-16     1000\n",
       "4  1000_4   2018-12-05     1000\n",
       "5  1000_5   2018-06-20     1000\n",
       "6  1000_6   2018-11-19     1000\n",
       "7  1000_7   2018-10-29     1000\n",
       "8  1000_8   2018-06-25     1000\n",
       "9  1000_9   2018-12-18     1000"
      ]
     },
     "metadata": {},
     "output_type": "display_data"
    },
    {
     "data": {
      "text/html": [
       "<div>\n",
       "<style scoped>\n",
       "    .dataframe tbody tr th:only-of-type {\n",
       "        vertical-align: middle;\n",
       "    }\n",
       "\n",
       "    .dataframe tbody tr th {\n",
       "        vertical-align: top;\n",
       "    }\n",
       "\n",
       "    .dataframe thead th {\n",
       "        text-align: right;\n",
       "    }\n",
       "</style>\n",
       "<table border=\"1\" class=\"dataframe\">\n",
       "  <thead>\n",
       "    <tr style=\"text-align: right;\">\n",
       "      <th></th>\n",
       "      <th>Unnamed: 0</th>\n",
       "      <th>id</th>\n",
       "      <th>mb_used</th>\n",
       "      <th>session_date</th>\n",
       "      <th>user_id</th>\n",
       "    </tr>\n",
       "  </thead>\n",
       "  <tbody>\n",
       "    <tr>\n",
       "      <th>0</th>\n",
       "      <td>0</td>\n",
       "      <td>1000_0</td>\n",
       "      <td>112.95</td>\n",
       "      <td>2018-11-25</td>\n",
       "      <td>1000</td>\n",
       "    </tr>\n",
       "    <tr>\n",
       "      <th>1</th>\n",
       "      <td>1</td>\n",
       "      <td>1000_1</td>\n",
       "      <td>1052.81</td>\n",
       "      <td>2018-09-07</td>\n",
       "      <td>1000</td>\n",
       "    </tr>\n",
       "    <tr>\n",
       "      <th>2</th>\n",
       "      <td>2</td>\n",
       "      <td>1000_2</td>\n",
       "      <td>1197.26</td>\n",
       "      <td>2018-06-25</td>\n",
       "      <td>1000</td>\n",
       "    </tr>\n",
       "    <tr>\n",
       "      <th>3</th>\n",
       "      <td>3</td>\n",
       "      <td>1000_3</td>\n",
       "      <td>550.27</td>\n",
       "      <td>2018-08-22</td>\n",
       "      <td>1000</td>\n",
       "    </tr>\n",
       "    <tr>\n",
       "      <th>4</th>\n",
       "      <td>4</td>\n",
       "      <td>1000_4</td>\n",
       "      <td>302.56</td>\n",
       "      <td>2018-09-24</td>\n",
       "      <td>1000</td>\n",
       "    </tr>\n",
       "    <tr>\n",
       "      <th>5</th>\n",
       "      <td>5</td>\n",
       "      <td>1000_5</td>\n",
       "      <td>399.97</td>\n",
       "      <td>2018-10-02</td>\n",
       "      <td>1000</td>\n",
       "    </tr>\n",
       "    <tr>\n",
       "      <th>6</th>\n",
       "      <td>6</td>\n",
       "      <td>1000_6</td>\n",
       "      <td>540.08</td>\n",
       "      <td>2018-09-07</td>\n",
       "      <td>1000</td>\n",
       "    </tr>\n",
       "    <tr>\n",
       "      <th>7</th>\n",
       "      <td>7</td>\n",
       "      <td>1000_7</td>\n",
       "      <td>415.70</td>\n",
       "      <td>2018-07-11</td>\n",
       "      <td>1000</td>\n",
       "    </tr>\n",
       "    <tr>\n",
       "      <th>8</th>\n",
       "      <td>8</td>\n",
       "      <td>1000_8</td>\n",
       "      <td>505.40</td>\n",
       "      <td>2018-10-08</td>\n",
       "      <td>1000</td>\n",
       "    </tr>\n",
       "    <tr>\n",
       "      <th>9</th>\n",
       "      <td>9</td>\n",
       "      <td>1000_9</td>\n",
       "      <td>345.54</td>\n",
       "      <td>2018-09-03</td>\n",
       "      <td>1000</td>\n",
       "    </tr>\n",
       "  </tbody>\n",
       "</table>\n",
       "</div>"
      ],
      "text/plain": [
       "   Unnamed: 0      id  mb_used session_date  user_id\n",
       "0           0  1000_0   112.95   2018-11-25     1000\n",
       "1           1  1000_1  1052.81   2018-09-07     1000\n",
       "2           2  1000_2  1197.26   2018-06-25     1000\n",
       "3           3  1000_3   550.27   2018-08-22     1000\n",
       "4           4  1000_4   302.56   2018-09-24     1000\n",
       "5           5  1000_5   399.97   2018-10-02     1000\n",
       "6           6  1000_6   540.08   2018-09-07     1000\n",
       "7           7  1000_7   415.70   2018-07-11     1000\n",
       "8           8  1000_8   505.40   2018-10-08     1000\n",
       "9           9  1000_9   345.54   2018-09-03     1000"
      ]
     },
     "metadata": {},
     "output_type": "display_data"
    },
    {
     "data": {
      "text/html": [
       "<div>\n",
       "<style scoped>\n",
       "    .dataframe tbody tr th:only-of-type {\n",
       "        vertical-align: middle;\n",
       "    }\n",
       "\n",
       "    .dataframe tbody tr th {\n",
       "        vertical-align: top;\n",
       "    }\n",
       "\n",
       "    .dataframe thead th {\n",
       "        text-align: right;\n",
       "    }\n",
       "</style>\n",
       "<table border=\"1\" class=\"dataframe\">\n",
       "  <thead>\n",
       "    <tr style=\"text-align: right;\">\n",
       "      <th></th>\n",
       "      <th>messages_included</th>\n",
       "      <th>mb_per_month_included</th>\n",
       "      <th>minutes_included</th>\n",
       "      <th>rub_monthly_fee</th>\n",
       "      <th>rub_per_gb</th>\n",
       "      <th>rub_per_message</th>\n",
       "      <th>rub_per_minute</th>\n",
       "      <th>tariff_name</th>\n",
       "    </tr>\n",
       "  </thead>\n",
       "  <tbody>\n",
       "    <tr>\n",
       "      <th>0</th>\n",
       "      <td>50</td>\n",
       "      <td>15360</td>\n",
       "      <td>500</td>\n",
       "      <td>550</td>\n",
       "      <td>200</td>\n",
       "      <td>3</td>\n",
       "      <td>3</td>\n",
       "      <td>smart</td>\n",
       "    </tr>\n",
       "    <tr>\n",
       "      <th>1</th>\n",
       "      <td>1000</td>\n",
       "      <td>30720</td>\n",
       "      <td>3000</td>\n",
       "      <td>1950</td>\n",
       "      <td>150</td>\n",
       "      <td>1</td>\n",
       "      <td>1</td>\n",
       "      <td>ultra</td>\n",
       "    </tr>\n",
       "  </tbody>\n",
       "</table>\n",
       "</div>"
      ],
      "text/plain": [
       "   messages_included  mb_per_month_included  minutes_included  \\\n",
       "0                 50                  15360               500   \n",
       "1               1000                  30720              3000   \n",
       "\n",
       "   rub_monthly_fee  rub_per_gb  rub_per_message  rub_per_minute tariff_name  \n",
       "0              550         200                3               3       smart  \n",
       "1             1950         150                1               1       ultra  "
      ]
     },
     "metadata": {},
     "output_type": "display_data"
    }
   ],
   "source": [
    "# checking tables content\n",
    "for table in tables:\n",
    "    display(table.head(10))"
   ]
  },
  {
   "cell_type": "code",
   "execution_count": 7,
   "metadata": {},
   "outputs": [
    {
     "name": "stdout",
     "output_type": "stream",
     "text": [
      "Number of duplicates in the table users: 0\n",
      "Number of duplicates in the table calls: 0\n",
      "Number of duplicates in the table messages: 0\n",
      "Number of duplicates in the table internet: 0\n",
      "Number of duplicates in the table tariffs: 0\n"
     ]
    }
   ],
   "source": [
    "# checking for explicit duplicates\n",
    "for table in tables:\n",
    "    print(f'Number of duplicates in the table {table.name}: {table.duplicated().sum()}')"
   ]
  },
  {
   "cell_type": "code",
   "execution_count": 8,
   "metadata": {},
   "outputs": [
    {
     "name": "stdout",
     "output_type": "stream",
     "text": [
      "\n",
      "Table name users\n",
      "\n",
      "Column name user_id\n",
      "1024    1\n",
      "1353    1\n",
      "1366    1\n",
      "1365    1\n",
      "1364    1\n",
      "       ..\n",
      "1185    1\n",
      "1184    1\n",
      "1183    1\n",
      "1182    1\n",
      "1023    1\n",
      "Name: user_id, Length: 500, dtype: int64\n",
      "\n",
      "Table name users\n",
      "\n",
      "Column name age\n",
      "53    14\n",
      "42    14\n",
      "63    13\n",
      "64    13\n",
      "71    13\n",
      "21    12\n",
      "40    12\n",
      "73    12\n",
      "29    11\n",
      "39    11\n",
      "37    11\n",
      "47    11\n",
      "26    11\n",
      "41    10\n",
      "45    10\n",
      "58    10\n",
      "36    10\n",
      "70    10\n",
      "52    10\n",
      "65     9\n",
      "66     9\n",
      "56     9\n",
      "68     9\n",
      "20     9\n",
      "51     9\n",
      "50     9\n",
      "48     9\n",
      "30     9\n",
      "19     9\n",
      "24     9\n",
      "28     9\n",
      "27     9\n",
      "23     9\n",
      "62     8\n",
      "60     8\n",
      "55     8\n",
      "69     8\n",
      "44     8\n",
      "25     7\n",
      "31     7\n",
      "35     7\n",
      "67     7\n",
      "74     7\n",
      "43     7\n",
      "32     7\n",
      "46     7\n",
      "18     6\n",
      "59     6\n",
      "54     6\n",
      "75     6\n",
      "38     5\n",
      "34     5\n",
      "72     5\n",
      "33     5\n",
      "22     5\n",
      "57     4\n",
      "49     4\n",
      "61     3\n",
      "Name: age, dtype: int64\n",
      "\n",
      "Table name users\n",
      "\n",
      "Column name churn_date\n",
      "2018-12-21    2\n",
      "2018-12-09    2\n",
      "2018-10-03    2\n",
      "2018-10-14    2\n",
      "2018-12-03    2\n",
      "2018-11-26    1\n",
      "2018-12-16    1\n",
      "2018-10-25    1\n",
      "2018-11-13    1\n",
      "2018-10-05    1\n",
      "2018-12-23    1\n",
      "2018-08-31    1\n",
      "2018-12-24    1\n",
      "2018-12-18    1\n",
      "2018-09-27    1\n",
      "2018-11-27    1\n",
      "2018-09-26    1\n",
      "2018-11-21    1\n",
      "2018-11-07    1\n",
      "2018-11-22    1\n",
      "2018-12-14    1\n",
      "2018-09-02    1\n",
      "2018-12-20    1\n",
      "2018-11-16    1\n",
      "2018-12-30    1\n",
      "2018-08-17    1\n",
      "2018-10-04    1\n",
      "2018-10-27    1\n",
      "2018-12-26    1\n",
      "2018-12-25    1\n",
      "2018-11-30    1\n",
      "2018-10-28    1\n",
      "2018-12-11    1\n",
      "Name: churn_date, dtype: int64\n",
      "\n",
      "Table name users\n",
      "\n",
      "Column name city\n",
      "Москва             99\n",
      "Санкт-Петербург    39\n",
      "Новосибирск        16\n",
      "Омск               14\n",
      "Казань             14\n",
      "                   ..\n",
      "Нижневартовск       1\n",
      "Архангельск         1\n",
      "Химки               1\n",
      "Иваново             1\n",
      "Подольск            1\n",
      "Name: city, Length: 76, dtype: int64\n",
      "\n",
      "Table name users\n",
      "\n",
      "Column name first_name\n",
      "Радим        6\n",
      "Леонид       5\n",
      "Пётр         5\n",
      "Габриель     4\n",
      "Рубен        4\n",
      "            ..\n",
      "Георгина     1\n",
      "Станислав    1\n",
      "Нателла      1\n",
      "Виталий      1\n",
      "Руслана      1\n",
      "Name: first_name, Length: 246, dtype: int64\n",
      "\n",
      "Table name users\n",
      "\n",
      "Column name last_name\n",
      "Андреенко     5\n",
      "Абашкина      3\n",
      "Анищенко      3\n",
      "Озерова       3\n",
      "Аничкина      3\n",
      "             ..\n",
      "Аксёнов       1\n",
      "Шарова        1\n",
      "Лосева        1\n",
      "Пантелеева    1\n",
      "Ларионова     1\n",
      "Name: last_name, Length: 419, dtype: int64\n",
      "\n",
      "Table name users\n",
      "\n",
      "Column name reg_date\n",
      "2018-05-28    8\n",
      "2018-07-16    5\n",
      "2018-01-04    5\n",
      "2018-10-05    5\n",
      "2018-11-16    5\n",
      "             ..\n",
      "2018-06-03    1\n",
      "2018-07-01    1\n",
      "2018-11-06    1\n",
      "2018-12-18    1\n",
      "2018-05-22    1\n",
      "Name: reg_date, Length: 270, dtype: int64\n",
      "\n",
      "Table name users\n",
      "\n",
      "Column name tariff\n",
      "smart    351\n",
      "ultra    149\n",
      "Name: tariff, dtype: int64\n",
      "\n",
      "Table name calls\n",
      "\n",
      "Column name id\n",
      "1335_138    1\n",
      "1416_326    1\n",
      "1089_126    1\n",
      "1277_52     1\n",
      "1021_285    1\n",
      "           ..\n",
      "1113_745    1\n",
      "1378_230    1\n",
      "1468_59     1\n",
      "1111_108    1\n",
      "1433_245    1\n",
      "Name: id, Length: 202607, dtype: int64\n",
      "\n",
      "Table name calls\n",
      "\n",
      "Column name call_date\n",
      "2018-12-31    1435\n",
      "2018-12-29    1202\n",
      "2018-12-30    1192\n",
      "2018-12-22    1158\n",
      "2018-12-26    1149\n",
      "              ... \n",
      "2018-01-05      20\n",
      "2018-01-07      18\n",
      "2018-01-02       9\n",
      "2018-01-03       7\n",
      "2018-01-01       5\n",
      "Name: call_date, Length: 365, dtype: int64\n",
      "\n",
      "Table name calls\n",
      "\n",
      "Column name duration\n",
      "0.00     39613\n",
      "5.50       142\n",
      "4.49       142\n",
      "6.15       141\n",
      "6.38       141\n",
      "         ...  \n",
      "26.32        1\n",
      "24.51        1\n",
      "27.24        1\n",
      "29.89        1\n",
      "27.43        1\n",
      "Name: duration, Length: 2871, dtype: int64\n",
      "\n",
      "Table name calls\n",
      "\n",
      "Column name user_id\n",
      "1377    1760\n",
      "1168    1692\n",
      "1375    1560\n",
      "1453    1440\n",
      "1196    1240\n",
      "        ... \n",
      "1397      33\n",
      "1442      28\n",
      "1373      24\n",
      "1016      20\n",
      "1257      14\n",
      "Name: user_id, Length: 492, dtype: int64\n",
      "\n",
      "Table name messages\n",
      "\n",
      "Column name id\n",
      "1335_138    1\n",
      "1003_14     1\n",
      "1324_144    1\n",
      "1407_111    1\n",
      "1274_98     1\n",
      "           ..\n",
      "1039_316    1\n",
      "1324_152    1\n",
      "1196_437    1\n",
      "1251_588    1\n",
      "1433_245    1\n",
      "Name: id, Length: 123036, dtype: int64\n",
      "\n",
      "Table name messages\n",
      "\n",
      "Column name message_date\n",
      "2018-12-31    859\n",
      "2018-12-30    765\n",
      "2018-12-21    712\n",
      "2018-12-29    702\n",
      "2018-12-26    699\n",
      "             ... \n",
      "2018-01-11     12\n",
      "2018-01-05     10\n",
      "2018-01-04     10\n",
      "2018-01-02     10\n",
      "2018-01-03      4\n",
      "Name: message_date, Length: 364, dtype: int64\n",
      "\n",
      "Table name messages\n",
      "\n",
      "Column name user_id\n",
      "1277    1463\n",
      "1089    1408\n",
      "1231    1384\n",
      "1385    1380\n",
      "1356    1224\n",
      "        ... \n",
      "1111       6\n",
      "1279       5\n",
      "1074       3\n",
      "1159       2\n",
      "1141       1\n",
      "Name: user_id, Length: 426, dtype: int64\n",
      "\n",
      "Table name internet\n",
      "\n",
      "Column name Unnamed: 0\n",
      "0        1\n",
      "88702    1\n",
      "58057    1\n",
      "64202    1\n",
      "62155    1\n",
      "        ..\n",
      "58678    1\n",
      "60727    1\n",
      "38200    1\n",
      "40249    1\n",
      "2047     1\n",
      "Name: Unnamed: 0, Length: 149396, dtype: int64\n",
      "\n",
      "Table name internet\n",
      "\n",
      "Column name id\n",
      "1335_138    1\n",
      "1221_29     1\n",
      "1282_371    1\n",
      "1432_246    1\n",
      "1344_125    1\n",
      "           ..\n",
      "1069_7      1\n",
      "1340_61     1\n",
      "1415_80     1\n",
      "1184_19     1\n",
      "1321_54     1\n",
      "Name: id, Length: 149396, dtype: int64\n",
      "\n",
      "Table name internet\n",
      "\n",
      "Column name mb_used\n",
      "0.00      19598\n",
      "335.91        9\n",
      "447.30        9\n",
      "197.56        9\n",
      "199.11        8\n",
      "          ...  \n",
      "182.69        1\n",
      "726.03        1\n",
      "315.12        1\n",
      "898.99        1\n",
      "677.66        1\n",
      "Name: mb_used, Length: 70003, dtype: int64\n",
      "\n",
      "Table name internet\n",
      "\n",
      "Column name session_date\n",
      "2018-12-31    1057\n",
      "2018-12-30     903\n",
      "2018-12-25     859\n",
      "2018-12-26     844\n",
      "2018-12-22     834\n",
      "              ... \n",
      "2018-01-05      14\n",
      "2018-01-04       9\n",
      "2018-01-03       6\n",
      "2018-01-01       3\n",
      "2018-01-02       3\n",
      "Name: session_date, Length: 365, dtype: int64\n",
      "\n",
      "Table name internet\n",
      "\n",
      "Column name user_id\n",
      "1496    834\n",
      "1227    812\n",
      "1204    789\n",
      "1240    764\n",
      "1251    759\n",
      "       ... \n",
      "1151     35\n",
      "1467     27\n",
      "1343     26\n",
      "1192     22\n",
      "1399      8\n",
      "Name: user_id, Length: 497, dtype: int64\n",
      "\n",
      "Table name tariffs\n",
      "\n",
      "Column name messages_included\n",
      "1000    1\n",
      "50      1\n",
      "Name: messages_included, dtype: int64\n",
      "\n",
      "Table name tariffs\n",
      "\n",
      "Column name mb_per_month_included\n",
      "15360    1\n",
      "30720    1\n",
      "Name: mb_per_month_included, dtype: int64\n",
      "\n",
      "Table name tariffs\n",
      "\n",
      "Column name minutes_included\n",
      "500     1\n",
      "3000    1\n",
      "Name: minutes_included, dtype: int64\n",
      "\n",
      "Table name tariffs\n",
      "\n",
      "Column name rub_monthly_fee\n",
      "1950    1\n",
      "550     1\n",
      "Name: rub_monthly_fee, dtype: int64\n",
      "\n",
      "Table name tariffs\n",
      "\n",
      "Column name rub_per_gb\n",
      "200    1\n",
      "150    1\n",
      "Name: rub_per_gb, dtype: int64\n",
      "\n",
      "Table name tariffs\n",
      "\n",
      "Column name rub_per_message\n",
      "1    1\n",
      "3    1\n",
      "Name: rub_per_message, dtype: int64\n",
      "\n",
      "Table name tariffs\n",
      "\n",
      "Column name rub_per_minute\n",
      "1    1\n",
      "3    1\n",
      "Name: rub_per_minute, dtype: int64\n",
      "\n",
      "Table name tariffs\n",
      "\n",
      "Column name tariff_name\n",
      "smart    1\n",
      "ultra    1\n",
      "Name: tariff_name, dtype: int64\n"
     ]
    }
   ],
   "source": [
    "# checking for implicit duplicates\n",
    "for table in tables:\n",
    "    for column in table.columns:\n",
    "        print(\"\\n\" + 'Table name ' + table.name)\n",
    "        print(\"\\n\" + 'Column name ' + column)\n",
    "        print(table[column].value_counts())"
   ]
  },
  {
   "cell_type": "markdown",
   "metadata": {},
   "source": [
    "There are columns with zero values in the `calls` and `internet` tables - a column with the duration of the call (`duration`) and a column with the amount of traffic during the internet session (`mb_used`). We can assume that\n",
    "\n",
    "* zero call duration may indicate that a call was not answered;\n",
    "* zero traffic volume of the Internet session may indicate that during the connection service packets were exchanged between the tower and the phone and the non-tariffing traffic threshold was not exceeded. Usually such connections are typical for 4G networks. Let's check this hypothesis and look at the table of Internet sessions with zero traffic."
   ]
  },
  {
   "cell_type": "code",
   "execution_count": 9,
   "metadata": {},
   "outputs": [
    {
     "data": {
      "text/html": [
       "<div>\n",
       "<style scoped>\n",
       "    .dataframe tbody tr th:only-of-type {\n",
       "        vertical-align: middle;\n",
       "    }\n",
       "\n",
       "    .dataframe tbody tr th {\n",
       "        vertical-align: top;\n",
       "    }\n",
       "\n",
       "    .dataframe thead th {\n",
       "        text-align: right;\n",
       "    }\n",
       "</style>\n",
       "<table border=\"1\" class=\"dataframe\">\n",
       "  <thead>\n",
       "    <tr style=\"text-align: right;\">\n",
       "      <th></th>\n",
       "      <th>Unnamed: 0</th>\n",
       "      <th>id</th>\n",
       "      <th>mb_used</th>\n",
       "      <th>session_date</th>\n",
       "      <th>user_id</th>\n",
       "    </tr>\n",
       "  </thead>\n",
       "  <tbody>\n",
       "    <tr>\n",
       "      <th>11</th>\n",
       "      <td>11</td>\n",
       "      <td>1000_11</td>\n",
       "      <td>0.0</td>\n",
       "      <td>2018-08-28</td>\n",
       "      <td>1000</td>\n",
       "    </tr>\n",
       "    <tr>\n",
       "      <th>38</th>\n",
       "      <td>38</td>\n",
       "      <td>1000_38</td>\n",
       "      <td>0.0</td>\n",
       "      <td>2018-11-27</td>\n",
       "      <td>1000</td>\n",
       "    </tr>\n",
       "    <tr>\n",
       "      <th>46</th>\n",
       "      <td>46</td>\n",
       "      <td>1000_46</td>\n",
       "      <td>0.0</td>\n",
       "      <td>2018-06-30</td>\n",
       "      <td>1000</td>\n",
       "    </tr>\n",
       "    <tr>\n",
       "      <th>67</th>\n",
       "      <td>67</td>\n",
       "      <td>1000_67</td>\n",
       "      <td>0.0</td>\n",
       "      <td>2018-06-16</td>\n",
       "      <td>1000</td>\n",
       "    </tr>\n",
       "    <tr>\n",
       "      <th>72</th>\n",
       "      <td>72</td>\n",
       "      <td>1000_72</td>\n",
       "      <td>0.0</td>\n",
       "      <td>2018-06-15</td>\n",
       "      <td>1000</td>\n",
       "    </tr>\n",
       "    <tr>\n",
       "      <th>...</th>\n",
       "      <td>...</td>\n",
       "      <td>...</td>\n",
       "      <td>...</td>\n",
       "      <td>...</td>\n",
       "      <td>...</td>\n",
       "    </tr>\n",
       "    <tr>\n",
       "      <th>149380</th>\n",
       "      <td>149380</td>\n",
       "      <td>1499_141</td>\n",
       "      <td>0.0</td>\n",
       "      <td>2018-12-11</td>\n",
       "      <td>1499</td>\n",
       "    </tr>\n",
       "    <tr>\n",
       "      <th>149381</th>\n",
       "      <td>149381</td>\n",
       "      <td>1499_142</td>\n",
       "      <td>0.0</td>\n",
       "      <td>2018-11-01</td>\n",
       "      <td>1499</td>\n",
       "    </tr>\n",
       "    <tr>\n",
       "      <th>149383</th>\n",
       "      <td>149383</td>\n",
       "      <td>1499_144</td>\n",
       "      <td>0.0</td>\n",
       "      <td>2018-11-27</td>\n",
       "      <td>1499</td>\n",
       "    </tr>\n",
       "    <tr>\n",
       "      <th>149386</th>\n",
       "      <td>149386</td>\n",
       "      <td>1499_147</td>\n",
       "      <td>0.0</td>\n",
       "      <td>2018-10-21</td>\n",
       "      <td>1499</td>\n",
       "    </tr>\n",
       "    <tr>\n",
       "      <th>149393</th>\n",
       "      <td>149393</td>\n",
       "      <td>1499_154</td>\n",
       "      <td>0.0</td>\n",
       "      <td>2018-10-27</td>\n",
       "      <td>1499</td>\n",
       "    </tr>\n",
       "  </tbody>\n",
       "</table>\n",
       "<p>19598 rows × 5 columns</p>\n",
       "</div>"
      ],
      "text/plain": [
       "        Unnamed: 0        id  mb_used session_date  user_id\n",
       "11              11   1000_11      0.0   2018-08-28     1000\n",
       "38              38   1000_38      0.0   2018-11-27     1000\n",
       "46              46   1000_46      0.0   2018-06-30     1000\n",
       "67              67   1000_67      0.0   2018-06-16     1000\n",
       "72              72   1000_72      0.0   2018-06-15     1000\n",
       "...            ...       ...      ...          ...      ...\n",
       "149380      149380  1499_141      0.0   2018-12-11     1499\n",
       "149381      149381  1499_142      0.0   2018-11-01     1499\n",
       "149383      149383  1499_144      0.0   2018-11-27     1499\n",
       "149386      149386  1499_147      0.0   2018-10-21     1499\n",
       "149393      149393  1499_154      0.0   2018-10-27     1499\n",
       "\n",
       "[19598 rows x 5 columns]"
      ]
     },
     "execution_count": 9,
     "metadata": {},
     "output_type": "execute_result"
    }
   ],
   "source": [
    "# internet sessions with zero traffic\n",
    "internet.query('mb_used == 0')"
   ]
  },
  {
   "cell_type": "markdown",
   "metadata": {},
   "source": [
    "We can see from the table that there are at least two clients with IDs 1000 and 1499 that had registered Internet sessions with zero traffic. Let's check if they still had Internet sessions and add up the number of megabytes used, grouping the table by user."
   ]
  },
  {
   "cell_type": "code",
   "execution_count": 10,
   "metadata": {},
   "outputs": [
    {
     "data": {
      "text/plain": [
       "user_id\n",
       "1399      4603.52\n",
       "1192      9031.84\n",
       "1062     11072.78\n",
       "1069     11348.27\n",
       "1406     11430.43\n",
       "          ...    \n",
       "1330    336373.28\n",
       "1185    343533.71\n",
       "1180    348211.20\n",
       "1240    376237.47\n",
       "1385    376397.38\n",
       "Name: mb_used, Length: 497, dtype: float64"
      ]
     },
     "execution_count": 10,
     "metadata": {},
     "output_type": "execute_result"
    }
   ],
   "source": [
    "# grouping internet table by users\n",
    "internet.groupby('user_id')['mb_used'].agg('sum').sort_values()"
   ]
  },
  {
   "cell_type": "markdown",
   "metadata": {},
   "source": [
    "So there are no sessions with completely zero traffic in this column, so we should keep the zero values.\n",
    "\n",
    "For further work, we need to merge the tables into a single dataframe. However, before we merge and analyze the data, we'll convert the date columns to pandas' datetime format.\n",
    "\n",
    "Before merging the tables, we'll group the tables of calls, messages, and web traffic by unique user ID and month in which these services were provided to the customer.\n",
    "\n",
    "We'll also convert the traffic used into gigabytes. For the time being, the call duration and traffic volume should be rounded, then we'll convert them to an integer format.\n",
    "\n",
    "In the final dataframe, we'll highlight the column with the month values in which the services were provided. To test the hypotheses, we'll also add the amount of revenue for each user to the dataframe."
   ]
  },
  {
   "cell_type": "markdown",
   "metadata": {},
   "source": [
    "### Conclusions"
   ]
  },
  {
   "cell_type": "markdown",
   "metadata": {},
   "source": [
    "* **We'll keep zero values in the call duration and Internet traffic columns. Calls with zero duration are unanswered calls. Zero traffic Internet sessions are the exchange of service data packets;**\n",
    "* **We'll convert columns containing dates to the Pandas' datetime format;**\n",
    "* **The tables should be merged into a single dataframe, grouping the calls, messages, and web traffic tables by unique user IDs and the month in which the services were provided to the customer;**\n",
    "* **We'll convert the spent Internet traffic to gigabytes. Traffic volume, amount of messages and call duration we'll convert to integer type by rounding them up;**\n",
    "* **In the final dataframe, we'll create a column with the month in which the customer received services. To test the hypotheses, we'll also add the amount of revenue for each user to the dataframe.**"
   ]
  },
  {
   "cell_type": "markdown",
   "metadata": {},
   "source": [
    "## Data pre-processing"
   ]
  },
  {
   "cell_type": "markdown",
   "metadata": {},
   "source": [
    "Before creating pivot tables by unique user IDs and months, we should convert columns containing dates to the Pandas datetime format."
   ]
  },
  {
   "cell_type": "code",
   "execution_count": 11,
   "metadata": {},
   "outputs": [],
   "source": [
    "# converting columns into pandas datetime\n",
    "calls['call_date'] = pd.to_datetime(calls['call_date'], format='%Y-%m-%d')\n",
    "messages['message_date'] = pd.to_datetime(messages['message_date'], format='%Y-%m-%d')\n",
    "internet['session_date'] = pd.to_datetime(internet['session_date'], format='%Y-%m-%d')"
   ]
  },
  {
   "cell_type": "markdown",
   "metadata": {},
   "source": [
    "Next, we'll create a column for the month of service in each of the service volume tables."
   ]
  },
  {
   "cell_type": "code",
   "execution_count": 12,
   "metadata": {},
   "outputs": [],
   "source": [
    "# creating columns with months\n",
    "calls['month'] = calls['call_date'].dt.month\n",
    "messages['month'] = messages['message_date'].dt.month\n",
    "internet['month'] = internet['session_date'].dt.month"
   ]
  },
  {
   "cell_type": "code",
   "execution_count": 13,
   "metadata": {},
   "outputs": [],
   "source": [
    "# rounding up calls duration\n",
    "calls['duration'] = np.ceil(calls['duration'])"
   ]
  },
  {
   "cell_type": "markdown",
   "metadata": {},
   "source": [
    "Before creating a single dataframe, we'll create pivot tables with the volume of services provided grouped by unique user IDs and months."
   ]
  },
  {
   "cell_type": "code",
   "execution_count": 14,
   "metadata": {},
   "outputs": [],
   "source": [
    "# calls pivot table \n",
    "calls_pivoted = (calls\n",
    "                 .pivot_table(index=['user_id', 'month'], values='duration', aggfunc='sum')\n",
    "                 .reset_index())"
   ]
  },
  {
   "cell_type": "code",
   "execution_count": 15,
   "metadata": {},
   "outputs": [],
   "source": [
    "# internet sessions pivot table\n",
    "internet_pivoted = (internet\n",
    "                    .pivot_table(index=['user_id', 'month'], values='mb_used', aggfunc='sum')\n",
    "                    .reset_index())"
   ]
  },
  {
   "cell_type": "code",
   "execution_count": 16,
   "metadata": {},
   "outputs": [],
   "source": [
    "# sent messages pivot table\n",
    "messages_pivoted = (messages\n",
    "                    .pivot_table(index=['user_id', 'month'], values='id', aggfunc='count')\n",
    "                    .reset_index())\n",
    "messages_pivoted.rename(columns={'id': 'messages'}, inplace=True)"
   ]
  },
  {
   "cell_type": "markdown",
   "metadata": {},
   "source": [
    "The next step is to merge the created pivot tables using unique IDs and months as keys. "
   ]
  },
  {
   "cell_type": "code",
   "execution_count": 17,
   "metadata": {},
   "outputs": [],
   "source": [
    "#merging created pivot tables\n",
    "services_provided = (pd.merge(\n",
    "    pd.merge(calls_pivoted, internet_pivoted, on=['user_id', 'month'], how='outer'), \n",
    "    messages_pivoted, on=['user_id', 'month'], how='outer'))"
   ]
  },
  {
   "cell_type": "code",
   "execution_count": 18,
   "metadata": {},
   "outputs": [
    {
     "data": {
      "text/html": [
       "<div>\n",
       "<style scoped>\n",
       "    .dataframe tbody tr th:only-of-type {\n",
       "        vertical-align: middle;\n",
       "    }\n",
       "\n",
       "    .dataframe tbody tr th {\n",
       "        vertical-align: top;\n",
       "    }\n",
       "\n",
       "    .dataframe thead th {\n",
       "        text-align: right;\n",
       "    }\n",
       "</style>\n",
       "<table border=\"1\" class=\"dataframe\">\n",
       "  <thead>\n",
       "    <tr style=\"text-align: right;\">\n",
       "      <th></th>\n",
       "      <th>user_id</th>\n",
       "      <th>month</th>\n",
       "      <th>duration</th>\n",
       "      <th>mb_used</th>\n",
       "      <th>messages</th>\n",
       "    </tr>\n",
       "  </thead>\n",
       "  <tbody>\n",
       "    <tr>\n",
       "      <th>0</th>\n",
       "      <td>1000</td>\n",
       "      <td>5</td>\n",
       "      <td>159.0</td>\n",
       "      <td>2253.49</td>\n",
       "      <td>22.0</td>\n",
       "    </tr>\n",
       "    <tr>\n",
       "      <th>1</th>\n",
       "      <td>1000</td>\n",
       "      <td>6</td>\n",
       "      <td>172.0</td>\n",
       "      <td>23233.77</td>\n",
       "      <td>60.0</td>\n",
       "    </tr>\n",
       "    <tr>\n",
       "      <th>2</th>\n",
       "      <td>1000</td>\n",
       "      <td>7</td>\n",
       "      <td>340.0</td>\n",
       "      <td>14003.64</td>\n",
       "      <td>75.0</td>\n",
       "    </tr>\n",
       "    <tr>\n",
       "      <th>3</th>\n",
       "      <td>1000</td>\n",
       "      <td>8</td>\n",
       "      <td>408.0</td>\n",
       "      <td>14055.93</td>\n",
       "      <td>81.0</td>\n",
       "    </tr>\n",
       "    <tr>\n",
       "      <th>4</th>\n",
       "      <td>1000</td>\n",
       "      <td>9</td>\n",
       "      <td>466.0</td>\n",
       "      <td>14568.91</td>\n",
       "      <td>57.0</td>\n",
       "    </tr>\n",
       "    <tr>\n",
       "      <th>...</th>\n",
       "      <td>...</td>\n",
       "      <td>...</td>\n",
       "      <td>...</td>\n",
       "      <td>...</td>\n",
       "      <td>...</td>\n",
       "    </tr>\n",
       "    <tr>\n",
       "      <th>3209</th>\n",
       "      <td>1489</td>\n",
       "      <td>8</td>\n",
       "      <td>NaN</td>\n",
       "      <td>11050.56</td>\n",
       "      <td>17.0</td>\n",
       "    </tr>\n",
       "    <tr>\n",
       "      <th>3210</th>\n",
       "      <td>1489</td>\n",
       "      <td>9</td>\n",
       "      <td>NaN</td>\n",
       "      <td>17206.30</td>\n",
       "      <td>32.0</td>\n",
       "    </tr>\n",
       "    <tr>\n",
       "      <th>3211</th>\n",
       "      <td>1489</td>\n",
       "      <td>10</td>\n",
       "      <td>NaN</td>\n",
       "      <td>19559.44</td>\n",
       "      <td>21.0</td>\n",
       "    </tr>\n",
       "    <tr>\n",
       "      <th>3212</th>\n",
       "      <td>1489</td>\n",
       "      <td>11</td>\n",
       "      <td>NaN</td>\n",
       "      <td>17491.56</td>\n",
       "      <td>20.0</td>\n",
       "    </tr>\n",
       "    <tr>\n",
       "      <th>3213</th>\n",
       "      <td>1489</td>\n",
       "      <td>12</td>\n",
       "      <td>NaN</td>\n",
       "      <td>17322.51</td>\n",
       "      <td>35.0</td>\n",
       "    </tr>\n",
       "  </tbody>\n",
       "</table>\n",
       "<p>3214 rows × 5 columns</p>\n",
       "</div>"
      ],
      "text/plain": [
       "      user_id  month  duration   mb_used  messages\n",
       "0        1000      5     159.0   2253.49      22.0\n",
       "1        1000      6     172.0  23233.77      60.0\n",
       "2        1000      7     340.0  14003.64      75.0\n",
       "3        1000      8     408.0  14055.93      81.0\n",
       "4        1000      9     466.0  14568.91      57.0\n",
       "...       ...    ...       ...       ...       ...\n",
       "3209     1489      8       NaN  11050.56      17.0\n",
       "3210     1489      9       NaN  17206.30      32.0\n",
       "3211     1489     10       NaN  19559.44      21.0\n",
       "3212     1489     11       NaN  17491.56      20.0\n",
       "3213     1489     12       NaN  17322.51      35.0\n",
       "\n",
       "[3214 rows x 5 columns]"
      ]
     },
     "metadata": {},
     "output_type": "display_data"
    }
   ],
   "source": [
    "# checking created dataframe\n",
    "display(services_provided)"
   ]
  },
  {
   "cell_type": "markdown",
   "metadata": {},
   "source": [
    "We'll merge tables of users and plans offered by the telecom company into the created dataframe with the volume of services provided."
   ]
  },
  {
   "cell_type": "code",
   "execution_count": 19,
   "metadata": {},
   "outputs": [],
   "source": [
    "# making single dataframe with tariffs and the volume of services provided\n",
    "df = (pd.merge(\n",
    "    pd.merge(users, services_provided, on=['user_id'], how='left'), \n",
    "    tariffs, left_on='tariff', right_on='tariff_name'))"
   ]
  },
  {
   "cell_type": "code",
   "execution_count": 20,
   "metadata": {},
   "outputs": [
    {
     "data": {
      "text/html": [
       "<div>\n",
       "<style scoped>\n",
       "    .dataframe tbody tr th:only-of-type {\n",
       "        vertical-align: middle;\n",
       "    }\n",
       "\n",
       "    .dataframe tbody tr th {\n",
       "        vertical-align: top;\n",
       "    }\n",
       "\n",
       "    .dataframe thead th {\n",
       "        text-align: right;\n",
       "    }\n",
       "</style>\n",
       "<table border=\"1\" class=\"dataframe\">\n",
       "  <thead>\n",
       "    <tr style=\"text-align: right;\">\n",
       "      <th></th>\n",
       "      <th>user_id</th>\n",
       "      <th>age</th>\n",
       "      <th>churn_date</th>\n",
       "      <th>city</th>\n",
       "      <th>first_name</th>\n",
       "      <th>last_name</th>\n",
       "      <th>reg_date</th>\n",
       "      <th>tariff</th>\n",
       "      <th>month</th>\n",
       "      <th>duration</th>\n",
       "      <th>mb_used</th>\n",
       "      <th>messages</th>\n",
       "      <th>messages_included</th>\n",
       "      <th>mb_per_month_included</th>\n",
       "      <th>minutes_included</th>\n",
       "      <th>rub_monthly_fee</th>\n",
       "      <th>rub_per_gb</th>\n",
       "      <th>rub_per_message</th>\n",
       "      <th>rub_per_minute</th>\n",
       "      <th>tariff_name</th>\n",
       "    </tr>\n",
       "  </thead>\n",
       "  <tbody>\n",
       "    <tr>\n",
       "      <th>0</th>\n",
       "      <td>1000</td>\n",
       "      <td>52</td>\n",
       "      <td>NaN</td>\n",
       "      <td>Краснодар</td>\n",
       "      <td>Рафаил</td>\n",
       "      <td>Верещагин</td>\n",
       "      <td>2018-05-25</td>\n",
       "      <td>ultra</td>\n",
       "      <td>5.0</td>\n",
       "      <td>159.0</td>\n",
       "      <td>2253.49</td>\n",
       "      <td>22.0</td>\n",
       "      <td>1000</td>\n",
       "      <td>30720</td>\n",
       "      <td>3000</td>\n",
       "      <td>1950</td>\n",
       "      <td>150</td>\n",
       "      <td>1</td>\n",
       "      <td>1</td>\n",
       "      <td>ultra</td>\n",
       "    </tr>\n",
       "    <tr>\n",
       "      <th>1</th>\n",
       "      <td>1000</td>\n",
       "      <td>52</td>\n",
       "      <td>NaN</td>\n",
       "      <td>Краснодар</td>\n",
       "      <td>Рафаил</td>\n",
       "      <td>Верещагин</td>\n",
       "      <td>2018-05-25</td>\n",
       "      <td>ultra</td>\n",
       "      <td>6.0</td>\n",
       "      <td>172.0</td>\n",
       "      <td>23233.77</td>\n",
       "      <td>60.0</td>\n",
       "      <td>1000</td>\n",
       "      <td>30720</td>\n",
       "      <td>3000</td>\n",
       "      <td>1950</td>\n",
       "      <td>150</td>\n",
       "      <td>1</td>\n",
       "      <td>1</td>\n",
       "      <td>ultra</td>\n",
       "    </tr>\n",
       "    <tr>\n",
       "      <th>2</th>\n",
       "      <td>1000</td>\n",
       "      <td>52</td>\n",
       "      <td>NaN</td>\n",
       "      <td>Краснодар</td>\n",
       "      <td>Рафаил</td>\n",
       "      <td>Верещагин</td>\n",
       "      <td>2018-05-25</td>\n",
       "      <td>ultra</td>\n",
       "      <td>7.0</td>\n",
       "      <td>340.0</td>\n",
       "      <td>14003.64</td>\n",
       "      <td>75.0</td>\n",
       "      <td>1000</td>\n",
       "      <td>30720</td>\n",
       "      <td>3000</td>\n",
       "      <td>1950</td>\n",
       "      <td>150</td>\n",
       "      <td>1</td>\n",
       "      <td>1</td>\n",
       "      <td>ultra</td>\n",
       "    </tr>\n",
       "    <tr>\n",
       "      <th>3</th>\n",
       "      <td>1000</td>\n",
       "      <td>52</td>\n",
       "      <td>NaN</td>\n",
       "      <td>Краснодар</td>\n",
       "      <td>Рафаил</td>\n",
       "      <td>Верещагин</td>\n",
       "      <td>2018-05-25</td>\n",
       "      <td>ultra</td>\n",
       "      <td>8.0</td>\n",
       "      <td>408.0</td>\n",
       "      <td>14055.93</td>\n",
       "      <td>81.0</td>\n",
       "      <td>1000</td>\n",
       "      <td>30720</td>\n",
       "      <td>3000</td>\n",
       "      <td>1950</td>\n",
       "      <td>150</td>\n",
       "      <td>1</td>\n",
       "      <td>1</td>\n",
       "      <td>ultra</td>\n",
       "    </tr>\n",
       "    <tr>\n",
       "      <th>4</th>\n",
       "      <td>1000</td>\n",
       "      <td>52</td>\n",
       "      <td>NaN</td>\n",
       "      <td>Краснодар</td>\n",
       "      <td>Рафаил</td>\n",
       "      <td>Верещагин</td>\n",
       "      <td>2018-05-25</td>\n",
       "      <td>ultra</td>\n",
       "      <td>9.0</td>\n",
       "      <td>466.0</td>\n",
       "      <td>14568.91</td>\n",
       "      <td>57.0</td>\n",
       "      <td>1000</td>\n",
       "      <td>30720</td>\n",
       "      <td>3000</td>\n",
       "      <td>1950</td>\n",
       "      <td>150</td>\n",
       "      <td>1</td>\n",
       "      <td>1</td>\n",
       "      <td>ultra</td>\n",
       "    </tr>\n",
       "  </tbody>\n",
       "</table>\n",
       "</div>"
      ],
      "text/plain": [
       "   user_id  age churn_date       city first_name  last_name    reg_date  \\\n",
       "0     1000   52        NaN  Краснодар     Рафаил  Верещагин  2018-05-25   \n",
       "1     1000   52        NaN  Краснодар     Рафаил  Верещагин  2018-05-25   \n",
       "2     1000   52        NaN  Краснодар     Рафаил  Верещагин  2018-05-25   \n",
       "3     1000   52        NaN  Краснодар     Рафаил  Верещагин  2018-05-25   \n",
       "4     1000   52        NaN  Краснодар     Рафаил  Верещагин  2018-05-25   \n",
       "\n",
       "  tariff  month  duration   mb_used  messages  messages_included  \\\n",
       "0  ultra    5.0     159.0   2253.49      22.0               1000   \n",
       "1  ultra    6.0     172.0  23233.77      60.0               1000   \n",
       "2  ultra    7.0     340.0  14003.64      75.0               1000   \n",
       "3  ultra    8.0     408.0  14055.93      81.0               1000   \n",
       "4  ultra    9.0     466.0  14568.91      57.0               1000   \n",
       "\n",
       "   mb_per_month_included  minutes_included  rub_monthly_fee  rub_per_gb  \\\n",
       "0                  30720              3000             1950         150   \n",
       "1                  30720              3000             1950         150   \n",
       "2                  30720              3000             1950         150   \n",
       "3                  30720              3000             1950         150   \n",
       "4                  30720              3000             1950         150   \n",
       "\n",
       "   rub_per_message  rub_per_minute tariff_name  \n",
       "0                1               1       ultra  \n",
       "1                1               1       ultra  \n",
       "2                1               1       ultra  \n",
       "3                1               1       ultra  \n",
       "4                1               1       ultra  "
      ]
     },
     "execution_count": 20,
     "metadata": {},
     "output_type": "execute_result"
    }
   ],
   "source": [
    "# check\n",
    "df.head()"
   ]
  },
  {
   "cell_type": "code",
   "execution_count": 21,
   "metadata": {
    "scrolled": true
   },
   "outputs": [
    {
     "name": "stdout",
     "output_type": "stream",
     "text": [
      "<class 'pandas.core.frame.DataFrame'>\n",
      "Int64Index: 3216 entries, 0 to 3215\n",
      "Data columns (total 20 columns):\n",
      " #   Column                 Non-Null Count  Dtype  \n",
      "---  ------                 --------------  -----  \n",
      " 0   user_id                3216 non-null   int64  \n",
      " 1   age                    3216 non-null   int64  \n",
      " 2   churn_date             189 non-null    object \n",
      " 3   city                   3216 non-null   object \n",
      " 4   first_name             3216 non-null   object \n",
      " 5   last_name              3216 non-null   object \n",
      " 6   reg_date               3216 non-null   object \n",
      " 7   tariff                 3216 non-null   object \n",
      " 8   month                  3214 non-null   float64\n",
      " 9   duration               3174 non-null   float64\n",
      " 10  mb_used                3203 non-null   float64\n",
      " 11  messages               2717 non-null   float64\n",
      " 12  messages_included      3216 non-null   int64  \n",
      " 13  mb_per_month_included  3216 non-null   int64  \n",
      " 14  minutes_included       3216 non-null   int64  \n",
      " 15  rub_monthly_fee        3216 non-null   int64  \n",
      " 16  rub_per_gb             3216 non-null   int64  \n",
      " 17  rub_per_message        3216 non-null   int64  \n",
      " 18  rub_per_minute         3216 non-null   int64  \n",
      " 19  tariff_name            3216 non-null   object \n",
      "dtypes: float64(4), int64(9), object(7)\n",
      "memory usage: 527.6+ KB\n"
     ]
    }
   ],
   "source": [
    "df.info()"
   ]
  },
  {
   "cell_type": "markdown",
   "metadata": {},
   "source": [
    "The final dataframe consists of columns with missing values: \n",
    "* internet traffic volume, \n",
    "* call duration, \n",
    "* month, \n",
    "* number of messages sent.\n",
    "\n",
    "Presumably, the columns with service volumes provided should be filled with zeros because these users didn't make calls, send messages, or use mobile Internet. To test this hypothesis, we'll slice our dataframe with such users."
   ]
  },
  {
   "cell_type": "code",
   "execution_count": 22,
   "metadata": {},
   "outputs": [
    {
     "data": {
      "text/html": [
       "<div>\n",
       "<style scoped>\n",
       "    .dataframe tbody tr th:only-of-type {\n",
       "        vertical-align: middle;\n",
       "    }\n",
       "\n",
       "    .dataframe tbody tr th {\n",
       "        vertical-align: top;\n",
       "    }\n",
       "\n",
       "    .dataframe thead th {\n",
       "        text-align: right;\n",
       "    }\n",
       "</style>\n",
       "<table border=\"1\" class=\"dataframe\">\n",
       "  <thead>\n",
       "    <tr style=\"text-align: right;\">\n",
       "      <th></th>\n",
       "      <th>user_id</th>\n",
       "      <th>age</th>\n",
       "      <th>churn_date</th>\n",
       "      <th>city</th>\n",
       "      <th>first_name</th>\n",
       "      <th>last_name</th>\n",
       "      <th>reg_date</th>\n",
       "      <th>tariff</th>\n",
       "      <th>month</th>\n",
       "      <th>duration</th>\n",
       "      <th>mb_used</th>\n",
       "      <th>messages</th>\n",
       "      <th>messages_included</th>\n",
       "      <th>mb_per_month_included</th>\n",
       "      <th>minutes_included</th>\n",
       "      <th>rub_monthly_fee</th>\n",
       "      <th>rub_per_gb</th>\n",
       "      <th>rub_per_message</th>\n",
       "      <th>rub_per_minute</th>\n",
       "      <th>tariff_name</th>\n",
       "    </tr>\n",
       "  </thead>\n",
       "  <tbody>\n",
       "    <tr>\n",
       "      <th>243</th>\n",
       "      <td>1128</td>\n",
       "      <td>51</td>\n",
       "      <td>2018-12-23</td>\n",
       "      <td>Волжский</td>\n",
       "      <td>Ксения</td>\n",
       "      <td>Агаева</td>\n",
       "      <td>2018-12-15</td>\n",
       "      <td>ultra</td>\n",
       "      <td>NaN</td>\n",
       "      <td>NaN</td>\n",
       "      <td>NaN</td>\n",
       "      <td>NaN</td>\n",
       "      <td>1000</td>\n",
       "      <td>30720</td>\n",
       "      <td>3000</td>\n",
       "      <td>1950</td>\n",
       "      <td>150</td>\n",
       "      <td>1</td>\n",
       "      <td>1</td>\n",
       "      <td>ultra</td>\n",
       "    </tr>\n",
       "    <tr>\n",
       "      <th>477</th>\n",
       "      <td>1273</td>\n",
       "      <td>46</td>\n",
       "      <td>NaN</td>\n",
       "      <td>Курган</td>\n",
       "      <td>Рэм</td>\n",
       "      <td>Корнилов</td>\n",
       "      <td>2018-05-15</td>\n",
       "      <td>ultra</td>\n",
       "      <td>5.0</td>\n",
       "      <td>220.0</td>\n",
       "      <td>NaN</td>\n",
       "      <td>21.0</td>\n",
       "      <td>1000</td>\n",
       "      <td>30720</td>\n",
       "      <td>3000</td>\n",
       "      <td>1950</td>\n",
       "      <td>150</td>\n",
       "      <td>1</td>\n",
       "      <td>1</td>\n",
       "      <td>ultra</td>\n",
       "    </tr>\n",
       "    <tr>\n",
       "      <th>478</th>\n",
       "      <td>1273</td>\n",
       "      <td>46</td>\n",
       "      <td>NaN</td>\n",
       "      <td>Курган</td>\n",
       "      <td>Рэм</td>\n",
       "      <td>Корнилов</td>\n",
       "      <td>2018-05-15</td>\n",
       "      <td>ultra</td>\n",
       "      <td>6.0</td>\n",
       "      <td>230.0</td>\n",
       "      <td>NaN</td>\n",
       "      <td>38.0</td>\n",
       "      <td>1000</td>\n",
       "      <td>30720</td>\n",
       "      <td>3000</td>\n",
       "      <td>1950</td>\n",
       "      <td>150</td>\n",
       "      <td>1</td>\n",
       "      <td>1</td>\n",
       "      <td>ultra</td>\n",
       "    </tr>\n",
       "    <tr>\n",
       "      <th>479</th>\n",
       "      <td>1273</td>\n",
       "      <td>46</td>\n",
       "      <td>NaN</td>\n",
       "      <td>Курган</td>\n",
       "      <td>Рэм</td>\n",
       "      <td>Корнилов</td>\n",
       "      <td>2018-05-15</td>\n",
       "      <td>ultra</td>\n",
       "      <td>7.0</td>\n",
       "      <td>253.0</td>\n",
       "      <td>NaN</td>\n",
       "      <td>37.0</td>\n",
       "      <td>1000</td>\n",
       "      <td>30720</td>\n",
       "      <td>3000</td>\n",
       "      <td>1950</td>\n",
       "      <td>150</td>\n",
       "      <td>1</td>\n",
       "      <td>1</td>\n",
       "      <td>ultra</td>\n",
       "    </tr>\n",
       "    <tr>\n",
       "      <th>480</th>\n",
       "      <td>1273</td>\n",
       "      <td>46</td>\n",
       "      <td>NaN</td>\n",
       "      <td>Курган</td>\n",
       "      <td>Рэм</td>\n",
       "      <td>Корнилов</td>\n",
       "      <td>2018-05-15</td>\n",
       "      <td>ultra</td>\n",
       "      <td>8.0</td>\n",
       "      <td>253.0</td>\n",
       "      <td>NaN</td>\n",
       "      <td>41.0</td>\n",
       "      <td>1000</td>\n",
       "      <td>30720</td>\n",
       "      <td>3000</td>\n",
       "      <td>1950</td>\n",
       "      <td>150</td>\n",
       "      <td>1</td>\n",
       "      <td>1</td>\n",
       "      <td>ultra</td>\n",
       "    </tr>\n",
       "    <tr>\n",
       "      <th>481</th>\n",
       "      <td>1273</td>\n",
       "      <td>46</td>\n",
       "      <td>NaN</td>\n",
       "      <td>Курган</td>\n",
       "      <td>Рэм</td>\n",
       "      <td>Корнилов</td>\n",
       "      <td>2018-05-15</td>\n",
       "      <td>ultra</td>\n",
       "      <td>9.0</td>\n",
       "      <td>223.0</td>\n",
       "      <td>NaN</td>\n",
       "      <td>32.0</td>\n",
       "      <td>1000</td>\n",
       "      <td>30720</td>\n",
       "      <td>3000</td>\n",
       "      <td>1950</td>\n",
       "      <td>150</td>\n",
       "      <td>1</td>\n",
       "      <td>1</td>\n",
       "      <td>ultra</td>\n",
       "    </tr>\n",
       "    <tr>\n",
       "      <th>482</th>\n",
       "      <td>1273</td>\n",
       "      <td>46</td>\n",
       "      <td>NaN</td>\n",
       "      <td>Курган</td>\n",
       "      <td>Рэм</td>\n",
       "      <td>Корнилов</td>\n",
       "      <td>2018-05-15</td>\n",
       "      <td>ultra</td>\n",
       "      <td>10.0</td>\n",
       "      <td>315.0</td>\n",
       "      <td>NaN</td>\n",
       "      <td>35.0</td>\n",
       "      <td>1000</td>\n",
       "      <td>30720</td>\n",
       "      <td>3000</td>\n",
       "      <td>1950</td>\n",
       "      <td>150</td>\n",
       "      <td>1</td>\n",
       "      <td>1</td>\n",
       "      <td>ultra</td>\n",
       "    </tr>\n",
       "    <tr>\n",
       "      <th>483</th>\n",
       "      <td>1273</td>\n",
       "      <td>46</td>\n",
       "      <td>NaN</td>\n",
       "      <td>Курган</td>\n",
       "      <td>Рэм</td>\n",
       "      <td>Корнилов</td>\n",
       "      <td>2018-05-15</td>\n",
       "      <td>ultra</td>\n",
       "      <td>11.0</td>\n",
       "      <td>272.0</td>\n",
       "      <td>NaN</td>\n",
       "      <td>29.0</td>\n",
       "      <td>1000</td>\n",
       "      <td>30720</td>\n",
       "      <td>3000</td>\n",
       "      <td>1950</td>\n",
       "      <td>150</td>\n",
       "      <td>1</td>\n",
       "      <td>1</td>\n",
       "      <td>ultra</td>\n",
       "    </tr>\n",
       "    <tr>\n",
       "      <th>484</th>\n",
       "      <td>1273</td>\n",
       "      <td>46</td>\n",
       "      <td>NaN</td>\n",
       "      <td>Курган</td>\n",
       "      <td>Рэм</td>\n",
       "      <td>Корнилов</td>\n",
       "      <td>2018-05-15</td>\n",
       "      <td>ultra</td>\n",
       "      <td>12.0</td>\n",
       "      <td>260.0</td>\n",
       "      <td>NaN</td>\n",
       "      <td>39.0</td>\n",
       "      <td>1000</td>\n",
       "      <td>30720</td>\n",
       "      <td>3000</td>\n",
       "      <td>1950</td>\n",
       "      <td>150</td>\n",
       "      <td>1</td>\n",
       "      <td>1</td>\n",
       "      <td>ultra</td>\n",
       "    </tr>\n",
       "    <tr>\n",
       "      <th>714</th>\n",
       "      <td>1377</td>\n",
       "      <td>59</td>\n",
       "      <td>NaN</td>\n",
       "      <td>Брянск</td>\n",
       "      <td>Альфред</td>\n",
       "      <td>Семин</td>\n",
       "      <td>2018-02-25</td>\n",
       "      <td>ultra</td>\n",
       "      <td>2.0</td>\n",
       "      <td>179.0</td>\n",
       "      <td>NaN</td>\n",
       "      <td>2.0</td>\n",
       "      <td>1000</td>\n",
       "      <td>30720</td>\n",
       "      <td>3000</td>\n",
       "      <td>1950</td>\n",
       "      <td>150</td>\n",
       "      <td>1</td>\n",
       "      <td>1</td>\n",
       "      <td>ultra</td>\n",
       "    </tr>\n",
       "    <tr>\n",
       "      <th>780</th>\n",
       "      <td>1392</td>\n",
       "      <td>54</td>\n",
       "      <td>2018-09-27</td>\n",
       "      <td>Челябинск</td>\n",
       "      <td>Алла</td>\n",
       "      <td>Беликова</td>\n",
       "      <td>2018-02-27</td>\n",
       "      <td>ultra</td>\n",
       "      <td>2.0</td>\n",
       "      <td>13.0</td>\n",
       "      <td>NaN</td>\n",
       "      <td>3.0</td>\n",
       "      <td>1000</td>\n",
       "      <td>30720</td>\n",
       "      <td>3000</td>\n",
       "      <td>1950</td>\n",
       "      <td>150</td>\n",
       "      <td>1</td>\n",
       "      <td>1</td>\n",
       "      <td>ultra</td>\n",
       "    </tr>\n",
       "    <tr>\n",
       "      <th>2619</th>\n",
       "      <td>1371</td>\n",
       "      <td>50</td>\n",
       "      <td>2018-12-30</td>\n",
       "      <td>Омск</td>\n",
       "      <td>Ириней</td>\n",
       "      <td>Трофимов</td>\n",
       "      <td>2018-12-25</td>\n",
       "      <td>smart</td>\n",
       "      <td>NaN</td>\n",
       "      <td>NaN</td>\n",
       "      <td>NaN</td>\n",
       "      <td>NaN</td>\n",
       "      <td>50</td>\n",
       "      <td>15360</td>\n",
       "      <td>500</td>\n",
       "      <td>550</td>\n",
       "      <td>200</td>\n",
       "      <td>3</td>\n",
       "      <td>3</td>\n",
       "      <td>smart</td>\n",
       "    </tr>\n",
       "    <tr>\n",
       "      <th>2967</th>\n",
       "      <td>1446</td>\n",
       "      <td>64</td>\n",
       "      <td>NaN</td>\n",
       "      <td>Липецк</td>\n",
       "      <td>Антонина</td>\n",
       "      <td>Артемчук</td>\n",
       "      <td>2018-08-31</td>\n",
       "      <td>smart</td>\n",
       "      <td>8.0</td>\n",
       "      <td>50.0</td>\n",
       "      <td>NaN</td>\n",
       "      <td>1.0</td>\n",
       "      <td>50</td>\n",
       "      <td>15360</td>\n",
       "      <td>500</td>\n",
       "      <td>550</td>\n",
       "      <td>200</td>\n",
       "      <td>3</td>\n",
       "      <td>3</td>\n",
       "      <td>smart</td>\n",
       "    </tr>\n",
       "  </tbody>\n",
       "</table>\n",
       "</div>"
      ],
      "text/plain": [
       "      user_id  age  churn_date       city first_name last_name    reg_date  \\\n",
       "243      1128   51  2018-12-23   Волжский     Ксения    Агаева  2018-12-15   \n",
       "477      1273   46         NaN     Курган        Рэм  Корнилов  2018-05-15   \n",
       "478      1273   46         NaN     Курган        Рэм  Корнилов  2018-05-15   \n",
       "479      1273   46         NaN     Курган        Рэм  Корнилов  2018-05-15   \n",
       "480      1273   46         NaN     Курган        Рэм  Корнилов  2018-05-15   \n",
       "481      1273   46         NaN     Курган        Рэм  Корнилов  2018-05-15   \n",
       "482      1273   46         NaN     Курган        Рэм  Корнилов  2018-05-15   \n",
       "483      1273   46         NaN     Курган        Рэм  Корнилов  2018-05-15   \n",
       "484      1273   46         NaN     Курган        Рэм  Корнилов  2018-05-15   \n",
       "714      1377   59         NaN     Брянск    Альфред     Семин  2018-02-25   \n",
       "780      1392   54  2018-09-27  Челябинск       Алла  Беликова  2018-02-27   \n",
       "2619     1371   50  2018-12-30       Омск     Ириней  Трофимов  2018-12-25   \n",
       "2967     1446   64         NaN     Липецк   Антонина  Артемчук  2018-08-31   \n",
       "\n",
       "     tariff  month  duration  mb_used  messages  messages_included  \\\n",
       "243   ultra    NaN       NaN      NaN       NaN               1000   \n",
       "477   ultra    5.0     220.0      NaN      21.0               1000   \n",
       "478   ultra    6.0     230.0      NaN      38.0               1000   \n",
       "479   ultra    7.0     253.0      NaN      37.0               1000   \n",
       "480   ultra    8.0     253.0      NaN      41.0               1000   \n",
       "481   ultra    9.0     223.0      NaN      32.0               1000   \n",
       "482   ultra   10.0     315.0      NaN      35.0               1000   \n",
       "483   ultra   11.0     272.0      NaN      29.0               1000   \n",
       "484   ultra   12.0     260.0      NaN      39.0               1000   \n",
       "714   ultra    2.0     179.0      NaN       2.0               1000   \n",
       "780   ultra    2.0      13.0      NaN       3.0               1000   \n",
       "2619  smart    NaN       NaN      NaN       NaN                 50   \n",
       "2967  smart    8.0      50.0      NaN       1.0                 50   \n",
       "\n",
       "      mb_per_month_included  minutes_included  rub_monthly_fee  rub_per_gb  \\\n",
       "243                   30720              3000             1950         150   \n",
       "477                   30720              3000             1950         150   \n",
       "478                   30720              3000             1950         150   \n",
       "479                   30720              3000             1950         150   \n",
       "480                   30720              3000             1950         150   \n",
       "481                   30720              3000             1950         150   \n",
       "482                   30720              3000             1950         150   \n",
       "483                   30720              3000             1950         150   \n",
       "484                   30720              3000             1950         150   \n",
       "714                   30720              3000             1950         150   \n",
       "780                   30720              3000             1950         150   \n",
       "2619                  15360               500              550         200   \n",
       "2967                  15360               500              550         200   \n",
       "\n",
       "      rub_per_message  rub_per_minute tariff_name  \n",
       "243                 1               1       ultra  \n",
       "477                 1               1       ultra  \n",
       "478                 1               1       ultra  \n",
       "479                 1               1       ultra  \n",
       "480                 1               1       ultra  \n",
       "481                 1               1       ultra  \n",
       "482                 1               1       ultra  \n",
       "483                 1               1       ultra  \n",
       "484                 1               1       ultra  \n",
       "714                 1               1       ultra  \n",
       "780                 1               1       ultra  \n",
       "2619                3               3       smart  \n",
       "2967                3               3       smart  "
      ]
     },
     "execution_count": 22,
     "metadata": {},
     "output_type": "execute_result"
    }
   ],
   "source": [
    "# dataframe slice with users, which do not use mobile internet\n",
    "df.query('mb_used.isna()')"
   ]
  },
  {
   "cell_type": "markdown",
   "metadata": {},
   "source": [
    "Note that some users have missing values for call duration and sent messages. At the same time, these values are randomly distributed. Therefore, we'll fill the gaps in these columns with zeros."
   ]
  },
  {
   "cell_type": "code",
   "execution_count": 23,
   "metadata": {},
   "outputs": [],
   "source": [
    "# filling nans with zeros\n",
    "df['messages'] = df['messages'].fillna(0)\n",
    "df['mb_used'] = df['mb_used'].fillna(0)\n",
    "df['duration'] = df['duration'].fillna(0)"
   ]
  },
  {
   "cell_type": "markdown",
   "metadata": {},
   "source": [
    "Let's take a look at rows with nans in the month column."
   ]
  },
  {
   "cell_type": "code",
   "execution_count": 24,
   "metadata": {},
   "outputs": [
    {
     "data": {
      "text/html": [
       "<div>\n",
       "<style scoped>\n",
       "    .dataframe tbody tr th:only-of-type {\n",
       "        vertical-align: middle;\n",
       "    }\n",
       "\n",
       "    .dataframe tbody tr th {\n",
       "        vertical-align: top;\n",
       "    }\n",
       "\n",
       "    .dataframe thead th {\n",
       "        text-align: right;\n",
       "    }\n",
       "</style>\n",
       "<table border=\"1\" class=\"dataframe\">\n",
       "  <thead>\n",
       "    <tr style=\"text-align: right;\">\n",
       "      <th></th>\n",
       "      <th>user_id</th>\n",
       "      <th>age</th>\n",
       "      <th>churn_date</th>\n",
       "      <th>city</th>\n",
       "      <th>first_name</th>\n",
       "      <th>last_name</th>\n",
       "      <th>reg_date</th>\n",
       "      <th>tariff</th>\n",
       "      <th>month</th>\n",
       "      <th>duration</th>\n",
       "      <th>mb_used</th>\n",
       "      <th>messages</th>\n",
       "      <th>messages_included</th>\n",
       "      <th>mb_per_month_included</th>\n",
       "      <th>minutes_included</th>\n",
       "      <th>rub_monthly_fee</th>\n",
       "      <th>rub_per_gb</th>\n",
       "      <th>rub_per_message</th>\n",
       "      <th>rub_per_minute</th>\n",
       "      <th>tariff_name</th>\n",
       "    </tr>\n",
       "  </thead>\n",
       "  <tbody>\n",
       "    <tr>\n",
       "      <th>243</th>\n",
       "      <td>1128</td>\n",
       "      <td>51</td>\n",
       "      <td>2018-12-23</td>\n",
       "      <td>Волжский</td>\n",
       "      <td>Ксения</td>\n",
       "      <td>Агаева</td>\n",
       "      <td>2018-12-15</td>\n",
       "      <td>ultra</td>\n",
       "      <td>NaN</td>\n",
       "      <td>0.0</td>\n",
       "      <td>0.0</td>\n",
       "      <td>0.0</td>\n",
       "      <td>1000</td>\n",
       "      <td>30720</td>\n",
       "      <td>3000</td>\n",
       "      <td>1950</td>\n",
       "      <td>150</td>\n",
       "      <td>1</td>\n",
       "      <td>1</td>\n",
       "      <td>ultra</td>\n",
       "    </tr>\n",
       "    <tr>\n",
       "      <th>2619</th>\n",
       "      <td>1371</td>\n",
       "      <td>50</td>\n",
       "      <td>2018-12-30</td>\n",
       "      <td>Омск</td>\n",
       "      <td>Ириней</td>\n",
       "      <td>Трофимов</td>\n",
       "      <td>2018-12-25</td>\n",
       "      <td>smart</td>\n",
       "      <td>NaN</td>\n",
       "      <td>0.0</td>\n",
       "      <td>0.0</td>\n",
       "      <td>0.0</td>\n",
       "      <td>50</td>\n",
       "      <td>15360</td>\n",
       "      <td>500</td>\n",
       "      <td>550</td>\n",
       "      <td>200</td>\n",
       "      <td>3</td>\n",
       "      <td>3</td>\n",
       "      <td>smart</td>\n",
       "    </tr>\n",
       "  </tbody>\n",
       "</table>\n",
       "</div>"
      ],
      "text/plain": [
       "      user_id  age  churn_date      city first_name last_name    reg_date  \\\n",
       "243      1128   51  2018-12-23  Волжский     Ксения    Агаева  2018-12-15   \n",
       "2619     1371   50  2018-12-30      Омск     Ириней  Трофимов  2018-12-25   \n",
       "\n",
       "     tariff  month  duration  mb_used  messages  messages_included  \\\n",
       "243   ultra    NaN       0.0      0.0       0.0               1000   \n",
       "2619  smart    NaN       0.0      0.0       0.0                 50   \n",
       "\n",
       "      mb_per_month_included  minutes_included  rub_monthly_fee  rub_per_gb  \\\n",
       "243                   30720              3000             1950         150   \n",
       "2619                  15360               500              550         200   \n",
       "\n",
       "      rub_per_message  rub_per_minute tariff_name  \n",
       "243                 1               1       ultra  \n",
       "2619                3               3       smart  "
      ]
     },
     "execution_count": 24,
     "metadata": {},
     "output_type": "execute_result"
    }
   ],
   "source": [
    "# rows with nans in month column\n",
    "df.query('month.isna()')"
   ]
  },
  {
   "cell_type": "code",
   "execution_count": 25,
   "metadata": {},
   "outputs": [
    {
     "data": {
      "text/html": [
       "<div>\n",
       "<style scoped>\n",
       "    .dataframe tbody tr th:only-of-type {\n",
       "        vertical-align: middle;\n",
       "    }\n",
       "\n",
       "    .dataframe tbody tr th {\n",
       "        vertical-align: top;\n",
       "    }\n",
       "\n",
       "    .dataframe thead th {\n",
       "        text-align: right;\n",
       "    }\n",
       "</style>\n",
       "<table border=\"1\" class=\"dataframe\">\n",
       "  <thead>\n",
       "    <tr style=\"text-align: right;\">\n",
       "      <th></th>\n",
       "      <th>Unnamed: 0</th>\n",
       "      <th>id</th>\n",
       "      <th>mb_used</th>\n",
       "      <th>session_date</th>\n",
       "      <th>user_id</th>\n",
       "      <th>month</th>\n",
       "    </tr>\n",
       "  </thead>\n",
       "  <tbody>\n",
       "  </tbody>\n",
       "</table>\n",
       "</div>"
      ],
      "text/plain": [
       "Empty DataFrame\n",
       "Columns: [Unnamed: 0, id, mb_used, session_date, user_id, month]\n",
       "Index: []"
      ]
     },
     "execution_count": 25,
     "metadata": {},
     "output_type": "execute_result"
    }
   ],
   "source": [
    "internet.query('user_id == 1128 or user_id == 1371')"
   ]
  },
  {
   "cell_type": "markdown",
   "metadata": {},
   "source": [
    "The sliced dataframe includes two users who churned in December 2018, a week or two after the rates were set. However, they may have already been billed for the first month. Therefore, missing values in the Month column should be filled in with December."
   ]
  },
  {
   "cell_type": "code",
   "execution_count": 26,
   "metadata": {},
   "outputs": [],
   "source": [
    "df['month'] = df['month'].fillna(12)"
   ]
  },
  {
   "cell_type": "markdown",
   "metadata": {},
   "source": [
    "Now let's create a column with the Internet traffic consumed in gigabytes, rounded up."
   ]
  },
  {
   "cell_type": "code",
   "execution_count": 27,
   "metadata": {},
   "outputs": [],
   "source": [
    "# consumed internet traffic\n",
    "df['gb_used'] = np.ceil(df['mb_used'] / 1024)"
   ]
  },
  {
   "cell_type": "code",
   "execution_count": 28,
   "metadata": {},
   "outputs": [],
   "source": [
    "# creating a column with the amount of traffic included in the tariff plan\n",
    "df['gb_per_month_included'] = df['mb_per_month_included'] / 1024"
   ]
  },
  {
   "cell_type": "markdown",
   "metadata": {},
   "source": [
    "Let's convert the month, the amount of included and consumed Internet traffic, the duration of calls and the number of sent messages to integer type."
   ]
  },
  {
   "cell_type": "code",
   "execution_count": 29,
   "metadata": {},
   "outputs": [],
   "source": [
    "# converting using loop\n",
    "columns_to_int = ['month', 'gb_used', 'duration', 'messages', 'gb_per_month_included']\n",
    "for column in columns_to_int:\n",
    "    df[column] = df[column].astype('int')"
   ]
  },
  {
   "cell_type": "code",
   "execution_count": 30,
   "metadata": {},
   "outputs": [
    {
     "data": {
      "text/html": [
       "<div>\n",
       "<style scoped>\n",
       "    .dataframe tbody tr th:only-of-type {\n",
       "        vertical-align: middle;\n",
       "    }\n",
       "\n",
       "    .dataframe tbody tr th {\n",
       "        vertical-align: top;\n",
       "    }\n",
       "\n",
       "    .dataframe thead th {\n",
       "        text-align: right;\n",
       "    }\n",
       "</style>\n",
       "<table border=\"1\" class=\"dataframe\">\n",
       "  <thead>\n",
       "    <tr style=\"text-align: right;\">\n",
       "      <th></th>\n",
       "      <th>user_id</th>\n",
       "      <th>age</th>\n",
       "      <th>churn_date</th>\n",
       "      <th>city</th>\n",
       "      <th>first_name</th>\n",
       "      <th>last_name</th>\n",
       "      <th>reg_date</th>\n",
       "      <th>tariff</th>\n",
       "      <th>month</th>\n",
       "      <th>duration</th>\n",
       "      <th>...</th>\n",
       "      <th>messages_included</th>\n",
       "      <th>mb_per_month_included</th>\n",
       "      <th>minutes_included</th>\n",
       "      <th>rub_monthly_fee</th>\n",
       "      <th>rub_per_gb</th>\n",
       "      <th>rub_per_message</th>\n",
       "      <th>rub_per_minute</th>\n",
       "      <th>tariff_name</th>\n",
       "      <th>gb_used</th>\n",
       "      <th>gb_per_month_included</th>\n",
       "    </tr>\n",
       "  </thead>\n",
       "  <tbody>\n",
       "    <tr>\n",
       "      <th>0</th>\n",
       "      <td>1000</td>\n",
       "      <td>52</td>\n",
       "      <td>NaN</td>\n",
       "      <td>Краснодар</td>\n",
       "      <td>Рафаил</td>\n",
       "      <td>Верещагин</td>\n",
       "      <td>2018-05-25</td>\n",
       "      <td>ultra</td>\n",
       "      <td>5</td>\n",
       "      <td>159</td>\n",
       "      <td>...</td>\n",
       "      <td>1000</td>\n",
       "      <td>30720</td>\n",
       "      <td>3000</td>\n",
       "      <td>1950</td>\n",
       "      <td>150</td>\n",
       "      <td>1</td>\n",
       "      <td>1</td>\n",
       "      <td>ultra</td>\n",
       "      <td>3</td>\n",
       "      <td>30</td>\n",
       "    </tr>\n",
       "    <tr>\n",
       "      <th>1</th>\n",
       "      <td>1000</td>\n",
       "      <td>52</td>\n",
       "      <td>NaN</td>\n",
       "      <td>Краснодар</td>\n",
       "      <td>Рафаил</td>\n",
       "      <td>Верещагин</td>\n",
       "      <td>2018-05-25</td>\n",
       "      <td>ultra</td>\n",
       "      <td>6</td>\n",
       "      <td>172</td>\n",
       "      <td>...</td>\n",
       "      <td>1000</td>\n",
       "      <td>30720</td>\n",
       "      <td>3000</td>\n",
       "      <td>1950</td>\n",
       "      <td>150</td>\n",
       "      <td>1</td>\n",
       "      <td>1</td>\n",
       "      <td>ultra</td>\n",
       "      <td>23</td>\n",
       "      <td>30</td>\n",
       "    </tr>\n",
       "    <tr>\n",
       "      <th>2</th>\n",
       "      <td>1000</td>\n",
       "      <td>52</td>\n",
       "      <td>NaN</td>\n",
       "      <td>Краснодар</td>\n",
       "      <td>Рафаил</td>\n",
       "      <td>Верещагин</td>\n",
       "      <td>2018-05-25</td>\n",
       "      <td>ultra</td>\n",
       "      <td>7</td>\n",
       "      <td>340</td>\n",
       "      <td>...</td>\n",
       "      <td>1000</td>\n",
       "      <td>30720</td>\n",
       "      <td>3000</td>\n",
       "      <td>1950</td>\n",
       "      <td>150</td>\n",
       "      <td>1</td>\n",
       "      <td>1</td>\n",
       "      <td>ultra</td>\n",
       "      <td>14</td>\n",
       "      <td>30</td>\n",
       "    </tr>\n",
       "    <tr>\n",
       "      <th>3</th>\n",
       "      <td>1000</td>\n",
       "      <td>52</td>\n",
       "      <td>NaN</td>\n",
       "      <td>Краснодар</td>\n",
       "      <td>Рафаил</td>\n",
       "      <td>Верещагин</td>\n",
       "      <td>2018-05-25</td>\n",
       "      <td>ultra</td>\n",
       "      <td>8</td>\n",
       "      <td>408</td>\n",
       "      <td>...</td>\n",
       "      <td>1000</td>\n",
       "      <td>30720</td>\n",
       "      <td>3000</td>\n",
       "      <td>1950</td>\n",
       "      <td>150</td>\n",
       "      <td>1</td>\n",
       "      <td>1</td>\n",
       "      <td>ultra</td>\n",
       "      <td>14</td>\n",
       "      <td>30</td>\n",
       "    </tr>\n",
       "    <tr>\n",
       "      <th>4</th>\n",
       "      <td>1000</td>\n",
       "      <td>52</td>\n",
       "      <td>NaN</td>\n",
       "      <td>Краснодар</td>\n",
       "      <td>Рафаил</td>\n",
       "      <td>Верещагин</td>\n",
       "      <td>2018-05-25</td>\n",
       "      <td>ultra</td>\n",
       "      <td>9</td>\n",
       "      <td>466</td>\n",
       "      <td>...</td>\n",
       "      <td>1000</td>\n",
       "      <td>30720</td>\n",
       "      <td>3000</td>\n",
       "      <td>1950</td>\n",
       "      <td>150</td>\n",
       "      <td>1</td>\n",
       "      <td>1</td>\n",
       "      <td>ultra</td>\n",
       "      <td>15</td>\n",
       "      <td>30</td>\n",
       "    </tr>\n",
       "  </tbody>\n",
       "</table>\n",
       "<p>5 rows × 22 columns</p>\n",
       "</div>"
      ],
      "text/plain": [
       "   user_id  age churn_date       city first_name  last_name    reg_date  \\\n",
       "0     1000   52        NaN  Краснодар     Рафаил  Верещагин  2018-05-25   \n",
       "1     1000   52        NaN  Краснодар     Рафаил  Верещагин  2018-05-25   \n",
       "2     1000   52        NaN  Краснодар     Рафаил  Верещагин  2018-05-25   \n",
       "3     1000   52        NaN  Краснодар     Рафаил  Верещагин  2018-05-25   \n",
       "4     1000   52        NaN  Краснодар     Рафаил  Верещагин  2018-05-25   \n",
       "\n",
       "  tariff  month  duration  ...  messages_included  mb_per_month_included  \\\n",
       "0  ultra      5       159  ...               1000                  30720   \n",
       "1  ultra      6       172  ...               1000                  30720   \n",
       "2  ultra      7       340  ...               1000                  30720   \n",
       "3  ultra      8       408  ...               1000                  30720   \n",
       "4  ultra      9       466  ...               1000                  30720   \n",
       "\n",
       "   minutes_included  rub_monthly_fee  rub_per_gb  rub_per_message  \\\n",
       "0              3000             1950         150                1   \n",
       "1              3000             1950         150                1   \n",
       "2              3000             1950         150                1   \n",
       "3              3000             1950         150                1   \n",
       "4              3000             1950         150                1   \n",
       "\n",
       "   rub_per_minute  tariff_name  gb_used gb_per_month_included  \n",
       "0               1        ultra        3                    30  \n",
       "1               1        ultra       23                    30  \n",
       "2               1        ultra       14                    30  \n",
       "3               1        ultra       14                    30  \n",
       "4               1        ultra       15                    30  \n",
       "\n",
       "[5 rows x 22 columns]"
      ]
     },
     "execution_count": 30,
     "metadata": {},
     "output_type": "execute_result"
    }
   ],
   "source": [
    "df.head()"
   ]
  },
  {
   "cell_type": "markdown",
   "metadata": {},
   "source": [
    "To test the hypothesis about which plan brings in more revenue, let's create a column with the revenue calculation for each user. To do this, we'll create a function that compares the volume of services consumed with the volume included in each plan."
   ]
  },
  {
   "cell_type": "code",
   "execution_count": 31,
   "metadata": {},
   "outputs": [],
   "source": [
    "# revenue calculating function that iterates each row and compares the volume of provided services with those included in the tariff plan\n",
    "def revenue(row):\n",
    "    subscription_fee = row['rub_monthly_fee']\n",
    "    revenue_per_call = 0\n",
    "    revenue_per_messages = 0\n",
    "    revenue_per_gb = 0\n",
    "    if row['duration'] > row['minutes_included']:\n",
    "        revenue_per_call += row['rub_per_minute'] * (row['duration'] - row['minutes_included'])\n",
    "    if row['duration'] <= row['minutes_included']:\n",
    "        revenue_per_call += revenue_per_call\n",
    "    if row['messages'] > row['messages_included']:\n",
    "        revenue_per_messages += row['rub_per_message'] * (row['messages'] - row['messages_included'])\n",
    "    if row['messages'] <= row['messages_included']:\n",
    "        revenue_per_messages += revenue_per_messages\n",
    "    if row['gb_used'] > row['gb_per_month_included']:\n",
    "        revenue_per_gb += row['rub_per_gb'] * (row['gb_used'] - row['gb_per_month_included'])\n",
    "    if row['gb_used'] <= row['gb_per_month_included']:\n",
    "        revenue_per_gb += revenue_per_gb\n",
    "    return revenue_per_call + revenue_per_messages + revenue_per_gb + subscription_fee"
   ]
  },
  {
   "cell_type": "code",
   "execution_count": 32,
   "metadata": {},
   "outputs": [],
   "source": [
    "# creating a column with the revenue\n",
    "df['monthly_revenue'] = df.apply(revenue, axis=1)"
   ]
  },
  {
   "cell_type": "code",
   "execution_count": 33,
   "metadata": {},
   "outputs": [
    {
     "data": {
      "text/html": [
       "<div>\n",
       "<style scoped>\n",
       "    .dataframe tbody tr th:only-of-type {\n",
       "        vertical-align: middle;\n",
       "    }\n",
       "\n",
       "    .dataframe tbody tr th {\n",
       "        vertical-align: top;\n",
       "    }\n",
       "\n",
       "    .dataframe thead th {\n",
       "        text-align: right;\n",
       "    }\n",
       "</style>\n",
       "<table border=\"1\" class=\"dataframe\">\n",
       "  <thead>\n",
       "    <tr style=\"text-align: right;\">\n",
       "      <th></th>\n",
       "      <th>user_id</th>\n",
       "      <th>age</th>\n",
       "      <th>churn_date</th>\n",
       "      <th>city</th>\n",
       "      <th>first_name</th>\n",
       "      <th>last_name</th>\n",
       "      <th>reg_date</th>\n",
       "      <th>tariff</th>\n",
       "      <th>month</th>\n",
       "      <th>duration</th>\n",
       "      <th>mb_used</th>\n",
       "      <th>messages</th>\n",
       "      <th>messages_included</th>\n",
       "      <th>mb_per_month_included</th>\n",
       "      <th>minutes_included</th>\n",
       "      <th>rub_monthly_fee</th>\n",
       "      <th>rub_per_gb</th>\n",
       "      <th>rub_per_message</th>\n",
       "      <th>rub_per_minute</th>\n",
       "      <th>tariff_name</th>\n",
       "      <th>gb_used</th>\n",
       "      <th>gb_per_month_included</th>\n",
       "      <th>monthly_revenue</th>\n",
       "    </tr>\n",
       "  </thead>\n",
       "  <tbody>\n",
       "    <tr>\n",
       "      <th>50</th>\n",
       "      <td>1024</td>\n",
       "      <td>73</td>\n",
       "      <td>NaN</td>\n",
       "      <td>Санкт-Петербург</td>\n",
       "      <td>Иулиан</td>\n",
       "      <td>Антипов</td>\n",
       "      <td>2018-10-31</td>\n",
       "      <td>ultra</td>\n",
       "      <td>11</td>\n",
       "      <td>1146</td>\n",
       "      <td>43107.47</td>\n",
       "      <td>0</td>\n",
       "      <td>1000</td>\n",
       "      <td>30720</td>\n",
       "      <td>3000</td>\n",
       "      <td>1950</td>\n",
       "      <td>150</td>\n",
       "      <td>1</td>\n",
       "      <td>1</td>\n",
       "      <td>ultra</td>\n",
       "      <td>43</td>\n",
       "      <td>30</td>\n",
       "      <td>3900</td>\n",
       "    </tr>\n",
       "    <tr>\n",
       "      <th>51</th>\n",
       "      <td>1024</td>\n",
       "      <td>73</td>\n",
       "      <td>NaN</td>\n",
       "      <td>Санкт-Петербург</td>\n",
       "      <td>Иулиан</td>\n",
       "      <td>Антипов</td>\n",
       "      <td>2018-10-31</td>\n",
       "      <td>ultra</td>\n",
       "      <td>12</td>\n",
       "      <td>949</td>\n",
       "      <td>35948.13</td>\n",
       "      <td>0</td>\n",
       "      <td>1000</td>\n",
       "      <td>30720</td>\n",
       "      <td>3000</td>\n",
       "      <td>1950</td>\n",
       "      <td>150</td>\n",
       "      <td>1</td>\n",
       "      <td>1</td>\n",
       "      <td>ultra</td>\n",
       "      <td>36</td>\n",
       "      <td>30</td>\n",
       "      <td>2850</td>\n",
       "    </tr>\n",
       "    <tr>\n",
       "      <th>78</th>\n",
       "      <td>1050</td>\n",
       "      <td>44</td>\n",
       "      <td>2018-10-03</td>\n",
       "      <td>Тюмень</td>\n",
       "      <td>Рузана</td>\n",
       "      <td>Аничкина</td>\n",
       "      <td>2018-06-16</td>\n",
       "      <td>ultra</td>\n",
       "      <td>7</td>\n",
       "      <td>209</td>\n",
       "      <td>35177.91</td>\n",
       "      <td>52</td>\n",
       "      <td>1000</td>\n",
       "      <td>30720</td>\n",
       "      <td>3000</td>\n",
       "      <td>1950</td>\n",
       "      <td>150</td>\n",
       "      <td>1</td>\n",
       "      <td>1</td>\n",
       "      <td>ultra</td>\n",
       "      <td>35</td>\n",
       "      <td>30</td>\n",
       "      <td>2700</td>\n",
       "    </tr>\n",
       "    <tr>\n",
       "      <th>97</th>\n",
       "      <td>1060</td>\n",
       "      <td>46</td>\n",
       "      <td>NaN</td>\n",
       "      <td>Калуга</td>\n",
       "      <td>Яков</td>\n",
       "      <td>Рудаков</td>\n",
       "      <td>2018-11-24</td>\n",
       "      <td>ultra</td>\n",
       "      <td>12</td>\n",
       "      <td>1233</td>\n",
       "      <td>43931.36</td>\n",
       "      <td>52</td>\n",
       "      <td>1000</td>\n",
       "      <td>30720</td>\n",
       "      <td>3000</td>\n",
       "      <td>1950</td>\n",
       "      <td>150</td>\n",
       "      <td>1</td>\n",
       "      <td>1</td>\n",
       "      <td>ultra</td>\n",
       "      <td>43</td>\n",
       "      <td>30</td>\n",
       "      <td>3900</td>\n",
       "    </tr>\n",
       "    <tr>\n",
       "      <th>228</th>\n",
       "      <td>1124</td>\n",
       "      <td>54</td>\n",
       "      <td>NaN</td>\n",
       "      <td>Махачкала</td>\n",
       "      <td>Альбин</td>\n",
       "      <td>Андрианов</td>\n",
       "      <td>2018-09-24</td>\n",
       "      <td>ultra</td>\n",
       "      <td>10</td>\n",
       "      <td>1225</td>\n",
       "      <td>49745.69</td>\n",
       "      <td>121</td>\n",
       "      <td>1000</td>\n",
       "      <td>30720</td>\n",
       "      <td>3000</td>\n",
       "      <td>1950</td>\n",
       "      <td>150</td>\n",
       "      <td>1</td>\n",
       "      <td>1</td>\n",
       "      <td>ultra</td>\n",
       "      <td>49</td>\n",
       "      <td>30</td>\n",
       "      <td>4800</td>\n",
       "    </tr>\n",
       "    <tr>\n",
       "      <th>...</th>\n",
       "      <td>...</td>\n",
       "      <td>...</td>\n",
       "      <td>...</td>\n",
       "      <td>...</td>\n",
       "      <td>...</td>\n",
       "      <td>...</td>\n",
       "      <td>...</td>\n",
       "      <td>...</td>\n",
       "      <td>...</td>\n",
       "      <td>...</td>\n",
       "      <td>...</td>\n",
       "      <td>...</td>\n",
       "      <td>...</td>\n",
       "      <td>...</td>\n",
       "      <td>...</td>\n",
       "      <td>...</td>\n",
       "      <td>...</td>\n",
       "      <td>...</td>\n",
       "      <td>...</td>\n",
       "      <td>...</td>\n",
       "      <td>...</td>\n",
       "      <td>...</td>\n",
       "      <td>...</td>\n",
       "    </tr>\n",
       "    <tr>\n",
       "      <th>3210</th>\n",
       "      <td>1498</td>\n",
       "      <td>68</td>\n",
       "      <td>2018-10-25</td>\n",
       "      <td>Владикавказ</td>\n",
       "      <td>Всеволод</td>\n",
       "      <td>Акимчин</td>\n",
       "      <td>2018-07-19</td>\n",
       "      <td>smart</td>\n",
       "      <td>9</td>\n",
       "      <td>471</td>\n",
       "      <td>22134.41</td>\n",
       "      <td>44</td>\n",
       "      <td>50</td>\n",
       "      <td>15360</td>\n",
       "      <td>500</td>\n",
       "      <td>550</td>\n",
       "      <td>200</td>\n",
       "      <td>3</td>\n",
       "      <td>3</td>\n",
       "      <td>smart</td>\n",
       "      <td>22</td>\n",
       "      <td>15</td>\n",
       "      <td>1950</td>\n",
       "    </tr>\n",
       "    <tr>\n",
       "      <th>3211</th>\n",
       "      <td>1498</td>\n",
       "      <td>68</td>\n",
       "      <td>2018-10-25</td>\n",
       "      <td>Владикавказ</td>\n",
       "      <td>Всеволод</td>\n",
       "      <td>Акимчин</td>\n",
       "      <td>2018-07-19</td>\n",
       "      <td>smart</td>\n",
       "      <td>10</td>\n",
       "      <td>247</td>\n",
       "      <td>20579.36</td>\n",
       "      <td>42</td>\n",
       "      <td>50</td>\n",
       "      <td>15360</td>\n",
       "      <td>500</td>\n",
       "      <td>550</td>\n",
       "      <td>200</td>\n",
       "      <td>3</td>\n",
       "      <td>3</td>\n",
       "      <td>smart</td>\n",
       "      <td>21</td>\n",
       "      <td>15</td>\n",
       "      <td>1750</td>\n",
       "    </tr>\n",
       "    <tr>\n",
       "      <th>3213</th>\n",
       "      <td>1499</td>\n",
       "      <td>35</td>\n",
       "      <td>NaN</td>\n",
       "      <td>Пермь</td>\n",
       "      <td>Гектор</td>\n",
       "      <td>Корнилов</td>\n",
       "      <td>2018-09-27</td>\n",
       "      <td>smart</td>\n",
       "      <td>10</td>\n",
       "      <td>449</td>\n",
       "      <td>17788.51</td>\n",
       "      <td>48</td>\n",
       "      <td>50</td>\n",
       "      <td>15360</td>\n",
       "      <td>500</td>\n",
       "      <td>550</td>\n",
       "      <td>200</td>\n",
       "      <td>3</td>\n",
       "      <td>3</td>\n",
       "      <td>smart</td>\n",
       "      <td>18</td>\n",
       "      <td>15</td>\n",
       "      <td>1150</td>\n",
       "    </tr>\n",
       "    <tr>\n",
       "      <th>3214</th>\n",
       "      <td>1499</td>\n",
       "      <td>35</td>\n",
       "      <td>NaN</td>\n",
       "      <td>Пермь</td>\n",
       "      <td>Гектор</td>\n",
       "      <td>Корнилов</td>\n",
       "      <td>2018-09-27</td>\n",
       "      <td>smart</td>\n",
       "      <td>11</td>\n",
       "      <td>612</td>\n",
       "      <td>17963.31</td>\n",
       "      <td>59</td>\n",
       "      <td>50</td>\n",
       "      <td>15360</td>\n",
       "      <td>500</td>\n",
       "      <td>550</td>\n",
       "      <td>200</td>\n",
       "      <td>3</td>\n",
       "      <td>3</td>\n",
       "      <td>smart</td>\n",
       "      <td>18</td>\n",
       "      <td>15</td>\n",
       "      <td>1513</td>\n",
       "    </tr>\n",
       "    <tr>\n",
       "      <th>3215</th>\n",
       "      <td>1499</td>\n",
       "      <td>35</td>\n",
       "      <td>NaN</td>\n",
       "      <td>Пермь</td>\n",
       "      <td>Гектор</td>\n",
       "      <td>Корнилов</td>\n",
       "      <td>2018-09-27</td>\n",
       "      <td>smart</td>\n",
       "      <td>12</td>\n",
       "      <td>492</td>\n",
       "      <td>13055.58</td>\n",
       "      <td>66</td>\n",
       "      <td>50</td>\n",
       "      <td>15360</td>\n",
       "      <td>500</td>\n",
       "      <td>550</td>\n",
       "      <td>200</td>\n",
       "      <td>3</td>\n",
       "      <td>3</td>\n",
       "      <td>smart</td>\n",
       "      <td>13</td>\n",
       "      <td>15</td>\n",
       "      <td>598</td>\n",
       "    </tr>\n",
       "  </tbody>\n",
       "</table>\n",
       "<p>1796 rows × 23 columns</p>\n",
       "</div>"
      ],
      "text/plain": [
       "      user_id  age  churn_date             city first_name  last_name  \\\n",
       "50       1024   73         NaN  Санкт-Петербург     Иулиан    Антипов   \n",
       "51       1024   73         NaN  Санкт-Петербург     Иулиан    Антипов   \n",
       "78       1050   44  2018-10-03           Тюмень     Рузана   Аничкина   \n",
       "97       1060   46         NaN           Калуга       Яков    Рудаков   \n",
       "228      1124   54         NaN        Махачкала     Альбин  Андрианов   \n",
       "...       ...  ...         ...              ...        ...        ...   \n",
       "3210     1498   68  2018-10-25      Владикавказ   Всеволод    Акимчин   \n",
       "3211     1498   68  2018-10-25      Владикавказ   Всеволод    Акимчин   \n",
       "3213     1499   35         NaN            Пермь     Гектор   Корнилов   \n",
       "3214     1499   35         NaN            Пермь     Гектор   Корнилов   \n",
       "3215     1499   35         NaN            Пермь     Гектор   Корнилов   \n",
       "\n",
       "        reg_date tariff  month  duration   mb_used  messages  \\\n",
       "50    2018-10-31  ultra     11      1146  43107.47         0   \n",
       "51    2018-10-31  ultra     12       949  35948.13         0   \n",
       "78    2018-06-16  ultra      7       209  35177.91        52   \n",
       "97    2018-11-24  ultra     12      1233  43931.36        52   \n",
       "228   2018-09-24  ultra     10      1225  49745.69       121   \n",
       "...          ...    ...    ...       ...       ...       ...   \n",
       "3210  2018-07-19  smart      9       471  22134.41        44   \n",
       "3211  2018-07-19  smart     10       247  20579.36        42   \n",
       "3213  2018-09-27  smart     10       449  17788.51        48   \n",
       "3214  2018-09-27  smart     11       612  17963.31        59   \n",
       "3215  2018-09-27  smart     12       492  13055.58        66   \n",
       "\n",
       "      messages_included  mb_per_month_included  minutes_included  \\\n",
       "50                 1000                  30720              3000   \n",
       "51                 1000                  30720              3000   \n",
       "78                 1000                  30720              3000   \n",
       "97                 1000                  30720              3000   \n",
       "228                1000                  30720              3000   \n",
       "...                 ...                    ...               ...   \n",
       "3210                 50                  15360               500   \n",
       "3211                 50                  15360               500   \n",
       "3213                 50                  15360               500   \n",
       "3214                 50                  15360               500   \n",
       "3215                 50                  15360               500   \n",
       "\n",
       "      rub_monthly_fee  rub_per_gb  rub_per_message  rub_per_minute  \\\n",
       "50               1950         150                1               1   \n",
       "51               1950         150                1               1   \n",
       "78               1950         150                1               1   \n",
       "97               1950         150                1               1   \n",
       "228              1950         150                1               1   \n",
       "...               ...         ...              ...             ...   \n",
       "3210              550         200                3               3   \n",
       "3211              550         200                3               3   \n",
       "3213              550         200                3               3   \n",
       "3214              550         200                3               3   \n",
       "3215              550         200                3               3   \n",
       "\n",
       "     tariff_name  gb_used  gb_per_month_included  monthly_revenue  \n",
       "50         ultra       43                     30             3900  \n",
       "51         ultra       36                     30             2850  \n",
       "78         ultra       35                     30             2700  \n",
       "97         ultra       43                     30             3900  \n",
       "228        ultra       49                     30             4800  \n",
       "...          ...      ...                    ...              ...  \n",
       "3210       smart       22                     15             1950  \n",
       "3211       smart       21                     15             1750  \n",
       "3213       smart       18                     15             1150  \n",
       "3214       smart       18                     15             1513  \n",
       "3215       smart       13                     15              598  \n",
       "\n",
       "[1796 rows x 23 columns]"
      ]
     },
     "execution_count": 33,
     "metadata": {},
     "output_type": "execute_result"
    }
   ],
   "source": [
    "# check\n",
    "pd.set_option('max_columns', 23)\n",
    "df.query('duration > minutes_included or messages > messages_included or gb_used > gb_per_month_included')"
   ]
  },
  {
   "cell_type": "markdown",
   "metadata": {},
   "source": [
    "### Conclusions"
   ]
  },
  {
   "cell_type": "markdown",
   "metadata": {},
   "source": [
    "* **Month columns were created in the tables of service volumes. Pivot tables were then created for calls, traffic volume, and number of messages sent, grouped by unique customer ID and month. A common dataframe containing information about users was created;**\n",
    "* **In the resulting dataset, missing values were identified and filled in. Missing values in the volume of services can mean that these customers didn't send messages, didn't make calls, and didn't use mobile Internet. Missing values in such columns are filled with zeros;**\n",
    "* **Two users who churned in December 2018 were identified in the dataset. The NANs for these users are filled with December values, as the tariff fee is typically charged at the time of signing up for the tariff plan;**\n",
    "* **Monthly traffic volume consumed and included in the plan is converted to gigabytes. The columns with the volume of service provided and month have been converted to integer type;**\n",
    "* **To determine a more perspective tariff plan, a column with the amount of revenue has been added to the dataframe.**"
   ]
  },
  {
   "cell_type": "markdown",
   "metadata": {},
   "source": [
    "## EDA"
   ]
  },
  {
   "cell_type": "markdown",
   "metadata": {},
   "source": [
    "The first step of EDA is to create a histogram of sent messages, call duration, and gigabyte usage for each of the rate plans."
   ]
  },
  {
   "cell_type": "code",
   "execution_count": 34,
   "metadata": {},
   "outputs": [
    {
     "data": {
      "image/png": "[encoded data removed]",
      "text/plain": [
       "<Figure size 864x288 with 2 Axes>"
      ]
     },
     "metadata": {
      "needs_background": "light"
     },
     "output_type": "display_data"
    },
    {
     "data": {
      "image/png": "[encoded data removed]",
      "text/plain": [
       "<Figure size 864x288 with 2 Axes>"
      ]
     },
     "metadata": {
      "needs_background": "light"
     },
     "output_type": "display_data"
    },
    {
     "data": {
      "image/png": "[encoded data removed]",
      "text/plain": [
       "<Figure size 864x288 with 2 Axes>"
      ]
     },
     "metadata": {
      "needs_background": "light"
     },
     "output_type": "display_data"
    }
   ],
   "source": [
    "# columns list\n",
    "hist_plots = ['messages', 'duration', 'gb_used']\n",
    "# plotting histograms with a loop\n",
    "for column in hist_plots:\n",
    "    ax = df.hist(legend=True, by='tariff', column=column, figsize=(12,4))\n",
    "    for x in ax:\n",
    "        x.set_xlabel('Amount of services consumed', size=12)\n",
    "        x.set_ylabel('Number of users', size=12)\n",
    "    plt.show()"
   ]
  },
  {
   "cell_type": "code",
   "execution_count": 35,
   "metadata": {},
   "outputs": [
    {
     "data": {
      "text/html": [
       "<div>\n",
       "<style scoped>\n",
       "    .dataframe tbody tr th:only-of-type {\n",
       "        vertical-align: middle;\n",
       "    }\n",
       "\n",
       "    .dataframe tbody tr th {\n",
       "        vertical-align: top;\n",
       "    }\n",
       "\n",
       "    .dataframe thead tr th {\n",
       "        text-align: left;\n",
       "    }\n",
       "\n",
       "    .dataframe thead tr:last-of-type th {\n",
       "        text-align: right;\n",
       "    }\n",
       "</style>\n",
       "<table border=\"1\" class=\"dataframe\">\n",
       "  <thead>\n",
       "    <tr>\n",
       "      <th></th>\n",
       "      <th colspan=\"4\" halign=\"left\">duration</th>\n",
       "      <th colspan=\"4\" halign=\"left\">gb_used</th>\n",
       "      <th colspan=\"4\" halign=\"left\">messages</th>\n",
       "    </tr>\n",
       "    <tr>\n",
       "      <th></th>\n",
       "      <th>count</th>\n",
       "      <th>mean</th>\n",
       "      <th>std</th>\n",
       "      <th>var</th>\n",
       "      <th>count</th>\n",
       "      <th>mean</th>\n",
       "      <th>std</th>\n",
       "      <th>var</th>\n",
       "      <th>count</th>\n",
       "      <th>mean</th>\n",
       "      <th>std</th>\n",
       "      <th>var</th>\n",
       "    </tr>\n",
       "    <tr>\n",
       "      <th>tariff_name</th>\n",
       "      <th></th>\n",
       "      <th></th>\n",
       "      <th></th>\n",
       "      <th></th>\n",
       "      <th></th>\n",
       "      <th></th>\n",
       "      <th></th>\n",
       "      <th></th>\n",
       "      <th></th>\n",
       "      <th></th>\n",
       "      <th></th>\n",
       "      <th></th>\n",
       "    </tr>\n",
       "  </thead>\n",
       "  <tbody>\n",
       "    <tr>\n",
       "      <th>smart</th>\n",
       "      <td>2230.0</td>\n",
       "      <td>417.75</td>\n",
       "      <td>190.48</td>\n",
       "      <td>36281.39</td>\n",
       "      <td>2230.0</td>\n",
       "      <td>16.32</td>\n",
       "      <td>5.76</td>\n",
       "      <td>33.13</td>\n",
       "      <td>2230.0</td>\n",
       "      <td>33.37</td>\n",
       "      <td>28.23</td>\n",
       "      <td>796.96</td>\n",
       "    </tr>\n",
       "    <tr>\n",
       "      <th>ultra</th>\n",
       "      <td>986.0</td>\n",
       "      <td>526.09</td>\n",
       "      <td>317.89</td>\n",
       "      <td>101052.49</td>\n",
       "      <td>986.0</td>\n",
       "      <td>19.47</td>\n",
       "      <td>9.87</td>\n",
       "      <td>97.38</td>\n",
       "      <td>986.0</td>\n",
       "      <td>49.31</td>\n",
       "      <td>47.81</td>\n",
       "      <td>2285.42</td>\n",
       "    </tr>\n",
       "  </tbody>\n",
       "</table>\n",
       "</div>"
      ],
      "text/plain": [
       "            duration                            gb_used                      \\\n",
       "               count    mean     std        var   count   mean   std    var   \n",
       "tariff_name                                                                   \n",
       "smart         2230.0  417.75  190.48   36281.39  2230.0  16.32  5.76  33.13   \n",
       "ultra          986.0  526.09  317.89  101052.49   986.0  19.47  9.87  97.38   \n",
       "\n",
       "            messages                         \n",
       "               count   mean    std      var  \n",
       "tariff_name                                  \n",
       "smart         2230.0  33.37  28.23   796.96  \n",
       "ultra          986.0  49.31  47.81  2285.42  "
      ]
     },
     "execution_count": 35,
     "metadata": {},
     "output_type": "execute_result"
    }
   ],
   "source": [
    "# calculating var, std and mean\n",
    "df.pivot_table(index='tariff_name', values=['messages', 'duration', 'gb_used'], aggfunc=('mean', 'var', 'std', 'count')).round(2)"
   ]
  },
  {
   "cell_type": "markdown",
   "metadata": {},
   "source": [
    "* User behavior by number of messages sent for the two tariffs is skewed to the right - the behavior of the two groups is similar. It should be noted that there are Smart tariff users who exceed the set limits (~30% of users), while no Ultra tariff user has exceeded the limit of 1000 messages. More than 50% of the tariff users send about the same number of messages per month (60). The column with the number of messages sent is characterized by a high spread in relation to the average value, which may indicate a different user behavior (perhaps the age group of customers uses this service differently). Most users require about 60 messages per month.\n",
    "* The histograms of user behavior by call duration are also skewed to the right. Note that users' behavior is similar to the way they send messages. There are users of smart tariffs who exceed the limits set in the package (their share is ~ 20%). At the same time, none of the Ultra tariff users exceeded the limits set in the provided package. Users of smart tariffs mostly do not use more than 700 minutes, while users of ultra tariffs use only 1000 minutes. The duration of calls is also characterized by a wide range of relative averages.\n",
    "* The histograms by number of gigabytes spent are also skewed to the right. Users of smart tariffs are more likely to exceed the limits set by the tariff. The share of these users is ~50%. This may indicate that the users do not have enough traffic volume. The proportion of Ultra tariff users who exceed the limits is lower than that of Smart tariff users. The traffic volume consumed is also characterized by a high spread relative to the average."
   ]
  },
  {
   "cell_type": "markdown",
   "metadata": {},
   "source": [
    "Let's see how users behave depending on their age. We will divide the age range into 5 equal groups. For the analysis, we use the median because the distributions are characterized by a high spread of the relative mean."
   ]
  },
  {
   "cell_type": "code",
   "execution_count": 36,
   "metadata": {},
   "outputs": [],
   "source": [
    "# cutting into groups\n",
    "df['age_group'] = pd.qcut(df['age'], 5)"
   ]
  },
  {
   "cell_type": "code",
   "execution_count": 37,
   "metadata": {},
   "outputs": [
    {
     "data": {
      "text/html": [
       "<div>\n",
       "<style scoped>\n",
       "    .dataframe tbody tr th:only-of-type {\n",
       "        vertical-align: middle;\n",
       "    }\n",
       "\n",
       "    .dataframe tbody tr th {\n",
       "        vertical-align: top;\n",
       "    }\n",
       "\n",
       "    .dataframe thead th {\n",
       "        text-align: right;\n",
       "    }\n",
       "</style>\n",
       "<table border=\"1\" class=\"dataframe\">\n",
       "  <thead>\n",
       "    <tr style=\"text-align: right;\">\n",
       "      <th></th>\n",
       "      <th></th>\n",
       "      <th>duration</th>\n",
       "      <th>gb_used</th>\n",
       "      <th>messages</th>\n",
       "    </tr>\n",
       "    <tr>\n",
       "      <th>tariff_name</th>\n",
       "      <th>age_group</th>\n",
       "      <th></th>\n",
       "      <th></th>\n",
       "      <th></th>\n",
       "    </tr>\n",
       "  </thead>\n",
       "  <tbody>\n",
       "    <tr>\n",
       "      <th rowspan=\"5\" valign=\"top\">smart</th>\n",
       "      <th>(17.999, 29.0]</th>\n",
       "      <td>416.0</td>\n",
       "      <td>17</td>\n",
       "      <td>24.0</td>\n",
       "    </tr>\n",
       "    <tr>\n",
       "      <th>(29.0, 41.0]</th>\n",
       "      <td>395.0</td>\n",
       "      <td>17</td>\n",
       "      <td>26.0</td>\n",
       "    </tr>\n",
       "    <tr>\n",
       "      <th>(41.0, 52.0]</th>\n",
       "      <td>429.0</td>\n",
       "      <td>16</td>\n",
       "      <td>28.0</td>\n",
       "    </tr>\n",
       "    <tr>\n",
       "      <th>(52.0, 64.0]</th>\n",
       "      <td>425.5</td>\n",
       "      <td>17</td>\n",
       "      <td>30.0</td>\n",
       "    </tr>\n",
       "    <tr>\n",
       "      <th>(64.0, 75.0]</th>\n",
       "      <td>452.5</td>\n",
       "      <td>17</td>\n",
       "      <td>32.0</td>\n",
       "    </tr>\n",
       "    <tr>\n",
       "      <th rowspan=\"5\" valign=\"top\">ultra</th>\n",
       "      <th>(17.999, 29.0]</th>\n",
       "      <td>416.5</td>\n",
       "      <td>21</td>\n",
       "      <td>51.0</td>\n",
       "    </tr>\n",
       "    <tr>\n",
       "      <th>(29.0, 41.0]</th>\n",
       "      <td>521.0</td>\n",
       "      <td>16</td>\n",
       "      <td>28.0</td>\n",
       "    </tr>\n",
       "    <tr>\n",
       "      <th>(41.0, 52.0]</th>\n",
       "      <td>581.0</td>\n",
       "      <td>18</td>\n",
       "      <td>25.0</td>\n",
       "    </tr>\n",
       "    <tr>\n",
       "      <th>(52.0, 64.0]</th>\n",
       "      <td>563.0</td>\n",
       "      <td>19</td>\n",
       "      <td>49.0</td>\n",
       "    </tr>\n",
       "    <tr>\n",
       "      <th>(64.0, 75.0]</th>\n",
       "      <td>533.0</td>\n",
       "      <td>21</td>\n",
       "      <td>26.5</td>\n",
       "    </tr>\n",
       "  </tbody>\n",
       "</table>\n",
       "</div>"
      ],
      "text/plain": [
       "                            duration  gb_used  messages\n",
       "tariff_name age_group                                  \n",
       "smart       (17.999, 29.0]     416.0       17      24.0\n",
       "            (29.0, 41.0]       395.0       17      26.0\n",
       "            (41.0, 52.0]       429.0       16      28.0\n",
       "            (52.0, 64.0]       425.5       17      30.0\n",
       "            (64.0, 75.0]       452.5       17      32.0\n",
       "ultra       (17.999, 29.0]     416.5       21      51.0\n",
       "            (29.0, 41.0]       521.0       16      28.0\n",
       "            (41.0, 52.0]       581.0       18      25.0\n",
       "            (52.0, 64.0]       563.0       19      49.0\n",
       "            (64.0, 75.0]       533.0       21      26.5"
      ]
     },
     "execution_count": 37,
     "metadata": {},
     "output_type": "execute_result"
    }
   ],
   "source": [
    "# pivot table by age and the tariff plan\n",
    "df.pivot_table(index=['tariff_name','age_group'], values=['messages', 'duration', 'gb_used'], aggfunc='median')"
   ]
  },
  {
   "cell_type": "markdown",
   "metadata": {},
   "source": [
    "In general, the behavior of the age groups of the two tariffs in terms of call duration is almost identical. With increasing age, there is a slight increase in the median of their duration. On the other hand, the volume of traffic consumed by users of smart tariffs does not change significantly by age group. The largest number of messages is sent by younger users of Ultra tariffs."
   ]
  },
  {
   "cell_type": "markdown",
   "metadata": {},
   "source": [
    "Let's look at the seasonality in the volume of services consumed."
   ]
  },
  {
   "cell_type": "code",
   "execution_count": 38,
   "metadata": {},
   "outputs": [
    {
     "data": {
      "text/html": [
       "<div>\n",
       "<style scoped>\n",
       "    .dataframe tbody tr th:only-of-type {\n",
       "        vertical-align: middle;\n",
       "    }\n",
       "\n",
       "    .dataframe tbody tr th {\n",
       "        vertical-align: top;\n",
       "    }\n",
       "\n",
       "    .dataframe thead th {\n",
       "        text-align: right;\n",
       "    }\n",
       "</style>\n",
       "<table border=\"1\" class=\"dataframe\">\n",
       "  <thead>\n",
       "    <tr style=\"text-align: right;\">\n",
       "      <th></th>\n",
       "      <th></th>\n",
       "      <th>duration</th>\n",
       "      <th>gb_used</th>\n",
       "      <th>messages</th>\n",
       "    </tr>\n",
       "    <tr>\n",
       "      <th>tariff_name</th>\n",
       "      <th>month</th>\n",
       "      <th></th>\n",
       "      <th></th>\n",
       "      <th></th>\n",
       "    </tr>\n",
       "  </thead>\n",
       "  <tbody>\n",
       "    <tr>\n",
       "      <th rowspan=\"12\" valign=\"top\">smart</th>\n",
       "      <th>1</th>\n",
       "      <td>162.5</td>\n",
       "      <td>7.0</td>\n",
       "      <td>15.0</td>\n",
       "    </tr>\n",
       "    <tr>\n",
       "      <th>2</th>\n",
       "      <td>258.0</td>\n",
       "      <td>13.0</td>\n",
       "      <td>20.0</td>\n",
       "    </tr>\n",
       "    <tr>\n",
       "      <th>3</th>\n",
       "      <td>409.0</td>\n",
       "      <td>16.0</td>\n",
       "      <td>23.0</td>\n",
       "    </tr>\n",
       "    <tr>\n",
       "      <th>4</th>\n",
       "      <td>368.5</td>\n",
       "      <td>14.0</td>\n",
       "      <td>28.0</td>\n",
       "    </tr>\n",
       "    <tr>\n",
       "      <th>5</th>\n",
       "      <td>433.0</td>\n",
       "      <td>16.0</td>\n",
       "      <td>30.0</td>\n",
       "    </tr>\n",
       "    <tr>\n",
       "      <th>6</th>\n",
       "      <td>400.0</td>\n",
       "      <td>16.0</td>\n",
       "      <td>28.0</td>\n",
       "    </tr>\n",
       "    <tr>\n",
       "      <th>7</th>\n",
       "      <td>414.0</td>\n",
       "      <td>16.0</td>\n",
       "      <td>29.0</td>\n",
       "    </tr>\n",
       "    <tr>\n",
       "      <th>8</th>\n",
       "      <td>432.0</td>\n",
       "      <td>17.0</td>\n",
       "      <td>27.0</td>\n",
       "    </tr>\n",
       "    <tr>\n",
       "      <th>9</th>\n",
       "      <td>435.0</td>\n",
       "      <td>16.0</td>\n",
       "      <td>30.0</td>\n",
       "    </tr>\n",
       "    <tr>\n",
       "      <th>10</th>\n",
       "      <td>427.5</td>\n",
       "      <td>17.0</td>\n",
       "      <td>30.0</td>\n",
       "    </tr>\n",
       "    <tr>\n",
       "      <th>11</th>\n",
       "      <td>428.5</td>\n",
       "      <td>17.0</td>\n",
       "      <td>28.0</td>\n",
       "    </tr>\n",
       "    <tr>\n",
       "      <th>12</th>\n",
       "      <td>471.0</td>\n",
       "      <td>18.0</td>\n",
       "      <td>29.0</td>\n",
       "    </tr>\n",
       "    <tr>\n",
       "      <th rowspan=\"12\" valign=\"top\">ultra</th>\n",
       "      <th>1</th>\n",
       "      <td>382.0</td>\n",
       "      <td>15.0</td>\n",
       "      <td>32.0</td>\n",
       "    </tr>\n",
       "    <tr>\n",
       "      <th>2</th>\n",
       "      <td>168.0</td>\n",
       "      <td>7.5</td>\n",
       "      <td>5.5</td>\n",
       "    </tr>\n",
       "    <tr>\n",
       "      <th>3</th>\n",
       "      <td>403.0</td>\n",
       "      <td>18.0</td>\n",
       "      <td>20.0</td>\n",
       "    </tr>\n",
       "    <tr>\n",
       "      <th>4</th>\n",
       "      <td>453.0</td>\n",
       "      <td>17.0</td>\n",
       "      <td>17.0</td>\n",
       "    </tr>\n",
       "    <tr>\n",
       "      <th>5</th>\n",
       "      <td>519.0</td>\n",
       "      <td>19.0</td>\n",
       "      <td>25.0</td>\n",
       "    </tr>\n",
       "    <tr>\n",
       "      <th>6</th>\n",
       "      <td>479.0</td>\n",
       "      <td>19.5</td>\n",
       "      <td>27.5</td>\n",
       "    </tr>\n",
       "    <tr>\n",
       "      <th>7</th>\n",
       "      <td>542.0</td>\n",
       "      <td>20.0</td>\n",
       "      <td>38.0</td>\n",
       "    </tr>\n",
       "    <tr>\n",
       "      <th>8</th>\n",
       "      <td>500.0</td>\n",
       "      <td>19.0</td>\n",
       "      <td>40.0</td>\n",
       "    </tr>\n",
       "    <tr>\n",
       "      <th>9</th>\n",
       "      <td>520.0</td>\n",
       "      <td>20.0</td>\n",
       "      <td>43.0</td>\n",
       "    </tr>\n",
       "    <tr>\n",
       "      <th>10</th>\n",
       "      <td>533.0</td>\n",
       "      <td>20.0</td>\n",
       "      <td>49.0</td>\n",
       "    </tr>\n",
       "    <tr>\n",
       "      <th>11</th>\n",
       "      <td>546.0</td>\n",
       "      <td>18.5</td>\n",
       "      <td>43.0</td>\n",
       "    </tr>\n",
       "    <tr>\n",
       "      <th>12</th>\n",
       "      <td>582.5</td>\n",
       "      <td>22.0</td>\n",
       "      <td>50.5</td>\n",
       "    </tr>\n",
       "  </tbody>\n",
       "</table>\n",
       "</div>"
      ],
      "text/plain": [
       "                   duration  gb_used  messages\n",
       "tariff_name month                             \n",
       "smart       1         162.5      7.0      15.0\n",
       "            2         258.0     13.0      20.0\n",
       "            3         409.0     16.0      23.0\n",
       "            4         368.5     14.0      28.0\n",
       "            5         433.0     16.0      30.0\n",
       "            6         400.0     16.0      28.0\n",
       "            7         414.0     16.0      29.0\n",
       "            8         432.0     17.0      27.0\n",
       "            9         435.0     16.0      30.0\n",
       "            10        427.5     17.0      30.0\n",
       "            11        428.5     17.0      28.0\n",
       "            12        471.0     18.0      29.0\n",
       "ultra       1         382.0     15.0      32.0\n",
       "            2         168.0      7.5       5.5\n",
       "            3         403.0     18.0      20.0\n",
       "            4         453.0     17.0      17.0\n",
       "            5         519.0     19.0      25.0\n",
       "            6         479.0     19.5      27.5\n",
       "            7         542.0     20.0      38.0\n",
       "            8         500.0     19.0      40.0\n",
       "            9         520.0     20.0      43.0\n",
       "            10        533.0     20.0      49.0\n",
       "            11        546.0     18.5      43.0\n",
       "            12        582.5     22.0      50.5"
      ]
     },
     "execution_count": 38,
     "metadata": {},
     "output_type": "execute_result"
    }
   ],
   "source": [
    "# pivot table by month and tariff plans\n",
    "df.pivot_table(index=['tariff_name', 'month'], values=['messages', 'duration', 'gb_used'], aggfunc= 'median')"
   ]
  },
  {
   "cell_type": "markdown",
   "metadata": {},
   "source": [
    "It should be noted that the volume of services consumed increases towards the end of the year - we can assume that this is due to the beginning of the New Year, when users begin to actively congratulate each other."
   ]
  },
  {
   "cell_type": "markdown",
   "metadata": {},
   "source": [
    "### Conclusions"
   ]
  },
  {
   "cell_type": "markdown",
   "metadata": {},
   "source": [
    "* **Seasonality should be noted in the volume of services consumed - the volume increases at the end of the year. This is most likely connected with the holidays, when people try to congratulate each other on the New Year;** \n",
    "* **In general, the behavior of age groups in terms of call duration is almost identical between the two plans;**\n",
    "* **In general, the behavior of the age groups in the two tariff groups in terms of call duration is almost identical. With increasing age, there is a slight increase in the median of their duration. On the other hand, the volume of traffic consumed by users of smart tariffs does not vary significantly by age group. The youngest users of Ultra tariffs send the largest number of messages;**.\n",
    "* **For Smart tariff users it is probably necessary to expand the product line - to offer them a tariff with a higher number of messages, calls and traffic volume. For users of the Ultra tariff it is possible to reduce the limit of messages and calls included in the package. Thus, for users of the Ultra tariff it is possible to reduce the limit for the number of calls to 1000 minutes per month and the number of messages to 100;**.\n",
    "* **It should be noted that there is a need to develop personalized tariffs, i.e. the user himself can determine the number of services he needs in a month.** "
   ]
  },
  {
   "cell_type": "markdown",
   "metadata": {},
   "source": [
    "## Hypothesis testing"
   ]
  },
  {
   "cell_type": "markdown",
   "metadata": {},
   "source": [
    "### Analyzing outliers"
   ]
  },
  {
   "cell_type": "markdown",
   "metadata": {},
   "source": [
    "Before testing hypotheses about the amount of revenue generated by the two plans, the dataset should be analyzed for outliers in the amount of services consumed."
   ]
  },
  {
   "cell_type": "code",
   "execution_count": 39,
   "metadata": {},
   "outputs": [
    {
     "data": {
      "image/png": "[encoded data removed]",
      "text/plain": [
       "<Figure size 432x432 with 1 Axes>"
      ]
     },
     "metadata": {
      "needs_background": "light"
     },
     "output_type": "display_data"
    },
    {
     "data": {
      "image/png": "[encoded data removed]",
      "text/plain": [
       "<Figure size 432x432 with 1 Axes>"
      ]
     },
     "metadata": {
      "needs_background": "light"
     },
     "output_type": "display_data"
    },
    {
     "data": {
      "image/png": "[encoded data removed]",
      "text/plain": [
       "<Figure size 432x432 with 1 Axes>"
      ]
     },
     "metadata": {
      "needs_background": "light"
     },
     "output_type": "display_data"
    }
   ],
   "source": [
    "# boxplots for services consumed\n",
    "for column in hist_plots:\n",
    "    df.boxplot(column=column, figsize=(6,6), by='tariff')\n",
    "    plt.show()"
   ]
  },
  {
   "cell_type": "markdown",
   "metadata": {},
   "source": [
    "The graphs show that there are outliers in the data not for all the columns characterizing the volume of services provided. Thus, for the smart tariff, the outliers are observed in the columns:\n",
    "* in the number of messages sent;\n",
    "* in the duration of calls;\n",
    "* in the volume of Internet traffic consumed.\n",
    "\n",
    "For the number of sent messages the outliers are more than ~110 messages, for the duration of calls - more than ~900 minutes, for the amount of consumed traffic - less than ~2 and more than ~30 GB.\n",
    "\n",
    "For the Ultra tariff the outliers are observed in columns:\n",
    "* in the number of sent messages;\n",
    "* duration of calls.\n",
    "\n",
    "So, for the number of sent messages the outliers are more than ~180 messages, and for the duration of calls - more than ~1400 minutes.\n",
    "\n",
    "Let's filter the dataset based on the above outliers. To do this, calculate the upper and lower limits for outlier filtering, and create a column in the dataset that cuts off the outliers."
   ]
  },
  {
   "cell_type": "code",
   "execution_count": 40,
   "metadata": {},
   "outputs": [
    {
     "name": "stdout",
     "output_type": "stream",
     "text": [
      "Upper bound for messages (smart): 112.5\n",
      "Upper bound for calls (smart): 939.5\n",
      "Lower bound for traffic (smart): 2.5\n",
      "Upper bound for traffic (smart): 30.5\n",
      "Upper bound for messages (ultra): 187.875\n",
      "Upper bound for calls (ultra): 1455.625\n"
     ]
    }
   ],
   "source": [
    "# calculating lower and upper bounds q1-(1.5*iqr) q3+(1.5*iqr) by tariff plans\n",
    "smart_messages_upper = df.query('tariff_name == \"smart\"')['messages'].quantile(0.75) + (1.5 * (df.query('tariff_name == \"smart\"')['messages'].quantile(0.75) - df.query('tariff_name == \"smart\"')['messages'].quantile(0.25)))\n",
    "smart_duration_upper = df.query('tariff_name == \"smart\"')['duration'].quantile(0.75) + (1.5 * (df.query('tariff_name == \"smart\"')['duration'].quantile(0.75) - df.query('tariff_name == \"smart\"')['duration'].quantile(0.25)))\n",
    "smart_gb_lower = df.query('tariff_name == \"smart\"')['gb_used'].quantile(0.25) - (1.5 * (df.query('tariff_name == \"smart\"')['gb_used'].quantile(0.75) - df.query('tariff_name == \"smart\"')['gb_used'].quantile(0.25)))\n",
    "smart_gb_upper = df.query('tariff_name == \"smart\"')['gb_used'].quantile(0.75) + (1.5 * (df.query('tariff_name == \"smart\"')['gb_used'].quantile(0.75) - df.query('tariff_name == \"smart\"')['gb_used'].quantile(0.25)))\n",
    "ultra_messages_upper = df.query('tariff_name == \"ultra\"')['messages'].quantile(0.75) + (1.5 * (df.query('tariff_name == \"ultra\"')['messages'].quantile(0.75) - df.query('tariff_name == \"ultra\"')['messages'].quantile(0.25)))\n",
    "ultra_duration_upper = df.query('tariff_name == \"ultra\"')['duration'].quantile(0.75) + (1.5 * (df.query('tariff_name == \"ultra\"')['duration'].quantile(0.75) - df.query('tariff_name == \"ultra\"')['duration'].quantile(0.25)))\n",
    "print(f'Upper bound for messages (smart): {smart_messages_upper}')\n",
    "print(f'Upper bound for calls (smart): {smart_duration_upper}')\n",
    "print(f'Lower bound for traffic (smart): {smart_gb_lower}')\n",
    "print(f'Upper bound for traffic (smart): {smart_gb_upper}')\n",
    "print(f'Upper bound for messages (ultra): {ultra_messages_upper}')\n",
    "print(f'Upper bound for calls (ultra): {ultra_duration_upper}')"
   ]
  },
  {
   "cell_type": "code",
   "execution_count": 41,
   "metadata": {},
   "outputs": [],
   "source": [
    "# function which filters values (row as an argument, output - keep or not to keep the row 0/1)\n",
    "def keep_row(row):\n",
    "    if row['tariff'] == 'smart':\n",
    "        if (row['messages'] <= smart_messages_upper and row['duration'] <= smart_duration_upper and row['gb_used'] >= smart_gb_lower and row['gb_used'] <= smart_gb_upper):\n",
    "            return True\n",
    "        else:\n",
    "            return False\n",
    "    if row['tariff'] == 'ultra':\n",
    "        if (row['messages'] <= ultra_messages_upper and row['duration'] <= ultra_duration_upper):\n",
    "            return True\n",
    "        else:\n",
    "            return False"
   ]
  },
  {
   "cell_type": "code",
   "execution_count": 42,
   "metadata": {},
   "outputs": [],
   "source": [
    "# creating a column\n",
    "df['keep_row'] = df.apply(keep_row, axis=1)"
   ]
  },
  {
   "cell_type": "code",
   "execution_count": 43,
   "metadata": {},
   "outputs": [
    {
     "data": {
      "text/html": [
       "<div>\n",
       "<style scoped>\n",
       "    .dataframe tbody tr th:only-of-type {\n",
       "        vertical-align: middle;\n",
       "    }\n",
       "\n",
       "    .dataframe tbody tr th {\n",
       "        vertical-align: top;\n",
       "    }\n",
       "\n",
       "    .dataframe thead th {\n",
       "        text-align: right;\n",
       "    }\n",
       "</style>\n",
       "<table border=\"1\" class=\"dataframe\">\n",
       "  <thead>\n",
       "    <tr style=\"text-align: right;\">\n",
       "      <th></th>\n",
       "      <th>user_id</th>\n",
       "      <th>age</th>\n",
       "      <th>churn_date</th>\n",
       "      <th>city</th>\n",
       "      <th>first_name</th>\n",
       "      <th>last_name</th>\n",
       "      <th>reg_date</th>\n",
       "      <th>tariff</th>\n",
       "      <th>month</th>\n",
       "      <th>duration</th>\n",
       "      <th>mb_used</th>\n",
       "      <th>messages</th>\n",
       "      <th>messages_included</th>\n",
       "      <th>mb_per_month_included</th>\n",
       "      <th>minutes_included</th>\n",
       "      <th>rub_monthly_fee</th>\n",
       "      <th>rub_per_gb</th>\n",
       "      <th>rub_per_message</th>\n",
       "      <th>rub_per_minute</th>\n",
       "      <th>tariff_name</th>\n",
       "      <th>gb_used</th>\n",
       "      <th>gb_per_month_included</th>\n",
       "      <th>monthly_revenue</th>\n",
       "      <th>age_group</th>\n",
       "      <th>keep_row</th>\n",
       "    </tr>\n",
       "  </thead>\n",
       "  <tbody>\n",
       "    <tr>\n",
       "      <th>52</th>\n",
       "      <td>1028</td>\n",
       "      <td>20</td>\n",
       "      <td>NaN</td>\n",
       "      <td>Тверь</td>\n",
       "      <td>Рустем</td>\n",
       "      <td>Евсеев</td>\n",
       "      <td>2018-10-02</td>\n",
       "      <td>ultra</td>\n",
       "      <td>10</td>\n",
       "      <td>954</td>\n",
       "      <td>22499.75</td>\n",
       "      <td>223</td>\n",
       "      <td>1000</td>\n",
       "      <td>30720</td>\n",
       "      <td>3000</td>\n",
       "      <td>1950</td>\n",
       "      <td>150</td>\n",
       "      <td>1</td>\n",
       "      <td>1</td>\n",
       "      <td>ultra</td>\n",
       "      <td>22</td>\n",
       "      <td>30</td>\n",
       "      <td>1950</td>\n",
       "      <td>(17.999, 29.0]</td>\n",
       "      <td>False</td>\n",
       "    </tr>\n",
       "    <tr>\n",
       "      <th>285</th>\n",
       "      <td>1165</td>\n",
       "      <td>19</td>\n",
       "      <td>NaN</td>\n",
       "      <td>Самара</td>\n",
       "      <td>Алексей</td>\n",
       "      <td>Медведев</td>\n",
       "      <td>2018-10-14</td>\n",
       "      <td>ultra</td>\n",
       "      <td>11</td>\n",
       "      <td>232</td>\n",
       "      <td>42144.47</td>\n",
       "      <td>197</td>\n",
       "      <td>1000</td>\n",
       "      <td>30720</td>\n",
       "      <td>3000</td>\n",
       "      <td>1950</td>\n",
       "      <td>150</td>\n",
       "      <td>1</td>\n",
       "      <td>1</td>\n",
       "      <td>ultra</td>\n",
       "      <td>42</td>\n",
       "      <td>30</td>\n",
       "      <td>3750</td>\n",
       "      <td>(17.999, 29.0]</td>\n",
       "      <td>False</td>\n",
       "    </tr>\n",
       "    <tr>\n",
       "      <th>286</th>\n",
       "      <td>1165</td>\n",
       "      <td>19</td>\n",
       "      <td>NaN</td>\n",
       "      <td>Самара</td>\n",
       "      <td>Алексей</td>\n",
       "      <td>Медведев</td>\n",
       "      <td>2018-10-14</td>\n",
       "      <td>ultra</td>\n",
       "      <td>12</td>\n",
       "      <td>278</td>\n",
       "      <td>31942.39</td>\n",
       "      <td>224</td>\n",
       "      <td>1000</td>\n",
       "      <td>30720</td>\n",
       "      <td>3000</td>\n",
       "      <td>1950</td>\n",
       "      <td>150</td>\n",
       "      <td>1</td>\n",
       "      <td>1</td>\n",
       "      <td>ultra</td>\n",
       "      <td>32</td>\n",
       "      <td>30</td>\n",
       "      <td>2250</td>\n",
       "      <td>(17.999, 29.0]</td>\n",
       "      <td>False</td>\n",
       "    </tr>\n",
       "    <tr>\n",
       "      <th>293</th>\n",
       "      <td>1167</td>\n",
       "      <td>30</td>\n",
       "      <td>NaN</td>\n",
       "      <td>Кемерово</td>\n",
       "      <td>Клавдия</td>\n",
       "      <td>Абдулина</td>\n",
       "      <td>2018-09-29</td>\n",
       "      <td>ultra</td>\n",
       "      <td>10</td>\n",
       "      <td>727</td>\n",
       "      <td>15778.63</td>\n",
       "      <td>190</td>\n",
       "      <td>1000</td>\n",
       "      <td>30720</td>\n",
       "      <td>3000</td>\n",
       "      <td>1950</td>\n",
       "      <td>150</td>\n",
       "      <td>1</td>\n",
       "      <td>1</td>\n",
       "      <td>ultra</td>\n",
       "      <td>16</td>\n",
       "      <td>30</td>\n",
       "      <td>1950</td>\n",
       "      <td>(29.0, 41.0]</td>\n",
       "      <td>False</td>\n",
       "    </tr>\n",
       "    <tr>\n",
       "      <th>396</th>\n",
       "      <td>1231</td>\n",
       "      <td>63</td>\n",
       "      <td>NaN</td>\n",
       "      <td>Чебоксары</td>\n",
       "      <td>Касьян</td>\n",
       "      <td>Авдюков</td>\n",
       "      <td>2018-05-23</td>\n",
       "      <td>ultra</td>\n",
       "      <td>6</td>\n",
       "      <td>0</td>\n",
       "      <td>27825.92</td>\n",
       "      <td>201</td>\n",
       "      <td>1000</td>\n",
       "      <td>30720</td>\n",
       "      <td>3000</td>\n",
       "      <td>1950</td>\n",
       "      <td>150</td>\n",
       "      <td>1</td>\n",
       "      <td>1</td>\n",
       "      <td>ultra</td>\n",
       "      <td>28</td>\n",
       "      <td>30</td>\n",
       "      <td>1950</td>\n",
       "      <td>(52.0, 64.0]</td>\n",
       "      <td>False</td>\n",
       "    </tr>\n",
       "    <tr>\n",
       "      <th>...</th>\n",
       "      <td>...</td>\n",
       "      <td>...</td>\n",
       "      <td>...</td>\n",
       "      <td>...</td>\n",
       "      <td>...</td>\n",
       "      <td>...</td>\n",
       "      <td>...</td>\n",
       "      <td>...</td>\n",
       "      <td>...</td>\n",
       "      <td>...</td>\n",
       "      <td>...</td>\n",
       "      <td>...</td>\n",
       "      <td>...</td>\n",
       "      <td>...</td>\n",
       "      <td>...</td>\n",
       "      <td>...</td>\n",
       "      <td>...</td>\n",
       "      <td>...</td>\n",
       "      <td>...</td>\n",
       "      <td>...</td>\n",
       "      <td>...</td>\n",
       "      <td>...</td>\n",
       "      <td>...</td>\n",
       "      <td>...</td>\n",
       "      <td>...</td>\n",
       "    </tr>\n",
       "    <tr>\n",
       "      <th>3155</th>\n",
       "      <td>1484</td>\n",
       "      <td>55</td>\n",
       "      <td>NaN</td>\n",
       "      <td>Екатеринбург</td>\n",
       "      <td>Илзе</td>\n",
       "      <td>Абалдуева</td>\n",
       "      <td>2018-08-04</td>\n",
       "      <td>smart</td>\n",
       "      <td>11</td>\n",
       "      <td>334</td>\n",
       "      <td>16790.84</td>\n",
       "      <td>121</td>\n",
       "      <td>50</td>\n",
       "      <td>15360</td>\n",
       "      <td>500</td>\n",
       "      <td>550</td>\n",
       "      <td>200</td>\n",
       "      <td>3</td>\n",
       "      <td>3</td>\n",
       "      <td>smart</td>\n",
       "      <td>17</td>\n",
       "      <td>15</td>\n",
       "      <td>1163</td>\n",
       "      <td>(52.0, 64.0]</td>\n",
       "      <td>False</td>\n",
       "    </tr>\n",
       "    <tr>\n",
       "      <th>3157</th>\n",
       "      <td>1486</td>\n",
       "      <td>35</td>\n",
       "      <td>NaN</td>\n",
       "      <td>Нижний Новгород</td>\n",
       "      <td>Матвей</td>\n",
       "      <td>Моргунов</td>\n",
       "      <td>2018-10-31</td>\n",
       "      <td>smart</td>\n",
       "      <td>10</td>\n",
       "      <td>38</td>\n",
       "      <td>407.66</td>\n",
       "      <td>1</td>\n",
       "      <td>50</td>\n",
       "      <td>15360</td>\n",
       "      <td>500</td>\n",
       "      <td>550</td>\n",
       "      <td>200</td>\n",
       "      <td>3</td>\n",
       "      <td>3</td>\n",
       "      <td>smart</td>\n",
       "      <td>1</td>\n",
       "      <td>15</td>\n",
       "      <td>550</td>\n",
       "      <td>(29.0, 41.0]</td>\n",
       "      <td>False</td>\n",
       "    </tr>\n",
       "    <tr>\n",
       "      <th>3158</th>\n",
       "      <td>1486</td>\n",
       "      <td>35</td>\n",
       "      <td>NaN</td>\n",
       "      <td>Нижний Новгород</td>\n",
       "      <td>Матвей</td>\n",
       "      <td>Моргунов</td>\n",
       "      <td>2018-10-31</td>\n",
       "      <td>smart</td>\n",
       "      <td>11</td>\n",
       "      <td>764</td>\n",
       "      <td>36266.11</td>\n",
       "      <td>96</td>\n",
       "      <td>50</td>\n",
       "      <td>15360</td>\n",
       "      <td>500</td>\n",
       "      <td>550</td>\n",
       "      <td>200</td>\n",
       "      <td>3</td>\n",
       "      <td>3</td>\n",
       "      <td>smart</td>\n",
       "      <td>36</td>\n",
       "      <td>15</td>\n",
       "      <td>5680</td>\n",
       "      <td>(29.0, 41.0]</td>\n",
       "      <td>False</td>\n",
       "    </tr>\n",
       "    <tr>\n",
       "      <th>3159</th>\n",
       "      <td>1486</td>\n",
       "      <td>35</td>\n",
       "      <td>NaN</td>\n",
       "      <td>Нижний Новгород</td>\n",
       "      <td>Матвей</td>\n",
       "      <td>Моргунов</td>\n",
       "      <td>2018-10-31</td>\n",
       "      <td>smart</td>\n",
       "      <td>12</td>\n",
       "      <td>1007</td>\n",
       "      <td>38552.45</td>\n",
       "      <td>83</td>\n",
       "      <td>50</td>\n",
       "      <td>15360</td>\n",
       "      <td>500</td>\n",
       "      <td>550</td>\n",
       "      <td>200</td>\n",
       "      <td>3</td>\n",
       "      <td>3</td>\n",
       "      <td>smart</td>\n",
       "      <td>38</td>\n",
       "      <td>15</td>\n",
       "      <td>6770</td>\n",
       "      <td>(29.0, 41.0]</td>\n",
       "      <td>False</td>\n",
       "    </tr>\n",
       "    <tr>\n",
       "      <th>3212</th>\n",
       "      <td>1499</td>\n",
       "      <td>35</td>\n",
       "      <td>NaN</td>\n",
       "      <td>Пермь</td>\n",
       "      <td>Гектор</td>\n",
       "      <td>Корнилов</td>\n",
       "      <td>2018-09-27</td>\n",
       "      <td>smart</td>\n",
       "      <td>9</td>\n",
       "      <td>70</td>\n",
       "      <td>1845.75</td>\n",
       "      <td>11</td>\n",
       "      <td>50</td>\n",
       "      <td>15360</td>\n",
       "      <td>500</td>\n",
       "      <td>550</td>\n",
       "      <td>200</td>\n",
       "      <td>3</td>\n",
       "      <td>3</td>\n",
       "      <td>smart</td>\n",
       "      <td>2</td>\n",
       "      <td>15</td>\n",
       "      <td>550</td>\n",
       "      <td>(29.0, 41.0]</td>\n",
       "      <td>False</td>\n",
       "    </tr>\n",
       "  </tbody>\n",
       "</table>\n",
       "<p>87 rows × 25 columns</p>\n",
       "</div>"
      ],
      "text/plain": [
       "      user_id  age churn_date             city first_name  last_name  \\\n",
       "52       1028   20        NaN            Тверь     Рустем     Евсеев   \n",
       "285      1165   19        NaN           Самара    Алексей   Медведев   \n",
       "286      1165   19        NaN           Самара    Алексей   Медведев   \n",
       "293      1167   30        NaN         Кемерово    Клавдия   Абдулина   \n",
       "396      1231   63        NaN        Чебоксары     Касьян    Авдюков   \n",
       "...       ...  ...        ...              ...        ...        ...   \n",
       "3155     1484   55        NaN     Екатеринбург       Илзе  Абалдуева   \n",
       "3157     1486   35        NaN  Нижний Новгород     Матвей   Моргунов   \n",
       "3158     1486   35        NaN  Нижний Новгород     Матвей   Моргунов   \n",
       "3159     1486   35        NaN  Нижний Новгород     Матвей   Моргунов   \n",
       "3212     1499   35        NaN            Пермь     Гектор   Корнилов   \n",
       "\n",
       "        reg_date tariff  month  duration   mb_used  messages  \\\n",
       "52    2018-10-02  ultra     10       954  22499.75       223   \n",
       "285   2018-10-14  ultra     11       232  42144.47       197   \n",
       "286   2018-10-14  ultra     12       278  31942.39       224   \n",
       "293   2018-09-29  ultra     10       727  15778.63       190   \n",
       "396   2018-05-23  ultra      6         0  27825.92       201   \n",
       "...          ...    ...    ...       ...       ...       ...   \n",
       "3155  2018-08-04  smart     11       334  16790.84       121   \n",
       "3157  2018-10-31  smart     10        38    407.66         1   \n",
       "3158  2018-10-31  smart     11       764  36266.11        96   \n",
       "3159  2018-10-31  smart     12      1007  38552.45        83   \n",
       "3212  2018-09-27  smart      9        70   1845.75        11   \n",
       "\n",
       "      messages_included  mb_per_month_included  minutes_included  \\\n",
       "52                 1000                  30720              3000   \n",
       "285                1000                  30720              3000   \n",
       "286                1000                  30720              3000   \n",
       "293                1000                  30720              3000   \n",
       "396                1000                  30720              3000   \n",
       "...                 ...                    ...               ...   \n",
       "3155                 50                  15360               500   \n",
       "3157                 50                  15360               500   \n",
       "3158                 50                  15360               500   \n",
       "3159                 50                  15360               500   \n",
       "3212                 50                  15360               500   \n",
       "\n",
       "      rub_monthly_fee  rub_per_gb  rub_per_message  rub_per_minute  \\\n",
       "52               1950         150                1               1   \n",
       "285              1950         150                1               1   \n",
       "286              1950         150                1               1   \n",
       "293              1950         150                1               1   \n",
       "396              1950         150                1               1   \n",
       "...               ...         ...              ...             ...   \n",
       "3155              550         200                3               3   \n",
       "3157              550         200                3               3   \n",
       "3158              550         200                3               3   \n",
       "3159              550         200                3               3   \n",
       "3212              550         200                3               3   \n",
       "\n",
       "     tariff_name  gb_used  gb_per_month_included  monthly_revenue  \\\n",
       "52         ultra       22                     30             1950   \n",
       "285        ultra       42                     30             3750   \n",
       "286        ultra       32                     30             2250   \n",
       "293        ultra       16                     30             1950   \n",
       "396        ultra       28                     30             1950   \n",
       "...          ...      ...                    ...              ...   \n",
       "3155       smart       17                     15             1163   \n",
       "3157       smart        1                     15              550   \n",
       "3158       smart       36                     15             5680   \n",
       "3159       smart       38                     15             6770   \n",
       "3212       smart        2                     15              550   \n",
       "\n",
       "           age_group  keep_row  \n",
       "52    (17.999, 29.0]     False  \n",
       "285   (17.999, 29.0]     False  \n",
       "286   (17.999, 29.0]     False  \n",
       "293     (29.0, 41.0]     False  \n",
       "396     (52.0, 64.0]     False  \n",
       "...              ...       ...  \n",
       "3155    (52.0, 64.0]     False  \n",
       "3157    (29.0, 41.0]     False  \n",
       "3158    (29.0, 41.0]     False  \n",
       "3159    (29.0, 41.0]     False  \n",
       "3212    (29.0, 41.0]     False  \n",
       "\n",
       "[87 rows x 25 columns]"
      ]
     },
     "execution_count": 43,
     "metadata": {},
     "output_type": "execute_result"
    }
   ],
   "source": [
    "# check\n",
    "pd.set_option('max_columns', 25)\n",
    "df.query('keep_row == False')"
   ]
  },
  {
   "cell_type": "code",
   "execution_count": 44,
   "metadata": {},
   "outputs": [],
   "source": [
    "# filtering dataset\n",
    "good_df = df.query('keep_row == True')"
   ]
  },
  {
   "cell_type": "code",
   "execution_count": 45,
   "metadata": {},
   "outputs": [
    {
     "data": {
      "text/html": [
       "<div>\n",
       "<style scoped>\n",
       "    .dataframe tbody tr th:only-of-type {\n",
       "        vertical-align: middle;\n",
       "    }\n",
       "\n",
       "    .dataframe tbody tr th {\n",
       "        vertical-align: top;\n",
       "    }\n",
       "\n",
       "    .dataframe thead th {\n",
       "        text-align: right;\n",
       "    }\n",
       "</style>\n",
       "<table border=\"1\" class=\"dataframe\">\n",
       "  <thead>\n",
       "    <tr style=\"text-align: right;\">\n",
       "      <th></th>\n",
       "      <th>user_id</th>\n",
       "      <th>age</th>\n",
       "      <th>churn_date</th>\n",
       "      <th>city</th>\n",
       "      <th>first_name</th>\n",
       "      <th>last_name</th>\n",
       "      <th>reg_date</th>\n",
       "      <th>tariff</th>\n",
       "      <th>month</th>\n",
       "      <th>duration</th>\n",
       "      <th>mb_used</th>\n",
       "      <th>messages</th>\n",
       "      <th>messages_included</th>\n",
       "      <th>mb_per_month_included</th>\n",
       "      <th>minutes_included</th>\n",
       "      <th>rub_monthly_fee</th>\n",
       "      <th>rub_per_gb</th>\n",
       "      <th>rub_per_message</th>\n",
       "      <th>rub_per_minute</th>\n",
       "      <th>tariff_name</th>\n",
       "      <th>gb_used</th>\n",
       "      <th>gb_per_month_included</th>\n",
       "      <th>monthly_revenue</th>\n",
       "      <th>age_group</th>\n",
       "      <th>keep_row</th>\n",
       "    </tr>\n",
       "  </thead>\n",
       "  <tbody>\n",
       "    <tr>\n",
       "      <th>0</th>\n",
       "      <td>1000</td>\n",
       "      <td>52</td>\n",
       "      <td>NaN</td>\n",
       "      <td>Краснодар</td>\n",
       "      <td>Рафаил</td>\n",
       "      <td>Верещагин</td>\n",
       "      <td>2018-05-25</td>\n",
       "      <td>ultra</td>\n",
       "      <td>5</td>\n",
       "      <td>159</td>\n",
       "      <td>2253.49</td>\n",
       "      <td>22</td>\n",
       "      <td>1000</td>\n",
       "      <td>30720</td>\n",
       "      <td>3000</td>\n",
       "      <td>1950</td>\n",
       "      <td>150</td>\n",
       "      <td>1</td>\n",
       "      <td>1</td>\n",
       "      <td>ultra</td>\n",
       "      <td>3</td>\n",
       "      <td>30</td>\n",
       "      <td>1950</td>\n",
       "      <td>(41.0, 52.0]</td>\n",
       "      <td>True</td>\n",
       "    </tr>\n",
       "    <tr>\n",
       "      <th>1</th>\n",
       "      <td>1000</td>\n",
       "      <td>52</td>\n",
       "      <td>NaN</td>\n",
       "      <td>Краснодар</td>\n",
       "      <td>Рафаил</td>\n",
       "      <td>Верещагин</td>\n",
       "      <td>2018-05-25</td>\n",
       "      <td>ultra</td>\n",
       "      <td>6</td>\n",
       "      <td>172</td>\n",
       "      <td>23233.77</td>\n",
       "      <td>60</td>\n",
       "      <td>1000</td>\n",
       "      <td>30720</td>\n",
       "      <td>3000</td>\n",
       "      <td>1950</td>\n",
       "      <td>150</td>\n",
       "      <td>1</td>\n",
       "      <td>1</td>\n",
       "      <td>ultra</td>\n",
       "      <td>23</td>\n",
       "      <td>30</td>\n",
       "      <td>1950</td>\n",
       "      <td>(41.0, 52.0]</td>\n",
       "      <td>True</td>\n",
       "    </tr>\n",
       "    <tr>\n",
       "      <th>2</th>\n",
       "      <td>1000</td>\n",
       "      <td>52</td>\n",
       "      <td>NaN</td>\n",
       "      <td>Краснодар</td>\n",
       "      <td>Рафаил</td>\n",
       "      <td>Верещагин</td>\n",
       "      <td>2018-05-25</td>\n",
       "      <td>ultra</td>\n",
       "      <td>7</td>\n",
       "      <td>340</td>\n",
       "      <td>14003.64</td>\n",
       "      <td>75</td>\n",
       "      <td>1000</td>\n",
       "      <td>30720</td>\n",
       "      <td>3000</td>\n",
       "      <td>1950</td>\n",
       "      <td>150</td>\n",
       "      <td>1</td>\n",
       "      <td>1</td>\n",
       "      <td>ultra</td>\n",
       "      <td>14</td>\n",
       "      <td>30</td>\n",
       "      <td>1950</td>\n",
       "      <td>(41.0, 52.0]</td>\n",
       "      <td>True</td>\n",
       "    </tr>\n",
       "    <tr>\n",
       "      <th>3</th>\n",
       "      <td>1000</td>\n",
       "      <td>52</td>\n",
       "      <td>NaN</td>\n",
       "      <td>Краснодар</td>\n",
       "      <td>Рафаил</td>\n",
       "      <td>Верещагин</td>\n",
       "      <td>2018-05-25</td>\n",
       "      <td>ultra</td>\n",
       "      <td>8</td>\n",
       "      <td>408</td>\n",
       "      <td>14055.93</td>\n",
       "      <td>81</td>\n",
       "      <td>1000</td>\n",
       "      <td>30720</td>\n",
       "      <td>3000</td>\n",
       "      <td>1950</td>\n",
       "      <td>150</td>\n",
       "      <td>1</td>\n",
       "      <td>1</td>\n",
       "      <td>ultra</td>\n",
       "      <td>14</td>\n",
       "      <td>30</td>\n",
       "      <td>1950</td>\n",
       "      <td>(41.0, 52.0]</td>\n",
       "      <td>True</td>\n",
       "    </tr>\n",
       "    <tr>\n",
       "      <th>4</th>\n",
       "      <td>1000</td>\n",
       "      <td>52</td>\n",
       "      <td>NaN</td>\n",
       "      <td>Краснодар</td>\n",
       "      <td>Рафаил</td>\n",
       "      <td>Верещагин</td>\n",
       "      <td>2018-05-25</td>\n",
       "      <td>ultra</td>\n",
       "      <td>9</td>\n",
       "      <td>466</td>\n",
       "      <td>14568.91</td>\n",
       "      <td>57</td>\n",
       "      <td>1000</td>\n",
       "      <td>30720</td>\n",
       "      <td>3000</td>\n",
       "      <td>1950</td>\n",
       "      <td>150</td>\n",
       "      <td>1</td>\n",
       "      <td>1</td>\n",
       "      <td>ultra</td>\n",
       "      <td>15</td>\n",
       "      <td>30</td>\n",
       "      <td>1950</td>\n",
       "      <td>(41.0, 52.0]</td>\n",
       "      <td>True</td>\n",
       "    </tr>\n",
       "  </tbody>\n",
       "</table>\n",
       "</div>"
      ],
      "text/plain": [
       "   user_id  age churn_date       city first_name  last_name    reg_date  \\\n",
       "0     1000   52        NaN  Краснодар     Рафаил  Верещагин  2018-05-25   \n",
       "1     1000   52        NaN  Краснодар     Рафаил  Верещагин  2018-05-25   \n",
       "2     1000   52        NaN  Краснодар     Рафаил  Верещагин  2018-05-25   \n",
       "3     1000   52        NaN  Краснодар     Рафаил  Верещагин  2018-05-25   \n",
       "4     1000   52        NaN  Краснодар     Рафаил  Верещагин  2018-05-25   \n",
       "\n",
       "  tariff  month  duration   mb_used  messages  messages_included  \\\n",
       "0  ultra      5       159   2253.49        22               1000   \n",
       "1  ultra      6       172  23233.77        60               1000   \n",
       "2  ultra      7       340  14003.64        75               1000   \n",
       "3  ultra      8       408  14055.93        81               1000   \n",
       "4  ultra      9       466  14568.91        57               1000   \n",
       "\n",
       "   mb_per_month_included  minutes_included  rub_monthly_fee  rub_per_gb  \\\n",
       "0                  30720              3000             1950         150   \n",
       "1                  30720              3000             1950         150   \n",
       "2                  30720              3000             1950         150   \n",
       "3                  30720              3000             1950         150   \n",
       "4                  30720              3000             1950         150   \n",
       "\n",
       "   rub_per_message  rub_per_minute tariff_name  gb_used  \\\n",
       "0                1               1       ultra        3   \n",
       "1                1               1       ultra       23   \n",
       "2                1               1       ultra       14   \n",
       "3                1               1       ultra       14   \n",
       "4                1               1       ultra       15   \n",
       "\n",
       "   gb_per_month_included  monthly_revenue     age_group  keep_row  \n",
       "0                     30             1950  (41.0, 52.0]      True  \n",
       "1                     30             1950  (41.0, 52.0]      True  \n",
       "2                     30             1950  (41.0, 52.0]      True  \n",
       "3                     30             1950  (41.0, 52.0]      True  \n",
       "4                     30             1950  (41.0, 52.0]      True  "
      ]
     },
     "execution_count": 45,
     "metadata": {},
     "output_type": "execute_result"
    }
   ],
   "source": [
    "good_df.head()"
   ]
  },
  {
   "cell_type": "markdown",
   "metadata": {},
   "source": [
    "### Hypothesis 1.  The average revenue of Ultra and Smart plan users is different."
   ]
  },
  {
   "cell_type": "markdown",
   "metadata": {},
   "source": [
    "The comparison is made for two general populations of samples taken from them.\n",
    "In this case, the null hypothesis should be that the average revenue of Ultra plan users is equal to the average revenue of Smart plan users.\n",
    "\n",
    "**H0 - average revenue of the users of the two tariffs is not different.**\n",
    "\n",
    "**H1 - average revenue of users of the two plans is different**."
   ]
  },
  {
   "cell_type": "code",
   "execution_count": 46,
   "metadata": {},
   "outputs": [],
   "source": [
    "revenue_ultra = list(good_df.query('tariff_name == \"ultra\"')['monthly_revenue'])"
   ]
  },
  {
   "cell_type": "code",
   "execution_count": 47,
   "metadata": {},
   "outputs": [],
   "source": [
    "revenue_smart = list(good_df.query('tariff_name == \"smart\"')['monthly_revenue'])"
   ]
  },
  {
   "cell_type": "markdown",
   "metadata": {},
   "source": [
    "To test the hypothesis we use ttest_ind. We take 5% (0.05) as an acceptable p-value"
   ]
  },
  {
   "cell_type": "code",
   "execution_count": 48,
   "metadata": {},
   "outputs": [
    {
     "name": "stdout",
     "output_type": "stream",
     "text": [
      "p-value: 6.347584293095199e-195\n",
      "Reject the null hypothesis\n"
     ]
    }
   ],
   "source": [
    "alpha = 0.05\n",
    "results = st.ttest_ind(\n",
    "    revenue_ultra, \n",
    "    revenue_smart)\n",
    "\n",
    "print('p-value:', results.pvalue)\n",
    "\n",
    "if results.pvalue < alpha:\n",
    "    print(\"Reject the null hypothesis\")\n",
    "else:\n",
    "    print(\"Failed to reject the null hypothesis\")"
   ]
  },
  {
   "cell_type": "code",
   "execution_count": 49,
   "metadata": {},
   "outputs": [
    {
     "name": "stdout",
     "output_type": "stream",
     "text": [
      " Average revenue for ultra tariff: 2067.230769230769\n",
      " Average revenue for smart tariff: 1261.286443825441\n"
     ]
    }
   ],
   "source": [
    "print(f' Average revenue for ultra tariff: {sum(revenue_ultra) / len(revenue_ultra)}')\n",
    "print(f' Average revenue for smart tariff: {sum(revenue_smart) / len(revenue_smart)}')"
   ]
  },
  {
   "cell_type": "markdown",
   "metadata": {},
   "source": [
    "Thus, the test results indicate that the probability of obtaining the observed result if the null hypothesis is true is less than the given level of significance (the probability of obtaining results confirming the null hypothesis is extremely small). This allows us to reject the null hypothesis of equality of the average user revenue of the two tariffs in favor of the alternative hypothesis - the average revenue of the two tariffs is different."
   ]
  },
  {
   "cell_type": "markdown",
   "metadata": {},
   "source": [
    "### Hypothesis 2.  The average revenue of Moscow users differs from other regions."
   ]
  },
  {
   "cell_type": "markdown",
   "metadata": {},
   "source": [
    "Similarly to the previous hypothesis, the comparison will be made for two general populations of samples taken from them.\n",
    "In this case, the null hypothesis should be formulated so that the average revenue of users from Moscow is equal to the average revenue of users from other cities.\n",
    "\n",
    "**H0 - average user revenue for Moscow and other cities does not differ from each other**\n",
    "\n",
    "**H1 - average user revenue for Moscow and other cities is different**"
   ]
  },
  {
   "cell_type": "code",
   "execution_count": 50,
   "metadata": {},
   "outputs": [],
   "source": [
    "revenue_moscow = list(good_df.query('city == \"Москва\"')['monthly_revenue'])"
   ]
  },
  {
   "cell_type": "code",
   "execution_count": 51,
   "metadata": {},
   "outputs": [],
   "source": [
    "revenue_others = list(good_df.query('city != \"Москва\"')['monthly_revenue'])"
   ]
  },
  {
   "cell_type": "markdown",
   "metadata": {},
   "source": [
    "To test the hypothesis we use ttest_ind. We take 5% (0.05) as an acceptable p-value"
   ]
  },
  {
   "cell_type": "code",
   "execution_count": 52,
   "metadata": {
    "scrolled": true
   },
   "outputs": [
    {
     "name": "stdout",
     "output_type": "stream",
     "text": [
      "p-value: 0.2851496913984403\n",
      "Failed to reject the null hypothesis\n"
     ]
    }
   ],
   "source": [
    "alpha = 0.05\n",
    "results = st.ttest_ind(\n",
    "    revenue_moscow, \n",
    "    revenue_others)\n",
    "\n",
    "print('p-value:', results.pvalue)\n",
    "\n",
    "if results.pvalue < alpha:\n",
    "    print(\"Reject the null hypothesis\")\n",
    "else:\n",
    "    print(\"Failed to reject the null hypothesis\")"
   ]
  },
  {
   "cell_type": "code",
   "execution_count": 53,
   "metadata": {},
   "outputs": [
    {
     "name": "stdout",
     "output_type": "stream",
     "text": [
      " Average revenue for Moscow: 1541.799336650083\n",
      " Average revenue for other cities: 1505.4061757719714\n"
     ]
    }
   ],
   "source": [
    "print(f' Average revenue for Moscow: {sum(revenue_moscow) / len(revenue_moscow)}')\n",
    "print(f' Average revenue for other cities: {sum(revenue_others) / len(revenue_others)}')"
   ]
  },
  {
   "cell_type": "markdown",
   "metadata": {},
   "source": [
    "## Summary"
   ]
  },
  {
   "cell_type": "markdown",
   "metadata": {},
   "source": [
    "* **The age groups of the two plans behave almost identically. With increasing age, the median call duration increases slightly. On the other hand, the volume of traffic consumed by Smart tariff users is almost unchanged by age group. Most messages are sent by younger users of Ultra tariffs;**.\n",
    "* **Among the company's customers, there are smart tariff users who exceed the set limits (~30% of users), while none of the ultra tariff users exceeded the limit of 1,000 messages. More than 50% of the tariff users send about the same number of messages per month (60). As for the duration of calls, there are Smart tariff users who exceed the limits of the package (their share is ~20%). At the same time, none of the ultra tariff users exceeded the limits of the provided package. Smart tariff users mostly do not use more than 700 minutes, while ultra tariff users use only 1000 minutes;**\n",
    "* **Telecom company should focus on developing customized packages for customers based on their demographics. For example, for smart subscribers, it might be a good idea to offer them a plan with more messages, calls, and traffic. For Ultra subscribers, you can reduce the message limit and call duration included in the package. For example, you can reduce the call limit to 1000 minutes per month and the message limit to 100 for Ultra users. This issue requires additional research, including marketing surveys, etc.;**\n",
    "* **As for the average revenue, it is higher for clients using the Ultra tariff. The average revenue of Ultra tariff users is ~2067 rubles per month, while the average revenue of Smart tariff users is ~1261 rubles per month. The statistical test did not reject the hypothesis of unequal average revenue of tariff users. The telecom company should focus on customers with ultra packages. A marketing strategy should be developed to attract new customers or switch smart subscribers to a more expensive line. Some of them are just below the volume of services offered in the smart package;**\n",
    "* **Average revenues for Moscow and other regions do not differ significantly from each other. Thus, the average revenue for Moscow is ~ 1542 rubles, while for other cities it is ~ 1505 rubles. The hypothesis of the inequality of the average income of the tariff users in Moscow and other regions was rejected with the help of a statistical test. In this regard, the telecommunications company can implement its marketing strategy to attract new customers of ultra tariffs evenly in all regions of Russia.**"
   ]
  }
 ],
 "metadata": {
  "ExecuteTimeLog": [
   {
    "duration": 360,
    "start_time": "2022-06-20T10:36:53.402Z"
   },
   {
    "duration": 1082,
    "start_time": "2022-06-20T10:38:55.188Z"
   },
   {
    "duration": 424,
    "start_time": "2022-06-20T10:39:23.086Z"
   },
   {
    "duration": 456,
    "start_time": "2022-06-20T10:39:23.512Z"
   },
   {
    "duration": 3,
    "start_time": "2022-06-20T10:46:53.706Z"
   },
   {
    "duration": 63,
    "start_time": "2022-06-20T10:47:15.950Z"
   },
   {
    "duration": 77,
    "start_time": "2022-06-20T10:47:35.939Z"
   },
   {
    "duration": 8,
    "start_time": "2022-06-20T10:48:04.793Z"
   },
   {
    "duration": 12,
    "start_time": "2022-06-20T10:48:14.957Z"
   },
   {
    "duration": 451,
    "start_time": "2022-06-22T12:35:28.169Z"
   },
   {
    "duration": 1286,
    "start_time": "2022-06-22T12:35:28.623Z"
   },
   {
    "duration": 3,
    "start_time": "2022-06-22T12:35:29.911Z"
   },
   {
    "duration": 101,
    "start_time": "2022-06-22T12:35:29.916Z"
   },
   {
    "duration": 0,
    "start_time": "2022-06-22T12:35:30.020Z"
   },
   {
    "duration": 10,
    "start_time": "2022-06-22T12:35:47.272Z"
   },
   {
    "duration": 4,
    "start_time": "2022-06-22T12:36:03.808Z"
   },
   {
    "duration": 122,
    "start_time": "2022-06-22T12:36:04.773Z"
   },
   {
    "duration": 99,
    "start_time": "2022-06-22T12:36:17.412Z"
   },
   {
    "duration": 90,
    "start_time": "2022-06-22T12:36:22.167Z"
   },
   {
    "duration": 522,
    "start_time": "2022-06-22T12:36:28.533Z"
   },
   {
    "duration": 524,
    "start_time": "2022-06-22T12:36:29.060Z"
   },
   {
    "duration": 4,
    "start_time": "2022-06-22T12:36:29.587Z"
   },
   {
    "duration": 112,
    "start_time": "2022-06-22T12:36:29.593Z"
   },
   {
    "duration": 15,
    "start_time": "2022-06-22T12:36:29.708Z"
   },
   {
    "duration": 73,
    "start_time": "2022-06-22T12:46:39.261Z"
   },
   {
    "duration": 12,
    "start_time": "2022-06-22T12:46:55.868Z"
   },
   {
    "duration": 11,
    "start_time": "2022-06-22T12:47:05.843Z"
   },
   {
    "duration": 5,
    "start_time": "2022-06-22T12:47:19.358Z"
   },
   {
    "duration": 80,
    "start_time": "2022-06-22T13:01:15.080Z"
   },
   {
    "duration": 8,
    "start_time": "2022-06-22T13:01:38.894Z"
   },
   {
    "duration": 7,
    "start_time": "2022-06-22T13:06:57.862Z"
   },
   {
    "duration": 6,
    "start_time": "2022-06-22T13:07:15.109Z"
   },
   {
    "duration": 77,
    "start_time": "2022-06-22T13:11:53.913Z"
   },
   {
    "duration": 54,
    "start_time": "2022-06-22T13:13:47.408Z"
   },
   {
    "duration": 113,
    "start_time": "2022-06-22T13:14:29.722Z"
   },
   {
    "duration": 60,
    "start_time": "2022-06-22T13:14:33.910Z"
   },
   {
    "duration": 428,
    "start_time": "2022-06-22T13:14:42.199Z"
   },
   {
    "duration": 1075,
    "start_time": "2022-06-22T13:14:42.629Z"
   },
   {
    "duration": 3,
    "start_time": "2022-06-22T13:14:43.706Z"
   },
   {
    "duration": 97,
    "start_time": "2022-06-22T13:14:43.711Z"
   },
   {
    "duration": 75,
    "start_time": "2022-06-22T13:14:43.811Z"
   },
   {
    "duration": 14,
    "start_time": "2022-06-22T13:14:43.888Z"
   },
   {
    "duration": 13,
    "start_time": "2022-06-22T13:14:43.904Z"
   },
   {
    "duration": 7,
    "start_time": "2022-06-22T13:14:43.919Z"
   },
   {
    "duration": 50,
    "start_time": "2022-06-22T13:14:43.928Z"
   },
   {
    "duration": 8,
    "start_time": "2022-06-22T13:35:46.870Z"
   },
   {
    "duration": 6,
    "start_time": "2022-06-22T13:36:45.358Z"
   },
   {
    "duration": 33,
    "start_time": "2022-06-22T13:37:02.245Z"
   },
   {
    "duration": 94,
    "start_time": "2022-06-22T13:37:44.005Z"
   },
   {
    "duration": 1009,
    "start_time": "2022-06-22T13:43:09.754Z"
   },
   {
    "duration": 17,
    "start_time": "2022-06-22T13:43:34.044Z"
   },
   {
    "duration": 77,
    "start_time": "2022-06-22T13:43:34.758Z"
   },
   {
    "duration": 54,
    "start_time": "2022-06-22T13:43:35.874Z"
   },
   {
    "duration": 9,
    "start_time": "2022-06-22T13:43:37.604Z"
   },
   {
    "duration": 8,
    "start_time": "2022-06-22T13:43:58.682Z"
   },
   {
    "duration": 499,
    "start_time": "2022-06-22T13:44:11.245Z"
   },
   {
    "duration": 466,
    "start_time": "2022-06-22T13:44:11.747Z"
   },
   {
    "duration": 4,
    "start_time": "2022-06-22T13:44:12.215Z"
   },
   {
    "duration": 81,
    "start_time": "2022-06-22T13:44:12.221Z"
   },
   {
    "duration": 62,
    "start_time": "2022-06-22T13:44:12.305Z"
   },
   {
    "duration": 9,
    "start_time": "2022-06-22T13:44:12.369Z"
   },
   {
    "duration": 141,
    "start_time": "2022-06-22T14:43:31.397Z"
   },
   {
    "duration": 585,
    "start_time": "2022-06-22T14:45:32.246Z"
   },
   {
    "duration": 477,
    "start_time": "2022-06-22T14:46:06.176Z"
   },
   {
    "duration": 5,
    "start_time": "2022-06-22T14:46:06.658Z"
   },
   {
    "duration": 568,
    "start_time": "2022-06-22T14:46:06.666Z"
   },
   {
    "duration": 106,
    "start_time": "2022-06-22T14:46:07.236Z"
   },
   {
    "duration": 0,
    "start_time": "2022-06-22T14:46:07.345Z"
   },
   {
    "duration": 0,
    "start_time": "2022-06-22T14:46:07.346Z"
   },
   {
    "duration": 0,
    "start_time": "2022-06-22T14:46:07.348Z"
   },
   {
    "duration": 89,
    "start_time": "2022-06-22T14:47:17.521Z"
   },
   {
    "duration": 6,
    "start_time": "2022-06-22T14:48:15.483Z"
   },
   {
    "duration": 62,
    "start_time": "2022-06-22T14:49:40.163Z"
   },
   {
    "duration": 12,
    "start_time": "2022-06-22T14:52:20.784Z"
   },
   {
    "duration": 70,
    "start_time": "2022-06-22T14:52:48.874Z"
   },
   {
    "duration": 473,
    "start_time": "2022-06-22T14:53:20.744Z"
   },
   {
    "duration": 678,
    "start_time": "2022-06-22T14:53:21.220Z"
   },
   {
    "duration": 119,
    "start_time": "2022-06-22T14:53:21.901Z"
   },
   {
    "duration": 0,
    "start_time": "2022-06-22T14:53:22.023Z"
   },
   {
    "duration": 0,
    "start_time": "2022-06-22T14:53:22.025Z"
   },
   {
    "duration": 98,
    "start_time": "2022-06-22T14:53:52.599Z"
   },
   {
    "duration": 54,
    "start_time": "2022-06-22T14:53:55.766Z"
   },
   {
    "duration": 10,
    "start_time": "2022-06-22T14:53:58.812Z"
   },
   {
    "duration": 12,
    "start_time": "2022-06-22T14:54:31.787Z"
   },
   {
    "duration": 116,
    "start_time": "2022-06-22T14:56:11.022Z"
   },
   {
    "duration": 917,
    "start_time": "2022-06-22T14:56:47.293Z"
   },
   {
    "duration": 709,
    "start_time": "2022-06-22T14:59:21.513Z"
   },
   {
    "duration": 695,
    "start_time": "2022-06-22T15:31:54.276Z"
   },
   {
    "duration": 108,
    "start_time": "2022-06-22T15:32:50.686Z"
   },
   {
    "duration": 65,
    "start_time": "2022-06-22T15:36:03.984Z"
   },
   {
    "duration": 17,
    "start_time": "2022-06-22T15:36:37.780Z"
   },
   {
    "duration": 9,
    "start_time": "2022-06-22T15:36:49.792Z"
   },
   {
    "duration": 11,
    "start_time": "2022-06-22T15:37:17.667Z"
   },
   {
    "duration": 12,
    "start_time": "2022-06-22T15:37:38.827Z"
   },
   {
    "duration": 8,
    "start_time": "2022-06-22T15:37:45.924Z"
   },
   {
    "duration": 382,
    "start_time": "2022-06-22T15:40:43.986Z"
   },
   {
    "duration": 305,
    "start_time": "2022-06-22T15:41:21.891Z"
   },
   {
    "duration": 474,
    "start_time": "2022-06-22T15:42:16.584Z"
   },
   {
    "duration": 522,
    "start_time": "2022-06-22T15:42:17.061Z"
   },
   {
    "duration": 91,
    "start_time": "2022-06-22T15:42:17.585Z"
   },
   {
    "duration": 54,
    "start_time": "2022-06-22T15:42:17.679Z"
   },
   {
    "duration": 32,
    "start_time": "2022-06-22T15:42:17.735Z"
   },
   {
    "duration": 640,
    "start_time": "2022-06-22T15:42:17.769Z"
   },
   {
    "duration": 96,
    "start_time": "2022-06-22T15:42:18.411Z"
   },
   {
    "duration": 18,
    "start_time": "2022-06-22T15:42:18.509Z"
   },
   {
    "duration": 40,
    "start_time": "2022-06-22T15:42:18.529Z"
   },
   {
    "duration": 33,
    "start_time": "2022-06-22T15:42:18.576Z"
   },
   {
    "duration": 19,
    "start_time": "2022-06-22T15:42:18.611Z"
   },
   {
    "duration": 13,
    "start_time": "2022-06-22T15:42:18.633Z"
   },
   {
    "duration": 283,
    "start_time": "2022-06-22T15:42:18.648Z"
   },
   {
    "duration": 47,
    "start_time": "2022-06-22T17:49:20.253Z"
   },
   {
    "duration": 353,
    "start_time": "2022-06-22T17:49:31.317Z"
   },
   {
    "duration": 1124,
    "start_time": "2022-06-22T17:49:31.674Z"
   },
   {
    "duration": 73,
    "start_time": "2022-06-22T17:49:32.800Z"
   },
   {
    "duration": 46,
    "start_time": "2022-06-22T17:49:32.876Z"
   },
   {
    "duration": 9,
    "start_time": "2022-06-22T17:49:32.924Z"
   },
   {
    "duration": 470,
    "start_time": "2022-06-22T17:49:32.935Z"
   },
   {
    "duration": 71,
    "start_time": "2022-06-22T17:49:33.407Z"
   },
   {
    "duration": 14,
    "start_time": "2022-06-22T17:49:33.480Z"
   },
   {
    "duration": 25,
    "start_time": "2022-06-22T17:49:33.496Z"
   },
   {
    "duration": 12,
    "start_time": "2022-06-22T17:49:33.524Z"
   },
   {
    "duration": 20,
    "start_time": "2022-06-22T17:49:33.537Z"
   },
   {
    "duration": 33,
    "start_time": "2022-06-22T17:49:33.558Z"
   },
   {
    "duration": 214,
    "start_time": "2022-06-22T17:49:33.592Z"
   },
   {
    "duration": 410,
    "start_time": "2022-06-22T17:50:03.865Z"
   },
   {
    "duration": 421,
    "start_time": "2022-06-22T17:50:44.225Z"
   },
   {
    "duration": 442,
    "start_time": "2022-06-22T17:51:22.312Z"
   },
   {
    "duration": 449,
    "start_time": "2022-06-22T17:51:30.712Z"
   },
   {
    "duration": 104,
    "start_time": "2022-06-22T18:02:09.269Z"
   },
   {
    "duration": 19,
    "start_time": "2022-06-22T18:02:15.722Z"
   },
   {
    "duration": 9,
    "start_time": "2022-06-22T18:03:18.298Z"
   },
   {
    "duration": 408,
    "start_time": "2022-06-23T10:22:52.411Z"
   },
   {
    "duration": 1122,
    "start_time": "2022-06-23T10:22:52.821Z"
   },
   {
    "duration": 104,
    "start_time": "2022-06-23T10:22:53.945Z"
   },
   {
    "duration": 63,
    "start_time": "2022-06-23T10:22:54.051Z"
   },
   {
    "duration": 8,
    "start_time": "2022-06-23T10:22:54.116Z"
   },
   {
    "duration": 576,
    "start_time": "2022-06-23T10:22:54.126Z"
   },
   {
    "duration": 81,
    "start_time": "2022-06-23T10:22:54.705Z"
   },
   {
    "duration": 22,
    "start_time": "2022-06-23T10:22:54.788Z"
   },
   {
    "duration": 23,
    "start_time": "2022-06-23T10:22:54.812Z"
   },
   {
    "duration": 26,
    "start_time": "2022-06-23T10:22:54.837Z"
   },
   {
    "duration": 48,
    "start_time": "2022-06-23T10:22:54.864Z"
   },
   {
    "duration": 17,
    "start_time": "2022-06-23T10:22:54.914Z"
   },
   {
    "duration": 267,
    "start_time": "2022-06-23T10:22:54.933Z"
   },
   {
    "duration": 19,
    "start_time": "2022-06-23T10:22:55.203Z"
   },
   {
    "duration": 35,
    "start_time": "2022-06-23T10:22:55.224Z"
   },
   {
    "duration": 555,
    "start_time": "2022-06-23T10:44:39.767Z"
   },
   {
    "duration": 606,
    "start_time": "2022-06-23T10:44:40.324Z"
   },
   {
    "duration": 120,
    "start_time": "2022-06-23T10:44:40.932Z"
   },
   {
    "duration": 84,
    "start_time": "2022-06-23T10:44:41.054Z"
   },
   {
    "duration": 12,
    "start_time": "2022-06-23T10:44:41.141Z"
   },
   {
    "duration": 660,
    "start_time": "2022-06-23T10:44:41.154Z"
   },
   {
    "duration": 84,
    "start_time": "2022-06-23T10:44:41.816Z"
   },
   {
    "duration": 29,
    "start_time": "2022-06-23T10:44:41.902Z"
   },
   {
    "duration": 12,
    "start_time": "2022-06-23T10:44:41.933Z"
   },
   {
    "duration": 15,
    "start_time": "2022-06-23T10:44:41.947Z"
   },
   {
    "duration": 65,
    "start_time": "2022-06-23T10:44:41.964Z"
   },
   {
    "duration": 11,
    "start_time": "2022-06-23T10:44:42.030Z"
   },
   {
    "duration": 281,
    "start_time": "2022-06-23T10:44:42.043Z"
   },
   {
    "duration": 34,
    "start_time": "2022-06-23T10:44:42.330Z"
   },
   {
    "duration": 150,
    "start_time": "2022-06-23T10:44:42.376Z"
   },
   {
    "duration": 13,
    "start_time": "2022-06-23T10:44:51.621Z"
   },
   {
    "duration": 21,
    "start_time": "2022-06-23T10:44:57.967Z"
   },
   {
    "duration": 9,
    "start_time": "2022-06-23T10:59:39.529Z"
   },
   {
    "duration": 9,
    "start_time": "2022-06-23T10:59:50.333Z"
   },
   {
    "duration": 13,
    "start_time": "2022-06-23T11:00:05.410Z"
   },
   {
    "duration": 13,
    "start_time": "2022-06-23T11:00:13.596Z"
   },
   {
    "duration": 9,
    "start_time": "2022-06-23T11:00:17.145Z"
   },
   {
    "duration": 8,
    "start_time": "2022-06-23T11:00:28.649Z"
   },
   {
    "duration": 9,
    "start_time": "2022-06-23T11:00:39.401Z"
   },
   {
    "duration": 49,
    "start_time": "2022-06-23T14:50:22.207Z"
   },
   {
    "duration": 396,
    "start_time": "2022-06-23T14:50:34.091Z"
   },
   {
    "duration": 1156,
    "start_time": "2022-06-23T14:50:34.489Z"
   },
   {
    "duration": 76,
    "start_time": "2022-06-23T14:50:35.647Z"
   },
   {
    "duration": 57,
    "start_time": "2022-06-23T14:50:35.726Z"
   },
   {
    "duration": 8,
    "start_time": "2022-06-23T14:50:35.785Z"
   },
   {
    "duration": 531,
    "start_time": "2022-06-23T14:50:35.795Z"
   },
   {
    "duration": 88,
    "start_time": "2022-06-23T14:50:36.328Z"
   },
   {
    "duration": 15,
    "start_time": "2022-06-23T14:50:36.418Z"
   },
   {
    "duration": 9,
    "start_time": "2022-06-23T14:50:36.435Z"
   },
   {
    "duration": 25,
    "start_time": "2022-06-23T14:50:36.446Z"
   },
   {
    "duration": 12,
    "start_time": "2022-06-23T14:50:36.473Z"
   },
   {
    "duration": 11,
    "start_time": "2022-06-23T14:50:36.487Z"
   },
   {
    "duration": 263,
    "start_time": "2022-06-23T14:50:36.500Z"
   },
   {
    "duration": 22,
    "start_time": "2022-06-23T14:50:36.768Z"
   },
   {
    "duration": 10,
    "start_time": "2022-06-23T14:50:36.792Z"
   },
   {
    "duration": 82,
    "start_time": "2022-06-23T16:46:47.561Z"
   },
   {
    "duration": 17,
    "start_time": "2022-06-23T16:47:53.225Z"
   },
   {
    "duration": 9,
    "start_time": "2022-06-23T16:47:55.389Z"
   },
   {
    "duration": 18,
    "start_time": "2022-06-23T17:08:17.533Z"
   },
   {
    "duration": 32,
    "start_time": "2022-06-23T19:13:22.816Z"
   },
   {
    "duration": 274,
    "start_time": "2022-06-23T19:14:22.553Z"
   },
   {
    "duration": 35,
    "start_time": "2022-06-23T19:17:40.998Z"
   },
   {
    "duration": 238,
    "start_time": "2022-06-23T19:39:29.086Z"
   },
   {
    "duration": 394,
    "start_time": "2022-06-25T11:52:12.335Z"
   },
   {
    "duration": 1103,
    "start_time": "2022-06-25T11:52:12.731Z"
   },
   {
    "duration": 66,
    "start_time": "2022-06-25T11:52:13.836Z"
   },
   {
    "duration": 82,
    "start_time": "2022-06-25T11:52:13.904Z"
   },
   {
    "duration": 8,
    "start_time": "2022-06-25T11:52:13.988Z"
   },
   {
    "duration": 66,
    "start_time": "2022-06-25T11:52:13.997Z"
   },
   {
    "duration": 238,
    "start_time": "2022-06-25T11:52:14.065Z"
   },
   {
    "duration": 678,
    "start_time": "2022-06-25T11:52:14.305Z"
   },
   {
    "duration": 23,
    "start_time": "2022-06-25T11:52:14.985Z"
   },
   {
    "duration": 18,
    "start_time": "2022-06-25T11:52:15.010Z"
   },
   {
    "duration": 57,
    "start_time": "2022-06-25T12:21:41.510Z"
   },
   {
    "duration": 604,
    "start_time": "2022-06-25T12:22:02.547Z"
   },
   {
    "duration": 131,
    "start_time": "2022-06-25T12:23:18.443Z"
   },
   {
    "duration": 30,
    "start_time": "2022-06-25T12:23:58.251Z"
   },
   {
    "duration": 115,
    "start_time": "2022-06-25T12:50:26.757Z"
   },
   {
    "duration": 11,
    "start_time": "2022-06-25T12:50:33.551Z"
   },
   {
    "duration": 17,
    "start_time": "2022-06-25T12:50:40.521Z"
   },
   {
    "duration": 50,
    "start_time": "2022-06-25T12:52:14.353Z"
   },
   {
    "duration": 8,
    "start_time": "2022-06-25T12:52:19.087Z"
   },
   {
    "duration": 29,
    "start_time": "2022-06-25T13:32:29.908Z"
   },
   {
    "duration": 17,
    "start_time": "2022-06-25T13:32:34.010Z"
   },
   {
    "duration": 28,
    "start_time": "2022-06-25T13:35:34.577Z"
   },
   {
    "duration": 11,
    "start_time": "2022-06-25T13:35:34.988Z"
   },
   {
    "duration": 21,
    "start_time": "2022-06-25T13:38:24.802Z"
   },
   {
    "duration": 13,
    "start_time": "2022-06-25T13:38:33.351Z"
   },
   {
    "duration": 12,
    "start_time": "2022-06-25T13:38:34.512Z"
   },
   {
    "duration": 21,
    "start_time": "2022-06-25T13:38:41.891Z"
   },
   {
    "duration": 12,
    "start_time": "2022-06-25T13:38:42.377Z"
   },
   {
    "duration": 11,
    "start_time": "2022-06-25T13:38:46.276Z"
   },
   {
    "duration": 12,
    "start_time": "2022-06-25T13:38:56.790Z"
   },
   {
    "duration": 24,
    "start_time": "2022-06-25T13:39:00.488Z"
   },
   {
    "duration": 18,
    "start_time": "2022-06-25T13:39:38.678Z"
   },
   {
    "duration": 18,
    "start_time": "2022-06-25T14:01:51.678Z"
   },
   {
    "duration": 13,
    "start_time": "2022-06-25T14:02:35.184Z"
   },
   {
    "duration": 13,
    "start_time": "2022-06-25T14:02:44.192Z"
   },
   {
    "duration": 20,
    "start_time": "2022-06-25T14:02:49.385Z"
   },
   {
    "duration": 27,
    "start_time": "2022-06-25T14:03:30.100Z"
   },
   {
    "duration": 11,
    "start_time": "2022-06-25T14:03:31.095Z"
   },
   {
    "duration": 18,
    "start_time": "2022-06-25T14:03:36.509Z"
   },
   {
    "duration": 21,
    "start_time": "2022-06-25T14:03:49.729Z"
   },
   {
    "duration": 22,
    "start_time": "2022-06-25T14:11:40.850Z"
   },
   {
    "duration": 18,
    "start_time": "2022-06-25T14:11:49.316Z"
   },
   {
    "duration": 10,
    "start_time": "2022-06-25T14:11:54.830Z"
   },
   {
    "duration": 19,
    "start_time": "2022-06-25T16:47:58.270Z"
   },
   {
    "duration": 11,
    "start_time": "2022-06-25T16:48:01.724Z"
   },
   {
    "duration": 27,
    "start_time": "2022-06-25T16:48:16.202Z"
   },
   {
    "duration": 12,
    "start_time": "2022-06-25T16:48:17.475Z"
   },
   {
    "duration": 27,
    "start_time": "2022-06-25T19:03:42.502Z"
   },
   {
    "duration": 20,
    "start_time": "2022-06-25T19:03:48.567Z"
   },
   {
    "duration": 19,
    "start_time": "2022-06-25T19:07:16.184Z"
   },
   {
    "duration": 15,
    "start_time": "2022-06-25T19:07:16.925Z"
   },
   {
    "duration": 11,
    "start_time": "2022-06-25T19:21:01.006Z"
   },
   {
    "duration": 14,
    "start_time": "2022-06-25T19:21:13.266Z"
   },
   {
    "duration": 9,
    "start_time": "2022-06-25T19:21:22.684Z"
   },
   {
    "duration": 23,
    "start_time": "2022-06-25T19:21:25.266Z"
   },
   {
    "duration": 25,
    "start_time": "2022-06-25T19:25:28.777Z"
   },
   {
    "duration": 25,
    "start_time": "2022-06-25T19:25:46.721Z"
   },
   {
    "duration": 21,
    "start_time": "2022-06-25T19:26:15.798Z"
   },
   {
    "duration": 14,
    "start_time": "2022-06-25T19:26:31.851Z"
   },
   {
    "duration": 25,
    "start_time": "2022-06-25T19:26:34.166Z"
   },
   {
    "duration": 20,
    "start_time": "2022-06-25T19:26:54.496Z"
   },
   {
    "duration": 27,
    "start_time": "2022-06-25T19:27:01.034Z"
   },
   {
    "duration": 29,
    "start_time": "2022-06-25T19:27:38.471Z"
   },
   {
    "duration": 11,
    "start_time": "2022-06-25T19:28:08.473Z"
   },
   {
    "duration": 29,
    "start_time": "2022-06-25T19:28:09.110Z"
   },
   {
    "duration": 99,
    "start_time": "2022-06-25T19:29:11.790Z"
   },
   {
    "duration": 59,
    "start_time": "2022-06-25T19:29:12.285Z"
   },
   {
    "duration": 55,
    "start_time": "2022-06-25T19:29:12.657Z"
   },
   {
    "duration": 449,
    "start_time": "2022-06-25T19:29:17.965Z"
   },
   {
    "duration": 1046,
    "start_time": "2022-06-25T19:29:18.416Z"
   },
   {
    "duration": 89,
    "start_time": "2022-06-25T19:29:19.465Z"
   },
   {
    "duration": 54,
    "start_time": "2022-06-25T19:29:19.555Z"
   },
   {
    "duration": 9,
    "start_time": "2022-06-25T19:29:19.612Z"
   },
   {
    "duration": 83,
    "start_time": "2022-06-25T19:29:19.623Z"
   },
   {
    "duration": 301,
    "start_time": "2022-06-25T19:29:19.708Z"
   },
   {
    "duration": 644,
    "start_time": "2022-06-25T19:29:20.012Z"
   },
   {
    "duration": 23,
    "start_time": "2022-06-25T19:29:20.664Z"
   },
   {
    "duration": 10,
    "start_time": "2022-06-25T19:29:20.689Z"
   },
   {
    "duration": 114,
    "start_time": "2022-06-25T19:29:20.701Z"
   },
   {
    "duration": 67,
    "start_time": "2022-06-25T19:29:20.817Z"
   },
   {
    "duration": 54,
    "start_time": "2022-06-25T19:29:20.887Z"
   },
   {
    "duration": 0,
    "start_time": "2022-06-25T19:29:20.944Z"
   },
   {
    "duration": 0,
    "start_time": "2022-06-25T19:29:20.946Z"
   },
   {
    "duration": 0,
    "start_time": "2022-06-25T19:29:20.948Z"
   },
   {
    "duration": 0,
    "start_time": "2022-06-25T19:29:20.956Z"
   },
   {
    "duration": 0,
    "start_time": "2022-06-25T19:29:20.957Z"
   },
   {
    "duration": 0,
    "start_time": "2022-06-25T19:29:20.958Z"
   },
   {
    "duration": 431,
    "start_time": "2022-06-25T19:30:34.714Z"
   },
   {
    "duration": 523,
    "start_time": "2022-06-25T19:30:35.147Z"
   },
   {
    "duration": 86,
    "start_time": "2022-06-25T19:30:35.675Z"
   },
   {
    "duration": 56,
    "start_time": "2022-06-25T19:30:35.774Z"
   },
   {
    "duration": 9,
    "start_time": "2022-06-25T19:30:35.832Z"
   },
   {
    "duration": 48,
    "start_time": "2022-06-25T19:30:35.857Z"
   },
   {
    "duration": 290,
    "start_time": "2022-06-25T19:30:35.907Z"
   },
   {
    "duration": 617,
    "start_time": "2022-06-25T19:30:36.198Z"
   },
   {
    "duration": 36,
    "start_time": "2022-06-25T19:30:36.817Z"
   },
   {
    "duration": 13,
    "start_time": "2022-06-25T19:30:36.857Z"
   },
   {
    "duration": 109,
    "start_time": "2022-06-25T19:30:36.872Z"
   },
   {
    "duration": 81,
    "start_time": "2022-06-25T19:30:36.983Z"
   },
   {
    "duration": 36,
    "start_time": "2022-06-25T19:30:37.068Z"
   },
   {
    "duration": 31,
    "start_time": "2022-06-25T19:30:37.106Z"
   },
   {
    "duration": 40,
    "start_time": "2022-06-25T19:30:37.139Z"
   },
   {
    "duration": 14,
    "start_time": "2022-06-25T19:30:37.181Z"
   },
   {
    "duration": 22,
    "start_time": "2022-06-25T19:30:37.197Z"
   },
   {
    "duration": 41,
    "start_time": "2022-06-25T19:30:37.222Z"
   },
   {
    "duration": 30,
    "start_time": "2022-06-25T19:30:53.819Z"
   },
   {
    "duration": 20,
    "start_time": "2022-06-25T19:31:35.281Z"
   },
   {
    "duration": 19,
    "start_time": "2022-06-25T19:31:41.151Z"
   },
   {
    "duration": 47,
    "start_time": "2022-06-25T19:36:39.938Z"
   },
   {
    "duration": 14,
    "start_time": "2022-06-25T19:36:45.268Z"
   },
   {
    "duration": 15,
    "start_time": "2022-06-25T19:36:45.704Z"
   },
   {
    "duration": 12,
    "start_time": "2022-06-25T19:36:57.683Z"
   },
   {
    "duration": 18,
    "start_time": "2022-06-25T19:36:58.372Z"
   },
   {
    "duration": 39,
    "start_time": "2022-06-25T19:37:13.757Z"
   },
   {
    "duration": 13,
    "start_time": "2022-06-25T19:37:15.217Z"
   },
   {
    "duration": 15,
    "start_time": "2022-06-25T19:37:16.278Z"
   },
   {
    "duration": 32,
    "start_time": "2022-06-25T19:37:35.473Z"
   },
   {
    "duration": 19,
    "start_time": "2022-06-25T19:37:36.792Z"
   },
   {
    "duration": 28,
    "start_time": "2022-06-25T19:37:37.163Z"
   },
   {
    "duration": 13,
    "start_time": "2022-06-25T19:37:40.903Z"
   },
   {
    "duration": 13,
    "start_time": "2022-06-25T19:37:58.869Z"
   },
   {
    "duration": 13,
    "start_time": "2022-06-25T19:38:02.580Z"
   },
   {
    "duration": 15,
    "start_time": "2022-06-25T19:38:02.980Z"
   },
   {
    "duration": 4,
    "start_time": "2022-06-25T19:38:16.992Z"
   },
   {
    "duration": 14,
    "start_time": "2022-06-25T19:38:17.675Z"
   },
   {
    "duration": 16,
    "start_time": "2022-06-25T19:38:18.181Z"
   },
   {
    "duration": 465,
    "start_time": "2022-06-25T19:38:36.153Z"
   },
   {
    "duration": 544,
    "start_time": "2022-06-25T19:38:36.621Z"
   },
   {
    "duration": 82,
    "start_time": "2022-06-25T19:38:37.167Z"
   },
   {
    "duration": 80,
    "start_time": "2022-06-25T19:38:37.256Z"
   },
   {
    "duration": 24,
    "start_time": "2022-06-25T19:38:37.339Z"
   },
   {
    "duration": 70,
    "start_time": "2022-06-25T19:38:37.368Z"
   },
   {
    "duration": 312,
    "start_time": "2022-06-25T19:38:37.455Z"
   },
   {
    "duration": 648,
    "start_time": "2022-06-25T19:38:37.770Z"
   },
   {
    "duration": 45,
    "start_time": "2022-06-25T19:38:38.421Z"
   },
   {
    "duration": 12,
    "start_time": "2022-06-25T19:38:38.468Z"
   },
   {
    "duration": 145,
    "start_time": "2022-06-25T19:38:38.483Z"
   },
   {
    "duration": 72,
    "start_time": "2022-06-25T19:38:38.631Z"
   },
   {
    "duration": 51,
    "start_time": "2022-06-25T19:38:38.705Z"
   },
   {
    "duration": 30,
    "start_time": "2022-06-25T19:38:38.759Z"
   },
   {
    "duration": 27,
    "start_time": "2022-06-25T19:38:38.791Z"
   },
   {
    "duration": 44,
    "start_time": "2022-06-25T19:38:38.820Z"
   },
   {
    "duration": 17,
    "start_time": "2022-06-25T19:38:38.866Z"
   },
   {
    "duration": 11,
    "start_time": "2022-06-25T19:38:38.885Z"
   },
   {
    "duration": 28,
    "start_time": "2022-06-25T19:38:38.898Z"
   },
   {
    "duration": 45,
    "start_time": "2022-06-25T19:38:38.928Z"
   },
   {
    "duration": 51,
    "start_time": "2022-06-27T11:47:46.352Z"
   },
   {
    "duration": 401,
    "start_time": "2022-06-27T11:47:53.839Z"
   },
   {
    "duration": 756,
    "start_time": "2022-06-27T11:47:54.242Z"
   },
   {
    "duration": 82,
    "start_time": "2022-06-27T11:47:55.000Z"
   },
   {
    "duration": 59,
    "start_time": "2022-06-27T11:47:55.084Z"
   },
   {
    "duration": 7,
    "start_time": "2022-06-27T11:47:55.145Z"
   },
   {
    "duration": 36,
    "start_time": "2022-06-27T11:47:55.153Z"
   },
   {
    "duration": 230,
    "start_time": "2022-06-27T11:47:55.190Z"
   },
   {
    "duration": 474,
    "start_time": "2022-06-27T11:47:55.428Z"
   },
   {
    "duration": 33,
    "start_time": "2022-06-27T11:47:55.903Z"
   },
   {
    "duration": 9,
    "start_time": "2022-06-27T11:47:55.938Z"
   },
   {
    "duration": 69,
    "start_time": "2022-06-27T11:47:55.948Z"
   },
   {
    "duration": 56,
    "start_time": "2022-06-27T11:47:56.019Z"
   },
   {
    "duration": 28,
    "start_time": "2022-06-27T11:47:56.077Z"
   },
   {
    "duration": 40,
    "start_time": "2022-06-27T11:47:56.107Z"
   },
   {
    "duration": 22,
    "start_time": "2022-06-27T11:47:56.149Z"
   },
   {
    "duration": 10,
    "start_time": "2022-06-27T11:47:56.173Z"
   },
   {
    "duration": 12,
    "start_time": "2022-06-27T11:47:56.184Z"
   },
   {
    "duration": 44,
    "start_time": "2022-06-27T11:47:56.197Z"
   },
   {
    "duration": 22,
    "start_time": "2022-06-27T11:47:56.242Z"
   },
   {
    "duration": 10,
    "start_time": "2022-06-27T11:47:56.265Z"
   },
   {
    "duration": 23,
    "start_time": "2022-06-27T11:58:24.815Z"
   },
   {
    "duration": 6,
    "start_time": "2022-06-27T12:43:31.776Z"
   },
   {
    "duration": 13,
    "start_time": "2022-06-27T12:43:35.155Z"
   },
   {
    "duration": 20,
    "start_time": "2022-06-27T12:43:59.425Z"
   },
   {
    "duration": 10,
    "start_time": "2022-06-27T12:45:36.090Z"
   },
   {
    "duration": 10,
    "start_time": "2022-06-27T12:45:44.283Z"
   },
   {
    "duration": 9,
    "start_time": "2022-06-27T12:45:48.686Z"
   },
   {
    "duration": 13,
    "start_time": "2022-06-27T12:45:54.637Z"
   },
   {
    "duration": 6,
    "start_time": "2022-06-27T12:48:31.405Z"
   },
   {
    "duration": 20,
    "start_time": "2022-06-27T12:48:34.167Z"
   },
   {
    "duration": 4,
    "start_time": "2022-06-27T12:49:57.728Z"
   },
   {
    "duration": 22,
    "start_time": "2022-06-27T12:49:58.444Z"
   },
   {
    "duration": 11,
    "start_time": "2022-06-27T12:50:09.190Z"
   },
   {
    "duration": 5,
    "start_time": "2022-06-27T12:50:27.431Z"
   },
   {
    "duration": 19,
    "start_time": "2022-06-27T12:50:28.550Z"
   },
   {
    "duration": 13,
    "start_time": "2022-06-27T12:50:47.913Z"
   },
   {
    "duration": 70,
    "start_time": "2022-06-27T12:51:04.186Z"
   },
   {
    "duration": 3,
    "start_time": "2022-06-27T12:56:40.676Z"
   },
   {
    "duration": 18,
    "start_time": "2022-06-27T12:56:51.940Z"
   },
   {
    "duration": 5,
    "start_time": "2022-06-27T12:57:08.632Z"
   },
   {
    "duration": 21,
    "start_time": "2022-06-27T12:57:09.147Z"
   },
   {
    "duration": 4,
    "start_time": "2022-06-27T12:57:25.630Z"
   },
   {
    "duration": 13,
    "start_time": "2022-06-27T12:57:29.726Z"
   },
   {
    "duration": 19,
    "start_time": "2022-06-27T12:57:36.792Z"
   },
   {
    "duration": 4,
    "start_time": "2022-06-27T12:57:55.941Z"
   },
   {
    "duration": 17,
    "start_time": "2022-06-27T12:57:56.556Z"
   },
   {
    "duration": 14,
    "start_time": "2022-06-27T13:18:06.092Z"
   },
   {
    "duration": 6,
    "start_time": "2022-06-27T13:19:33.356Z"
   },
   {
    "duration": 6,
    "start_time": "2022-06-27T13:19:36.517Z"
   },
   {
    "duration": 6,
    "start_time": "2022-06-27T13:19:41.252Z"
   },
   {
    "duration": 4,
    "start_time": "2022-06-27T13:23:44.840Z"
   },
   {
    "duration": 19,
    "start_time": "2022-06-27T13:23:45.439Z"
   },
   {
    "duration": 12,
    "start_time": "2022-06-28T09:06:13.854Z"
   },
   {
    "duration": 403,
    "start_time": "2022-06-28T09:06:19.165Z"
   },
   {
    "duration": 1287,
    "start_time": "2022-06-28T09:06:19.571Z"
   },
   {
    "duration": 83,
    "start_time": "2022-06-28T09:06:20.861Z"
   },
   {
    "duration": 73,
    "start_time": "2022-06-28T09:06:20.946Z"
   },
   {
    "duration": 11,
    "start_time": "2022-06-28T09:06:21.022Z"
   },
   {
    "duration": 57,
    "start_time": "2022-06-28T09:06:21.035Z"
   },
   {
    "duration": 253,
    "start_time": "2022-06-28T09:06:21.093Z"
   },
   {
    "duration": 465,
    "start_time": "2022-06-28T09:06:21.347Z"
   },
   {
    "duration": 17,
    "start_time": "2022-06-28T09:06:21.814Z"
   },
   {
    "duration": 22,
    "start_time": "2022-06-28T09:06:21.833Z"
   },
   {
    "duration": 73,
    "start_time": "2022-06-28T09:06:21.857Z"
   },
   {
    "duration": 68,
    "start_time": "2022-06-28T09:06:21.932Z"
   },
   {
    "duration": 32,
    "start_time": "2022-06-28T09:06:22.001Z"
   },
   {
    "duration": 39,
    "start_time": "2022-06-28T09:06:22.037Z"
   },
   {
    "duration": 28,
    "start_time": "2022-06-28T09:06:22.078Z"
   },
   {
    "duration": 12,
    "start_time": "2022-06-28T09:06:22.108Z"
   },
   {
    "duration": 42,
    "start_time": "2022-06-28T09:06:22.121Z"
   },
   {
    "duration": 17,
    "start_time": "2022-06-28T09:06:22.165Z"
   },
   {
    "duration": 22,
    "start_time": "2022-06-28T09:06:22.184Z"
   },
   {
    "duration": 13,
    "start_time": "2022-06-28T09:06:22.207Z"
   },
   {
    "duration": 49,
    "start_time": "2022-06-28T09:06:22.222Z"
   },
   {
    "duration": 8,
    "start_time": "2022-06-28T09:06:22.273Z"
   },
   {
    "duration": 20,
    "start_time": "2022-06-28T09:06:22.284Z"
   },
   {
    "duration": 12,
    "start_time": "2022-06-28T09:06:22.305Z"
   },
   {
    "duration": 8,
    "start_time": "2022-06-28T09:06:22.319Z"
   },
   {
    "duration": 28,
    "start_time": "2022-06-28T09:06:22.329Z"
   },
   {
    "duration": 5,
    "start_time": "2022-06-28T09:06:22.359Z"
   },
   {
    "duration": 7,
    "start_time": "2022-06-28T09:06:22.365Z"
   },
   {
    "duration": 25,
    "start_time": "2022-06-28T09:06:22.374Z"
   },
   {
    "duration": 7,
    "start_time": "2022-06-28T09:06:22.400Z"
   },
   {
    "duration": 118,
    "start_time": "2022-06-28T09:06:42.058Z"
   },
   {
    "duration": 18,
    "start_time": "2022-06-28T09:06:45.377Z"
   },
   {
    "duration": 27,
    "start_time": "2022-06-28T09:10:48.436Z"
   },
   {
    "duration": 5,
    "start_time": "2022-06-28T09:19:44.429Z"
   },
   {
    "duration": 5,
    "start_time": "2022-06-28T09:19:58.601Z"
   },
   {
    "duration": 58,
    "start_time": "2022-06-28T09:19:59.429Z"
   },
   {
    "duration": 27,
    "start_time": "2022-06-28T09:20:00.059Z"
   },
   {
    "duration": 83,
    "start_time": "2022-06-28T09:21:26.471Z"
   },
   {
    "duration": 5,
    "start_time": "2022-06-28T09:21:30.180Z"
   },
   {
    "duration": 5,
    "start_time": "2022-06-28T09:30:08.490Z"
   },
   {
    "duration": 56,
    "start_time": "2022-06-28T09:30:08.912Z"
   },
   {
    "duration": 27,
    "start_time": "2022-06-28T09:30:09.404Z"
   },
   {
    "duration": 4,
    "start_time": "2022-06-28T09:32:54.739Z"
   },
   {
    "duration": 137,
    "start_time": "2022-06-28T09:32:55.106Z"
   },
   {
    "duration": 25,
    "start_time": "2022-06-28T09:32:55.602Z"
   },
   {
    "duration": 26,
    "start_time": "2022-06-28T09:35:25.115Z"
   },
   {
    "duration": 3,
    "start_time": "2022-06-28T11:17:53.864Z"
   },
   {
    "duration": 16,
    "start_time": "2022-06-28T11:17:54.613Z"
   },
   {
    "duration": 46,
    "start_time": "2022-06-30T17:47:27.688Z"
   },
   {
    "duration": 7,
    "start_time": "2022-06-30T21:02:58.545Z"
   },
   {
    "duration": 7,
    "start_time": "2022-06-30T21:04:01.078Z"
   },
   {
    "duration": 371,
    "start_time": "2022-06-30T21:04:10.768Z"
   },
   {
    "duration": 832,
    "start_time": "2022-06-30T21:04:11.141Z"
   },
   {
    "duration": 70,
    "start_time": "2022-06-30T21:04:11.974Z"
   },
   {
    "duration": 47,
    "start_time": "2022-06-30T21:04:12.046Z"
   },
   {
    "duration": 6,
    "start_time": "2022-06-30T21:04:12.095Z"
   },
   {
    "duration": 48,
    "start_time": "2022-06-30T21:04:12.103Z"
   },
   {
    "duration": 235,
    "start_time": "2022-06-30T21:04:12.153Z"
   },
   {
    "duration": 457,
    "start_time": "2022-06-30T21:04:12.389Z"
   },
   {
    "duration": 16,
    "start_time": "2022-06-30T21:04:12.848Z"
   },
   {
    "duration": 7,
    "start_time": "2022-06-30T21:04:12.865Z"
   },
   {
    "duration": 88,
    "start_time": "2022-06-30T21:04:12.873Z"
   },
   {
    "duration": 49,
    "start_time": "2022-06-30T21:04:12.962Z"
   },
   {
    "duration": 40,
    "start_time": "2022-06-30T21:04:13.012Z"
   },
   {
    "duration": 24,
    "start_time": "2022-06-30T21:04:13.055Z"
   },
   {
    "duration": 23,
    "start_time": "2022-06-30T21:04:13.081Z"
   },
   {
    "duration": 30,
    "start_time": "2022-06-30T21:04:13.105Z"
   },
   {
    "duration": 16,
    "start_time": "2022-06-30T21:04:13.136Z"
   },
   {
    "duration": 9,
    "start_time": "2022-06-30T21:04:13.153Z"
   },
   {
    "duration": 20,
    "start_time": "2022-06-30T21:04:13.164Z"
   },
   {
    "duration": 11,
    "start_time": "2022-06-30T21:04:13.186Z"
   },
   {
    "duration": 44,
    "start_time": "2022-06-30T21:04:13.198Z"
   },
   {
    "duration": 4,
    "start_time": "2022-06-30T21:04:13.244Z"
   },
   {
    "duration": 36,
    "start_time": "2022-06-30T21:04:13.249Z"
   },
   {
    "duration": 14,
    "start_time": "2022-06-30T21:04:13.287Z"
   },
   {
    "duration": 6,
    "start_time": "2022-06-30T21:04:13.303Z"
   },
   {
    "duration": 5,
    "start_time": "2022-06-30T21:04:13.311Z"
   },
   {
    "duration": 8,
    "start_time": "2022-06-30T21:04:13.318Z"
   },
   {
    "duration": 8,
    "start_time": "2022-06-30T21:04:13.328Z"
   },
   {
    "duration": 6,
    "start_time": "2022-06-30T21:04:13.337Z"
   },
   {
    "duration": 7,
    "start_time": "2022-06-30T21:04:13.344Z"
   },
   {
    "duration": 7,
    "start_time": "2022-06-30T21:04:13.352Z"
   },
   {
    "duration": 20,
    "start_time": "2022-06-30T21:04:13.360Z"
   },
   {
    "duration": 5,
    "start_time": "2022-06-30T21:04:13.381Z"
   },
   {
    "duration": 150,
    "start_time": "2022-06-30T21:04:13.388Z"
   },
   {
    "duration": 27,
    "start_time": "2022-06-30T21:04:13.539Z"
   },
   {
    "duration": 34,
    "start_time": "2022-06-30T21:08:44.380Z"
   },
   {
    "duration": 13,
    "start_time": "2022-06-30T21:09:55.002Z"
   },
   {
    "duration": 11,
    "start_time": "2022-06-30T21:11:47.234Z"
   },
   {
    "duration": 14,
    "start_time": "2022-06-30T21:11:47.951Z"
   },
   {
    "duration": 10,
    "start_time": "2022-06-30T21:18:34.908Z"
   },
   {
    "duration": 15,
    "start_time": "2022-06-30T21:18:47.082Z"
   },
   {
    "duration": 17,
    "start_time": "2022-06-30T21:19:00.534Z"
   },
   {
    "duration": 21,
    "start_time": "2022-06-30T21:28:32.514Z"
   },
   {
    "duration": 4,
    "start_time": "2022-06-30T21:31:23.530Z"
   },
   {
    "duration": 16,
    "start_time": "2022-06-30T21:33:34.190Z"
   },
   {
    "duration": 11,
    "start_time": "2022-06-30T21:34:24.981Z"
   },
   {
    "duration": 10,
    "start_time": "2022-06-30T21:34:28.565Z"
   },
   {
    "duration": 10,
    "start_time": "2022-06-30T21:34:33.480Z"
   },
   {
    "duration": 13,
    "start_time": "2022-06-30T21:34:41.468Z"
   },
   {
    "duration": 9,
    "start_time": "2022-06-30T21:34:47.714Z"
   },
   {
    "duration": 64,
    "start_time": "2022-06-30T21:39:44.705Z"
   },
   {
    "duration": 14,
    "start_time": "2022-06-30T21:39:50.027Z"
   },
   {
    "duration": 4,
    "start_time": "2022-06-30T21:40:02.268Z"
   },
   {
    "duration": 5,
    "start_time": "2022-06-30T21:40:03.026Z"
   },
   {
    "duration": 4,
    "start_time": "2022-06-30T21:40:03.450Z"
   },
   {
    "duration": 4,
    "start_time": "2022-06-30T21:40:03.873Z"
   },
   {
    "duration": 8,
    "start_time": "2022-06-30T21:40:04.580Z"
   },
   {
    "duration": 4,
    "start_time": "2022-06-30T21:42:01.135Z"
   },
   {
    "duration": 4,
    "start_time": "2022-06-30T21:42:01.422Z"
   },
   {
    "duration": 4,
    "start_time": "2022-06-30T21:43:37.422Z"
   },
   {
    "duration": 4,
    "start_time": "2022-06-30T21:43:40.132Z"
   },
   {
    "duration": 4,
    "start_time": "2022-06-30T21:43:40.792Z"
   },
   {
    "duration": 6,
    "start_time": "2022-06-30T21:45:11.343Z"
   },
   {
    "duration": 6,
    "start_time": "2022-06-30T21:47:41.406Z"
   },
   {
    "duration": 126,
    "start_time": "2022-06-30T21:48:02.659Z"
   },
   {
    "duration": 24,
    "start_time": "2022-06-30T21:48:09.994Z"
   },
   {
    "duration": 411,
    "start_time": "2022-07-01T10:28:35.148Z"
   },
   {
    "duration": 649,
    "start_time": "2022-07-01T10:28:35.560Z"
   },
   {
    "duration": 66,
    "start_time": "2022-07-01T10:28:36.211Z"
   },
   {
    "duration": 46,
    "start_time": "2022-07-01T10:28:36.278Z"
   },
   {
    "duration": 7,
    "start_time": "2022-07-01T10:28:36.327Z"
   },
   {
    "duration": 58,
    "start_time": "2022-07-01T10:28:36.336Z"
   },
   {
    "duration": 230,
    "start_time": "2022-07-01T10:28:36.396Z"
   },
   {
    "duration": 460,
    "start_time": "2022-07-01T10:28:36.628Z"
   },
   {
    "duration": 16,
    "start_time": "2022-07-01T10:28:37.090Z"
   },
   {
    "duration": 7,
    "start_time": "2022-07-01T10:28:37.107Z"
   },
   {
    "duration": 91,
    "start_time": "2022-07-01T10:28:37.116Z"
   },
   {
    "duration": 65,
    "start_time": "2022-07-01T10:28:37.209Z"
   },
   {
    "duration": 30,
    "start_time": "2022-07-01T10:28:37.275Z"
   },
   {
    "duration": 24,
    "start_time": "2022-07-01T10:28:37.307Z"
   },
   {
    "duration": 41,
    "start_time": "2022-07-01T10:28:37.333Z"
   },
   {
    "duration": 13,
    "start_time": "2022-07-01T10:28:37.376Z"
   },
   {
    "duration": 16,
    "start_time": "2022-07-01T10:28:37.391Z"
   },
   {
    "duration": 15,
    "start_time": "2022-07-01T10:28:37.409Z"
   },
   {
    "duration": 43,
    "start_time": "2022-07-01T10:28:37.426Z"
   },
   {
    "duration": 21,
    "start_time": "2022-07-01T10:28:37.471Z"
   },
   {
    "duration": 20,
    "start_time": "2022-07-01T10:28:37.493Z"
   },
   {
    "duration": 4,
    "start_time": "2022-07-01T10:28:37.514Z"
   },
   {
    "duration": 17,
    "start_time": "2022-07-01T10:28:37.520Z"
   },
   {
    "duration": 27,
    "start_time": "2022-07-01T10:28:37.539Z"
   },
   {
    "duration": 3,
    "start_time": "2022-07-01T10:28:37.568Z"
   },
   {
    "duration": 9,
    "start_time": "2022-07-01T10:28:37.572Z"
   },
   {
    "duration": 6,
    "start_time": "2022-07-01T10:28:37.582Z"
   },
   {
    "duration": 6,
    "start_time": "2022-07-01T10:28:37.589Z"
   },
   {
    "duration": 9,
    "start_time": "2022-07-01T10:28:37.596Z"
   },
   {
    "duration": 19,
    "start_time": "2022-07-01T10:28:37.606Z"
   },
   {
    "duration": 10,
    "start_time": "2022-07-01T10:28:37.626Z"
   },
   {
    "duration": 139,
    "start_time": "2022-07-01T10:28:37.637Z"
   },
   {
    "duration": 22,
    "start_time": "2022-07-01T10:28:37.778Z"
   },
   {
    "duration": 23,
    "start_time": "2022-07-01T12:10:34.400Z"
   },
   {
    "duration": 1698,
    "start_time": "2022-07-01T12:19:28.519Z"
   },
   {
    "duration": 153,
    "start_time": "2022-07-01T12:19:36.739Z"
   },
   {
    "duration": 158,
    "start_time": "2022-07-01T12:19:48.321Z"
   },
   {
    "duration": 128,
    "start_time": "2022-07-01T12:19:50.154Z"
   },
   {
    "duration": 3,
    "start_time": "2022-07-01T12:20:06.017Z"
   },
   {
    "duration": 174,
    "start_time": "2022-07-01T12:20:20.668Z"
   },
   {
    "duration": 3,
    "start_time": "2022-07-01T12:21:29.583Z"
   },
   {
    "duration": 392,
    "start_time": "2022-07-01T12:21:35.580Z"
   },
   {
    "duration": 376,
    "start_time": "2022-07-01T12:22:22.496Z"
   },
   {
    "duration": 202,
    "start_time": "2022-07-01T12:24:33.702Z"
   },
   {
    "duration": 15,
    "start_time": "2022-07-01T12:25:42.294Z"
   },
   {
    "duration": 12,
    "start_time": "2022-07-01T12:26:22.620Z"
   },
   {
    "duration": 830,
    "start_time": "2022-07-01T12:26:53.540Z"
   },
   {
    "duration": 759,
    "start_time": "2022-07-01T12:31:46.602Z"
   },
   {
    "duration": 791,
    "start_time": "2022-07-01T12:34:38.945Z"
   },
   {
    "duration": 798,
    "start_time": "2022-07-01T12:36:47.260Z"
   },
   {
    "duration": 227,
    "start_time": "2022-07-01T12:41:29.804Z"
   },
   {
    "duration": 639,
    "start_time": "2022-07-01T12:41:34.344Z"
   },
   {
    "duration": 611,
    "start_time": "2022-07-01T12:41:53.270Z"
   },
   {
    "duration": 814,
    "start_time": "2022-07-01T12:42:14.459Z"
   },
   {
    "duration": 13,
    "start_time": "2022-07-01T13:03:43.915Z"
   },
   {
    "duration": 228,
    "start_time": "2022-07-01T13:03:52.505Z"
   },
   {
    "duration": 930,
    "start_time": "2022-07-01T13:20:53.570Z"
   },
   {
    "duration": 5,
    "start_time": "2022-07-01T13:21:03.780Z"
   },
   {
    "duration": 164,
    "start_time": "2022-07-01T13:21:52.250Z"
   },
   {
    "duration": 302,
    "start_time": "2022-07-01T13:21:58.413Z"
   },
   {
    "duration": 119,
    "start_time": "2022-07-01T13:22:05.485Z"
   },
   {
    "duration": 287,
    "start_time": "2022-07-01T13:22:13.424Z"
   },
   {
    "duration": 55,
    "start_time": "2022-07-01T13:24:43.497Z"
   },
   {
    "duration": 10528,
    "start_time": "2022-07-01T13:36:31.125Z"
   },
   {
    "duration": 133,
    "start_time": "2022-07-01T13:38:35.419Z"
   },
   {
    "duration": 7,
    "start_time": "2022-07-01T13:39:23.427Z"
   },
   {
    "duration": 4,
    "start_time": "2022-07-01T13:40:06.722Z"
   },
   {
    "duration": 11,
    "start_time": "2022-07-01T13:40:10.679Z"
   },
   {
    "duration": 137,
    "start_time": "2022-07-01T13:40:18.136Z"
   },
   {
    "duration": 182,
    "start_time": "2022-07-01T13:40:27.507Z"
   },
   {
    "duration": 1049,
    "start_time": "2022-07-01T13:41:53.081Z"
   },
   {
    "duration": 2,
    "start_time": "2022-07-01T14:06:33.331Z"
   },
   {
    "duration": 354,
    "start_time": "2022-07-01T14:06:58.856Z"
   },
   {
    "duration": 19,
    "start_time": "2022-07-01T14:08:16.210Z"
   },
   {
    "duration": 818,
    "start_time": "2022-07-01T14:22:33.604Z"
   },
   {
    "duration": 939,
    "start_time": "2022-07-01T14:22:48.751Z"
   },
   {
    "duration": 934,
    "start_time": "2022-07-01T14:23:09.523Z"
   },
   {
    "duration": 1030,
    "start_time": "2022-07-01T14:23:22.708Z"
   },
   {
    "duration": 821,
    "start_time": "2022-07-01T14:24:10.773Z"
   },
   {
    "duration": 954,
    "start_time": "2022-07-01T14:24:16.334Z"
   },
   {
    "duration": 18,
    "start_time": "2022-07-01T14:24:36.584Z"
   },
   {
    "duration": 5,
    "start_time": "2022-07-01T14:28:51.541Z"
   },
   {
    "duration": 5,
    "start_time": "2022-07-01T14:28:57.785Z"
   },
   {
    "duration": 266,
    "start_time": "2022-07-01T14:29:46.691Z"
   },
   {
    "duration": 51,
    "start_time": "2022-07-01T14:30:10.310Z"
   },
   {
    "duration": 5,
    "start_time": "2022-07-01T14:30:16.836Z"
   },
   {
    "duration": 1003,
    "start_time": "2022-07-01T14:32:01.281Z"
   },
   {
    "duration": 807,
    "start_time": "2022-07-01T14:36:26.480Z"
   },
   {
    "duration": 848,
    "start_time": "2022-07-01T14:43:31.779Z"
   },
   {
    "duration": 278,
    "start_time": "2022-07-01T14:44:04.278Z"
   },
   {
    "duration": 129,
    "start_time": "2022-07-01T14:44:22.821Z"
   },
   {
    "duration": 203,
    "start_time": "2022-07-01T14:45:18.415Z"
   },
   {
    "duration": 229,
    "start_time": "2022-07-01T14:46:03.368Z"
   },
   {
    "duration": 124,
    "start_time": "2022-07-01T14:46:13.496Z"
   },
   {
    "duration": 925,
    "start_time": "2022-07-01T14:46:17.899Z"
   },
   {
    "duration": 290,
    "start_time": "2022-07-01T14:46:31.145Z"
   },
   {
    "duration": 250,
    "start_time": "2022-07-01T14:48:19.784Z"
   },
   {
    "duration": 835,
    "start_time": "2022-07-01T14:49:16.495Z"
   },
   {
    "duration": 978,
    "start_time": "2022-07-01T14:55:36.179Z"
   },
   {
    "duration": 849,
    "start_time": "2022-07-01T14:56:21.782Z"
   },
   {
    "duration": 967,
    "start_time": "2022-07-01T14:57:21.826Z"
   },
   {
    "duration": 403,
    "start_time": "2022-07-01T14:58:46.751Z"
   },
   {
    "duration": 456,
    "start_time": "2022-07-01T14:58:52.557Z"
   },
   {
    "duration": 468,
    "start_time": "2022-07-01T14:58:57.101Z"
   },
   {
    "duration": 541,
    "start_time": "2022-07-01T14:59:00.767Z"
   },
   {
    "duration": 21,
    "start_time": "2022-07-01T14:59:48.511Z"
   },
   {
    "duration": 32,
    "start_time": "2022-07-01T14:59:57.090Z"
   },
   {
    "duration": 35,
    "start_time": "2022-07-01T15:00:08.997Z"
   },
   {
    "duration": 58,
    "start_time": "2022-07-01T15:00:35.633Z"
   },
   {
    "duration": 44,
    "start_time": "2022-07-01T15:00:41.785Z"
   },
   {
    "duration": 47,
    "start_time": "2022-07-01T15:02:07.907Z"
   },
   {
    "duration": 24,
    "start_time": "2022-07-01T15:05:33.349Z"
   },
   {
    "duration": 43,
    "start_time": "2022-07-01T15:05:58.911Z"
   },
   {
    "duration": 114,
    "start_time": "2022-07-01T15:11:54.162Z"
   },
   {
    "duration": 8,
    "start_time": "2022-07-01T15:14:48.822Z"
   },
   {
    "duration": 79,
    "start_time": "2022-07-01T15:15:30.153Z"
   },
   {
    "duration": 4,
    "start_time": "2022-07-01T15:15:43.982Z"
   },
   {
    "duration": 7,
    "start_time": "2022-07-01T15:16:01.716Z"
   },
   {
    "duration": 7,
    "start_time": "2022-07-01T15:16:45.515Z"
   },
   {
    "duration": 6,
    "start_time": "2022-07-01T15:17:11.617Z"
   },
   {
    "duration": 12,
    "start_time": "2022-07-01T15:39:24.184Z"
   },
   {
    "duration": 37,
    "start_time": "2022-07-01T15:39:46.537Z"
   },
   {
    "duration": 13,
    "start_time": "2022-07-01T15:45:09.195Z"
   },
   {
    "duration": 6,
    "start_time": "2022-07-01T15:45:11.736Z"
   },
   {
    "duration": 7,
    "start_time": "2022-07-01T15:45:16.620Z"
   },
   {
    "duration": 13,
    "start_time": "2022-07-01T15:45:29.337Z"
   },
   {
    "duration": 9,
    "start_time": "2022-07-01T15:45:33.757Z"
   },
   {
    "duration": 279,
    "start_time": "2022-07-01T15:47:27.595Z"
   },
   {
    "duration": 28,
    "start_time": "2022-07-01T15:47:47.252Z"
   },
   {
    "duration": 23,
    "start_time": "2022-07-01T15:47:59.399Z"
   },
   {
    "duration": 43,
    "start_time": "2022-07-01T15:48:06.654Z"
   },
   {
    "duration": 44,
    "start_time": "2022-07-01T15:49:47.528Z"
   },
   {
    "duration": 10,
    "start_time": "2022-07-01T16:15:16.000Z"
   },
   {
    "duration": 321,
    "start_time": "2022-07-01T16:15:24.801Z"
   },
   {
    "duration": 19,
    "start_time": "2022-07-01T16:15:35.883Z"
   },
   {
    "duration": 8,
    "start_time": "2022-07-01T16:15:46.087Z"
   },
   {
    "duration": 15,
    "start_time": "2022-07-01T16:18:26.200Z"
   },
   {
    "duration": 9,
    "start_time": "2022-07-01T16:19:00.396Z"
   },
   {
    "duration": 44,
    "start_time": "2022-07-01T16:19:04.292Z"
   },
   {
    "duration": 56,
    "start_time": "2022-07-01T16:20:54.251Z"
   },
   {
    "duration": 6,
    "start_time": "2022-07-01T16:52:14.617Z"
   },
   {
    "duration": 5,
    "start_time": "2022-07-01T16:52:22.025Z"
   },
   {
    "duration": 19,
    "start_time": "2022-07-01T16:52:35.808Z"
   },
   {
    "duration": 25,
    "start_time": "2022-07-01T16:52:43.720Z"
   },
   {
    "duration": 55,
    "start_time": "2022-07-01T16:53:08.483Z"
   },
   {
    "duration": 75,
    "start_time": "2022-07-01T16:53:14.149Z"
   },
   {
    "duration": 171,
    "start_time": "2022-07-01T16:57:27.107Z"
   },
   {
    "duration": 104,
    "start_time": "2022-07-01T16:58:01.210Z"
   },
   {
    "duration": 101,
    "start_time": "2022-07-01T16:59:28.555Z"
   },
   {
    "duration": 64,
    "start_time": "2022-07-01T17:01:34.725Z"
   },
   {
    "duration": 52,
    "start_time": "2022-07-01T17:02:05.444Z"
   },
   {
    "duration": 6,
    "start_time": "2022-07-01T17:04:38.543Z"
   },
   {
    "duration": 71,
    "start_time": "2022-07-01T17:20:38.515Z"
   },
   {
    "duration": 49,
    "start_time": "2022-07-01T17:21:06.108Z"
   },
   {
    "duration": 48,
    "start_time": "2022-07-01T17:21:50.544Z"
   },
   {
    "duration": 4,
    "start_time": "2022-07-01T17:22:43.818Z"
   },
   {
    "duration": 28,
    "start_time": "2022-07-01T17:22:47.042Z"
   },
   {
    "duration": 40,
    "start_time": "2022-07-01T17:22:53.781Z"
   },
   {
    "duration": 36,
    "start_time": "2022-07-01T17:24:03.148Z"
   },
   {
    "duration": 381,
    "start_time": "2022-07-01T17:29:28.573Z"
   },
   {
    "duration": 28,
    "start_time": "2022-07-01T17:42:47.488Z"
   },
   {
    "duration": 74,
    "start_time": "2022-07-01T17:43:01.340Z"
   },
   {
    "duration": 71,
    "start_time": "2022-07-01T17:43:13.732Z"
   },
   {
    "duration": 32,
    "start_time": "2022-07-01T17:43:19.897Z"
   },
   {
    "duration": 9,
    "start_time": "2022-07-01T17:43:23.589Z"
   },
   {
    "duration": 9,
    "start_time": "2022-07-01T17:43:42.203Z"
   },
   {
    "duration": 48,
    "start_time": "2022-07-01T17:46:08.989Z"
   },
   {
    "duration": 4,
    "start_time": "2022-07-01T17:46:24.424Z"
   },
   {
    "duration": 4,
    "start_time": "2022-07-01T17:46:30.127Z"
   },
   {
    "duration": 11,
    "start_time": "2022-07-01T17:48:02.645Z"
   },
   {
    "duration": 34,
    "start_time": "2022-07-01T19:16:38.517Z"
   },
   {
    "duration": 22,
    "start_time": "2022-07-01T19:22:03.099Z"
   },
   {
    "duration": 28,
    "start_time": "2022-07-01T19:22:19.948Z"
   },
   {
    "duration": 30,
    "start_time": "2022-07-01T19:29:16.107Z"
   },
   {
    "duration": 28,
    "start_time": "2022-07-01T19:29:36.796Z"
   },
   {
    "duration": 8,
    "start_time": "2022-07-01T19:29:46.590Z"
   },
   {
    "duration": 296,
    "start_time": "2022-07-01T20:11:28.621Z"
   },
   {
    "duration": 351,
    "start_time": "2022-07-01T20:57:44.485Z"
   },
   {
    "duration": 378,
    "start_time": "2022-07-01T20:58:58.661Z"
   },
   {
    "duration": 49,
    "start_time": "2022-07-01T21:05:23.370Z"
   },
   {
    "duration": 92,
    "start_time": "2022-07-01T21:06:14.467Z"
   },
   {
    "duration": 51,
    "start_time": "2022-07-01T21:06:22.676Z"
   },
   {
    "duration": 8,
    "start_time": "2022-07-01T21:06:53.398Z"
   },
   {
    "duration": 4,
    "start_time": "2022-07-01T21:07:04.502Z"
   },
   {
    "duration": 13,
    "start_time": "2022-07-01T21:09:20.770Z"
   },
   {
    "duration": 4,
    "start_time": "2022-07-01T21:09:25.588Z"
   },
   {
    "duration": 3,
    "start_time": "2022-07-01T21:09:36.799Z"
   },
   {
    "duration": 12,
    "start_time": "2022-07-01T21:10:52.330Z"
   },
   {
    "duration": 10,
    "start_time": "2022-07-01T21:13:01.716Z"
   },
   {
    "duration": 27,
    "start_time": "2022-07-01T21:13:05.589Z"
   },
   {
    "duration": 19,
    "start_time": "2022-07-01T21:13:15.667Z"
   },
   {
    "duration": 7,
    "start_time": "2022-07-01T21:22:18.646Z"
   },
   {
    "duration": 5,
    "start_time": "2022-07-01T21:22:23.970Z"
   },
   {
    "duration": 6,
    "start_time": "2022-07-01T21:25:15.084Z"
   },
   {
    "duration": 5,
    "start_time": "2022-07-01T21:25:20.493Z"
   },
   {
    "duration": 2,
    "start_time": "2022-07-01T21:27:37.396Z"
   },
   {
    "duration": 10,
    "start_time": "2022-07-01T21:27:53.697Z"
   },
   {
    "duration": 5,
    "start_time": "2022-07-01T21:28:13.784Z"
   },
   {
    "duration": 9,
    "start_time": "2022-07-01T21:28:19.853Z"
   },
   {
    "duration": 6,
    "start_time": "2022-07-01T21:28:29.756Z"
   },
   {
    "duration": 5,
    "start_time": "2022-07-01T21:31:38.151Z"
   },
   {
    "duration": 8,
    "start_time": "2022-07-01T21:32:04.533Z"
   },
   {
    "duration": 5,
    "start_time": "2022-07-01T21:33:18.064Z"
   },
   {
    "duration": 5,
    "start_time": "2022-07-01T21:33:32.125Z"
   },
   {
    "duration": 3,
    "start_time": "2022-07-01T21:34:23.968Z"
   },
   {
    "duration": 3,
    "start_time": "2022-07-01T21:34:45.687Z"
   },
   {
    "duration": 49,
    "start_time": "2022-07-01T21:39:03.087Z"
   },
   {
    "duration": 25,
    "start_time": "2022-07-01T21:40:56.651Z"
   },
   {
    "duration": 6,
    "start_time": "2022-07-01T21:41:02.768Z"
   },
   {
    "duration": 9,
    "start_time": "2022-07-01T21:41:28.497Z"
   },
   {
    "duration": 7,
    "start_time": "2022-07-01T21:41:32.510Z"
   },
   {
    "duration": 6,
    "start_time": "2022-07-01T21:42:12.557Z"
   },
   {
    "duration": 3,
    "start_time": "2022-07-01T21:43:05.168Z"
   },
   {
    "duration": 1003,
    "start_time": "2022-07-01T21:44:42.119Z"
   },
   {
    "duration": 365,
    "start_time": "2022-07-01T21:44:43.124Z"
   },
   {
    "duration": 66,
    "start_time": "2022-07-01T21:44:43.490Z"
   },
   {
    "duration": 44,
    "start_time": "2022-07-01T21:44:43.558Z"
   },
   {
    "duration": 7,
    "start_time": "2022-07-01T21:44:43.603Z"
   },
   {
    "duration": 52,
    "start_time": "2022-07-01T21:44:43.612Z"
   },
   {
    "duration": 210,
    "start_time": "2022-07-01T21:44:43.665Z"
   },
   {
    "duration": 409,
    "start_time": "2022-07-01T21:44:43.876Z"
   },
   {
    "duration": 21,
    "start_time": "2022-07-01T21:44:44.287Z"
   },
   {
    "duration": 7,
    "start_time": "2022-07-01T21:44:44.311Z"
   },
   {
    "duration": 87,
    "start_time": "2022-07-01T21:44:44.319Z"
   },
   {
    "duration": 50,
    "start_time": "2022-07-01T21:44:44.408Z"
   },
   {
    "duration": 30,
    "start_time": "2022-07-01T21:44:44.460Z"
   },
   {
    "duration": 22,
    "start_time": "2022-07-01T21:44:44.492Z"
   },
   {
    "duration": 22,
    "start_time": "2022-07-01T21:44:44.516Z"
   },
   {
    "duration": 10,
    "start_time": "2022-07-01T21:44:44.558Z"
   },
   {
    "duration": 11,
    "start_time": "2022-07-01T21:44:44.570Z"
   },
   {
    "duration": 8,
    "start_time": "2022-07-01T21:44:44.582Z"
   },
   {
    "duration": 17,
    "start_time": "2022-07-01T21:44:44.591Z"
   },
   {
    "duration": 20,
    "start_time": "2022-07-01T21:44:44.609Z"
   },
   {
    "duration": 37,
    "start_time": "2022-07-01T21:44:44.630Z"
   },
   {
    "duration": 4,
    "start_time": "2022-07-01T21:44:44.668Z"
   },
   {
    "duration": 19,
    "start_time": "2022-07-01T21:44:44.673Z"
   },
   {
    "duration": 11,
    "start_time": "2022-07-01T21:44:44.693Z"
   },
   {
    "duration": 3,
    "start_time": "2022-07-01T21:44:44.705Z"
   },
   {
    "duration": 7,
    "start_time": "2022-07-01T21:44:44.709Z"
   },
   {
    "duration": 7,
    "start_time": "2022-07-01T21:44:44.718Z"
   },
   {
    "duration": 6,
    "start_time": "2022-07-01T21:44:44.729Z"
   },
   {
    "duration": 26,
    "start_time": "2022-07-01T21:44:44.736Z"
   },
   {
    "duration": 17,
    "start_time": "2022-07-01T21:44:44.764Z"
   },
   {
    "duration": 4,
    "start_time": "2022-07-01T21:44:44.783Z"
   },
   {
    "duration": 138,
    "start_time": "2022-07-01T21:44:44.789Z"
   },
   {
    "duration": 33,
    "start_time": "2022-07-01T21:44:44.929Z"
   },
   {
    "duration": 743,
    "start_time": "2022-07-01T21:44:44.963Z"
   },
   {
    "duration": 38,
    "start_time": "2022-07-01T21:44:45.708Z"
   },
   {
    "duration": 15,
    "start_time": "2022-07-01T21:44:45.747Z"
   },
   {
    "duration": 21,
    "start_time": "2022-07-01T21:44:45.763Z"
   },
   {
    "duration": 19,
    "start_time": "2022-07-01T21:44:45.785Z"
   },
   {
    "duration": 295,
    "start_time": "2022-07-01T21:44:45.806Z"
   },
   {
    "duration": 28,
    "start_time": "2022-07-01T21:44:46.102Z"
   },
   {
    "duration": 0,
    "start_time": "2022-07-01T21:44:46.132Z"
   },
   {
    "duration": 0,
    "start_time": "2022-07-01T21:44:46.134Z"
   },
   {
    "duration": 0,
    "start_time": "2022-07-01T21:44:46.135Z"
   },
   {
    "duration": 0,
    "start_time": "2022-07-01T21:44:46.137Z"
   },
   {
    "duration": 0,
    "start_time": "2022-07-01T21:44:46.138Z"
   },
   {
    "duration": 0,
    "start_time": "2022-07-01T21:44:46.139Z"
   },
   {
    "duration": 0,
    "start_time": "2022-07-01T21:44:46.141Z"
   },
   {
    "duration": 0,
    "start_time": "2022-07-01T21:44:46.142Z"
   },
   {
    "duration": 0,
    "start_time": "2022-07-01T21:44:46.144Z"
   },
   {
    "duration": 0,
    "start_time": "2022-07-01T21:44:46.145Z"
   },
   {
    "duration": 0,
    "start_time": "2022-07-01T21:44:46.146Z"
   },
   {
    "duration": 991,
    "start_time": "2022-07-01T21:45:06.618Z"
   },
   {
    "duration": 377,
    "start_time": "2022-07-01T21:45:07.611Z"
   },
   {
    "duration": 71,
    "start_time": "2022-07-01T21:45:07.990Z"
   },
   {
    "duration": 45,
    "start_time": "2022-07-01T21:45:08.063Z"
   },
   {
    "duration": 7,
    "start_time": "2022-07-01T21:45:08.109Z"
   },
   {
    "duration": 53,
    "start_time": "2022-07-01T21:45:08.117Z"
   },
   {
    "duration": 226,
    "start_time": "2022-07-01T21:45:08.171Z"
   },
   {
    "duration": 451,
    "start_time": "2022-07-01T21:45:08.398Z"
   },
   {
    "duration": 18,
    "start_time": "2022-07-01T21:45:08.858Z"
   },
   {
    "duration": 7,
    "start_time": "2022-07-01T21:45:08.878Z"
   },
   {
    "duration": 80,
    "start_time": "2022-07-01T21:45:08.886Z"
   },
   {
    "duration": 45,
    "start_time": "2022-07-01T21:45:08.968Z"
   },
   {
    "duration": 29,
    "start_time": "2022-07-01T21:45:09.015Z"
   },
   {
    "duration": 24,
    "start_time": "2022-07-01T21:45:09.058Z"
   },
   {
    "duration": 24,
    "start_time": "2022-07-01T21:45:09.084Z"
   },
   {
    "duration": 12,
    "start_time": "2022-07-01T21:45:09.109Z"
   },
   {
    "duration": 38,
    "start_time": "2022-07-01T21:45:09.122Z"
   },
   {
    "duration": 10,
    "start_time": "2022-07-01T21:45:09.161Z"
   },
   {
    "duration": 14,
    "start_time": "2022-07-01T21:45:09.173Z"
   },
   {
    "duration": 12,
    "start_time": "2022-07-01T21:45:09.189Z"
   },
   {
    "duration": 20,
    "start_time": "2022-07-01T21:45:09.203Z"
   },
   {
    "duration": 4,
    "start_time": "2022-07-01T21:45:09.258Z"
   },
   {
    "duration": 17,
    "start_time": "2022-07-01T21:45:09.264Z"
   },
   {
    "duration": 12,
    "start_time": "2022-07-01T21:45:09.283Z"
   },
   {
    "duration": 3,
    "start_time": "2022-07-01T21:45:09.297Z"
   },
   {
    "duration": 7,
    "start_time": "2022-07-01T21:45:09.302Z"
   },
   {
    "duration": 12,
    "start_time": "2022-07-01T21:45:09.310Z"
   },
   {
    "duration": 4,
    "start_time": "2022-07-01T21:45:09.325Z"
   },
   {
    "duration": 28,
    "start_time": "2022-07-01T21:45:09.330Z"
   },
   {
    "duration": 16,
    "start_time": "2022-07-01T21:45:09.360Z"
   },
   {
    "duration": 4,
    "start_time": "2022-07-01T21:45:09.378Z"
   },
   {
    "duration": 143,
    "start_time": "2022-07-01T21:45:09.384Z"
   },
   {
    "duration": 30,
    "start_time": "2022-07-01T21:45:09.529Z"
   },
   {
    "duration": 745,
    "start_time": "2022-07-01T21:45:09.561Z"
   },
   {
    "duration": 36,
    "start_time": "2022-07-01T21:45:10.308Z"
   },
   {
    "duration": 16,
    "start_time": "2022-07-01T21:45:10.345Z"
   },
   {
    "duration": 21,
    "start_time": "2022-07-01T21:45:10.363Z"
   },
   {
    "duration": 19,
    "start_time": "2022-07-01T21:45:10.385Z"
   },
   {
    "duration": 290,
    "start_time": "2022-07-01T21:45:10.406Z"
   },
   {
    "duration": 29,
    "start_time": "2022-07-01T21:45:10.698Z"
   },
   {
    "duration": 0,
    "start_time": "2022-07-01T21:45:10.728Z"
   },
   {
    "duration": 0,
    "start_time": "2022-07-01T21:45:10.730Z"
   },
   {
    "duration": 0,
    "start_time": "2022-07-01T21:45:10.731Z"
   },
   {
    "duration": 0,
    "start_time": "2022-07-01T21:45:10.733Z"
   },
   {
    "duration": 0,
    "start_time": "2022-07-01T21:45:10.734Z"
   },
   {
    "duration": 0,
    "start_time": "2022-07-01T21:45:10.736Z"
   },
   {
    "duration": 0,
    "start_time": "2022-07-01T21:45:10.737Z"
   },
   {
    "duration": 0,
    "start_time": "2022-07-01T21:45:10.738Z"
   },
   {
    "duration": 0,
    "start_time": "2022-07-01T21:45:10.739Z"
   },
   {
    "duration": 0,
    "start_time": "2022-07-01T21:45:10.740Z"
   },
   {
    "duration": 0,
    "start_time": "2022-07-01T21:45:10.741Z"
   },
   {
    "duration": 1062,
    "start_time": "2022-07-01T21:45:42.926Z"
   },
   {
    "duration": 368,
    "start_time": "2022-07-01T21:45:43.990Z"
   },
   {
    "duration": 74,
    "start_time": "2022-07-01T21:45:44.362Z"
   },
   {
    "duration": 63,
    "start_time": "2022-07-01T21:45:44.438Z"
   },
   {
    "duration": 7,
    "start_time": "2022-07-01T21:45:44.502Z"
   },
   {
    "duration": 56,
    "start_time": "2022-07-01T21:45:44.511Z"
   },
   {
    "duration": 211,
    "start_time": "2022-07-01T21:45:44.568Z"
   },
   {
    "duration": 432,
    "start_time": "2022-07-01T21:45:44.781Z"
   },
   {
    "duration": 17,
    "start_time": "2022-07-01T21:45:45.215Z"
   },
   {
    "duration": 25,
    "start_time": "2022-07-01T21:45:45.234Z"
   },
   {
    "duration": 66,
    "start_time": "2022-07-01T21:45:45.261Z"
   },
   {
    "duration": 56,
    "start_time": "2022-07-01T21:45:45.329Z"
   },
   {
    "duration": 29,
    "start_time": "2022-07-01T21:45:45.387Z"
   },
   {
    "duration": 23,
    "start_time": "2022-07-01T21:45:45.418Z"
   },
   {
    "duration": 37,
    "start_time": "2022-07-01T21:45:45.442Z"
   },
   {
    "duration": 10,
    "start_time": "2022-07-01T21:45:45.480Z"
   },
   {
    "duration": 11,
    "start_time": "2022-07-01T21:45:45.492Z"
   },
   {
    "duration": 8,
    "start_time": "2022-07-01T21:45:45.504Z"
   },
   {
    "duration": 16,
    "start_time": "2022-07-01T21:45:45.513Z"
   },
   {
    "duration": 11,
    "start_time": "2022-07-01T21:45:45.558Z"
   },
   {
    "duration": 19,
    "start_time": "2022-07-01T21:45:45.571Z"
   },
   {
    "duration": 4,
    "start_time": "2022-07-01T21:45:45.592Z"
   },
   {
    "duration": 24,
    "start_time": "2022-07-01T21:45:45.597Z"
   },
   {
    "duration": 18,
    "start_time": "2022-07-01T21:45:45.622Z"
   },
   {
    "duration": 18,
    "start_time": "2022-07-01T21:45:45.642Z"
   },
   {
    "duration": 8,
    "start_time": "2022-07-01T21:45:45.661Z"
   },
   {
    "duration": 9,
    "start_time": "2022-07-01T21:45:45.672Z"
   },
   {
    "duration": 5,
    "start_time": "2022-07-01T21:45:45.683Z"
   },
   {
    "duration": 8,
    "start_time": "2022-07-01T21:45:45.689Z"
   },
   {
    "duration": 16,
    "start_time": "2022-07-01T21:45:45.699Z"
   },
   {
    "duration": 5,
    "start_time": "2022-07-01T21:45:45.716Z"
   },
   {
    "duration": 147,
    "start_time": "2022-07-01T21:45:45.722Z"
   },
   {
    "duration": 23,
    "start_time": "2022-07-01T21:45:45.870Z"
   },
   {
    "duration": 771,
    "start_time": "2022-07-01T21:45:45.895Z"
   },
   {
    "duration": 38,
    "start_time": "2022-07-01T21:45:46.668Z"
   },
   {
    "duration": 5,
    "start_time": "2022-07-01T21:45:46.708Z"
   },
   {
    "duration": 25,
    "start_time": "2022-07-01T21:45:46.715Z"
   },
   {
    "duration": 40,
    "start_time": "2022-07-01T21:45:46.741Z"
   },
   {
    "duration": 295,
    "start_time": "2022-07-01T21:45:46.783Z"
   },
   {
    "duration": 12,
    "start_time": "2022-07-01T21:45:47.080Z"
   },
   {
    "duration": 9,
    "start_time": "2022-07-01T21:45:47.093Z"
   },
   {
    "duration": 19,
    "start_time": "2022-07-01T21:45:47.104Z"
   },
   {
    "duration": 34,
    "start_time": "2022-07-01T21:45:47.126Z"
   },
   {
    "duration": 12,
    "start_time": "2022-07-01T21:45:47.162Z"
   },
   {
    "duration": 9,
    "start_time": "2022-07-01T21:45:47.176Z"
   },
   {
    "duration": 13,
    "start_time": "2022-07-01T21:45:47.188Z"
   },
   {
    "duration": 12,
    "start_time": "2022-07-01T21:45:47.202Z"
   },
   {
    "duration": 11,
    "start_time": "2022-07-01T21:45:47.216Z"
   },
   {
    "duration": 8,
    "start_time": "2022-07-01T21:45:47.229Z"
   },
   {
    "duration": 20,
    "start_time": "2022-07-01T21:45:47.239Z"
   },
   {
    "duration": 999,
    "start_time": "2022-07-01T21:59:59.410Z"
   },
   {
    "duration": 385,
    "start_time": "2022-07-01T22:00:00.411Z"
   },
   {
    "duration": 73,
    "start_time": "2022-07-01T22:00:00.798Z"
   },
   {
    "duration": 49,
    "start_time": "2022-07-01T22:00:00.873Z"
   },
   {
    "duration": 8,
    "start_time": "2022-07-01T22:00:00.924Z"
   },
   {
    "duration": 55,
    "start_time": "2022-07-01T22:00:00.934Z"
   },
   {
    "duration": 250,
    "start_time": "2022-07-01T22:00:00.991Z"
   },
   {
    "duration": 523,
    "start_time": "2022-07-01T22:00:01.243Z"
   },
   {
    "duration": 20,
    "start_time": "2022-07-01T22:00:01.768Z"
   },
   {
    "duration": 13,
    "start_time": "2022-07-01T22:00:01.791Z"
   },
   {
    "duration": 116,
    "start_time": "2022-07-01T22:00:01.806Z"
   },
   {
    "duration": 53,
    "start_time": "2022-07-01T22:00:01.924Z"
   },
   {
    "duration": 31,
    "start_time": "2022-07-01T22:00:01.979Z"
   },
   {
    "duration": 28,
    "start_time": "2022-07-01T22:00:02.012Z"
   },
   {
    "duration": 62,
    "start_time": "2022-07-01T22:00:02.041Z"
   },
   {
    "duration": 47,
    "start_time": "2022-07-01T22:00:02.105Z"
   },
   {
    "duration": 105,
    "start_time": "2022-07-01T22:00:02.154Z"
   },
   {
    "duration": 131,
    "start_time": "2022-07-01T22:00:02.260Z"
   },
   {
    "duration": 53,
    "start_time": "2022-07-01T22:00:02.393Z"
   },
   {
    "duration": 34,
    "start_time": "2022-07-01T22:00:02.447Z"
   },
   {
    "duration": 26,
    "start_time": "2022-07-01T22:00:02.483Z"
   },
   {
    "duration": 36,
    "start_time": "2022-07-01T22:00:02.510Z"
   },
   {
    "duration": 29,
    "start_time": "2022-07-01T22:00:02.548Z"
   },
   {
    "duration": 20,
    "start_time": "2022-07-01T22:00:02.578Z"
   },
   {
    "duration": 20,
    "start_time": "2022-07-01T22:00:02.600Z"
   },
   {
    "duration": 72,
    "start_time": "2022-07-01T22:00:02.622Z"
   },
   {
    "duration": 22,
    "start_time": "2022-07-01T22:00:02.696Z"
   },
   {
    "duration": 12,
    "start_time": "2022-07-01T22:00:02.721Z"
   },
   {
    "duration": 25,
    "start_time": "2022-07-01T22:00:02.734Z"
   },
   {
    "duration": 38,
    "start_time": "2022-07-01T22:00:02.760Z"
   },
   {
    "duration": 7,
    "start_time": "2022-07-01T22:00:02.800Z"
   },
   {
    "duration": 145,
    "start_time": "2022-07-01T22:00:02.809Z"
   },
   {
    "duration": 27,
    "start_time": "2022-07-01T22:00:02.955Z"
   },
   {
    "duration": 826,
    "start_time": "2022-07-01T22:00:02.984Z"
   },
   {
    "duration": 55,
    "start_time": "2022-07-01T22:00:03.812Z"
   },
   {
    "duration": 7,
    "start_time": "2022-07-01T22:00:03.869Z"
   },
   {
    "duration": 30,
    "start_time": "2022-07-01T22:00:03.878Z"
   },
   {
    "duration": 22,
    "start_time": "2022-07-01T22:00:03.910Z"
   },
   {
    "duration": 326,
    "start_time": "2022-07-01T22:00:03.933Z"
   },
   {
    "duration": 15,
    "start_time": "2022-07-01T22:00:04.260Z"
   },
   {
    "duration": 13,
    "start_time": "2022-07-01T22:00:04.277Z"
   },
   {
    "duration": 22,
    "start_time": "2022-07-01T22:00:04.292Z"
   },
   {
    "duration": 7,
    "start_time": "2022-07-01T22:00:04.316Z"
   },
   {
    "duration": 11,
    "start_time": "2022-07-01T22:00:04.325Z"
   },
   {
    "duration": 6,
    "start_time": "2022-07-01T22:00:04.359Z"
   },
   {
    "duration": 11,
    "start_time": "2022-07-01T22:00:04.367Z"
   },
   {
    "duration": 9,
    "start_time": "2022-07-01T22:00:04.380Z"
   },
   {
    "duration": 12,
    "start_time": "2022-07-01T22:00:04.391Z"
   },
   {
    "duration": 11,
    "start_time": "2022-07-01T22:00:04.405Z"
   },
   {
    "duration": 7,
    "start_time": "2022-07-01T22:00:04.417Z"
   },
   {
    "duration": 58,
    "start_time": "2022-07-02T06:12:48.366Z"
   },
   {
    "duration": 1344,
    "start_time": "2022-07-02T06:12:55.414Z"
   },
   {
    "duration": 715,
    "start_time": "2022-07-02T06:12:56.760Z"
   },
   {
    "duration": 82,
    "start_time": "2022-07-02T06:12:57.477Z"
   },
   {
    "duration": 52,
    "start_time": "2022-07-02T06:12:57.560Z"
   },
   {
    "duration": 17,
    "start_time": "2022-07-02T06:12:57.615Z"
   },
   {
    "duration": 37,
    "start_time": "2022-07-02T06:12:57.634Z"
   },
   {
    "duration": 266,
    "start_time": "2022-07-02T06:12:57.673Z"
   },
   {
    "duration": 507,
    "start_time": "2022-07-02T06:12:57.940Z"
   },
   {
    "duration": 30,
    "start_time": "2022-07-02T06:12:58.449Z"
   },
   {
    "duration": 12,
    "start_time": "2022-07-02T06:12:58.481Z"
   },
   {
    "duration": 104,
    "start_time": "2022-07-02T06:12:58.495Z"
   },
   {
    "duration": 55,
    "start_time": "2022-07-02T06:12:58.601Z"
   },
   {
    "duration": 33,
    "start_time": "2022-07-02T06:12:58.658Z"
   },
   {
    "duration": 42,
    "start_time": "2022-07-02T06:12:58.695Z"
   },
   {
    "duration": 24,
    "start_time": "2022-07-02T06:12:58.738Z"
   },
   {
    "duration": 11,
    "start_time": "2022-07-02T06:12:58.764Z"
   },
   {
    "duration": 13,
    "start_time": "2022-07-02T06:12:58.776Z"
   },
   {
    "duration": 39,
    "start_time": "2022-07-02T06:12:58.791Z"
   },
   {
    "duration": 16,
    "start_time": "2022-07-02T06:12:58.833Z"
   },
   {
    "duration": 14,
    "start_time": "2022-07-02T06:12:58.851Z"
   },
   {
    "duration": 22,
    "start_time": "2022-07-02T06:12:58.867Z"
   },
   {
    "duration": 5,
    "start_time": "2022-07-02T06:12:58.891Z"
   },
   {
    "duration": 18,
    "start_time": "2022-07-02T06:12:58.928Z"
   },
   {
    "duration": 13,
    "start_time": "2022-07-02T06:12:58.948Z"
   },
   {
    "duration": 6,
    "start_time": "2022-07-02T06:12:58.963Z"
   },
   {
    "duration": 15,
    "start_time": "2022-07-02T06:12:58.971Z"
   },
   {
    "duration": 9,
    "start_time": "2022-07-02T06:12:58.987Z"
   },
   {
    "duration": 6,
    "start_time": "2022-07-02T06:12:58.998Z"
   },
   {
    "duration": 24,
    "start_time": "2022-07-02T06:12:59.006Z"
   },
   {
    "duration": 18,
    "start_time": "2022-07-02T06:12:59.031Z"
   },
   {
    "duration": 7,
    "start_time": "2022-07-02T06:12:59.051Z"
   },
   {
    "duration": 153,
    "start_time": "2022-07-02T06:12:59.060Z"
   },
   {
    "duration": 40,
    "start_time": "2022-07-02T06:12:59.215Z"
   },
   {
    "duration": 6,
    "start_time": "2022-07-02T06:12:59.257Z"
   },
   {
    "duration": 853,
    "start_time": "2022-07-02T06:12:59.265Z"
   },
   {
    "duration": 46,
    "start_time": "2022-07-02T06:13:00.119Z"
   },
   {
    "duration": 20,
    "start_time": "2022-07-02T06:13:00.166Z"
   },
   {
    "duration": 41,
    "start_time": "2022-07-02T06:13:00.187Z"
   },
   {
    "duration": 23,
    "start_time": "2022-07-02T06:13:00.230Z"
   },
   {
    "duration": 350,
    "start_time": "2022-07-02T06:13:00.255Z"
   },
   {
    "duration": 22,
    "start_time": "2022-07-02T06:13:00.610Z"
   },
   {
    "duration": 36,
    "start_time": "2022-07-02T06:13:00.634Z"
   },
   {
    "duration": 35,
    "start_time": "2022-07-02T06:13:00.673Z"
   },
   {
    "duration": 16,
    "start_time": "2022-07-02T06:13:00.711Z"
   },
   {
    "duration": 14,
    "start_time": "2022-07-02T06:13:00.729Z"
   },
   {
    "duration": 23,
    "start_time": "2022-07-02T06:13:00.745Z"
   },
   {
    "duration": 26,
    "start_time": "2022-07-02T06:13:00.770Z"
   },
   {
    "duration": 27,
    "start_time": "2022-07-02T06:13:00.798Z"
   },
   {
    "duration": 25,
    "start_time": "2022-07-02T06:13:00.827Z"
   },
   {
    "duration": 6,
    "start_time": "2022-07-02T06:13:00.854Z"
   },
   {
    "duration": 10,
    "start_time": "2022-07-02T06:13:00.862Z"
   },
   {
    "duration": 19,
    "start_time": "2022-07-02T06:13:31.588Z"
   },
   {
    "duration": 5,
    "start_time": "2022-07-02T06:13:40.069Z"
   },
   {
    "duration": 17,
    "start_time": "2022-07-02T06:14:08.191Z"
   },
   {
    "duration": 9,
    "start_time": "2022-07-02T06:17:32.245Z"
   },
   {
    "duration": 8,
    "start_time": "2022-07-02T06:17:46.476Z"
   },
   {
    "duration": 10,
    "start_time": "2022-07-02T06:17:56.302Z"
   },
   {
    "duration": 130,
    "start_time": "2022-07-02T06:25:17.974Z"
   },
   {
    "duration": 4,
    "start_time": "2022-07-02T06:25:22.488Z"
   },
   {
    "duration": 4,
    "start_time": "2022-07-02T06:25:23.358Z"
   },
   {
    "duration": 1124,
    "start_time": "2022-07-02T06:25:48.496Z"
   },
   {
    "duration": 168,
    "start_time": "2022-07-02T06:25:52.592Z"
   },
   {
    "duration": 162,
    "start_time": "2022-07-02T06:26:10.824Z"
   },
   {
    "duration": 164,
    "start_time": "2022-07-02T06:26:12.048Z"
   },
   {
    "duration": 35,
    "start_time": "2022-07-02T06:26:14.425Z"
   },
   {
    "duration": 1079,
    "start_time": "2022-07-02T06:26:22.807Z"
   },
   {
    "duration": 381,
    "start_time": "2022-07-02T06:26:23.888Z"
   },
   {
    "duration": 74,
    "start_time": "2022-07-02T06:26:24.272Z"
   },
   {
    "duration": 50,
    "start_time": "2022-07-02T06:26:24.348Z"
   },
   {
    "duration": 8,
    "start_time": "2022-07-02T06:26:24.399Z"
   },
   {
    "duration": 49,
    "start_time": "2022-07-02T06:26:24.408Z"
   },
   {
    "duration": 243,
    "start_time": "2022-07-02T06:26:24.458Z"
   },
   {
    "duration": 490,
    "start_time": "2022-07-02T06:26:24.703Z"
   },
   {
    "duration": 34,
    "start_time": "2022-07-02T06:26:25.194Z"
   },
   {
    "duration": 10,
    "start_time": "2022-07-02T06:26:25.230Z"
   },
   {
    "duration": 91,
    "start_time": "2022-07-02T06:26:25.242Z"
   },
   {
    "duration": 49,
    "start_time": "2022-07-02T06:26:25.335Z"
   },
   {
    "duration": 42,
    "start_time": "2022-07-02T06:26:25.387Z"
   },
   {
    "duration": 23,
    "start_time": "2022-07-02T06:26:25.431Z"
   },
   {
    "duration": 24,
    "start_time": "2022-07-02T06:26:25.456Z"
   },
   {
    "duration": 10,
    "start_time": "2022-07-02T06:26:25.482Z"
   },
   {
    "duration": 12,
    "start_time": "2022-07-02T06:26:25.494Z"
   },
   {
    "duration": 9,
    "start_time": "2022-07-02T06:26:25.527Z"
   },
   {
    "duration": 15,
    "start_time": "2022-07-02T06:26:25.538Z"
   },
   {
    "duration": 11,
    "start_time": "2022-07-02T06:26:25.555Z"
   },
   {
    "duration": 21,
    "start_time": "2022-07-02T06:26:25.568Z"
   },
   {
    "duration": 4,
    "start_time": "2022-07-02T06:26:25.591Z"
   },
   {
    "duration": 20,
    "start_time": "2022-07-02T06:26:25.628Z"
   },
   {
    "duration": 18,
    "start_time": "2022-07-02T06:26:25.650Z"
   },
   {
    "duration": 4,
    "start_time": "2022-07-02T06:26:25.669Z"
   },
   {
    "duration": 18,
    "start_time": "2022-07-02T06:26:25.675Z"
   },
   {
    "duration": 10,
    "start_time": "2022-07-02T06:26:25.695Z"
   },
   {
    "duration": 6,
    "start_time": "2022-07-02T06:26:25.707Z"
   },
   {
    "duration": 14,
    "start_time": "2022-07-02T06:26:25.715Z"
   },
   {
    "duration": 22,
    "start_time": "2022-07-02T06:26:25.731Z"
   },
   {
    "duration": 11,
    "start_time": "2022-07-02T06:26:25.755Z"
   },
   {
    "duration": 138,
    "start_time": "2022-07-02T06:26:25.768Z"
   },
   {
    "duration": 23,
    "start_time": "2022-07-02T06:26:25.908Z"
   },
   {
    "duration": 4,
    "start_time": "2022-07-02T06:26:25.933Z"
   },
   {
    "duration": 12,
    "start_time": "2022-07-02T06:26:25.938Z"
   },
   {
    "duration": 983,
    "start_time": "2022-07-02T06:26:25.951Z"
   },
   {
    "duration": 42,
    "start_time": "2022-07-02T06:26:26.936Z"
   },
   {
    "duration": 6,
    "start_time": "2022-07-02T06:26:26.979Z"
   },
   {
    "duration": 47,
    "start_time": "2022-07-02T06:26:26.987Z"
   },
   {
    "duration": 27,
    "start_time": "2022-07-02T06:26:27.038Z"
   },
   {
    "duration": 381,
    "start_time": "2022-07-02T06:26:27.067Z"
   },
   {
    "duration": 15,
    "start_time": "2022-07-02T06:26:27.450Z"
   },
   {
    "duration": 9,
    "start_time": "2022-07-02T06:26:27.467Z"
   },
   {
    "duration": 24,
    "start_time": "2022-07-02T06:26:27.478Z"
   },
   {
    "duration": 28,
    "start_time": "2022-07-02T06:26:27.504Z"
   },
   {
    "duration": 11,
    "start_time": "2022-07-02T06:26:27.534Z"
   },
   {
    "duration": 9,
    "start_time": "2022-07-02T06:26:27.546Z"
   },
   {
    "duration": 5,
    "start_time": "2022-07-02T06:26:27.556Z"
   },
   {
    "duration": 7,
    "start_time": "2022-07-02T06:26:27.563Z"
   },
   {
    "duration": 9,
    "start_time": "2022-07-02T06:26:27.572Z"
   },
   {
    "duration": 6,
    "start_time": "2022-07-02T06:26:27.583Z"
   },
   {
    "duration": 7,
    "start_time": "2022-07-02T06:26:27.591Z"
   },
   {
    "duration": 160,
    "start_time": "2022-07-02T06:26:27.600Z"
   },
   {
    "duration": 3,
    "start_time": "2022-07-02T06:26:27.762Z"
   },
   {
    "duration": 10,
    "start_time": "2022-07-02T06:26:27.766Z"
   },
   {
    "duration": 1170,
    "start_time": "2022-07-02T06:26:27.777Z"
   },
   {
    "duration": 189,
    "start_time": "2022-07-02T06:26:28.949Z"
   },
   {
    "duration": 191,
    "start_time": "2022-07-02T06:26:29.139Z"
   },
   {
    "duration": 187,
    "start_time": "2022-07-02T06:26:29.332Z"
   },
   {
    "duration": 47,
    "start_time": "2022-07-02T06:26:29.521Z"
   },
   {
    "duration": 1166,
    "start_time": "2022-07-02T13:05:37.292Z"
   },
   {
    "duration": 1204,
    "start_time": "2022-07-02T13:05:39.025Z"
   },
   {
    "duration": 60,
    "start_time": "2022-07-02T13:05:40.231Z"
   },
   {
    "duration": 41,
    "start_time": "2022-07-02T13:05:43.332Z"
   },
   {
    "duration": 8,
    "start_time": "2022-07-02T13:05:45.613Z"
   },
   {
    "duration": 34,
    "start_time": "2022-07-02T13:05:48.023Z"
   },
   {
    "duration": 186,
    "start_time": "2022-07-02T13:05:50.798Z"
   },
   {
    "duration": 373,
    "start_time": "2022-07-02T13:05:51.582Z"
   },
   {
    "duration": 18,
    "start_time": "2022-07-02T13:05:54.682Z"
   },
   {
    "duration": 8,
    "start_time": "2022-07-02T13:05:58.630Z"
   },
   {
    "duration": 67,
    "start_time": "2022-07-02T13:06:04.741Z"
   },
   {
    "duration": 4,
    "start_time": "2022-07-02T13:15:25.647Z"
   },
   {
    "duration": 9,
    "start_time": "2022-07-02T13:15:32.996Z"
   },
   {
    "duration": 4,
    "start_time": "2022-07-02T13:24:00.604Z"
   },
   {
    "duration": 105,
    "start_time": "2022-07-02T13:24:06.432Z"
   },
   {
    "duration": 3,
    "start_time": "2022-07-02T13:24:17.764Z"
   },
   {
    "duration": 354,
    "start_time": "2022-07-02T13:24:18.223Z"
   },
   {
    "duration": 63,
    "start_time": "2022-07-02T13:24:19.363Z"
   },
   {
    "duration": 51,
    "start_time": "2022-07-02T13:24:20.134Z"
   },
   {
    "duration": 6,
    "start_time": "2022-07-02T13:24:21.701Z"
   },
   {
    "duration": 36,
    "start_time": "2022-07-02T13:24:23.551Z"
   },
   {
    "duration": 172,
    "start_time": "2022-07-02T13:24:25.103Z"
   },
   {
    "duration": 343,
    "start_time": "2022-07-02T13:24:25.615Z"
   },
   {
    "duration": 17,
    "start_time": "2022-07-02T13:24:28.274Z"
   },
   {
    "duration": 9,
    "start_time": "2022-07-02T13:24:29.765Z"
   },
   {
    "duration": 63,
    "start_time": "2022-07-02T13:24:34.263Z"
   },
   {
    "duration": 51,
    "start_time": "2022-07-02T13:24:36.207Z"
   },
   {
    "duration": 4,
    "start_time": "2022-07-02T13:24:40.915Z"
   },
   {
    "duration": 22,
    "start_time": "2022-07-02T13:24:42.146Z"
   },
   {
    "duration": 20,
    "start_time": "2022-07-02T13:25:17.139Z"
   },
   {
    "duration": 22,
    "start_time": "2022-07-02T13:25:17.698Z"
   },
   {
    "duration": 12,
    "start_time": "2022-07-02T13:25:19.394Z"
   },
   {
    "duration": 12,
    "start_time": "2022-07-02T13:25:20.820Z"
   },
   {
    "duration": 9,
    "start_time": "2022-07-02T13:25:24.324Z"
   },
   {
    "duration": 15,
    "start_time": "2022-07-02T13:25:25.252Z"
   },
   {
    "duration": 12,
    "start_time": "2022-07-02T13:25:27.598Z"
   },
   {
    "duration": 20,
    "start_time": "2022-07-02T13:25:31.424Z"
   },
   {
    "duration": 4,
    "start_time": "2022-07-02T13:25:41.463Z"
   },
   {
    "duration": 15,
    "start_time": "2022-07-02T13:25:44.761Z"
   },
   {
    "duration": 11,
    "start_time": "2022-07-02T13:25:48.809Z"
   },
   {
    "duration": 2,
    "start_time": "2022-07-02T13:25:50.630Z"
   },
   {
    "duration": 4,
    "start_time": "2022-07-02T13:30:25.217Z"
   },
   {
    "duration": 4,
    "start_time": "2022-07-02T13:30:33.251Z"
   },
   {
    "duration": 7,
    "start_time": "2022-07-02T13:30:39.532Z"
   },
   {
    "duration": 17,
    "start_time": "2022-07-02T13:30:45.113Z"
   },
   {
    "duration": 4,
    "start_time": "2022-07-02T13:31:13.696Z"
   },
   {
    "duration": 131,
    "start_time": "2022-07-02T13:31:14.596Z"
   },
   {
    "duration": 22,
    "start_time": "2022-07-02T13:31:17.949Z"
   },
   {
    "duration": 4,
    "start_time": "2022-07-02T13:31:31.953Z"
   },
   {
    "duration": 13,
    "start_time": "2022-07-02T13:31:33.398Z"
   },
   {
    "duration": 813,
    "start_time": "2022-07-02T13:31:53.225Z"
   },
   {
    "duration": 39,
    "start_time": "2022-07-02T13:37:52.006Z"
   },
   {
    "duration": 5,
    "start_time": "2022-07-02T13:39:28.426Z"
   },
   {
    "duration": 4,
    "start_time": "2022-07-02T13:39:32.160Z"
   },
   {
    "duration": 5,
    "start_time": "2022-07-02T13:39:35.615Z"
   },
   {
    "duration": 3,
    "start_time": "2022-07-02T13:39:38.913Z"
   },
   {
    "duration": 3,
    "start_time": "2022-07-02T13:39:42.110Z"
   },
   {
    "duration": 641,
    "start_time": "2022-07-02T15:22:21.810Z"
   },
   {
    "duration": 286,
    "start_time": "2022-07-02T15:22:31.212Z"
   },
   {
    "duration": 252,
    "start_time": "2022-07-02T15:23:50.539Z"
   },
   {
    "duration": 209,
    "start_time": "2022-07-02T15:26:10.548Z"
   },
   {
    "duration": 385,
    "start_time": "2022-07-02T15:27:47.057Z"
   },
   {
    "duration": 276,
    "start_time": "2022-07-02T15:29:16.727Z"
   },
   {
    "duration": 869,
    "start_time": "2022-07-02T15:29:29.364Z"
   },
   {
    "duration": 181,
    "start_time": "2022-07-02T15:30:07.124Z"
   },
   {
    "duration": 108,
    "start_time": "2022-07-02T15:32:19.519Z"
   },
   {
    "duration": 20,
    "start_time": "2022-07-02T15:32:33.115Z"
   },
   {
    "duration": 15,
    "start_time": "2022-07-02T15:32:39.886Z"
   },
   {
    "duration": 116,
    "start_time": "2022-07-02T15:32:50.332Z"
   },
   {
    "duration": 15,
    "start_time": "2022-07-02T15:32:54.133Z"
   },
   {
    "duration": 837,
    "start_time": "2022-07-02T15:32:56.020Z"
   },
   {
    "duration": 260,
    "start_time": "2022-07-02T15:33:30.508Z"
   },
   {
    "duration": 915,
    "start_time": "2022-07-02T15:33:39.816Z"
   },
   {
    "duration": 1242,
    "start_time": "2022-07-02T15:33:54.854Z"
   },
   {
    "duration": 854,
    "start_time": "2022-07-02T15:34:08.070Z"
   },
   {
    "duration": 282,
    "start_time": "2022-07-02T15:34:23.385Z"
   },
   {
    "duration": 252,
    "start_time": "2022-07-02T15:34:29.568Z"
   },
   {
    "duration": 876,
    "start_time": "2022-07-02T15:34:33.638Z"
   },
   {
    "duration": 864,
    "start_time": "2022-07-02T15:36:52.966Z"
   },
   {
    "duration": 910,
    "start_time": "2022-07-02T15:37:18.061Z"
   },
   {
    "duration": 892,
    "start_time": "2022-07-02T15:38:18.819Z"
   },
   {
    "duration": 971,
    "start_time": "2022-07-02T15:38:28.550Z"
   },
   {
    "duration": 859,
    "start_time": "2022-07-02T15:38:37.966Z"
   },
   {
    "duration": 469,
    "start_time": "2022-07-02T15:39:36.984Z"
   },
   {
    "duration": 1044,
    "start_time": "2022-07-02T15:41:39.310Z"
   },
   {
    "duration": 361,
    "start_time": "2022-07-02T15:41:40.356Z"
   },
   {
    "duration": 59,
    "start_time": "2022-07-02T15:41:40.718Z"
   },
   {
    "duration": 51,
    "start_time": "2022-07-02T15:41:40.779Z"
   },
   {
    "duration": 7,
    "start_time": "2022-07-02T15:41:40.831Z"
   },
   {
    "duration": 30,
    "start_time": "2022-07-02T15:41:40.839Z"
   },
   {
    "duration": 217,
    "start_time": "2022-07-02T15:41:40.870Z"
   },
   {
    "duration": 402,
    "start_time": "2022-07-02T15:41:41.089Z"
   },
   {
    "duration": 17,
    "start_time": "2022-07-02T15:41:41.493Z"
   },
   {
    "duration": 26,
    "start_time": "2022-07-02T15:41:41.512Z"
   },
   {
    "duration": 63,
    "start_time": "2022-07-02T15:41:41.539Z"
   },
   {
    "duration": 61,
    "start_time": "2022-07-02T15:41:41.604Z"
   },
   {
    "duration": 5,
    "start_time": "2022-07-02T15:41:41.666Z"
   },
   {
    "duration": 30,
    "start_time": "2022-07-02T15:41:41.673Z"
   },
   {
    "duration": 36,
    "start_time": "2022-07-02T15:41:41.705Z"
   },
   {
    "duration": 20,
    "start_time": "2022-07-02T15:41:41.742Z"
   },
   {
    "duration": 10,
    "start_time": "2022-07-02T15:41:41.764Z"
   },
   {
    "duration": 11,
    "start_time": "2022-07-02T15:41:41.776Z"
   },
   {
    "duration": 8,
    "start_time": "2022-07-02T15:41:41.788Z"
   },
   {
    "duration": 41,
    "start_time": "2022-07-02T15:41:41.797Z"
   },
   {
    "duration": 17,
    "start_time": "2022-07-02T15:41:41.840Z"
   },
   {
    "duration": 20,
    "start_time": "2022-07-02T15:41:41.858Z"
   },
   {
    "duration": 4,
    "start_time": "2022-07-02T15:41:41.879Z"
   },
   {
    "duration": 18,
    "start_time": "2022-07-02T15:41:41.885Z"
   },
   {
    "duration": 34,
    "start_time": "2022-07-02T15:41:41.904Z"
   },
   {
    "duration": 3,
    "start_time": "2022-07-02T15:41:41.940Z"
   },
   {
    "duration": 6,
    "start_time": "2022-07-02T15:41:41.944Z"
   },
   {
    "duration": 5,
    "start_time": "2022-07-02T15:41:41.953Z"
   },
   {
    "duration": 8,
    "start_time": "2022-07-02T15:41:41.959Z"
   },
   {
    "duration": 18,
    "start_time": "2022-07-02T15:41:41.968Z"
   },
   {
    "duration": 4,
    "start_time": "2022-07-02T15:41:41.988Z"
   },
   {
    "duration": 155,
    "start_time": "2022-07-02T15:41:41.994Z"
   },
   {
    "duration": 23,
    "start_time": "2022-07-02T15:41:42.150Z"
   },
   {
    "duration": 4,
    "start_time": "2022-07-02T15:41:42.174Z"
   },
   {
    "duration": 12,
    "start_time": "2022-07-02T15:41:42.179Z"
   },
   {
    "duration": 832,
    "start_time": "2022-07-02T15:41:42.192Z"
   },
   {
    "duration": 43,
    "start_time": "2022-07-02T15:41:43.029Z"
   },
   {
    "duration": 7,
    "start_time": "2022-07-02T15:41:43.074Z"
   },
   {
    "duration": 22,
    "start_time": "2022-07-02T15:41:43.082Z"
   },
   {
    "duration": 35,
    "start_time": "2022-07-02T15:41:43.105Z"
   },
   {
    "duration": 364,
    "start_time": "2022-07-02T15:41:43.142Z"
   },
   {
    "duration": 27,
    "start_time": "2022-07-02T15:41:43.508Z"
   },
   {
    "duration": 9,
    "start_time": "2022-07-02T15:41:43.537Z"
   },
   {
    "duration": 32,
    "start_time": "2022-07-02T15:41:43.548Z"
   },
   {
    "duration": 8,
    "start_time": "2022-07-02T15:41:43.581Z"
   },
   {
    "duration": 9,
    "start_time": "2022-07-02T15:41:43.591Z"
   },
   {
    "duration": 8,
    "start_time": "2022-07-02T15:41:43.602Z"
   },
   {
    "duration": 19,
    "start_time": "2022-07-02T15:41:43.612Z"
   },
   {
    "duration": 8,
    "start_time": "2022-07-02T15:41:43.632Z"
   },
   {
    "duration": 9,
    "start_time": "2022-07-02T15:41:43.642Z"
   },
   {
    "duration": 7,
    "start_time": "2022-07-02T15:41:43.653Z"
   },
   {
    "duration": 21,
    "start_time": "2022-07-02T15:41:43.662Z"
   },
   {
    "duration": 131,
    "start_time": "2022-07-02T15:41:43.687Z"
   },
   {
    "duration": 4,
    "start_time": "2022-07-02T15:41:43.819Z"
   },
   {
    "duration": 8,
    "start_time": "2022-07-02T15:41:43.829Z"
   },
   {
    "duration": 1093,
    "start_time": "2022-07-02T15:41:43.838Z"
   },
   {
    "duration": 178,
    "start_time": "2022-07-02T15:41:44.933Z"
   },
   {
    "duration": 182,
    "start_time": "2022-07-02T15:41:45.113Z"
   },
   {
    "duration": 183,
    "start_time": "2022-07-02T15:41:45.298Z"
   },
   {
    "duration": 66,
    "start_time": "2022-07-02T15:41:45.483Z"
   },
   {
    "duration": 6,
    "start_time": "2022-07-02T15:51:45.229Z"
   },
   {
    "duration": 6,
    "start_time": "2022-07-02T15:52:35.931Z"
   },
   {
    "duration": 8,
    "start_time": "2022-07-02T15:52:43.631Z"
   },
   {
    "duration": 7,
    "start_time": "2022-07-02T15:53:30.169Z"
   },
   {
    "duration": 15,
    "start_time": "2022-07-02T15:55:25.991Z"
   },
   {
    "duration": 14,
    "start_time": "2022-07-02T15:55:35.897Z"
   },
   {
    "duration": 13,
    "start_time": "2022-07-02T15:56:15.016Z"
   },
   {
    "duration": 21,
    "start_time": "2022-07-02T15:57:43.297Z"
   },
   {
    "duration": 24,
    "start_time": "2022-07-02T15:57:57.084Z"
   },
   {
    "duration": 37,
    "start_time": "2022-07-02T15:59:45.499Z"
   },
   {
    "duration": 43,
    "start_time": "2022-07-02T16:00:26.387Z"
   },
   {
    "duration": 41,
    "start_time": "2022-07-02T16:01:01.648Z"
   },
   {
    "duration": 67,
    "start_time": "2022-07-02T16:02:53.786Z"
   },
   {
    "duration": 57,
    "start_time": "2022-07-02T16:04:55.739Z"
   },
   {
    "duration": 76,
    "start_time": "2022-07-02T16:07:14.917Z"
   },
   {
    "duration": 61,
    "start_time": "2022-07-02T16:08:05.595Z"
   },
   {
    "duration": 64,
    "start_time": "2022-07-02T16:08:35.570Z"
   },
   {
    "duration": 63,
    "start_time": "2022-07-02T16:08:49.447Z"
   },
   {
    "duration": 51,
    "start_time": "2022-07-02T16:09:22.119Z"
   },
   {
    "duration": 90,
    "start_time": "2022-07-02T16:17:43.089Z"
   },
   {
    "duration": 148,
    "start_time": "2022-07-02T16:18:17.519Z"
   },
   {
    "duration": 4,
    "start_time": "2022-07-02T16:21:38.485Z"
   },
   {
    "duration": 39,
    "start_time": "2022-07-02T16:48:27.048Z"
   },
   {
    "duration": 18,
    "start_time": "2022-07-02T17:14:31.838Z"
   },
   {
    "duration": 96,
    "start_time": "2022-07-02T17:32:41.687Z"
   },
   {
    "duration": 16,
    "start_time": "2022-07-02T17:32:48.817Z"
   },
   {
    "duration": 32,
    "start_time": "2022-07-02T17:33:32.426Z"
   },
   {
    "duration": 15,
    "start_time": "2022-07-02T17:33:50.197Z"
   },
   {
    "duration": 3,
    "start_time": "2022-07-02T17:34:29.560Z"
   },
   {
    "duration": 39,
    "start_time": "2022-07-02T17:34:31.683Z"
   },
   {
    "duration": 15,
    "start_time": "2022-07-02T17:34:33.134Z"
   },
   {
    "duration": 29,
    "start_time": "2022-07-02T17:34:38.842Z"
   },
   {
    "duration": 4,
    "start_time": "2022-07-02T17:36:55.510Z"
   },
   {
    "duration": 53,
    "start_time": "2022-07-02T17:36:56.031Z"
   },
   {
    "duration": 32,
    "start_time": "2022-07-02T17:36:56.623Z"
   },
   {
    "duration": 16,
    "start_time": "2022-07-02T17:37:02.286Z"
   },
   {
    "duration": 4,
    "start_time": "2022-07-02T17:39:47.227Z"
   },
   {
    "duration": 49,
    "start_time": "2022-07-02T17:39:48.947Z"
   },
   {
    "duration": 17,
    "start_time": "2022-07-02T17:39:49.366Z"
   },
   {
    "duration": 5,
    "start_time": "2022-07-02T17:40:48.495Z"
   },
   {
    "duration": 5,
    "start_time": "2022-07-02T17:40:52.012Z"
   },
   {
    "duration": 44,
    "start_time": "2022-07-02T17:40:53.795Z"
   },
   {
    "duration": 14,
    "start_time": "2022-07-02T17:40:54.532Z"
   },
   {
    "duration": 15,
    "start_time": "2022-07-02T17:40:55.078Z"
   },
   {
    "duration": 41,
    "start_time": "2022-07-02T17:41:16.149Z"
   },
   {
    "duration": 14,
    "start_time": "2022-07-02T17:41:21.255Z"
   },
   {
    "duration": 66,
    "start_time": "2022-07-02T17:42:13.624Z"
   },
   {
    "duration": 4,
    "start_time": "2022-07-02T17:42:14.156Z"
   },
   {
    "duration": 54,
    "start_time": "2022-07-02T17:42:15.369Z"
   },
   {
    "duration": 15,
    "start_time": "2022-07-02T17:42:15.425Z"
   },
   {
    "duration": 6,
    "start_time": "2022-07-02T17:43:35.064Z"
   },
   {
    "duration": 46,
    "start_time": "2022-07-02T17:43:36.783Z"
   },
   {
    "duration": 16,
    "start_time": "2022-07-02T17:43:37.265Z"
   },
   {
    "duration": 4,
    "start_time": "2022-07-02T17:48:56.929Z"
   },
   {
    "duration": 117,
    "start_time": "2022-07-02T17:48:57.517Z"
   },
   {
    "duration": 15,
    "start_time": "2022-07-02T17:48:58.159Z"
   },
   {
    "duration": 4,
    "start_time": "2022-07-02T17:50:27.487Z"
   },
   {
    "duration": 65,
    "start_time": "2022-07-02T17:50:28.009Z"
   },
   {
    "duration": 32,
    "start_time": "2022-07-02T17:50:28.379Z"
   },
   {
    "duration": 3,
    "start_time": "2022-07-02T17:57:56.934Z"
   },
   {
    "duration": 56,
    "start_time": "2022-07-02T17:57:57.678Z"
   },
   {
    "duration": 34,
    "start_time": "2022-07-02T17:57:58.687Z"
   },
   {
    "duration": 29,
    "start_time": "2022-07-02T17:58:09.055Z"
   },
   {
    "duration": 29,
    "start_time": "2022-07-02T17:58:13.229Z"
   },
   {
    "duration": 3,
    "start_time": "2022-07-02T17:59:14.936Z"
   },
   {
    "duration": 56,
    "start_time": "2022-07-02T18:11:03.843Z"
   },
   {
    "duration": 55,
    "start_time": "2022-07-02T18:11:54.795Z"
   },
   {
    "duration": 37,
    "start_time": "2022-07-02T18:14:49.471Z"
   },
   {
    "duration": 6,
    "start_time": "2022-07-02T18:16:04.552Z"
   },
   {
    "duration": 17,
    "start_time": "2022-07-02T18:16:05.223Z"
   },
   {
    "duration": 8,
    "start_time": "2022-07-02T18:26:49.604Z"
   },
   {
    "duration": 9,
    "start_time": "2022-07-02T18:26:50.141Z"
   },
   {
    "duration": 6,
    "start_time": "2022-07-02T18:26:51.214Z"
   },
   {
    "duration": 5,
    "start_time": "2022-07-02T18:26:56.060Z"
   },
   {
    "duration": 8,
    "start_time": "2022-07-02T18:27:06.404Z"
   },
   {
    "duration": 8,
    "start_time": "2022-07-02T18:27:06.715Z"
   },
   {
    "duration": 5,
    "start_time": "2022-07-02T18:27:08.586Z"
   },
   {
    "duration": 4,
    "start_time": "2022-07-02T18:27:22.212Z"
   },
   {
    "duration": 886,
    "start_time": "2022-07-02T18:51:08.634Z"
   },
   {
    "duration": 1085,
    "start_time": "2022-07-02T18:51:25.886Z"
   },
   {
    "duration": 824,
    "start_time": "2022-07-02T18:51:30.522Z"
   },
   {
    "duration": 914,
    "start_time": "2022-07-02T18:52:44.575Z"
   },
   {
    "duration": 904,
    "start_time": "2022-07-02T19:01:48.987Z"
   },
   {
    "duration": 1038,
    "start_time": "2022-07-02T19:54:37.306Z"
   },
   {
    "duration": 379,
    "start_time": "2022-07-02T19:54:38.346Z"
   },
   {
    "duration": 62,
    "start_time": "2022-07-02T19:54:38.726Z"
   },
   {
    "duration": 56,
    "start_time": "2022-07-02T19:54:38.790Z"
   },
   {
    "duration": 8,
    "start_time": "2022-07-02T19:54:38.848Z"
   },
   {
    "duration": 31,
    "start_time": "2022-07-02T19:54:38.858Z"
   },
   {
    "duration": 220,
    "start_time": "2022-07-02T19:54:38.890Z"
   },
   {
    "duration": 389,
    "start_time": "2022-07-02T19:54:39.111Z"
   },
   {
    "duration": 32,
    "start_time": "2022-07-02T19:54:39.501Z"
   },
   {
    "duration": 7,
    "start_time": "2022-07-02T19:54:39.534Z"
   },
   {
    "duration": 62,
    "start_time": "2022-07-02T19:54:39.543Z"
   },
   {
    "duration": 65,
    "start_time": "2022-07-02T19:54:39.607Z"
   },
   {
    "duration": 5,
    "start_time": "2022-07-02T19:54:39.673Z"
   },
   {
    "duration": 26,
    "start_time": "2022-07-02T19:54:39.681Z"
   },
   {
    "duration": 36,
    "start_time": "2022-07-02T19:54:39.709Z"
   },
   {
    "duration": 22,
    "start_time": "2022-07-02T19:54:39.746Z"
   },
   {
    "duration": 10,
    "start_time": "2022-07-02T19:54:39.770Z"
   },
   {
    "duration": 13,
    "start_time": "2022-07-02T19:54:39.781Z"
   },
   {
    "duration": 34,
    "start_time": "2022-07-02T19:54:39.795Z"
   },
   {
    "duration": 14,
    "start_time": "2022-07-02T19:54:39.831Z"
   },
   {
    "duration": 19,
    "start_time": "2022-07-02T19:54:39.846Z"
   },
   {
    "duration": 22,
    "start_time": "2022-07-02T19:54:39.866Z"
   },
   {
    "duration": 4,
    "start_time": "2022-07-02T19:54:39.889Z"
   },
   {
    "duration": 35,
    "start_time": "2022-07-02T19:54:39.895Z"
   },
   {
    "duration": 9,
    "start_time": "2022-07-02T19:54:39.931Z"
   },
   {
    "duration": 3,
    "start_time": "2022-07-02T19:54:39.942Z"
   },
   {
    "duration": 6,
    "start_time": "2022-07-02T19:54:39.946Z"
   },
   {
    "duration": 7,
    "start_time": "2022-07-02T19:54:39.954Z"
   },
   {
    "duration": 8,
    "start_time": "2022-07-02T19:54:39.962Z"
   },
   {
    "duration": 16,
    "start_time": "2022-07-02T19:54:39.971Z"
   },
   {
    "duration": 5,
    "start_time": "2022-07-02T19:54:39.988Z"
   },
   {
    "duration": 165,
    "start_time": "2022-07-02T19:54:39.995Z"
   },
   {
    "duration": 24,
    "start_time": "2022-07-02T19:54:40.162Z"
   },
   {
    "duration": 3,
    "start_time": "2022-07-02T19:54:40.187Z"
   },
   {
    "duration": 16,
    "start_time": "2022-07-02T19:54:40.192Z"
   },
   {
    "duration": 842,
    "start_time": "2022-07-02T19:54:40.209Z"
   },
   {
    "duration": 43,
    "start_time": "2022-07-02T19:54:41.052Z"
   },
   {
    "duration": 5,
    "start_time": "2022-07-02T19:54:41.097Z"
   },
   {
    "duration": 38,
    "start_time": "2022-07-02T19:54:41.103Z"
   },
   {
    "duration": 19,
    "start_time": "2022-07-02T19:54:41.143Z"
   },
   {
    "duration": 339,
    "start_time": "2022-07-02T19:54:41.166Z"
   },
   {
    "duration": 61,
    "start_time": "2022-07-02T19:54:41.507Z"
   },
   {
    "duration": 4,
    "start_time": "2022-07-02T19:54:41.569Z"
   },
   {
    "duration": 66,
    "start_time": "2022-07-02T19:54:41.574Z"
   },
   {
    "duration": 28,
    "start_time": "2022-07-02T19:54:41.642Z"
   },
   {
    "duration": 5,
    "start_time": "2022-07-02T19:54:41.671Z"
   },
   {
    "duration": 18,
    "start_time": "2022-07-02T19:54:41.677Z"
   },
   {
    "duration": 8,
    "start_time": "2022-07-02T19:54:41.696Z"
   },
   {
    "duration": 24,
    "start_time": "2022-07-02T19:54:41.706Z"
   },
   {
    "duration": 5,
    "start_time": "2022-07-02T19:54:41.731Z"
   },
   {
    "duration": 6,
    "start_time": "2022-07-02T19:54:41.737Z"
   },
   {
    "duration": 13,
    "start_time": "2022-07-02T19:54:41.745Z"
   },
   {
    "duration": 19,
    "start_time": "2022-07-02T19:54:41.759Z"
   },
   {
    "duration": 10,
    "start_time": "2022-07-02T19:54:41.779Z"
   },
   {
    "duration": 8,
    "start_time": "2022-07-02T19:54:41.790Z"
   },
   {
    "duration": 121,
    "start_time": "2022-07-02T19:54:41.800Z"
   },
   {
    "duration": 7,
    "start_time": "2022-07-02T19:54:41.923Z"
   },
   {
    "duration": 7,
    "start_time": "2022-07-02T19:54:41.931Z"
   },
   {
    "duration": 1050,
    "start_time": "2022-07-02T19:54:41.939Z"
   },
   {
    "duration": 161,
    "start_time": "2022-07-02T19:54:42.991Z"
   },
   {
    "duration": 175,
    "start_time": "2022-07-02T19:54:43.155Z"
   },
   {
    "duration": 159,
    "start_time": "2022-07-02T19:54:43.332Z"
   },
   {
    "duration": 52,
    "start_time": "2022-07-02T19:54:43.492Z"
   },
   {
    "duration": 1042,
    "start_time": "2022-07-02T19:56:09.927Z"
   },
   {
    "duration": 380,
    "start_time": "2022-07-02T19:56:10.971Z"
   },
   {
    "duration": 62,
    "start_time": "2022-07-02T19:56:11.353Z"
   },
   {
    "duration": 47,
    "start_time": "2022-07-02T19:56:11.416Z"
   },
   {
    "duration": 6,
    "start_time": "2022-07-02T19:56:11.465Z"
   },
   {
    "duration": 33,
    "start_time": "2022-07-02T19:56:11.472Z"
   },
   {
    "duration": 205,
    "start_time": "2022-07-02T19:56:11.506Z"
   },
   {
    "duration": 395,
    "start_time": "2022-07-02T19:56:11.712Z"
   },
   {
    "duration": 32,
    "start_time": "2022-07-02T19:56:12.109Z"
   },
   {
    "duration": 8,
    "start_time": "2022-07-02T19:56:12.142Z"
   },
   {
    "duration": 77,
    "start_time": "2022-07-02T19:56:12.152Z"
   },
   {
    "duration": 46,
    "start_time": "2022-07-02T19:56:12.231Z"
   },
   {
    "duration": 5,
    "start_time": "2022-07-02T19:56:12.278Z"
   },
   {
    "duration": 44,
    "start_time": "2022-07-02T19:56:12.285Z"
   },
   {
    "duration": 23,
    "start_time": "2022-07-02T19:56:12.330Z"
   },
   {
    "duration": 21,
    "start_time": "2022-07-02T19:56:12.354Z"
   },
   {
    "duration": 10,
    "start_time": "2022-07-02T19:56:12.377Z"
   },
   {
    "duration": 14,
    "start_time": "2022-07-02T19:56:12.388Z"
   },
   {
    "duration": 30,
    "start_time": "2022-07-02T19:56:12.404Z"
   },
   {
    "duration": 13,
    "start_time": "2022-07-02T19:56:12.435Z"
   },
   {
    "duration": 13,
    "start_time": "2022-07-02T19:56:12.450Z"
   },
   {
    "duration": 26,
    "start_time": "2022-07-02T19:56:12.464Z"
   },
   {
    "duration": 4,
    "start_time": "2022-07-02T19:56:12.492Z"
   },
   {
    "duration": 41,
    "start_time": "2022-07-02T19:56:12.498Z"
   },
   {
    "duration": 10,
    "start_time": "2022-07-02T19:56:12.541Z"
   },
   {
    "duration": 3,
    "start_time": "2022-07-02T19:56:12.553Z"
   },
   {
    "duration": 6,
    "start_time": "2022-07-02T19:56:12.558Z"
   },
   {
    "duration": 5,
    "start_time": "2022-07-02T19:56:12.566Z"
   },
   {
    "duration": 7,
    "start_time": "2022-07-02T19:56:12.572Z"
   },
   {
    "duration": 15,
    "start_time": "2022-07-02T19:56:12.581Z"
   },
   {
    "duration": 32,
    "start_time": "2022-07-02T19:56:12.597Z"
   },
   {
    "duration": 142,
    "start_time": "2022-07-02T19:56:12.630Z"
   },
   {
    "duration": 25,
    "start_time": "2022-07-02T19:56:12.773Z"
   },
   {
    "duration": 3,
    "start_time": "2022-07-02T19:56:12.799Z"
   },
   {
    "duration": 26,
    "start_time": "2022-07-02T19:56:12.803Z"
   },
   {
    "duration": 822,
    "start_time": "2022-07-02T19:56:12.831Z"
   },
   {
    "duration": 47,
    "start_time": "2022-07-02T19:56:13.655Z"
   },
   {
    "duration": 6,
    "start_time": "2022-07-02T19:56:13.703Z"
   },
   {
    "duration": 35,
    "start_time": "2022-07-02T19:56:13.711Z"
   },
   {
    "duration": 21,
    "start_time": "2022-07-02T19:56:13.748Z"
   },
   {
    "duration": 361,
    "start_time": "2022-07-02T19:56:13.773Z"
   },
   {
    "duration": 54,
    "start_time": "2022-07-02T19:56:14.136Z"
   },
   {
    "duration": 4,
    "start_time": "2022-07-02T19:56:14.191Z"
   },
   {
    "duration": 75,
    "start_time": "2022-07-02T19:56:14.196Z"
   },
   {
    "duration": 28,
    "start_time": "2022-07-02T19:56:14.272Z"
   },
   {
    "duration": 5,
    "start_time": "2022-07-02T19:56:14.301Z"
   },
   {
    "duration": 33,
    "start_time": "2022-07-02T19:56:14.307Z"
   },
   {
    "duration": 7,
    "start_time": "2022-07-02T19:56:14.341Z"
   },
   {
    "duration": 6,
    "start_time": "2022-07-02T19:56:14.350Z"
   },
   {
    "duration": 5,
    "start_time": "2022-07-02T19:56:14.357Z"
   },
   {
    "duration": 4,
    "start_time": "2022-07-02T19:56:14.364Z"
   },
   {
    "duration": 8,
    "start_time": "2022-07-02T19:56:14.370Z"
   },
   {
    "duration": 7,
    "start_time": "2022-07-02T19:56:14.379Z"
   },
   {
    "duration": 6,
    "start_time": "2022-07-02T19:56:14.387Z"
   },
   {
    "duration": 5,
    "start_time": "2022-07-02T19:56:14.395Z"
   },
   {
    "duration": 123,
    "start_time": "2022-07-02T19:56:14.428Z"
   },
   {
    "duration": 3,
    "start_time": "2022-07-02T19:56:14.553Z"
   },
   {
    "duration": 14,
    "start_time": "2022-07-02T19:56:14.558Z"
   },
   {
    "duration": 1194,
    "start_time": "2022-07-02T19:56:14.573Z"
   },
   {
    "duration": 166,
    "start_time": "2022-07-02T19:56:15.769Z"
   },
   {
    "duration": 162,
    "start_time": "2022-07-02T19:56:15.937Z"
   },
   {
    "duration": 207,
    "start_time": "2022-07-02T19:56:16.101Z"
   },
   {
    "duration": 55,
    "start_time": "2022-07-02T19:56:16.310Z"
   },
   {
    "duration": 68,
    "start_time": "2022-07-03T06:34:54.446Z"
   },
   {
    "duration": 1191,
    "start_time": "2022-07-03T06:36:58.593Z"
   },
   {
    "duration": 809,
    "start_time": "2022-07-03T06:36:59.794Z"
   },
   {
    "duration": 80,
    "start_time": "2022-07-03T06:37:00.604Z"
   },
   {
    "duration": 43,
    "start_time": "2022-07-03T06:37:00.685Z"
   },
   {
    "duration": 7,
    "start_time": "2022-07-03T06:37:00.730Z"
   },
   {
    "duration": 49,
    "start_time": "2022-07-03T06:37:00.739Z"
   },
   {
    "duration": 263,
    "start_time": "2022-07-03T06:37:00.789Z"
   },
   {
    "duration": 550,
    "start_time": "2022-07-03T06:37:01.053Z"
   },
   {
    "duration": 23,
    "start_time": "2022-07-03T06:37:01.605Z"
   },
   {
    "duration": 21,
    "start_time": "2022-07-03T06:37:01.630Z"
   },
   {
    "duration": 117,
    "start_time": "2022-07-03T06:37:01.655Z"
   },
   {
    "duration": 51,
    "start_time": "2022-07-03T06:37:01.776Z"
   },
   {
    "duration": 5,
    "start_time": "2022-07-03T06:37:01.829Z"
   },
   {
    "duration": 47,
    "start_time": "2022-07-03T06:37:01.838Z"
   },
   {
    "duration": 44,
    "start_time": "2022-07-03T06:37:01.887Z"
   },
   {
    "duration": 26,
    "start_time": "2022-07-03T06:37:01.933Z"
   },
   {
    "duration": 43,
    "start_time": "2022-07-03T06:37:01.960Z"
   },
   {
    "duration": 13,
    "start_time": "2022-07-03T06:37:02.005Z"
   },
   {
    "duration": 14,
    "start_time": "2022-07-03T06:37:02.020Z"
   },
   {
    "duration": 33,
    "start_time": "2022-07-03T06:37:02.035Z"
   },
   {
    "duration": 38,
    "start_time": "2022-07-03T06:37:02.070Z"
   },
   {
    "duration": 28,
    "start_time": "2022-07-03T06:37:02.109Z"
   },
   {
    "duration": 5,
    "start_time": "2022-07-03T06:37:02.139Z"
   },
   {
    "duration": 77,
    "start_time": "2022-07-03T06:37:02.145Z"
   },
   {
    "duration": 17,
    "start_time": "2022-07-03T06:37:02.224Z"
   },
   {
    "duration": 3,
    "start_time": "2022-07-03T06:37:02.243Z"
   },
   {
    "duration": 43,
    "start_time": "2022-07-03T06:37:02.248Z"
   },
   {
    "duration": 8,
    "start_time": "2022-07-03T06:37:02.293Z"
   },
   {
    "duration": 25,
    "start_time": "2022-07-03T06:37:02.303Z"
   },
   {
    "duration": 34,
    "start_time": "2022-07-03T06:37:02.329Z"
   },
   {
    "duration": 28,
    "start_time": "2022-07-03T06:37:02.367Z"
   },
   {
    "duration": 168,
    "start_time": "2022-07-03T06:37:02.397Z"
   },
   {
    "duration": 37,
    "start_time": "2022-07-03T06:37:02.569Z"
   },
   {
    "duration": 5,
    "start_time": "2022-07-03T06:37:02.608Z"
   },
   {
    "duration": 31,
    "start_time": "2022-07-03T06:37:02.615Z"
   },
   {
    "duration": 1136,
    "start_time": "2022-07-03T06:37:02.648Z"
   },
   {
    "duration": 66,
    "start_time": "2022-07-03T06:37:03.790Z"
   },
   {
    "duration": 7,
    "start_time": "2022-07-03T06:37:03.862Z"
   },
   {
    "duration": 46,
    "start_time": "2022-07-03T06:37:03.870Z"
   },
   {
    "duration": 31,
    "start_time": "2022-07-03T06:37:03.918Z"
   },
   {
    "duration": 418,
    "start_time": "2022-07-03T06:37:03.953Z"
   },
   {
    "duration": 88,
    "start_time": "2022-07-03T06:37:04.374Z"
   },
   {
    "duration": 9,
    "start_time": "2022-07-03T06:37:04.466Z"
   },
   {
    "duration": 120,
    "start_time": "2022-07-03T06:37:04.477Z"
   },
   {
    "duration": 43,
    "start_time": "2022-07-03T06:37:04.599Z"
   },
   {
    "duration": 7,
    "start_time": "2022-07-03T06:37:04.644Z"
   },
   {
    "duration": 63,
    "start_time": "2022-07-03T06:37:04.653Z"
   },
   {
    "duration": 13,
    "start_time": "2022-07-03T06:37:04.720Z"
   },
   {
    "duration": 8,
    "start_time": "2022-07-03T06:37:04.734Z"
   },
   {
    "duration": 44,
    "start_time": "2022-07-03T06:37:04.744Z"
   },
   {
    "duration": 6,
    "start_time": "2022-07-03T06:37:04.789Z"
   },
   {
    "duration": 7,
    "start_time": "2022-07-03T06:37:04.796Z"
   },
   {
    "duration": 11,
    "start_time": "2022-07-03T06:37:04.804Z"
   },
   {
    "duration": 7,
    "start_time": "2022-07-03T06:37:04.817Z"
   },
   {
    "duration": 9,
    "start_time": "2022-07-03T06:37:04.825Z"
   },
   {
    "duration": 8,
    "start_time": "2022-07-03T06:37:04.836Z"
   },
   {
    "duration": 157,
    "start_time": "2022-07-03T06:37:04.845Z"
   },
   {
    "duration": 4,
    "start_time": "2022-07-03T06:37:05.004Z"
   },
   {
    "duration": 7,
    "start_time": "2022-07-03T06:37:05.009Z"
   },
   {
    "duration": 1176,
    "start_time": "2022-07-03T06:37:05.018Z"
   },
   {
    "duration": 214,
    "start_time": "2022-07-03T06:37:06.197Z"
   },
   {
    "duration": 209,
    "start_time": "2022-07-03T06:37:06.413Z"
   },
   {
    "duration": 201,
    "start_time": "2022-07-03T06:37:06.625Z"
   },
   {
    "duration": 51,
    "start_time": "2022-07-03T06:37:06.828Z"
   },
   {
    "duration": 54,
    "start_time": "2022-07-03T08:28:10.090Z"
   },
   {
    "duration": 1316,
    "start_time": "2022-07-03T08:28:22.895Z"
   },
   {
    "duration": 795,
    "start_time": "2022-07-03T08:28:24.214Z"
   },
   {
    "duration": 83,
    "start_time": "2022-07-03T08:28:25.010Z"
   },
   {
    "duration": 81,
    "start_time": "2022-07-03T08:28:25.095Z"
   },
   {
    "duration": 13,
    "start_time": "2022-07-03T08:28:25.179Z"
   },
   {
    "duration": 67,
    "start_time": "2022-07-03T08:28:25.196Z"
   },
   {
    "duration": 270,
    "start_time": "2022-07-03T08:28:25.265Z"
   },
   {
    "duration": 529,
    "start_time": "2022-07-03T08:28:25.537Z"
   },
   {
    "duration": 28,
    "start_time": "2022-07-03T08:28:26.069Z"
   },
   {
    "duration": 37,
    "start_time": "2022-07-03T08:28:26.099Z"
   },
   {
    "duration": 78,
    "start_time": "2022-07-03T08:28:26.141Z"
   },
   {
    "duration": 53,
    "start_time": "2022-07-03T08:28:26.221Z"
   },
   {
    "duration": 4,
    "start_time": "2022-07-03T08:28:26.276Z"
   },
   {
    "duration": 51,
    "start_time": "2022-07-03T08:28:26.285Z"
   },
   {
    "duration": 34,
    "start_time": "2022-07-03T08:28:26.343Z"
   },
   {
    "duration": 24,
    "start_time": "2022-07-03T08:28:26.378Z"
   },
   {
    "duration": 23,
    "start_time": "2022-07-03T08:28:26.404Z"
   },
   {
    "duration": 19,
    "start_time": "2022-07-03T08:28:26.434Z"
   },
   {
    "duration": 9,
    "start_time": "2022-07-03T08:28:26.455Z"
   },
   {
    "duration": 16,
    "start_time": "2022-07-03T08:28:26.466Z"
   },
   {
    "duration": 21,
    "start_time": "2022-07-03T08:28:26.484Z"
   },
   {
    "duration": 50,
    "start_time": "2022-07-03T08:28:26.507Z"
   },
   {
    "duration": 4,
    "start_time": "2022-07-03T08:28:26.559Z"
   },
   {
    "duration": 21,
    "start_time": "2022-07-03T08:28:26.565Z"
   },
   {
    "duration": 13,
    "start_time": "2022-07-03T08:28:26.587Z"
   },
   {
    "duration": 4,
    "start_time": "2022-07-03T08:28:26.601Z"
   },
   {
    "duration": 27,
    "start_time": "2022-07-03T08:28:26.607Z"
   },
   {
    "duration": 7,
    "start_time": "2022-07-03T08:28:26.635Z"
   },
   {
    "duration": 14,
    "start_time": "2022-07-03T08:28:26.643Z"
   },
   {
    "duration": 17,
    "start_time": "2022-07-03T08:28:26.659Z"
   },
   {
    "duration": 11,
    "start_time": "2022-07-03T08:28:26.678Z"
   },
   {
    "duration": 154,
    "start_time": "2022-07-03T08:28:26.691Z"
   },
   {
    "duration": 26,
    "start_time": "2022-07-03T08:28:26.846Z"
   },
   {
    "duration": 3,
    "start_time": "2022-07-03T08:28:26.874Z"
   },
   {
    "duration": 11,
    "start_time": "2022-07-03T08:28:26.879Z"
   },
   {
    "duration": 961,
    "start_time": "2022-07-03T08:28:26.891Z"
   },
   {
    "duration": 45,
    "start_time": "2022-07-03T08:28:27.854Z"
   },
   {
    "duration": 26,
    "start_time": "2022-07-03T08:28:27.901Z"
   },
   {
    "duration": 34,
    "start_time": "2022-07-03T08:28:27.929Z"
   },
   {
    "duration": 21,
    "start_time": "2022-07-03T08:28:27.965Z"
   },
   {
    "duration": 383,
    "start_time": "2022-07-03T08:28:27.990Z"
   },
   {
    "duration": 71,
    "start_time": "2022-07-03T08:28:28.375Z"
   },
   {
    "duration": 4,
    "start_time": "2022-07-03T08:28:28.447Z"
   },
   {
    "duration": 62,
    "start_time": "2022-07-03T08:28:28.453Z"
   },
   {
    "duration": 48,
    "start_time": "2022-07-03T08:28:28.517Z"
   },
   {
    "duration": 5,
    "start_time": "2022-07-03T08:28:28.567Z"
   },
   {
    "duration": 24,
    "start_time": "2022-07-03T08:28:28.574Z"
   },
   {
    "duration": 10,
    "start_time": "2022-07-03T08:28:28.599Z"
   },
   {
    "duration": 36,
    "start_time": "2022-07-03T08:28:28.611Z"
   },
   {
    "duration": 15,
    "start_time": "2022-07-03T08:28:28.655Z"
   },
   {
    "duration": 17,
    "start_time": "2022-07-03T08:28:28.672Z"
   },
   {
    "duration": 9,
    "start_time": "2022-07-03T08:28:28.691Z"
   },
   {
    "duration": 6,
    "start_time": "2022-07-03T08:28:28.702Z"
   },
   {
    "duration": 5,
    "start_time": "2022-07-03T08:28:28.710Z"
   },
   {
    "duration": 6,
    "start_time": "2022-07-03T08:28:28.717Z"
   },
   {
    "duration": 126,
    "start_time": "2022-07-03T08:28:28.725Z"
   },
   {
    "duration": 0,
    "start_time": "2022-07-03T08:28:28.853Z"
   },
   {
    "duration": 0,
    "start_time": "2022-07-03T08:28:28.855Z"
   },
   {
    "duration": 1,
    "start_time": "2022-07-03T08:28:28.856Z"
   },
   {
    "duration": 0,
    "start_time": "2022-07-03T08:28:28.858Z"
   },
   {
    "duration": 0,
    "start_time": "2022-07-03T08:28:28.860Z"
   },
   {
    "duration": 0,
    "start_time": "2022-07-03T08:28:28.861Z"
   },
   {
    "duration": 0,
    "start_time": "2022-07-03T08:28:28.862Z"
   },
   {
    "duration": 0,
    "start_time": "2022-07-03T08:28:28.864Z"
   },
   {
    "duration": 7,
    "start_time": "2022-07-03T08:28:44.890Z"
   },
   {
    "duration": 10,
    "start_time": "2022-07-03T08:28:53.233Z"
   },
   {
    "duration": 10,
    "start_time": "2022-07-03T09:27:15.136Z"
   },
   {
    "duration": 1169,
    "start_time": "2022-07-03T09:36:16.098Z"
   },
   {
    "duration": 515,
    "start_time": "2022-07-03T09:36:17.269Z"
   },
   {
    "duration": 98,
    "start_time": "2022-07-03T09:36:17.785Z"
   },
   {
    "duration": 86,
    "start_time": "2022-07-03T09:36:17.885Z"
   },
   {
    "duration": 8,
    "start_time": "2022-07-03T09:36:17.975Z"
   },
   {
    "duration": 57,
    "start_time": "2022-07-03T09:36:17.984Z"
   },
   {
    "duration": 301,
    "start_time": "2022-07-03T09:36:18.043Z"
   },
   {
    "duration": 604,
    "start_time": "2022-07-03T09:36:18.346Z"
   },
   {
    "duration": 27,
    "start_time": "2022-07-03T09:36:18.952Z"
   },
   {
    "duration": 16,
    "start_time": "2022-07-03T09:36:18.982Z"
   },
   {
    "duration": 101,
    "start_time": "2022-07-03T09:36:18.999Z"
   },
   {
    "duration": 62,
    "start_time": "2022-07-03T09:36:19.102Z"
   },
   {
    "duration": 7,
    "start_time": "2022-07-03T09:36:19.166Z"
   },
   {
    "duration": 47,
    "start_time": "2022-07-03T09:36:19.175Z"
   },
   {
    "duration": 45,
    "start_time": "2022-07-03T09:36:19.224Z"
   },
   {
    "duration": 37,
    "start_time": "2022-07-03T09:36:19.274Z"
   },
   {
    "duration": 12,
    "start_time": "2022-07-03T09:36:19.313Z"
   },
   {
    "duration": 61,
    "start_time": "2022-07-03T09:36:19.335Z"
   },
   {
    "duration": 9,
    "start_time": "2022-07-03T09:36:19.397Z"
   },
   {
    "duration": 15,
    "start_time": "2022-07-03T09:36:19.408Z"
   },
   {
    "duration": 58,
    "start_time": "2022-07-03T09:36:19.424Z"
   },
   {
    "duration": 28,
    "start_time": "2022-07-03T09:36:19.484Z"
   },
   {
    "duration": 4,
    "start_time": "2022-07-03T09:36:19.514Z"
   },
   {
    "duration": 57,
    "start_time": "2022-07-03T09:36:19.520Z"
   },
   {
    "duration": 11,
    "start_time": "2022-07-03T09:36:19.579Z"
   },
   {
    "duration": 4,
    "start_time": "2022-07-03T09:36:19.591Z"
   },
   {
    "duration": 8,
    "start_time": "2022-07-03T09:36:19.597Z"
   },
   {
    "duration": 5,
    "start_time": "2022-07-03T09:36:19.609Z"
   },
   {
    "duration": 6,
    "start_time": "2022-07-03T09:36:19.616Z"
   },
   {
    "duration": 35,
    "start_time": "2022-07-03T09:36:19.623Z"
   },
   {
    "duration": 19,
    "start_time": "2022-07-03T09:36:19.660Z"
   },
   {
    "duration": 190,
    "start_time": "2022-07-03T09:36:19.680Z"
   },
   {
    "duration": 24,
    "start_time": "2022-07-03T09:36:19.877Z"
   },
   {
    "duration": 4,
    "start_time": "2022-07-03T09:36:19.903Z"
   },
   {
    "duration": 13,
    "start_time": "2022-07-03T09:36:19.909Z"
   },
   {
    "duration": 1139,
    "start_time": "2022-07-03T09:36:19.924Z"
   },
   {
    "duration": 48,
    "start_time": "2022-07-03T09:36:21.068Z"
   },
   {
    "duration": 34,
    "start_time": "2022-07-03T09:36:21.117Z"
   },
   {
    "duration": 38,
    "start_time": "2022-07-03T09:36:21.158Z"
   },
   {
    "duration": 23,
    "start_time": "2022-07-03T09:36:21.197Z"
   },
   {
    "duration": 474,
    "start_time": "2022-07-03T09:36:21.221Z"
   },
   {
    "duration": 95,
    "start_time": "2022-07-03T09:36:21.698Z"
   },
   {
    "duration": 5,
    "start_time": "2022-07-03T09:36:21.795Z"
   },
   {
    "duration": 110,
    "start_time": "2022-07-03T09:36:21.802Z"
   },
   {
    "duration": 51,
    "start_time": "2022-07-03T09:36:21.915Z"
   },
   {
    "duration": 15,
    "start_time": "2022-07-03T09:36:21.968Z"
   },
   {
    "duration": 31,
    "start_time": "2022-07-03T09:36:21.985Z"
   },
   {
    "duration": 14,
    "start_time": "2022-07-03T09:36:22.017Z"
   },
   {
    "duration": 41,
    "start_time": "2022-07-03T09:36:22.043Z"
   },
   {
    "duration": 9,
    "start_time": "2022-07-03T09:36:22.086Z"
   },
   {
    "duration": 6,
    "start_time": "2022-07-03T09:36:22.096Z"
   },
   {
    "duration": 8,
    "start_time": "2022-07-03T09:36:22.104Z"
   },
   {
    "duration": 8,
    "start_time": "2022-07-03T09:36:22.114Z"
   },
   {
    "duration": 22,
    "start_time": "2022-07-03T09:36:22.123Z"
   },
   {
    "duration": 22,
    "start_time": "2022-07-03T09:36:22.155Z"
   },
   {
    "duration": 6,
    "start_time": "2022-07-03T09:36:22.179Z"
   },
   {
    "duration": 183,
    "start_time": "2022-07-03T09:36:22.186Z"
   },
   {
    "duration": 5,
    "start_time": "2022-07-03T09:36:22.370Z"
   },
   {
    "duration": 9,
    "start_time": "2022-07-03T09:36:22.378Z"
   },
   {
    "duration": 1229,
    "start_time": "2022-07-03T09:36:22.388Z"
   },
   {
    "duration": 212,
    "start_time": "2022-07-03T09:36:23.618Z"
   },
   {
    "duration": 241,
    "start_time": "2022-07-03T09:36:23.838Z"
   },
   {
    "duration": 203,
    "start_time": "2022-07-03T09:36:24.081Z"
   },
   {
    "duration": 37,
    "start_time": "2022-07-03T09:36:24.286Z"
   }
  ],
  "kernelspec": {
   "display_name": "Python 3 (ipykernel)",
   "language": "python",
   "name": "python3"
  },
  "language_info": {
   "codemirror_mode": {
    "name": "ipython",
    "version": 3
   },
   "file_extension": ".py",
   "mimetype": "text/x-python",
   "name": "python",
   "nbconvert_exporter": "python",
   "pygments_lexer": "ipython3",
   "version": "3.9.12"
  },
  "toc": {
   "base_numbering": 1,
   "nav_menu": {},
   "number_sections": true,
   "sideBar": true,
   "skip_h1_title": true,
   "title_cell": "Table of Contents",
   "title_sidebar": "Contents",
   "toc_cell": false,
   "toc_position": {
    "height": "calc(100% - 180px)",
    "left": "10px",
    "top": "150px",
    "width": "236.4px"
   },
   "toc_section_display": true,
   "toc_window_display": false
  },
  "vscode": {
   "interpreter": {
    "hash": "e42901d9492c612649bfe5bc45fcd722e20e946cf8622850b2a92552b6453078"
   }
  }
 },
 "nbformat": 4,
 "nbformat_minor": 2
}
